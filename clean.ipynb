{
 "cells": [
  {
   "cell_type": "code",
   "execution_count": 1,
   "metadata": {},
   "outputs": [],
   "source": [
    "import pandas as pd\n",
    "import numpy as np"
   ]
  },
  {
   "cell_type": "markdown",
   "metadata": {},
   "source": [
    "## Incidencia Municipal 2011-2015"
   ]
  },
  {
   "cell_type": "code",
   "execution_count": 2,
   "metadata": {},
   "outputs": [
    {
     "data": {
      "text/html": [
       "<div>\n",
       "<style scoped>\n",
       "    .dataframe tbody tr th:only-of-type {\n",
       "        vertical-align: middle;\n",
       "    }\n",
       "\n",
       "    .dataframe tbody tr th {\n",
       "        vertical-align: top;\n",
       "    }\n",
       "\n",
       "    .dataframe thead th {\n",
       "        text-align: right;\n",
       "    }\n",
       "</style>\n",
       "<table border=\"1\" class=\"dataframe\">\n",
       "  <thead>\n",
       "    <tr style=\"text-align: right;\">\n",
       "      <th></th>\n",
       "      <th>AÑO</th>\n",
       "      <th>INEGI</th>\n",
       "      <th>ENTIDAD</th>\n",
       "      <th>MUNICIPIO</th>\n",
       "      <th>MODALIDAD</th>\n",
       "      <th>TIPO</th>\n",
       "      <th>SUBTIPO</th>\n",
       "      <th>ENERO</th>\n",
       "      <th>FEBRERO</th>\n",
       "      <th>MARZO</th>\n",
       "      <th>ABRIL</th>\n",
       "      <th>MAYO</th>\n",
       "      <th>JUNIO</th>\n",
       "      <th>JULIO</th>\n",
       "      <th>AGOSTO</th>\n",
       "      <th>SEPTIEMBRE</th>\n",
       "      <th>OCTUBRE</th>\n",
       "      <th>NOVIEMBRE</th>\n",
       "      <th>DICIEMBRE</th>\n",
       "    </tr>\n",
       "  </thead>\n",
       "  <tbody>\n",
       "    <tr>\n",
       "      <th>0</th>\n",
       "      <td>2011</td>\n",
       "      <td>1001</td>\n",
       "      <td>AGUASCALIENTES</td>\n",
       "      <td>AGUASCALIENTES</td>\n",
       "      <td>DELITOS PATRIMONIALES</td>\n",
       "      <td>ABUSO DE CONFIANZA</td>\n",
       "      <td>ABUSO DE CONFIANZA</td>\n",
       "      <td>45.0</td>\n",
       "      <td>43.0</td>\n",
       "      <td>34.0</td>\n",
       "      <td>22.0</td>\n",
       "      <td>36.0</td>\n",
       "      <td>43.0</td>\n",
       "      <td>37.0</td>\n",
       "      <td>38.0</td>\n",
       "      <td>37.0</td>\n",
       "      <td>35.0</td>\n",
       "      <td>32.0</td>\n",
       "      <td>28.0</td>\n",
       "    </tr>\n",
       "    <tr>\n",
       "      <th>1</th>\n",
       "      <td>2011</td>\n",
       "      <td>1001</td>\n",
       "      <td>AGUASCALIENTES</td>\n",
       "      <td>AGUASCALIENTES</td>\n",
       "      <td>DELITOS PATRIMONIALES</td>\n",
       "      <td>DAÑO EN PROPIEDAD AJENA</td>\n",
       "      <td>DAÑO EN PROPIEDAD AJENA</td>\n",
       "      <td>164.0</td>\n",
       "      <td>177.0</td>\n",
       "      <td>160.0</td>\n",
       "      <td>179.0</td>\n",
       "      <td>167.0</td>\n",
       "      <td>149.0</td>\n",
       "      <td>150.0</td>\n",
       "      <td>144.0</td>\n",
       "      <td>171.0</td>\n",
       "      <td>144.0</td>\n",
       "      <td>134.0</td>\n",
       "      <td>173.0</td>\n",
       "    </tr>\n",
       "    <tr>\n",
       "      <th>2</th>\n",
       "      <td>2011</td>\n",
       "      <td>1001</td>\n",
       "      <td>AGUASCALIENTES</td>\n",
       "      <td>AGUASCALIENTES</td>\n",
       "      <td>DELITOS PATRIMONIALES</td>\n",
       "      <td>EXTORSION</td>\n",
       "      <td>EXTORSION</td>\n",
       "      <td>10.0</td>\n",
       "      <td>24.0</td>\n",
       "      <td>9.0</td>\n",
       "      <td>7.0</td>\n",
       "      <td>8.0</td>\n",
       "      <td>9.0</td>\n",
       "      <td>9.0</td>\n",
       "      <td>1.0</td>\n",
       "      <td>7.0</td>\n",
       "      <td>6.0</td>\n",
       "      <td>4.0</td>\n",
       "      <td>5.0</td>\n",
       "    </tr>\n",
       "    <tr>\n",
       "      <th>3</th>\n",
       "      <td>2011</td>\n",
       "      <td>1001</td>\n",
       "      <td>AGUASCALIENTES</td>\n",
       "      <td>AGUASCALIENTES</td>\n",
       "      <td>DELITOS PATRIMONIALES</td>\n",
       "      <td>FRAUDE</td>\n",
       "      <td>FRAUDE</td>\n",
       "      <td>54.0</td>\n",
       "      <td>29.0</td>\n",
       "      <td>37.0</td>\n",
       "      <td>37.0</td>\n",
       "      <td>53.0</td>\n",
       "      <td>37.0</td>\n",
       "      <td>44.0</td>\n",
       "      <td>36.0</td>\n",
       "      <td>27.0</td>\n",
       "      <td>20.0</td>\n",
       "      <td>38.0</td>\n",
       "      <td>32.0</td>\n",
       "    </tr>\n",
       "    <tr>\n",
       "      <th>4</th>\n",
       "      <td>2011</td>\n",
       "      <td>1001</td>\n",
       "      <td>AGUASCALIENTES</td>\n",
       "      <td>AGUASCALIENTES</td>\n",
       "      <td>DELITOS PATRIMONIALES</td>\n",
       "      <td>DESPOJO</td>\n",
       "      <td>CON VIOLENCIA</td>\n",
       "      <td>0.0</td>\n",
       "      <td>0.0</td>\n",
       "      <td>0.0</td>\n",
       "      <td>0.0</td>\n",
       "      <td>0.0</td>\n",
       "      <td>0.0</td>\n",
       "      <td>0.0</td>\n",
       "      <td>0.0</td>\n",
       "      <td>0.0</td>\n",
       "      <td>0.0</td>\n",
       "      <td>0.0</td>\n",
       "      <td>0.0</td>\n",
       "    </tr>\n",
       "  </tbody>\n",
       "</table>\n",
       "</div>"
      ],
      "text/plain": [
       "    AÑO  INEGI         ENTIDAD       MUNICIPIO              MODALIDAD  \\\n",
       "0  2011   1001  AGUASCALIENTES  AGUASCALIENTES  DELITOS PATRIMONIALES   \n",
       "1  2011   1001  AGUASCALIENTES  AGUASCALIENTES  DELITOS PATRIMONIALES   \n",
       "2  2011   1001  AGUASCALIENTES  AGUASCALIENTES  DELITOS PATRIMONIALES   \n",
       "3  2011   1001  AGUASCALIENTES  AGUASCALIENTES  DELITOS PATRIMONIALES   \n",
       "4  2011   1001  AGUASCALIENTES  AGUASCALIENTES  DELITOS PATRIMONIALES   \n",
       "\n",
       "                      TIPO                  SUBTIPO  ENERO  FEBRERO  MARZO  \\\n",
       "0       ABUSO DE CONFIANZA       ABUSO DE CONFIANZA   45.0     43.0   34.0   \n",
       "1  DAÑO EN PROPIEDAD AJENA  DAÑO EN PROPIEDAD AJENA  164.0    177.0  160.0   \n",
       "2                EXTORSION                EXTORSION   10.0     24.0    9.0   \n",
       "3                   FRAUDE                   FRAUDE   54.0     29.0   37.0   \n",
       "4                  DESPOJO            CON VIOLENCIA    0.0      0.0    0.0   \n",
       "\n",
       "   ABRIL   MAYO  JUNIO  JULIO  AGOSTO  SEPTIEMBRE  OCTUBRE  NOVIEMBRE  \\\n",
       "0   22.0   36.0   43.0   37.0    38.0        37.0     35.0       32.0   \n",
       "1  179.0  167.0  149.0  150.0   144.0       171.0    144.0      134.0   \n",
       "2    7.0    8.0    9.0    9.0     1.0         7.0      6.0        4.0   \n",
       "3   37.0   53.0   37.0   44.0    36.0        27.0     20.0       38.0   \n",
       "4    0.0    0.0    0.0    0.0     0.0         0.0      0.0        0.0   \n",
       "\n",
       "   DICIEMBRE  \n",
       "0       28.0  \n",
       "1      173.0  \n",
       "2        5.0  \n",
       "3       32.0  \n",
       "4        0.0  "
      ]
     },
     "execution_count": 2,
     "metadata": {},
     "output_type": "execute_result"
    }
   ],
   "source": [
    "df_path = \"Incidencia municipal 2011 - 2017 may18.csv\"\n",
    "df = pd.read_csv(df_path)\n",
    "df.head()"
   ]
  },
  {
   "cell_type": "code",
   "execution_count": 3,
   "metadata": {},
   "outputs": [
    {
     "name": "stdout",
     "output_type": "stream",
     "text": [
      "<class 'pandas.core.frame.DataFrame'>\n",
      "RangeIndex: 853776 entries, 0 to 853775\n",
      "Data columns (total 19 columns):\n",
      "AÑO           853776 non-null int64\n",
      "INEGI         853776 non-null int64\n",
      "ENTIDAD       853776 non-null object\n",
      "MUNICIPIO     853776 non-null object\n",
      "MODALIDAD     853776 non-null object\n",
      "TIPO          853776 non-null object\n",
      "SUBTIPO       853776 non-null object\n",
      "ENERO         690021 non-null float64\n",
      "FEBRERO       690767 non-null float64\n",
      "MARZO         693443 non-null float64\n",
      "ABRIL         692343 non-null float64\n",
      "MAYO          687233 non-null float64\n",
      "JUNIO         690688 non-null float64\n",
      "JULIO         689775 non-null float64\n",
      "AGOSTO        688158 non-null float64\n",
      "SEPTIEMBRE    699169 non-null float64\n",
      "OCTUBRE       699359 non-null float64\n",
      "NOVIEMBRE     699862 non-null float64\n",
      "DICIEMBRE     686471 non-null float64\n",
      "dtypes: float64(12), int64(2), object(5)\n",
      "memory usage: 123.8+ MB\n"
     ]
    }
   ],
   "source": [
    "df.info()"
   ]
  },
  {
   "cell_type": "code",
   "execution_count": 4,
   "metadata": {},
   "outputs": [
    {
     "data": {
      "text/plain": [
       "True"
      ]
     },
     "execution_count": 4,
     "metadata": {},
     "output_type": "execute_result"
    }
   ],
   "source": [
    "df.isnull().any().any()"
   ]
  },
  {
   "cell_type": "code",
   "execution_count": 5,
   "metadata": {},
   "outputs": [
    {
     "data": {
      "text/plain": [
       "['ENERO',\n",
       " 'FEBRERO',\n",
       " 'MARZO',\n",
       " 'ABRIL',\n",
       " 'MAYO',\n",
       " 'JUNIO',\n",
       " 'JULIO',\n",
       " 'AGOSTO',\n",
       " 'SEPTIEMBRE',\n",
       " 'OCTUBRE',\n",
       " 'NOVIEMBRE',\n",
       " 'DICIEMBRE']"
      ]
     },
     "execution_count": 5,
     "metadata": {},
     "output_type": "execute_result"
    }
   ],
   "source": [
    "list_columns_null = df.columns[df.isnull().any()].tolist()\n",
    "list_columns_null"
   ]
  },
  {
   "cell_type": "code",
   "execution_count": 6,
   "metadata": {},
   "outputs": [
    {
     "data": {
      "text/html": [
       "<div>\n",
       "<style scoped>\n",
       "    .dataframe tbody tr th:only-of-type {\n",
       "        vertical-align: middle;\n",
       "    }\n",
       "\n",
       "    .dataframe tbody tr th {\n",
       "        vertical-align: top;\n",
       "    }\n",
       "\n",
       "    .dataframe thead th {\n",
       "        text-align: right;\n",
       "    }\n",
       "</style>\n",
       "<table border=\"1\" class=\"dataframe\">\n",
       "  <thead>\n",
       "    <tr style=\"text-align: right;\">\n",
       "      <th></th>\n",
       "      <th>ENERO</th>\n",
       "      <th>FEBRERO</th>\n",
       "      <th>MARZO</th>\n",
       "      <th>ABRIL</th>\n",
       "      <th>MAYO</th>\n",
       "      <th>JUNIO</th>\n",
       "      <th>JULIO</th>\n",
       "      <th>AGOSTO</th>\n",
       "      <th>SEPTIEMBRE</th>\n",
       "      <th>OCTUBRE</th>\n",
       "      <th>NOVIEMBRE</th>\n",
       "      <th>DICIEMBRE</th>\n",
       "    </tr>\n",
       "  </thead>\n",
       "  <tbody>\n",
       "    <tr>\n",
       "      <th>0</th>\n",
       "      <td>45.0</td>\n",
       "      <td>43.0</td>\n",
       "      <td>34.0</td>\n",
       "      <td>22.0</td>\n",
       "      <td>36.0</td>\n",
       "      <td>43.0</td>\n",
       "      <td>37.0</td>\n",
       "      <td>38.0</td>\n",
       "      <td>37.0</td>\n",
       "      <td>35.0</td>\n",
       "      <td>32.0</td>\n",
       "      <td>28.0</td>\n",
       "    </tr>\n",
       "    <tr>\n",
       "      <th>1</th>\n",
       "      <td>164.0</td>\n",
       "      <td>177.0</td>\n",
       "      <td>160.0</td>\n",
       "      <td>179.0</td>\n",
       "      <td>167.0</td>\n",
       "      <td>149.0</td>\n",
       "      <td>150.0</td>\n",
       "      <td>144.0</td>\n",
       "      <td>171.0</td>\n",
       "      <td>144.0</td>\n",
       "      <td>134.0</td>\n",
       "      <td>173.0</td>\n",
       "    </tr>\n",
       "    <tr>\n",
       "      <th>2</th>\n",
       "      <td>10.0</td>\n",
       "      <td>24.0</td>\n",
       "      <td>9.0</td>\n",
       "      <td>7.0</td>\n",
       "      <td>8.0</td>\n",
       "      <td>9.0</td>\n",
       "      <td>9.0</td>\n",
       "      <td>1.0</td>\n",
       "      <td>7.0</td>\n",
       "      <td>6.0</td>\n",
       "      <td>4.0</td>\n",
       "      <td>5.0</td>\n",
       "    </tr>\n",
       "    <tr>\n",
       "      <th>3</th>\n",
       "      <td>54.0</td>\n",
       "      <td>29.0</td>\n",
       "      <td>37.0</td>\n",
       "      <td>37.0</td>\n",
       "      <td>53.0</td>\n",
       "      <td>37.0</td>\n",
       "      <td>44.0</td>\n",
       "      <td>36.0</td>\n",
       "      <td>27.0</td>\n",
       "      <td>20.0</td>\n",
       "      <td>38.0</td>\n",
       "      <td>32.0</td>\n",
       "    </tr>\n",
       "    <tr>\n",
       "      <th>4</th>\n",
       "      <td>0.0</td>\n",
       "      <td>0.0</td>\n",
       "      <td>0.0</td>\n",
       "      <td>0.0</td>\n",
       "      <td>0.0</td>\n",
       "      <td>0.0</td>\n",
       "      <td>0.0</td>\n",
       "      <td>0.0</td>\n",
       "      <td>0.0</td>\n",
       "      <td>0.0</td>\n",
       "      <td>0.0</td>\n",
       "      <td>0.0</td>\n",
       "    </tr>\n",
       "  </tbody>\n",
       "</table>\n",
       "</div>"
      ],
      "text/plain": [
       "   ENERO  FEBRERO  MARZO  ABRIL   MAYO  JUNIO  JULIO  AGOSTO  SEPTIEMBRE  \\\n",
       "0   45.0     43.0   34.0   22.0   36.0   43.0   37.0    38.0        37.0   \n",
       "1  164.0    177.0  160.0  179.0  167.0  149.0  150.0   144.0       171.0   \n",
       "2   10.0     24.0    9.0    7.0    8.0    9.0    9.0     1.0         7.0   \n",
       "3   54.0     29.0   37.0   37.0   53.0   37.0   44.0    36.0        27.0   \n",
       "4    0.0      0.0    0.0    0.0    0.0    0.0    0.0     0.0         0.0   \n",
       "\n",
       "   OCTUBRE  NOVIEMBRE  DICIEMBRE  \n",
       "0     35.0       32.0       28.0  \n",
       "1    144.0      134.0      173.0  \n",
       "2      6.0        4.0        5.0  \n",
       "3     20.0       38.0       32.0  \n",
       "4      0.0        0.0        0.0  "
      ]
     },
     "execution_count": 6,
     "metadata": {},
     "output_type": "execute_result"
    }
   ],
   "source": [
    "df[list_columns_null].head()"
   ]
  },
  {
   "cell_type": "code",
   "execution_count": 7,
   "metadata": {},
   "outputs": [],
   "source": [
    "df.fillna(0, inplace=True)"
   ]
  },
  {
   "cell_type": "code",
   "execution_count": 8,
   "metadata": {},
   "outputs": [],
   "source": [
    "df[list_columns_null] = df[list_columns_null].astype('int64')"
   ]
  },
  {
   "cell_type": "code",
   "execution_count": 9,
   "metadata": {},
   "outputs": [
    {
     "data": {
      "text/plain": [
       "False"
      ]
     },
     "execution_count": 9,
     "metadata": {},
     "output_type": "execute_result"
    }
   ],
   "source": [
    "df.isnull().any().any()"
   ]
  },
  {
   "cell_type": "code",
   "execution_count": 10,
   "metadata": {},
   "outputs": [
    {
     "data": {
      "text/plain": [
       "[]"
      ]
     },
     "execution_count": 10,
     "metadata": {},
     "output_type": "execute_result"
    }
   ],
   "source": [
    "list_columns_null = df.columns[df.isnull().any()].tolist()\n",
    "list_columns_null"
   ]
  },
  {
   "cell_type": "code",
   "execution_count": 11,
   "metadata": {},
   "outputs": [
    {
     "name": "stdout",
     "output_type": "stream",
     "text": [
      "<class 'pandas.core.frame.DataFrame'>\n",
      "RangeIndex: 853776 entries, 0 to 853775\n",
      "Data columns (total 19 columns):\n",
      "AÑO           853776 non-null int64\n",
      "INEGI         853776 non-null int64\n",
      "ENTIDAD       853776 non-null object\n",
      "MUNICIPIO     853776 non-null object\n",
      "MODALIDAD     853776 non-null object\n",
      "TIPO          853776 non-null object\n",
      "SUBTIPO       853776 non-null object\n",
      "ENERO         853776 non-null int64\n",
      "FEBRERO       853776 non-null int64\n",
      "MARZO         853776 non-null int64\n",
      "ABRIL         853776 non-null int64\n",
      "MAYO          853776 non-null int64\n",
      "JUNIO         853776 non-null int64\n",
      "JULIO         853776 non-null int64\n",
      "AGOSTO        853776 non-null int64\n",
      "SEPTIEMBRE    853776 non-null int64\n",
      "OCTUBRE       853776 non-null int64\n",
      "NOVIEMBRE     853776 non-null int64\n",
      "DICIEMBRE     853776 non-null int64\n",
      "dtypes: int64(14), object(5)\n",
      "memory usage: 123.8+ MB\n"
     ]
    }
   ],
   "source": [
    "df.info()"
   ]
  },
  {
   "cell_type": "markdown",
   "metadata": {},
   "source": [
    "### Año"
   ]
  },
  {
   "cell_type": "code",
   "execution_count": 12,
   "metadata": {},
   "outputs": [
    {
     "data": {
      "text/plain": [
       "7"
      ]
     },
     "execution_count": 12,
     "metadata": {},
     "output_type": "execute_result"
    }
   ],
   "source": [
    "df.AÑO.nunique()"
   ]
  },
  {
   "cell_type": "code",
   "execution_count": 13,
   "metadata": {},
   "outputs": [
    {
     "data": {
      "text/plain": [
       "2017    162690\n",
       "2016    162690\n",
       "2015    125532\n",
       "2014    125532\n",
       "2013     93126\n",
       "2012     93126\n",
       "2011     91080\n",
       "Name: AÑO, dtype: int64"
      ]
     },
     "execution_count": 13,
     "metadata": {},
     "output_type": "execute_result"
    }
   ],
   "source": [
    "df.AÑO.value_counts()"
   ]
  },
  {
   "cell_type": "markdown",
   "metadata": {},
   "source": [
    "### Entidad"
   ]
  },
  {
   "cell_type": "code",
   "execution_count": 14,
   "metadata": {},
   "outputs": [
    {
     "data": {
      "text/plain": [
       "32"
      ]
     },
     "execution_count": 14,
     "metadata": {},
     "output_type": "execute_result"
    }
   ],
   "source": [
    "df.ENTIDAD.nunique()"
   ]
  },
  {
   "cell_type": "code",
   "execution_count": 15,
   "metadata": {},
   "outputs": [
    {
     "data": {
      "text/plain": [
       "PUEBLA      100254\n",
       "OAXACA       77550\n",
       "VERACRUZ     66792\n",
       "MEXICO       57750\n",
       "CHIAPAS      54516\n",
       "Name: ENTIDAD, dtype: int64"
      ]
     },
     "execution_count": 15,
     "metadata": {},
     "output_type": "execute_result"
    }
   ],
   "source": [
    "df.ENTIDAD.value_counts().head()"
   ]
  },
  {
   "cell_type": "markdown",
   "metadata": {},
   "source": [
    "### Municipio"
   ]
  },
  {
   "cell_type": "code",
   "execution_count": 16,
   "metadata": {},
   "outputs": [
    {
     "data": {
      "text/plain": [
       "2320"
      ]
     },
     "execution_count": 16,
     "metadata": {},
     "output_type": "execute_result"
    }
   ],
   "source": [
    "df.MUNICIPIO.nunique()"
   ]
  },
  {
   "cell_type": "code",
   "execution_count": 17,
   "metadata": {},
   "outputs": [
    {
     "data": {
      "text/plain": [
       "OCAMPO             2706\n",
       "BENITO JUAREZ      2640\n",
       "EMILIANO ZAPATA    2310\n",
       "JUAREZ             2244\n",
       "HIDALGO            2178\n",
       "Name: MUNICIPIO, dtype: int64"
      ]
     },
     "execution_count": 17,
     "metadata": {},
     "output_type": "execute_result"
    }
   ],
   "source": [
    "df.MUNICIPIO.value_counts().head()"
   ]
  },
  {
   "cell_type": "markdown",
   "metadata": {},
   "source": [
    "### Modalidad"
   ]
  },
  {
   "cell_type": "code",
   "execution_count": 18,
   "metadata": {},
   "outputs": [
    {
     "data": {
      "text/plain": [
       "10"
      ]
     },
     "execution_count": 18,
     "metadata": {},
     "output_type": "execute_result"
    }
   ],
   "source": [
    "df.MODALIDAD.nunique()"
   ]
  },
  {
   "cell_type": "code",
   "execution_count": 19,
   "metadata": {},
   "outputs": [
    {
     "data": {
      "text/plain": [
       "ROBO COMUN                          181104\n",
       "ROBO EN INSTITUCIONES BANCARIAS     155232\n",
       "ROBO EN CARRETERAS                  129360\n",
       "LESIONES                            103488\n",
       "HOMICIDIOS                          103488\n",
       "DELITOS PATRIMONIALES                90552\n",
       "OTROS DELITOS                        51744\n",
       "PRIV. DE LA LIBERTAD (SECUESTRO)     12936\n",
       "ROBO DE GANADO (ABIGEATO)            12936\n",
       "DELITOS SEXUALES (VIOLACION)         12936\n",
       "Name: MODALIDAD, dtype: int64"
      ]
     },
     "execution_count": 19,
     "metadata": {},
     "output_type": "execute_result"
    }
   ],
   "source": [
    "df.MODALIDAD.value_counts()"
   ]
  },
  {
   "cell_type": "markdown",
   "metadata": {},
   "source": [
    "### Tipo"
   ]
  },
  {
   "cell_type": "code",
   "execution_count": 20,
   "metadata": {},
   "outputs": [
    {
     "data": {
      "text/plain": [
       "18"
      ]
     },
     "execution_count": 20,
     "metadata": {},
     "output_type": "execute_result"
    }
   ],
   "source": [
    "df.TIPO.nunique()"
   ]
  },
  {
   "cell_type": "code",
   "execution_count": 21,
   "metadata": {},
   "outputs": [
    {
     "data": {
      "text/plain": [
       "SIN VIOLENCIA                   232848\n",
       "CON VIOLENCIA                   232848\n",
       "CULPOSOS                         51744\n",
       "DOLOSOS                          51744\n",
       "CULPOSAS                         51744\n",
       "DOLOSAS                          51744\n",
       "DESPOJO                          38808\n",
       "DAÑO EN PROPIEDAD AJENA          12936\n",
       "EXTORSION                        12936\n",
       "ESTUPRO                          12936\n",
       "RESTO DE LOS DELITOS (OTROS)     12936\n",
       "ABUSO DE CONFIANZA               12936\n",
       "OTROS SEXUALES                   12936\n",
       "FRAUDE                           12936\n",
       "AMENAZAS                         12936\n",
       "SECUESTRO                        12936\n",
       "ABIGEATO                         12936\n",
       "VIOLACION                        12936\n",
       "Name: TIPO, dtype: int64"
      ]
     },
     "execution_count": 21,
     "metadata": {},
     "output_type": "execute_result"
    }
   ],
   "source": [
    "df.TIPO.value_counts()"
   ]
  },
  {
   "cell_type": "code",
   "execution_count": 22,
   "metadata": {},
   "outputs": [
    {
     "data": {
      "text/plain": [
       "ENTIDAD              MUNICIPIO                   \n",
       "AGUASCALIENTES       AGUASCALIENTES                  462\n",
       "                     ASIENTOS                        462\n",
       "                     CALVILLO                        462\n",
       "                     COSIO                           462\n",
       "                     EL LLANO                        462\n",
       "                     JESUS MARIA                     462\n",
       "                     PABELLON DE ARTEAGA             462\n",
       "                     RINCON DE ROMOS                 462\n",
       "                     SAN FRANCISCO DE LOS ROMO       462\n",
       "                     SAN JOSE DE GRACIA              462\n",
       "                     TEPEZALA                        462\n",
       "BAJA CALIFORNIA      ENSENADA                        462\n",
       "                     MEXICALI                        462\n",
       "                     PLAYAS DE ROSARITO              462\n",
       "                     TECATE                          462\n",
       "                     TIJUANA                         462\n",
       "BAJA CALIFORNIA SUR  COMONDU                         462\n",
       "                     LA PAZ                          462\n",
       "                     LORETO                          462\n",
       "                     LOS CABOS                       462\n",
       "                     MULEGE                          462\n",
       "CAMPECHE             CALAKMUL                        462\n",
       "                     CALKINI                         462\n",
       "                     CAMPECHE                        462\n",
       "                     CANDELARIA                      462\n",
       "                     CARMEN                          462\n",
       "                     CHAMPOTON                       462\n",
       "                     ESCARCEGA                       462\n",
       "                     HECELCHAKAN                     462\n",
       "                     HOPELCHEN                       462\n",
       "                                                    ... \n",
       "ZACATECAS            MIGUEL AUZA                     462\n",
       "                     MOMAX                           264\n",
       "                     MONTE ESCOBEDO                  264\n",
       "                     MORELOS                         264\n",
       "                     MOYAHUA DE ESTRADA              264\n",
       "                     NOCHISTLAN DE MEJIA             462\n",
       "                     NORIA DE ANGELES                264\n",
       "                     OJOCALIENTE                     462\n",
       "                     PANUCO                          264\n",
       "                     PINOS                           462\n",
       "                     RIO GRANDE                      462\n",
       "                     SAIN ALTO                       264\n",
       "                     SANTA MARIA DE LA PAZ           264\n",
       "                     SOMBRERETE                      462\n",
       "                     SUSTICACAN                      264\n",
       "                     TABASCO                         264\n",
       "                     TEPECHITLAN                     264\n",
       "                     TEPETONGO                       264\n",
       "                     TEUL DE GONZALEZ ORTEGA         462\n",
       "                     TLALTENANGO DE SANCHEZ ROMAN    462\n",
       "                     TRANCOSO                        264\n",
       "                     TRINIDAD GARCIA DE LA CADENA    264\n",
       "                     VALPARAISO                      462\n",
       "                     VETAGRANDE                      264\n",
       "                     VILLA DE COS                    264\n",
       "                     VILLA GARCIA                    264\n",
       "                     VILLA GONZALEZ ORTEGA           264\n",
       "                     VILLA HIDALGO                   264\n",
       "                     VILLANUEVA                      462\n",
       "                     ZACATECAS                       462\n",
       "Length: 2466, dtype: int64"
      ]
     },
     "execution_count": 22,
     "metadata": {},
     "output_type": "execute_result"
    }
   ],
   "source": [
    "df.groupby(['ENTIDAD', 'MUNICIPIO']).size()"
   ]
  },
  {
   "cell_type": "code",
   "execution_count": 23,
   "metadata": {},
   "outputs": [
    {
     "data": {
      "text/html": [
       "<div>\n",
       "<style scoped>\n",
       "    .dataframe tbody tr th:only-of-type {\n",
       "        vertical-align: middle;\n",
       "    }\n",
       "\n",
       "    .dataframe tbody tr th {\n",
       "        vertical-align: top;\n",
       "    }\n",
       "\n",
       "    .dataframe thead th {\n",
       "        text-align: right;\n",
       "    }\n",
       "</style>\n",
       "<table border=\"1\" class=\"dataframe\">\n",
       "  <thead>\n",
       "    <tr style=\"text-align: right;\">\n",
       "      <th></th>\n",
       "      <th>AÑO</th>\n",
       "      <th>INEGI</th>\n",
       "      <th>ENTIDAD</th>\n",
       "      <th>MUNICIPIO</th>\n",
       "      <th>MODALIDAD</th>\n",
       "      <th>TIPO</th>\n",
       "      <th>SUBTIPO</th>\n",
       "      <th>ENERO</th>\n",
       "      <th>FEBRERO</th>\n",
       "      <th>MARZO</th>\n",
       "      <th>...</th>\n",
       "      <th>AGOSTO</th>\n",
       "      <th>SEPTIEMBRE</th>\n",
       "      <th>OCTUBRE</th>\n",
       "      <th>NOVIEMBRE</th>\n",
       "      <th>DICIEMBRE</th>\n",
       "      <th>CVE_MUN</th>\n",
       "      <th>CVE_ENT</th>\n",
       "      <th>CVE_MOD</th>\n",
       "      <th>CVE_TIPO</th>\n",
       "      <th>CVE_SUBTIPO</th>\n",
       "    </tr>\n",
       "  </thead>\n",
       "  <tbody>\n",
       "    <tr>\n",
       "      <th>0</th>\n",
       "      <td>2011</td>\n",
       "      <td>1001</td>\n",
       "      <td>AGUASCALIENTES</td>\n",
       "      <td>AGUASCALIENTES</td>\n",
       "      <td>DELITOS PATRIMONIALES</td>\n",
       "      <td>ABUSO DE CONFIANZA</td>\n",
       "      <td>ABUSO DE CONFIANZA</td>\n",
       "      <td>45</td>\n",
       "      <td>43</td>\n",
       "      <td>34</td>\n",
       "      <td>...</td>\n",
       "      <td>38</td>\n",
       "      <td>37</td>\n",
       "      <td>35</td>\n",
       "      <td>32</td>\n",
       "      <td>28</td>\n",
       "      <td>AGUASCALIENTES</td>\n",
       "      <td>AGUASCALIENTES</td>\n",
       "      <td>DELITOS PATRIMONIALES</td>\n",
       "      <td>ABUSO DE CONFIANZA</td>\n",
       "      <td>ABUSO DE CONFIANZA</td>\n",
       "    </tr>\n",
       "    <tr>\n",
       "      <th>1</th>\n",
       "      <td>2011</td>\n",
       "      <td>1001</td>\n",
       "      <td>AGUASCALIENTES</td>\n",
       "      <td>AGUASCALIENTES</td>\n",
       "      <td>DELITOS PATRIMONIALES</td>\n",
       "      <td>DAÑO EN PROPIEDAD AJENA</td>\n",
       "      <td>DAÑO EN PROPIEDAD AJENA</td>\n",
       "      <td>164</td>\n",
       "      <td>177</td>\n",
       "      <td>160</td>\n",
       "      <td>...</td>\n",
       "      <td>144</td>\n",
       "      <td>171</td>\n",
       "      <td>144</td>\n",
       "      <td>134</td>\n",
       "      <td>173</td>\n",
       "      <td>AGUASCALIENTES</td>\n",
       "      <td>AGUASCALIENTES</td>\n",
       "      <td>DELITOS PATRIMONIALES</td>\n",
       "      <td>DAÑO EN PROPIEDAD AJENA</td>\n",
       "      <td>DAÑO EN PROPIEDAD AJENA</td>\n",
       "    </tr>\n",
       "    <tr>\n",
       "      <th>2</th>\n",
       "      <td>2011</td>\n",
       "      <td>1001</td>\n",
       "      <td>AGUASCALIENTES</td>\n",
       "      <td>AGUASCALIENTES</td>\n",
       "      <td>DELITOS PATRIMONIALES</td>\n",
       "      <td>EXTORSION</td>\n",
       "      <td>EXTORSION</td>\n",
       "      <td>10</td>\n",
       "      <td>24</td>\n",
       "      <td>9</td>\n",
       "      <td>...</td>\n",
       "      <td>1</td>\n",
       "      <td>7</td>\n",
       "      <td>6</td>\n",
       "      <td>4</td>\n",
       "      <td>5</td>\n",
       "      <td>AGUASCALIENTES</td>\n",
       "      <td>AGUASCALIENTES</td>\n",
       "      <td>DELITOS PATRIMONIALES</td>\n",
       "      <td>EXTORSION</td>\n",
       "      <td>EXTORSION</td>\n",
       "    </tr>\n",
       "    <tr>\n",
       "      <th>3</th>\n",
       "      <td>2011</td>\n",
       "      <td>1001</td>\n",
       "      <td>AGUASCALIENTES</td>\n",
       "      <td>AGUASCALIENTES</td>\n",
       "      <td>DELITOS PATRIMONIALES</td>\n",
       "      <td>FRAUDE</td>\n",
       "      <td>FRAUDE</td>\n",
       "      <td>54</td>\n",
       "      <td>29</td>\n",
       "      <td>37</td>\n",
       "      <td>...</td>\n",
       "      <td>36</td>\n",
       "      <td>27</td>\n",
       "      <td>20</td>\n",
       "      <td>38</td>\n",
       "      <td>32</td>\n",
       "      <td>AGUASCALIENTES</td>\n",
       "      <td>AGUASCALIENTES</td>\n",
       "      <td>DELITOS PATRIMONIALES</td>\n",
       "      <td>FRAUDE</td>\n",
       "      <td>FRAUDE</td>\n",
       "    </tr>\n",
       "    <tr>\n",
       "      <th>4</th>\n",
       "      <td>2011</td>\n",
       "      <td>1001</td>\n",
       "      <td>AGUASCALIENTES</td>\n",
       "      <td>AGUASCALIENTES</td>\n",
       "      <td>DELITOS PATRIMONIALES</td>\n",
       "      <td>DESPOJO</td>\n",
       "      <td>CON VIOLENCIA</td>\n",
       "      <td>0</td>\n",
       "      <td>0</td>\n",
       "      <td>0</td>\n",
       "      <td>...</td>\n",
       "      <td>0</td>\n",
       "      <td>0</td>\n",
       "      <td>0</td>\n",
       "      <td>0</td>\n",
       "      <td>0</td>\n",
       "      <td>AGUASCALIENTES</td>\n",
       "      <td>AGUASCALIENTES</td>\n",
       "      <td>DELITOS PATRIMONIALES</td>\n",
       "      <td>DESPOJO</td>\n",
       "      <td>CON VIOLENCIA</td>\n",
       "    </tr>\n",
       "  </tbody>\n",
       "</table>\n",
       "<p>5 rows × 24 columns</p>\n",
       "</div>"
      ],
      "text/plain": [
       "    AÑO  INEGI         ENTIDAD       MUNICIPIO              MODALIDAD  \\\n",
       "0  2011   1001  AGUASCALIENTES  AGUASCALIENTES  DELITOS PATRIMONIALES   \n",
       "1  2011   1001  AGUASCALIENTES  AGUASCALIENTES  DELITOS PATRIMONIALES   \n",
       "2  2011   1001  AGUASCALIENTES  AGUASCALIENTES  DELITOS PATRIMONIALES   \n",
       "3  2011   1001  AGUASCALIENTES  AGUASCALIENTES  DELITOS PATRIMONIALES   \n",
       "4  2011   1001  AGUASCALIENTES  AGUASCALIENTES  DELITOS PATRIMONIALES   \n",
       "\n",
       "                      TIPO                  SUBTIPO  ENERO  FEBRERO  MARZO  \\\n",
       "0       ABUSO DE CONFIANZA       ABUSO DE CONFIANZA     45       43     34   \n",
       "1  DAÑO EN PROPIEDAD AJENA  DAÑO EN PROPIEDAD AJENA    164      177    160   \n",
       "2                EXTORSION                EXTORSION     10       24      9   \n",
       "3                   FRAUDE                   FRAUDE     54       29     37   \n",
       "4                  DESPOJO            CON VIOLENCIA      0        0      0   \n",
       "\n",
       "            ...             AGOSTO  SEPTIEMBRE  OCTUBRE  NOVIEMBRE  DICIEMBRE  \\\n",
       "0           ...                 38          37       35         32         28   \n",
       "1           ...                144         171      144        134        173   \n",
       "2           ...                  1           7        6          4          5   \n",
       "3           ...                 36          27       20         38         32   \n",
       "4           ...                  0           0        0          0          0   \n",
       "\n",
       "          CVE_MUN         CVE_ENT                CVE_MOD  \\\n",
       "0  AGUASCALIENTES  AGUASCALIENTES  DELITOS PATRIMONIALES   \n",
       "1  AGUASCALIENTES  AGUASCALIENTES  DELITOS PATRIMONIALES   \n",
       "2  AGUASCALIENTES  AGUASCALIENTES  DELITOS PATRIMONIALES   \n",
       "3  AGUASCALIENTES  AGUASCALIENTES  DELITOS PATRIMONIALES   \n",
       "4  AGUASCALIENTES  AGUASCALIENTES  DELITOS PATRIMONIALES   \n",
       "\n",
       "                  CVE_TIPO              CVE_SUBTIPO  \n",
       "0       ABUSO DE CONFIANZA       ABUSO DE CONFIANZA  \n",
       "1  DAÑO EN PROPIEDAD AJENA  DAÑO EN PROPIEDAD AJENA  \n",
       "2                EXTORSION                EXTORSION  \n",
       "3                   FRAUDE                   FRAUDE  \n",
       "4                  DESPOJO            CON VIOLENCIA  \n",
       "\n",
       "[5 rows x 24 columns]"
      ]
     },
     "execution_count": 23,
     "metadata": {},
     "output_type": "execute_result"
    }
   ],
   "source": [
    "df_copy = df.copy()\n",
    "df_copy['CVE_MUN'] = df_copy['MUNICIPIO']\n",
    "df_copy['CVE_ENT'] = df_copy['ENTIDAD']\n",
    "df_copy['CVE_MOD'] = df_copy['MODALIDAD']\n",
    "df_copy['CVE_TIPO'] = df_copy['TIPO']\n",
    "df_copy['CVE_SUBTIPO'] = df_copy['SUBTIPO']\n",
    "df_copy.head()"
   ]
  },
  {
   "cell_type": "code",
   "execution_count": 24,
   "metadata": {},
   "outputs": [],
   "source": [
    "df_copy.drop((df_copy[df_copy.MUNICIPIO == \"NO ESPECIFICADO\"]).index, axis=0, inplace=True)\n",
    "df_copy.drop((df_copy[df_copy.CVE_MUN == \"NO ESPECIFICADO\"]).index, axis=0, inplace=True)\n",
    "df_copy.drop((df_copy[df_copy.MUNICIPIO == \"OTROS MUNICIPIOS\"]).index, axis=0, inplace=True)\n",
    "df_copy.drop((df_copy[df_copy.CVE_MUN == \"OTROS MUNICIPIOS\"]).index, axis=0, inplace=True)"
   ]
  },
  {
   "cell_type": "code",
   "execution_count": 25,
   "metadata": {},
   "outputs": [],
   "source": [
    "pd.options.mode.chained_assignment = None "
   ]
  },
  {
   "cell_type": "code",
   "execution_count": 26,
   "metadata": {},
   "outputs": [
    {
     "data": {
      "text/plain": [
       "['ENERO',\n",
       " 'FEBRERO',\n",
       " 'MARZO',\n",
       " 'ABRIL',\n",
       " 'MAYO',\n",
       " 'JUNIO',\n",
       " 'JULIO',\n",
       " 'AGOSTO',\n",
       " 'SEPTIEMBRE',\n",
       " 'OCTUBRE',\n",
       " 'NOVIEMBRE',\n",
       " 'DICIEMBRE']"
      ]
     },
     "execution_count": 26,
     "metadata": {},
     "output_type": "execute_result"
    }
   ],
   "source": [
    "list_columns_sel = ['ENERO',\n",
    " 'FEBRERO',\n",
    " 'MARZO',\n",
    " 'ABRIL',\n",
    " 'MAYO',\n",
    " 'JUNIO',\n",
    " 'JULIO',\n",
    " 'AGOSTO',\n",
    " 'SEPTIEMBRE',\n",
    " 'OCTUBRE',\n",
    " 'NOVIEMBRE',\n",
    " 'DICIEMBRE']\n",
    "list_columns_sel"
   ]
  },
  {
   "cell_type": "code",
   "execution_count": 27,
   "metadata": {},
   "outputs": [
    {
     "data": {
      "text/html": [
       "<div>\n",
       "<style scoped>\n",
       "    .dataframe tbody tr th:only-of-type {\n",
       "        vertical-align: middle;\n",
       "    }\n",
       "\n",
       "    .dataframe tbody tr th {\n",
       "        vertical-align: top;\n",
       "    }\n",
       "\n",
       "    .dataframe thead th {\n",
       "        text-align: right;\n",
       "    }\n",
       "</style>\n",
       "<table border=\"1\" class=\"dataframe\">\n",
       "  <thead>\n",
       "    <tr style=\"text-align: right;\">\n",
       "      <th></th>\n",
       "      <th>ENERO</th>\n",
       "      <th>FEBRERO</th>\n",
       "      <th>MARZO</th>\n",
       "      <th>ABRIL</th>\n",
       "      <th>MAYO</th>\n",
       "      <th>JUNIO</th>\n",
       "      <th>JULIO</th>\n",
       "      <th>AGOSTO</th>\n",
       "      <th>SEPTIEMBRE</th>\n",
       "      <th>OCTUBRE</th>\n",
       "      <th>NOVIEMBRE</th>\n",
       "      <th>DICIEMBRE</th>\n",
       "    </tr>\n",
       "  </thead>\n",
       "  <tbody>\n",
       "    <tr>\n",
       "      <th>0</th>\n",
       "      <td>45</td>\n",
       "      <td>43</td>\n",
       "      <td>34</td>\n",
       "      <td>22</td>\n",
       "      <td>36</td>\n",
       "      <td>43</td>\n",
       "      <td>37</td>\n",
       "      <td>38</td>\n",
       "      <td>37</td>\n",
       "      <td>35</td>\n",
       "      <td>32</td>\n",
       "      <td>28</td>\n",
       "    </tr>\n",
       "    <tr>\n",
       "      <th>1</th>\n",
       "      <td>164</td>\n",
       "      <td>177</td>\n",
       "      <td>160</td>\n",
       "      <td>179</td>\n",
       "      <td>167</td>\n",
       "      <td>149</td>\n",
       "      <td>150</td>\n",
       "      <td>144</td>\n",
       "      <td>171</td>\n",
       "      <td>144</td>\n",
       "      <td>134</td>\n",
       "      <td>173</td>\n",
       "    </tr>\n",
       "    <tr>\n",
       "      <th>2</th>\n",
       "      <td>10</td>\n",
       "      <td>24</td>\n",
       "      <td>9</td>\n",
       "      <td>7</td>\n",
       "      <td>8</td>\n",
       "      <td>9</td>\n",
       "      <td>9</td>\n",
       "      <td>1</td>\n",
       "      <td>7</td>\n",
       "      <td>6</td>\n",
       "      <td>4</td>\n",
       "      <td>5</td>\n",
       "    </tr>\n",
       "    <tr>\n",
       "      <th>3</th>\n",
       "      <td>54</td>\n",
       "      <td>29</td>\n",
       "      <td>37</td>\n",
       "      <td>37</td>\n",
       "      <td>53</td>\n",
       "      <td>37</td>\n",
       "      <td>44</td>\n",
       "      <td>36</td>\n",
       "      <td>27</td>\n",
       "      <td>20</td>\n",
       "      <td>38</td>\n",
       "      <td>32</td>\n",
       "    </tr>\n",
       "    <tr>\n",
       "      <th>4</th>\n",
       "      <td>0</td>\n",
       "      <td>0</td>\n",
       "      <td>0</td>\n",
       "      <td>0</td>\n",
       "      <td>0</td>\n",
       "      <td>0</td>\n",
       "      <td>0</td>\n",
       "      <td>0</td>\n",
       "      <td>0</td>\n",
       "      <td>0</td>\n",
       "      <td>0</td>\n",
       "      <td>0</td>\n",
       "    </tr>\n",
       "  </tbody>\n",
       "</table>\n",
       "</div>"
      ],
      "text/plain": [
       "   ENERO  FEBRERO  MARZO  ABRIL  MAYO  JUNIO  JULIO  AGOSTO  SEPTIEMBRE  \\\n",
       "0     45       43     34     22    36     43     37      38          37   \n",
       "1    164      177    160    179   167    149    150     144         171   \n",
       "2     10       24      9      7     8      9      9       1           7   \n",
       "3     54       29     37     37    53     37     44      36          27   \n",
       "4      0        0      0      0     0      0      0       0           0   \n",
       "\n",
       "   OCTUBRE  NOVIEMBRE  DICIEMBRE  \n",
       "0       35         32         28  \n",
       "1      144        134        173  \n",
       "2        6          4          5  \n",
       "3       20         38         32  \n",
       "4        0          0          0  "
      ]
     },
     "execution_count": 27,
     "metadata": {},
     "output_type": "execute_result"
    }
   ],
   "source": [
    "df_copy[list_columns_sel].head()"
   ]
  },
  {
   "cell_type": "code",
   "execution_count": 28,
   "metadata": {},
   "outputs": [
    {
     "data": {
      "text/html": [
       "<div>\n",
       "<style scoped>\n",
       "    .dataframe tbody tr th:only-of-type {\n",
       "        vertical-align: middle;\n",
       "    }\n",
       "\n",
       "    .dataframe tbody tr th {\n",
       "        vertical-align: top;\n",
       "    }\n",
       "\n",
       "    .dataframe thead th {\n",
       "        text-align: right;\n",
       "    }\n",
       "</style>\n",
       "<table border=\"1\" class=\"dataframe\">\n",
       "  <thead>\n",
       "    <tr style=\"text-align: right;\">\n",
       "      <th></th>\n",
       "      <th>AÑO</th>\n",
       "      <th>INEGI</th>\n",
       "      <th>ENTIDAD</th>\n",
       "      <th>MUNICIPIO</th>\n",
       "      <th>MODALIDAD</th>\n",
       "      <th>TIPO</th>\n",
       "      <th>SUBTIPO</th>\n",
       "      <th>ENERO</th>\n",
       "      <th>FEBRERO</th>\n",
       "      <th>MARZO</th>\n",
       "      <th>...</th>\n",
       "      <th>SEPTIEMBRE</th>\n",
       "      <th>OCTUBRE</th>\n",
       "      <th>NOVIEMBRE</th>\n",
       "      <th>DICIEMBRE</th>\n",
       "      <th>CVE_MUN</th>\n",
       "      <th>CVE_ENT</th>\n",
       "      <th>CVE_MOD</th>\n",
       "      <th>CVE_TIPO</th>\n",
       "      <th>CVE_SUBTIPO</th>\n",
       "      <th>TOTAL_DELITOS</th>\n",
       "    </tr>\n",
       "  </thead>\n",
       "  <tbody>\n",
       "    <tr>\n",
       "      <th>0</th>\n",
       "      <td>2011</td>\n",
       "      <td>1001</td>\n",
       "      <td>AGUASCALIENTES</td>\n",
       "      <td>AGUASCALIENTES</td>\n",
       "      <td>DELITOS PATRIMONIALES</td>\n",
       "      <td>ABUSO DE CONFIANZA</td>\n",
       "      <td>ABUSO DE CONFIANZA</td>\n",
       "      <td>45</td>\n",
       "      <td>43</td>\n",
       "      <td>34</td>\n",
       "      <td>...</td>\n",
       "      <td>37</td>\n",
       "      <td>35</td>\n",
       "      <td>32</td>\n",
       "      <td>28</td>\n",
       "      <td>AGUASCALIENTES</td>\n",
       "      <td>AGUASCALIENTES</td>\n",
       "      <td>DELITOS PATRIMONIALES</td>\n",
       "      <td>ABUSO DE CONFIANZA</td>\n",
       "      <td>ABUSO DE CONFIANZA</td>\n",
       "      <td>385</td>\n",
       "    </tr>\n",
       "    <tr>\n",
       "      <th>1</th>\n",
       "      <td>2011</td>\n",
       "      <td>1001</td>\n",
       "      <td>AGUASCALIENTES</td>\n",
       "      <td>AGUASCALIENTES</td>\n",
       "      <td>DELITOS PATRIMONIALES</td>\n",
       "      <td>DAÑO EN PROPIEDAD AJENA</td>\n",
       "      <td>DAÑO EN PROPIEDAD AJENA</td>\n",
       "      <td>164</td>\n",
       "      <td>177</td>\n",
       "      <td>160</td>\n",
       "      <td>...</td>\n",
       "      <td>171</td>\n",
       "      <td>144</td>\n",
       "      <td>134</td>\n",
       "      <td>173</td>\n",
       "      <td>AGUASCALIENTES</td>\n",
       "      <td>AGUASCALIENTES</td>\n",
       "      <td>DELITOS PATRIMONIALES</td>\n",
       "      <td>DAÑO EN PROPIEDAD AJENA</td>\n",
       "      <td>DAÑO EN PROPIEDAD AJENA</td>\n",
       "      <td>1748</td>\n",
       "    </tr>\n",
       "    <tr>\n",
       "      <th>2</th>\n",
       "      <td>2011</td>\n",
       "      <td>1001</td>\n",
       "      <td>AGUASCALIENTES</td>\n",
       "      <td>AGUASCALIENTES</td>\n",
       "      <td>DELITOS PATRIMONIALES</td>\n",
       "      <td>EXTORSION</td>\n",
       "      <td>EXTORSION</td>\n",
       "      <td>10</td>\n",
       "      <td>24</td>\n",
       "      <td>9</td>\n",
       "      <td>...</td>\n",
       "      <td>7</td>\n",
       "      <td>6</td>\n",
       "      <td>4</td>\n",
       "      <td>5</td>\n",
       "      <td>AGUASCALIENTES</td>\n",
       "      <td>AGUASCALIENTES</td>\n",
       "      <td>DELITOS PATRIMONIALES</td>\n",
       "      <td>EXTORSION</td>\n",
       "      <td>EXTORSION</td>\n",
       "      <td>89</td>\n",
       "    </tr>\n",
       "    <tr>\n",
       "      <th>3</th>\n",
       "      <td>2011</td>\n",
       "      <td>1001</td>\n",
       "      <td>AGUASCALIENTES</td>\n",
       "      <td>AGUASCALIENTES</td>\n",
       "      <td>DELITOS PATRIMONIALES</td>\n",
       "      <td>FRAUDE</td>\n",
       "      <td>FRAUDE</td>\n",
       "      <td>54</td>\n",
       "      <td>29</td>\n",
       "      <td>37</td>\n",
       "      <td>...</td>\n",
       "      <td>27</td>\n",
       "      <td>20</td>\n",
       "      <td>38</td>\n",
       "      <td>32</td>\n",
       "      <td>AGUASCALIENTES</td>\n",
       "      <td>AGUASCALIENTES</td>\n",
       "      <td>DELITOS PATRIMONIALES</td>\n",
       "      <td>FRAUDE</td>\n",
       "      <td>FRAUDE</td>\n",
       "      <td>390</td>\n",
       "    </tr>\n",
       "    <tr>\n",
       "      <th>4</th>\n",
       "      <td>2011</td>\n",
       "      <td>1001</td>\n",
       "      <td>AGUASCALIENTES</td>\n",
       "      <td>AGUASCALIENTES</td>\n",
       "      <td>DELITOS PATRIMONIALES</td>\n",
       "      <td>DESPOJO</td>\n",
       "      <td>CON VIOLENCIA</td>\n",
       "      <td>0</td>\n",
       "      <td>0</td>\n",
       "      <td>0</td>\n",
       "      <td>...</td>\n",
       "      <td>0</td>\n",
       "      <td>0</td>\n",
       "      <td>0</td>\n",
       "      <td>0</td>\n",
       "      <td>AGUASCALIENTES</td>\n",
       "      <td>AGUASCALIENTES</td>\n",
       "      <td>DELITOS PATRIMONIALES</td>\n",
       "      <td>DESPOJO</td>\n",
       "      <td>CON VIOLENCIA</td>\n",
       "      <td>0</td>\n",
       "    </tr>\n",
       "  </tbody>\n",
       "</table>\n",
       "<p>5 rows × 25 columns</p>\n",
       "</div>"
      ],
      "text/plain": [
       "    AÑO  INEGI         ENTIDAD       MUNICIPIO              MODALIDAD  \\\n",
       "0  2011   1001  AGUASCALIENTES  AGUASCALIENTES  DELITOS PATRIMONIALES   \n",
       "1  2011   1001  AGUASCALIENTES  AGUASCALIENTES  DELITOS PATRIMONIALES   \n",
       "2  2011   1001  AGUASCALIENTES  AGUASCALIENTES  DELITOS PATRIMONIALES   \n",
       "3  2011   1001  AGUASCALIENTES  AGUASCALIENTES  DELITOS PATRIMONIALES   \n",
       "4  2011   1001  AGUASCALIENTES  AGUASCALIENTES  DELITOS PATRIMONIALES   \n",
       "\n",
       "                      TIPO                  SUBTIPO  ENERO  FEBRERO  MARZO  \\\n",
       "0       ABUSO DE CONFIANZA       ABUSO DE CONFIANZA     45       43     34   \n",
       "1  DAÑO EN PROPIEDAD AJENA  DAÑO EN PROPIEDAD AJENA    164      177    160   \n",
       "2                EXTORSION                EXTORSION     10       24      9   \n",
       "3                   FRAUDE                   FRAUDE     54       29     37   \n",
       "4                  DESPOJO            CON VIOLENCIA      0        0      0   \n",
       "\n",
       "       ...       SEPTIEMBRE  OCTUBRE  NOVIEMBRE  DICIEMBRE         CVE_MUN  \\\n",
       "0      ...               37       35         32         28  AGUASCALIENTES   \n",
       "1      ...              171      144        134        173  AGUASCALIENTES   \n",
       "2      ...                7        6          4          5  AGUASCALIENTES   \n",
       "3      ...               27       20         38         32  AGUASCALIENTES   \n",
       "4      ...                0        0          0          0  AGUASCALIENTES   \n",
       "\n",
       "          CVE_ENT                CVE_MOD                 CVE_TIPO  \\\n",
       "0  AGUASCALIENTES  DELITOS PATRIMONIALES       ABUSO DE CONFIANZA   \n",
       "1  AGUASCALIENTES  DELITOS PATRIMONIALES  DAÑO EN PROPIEDAD AJENA   \n",
       "2  AGUASCALIENTES  DELITOS PATRIMONIALES                EXTORSION   \n",
       "3  AGUASCALIENTES  DELITOS PATRIMONIALES                   FRAUDE   \n",
       "4  AGUASCALIENTES  DELITOS PATRIMONIALES                  DESPOJO   \n",
       "\n",
       "               CVE_SUBTIPO TOTAL_DELITOS  \n",
       "0       ABUSO DE CONFIANZA           385  \n",
       "1  DAÑO EN PROPIEDAD AJENA          1748  \n",
       "2                EXTORSION            89  \n",
       "3                   FRAUDE           390  \n",
       "4            CON VIOLENCIA             0  \n",
       "\n",
       "[5 rows x 25 columns]"
      ]
     },
     "execution_count": 28,
     "metadata": {},
     "output_type": "execute_result"
    }
   ],
   "source": [
    "df_copy['TOTAL_DELITOS'] = df_copy[list_columns_sel].values[:, 1:].sum(1)\n",
    "df_copy.head()"
   ]
  },
  {
   "cell_type": "code",
   "execution_count": 29,
   "metadata": {},
   "outputs": [
    {
     "data": {
      "text/plain": [
       "array([385])"
      ]
     },
     "execution_count": 29,
     "metadata": {},
     "output_type": "execute_result"
    }
   ],
   "source": [
    "df_copy[list_columns_sel].iloc[[0]].values[:, 1:].sum(1)"
   ]
  },
  {
   "cell_type": "markdown",
   "metadata": {},
   "source": [
    "## Catálogo de Claves de Entidades Federativas, Municipios y Localidades `CCEFML`"
   ]
  },
  {
   "cell_type": "markdown",
   "metadata": {},
   "source": [
    "| Año | Mes | Número de localidades | Archivo | Tamaño (BYTES)|\n",
    "| --- | --- | --- |\n",
    "| 2018| Jun | 304172 | ARCH825.csv | 10313717 |\n",
    "| 2017| Nov | 304485 | ARCH274.csv |10317325 |"
   ]
  },
  {
   "cell_type": "code",
   "execution_count": 30,
   "metadata": {},
   "outputs": [
    {
     "data": {
      "text/html": [
       "<div>\n",
       "<style scoped>\n",
       "    .dataframe tbody tr th:only-of-type {\n",
       "        vertical-align: middle;\n",
       "    }\n",
       "\n",
       "    .dataframe tbody tr th {\n",
       "        vertical-align: top;\n",
       "    }\n",
       "\n",
       "    .dataframe thead th {\n",
       "        text-align: right;\n",
       "    }\n",
       "</style>\n",
       "<table border=\"1\" class=\"dataframe\">\n",
       "  <thead>\n",
       "    <tr style=\"text-align: right;\">\n",
       "      <th></th>\n",
       "      <th>CVE_ENT</th>\n",
       "      <th>NOM_ENT</th>\n",
       "      <th>CVE_MUN</th>\n",
       "      <th>NOM_MUN</th>\n",
       "      <th>CVE_LOC</th>\n",
       "      <th>NOM_LOC</th>\n",
       "      <th>AMBITO</th>\n",
       "      <th>LATITUD</th>\n",
       "      <th>LONGITUD</th>\n",
       "      <th>LAT_DEC</th>\n",
       "      <th>LON_DEC</th>\n",
       "      <th>ALTITUD</th>\n",
       "    </tr>\n",
       "  </thead>\n",
       "  <tbody>\n",
       "    <tr>\n",
       "      <th>0</th>\n",
       "      <td>1</td>\n",
       "      <td>AGUASCALIENTES</td>\n",
       "      <td>1</td>\n",
       "      <td>AGUASCALIENTES</td>\n",
       "      <td>1</td>\n",
       "      <td>AGUASCALIENTES</td>\n",
       "      <td>U</td>\n",
       "      <td>215247.362</td>\n",
       "      <td>1021745.768</td>\n",
       "      <td>21.879823</td>\n",
       "      <td>-102.296047</td>\n",
       "      <td>1878</td>\n",
       "    </tr>\n",
       "    <tr>\n",
       "      <th>1</th>\n",
       "      <td>1</td>\n",
       "      <td>AGUASCALIENTES</td>\n",
       "      <td>1</td>\n",
       "      <td>AGUASCALIENTES</td>\n",
       "      <td>94</td>\n",
       "      <td>GRANJA ADELITA</td>\n",
       "      <td>R</td>\n",
       "      <td>215218.749</td>\n",
       "      <td>1022224.710</td>\n",
       "      <td>21.871875</td>\n",
       "      <td>-102.373531</td>\n",
       "      <td>1902</td>\n",
       "    </tr>\n",
       "    <tr>\n",
       "      <th>2</th>\n",
       "      <td>1</td>\n",
       "      <td>AGUASCALIENTES</td>\n",
       "      <td>1</td>\n",
       "      <td>AGUASCALIENTES</td>\n",
       "      <td>96</td>\n",
       "      <td>AGUA AZUL</td>\n",
       "      <td>R</td>\n",
       "      <td>215301.522</td>\n",
       "      <td>1022125.639</td>\n",
       "      <td>21.883756</td>\n",
       "      <td>-102.357122</td>\n",
       "      <td>1861</td>\n",
       "    </tr>\n",
       "    <tr>\n",
       "      <th>3</th>\n",
       "      <td>1</td>\n",
       "      <td>AGUASCALIENTES</td>\n",
       "      <td>1</td>\n",
       "      <td>AGUASCALIENTES</td>\n",
       "      <td>100</td>\n",
       "      <td>RANCHO ALEGRE</td>\n",
       "      <td>R</td>\n",
       "      <td>215116.556</td>\n",
       "      <td>1022221.884</td>\n",
       "      <td>21.854599</td>\n",
       "      <td>-102.372746</td>\n",
       "      <td>1879</td>\n",
       "    </tr>\n",
       "    <tr>\n",
       "      <th>4</th>\n",
       "      <td>1</td>\n",
       "      <td>AGUASCALIENTES</td>\n",
       "      <td>1</td>\n",
       "      <td>AGUASCALIENTES</td>\n",
       "      <td>102</td>\n",
       "      <td>LOS ARBOLITOS [RANCHO]</td>\n",
       "      <td>R</td>\n",
       "      <td>214648.650</td>\n",
       "      <td>1022126.261</td>\n",
       "      <td>21.780181</td>\n",
       "      <td>-102.357295</td>\n",
       "      <td>1861</td>\n",
       "    </tr>\n",
       "  </tbody>\n",
       "</table>\n",
       "</div>"
      ],
      "text/plain": [
       "   CVE_ENT         NOM_ENT  CVE_MUN         NOM_MUN  CVE_LOC  \\\n",
       "0        1  AGUASCALIENTES        1  AGUASCALIENTES        1   \n",
       "1        1  AGUASCALIENTES        1  AGUASCALIENTES       94   \n",
       "2        1  AGUASCALIENTES        1  AGUASCALIENTES       96   \n",
       "3        1  AGUASCALIENTES        1  AGUASCALIENTES      100   \n",
       "4        1  AGUASCALIENTES        1  AGUASCALIENTES      102   \n",
       "\n",
       "                  NOM_LOC AMBITO     LATITUD     LONGITUD    LAT_DEC  \\\n",
       "0          AGUASCALIENTES      U  215247.362  1021745.768  21.879823   \n",
       "1          GRANJA ADELITA      R  215218.749  1022224.710  21.871875   \n",
       "2               AGUA AZUL      R  215301.522  1022125.639  21.883756   \n",
       "3           RANCHO ALEGRE      R  215116.556  1022221.884  21.854599   \n",
       "4  LOS ARBOLITOS [RANCHO]      R  214648.650  1022126.261  21.780181   \n",
       "\n",
       "      LON_DEC ALTITUD  \n",
       "0 -102.296047    1878  \n",
       "1 -102.373531    1902  \n",
       "2 -102.357122    1861  \n",
       "3 -102.372746    1879  \n",
       "4 -102.357295    1861  "
      ]
     },
     "execution_count": 30,
     "metadata": {},
     "output_type": "execute_result"
    }
   ],
   "source": [
    "df_CCEFML_path = \"ARCH274.CSV\"\n",
    "df_CCEFML = pd.read_csv(df_CCEFML_path, encoding='latin', low_memory=False)\n",
    "df_CCEFML.head()"
   ]
  },
  {
   "cell_type": "code",
   "execution_count": 31,
   "metadata": {},
   "outputs": [
    {
     "data": {
      "text/html": [
       "<div>\n",
       "<style scoped>\n",
       "    .dataframe tbody tr th:only-of-type {\n",
       "        vertical-align: middle;\n",
       "    }\n",
       "\n",
       "    .dataframe tbody tr th {\n",
       "        vertical-align: top;\n",
       "    }\n",
       "\n",
       "    .dataframe thead th {\n",
       "        text-align: right;\n",
       "    }\n",
       "</style>\n",
       "<table border=\"1\" class=\"dataframe\">\n",
       "  <thead>\n",
       "    <tr style=\"text-align: right;\">\n",
       "      <th></th>\n",
       "      <th>CVE_ENT</th>\n",
       "      <th>NOM_ENT</th>\n",
       "      <th>CVE_MUN</th>\n",
       "      <th>NOM_MUN</th>\n",
       "      <th>CVE_LOC</th>\n",
       "      <th>NOM_LOC</th>\n",
       "      <th>AMBITO</th>\n",
       "      <th>LATITUD</th>\n",
       "      <th>LONGITUD</th>\n",
       "      <th>LAT_DEC</th>\n",
       "      <th>LON_DEC</th>\n",
       "      <th>ALTITUD</th>\n",
       "    </tr>\n",
       "  </thead>\n",
       "  <tbody>\n",
       "    <tr>\n",
       "      <th>0</th>\n",
       "      <td>1</td>\n",
       "      <td>AGUASCALIENTES</td>\n",
       "      <td>1</td>\n",
       "      <td>AGUASCALIENTES</td>\n",
       "      <td>1</td>\n",
       "      <td>AGUASCALIENTES</td>\n",
       "      <td>U</td>\n",
       "      <td>215247.362</td>\n",
       "      <td>1021745.768</td>\n",
       "      <td>21.879823</td>\n",
       "      <td>-102.296047</td>\n",
       "      <td>1878</td>\n",
       "    </tr>\n",
       "    <tr>\n",
       "      <th>1</th>\n",
       "      <td>1</td>\n",
       "      <td>AGUASCALIENTES</td>\n",
       "      <td>1</td>\n",
       "      <td>AGUASCALIENTES</td>\n",
       "      <td>94</td>\n",
       "      <td>GRANJA ADELITA</td>\n",
       "      <td>R</td>\n",
       "      <td>215218.749</td>\n",
       "      <td>1022224.710</td>\n",
       "      <td>21.871875</td>\n",
       "      <td>-102.373531</td>\n",
       "      <td>1902</td>\n",
       "    </tr>\n",
       "    <tr>\n",
       "      <th>2</th>\n",
       "      <td>1</td>\n",
       "      <td>AGUASCALIENTES</td>\n",
       "      <td>1</td>\n",
       "      <td>AGUASCALIENTES</td>\n",
       "      <td>96</td>\n",
       "      <td>AGUA AZUL</td>\n",
       "      <td>R</td>\n",
       "      <td>215301.522</td>\n",
       "      <td>1022125.639</td>\n",
       "      <td>21.883756</td>\n",
       "      <td>-102.357122</td>\n",
       "      <td>1861</td>\n",
       "    </tr>\n",
       "    <tr>\n",
       "      <th>3</th>\n",
       "      <td>1</td>\n",
       "      <td>AGUASCALIENTES</td>\n",
       "      <td>1</td>\n",
       "      <td>AGUASCALIENTES</td>\n",
       "      <td>100</td>\n",
       "      <td>RANCHO ALEGRE</td>\n",
       "      <td>R</td>\n",
       "      <td>215116.556</td>\n",
       "      <td>1022221.884</td>\n",
       "      <td>21.854599</td>\n",
       "      <td>-102.372746</td>\n",
       "      <td>1879</td>\n",
       "    </tr>\n",
       "    <tr>\n",
       "      <th>4</th>\n",
       "      <td>1</td>\n",
       "      <td>AGUASCALIENTES</td>\n",
       "      <td>1</td>\n",
       "      <td>AGUASCALIENTES</td>\n",
       "      <td>102</td>\n",
       "      <td>LOS ARBOLITOS [RANCHO]</td>\n",
       "      <td>R</td>\n",
       "      <td>214648.650</td>\n",
       "      <td>1022126.261</td>\n",
       "      <td>21.780181</td>\n",
       "      <td>-102.357295</td>\n",
       "      <td>1861</td>\n",
       "    </tr>\n",
       "  </tbody>\n",
       "</table>\n",
       "</div>"
      ],
      "text/plain": [
       "   CVE_ENT         NOM_ENT  CVE_MUN         NOM_MUN  CVE_LOC  \\\n",
       "0        1  AGUASCALIENTES        1  AGUASCALIENTES        1   \n",
       "1        1  AGUASCALIENTES        1  AGUASCALIENTES       94   \n",
       "2        1  AGUASCALIENTES        1  AGUASCALIENTES       96   \n",
       "3        1  AGUASCALIENTES        1  AGUASCALIENTES      100   \n",
       "4        1  AGUASCALIENTES        1  AGUASCALIENTES      102   \n",
       "\n",
       "                  NOM_LOC AMBITO     LATITUD     LONGITUD    LAT_DEC  \\\n",
       "0          AGUASCALIENTES      U  215247.362  1021745.768  21.879823   \n",
       "1          GRANJA ADELITA      R  215218.749  1022224.710  21.871875   \n",
       "2               AGUA AZUL      R  215301.522  1022125.639  21.883756   \n",
       "3           RANCHO ALEGRE      R  215116.556  1022221.884  21.854599   \n",
       "4  LOS ARBOLITOS [RANCHO]      R  214648.650  1022126.261  21.780181   \n",
       "\n",
       "      LON_DEC ALTITUD  \n",
       "0 -102.296047    1878  \n",
       "1 -102.373531    1902  \n",
       "2 -102.357122    1861  \n",
       "3 -102.372746    1879  \n",
       "4 -102.357295    1861  "
      ]
     },
     "execution_count": 31,
     "metadata": {},
     "output_type": "execute_result"
    }
   ],
   "source": [
    "df_CCEFML_copy = df_CCEFML.copy()\n",
    "df_CCEFML_copy.head()"
   ]
  },
  {
   "cell_type": "code",
   "execution_count": 32,
   "metadata": {},
   "outputs": [
    {
     "data": {
      "text/plain": [
       "Index(['CVE_ENT', 'NOM_ENT', 'CVE_MUN', 'NOM_MUN', 'CVE_LOC', 'NOM_LOC',\n",
       "       'AMBITO', 'LATITUD', 'LONGITUD', 'LAT_DEC', 'LON_DEC', 'ALTITUD'],\n",
       "      dtype='object')"
      ]
     },
     "execution_count": 32,
     "metadata": {},
     "output_type": "execute_result"
    }
   ],
   "source": [
    "df_CCEFML_copy.columns"
   ]
  },
  {
   "cell_type": "code",
   "execution_count": 33,
   "metadata": {},
   "outputs": [
    {
     "data": {
      "text/plain": [
       "32"
      ]
     },
     "execution_count": 33,
     "metadata": {},
     "output_type": "execute_result"
    }
   ],
   "source": [
    "df_CCEFML_copy.NOM_ENT.nunique()"
   ]
  },
  {
   "cell_type": "code",
   "execution_count": 34,
   "metadata": {},
   "outputs": [
    {
     "data": {
      "text/plain": [
       "2322"
      ]
     },
     "execution_count": 34,
     "metadata": {},
     "output_type": "execute_result"
    }
   ],
   "source": [
    "df_CCEFML_copy.NOM_MUN.nunique()"
   ]
  },
  {
   "cell_type": "markdown",
   "metadata": {},
   "source": [
    "## MUNICIPIOS"
   ]
  },
  {
   "cell_type": "code",
   "execution_count": 35,
   "metadata": {},
   "outputs": [
    {
     "data": {
      "text/plain": [
       "array(['AGUASCALIENTES', 'BAJA CALIFORNIA', 'BAJA CALIFORNIA SUR',\n",
       "       'CAMPECHE', 'COAHUILA', 'COLIMA', 'CHIAPAS', 'CHIHUAHUA',\n",
       "       'CIUDAD DE MEXICO', 'DURANGO', 'GUANAJUATO', 'GUERRERO', 'HIDALGO',\n",
       "       'JALISCO', 'MEXICO', 'MICHOACAN', 'MORELOS', 'NAYARIT',\n",
       "       'NUEVO LEON', 'OAXACA', 'PUEBLA', 'QUERETARO', 'QUINTANA ROO',\n",
       "       'SAN LUIS POTOSI', 'SINALOA', 'SONORA', 'TABASCO', 'TAMAULIPAS',\n",
       "       'TLAXCALA', 'VERACRUZ', 'YUCATAN', 'ZACATECAS'], dtype=object)"
      ]
     },
     "execution_count": 35,
     "metadata": {},
     "output_type": "execute_result"
    }
   ],
   "source": [
    "array_ENTIDAD = df_copy.ENTIDAD.unique()\n",
    "array_ENTIDAD"
   ]
  },
  {
   "cell_type": "code",
   "execution_count": 36,
   "metadata": {},
   "outputs": [
    {
     "data": {
      "text/plain": [
       "array(['AGUASCALIENTES', 'BAJA CALIFORNIA', 'BAJA CALIFORNIA SUR',\n",
       "       'CAMPECHE', 'COAHUILA DE ZARAGOZA', 'COLIMA', 'CHIAPAS',\n",
       "       'CHIHUAHUA', 'CIUDAD DE MEXICO', 'DURANGO', 'GUANAJUATO',\n",
       "       'GUERRERO', 'HIDALGO', 'JALISCO', 'MEXICO', 'MICHOACAN DE OCAMPO',\n",
       "       'MORELOS', 'NAYARIT', 'NUEVO LEON', 'OAXACA', 'PUEBLA', 'QUERETARO',\n",
       "       'QUINTANA ROO', 'SAN LUIS POTOSI', 'SINALOA', 'SONORA', 'TABASCO',\n",
       "       'TAMAULIPAS', 'TLAXCALA', 'VERACRUZ DE IGNACIO DE LA LLAVE',\n",
       "       'YUCATAN', 'ZACATECAS'], dtype=object)"
      ]
     },
     "execution_count": 36,
     "metadata": {},
     "output_type": "execute_result"
    }
   ],
   "source": [
    "array_NOM_ENT = df_CCEFML_copy.NOM_ENT.unique()\n",
    "array_NOM_ENT"
   ]
  },
  {
   "cell_type": "code",
   "execution_count": 37,
   "metadata": {},
   "outputs": [],
   "source": [
    "df_CCEFML_copy.NOM_ENT.replace({'COAHUILA DE ZARAGOZA' : 'COAHUILA',\n",
    "                               'MICHOACAN DE OCAMPO' : 'MICHOACAN',\n",
    "                               'VERACRUZ DE IGNACIO DE LA LLAVE' : 'VERACRUZ'}, inplace=True)"
   ]
  },
  {
   "cell_type": "code",
   "execution_count": 38,
   "metadata": {},
   "outputs": [
    {
     "data": {
      "text/plain": [
       "array(['AGUASCALIENTES', 'BAJA CALIFORNIA', 'BAJA CALIFORNIA SUR',\n",
       "       'CAMPECHE', 'COAHUILA', 'COLIMA', 'CHIAPAS', 'CHIHUAHUA',\n",
       "       'CIUDAD DE MEXICO', 'DURANGO', 'GUANAJUATO', 'GUERRERO', 'HIDALGO',\n",
       "       'JALISCO', 'MEXICO', 'MICHOACAN', 'MORELOS', 'NAYARIT',\n",
       "       'NUEVO LEON', 'OAXACA', 'PUEBLA', 'QUERETARO', 'QUINTANA ROO',\n",
       "       'SAN LUIS POTOSI', 'SINALOA', 'SONORA', 'TABASCO', 'TAMAULIPAS',\n",
       "       'TLAXCALA', 'VERACRUZ', 'YUCATAN', 'ZACATECAS'], dtype=object)"
      ]
     },
     "execution_count": 38,
     "metadata": {},
     "output_type": "execute_result"
    }
   ],
   "source": [
    "array_NOM_ENT = df_CCEFML_copy.NOM_ENT.unique()\n",
    "array_NOM_ENT"
   ]
  },
  {
   "cell_type": "markdown",
   "metadata": {},
   "source": [
    "## Diccionario ENTIDADES `['NOM_ENT', 'CVE_ENT']`"
   ]
  },
  {
   "cell_type": "code",
   "execution_count": 295,
   "metadata": {},
   "outputs": [
    {
     "data": {
      "text/plain": [
       "NOM_ENT              CVE_ENT\n",
       "AGUASCALIENTES       1           2932\n",
       "BAJA CALIFORNIA      2           7056\n",
       "BAJA CALIFORNIA SUR  3           5161\n",
       "CAMPECHE             4           5422\n",
       "CHIAPAS              7          26336\n",
       "CHIHUAHUA            8          21929\n",
       "CIUDAD DE MEXICO     9            670\n",
       "COAHUILA             5           9984\n",
       "COLIMA               6           3631\n",
       "DURANGO              10          9962\n",
       "GUANAJUATO           11         11465\n",
       "GUERRERO             12          9870\n",
       "HIDALGO              13          5358\n",
       "JALISCO              14         19406\n",
       "MEXICO               15          5308\n",
       "MICHOACAN            16         12854\n",
       "MORELOS              17          1925\n",
       "NAYARIT              18          4750\n",
       "NUEVO LEON           19         10705\n",
       "OAXACA               20         12946\n",
       "PUEBLA               21          8035\n",
       "QUERETARO            22          3570\n",
       "QUINTANA ROO         23          4456\n",
       "SAN LUIS POTOSI      24          9386\n",
       "SINALOA              25          9470\n",
       "SONORA               26         17406\n",
       "TABASCO              27          2741\n",
       "TAMAULIPAS           28         14557\n",
       "TLAXCALA             29          1971\n",
       "VERACRUZ             30         27600\n",
       "YUCATAN              31         10208\n",
       "ZACATECAS            32          7415\n",
       "dtype: int64"
      ]
     },
     "execution_count": 295,
     "metadata": {},
     "output_type": "execute_result"
    }
   ],
   "source": [
    "df_CCEFML_copy.groupby(['NOM_ENT', 'CVE_ENT']).size()"
   ]
  },
  {
   "cell_type": "code",
   "execution_count": 39,
   "metadata": {},
   "outputs": [
    {
     "data": {
      "text/html": [
       "<div>\n",
       "<style scoped>\n",
       "    .dataframe tbody tr th:only-of-type {\n",
       "        vertical-align: middle;\n",
       "    }\n",
       "\n",
       "    .dataframe tbody tr th {\n",
       "        vertical-align: top;\n",
       "    }\n",
       "\n",
       "    .dataframe thead th {\n",
       "        text-align: right;\n",
       "    }\n",
       "</style>\n",
       "<table border=\"1\" class=\"dataframe\">\n",
       "  <thead>\n",
       "    <tr style=\"text-align: right;\">\n",
       "      <th></th>\n",
       "      <th></th>\n",
       "    </tr>\n",
       "    <tr>\n",
       "      <th>NOM_ENT</th>\n",
       "      <th>CVE_ENT</th>\n",
       "    </tr>\n",
       "  </thead>\n",
       "  <tbody>\n",
       "    <tr>\n",
       "      <th>AGUASCALIENTES</th>\n",
       "      <th>1</th>\n",
       "    </tr>\n",
       "    <tr>\n",
       "      <th>BAJA CALIFORNIA</th>\n",
       "      <th>2</th>\n",
       "    </tr>\n",
       "    <tr>\n",
       "      <th>BAJA CALIFORNIA SUR</th>\n",
       "      <th>3</th>\n",
       "    </tr>\n",
       "    <tr>\n",
       "      <th>CAMPECHE</th>\n",
       "      <th>4</th>\n",
       "    </tr>\n",
       "    <tr>\n",
       "      <th>CHIAPAS</th>\n",
       "      <th>7</th>\n",
       "    </tr>\n",
       "  </tbody>\n",
       "</table>\n",
       "</div>"
      ],
      "text/plain": [
       "Empty DataFrame\n",
       "Columns: []\n",
       "Index: [(AGUASCALIENTES, 1), (BAJA CALIFORNIA, 2), (BAJA CALIFORNIA SUR, 3), (CAMPECHE, 4), (CHIAPAS, 7)]"
      ]
     },
     "execution_count": 39,
     "metadata": {},
     "output_type": "execute_result"
    }
   ],
   "source": [
    "#grouped = df.groupby(['', 'MUNICIPIO'])\n",
    "#df_test.to_dict()\n",
    "#df_test\n",
    "grouped = pd.DataFrame(df_CCEFML_copy.groupby(['NOM_ENT', 'CVE_ENT']).size())\n",
    "grouped.drop([0], axis=1, inplace=True)\n",
    "grouped.head()"
   ]
  },
  {
   "cell_type": "code",
   "execution_count": 40,
   "metadata": {},
   "outputs": [
    {
     "data": {
      "text/plain": [
       "Index(['NOM_ENT', 'CVE_ENT'], dtype='object')"
      ]
     },
     "execution_count": 40,
     "metadata": {},
     "output_type": "execute_result"
    }
   ],
   "source": [
    "grouped.reset_index(inplace=True)\n",
    "grouped.columns"
   ]
  },
  {
   "cell_type": "code",
   "execution_count": 41,
   "metadata": {},
   "outputs": [
    {
     "data": {
      "text/plain": [
       "Index(['NOM_ENT', 'CVE_ENT'], dtype='object')"
      ]
     },
     "execution_count": 41,
     "metadata": {},
     "output_type": "execute_result"
    }
   ],
   "source": [
    "#grouped.reset_index(inplace=True)\n",
    "grouped.columns"
   ]
  },
  {
   "cell_type": "code",
   "execution_count": 42,
   "metadata": {},
   "outputs": [
    {
     "data": {
      "text/html": [
       "<div>\n",
       "<style scoped>\n",
       "    .dataframe tbody tr th:only-of-type {\n",
       "        vertical-align: middle;\n",
       "    }\n",
       "\n",
       "    .dataframe tbody tr th {\n",
       "        vertical-align: top;\n",
       "    }\n",
       "\n",
       "    .dataframe thead th {\n",
       "        text-align: right;\n",
       "    }\n",
       "</style>\n",
       "<table border=\"1\" class=\"dataframe\">\n",
       "  <thead>\n",
       "    <tr style=\"text-align: right;\">\n",
       "      <th></th>\n",
       "      <th>NOM_ENT</th>\n",
       "      <th>CVE_ENT</th>\n",
       "    </tr>\n",
       "  </thead>\n",
       "  <tbody>\n",
       "    <tr>\n",
       "      <th>0</th>\n",
       "      <td>AGUASCALIENTES</td>\n",
       "      <td>1</td>\n",
       "    </tr>\n",
       "    <tr>\n",
       "      <th>1</th>\n",
       "      <td>BAJA CALIFORNIA</td>\n",
       "      <td>2</td>\n",
       "    </tr>\n",
       "    <tr>\n",
       "      <th>2</th>\n",
       "      <td>BAJA CALIFORNIA SUR</td>\n",
       "      <td>3</td>\n",
       "    </tr>\n",
       "    <tr>\n",
       "      <th>3</th>\n",
       "      <td>CAMPECHE</td>\n",
       "      <td>4</td>\n",
       "    </tr>\n",
       "    <tr>\n",
       "      <th>4</th>\n",
       "      <td>CHIAPAS</td>\n",
       "      <td>7</td>\n",
       "    </tr>\n",
       "  </tbody>\n",
       "</table>\n",
       "</div>"
      ],
      "text/plain": [
       "               NOM_ENT  CVE_ENT\n",
       "0       AGUASCALIENTES        1\n",
       "1      BAJA CALIFORNIA        2\n",
       "2  BAJA CALIFORNIA SUR        3\n",
       "3             CAMPECHE        4\n",
       "4              CHIAPAS        7"
      ]
     },
     "execution_count": 42,
     "metadata": {},
     "output_type": "execute_result"
    }
   ],
   "source": [
    "grouped.head()"
   ]
  },
  {
   "cell_type": "code",
   "execution_count": 43,
   "metadata": {},
   "outputs": [
    {
     "data": {
      "text/plain": [
       "(32, 2)"
      ]
     },
     "execution_count": 43,
     "metadata": {},
     "output_type": "execute_result"
    }
   ],
   "source": [
    "grouped.shape"
   ]
  },
  {
   "cell_type": "code",
   "execution_count": 44,
   "metadata": {},
   "outputs": [
    {
     "data": {
      "text/plain": [
       "dict_keys(['index', 'columns', 'data'])"
      ]
     },
     "execution_count": 44,
     "metadata": {},
     "output_type": "execute_result"
    }
   ],
   "source": [
    "dict_CCEFML = grouped.to_dict(orient='split')\n",
    "dict_CCEFML.keys()"
   ]
  },
  {
   "cell_type": "code",
   "execution_count": 45,
   "metadata": {},
   "outputs": [
    {
     "data": {
      "text/plain": [
       "{'data': [['AGUASCALIENTES', 1],\n",
       "  ['BAJA CALIFORNIA', 2],\n",
       "  ['BAJA CALIFORNIA SUR', 3],\n",
       "  ['CAMPECHE', 4],\n",
       "  ['CHIAPAS', 7],\n",
       "  ['CHIHUAHUA', 8],\n",
       "  ['CIUDAD DE MEXICO', 9],\n",
       "  ['COAHUILA', 5],\n",
       "  ['COLIMA', 6],\n",
       "  ['DURANGO', 10],\n",
       "  ['GUANAJUATO', 11],\n",
       "  ['GUERRERO', 12],\n",
       "  ['HIDALGO', 13],\n",
       "  ['JALISCO', 14],\n",
       "  ['MEXICO', 15],\n",
       "  ['MICHOACAN', 16],\n",
       "  ['MORELOS', 17],\n",
       "  ['NAYARIT', 18],\n",
       "  ['NUEVO LEON', 19],\n",
       "  ['OAXACA', 20],\n",
       "  ['PUEBLA', 21],\n",
       "  ['QUERETARO', 22],\n",
       "  ['QUINTANA ROO', 23],\n",
       "  ['SAN LUIS POTOSI', 24],\n",
       "  ['SINALOA', 25],\n",
       "  ['SONORA', 26],\n",
       "  ['TABASCO', 27],\n",
       "  ['TAMAULIPAS', 28],\n",
       "  ['TLAXCALA', 29],\n",
       "  ['VERACRUZ', 30],\n",
       "  ['YUCATAN', 31],\n",
       "  ['ZACATECAS', 32]]}"
      ]
     },
     "execution_count": 45,
     "metadata": {},
     "output_type": "execute_result"
    }
   ],
   "source": [
    "dict_CCEFML.pop('index')\n",
    "dict_CCEFML.pop('columns')\n",
    "dict_CCEFML"
   ]
  },
  {
   "cell_type": "code",
   "execution_count": 46,
   "metadata": {},
   "outputs": [
    {
     "data": {
      "text/plain": [
       "['AGUASCALIENTES', 1]"
      ]
     },
     "execution_count": 46,
     "metadata": {},
     "output_type": "execute_result"
    }
   ],
   "source": [
    "dict_CCEFML['data'][0]"
   ]
  },
  {
   "cell_type": "code",
   "execution_count": 47,
   "metadata": {},
   "outputs": [
    {
     "data": {
      "text/plain": [
       "'AGUASCALIENTES'"
      ]
     },
     "execution_count": 47,
     "metadata": {},
     "output_type": "execute_result"
    }
   ],
   "source": [
    "dict_CCEFML['data'][0][0]"
   ]
  },
  {
   "cell_type": "code",
   "execution_count": 48,
   "metadata": {},
   "outputs": [
    {
     "data": {
      "text/plain": [
       "1"
      ]
     },
     "execution_count": 48,
     "metadata": {},
     "output_type": "execute_result"
    }
   ],
   "source": [
    "dict_CCEFML['data'][0][1]"
   ]
  },
  {
   "cell_type": "code",
   "execution_count": 49,
   "metadata": {},
   "outputs": [
    {
     "data": {
      "text/plain": [
       "array(['AGUASCALIENTES', 'BAJA CALIFORNIA', 'BAJA CALIFORNIA SUR',\n",
       "       'CAMPECHE', 'COAHUILA', 'COLIMA', 'CHIAPAS', 'CHIHUAHUA',\n",
       "       'CIUDAD DE MEXICO', 'DURANGO', 'GUANAJUATO', 'GUERRERO', 'HIDALGO',\n",
       "       'JALISCO', 'MEXICO', 'MICHOACAN', 'MORELOS', 'NAYARIT',\n",
       "       'NUEVO LEON', 'OAXACA', 'PUEBLA', 'QUERETARO', 'QUINTANA ROO',\n",
       "       'SAN LUIS POTOSI', 'SINALOA', 'SONORA', 'TABASCO', 'TAMAULIPAS',\n",
       "       'TLAXCALA', 'VERACRUZ', 'YUCATAN', 'ZACATECAS'], dtype=object)"
      ]
     },
     "execution_count": 49,
     "metadata": {},
     "output_type": "execute_result"
    }
   ],
   "source": [
    "array_NOM_ENT = df_CCEFML_copy.NOM_ENT.unique()\n",
    "array_NOM_ENT"
   ]
  },
  {
   "cell_type": "code",
   "execution_count": 50,
   "metadata": {},
   "outputs": [
    {
     "data": {
      "text/plain": [
       "{'AGUASCALIENTES': 1,\n",
       " 'BAJA CALIFORNIA': 2,\n",
       " 'BAJA CALIFORNIA SUR': 3,\n",
       " 'CAMPECHE': 4,\n",
       " 'CHIAPAS': 7,\n",
       " 'CHIHUAHUA': 8,\n",
       " 'CIUDAD DE MEXICO': 9,\n",
       " 'COAHUILA': 5,\n",
       " 'COLIMA': 6,\n",
       " 'DURANGO': 10,\n",
       " 'GUANAJUATO': 11,\n",
       " 'GUERRERO': 12,\n",
       " 'HIDALGO': 13,\n",
       " 'JALISCO': 14,\n",
       " 'MEXICO': 15,\n",
       " 'MICHOACAN': 16,\n",
       " 'MORELOS': 17,\n",
       " 'NAYARIT': 18,\n",
       " 'NUEVO LEON': 19,\n",
       " 'OAXACA': 20,\n",
       " 'PUEBLA': 21,\n",
       " 'QUERETARO': 22,\n",
       " 'QUINTANA ROO': 23,\n",
       " 'SAN LUIS POTOSI': 24,\n",
       " 'SINALOA': 25,\n",
       " 'SONORA': 26,\n",
       " 'TABASCO': 27,\n",
       " 'TAMAULIPAS': 28,\n",
       " 'TLAXCALA': 29,\n",
       " 'VERACRUZ': 30,\n",
       " 'YUCATAN': 31,\n",
       " 'ZACATECAS': 32}"
      ]
     },
     "execution_count": 50,
     "metadata": {},
     "output_type": "execute_result"
    }
   ],
   "source": [
    "dict_CCEFML_ENTIDAD = {}\n",
    "\n",
    "for line in dict_CCEFML['data']:\n",
    "    #print(line[0], ' : ', line[1])\n",
    "    dict_CCEFML_ENTIDAD[line[0]] = line[1]\n",
    "\n",
    "dict_CCEFML_ENTIDAD"
   ]
  },
  {
   "cell_type": "markdown",
   "metadata": {},
   "source": [
    "### ENTIDADES"
   ]
  },
  {
   "cell_type": "code",
   "execution_count": 51,
   "metadata": {},
   "outputs": [
    {
     "data": {
      "text/plain": [
       "array(['AGUASCALIENTES', 'BAJA CALIFORNIA', 'BAJA CALIFORNIA SUR',\n",
       "       'CAMPECHE', 'COAHUILA', 'COLIMA', 'CHIAPAS', 'CHIHUAHUA',\n",
       "       'CIUDAD DE MEXICO', 'DURANGO', 'GUANAJUATO', 'GUERRERO', 'HIDALGO',\n",
       "       'JALISCO', 'MEXICO', 'MICHOACAN', 'MORELOS', 'NAYARIT',\n",
       "       'NUEVO LEON', 'OAXACA', 'PUEBLA', 'QUERETARO', 'QUINTANA ROO',\n",
       "       'SAN LUIS POTOSI', 'SINALOA', 'SONORA', 'TABASCO', 'TAMAULIPAS',\n",
       "       'TLAXCALA', 'VERACRUZ', 'YUCATAN', 'ZACATECAS'], dtype=object)"
      ]
     },
     "execution_count": 51,
     "metadata": {},
     "output_type": "execute_result"
    }
   ],
   "source": [
    "df_copy[\"CVE_ENT\"].unique()"
   ]
  },
  {
   "cell_type": "code",
   "execution_count": 52,
   "metadata": {},
   "outputs": [
    {
     "data": {
      "text/plain": [
       "array(['AGUASCALIENTES', 'BAJA CALIFORNIA', 'BAJA CALIFORNIA SUR',\n",
       "       'CAMPECHE', 'COAHUILA', 'COLIMA', 'CHIAPAS', 'CHIHUAHUA',\n",
       "       'CIUDAD DE MEXICO', 'DURANGO', 'GUANAJUATO', 'GUERRERO', 'HIDALGO',\n",
       "       'JALISCO', 'MEXICO', 'MICHOACAN', 'MORELOS', 'NAYARIT',\n",
       "       'NUEVO LEON', 'OAXACA', 'PUEBLA', 'QUERETARO', 'QUINTANA ROO',\n",
       "       'SAN LUIS POTOSI', 'SINALOA', 'SONORA', 'TABASCO', 'TAMAULIPAS',\n",
       "       'TLAXCALA', 'VERACRUZ', 'YUCATAN', 'ZACATECAS'], dtype=object)"
      ]
     },
     "execution_count": 52,
     "metadata": {},
     "output_type": "execute_result"
    }
   ],
   "source": [
    "df_CCEFML_copy[\"NOM_ENT\"].unique()"
   ]
  },
  {
   "cell_type": "code",
   "execution_count": 53,
   "metadata": {},
   "outputs": [
    {
     "data": {
      "text/plain": [
       "{'AGUASCALIENTES': 1,\n",
       " 'BAJA CALIFORNIA': 2,\n",
       " 'BAJA CALIFORNIA SUR': 3,\n",
       " 'CAMPECHE': 4,\n",
       " 'CHIAPAS': 7,\n",
       " 'CHIHUAHUA': 8,\n",
       " 'CIUDAD DE MEXICO': 9,\n",
       " 'COAHUILA': 5,\n",
       " 'COLIMA': 6,\n",
       " 'DURANGO': 10,\n",
       " 'GUANAJUATO': 11,\n",
       " 'GUERRERO': 12,\n",
       " 'HIDALGO': 13,\n",
       " 'JALISCO': 14,\n",
       " 'MEXICO': 15,\n",
       " 'MICHOACAN': 16,\n",
       " 'MORELOS': 17,\n",
       " 'NAYARIT': 18,\n",
       " 'NUEVO LEON': 19,\n",
       " 'OAXACA': 20,\n",
       " 'PUEBLA': 21,\n",
       " 'QUERETARO': 22,\n",
       " 'QUINTANA ROO': 23,\n",
       " 'SAN LUIS POTOSI': 24,\n",
       " 'SINALOA': 25,\n",
       " 'SONORA': 26,\n",
       " 'TABASCO': 27,\n",
       " 'TAMAULIPAS': 28,\n",
       " 'TLAXCALA': 29,\n",
       " 'VERACRUZ': 30,\n",
       " 'YUCATAN': 31,\n",
       " 'ZACATECAS': 32}"
      ]
     },
     "execution_count": 53,
     "metadata": {},
     "output_type": "execute_result"
    }
   ],
   "source": [
    "dict_CCEFML_ENTIDAD"
   ]
  },
  {
   "cell_type": "code",
   "execution_count": 54,
   "metadata": {},
   "outputs": [
    {
     "data": {
      "text/plain": [
       "array([ 1,  2,  3,  4,  5,  6,  7,  8,  9, 10, 11, 12, 13, 14, 15, 16, 17,\n",
       "       18, 19, 20, 21, 22, 23, 24, 25, 26, 27, 28, 29, 30, 31, 32])"
      ]
     },
     "execution_count": 54,
     "metadata": {},
     "output_type": "execute_result"
    }
   ],
   "source": [
    "df_copy['CVE_ENT'] = df_copy['CVE_ENT'].replace(dict_CCEFML_ENTIDAD)\n",
    "df_copy['CVE_ENT'] = df_copy['CVE_ENT'].astype('int64')\n",
    "df_copy['CVE_ENT'].unique()"
   ]
  },
  {
   "cell_type": "markdown",
   "metadata": {},
   "source": [
    "## Diccionario Municipios `['NOM_ENT', 'NOM_MUN', 'CVE_ENT', 'CVE_MUN']`"
   ]
  },
  {
   "cell_type": "code",
   "execution_count": 55,
   "metadata": {},
   "outputs": [
    {
     "data": {
      "text/html": [
       "<div>\n",
       "<style scoped>\n",
       "    .dataframe tbody tr th:only-of-type {\n",
       "        vertical-align: middle;\n",
       "    }\n",
       "\n",
       "    .dataframe tbody tr th {\n",
       "        vertical-align: top;\n",
       "    }\n",
       "\n",
       "    .dataframe thead th {\n",
       "        text-align: right;\n",
       "    }\n",
       "</style>\n",
       "<table border=\"1\" class=\"dataframe\">\n",
       "  <thead>\n",
       "    <tr style=\"text-align: right;\">\n",
       "      <th></th>\n",
       "      <th></th>\n",
       "      <th></th>\n",
       "      <th></th>\n",
       "    </tr>\n",
       "    <tr>\n",
       "      <th>NOM_ENT</th>\n",
       "      <th>NOM_MUN</th>\n",
       "      <th>CVE_ENT</th>\n",
       "      <th>CVE_MUN</th>\n",
       "    </tr>\n",
       "  </thead>\n",
       "  <tbody>\n",
       "    <tr>\n",
       "      <th rowspan=\"5\" valign=\"top\">AGUASCALIENTES</th>\n",
       "      <th>AGUASCALIENTES</th>\n",
       "      <th>1</th>\n",
       "      <th>1</th>\n",
       "    </tr>\n",
       "    <tr>\n",
       "      <th>ASIENTOS</th>\n",
       "      <th>1</th>\n",
       "      <th>2</th>\n",
       "    </tr>\n",
       "    <tr>\n",
       "      <th>CALVILLO</th>\n",
       "      <th>1</th>\n",
       "      <th>3</th>\n",
       "    </tr>\n",
       "    <tr>\n",
       "      <th>COSIO</th>\n",
       "      <th>1</th>\n",
       "      <th>4</th>\n",
       "    </tr>\n",
       "    <tr>\n",
       "      <th>EL LLANO</th>\n",
       "      <th>1</th>\n",
       "      <th>10</th>\n",
       "    </tr>\n",
       "  </tbody>\n",
       "</table>\n",
       "</div>"
      ],
      "text/plain": [
       "Empty DataFrame\n",
       "Columns: []\n",
       "Index: [(AGUASCALIENTES, AGUASCALIENTES, 1, 1), (AGUASCALIENTES, ASIENTOS, 1, 2), (AGUASCALIENTES, CALVILLO, 1, 3), (AGUASCALIENTES, COSIO, 1, 4), (AGUASCALIENTES, EL LLANO, 1, 10)]"
      ]
     },
     "execution_count": 55,
     "metadata": {},
     "output_type": "execute_result"
    }
   ],
   "source": [
    "#grouped = df.groupby(['', 'MUNICIPIO'])\n",
    "#df_test.to_dict()\n",
    "#df_test\n",
    "grouped = pd.DataFrame(df_CCEFML_copy.groupby(['NOM_ENT', 'NOM_MUN', 'CVE_ENT', 'CVE_MUN']).size())\n",
    "grouped.drop([0], axis=1, inplace=True)\n",
    "grouped.head()"
   ]
  },
  {
   "cell_type": "code",
   "execution_count": 56,
   "metadata": {},
   "outputs": [
    {
     "data": {
      "text/plain": [
       "Index(['NOM_ENT', 'NOM_MUN', 'CVE_ENT', 'CVE_MUN'], dtype='object')"
      ]
     },
     "execution_count": 56,
     "metadata": {},
     "output_type": "execute_result"
    }
   ],
   "source": [
    "grouped.reset_index(inplace=True)\n",
    "grouped.columns"
   ]
  },
  {
   "cell_type": "code",
   "execution_count": 57,
   "metadata": {},
   "outputs": [
    {
     "data": {
      "text/plain": [
       "Index(['NOM_ENT', 'NOM_MUN', 'CVE_ENT', 'CVE_MUN'], dtype='object')"
      ]
     },
     "execution_count": 57,
     "metadata": {},
     "output_type": "execute_result"
    }
   ],
   "source": [
    "#grouped.reset_index(inplace=True)\n",
    "grouped.columns"
   ]
  },
  {
   "cell_type": "code",
   "execution_count": 58,
   "metadata": {},
   "outputs": [
    {
     "data": {
      "text/html": [
       "<div>\n",
       "<style scoped>\n",
       "    .dataframe tbody tr th:only-of-type {\n",
       "        vertical-align: middle;\n",
       "    }\n",
       "\n",
       "    .dataframe tbody tr th {\n",
       "        vertical-align: top;\n",
       "    }\n",
       "\n",
       "    .dataframe thead th {\n",
       "        text-align: right;\n",
       "    }\n",
       "</style>\n",
       "<table border=\"1\" class=\"dataframe\">\n",
       "  <thead>\n",
       "    <tr style=\"text-align: right;\">\n",
       "      <th></th>\n",
       "      <th>NOM_ENT</th>\n",
       "      <th>NOM_MUN</th>\n",
       "      <th>CVE_ENT</th>\n",
       "      <th>CVE_MUN</th>\n",
       "    </tr>\n",
       "  </thead>\n",
       "  <tbody>\n",
       "    <tr>\n",
       "      <th>0</th>\n",
       "      <td>AGUASCALIENTES</td>\n",
       "      <td>AGUASCALIENTES</td>\n",
       "      <td>1</td>\n",
       "      <td>1</td>\n",
       "    </tr>\n",
       "    <tr>\n",
       "      <th>1</th>\n",
       "      <td>AGUASCALIENTES</td>\n",
       "      <td>ASIENTOS</td>\n",
       "      <td>1</td>\n",
       "      <td>2</td>\n",
       "    </tr>\n",
       "    <tr>\n",
       "      <th>2</th>\n",
       "      <td>AGUASCALIENTES</td>\n",
       "      <td>CALVILLO</td>\n",
       "      <td>1</td>\n",
       "      <td>3</td>\n",
       "    </tr>\n",
       "    <tr>\n",
       "      <th>3</th>\n",
       "      <td>AGUASCALIENTES</td>\n",
       "      <td>COSIO</td>\n",
       "      <td>1</td>\n",
       "      <td>4</td>\n",
       "    </tr>\n",
       "    <tr>\n",
       "      <th>4</th>\n",
       "      <td>AGUASCALIENTES</td>\n",
       "      <td>EL LLANO</td>\n",
       "      <td>1</td>\n",
       "      <td>10</td>\n",
       "    </tr>\n",
       "  </tbody>\n",
       "</table>\n",
       "</div>"
      ],
      "text/plain": [
       "          NOM_ENT         NOM_MUN  CVE_ENT  CVE_MUN\n",
       "0  AGUASCALIENTES  AGUASCALIENTES        1        1\n",
       "1  AGUASCALIENTES        ASIENTOS        1        2\n",
       "2  AGUASCALIENTES        CALVILLO        1        3\n",
       "3  AGUASCALIENTES           COSIO        1        4\n",
       "4  AGUASCALIENTES        EL LLANO        1       10"
      ]
     },
     "execution_count": 58,
     "metadata": {},
     "output_type": "execute_result"
    }
   ],
   "source": [
    "grouped.head()"
   ]
  },
  {
   "cell_type": "code",
   "execution_count": 59,
   "metadata": {},
   "outputs": [
    {
     "data": {
      "text/plain": [
       "(2463, 4)"
      ]
     },
     "execution_count": 59,
     "metadata": {},
     "output_type": "execute_result"
    }
   ],
   "source": [
    "grouped.shape"
   ]
  },
  {
   "cell_type": "code",
   "execution_count": 60,
   "metadata": {},
   "outputs": [
    {
     "data": {
      "text/plain": [
       "dict_keys(['index', 'columns', 'data'])"
      ]
     },
     "execution_count": 60,
     "metadata": {},
     "output_type": "execute_result"
    }
   ],
   "source": [
    "dict_CCEFML = grouped.to_dict(orient='split')\n",
    "dict_CCEFML.keys()"
   ]
  },
  {
   "cell_type": "code",
   "execution_count": 61,
   "metadata": {},
   "outputs": [
    {
     "data": {
      "text/plain": [
       "{'data': [['AGUASCALIENTES', 'AGUASCALIENTES', 1, 1],\n",
       "  ['AGUASCALIENTES', 'ASIENTOS', 1, 2],\n",
       "  ['AGUASCALIENTES', 'CALVILLO', 1, 3],\n",
       "  ['AGUASCALIENTES', 'COSIO', 1, 4],\n",
       "  ['AGUASCALIENTES', 'EL LLANO', 1, 10],\n",
       "  ['AGUASCALIENTES', 'JESUS MARIA', 1, 5],\n",
       "  ['AGUASCALIENTES', 'PABELLON DE ARTEAGA', 1, 6],\n",
       "  ['AGUASCALIENTES', 'RINCON DE ROMOS', 1, 7],\n",
       "  ['AGUASCALIENTES', 'SAN FRANCISCO DE LOS ROMO', 1, 11],\n",
       "  ['AGUASCALIENTES', 'SAN JOSE DE GRACIA', 1, 8],\n",
       "  ['AGUASCALIENTES', 'TEPEZALA', 1, 9],\n",
       "  ['BAJA CALIFORNIA', 'ENSENADA', 2, 1],\n",
       "  ['BAJA CALIFORNIA', 'MEXICALI', 2, 2],\n",
       "  ['BAJA CALIFORNIA', 'PLAYAS DE ROSARITO', 2, 5],\n",
       "  ['BAJA CALIFORNIA', 'TECATE', 2, 3],\n",
       "  ['BAJA CALIFORNIA', 'TIJUANA', 2, 4],\n",
       "  ['BAJA CALIFORNIA SUR', 'COMONDU', 3, 1],\n",
       "  ['BAJA CALIFORNIA SUR', 'LA PAZ', 3, 3],\n",
       "  ['BAJA CALIFORNIA SUR', 'LORETO', 3, 9],\n",
       "  ['BAJA CALIFORNIA SUR', 'LOS CABOS', 3, 8],\n",
       "  ['BAJA CALIFORNIA SUR', 'MULEGE', 3, 2],\n",
       "  ['CAMPECHE', 'CALAKMUL', 4, 10],\n",
       "  ['CAMPECHE', 'CALKINI', 4, 1],\n",
       "  ['CAMPECHE', 'CAMPECHE', 4, 2],\n",
       "  ['CAMPECHE', 'CANDELARIA', 4, 11],\n",
       "  ['CAMPECHE', 'CARMEN', 4, 3],\n",
       "  ['CAMPECHE', 'CHAMPOTON', 4, 4],\n",
       "  ['CAMPECHE', 'ESCARCEGA', 4, 9],\n",
       "  ['CAMPECHE', 'HECELCHAKAN', 4, 5],\n",
       "  ['CAMPECHE', 'HOPELCHEN', 4, 6],\n",
       "  ['CAMPECHE', 'PALIZADA', 4, 7],\n",
       "  ['CAMPECHE', 'TENABO', 4, 8],\n",
       "  ['CHIAPAS', 'ACACOYAGUA', 7, 1],\n",
       "  ['CHIAPAS', 'ACALA', 7, 2],\n",
       "  ['CHIAPAS', 'ACAPETAHUA', 7, 3],\n",
       "  ['CHIAPAS', 'ALDAMA', 7, 113],\n",
       "  ['CHIAPAS', 'ALTAMIRANO', 7, 4],\n",
       "  ['CHIAPAS', 'AMATAN', 7, 5],\n",
       "  ['CHIAPAS', 'AMATENANGO DE LA FRONTERA', 7, 6],\n",
       "  ['CHIAPAS', 'AMATENANGO DEL VALLE', 7, 7],\n",
       "  ['CHIAPAS', 'ANGEL ALBINO CORZO', 7, 8],\n",
       "  ['CHIAPAS', 'ARRIAGA', 7, 9],\n",
       "  ['CHIAPAS', 'BEJUCAL DE OCAMPO', 7, 10],\n",
       "  ['CHIAPAS', 'BELLA VISTA', 7, 11],\n",
       "  ['CHIAPAS', 'BENEMERITO DE LAS AMERICAS', 7, 114],\n",
       "  ['CHIAPAS', 'BERRIOZABAL', 7, 12],\n",
       "  ['CHIAPAS', 'BOCHIL', 7, 13],\n",
       "  ['CHIAPAS', 'CACAHOATAN', 7, 15],\n",
       "  ['CHIAPAS', 'CAPITAN LUIS ANGEL VIDAL', 7, 120],\n",
       "  ['CHIAPAS', 'CATAZAJA', 7, 16],\n",
       "  ['CHIAPAS', 'CHALCHIHUITAN', 7, 22],\n",
       "  ['CHIAPAS', 'CHAMULA', 7, 23],\n",
       "  ['CHIAPAS', 'CHANAL', 7, 24],\n",
       "  ['CHIAPAS', 'CHAPULTENANGO', 7, 25],\n",
       "  ['CHIAPAS', 'CHENALHO', 7, 26],\n",
       "  ['CHIAPAS', 'CHIAPA DE CORZO', 7, 27],\n",
       "  ['CHIAPAS', 'CHIAPILLA', 7, 28],\n",
       "  ['CHIAPAS', 'CHICOASEN', 7, 29],\n",
       "  ['CHIAPAS', 'CHICOMUSELO', 7, 30],\n",
       "  ['CHIAPAS', 'CHILON', 7, 31],\n",
       "  ['CHIAPAS', 'CINTALAPA', 7, 17],\n",
       "  ['CHIAPAS', 'COAPILLA', 7, 18],\n",
       "  ['CHIAPAS', 'COMITAN DE DOMINGUEZ', 7, 19],\n",
       "  ['CHIAPAS', 'COPAINALA', 7, 21],\n",
       "  ['CHIAPAS', 'EL BOSQUE', 7, 14],\n",
       "  ['CHIAPAS', 'EL PARRAL', 7, 122],\n",
       "  ['CHIAPAS', 'EL PORVENIR', 7, 70],\n",
       "  ['CHIAPAS', 'EMILIANO ZAPATA', 7, 123],\n",
       "  ['CHIAPAS', 'ESCUINTLA', 7, 32],\n",
       "  ['CHIAPAS', 'FRANCISCO LEON', 7, 33],\n",
       "  ['CHIAPAS', 'FRONTERA COMALAPA', 7, 34],\n",
       "  ['CHIAPAS', 'FRONTERA HIDALGO', 7, 35],\n",
       "  ['CHIAPAS', 'HUEHUETAN', 7, 37],\n",
       "  ['CHIAPAS', 'HUITIUPAN', 7, 39],\n",
       "  ['CHIAPAS', 'HUIXTAN', 7, 38],\n",
       "  ['CHIAPAS', 'HUIXTLA', 7, 40],\n",
       "  ['CHIAPAS', 'IXHUATAN', 7, 42],\n",
       "  ['CHIAPAS', 'IXTACOMITAN', 7, 43],\n",
       "  ['CHIAPAS', 'IXTAPA', 7, 44],\n",
       "  ['CHIAPAS', 'IXTAPANGAJOYA', 7, 45],\n",
       "  ['CHIAPAS', 'JIQUIPILAS', 7, 46],\n",
       "  ['CHIAPAS', 'JITOTOL', 7, 47],\n",
       "  ['CHIAPAS', 'JUAREZ', 7, 48],\n",
       "  ['CHIAPAS', 'LA CONCORDIA', 7, 20],\n",
       "  ['CHIAPAS', 'LA GRANDEZA', 7, 36],\n",
       "  ['CHIAPAS', 'LA INDEPENDENCIA', 7, 41],\n",
       "  ['CHIAPAS', 'LA LIBERTAD', 7, 50],\n",
       "  ['CHIAPAS', 'LA TRINITARIA', 7, 99],\n",
       "  ['CHIAPAS', 'LARRAINZAR', 7, 49],\n",
       "  ['CHIAPAS', 'LAS MARGARITAS', 7, 52],\n",
       "  ['CHIAPAS', 'LAS ROSAS', 7, 75],\n",
       "  ['CHIAPAS', 'MAPASTEPEC', 7, 51],\n",
       "  ['CHIAPAS', 'MARAVILLA TENEJAPA', 7, 115],\n",
       "  ['CHIAPAS', 'MARQUES DE COMILLAS', 7, 116],\n",
       "  ['CHIAPAS', 'MAZAPA DE MADERO', 7, 53],\n",
       "  ['CHIAPAS', 'MAZATAN', 7, 54],\n",
       "  ['CHIAPAS', 'METAPA', 7, 55],\n",
       "  ['CHIAPAS', 'MEZCALAPA', 7, 124],\n",
       "  ['CHIAPAS', 'MITONTIC', 7, 56],\n",
       "  ['CHIAPAS', 'MONTECRISTO DE GUERRERO', 7, 117],\n",
       "  ['CHIAPAS', 'MOTOZINTLA', 7, 57],\n",
       "  ['CHIAPAS', 'NICOLAS RUIZ', 7, 58],\n",
       "  ['CHIAPAS', 'OCOSINGO', 7, 59],\n",
       "  ['CHIAPAS', 'OCOTEPEC', 7, 60],\n",
       "  ['CHIAPAS', 'OCOZOCOAUTLA DE ESPINOSA', 7, 61],\n",
       "  ['CHIAPAS', 'OSTUACAN', 7, 62],\n",
       "  ['CHIAPAS', 'OSUMACINTA', 7, 63],\n",
       "  ['CHIAPAS', 'OXCHUC', 7, 64],\n",
       "  ['CHIAPAS', 'PALENQUE', 7, 65],\n",
       "  ['CHIAPAS', 'PANTELHO', 7, 66],\n",
       "  ['CHIAPAS', 'PANTEPEC', 7, 67],\n",
       "  ['CHIAPAS', 'PICHUCALCO', 7, 68],\n",
       "  ['CHIAPAS', 'PIJIJIAPAN', 7, 69],\n",
       "  ['CHIAPAS', 'PUEBLO NUEVO SOLISTAHUACAN', 7, 72],\n",
       "  ['CHIAPAS', 'RAYON', 7, 73],\n",
       "  ['CHIAPAS', 'REFORMA', 7, 74],\n",
       "  ['CHIAPAS', 'RINCON CHAMULA SAN PEDRO', 7, 121],\n",
       "  ['CHIAPAS', 'SABANILLA', 7, 76],\n",
       "  ['CHIAPAS', 'SALTO DE AGUA', 7, 77],\n",
       "  ['CHIAPAS', 'SAN ANDRES DURAZNAL', 7, 118],\n",
       "  ['CHIAPAS', 'SAN CRISTOBAL DE LAS CASAS', 7, 78],\n",
       "  ['CHIAPAS', 'SAN FERNANDO', 7, 79],\n",
       "  ['CHIAPAS', 'SAN JUAN CANCUC', 7, 112],\n",
       "  ['CHIAPAS', 'SAN LUCAS', 7, 110],\n",
       "  ['CHIAPAS', 'SANTIAGO EL PINAR', 7, 119],\n",
       "  ['CHIAPAS', 'SILTEPEC', 7, 80],\n",
       "  ['CHIAPAS', 'SIMOJOVEL', 7, 81],\n",
       "  ['CHIAPAS', 'SITALA', 7, 82],\n",
       "  ['CHIAPAS', 'SOCOLTENANGO', 7, 83],\n",
       "  ['CHIAPAS', 'SOLOSUCHIAPA', 7, 84],\n",
       "  ['CHIAPAS', 'SOYALO', 7, 85],\n",
       "  ['CHIAPAS', 'SUCHIAPA', 7, 86],\n",
       "  ['CHIAPAS', 'SUCHIATE', 7, 87],\n",
       "  ['CHIAPAS', 'SUNUAPA', 7, 88],\n",
       "  ['CHIAPAS', 'TAPACHULA', 7, 89],\n",
       "  ['CHIAPAS', 'TAPALAPA', 7, 90],\n",
       "  ['CHIAPAS', 'TAPILULA', 7, 91],\n",
       "  ['CHIAPAS', 'TECPATAN', 7, 92],\n",
       "  ['CHIAPAS', 'TENEJAPA', 7, 93],\n",
       "  ['CHIAPAS', 'TEOPISCA', 7, 94],\n",
       "  ['CHIAPAS', 'TILA', 7, 96],\n",
       "  ['CHIAPAS', 'TONALA', 7, 97],\n",
       "  ['CHIAPAS', 'TOTOLAPA', 7, 98],\n",
       "  ['CHIAPAS', 'TUMBALA', 7, 100],\n",
       "  ['CHIAPAS', 'TUXTLA CHICO', 7, 102],\n",
       "  ['CHIAPAS', 'TUXTLA GUTIERREZ', 7, 101],\n",
       "  ['CHIAPAS', 'TUZANTAN', 7, 103],\n",
       "  ['CHIAPAS', 'TZIMOL', 7, 104],\n",
       "  ['CHIAPAS', 'UNION JUAREZ', 7, 105],\n",
       "  ['CHIAPAS', 'VENUSTIANO CARRANZA', 7, 106],\n",
       "  ['CHIAPAS', 'VILLA COMALTITLAN', 7, 71],\n",
       "  ['CHIAPAS', 'VILLA CORZO', 7, 107],\n",
       "  ['CHIAPAS', 'VILLAFLORES', 7, 108],\n",
       "  ['CHIAPAS', 'YAJALON', 7, 109],\n",
       "  ['CHIAPAS', 'ZINACANTAN', 7, 111],\n",
       "  ['CHIHUAHUA', 'AHUMADA', 8, 1],\n",
       "  ['CHIHUAHUA', 'ALDAMA', 8, 2],\n",
       "  ['CHIHUAHUA', 'ALLENDE', 8, 3],\n",
       "  ['CHIHUAHUA', 'AQUILES SERDAN', 8, 4],\n",
       "  ['CHIHUAHUA', 'ASCENSION', 8, 5],\n",
       "  ['CHIHUAHUA', 'BACHINIVA', 8, 6],\n",
       "  ['CHIHUAHUA', 'BALLEZA', 8, 7],\n",
       "  ['CHIHUAHUA', 'BATOPILAS DE MANUEL GOMEZ MORIN', 8, 8],\n",
       "  ['CHIHUAHUA', 'BOCOYNA', 8, 9],\n",
       "  ['CHIHUAHUA', 'BUENAVENTURA', 8, 10],\n",
       "  ['CHIHUAHUA', 'CAMARGO', 8, 11],\n",
       "  ['CHIHUAHUA', 'CARICHI', 8, 12],\n",
       "  ['CHIHUAHUA', 'CASAS GRANDES', 8, 13],\n",
       "  ['CHIHUAHUA', 'CHIHUAHUA', 8, 19],\n",
       "  ['CHIHUAHUA', 'CHINIPAS', 8, 20],\n",
       "  ['CHIHUAHUA', 'CORONADO', 8, 14],\n",
       "  ['CHIHUAHUA', 'COYAME DEL SOTOL', 8, 15],\n",
       "  ['CHIHUAHUA', 'CUAUHTEMOC', 8, 17],\n",
       "  ['CHIHUAHUA', 'CUSIHUIRIACHI', 8, 18],\n",
       "  ['CHIHUAHUA', 'DELICIAS', 8, 21],\n",
       "  ['CHIHUAHUA', 'DR. BELISARIO DOMINGUEZ', 8, 22],\n",
       "  ['CHIHUAHUA', 'EL TULE', 8, 64],\n",
       "  ['CHIHUAHUA', 'GALEANA', 8, 23],\n",
       "  ['CHIHUAHUA', 'GOMEZ FARIAS', 8, 25],\n",
       "  ['CHIHUAHUA', 'GRAN MORELOS', 8, 26],\n",
       "  ['CHIHUAHUA', 'GUACHOCHI', 8, 27],\n",
       "  ['CHIHUAHUA', 'GUADALUPE', 8, 28],\n",
       "  ['CHIHUAHUA', 'GUADALUPE Y CALVO', 8, 29],\n",
       "  ['CHIHUAHUA', 'GUAZAPARES', 8, 30],\n",
       "  ['CHIHUAHUA', 'GUERRERO', 8, 31],\n",
       "  ['CHIHUAHUA', 'HIDALGO DEL PARRAL', 8, 32],\n",
       "  ['CHIHUAHUA', 'HUEJOTITAN', 8, 33],\n",
       "  ['CHIHUAHUA', 'IGNACIO ZARAGOZA', 8, 34],\n",
       "  ['CHIHUAHUA', 'JANOS', 8, 35],\n",
       "  ['CHIHUAHUA', 'JIMENEZ', 8, 36],\n",
       "  ['CHIHUAHUA', 'JUAREZ', 8, 37],\n",
       "  ['CHIHUAHUA', 'JULIMES', 8, 38],\n",
       "  ['CHIHUAHUA', 'LA CRUZ', 8, 16],\n",
       "  ['CHIHUAHUA', 'LOPEZ', 8, 39],\n",
       "  ['CHIHUAHUA', 'MADERA', 8, 40],\n",
       "  ['CHIHUAHUA', 'MAGUARICHI', 8, 41],\n",
       "  ['CHIHUAHUA', 'MANUEL BENAVIDES', 8, 42],\n",
       "  ['CHIHUAHUA', 'MATACHI', 8, 43],\n",
       "  ['CHIHUAHUA', 'MATAMOROS', 8, 44],\n",
       "  ['CHIHUAHUA', 'MEOQUI', 8, 45],\n",
       "  ['CHIHUAHUA', 'MORELOS', 8, 46],\n",
       "  ['CHIHUAHUA', 'MORIS', 8, 47],\n",
       "  ['CHIHUAHUA', 'NAMIQUIPA', 8, 48],\n",
       "  ['CHIHUAHUA', 'NONOAVA', 8, 49],\n",
       "  ['CHIHUAHUA', 'NUEVO CASAS GRANDES', 8, 50],\n",
       "  ['CHIHUAHUA', 'OCAMPO', 8, 51],\n",
       "  ['CHIHUAHUA', 'OJINAGA', 8, 52],\n",
       "  ['CHIHUAHUA', 'PRAXEDIS G. GUERRERO', 8, 53],\n",
       "  ['CHIHUAHUA', 'RIVA PALACIO', 8, 54],\n",
       "  ['CHIHUAHUA', 'ROSALES', 8, 55],\n",
       "  ['CHIHUAHUA', 'ROSARIO', 8, 56],\n",
       "  ['CHIHUAHUA', 'SAN FRANCISCO DE BORJA', 8, 57],\n",
       "  ['CHIHUAHUA', 'SAN FRANCISCO DE CONCHOS', 8, 58],\n",
       "  ['CHIHUAHUA', 'SAN FRANCISCO DEL ORO', 8, 59],\n",
       "  ['CHIHUAHUA', 'SANTA BARBARA', 8, 60],\n",
       "  ['CHIHUAHUA', 'SANTA ISABEL', 8, 24],\n",
       "  ['CHIHUAHUA', 'SATEVO', 8, 61],\n",
       "  ['CHIHUAHUA', 'SAUCILLO', 8, 62],\n",
       "  ['CHIHUAHUA', 'TEMOSACHIC', 8, 63],\n",
       "  ['CHIHUAHUA', 'URIQUE', 8, 65],\n",
       "  ['CHIHUAHUA', 'URUACHI', 8, 66],\n",
       "  ['CHIHUAHUA', 'VALLE DE ZARAGOZA', 8, 67],\n",
       "  ['CIUDAD DE MEXICO', 'ALVARO OBREGON', 9, 10],\n",
       "  ['CIUDAD DE MEXICO', 'AZCAPOTZALCO', 9, 2],\n",
       "  ['CIUDAD DE MEXICO', 'BENITO JUAREZ', 9, 14],\n",
       "  ['CIUDAD DE MEXICO', 'COYOACAN', 9, 3],\n",
       "  ['CIUDAD DE MEXICO', 'CUAJIMALPA DE MORELOS', 9, 4],\n",
       "  ['CIUDAD DE MEXICO', 'CUAUHTEMOC', 9, 15],\n",
       "  ['CIUDAD DE MEXICO', 'GUSTAVO A. MADERO', 9, 5],\n",
       "  ['CIUDAD DE MEXICO', 'IZTACALCO', 9, 6],\n",
       "  ['CIUDAD DE MEXICO', 'IZTAPALAPA', 9, 7],\n",
       "  ['CIUDAD DE MEXICO', 'LA MAGDALENA CONTRERAS', 9, 8],\n",
       "  ['CIUDAD DE MEXICO', 'MIGUEL HIDALGO', 9, 16],\n",
       "  ['CIUDAD DE MEXICO', 'MILPA ALTA', 9, 9],\n",
       "  ['CIUDAD DE MEXICO', 'TLAHUAC', 9, 11],\n",
       "  ['CIUDAD DE MEXICO', 'TLALPAN', 9, 12],\n",
       "  ['CIUDAD DE MEXICO', 'VENUSTIANO CARRANZA', 9, 17],\n",
       "  ['CIUDAD DE MEXICO', 'XOCHIMILCO', 9, 13],\n",
       "  ['COAHUILA', 'ABASOLO', 5, 1],\n",
       "  ['COAHUILA', 'ACUÑA', 5, 2],\n",
       "  ['COAHUILA', 'ALLENDE', 5, 3],\n",
       "  ['COAHUILA', 'ARTEAGA', 5, 4],\n",
       "  ['COAHUILA', 'CANDELA', 5, 5],\n",
       "  ['COAHUILA', 'CASTAÑOS', 5, 6],\n",
       "  ['COAHUILA', 'CUATRO CIENEGAS', 5, 7],\n",
       "  ['COAHUILA', 'ESCOBEDO', 5, 8],\n",
       "  ['COAHUILA', 'FRANCISCO I. MADERO', 5, 9],\n",
       "  ['COAHUILA', 'FRONTERA', 5, 10],\n",
       "  ['COAHUILA', 'GENERAL CEPEDA', 5, 11],\n",
       "  ['COAHUILA', 'GUERRERO', 5, 12],\n",
       "  ['COAHUILA', 'HIDALGO', 5, 13],\n",
       "  ['COAHUILA', 'JIMENEZ', 5, 14],\n",
       "  ['COAHUILA', 'JUAREZ', 5, 15],\n",
       "  ['COAHUILA', 'LAMADRID', 5, 16],\n",
       "  ['COAHUILA', 'MATAMOROS', 5, 17],\n",
       "  ['COAHUILA', 'MONCLOVA', 5, 18],\n",
       "  ['COAHUILA', 'MORELOS', 5, 19],\n",
       "  ['COAHUILA', 'MUZQUIZ', 5, 20],\n",
       "  ['COAHUILA', 'NADADORES', 5, 21],\n",
       "  ['COAHUILA', 'NAVA', 5, 22],\n",
       "  ['COAHUILA', 'OCAMPO', 5, 23],\n",
       "  ['COAHUILA', 'PARRAS', 5, 24],\n",
       "  ['COAHUILA', 'PIEDRAS NEGRAS', 5, 25],\n",
       "  ['COAHUILA', 'PROGRESO', 5, 26],\n",
       "  ['COAHUILA', 'RAMOS ARIZPE', 5, 27],\n",
       "  ['COAHUILA', 'SABINAS', 5, 28],\n",
       "  ['COAHUILA', 'SACRAMENTO', 5, 29],\n",
       "  ['COAHUILA', 'SALTILLO', 5, 30],\n",
       "  ['COAHUILA', 'SAN BUENAVENTURA', 5, 31],\n",
       "  ['COAHUILA', 'SAN JUAN DE SABINAS', 5, 32],\n",
       "  ['COAHUILA', 'SAN PEDRO', 5, 33],\n",
       "  ['COAHUILA', 'SIERRA MOJADA', 5, 34],\n",
       "  ['COAHUILA', 'TORREON', 5, 35],\n",
       "  ['COAHUILA', 'VIESCA', 5, 36],\n",
       "  ['COAHUILA', 'VILLA UNION', 5, 37],\n",
       "  ['COAHUILA', 'ZARAGOZA', 5, 38],\n",
       "  ['COLIMA', 'ARMERIA', 6, 1],\n",
       "  ['COLIMA', 'COLIMA', 6, 2],\n",
       "  ['COLIMA', 'COMALA', 6, 3],\n",
       "  ['COLIMA', 'COQUIMATLAN', 6, 4],\n",
       "  ['COLIMA', 'CUAUHTEMOC', 6, 5],\n",
       "  ['COLIMA', 'IXTLAHUACAN', 6, 6],\n",
       "  ['COLIMA', 'MANZANILLO', 6, 7],\n",
       "  ['COLIMA', 'MINATITLAN', 6, 8],\n",
       "  ['COLIMA', 'TECOMAN', 6, 9],\n",
       "  ['COLIMA', 'VILLA DE ALVAREZ', 6, 10],\n",
       "  ['DURANGO', 'CANATLAN', 10, 1],\n",
       "  ['DURANGO', 'CANELAS', 10, 2],\n",
       "  ['DURANGO', 'CONETO DE COMONFORT', 10, 3],\n",
       "  ['DURANGO', 'CUENCAME', 10, 4],\n",
       "  ['DURANGO', 'DURANGO', 10, 5],\n",
       "  ['DURANGO', 'EL ORO', 10, 18],\n",
       "  ['DURANGO', 'GENERAL SIMON BOLIVAR', 10, 6],\n",
       "  ['DURANGO', 'GOMEZ PALACIO', 10, 7],\n",
       "  ['DURANGO', 'GUADALUPE VICTORIA', 10, 8],\n",
       "  ['DURANGO', 'GUANACEVI', 10, 9],\n",
       "  ['DURANGO', 'HIDALGO', 10, 10],\n",
       "  ['DURANGO', 'INDE', 10, 11],\n",
       "  ['DURANGO', 'LERDO', 10, 12],\n",
       "  ['DURANGO', 'MAPIMI', 10, 13],\n",
       "  ['DURANGO', 'MEZQUITAL', 10, 14],\n",
       "  ['DURANGO', 'NAZAS', 10, 15],\n",
       "  ['DURANGO', 'NOMBRE DE DIOS', 10, 16],\n",
       "  ['DURANGO', 'NUEVO IDEAL', 10, 39],\n",
       "  ['DURANGO', 'OCAMPO', 10, 17],\n",
       "  ['DURANGO', 'OTAEZ', 10, 19],\n",
       "  ['DURANGO', 'PANUCO DE CORONADO', 10, 20],\n",
       "  ['DURANGO', 'PEÑON BLANCO', 10, 21],\n",
       "  ['DURANGO', 'POANAS', 10, 22],\n",
       "  ['DURANGO', 'PUEBLO NUEVO', 10, 23],\n",
       "  ['DURANGO', 'RODEO', 10, 24],\n",
       "  ['DURANGO', 'SAN BERNARDO', 10, 25],\n",
       "  ['DURANGO', 'SAN DIMAS', 10, 26],\n",
       "  ['DURANGO', 'SAN JUAN DE GUADALUPE', 10, 27],\n",
       "  ['DURANGO', 'SAN JUAN DEL RIO', 10, 28],\n",
       "  ['DURANGO', 'SAN LUIS DEL CORDERO', 10, 29],\n",
       "  ['DURANGO', 'SAN PEDRO DEL GALLO', 10, 30],\n",
       "  ['DURANGO', 'SANTA CLARA', 10, 31],\n",
       "  ['DURANGO', 'SANTIAGO PAPASQUIARO', 10, 32],\n",
       "  ['DURANGO', 'SUCHIL', 10, 33],\n",
       "  ['DURANGO', 'TAMAZULA', 10, 34],\n",
       "  ['DURANGO', 'TEPEHUANES', 10, 35],\n",
       "  ['DURANGO', 'TLAHUALILO', 10, 36],\n",
       "  ['DURANGO', 'TOPIA', 10, 37],\n",
       "  ['DURANGO', 'VICENTE GUERRERO', 10, 38],\n",
       "  ['GUANAJUATO', 'ABASOLO', 11, 1],\n",
       "  ['GUANAJUATO', 'ACAMBARO', 11, 2],\n",
       "  ['GUANAJUATO', 'APASEO EL ALTO', 11, 4],\n",
       "  ['GUANAJUATO', 'APASEO EL GRANDE', 11, 5],\n",
       "  ['GUANAJUATO', 'ATARJEA', 11, 6],\n",
       "  ['GUANAJUATO', 'CELAYA', 11, 7],\n",
       "  ['GUANAJUATO', 'COMONFORT', 11, 9],\n",
       "  ['GUANAJUATO', 'CORONEO', 11, 10],\n",
       "  ['GUANAJUATO', 'CORTAZAR', 11, 11],\n",
       "  ['GUANAJUATO', 'CUERAMARO', 11, 12],\n",
       "  ['GUANAJUATO', 'DOCTOR MORA', 11, 13],\n",
       "  ['GUANAJUATO', 'DOLORES HIDALGO CUNA DE LA INDEPENDENCIA NACIONAL', 11, 14],\n",
       "  ['GUANAJUATO', 'GUANAJUATO', 11, 15],\n",
       "  ['GUANAJUATO', 'HUANIMARO', 11, 16],\n",
       "  ['GUANAJUATO', 'IRAPUATO', 11, 17],\n",
       "  ['GUANAJUATO', 'JARAL DEL PROGRESO', 11, 18],\n",
       "  ['GUANAJUATO', 'JERECUARO', 11, 19],\n",
       "  ['GUANAJUATO', 'LEON', 11, 20],\n",
       "  ['GUANAJUATO', 'MANUEL DOBLADO', 11, 8],\n",
       "  ['GUANAJUATO', 'MOROLEON', 11, 21],\n",
       "  ['GUANAJUATO', 'OCAMPO', 11, 22],\n",
       "  ['GUANAJUATO', 'PENJAMO', 11, 23],\n",
       "  ['GUANAJUATO', 'PUEBLO NUEVO', 11, 24],\n",
       "  ['GUANAJUATO', 'PURISIMA DEL RINCON', 11, 25],\n",
       "  ['GUANAJUATO', 'ROMITA', 11, 26],\n",
       "  ['GUANAJUATO', 'SALAMANCA', 11, 27],\n",
       "  ['GUANAJUATO', 'SALVATIERRA', 11, 28],\n",
       "  ['GUANAJUATO', 'SAN DIEGO DE LA UNION', 11, 29],\n",
       "  ['GUANAJUATO', 'SAN FELIPE', 11, 30],\n",
       "  ['GUANAJUATO', 'SAN FRANCISCO DEL RINCON', 11, 31],\n",
       "  ['GUANAJUATO', 'SAN JOSE ITURBIDE', 11, 32],\n",
       "  ['GUANAJUATO', 'SAN LUIS DE LA PAZ', 11, 33],\n",
       "  ['GUANAJUATO', 'SAN MIGUEL DE ALLENDE', 11, 3],\n",
       "  ['GUANAJUATO', 'SANTA CATARINA', 11, 34],\n",
       "  ['GUANAJUATO', 'SANTA CRUZ DE JUVENTINO ROSAS', 11, 35],\n",
       "  ['GUANAJUATO', 'SANTIAGO MARAVATIO', 11, 36],\n",
       "  ['GUANAJUATO', 'SILAO DE LA VICTORIA', 11, 37],\n",
       "  ['GUANAJUATO', 'TARANDACUAO', 11, 38],\n",
       "  ['GUANAJUATO', 'TARIMORO', 11, 39],\n",
       "  ['GUANAJUATO', 'TIERRA BLANCA', 11, 40],\n",
       "  ['GUANAJUATO', 'URIANGATO', 11, 41],\n",
       "  ['GUANAJUATO', 'VALLE DE SANTIAGO', 11, 42],\n",
       "  ['GUANAJUATO', 'VICTORIA', 11, 43],\n",
       "  ['GUANAJUATO', 'VILLAGRAN', 11, 44],\n",
       "  ['GUANAJUATO', 'XICHU', 11, 45],\n",
       "  ['GUANAJUATO', 'YURIRIA', 11, 46],\n",
       "  ['GUERRERO', 'ACAPULCO DE JUAREZ', 12, 1],\n",
       "  ['GUERRERO', 'ACATEPEC', 12, 76],\n",
       "  ['GUERRERO', 'AHUACUOTZINGO', 12, 2],\n",
       "  ['GUERRERO', 'AJUCHITLAN DEL PROGRESO', 12, 3],\n",
       "  ['GUERRERO', 'ALCOZAUCA DE GUERRERO', 12, 4],\n",
       "  ['GUERRERO', 'ALPOYECA', 12, 5],\n",
       "  ['GUERRERO', 'APAXTLA', 12, 6],\n",
       "  ['GUERRERO', 'ARCELIA', 12, 7],\n",
       "  ['GUERRERO', 'ATENANGO DEL RIO', 12, 8],\n",
       "  ['GUERRERO', 'ATLAMAJALCINGO DEL MONTE', 12, 9],\n",
       "  ['GUERRERO', 'ATLIXTAC', 12, 10],\n",
       "  ['GUERRERO', 'ATOYAC DE ALVAREZ', 12, 11],\n",
       "  ['GUERRERO', 'AYUTLA DE LOS LIBRES', 12, 12],\n",
       "  ['GUERRERO', 'AZOYU', 12, 13],\n",
       "  ['GUERRERO', 'BENITO JUAREZ', 12, 14],\n",
       "  ['GUERRERO', 'BUENAVISTA DE CUELLAR', 12, 15],\n",
       "  ['GUERRERO', 'CHILAPA DE ALVAREZ', 12, 28],\n",
       "  ['GUERRERO', 'CHILPANCINGO DE LOS BRAVO', 12, 29],\n",
       "  ['GUERRERO', 'COAHUAYUTLA DE JOSE MARIA IZAZAGA', 12, 16],\n",
       "  ['GUERRERO', 'COCHOAPA EL GRANDE', 12, 78],\n",
       "  ['GUERRERO', 'COCULA', 12, 17],\n",
       "  ['GUERRERO', 'COPALA', 12, 18],\n",
       "  ['GUERRERO', 'COPALILLO', 12, 19],\n",
       "  ['GUERRERO', 'COPANATOYAC', 12, 20],\n",
       "  ['GUERRERO', 'COYUCA DE BENITEZ', 12, 21],\n",
       "  ['GUERRERO', 'COYUCA DE CATALAN', 12, 22],\n",
       "  ['GUERRERO', 'CUAJINICUILAPA', 12, 23],\n",
       "  ['GUERRERO', 'CUALAC', 12, 24],\n",
       "  ['GUERRERO', 'CUAUTEPEC', 12, 25],\n",
       "  ['GUERRERO', 'CUETZALA DEL PROGRESO', 12, 26],\n",
       "  ['GUERRERO', 'CUTZAMALA DE PINZON', 12, 27],\n",
       "  ['GUERRERO', 'EDUARDO NERI', 12, 75],\n",
       "  ['GUERRERO', 'FLORENCIO VILLARREAL', 12, 30],\n",
       "  ['GUERRERO', 'GENERAL CANUTO A. NERI', 12, 31],\n",
       "  ['GUERRERO', 'GENERAL HELIODORO CASTILLO', 12, 32],\n",
       "  ['GUERRERO', 'HUAMUXTITLAN', 12, 33],\n",
       "  ['GUERRERO', 'HUITZUCO DE LOS FIGUEROA', 12, 34],\n",
       "  ['GUERRERO', 'IGUALA DE LA INDEPENDENCIA', 12, 35],\n",
       "  ['GUERRERO', 'IGUALAPA', 12, 36],\n",
       "  ['GUERRERO', 'ILIATENCO', 12, 81],\n",
       "  ['GUERRERO', 'IXCATEOPAN DE CUAUHTEMOC', 12, 37],\n",
       "  ['GUERRERO', 'JOSE JOAQUIN DE HERRERA', 12, 79],\n",
       "  ['GUERRERO', 'JUAN R. ESCUDERO', 12, 39],\n",
       "  ['GUERRERO', 'JUCHITAN', 12, 80],\n",
       "  ['GUERRERO', 'LA UNION DE ISIDORO MONTES DE OCA', 12, 68],\n",
       "  ['GUERRERO', 'LEONARDO BRAVO', 12, 40],\n",
       "  ['GUERRERO', 'MALINALTEPEC', 12, 41],\n",
       "  ['GUERRERO', 'MARQUELIA', 12, 77],\n",
       "  ['GUERRERO', 'MARTIR DE CUILAPAN', 12, 42],\n",
       "  ['GUERRERO', 'METLATONOC', 12, 43],\n",
       "  ['GUERRERO', 'MOCHITLAN', 12, 44],\n",
       "  ['GUERRERO', 'OLINALA', 12, 45],\n",
       "  ['GUERRERO', 'OMETEPEC', 12, 46],\n",
       "  ['GUERRERO', 'PEDRO ASCENCIO ALQUISIRAS', 12, 47],\n",
       "  ['GUERRERO', 'PETATLAN', 12, 48],\n",
       "  ['GUERRERO', 'PILCAYA', 12, 49],\n",
       "  ['GUERRERO', 'PUNGARABATO', 12, 50],\n",
       "  ['GUERRERO', 'QUECHULTENANGO', 12, 51],\n",
       "  ['GUERRERO', 'SAN LUIS ACATLAN', 12, 52],\n",
       "  ['GUERRERO', 'SAN MARCOS', 12, 53],\n",
       "  ['GUERRERO', 'SAN MIGUEL TOTOLAPAN', 12, 54],\n",
       "  ['GUERRERO', 'TAXCO DE ALARCON', 12, 55],\n",
       "  ['GUERRERO', 'TECOANAPA', 12, 56],\n",
       "  ['GUERRERO', 'TECPAN DE GALEANA', 12, 57],\n",
       "  ['GUERRERO', 'TELOLOAPAN', 12, 58],\n",
       "  ['GUERRERO', 'TEPECOACUILCO DE TRUJANO', 12, 59],\n",
       "  ['GUERRERO', 'TETIPAC', 12, 60],\n",
       "  ['GUERRERO', 'TIXTLA DE GUERRERO', 12, 61],\n",
       "  ['GUERRERO', 'TLACOACHISTLAHUACA', 12, 62],\n",
       "  ['GUERRERO', 'TLACOAPA', 12, 63],\n",
       "  ['GUERRERO', 'TLALCHAPA', 12, 64],\n",
       "  ['GUERRERO', 'TLALIXTAQUILLA DE MALDONADO', 12, 65],\n",
       "  ['GUERRERO', 'TLAPA DE COMONFORT', 12, 66],\n",
       "  ['GUERRERO', 'TLAPEHUALA', 12, 67],\n",
       "  ['GUERRERO', 'XALPATLAHUAC', 12, 69],\n",
       "  ['GUERRERO', 'XOCHIHUEHUETLAN', 12, 70],\n",
       "  ['GUERRERO', 'XOCHISTLAHUACA', 12, 71],\n",
       "  ['GUERRERO', 'ZAPOTITLAN TABLAS', 12, 72],\n",
       "  ['GUERRERO', 'ZIHUATANEJO DE AZUETA', 12, 38],\n",
       "  ['GUERRERO', 'ZIRANDARO', 12, 73],\n",
       "  ['GUERRERO', 'ZITLALA', 12, 74],\n",
       "  ['HIDALGO', 'ACATLAN', 13, 1],\n",
       "  ['HIDALGO', 'ACAXOCHITLAN', 13, 2],\n",
       "  ['HIDALGO', 'ACTOPAN', 13, 3],\n",
       "  ['HIDALGO', 'AGUA BLANCA DE ITURBIDE', 13, 4],\n",
       "  ['HIDALGO', 'AJACUBA', 13, 5],\n",
       "  ['HIDALGO', 'ALFAJAYUCAN', 13, 6],\n",
       "  ['HIDALGO', 'ALMOLOYA', 13, 7],\n",
       "  ['HIDALGO', 'APAN', 13, 8],\n",
       "  ['HIDALGO', 'ATITALAQUIA', 13, 10],\n",
       "  ['HIDALGO', 'ATLAPEXCO', 13, 11],\n",
       "  ['HIDALGO', 'ATOTONILCO DE TULA', 13, 13],\n",
       "  ['HIDALGO', 'ATOTONILCO EL GRANDE', 13, 12],\n",
       "  ['HIDALGO', 'CALNALI', 13, 14],\n",
       "  ['HIDALGO', 'CARDONAL', 13, 15],\n",
       "  ['HIDALGO', 'CHAPANTONGO', 13, 17],\n",
       "  ['HIDALGO', 'CHAPULHUACAN', 13, 18],\n",
       "  ['HIDALGO', 'CHILCUAUTLA', 13, 19],\n",
       "  ['HIDALGO', 'CUAUTEPEC DE HINOJOSA', 13, 16],\n",
       "  ['HIDALGO', 'EL ARENAL', 13, 9],\n",
       "  ['HIDALGO', 'ELOXOCHITLAN', 13, 20],\n",
       "  ['HIDALGO', 'EMILIANO ZAPATA', 13, 21],\n",
       "  ['HIDALGO', 'EPAZOYUCAN', 13, 22],\n",
       "  ['HIDALGO', 'FRANCISCO I. MADERO', 13, 23],\n",
       "  ['HIDALGO', 'HUASCA DE OCAMPO', 13, 24],\n",
       "  ['HIDALGO', 'HUAUTLA', 13, 25],\n",
       "  ['HIDALGO', 'HUAZALINGO', 13, 26],\n",
       "  ['HIDALGO', 'HUEHUETLA', 13, 27],\n",
       "  ['HIDALGO', 'HUEJUTLA DE REYES', 13, 28],\n",
       "  ['HIDALGO', 'HUICHAPAN', 13, 29],\n",
       "  ['HIDALGO', 'IXMIQUILPAN', 13, 30],\n",
       "  ['HIDALGO', 'JACALA DE LEDEZMA', 13, 31],\n",
       "  ['HIDALGO', 'JALTOCAN', 13, 32],\n",
       "  ['HIDALGO', 'JUAREZ HIDALGO', 13, 33],\n",
       "  ['HIDALGO', 'LA MISION', 13, 40],\n",
       "  ['HIDALGO', 'LOLOTLA', 13, 34],\n",
       "  ['HIDALGO', 'METEPEC', 13, 35],\n",
       "  ['HIDALGO', 'METZTITLAN', 13, 37],\n",
       "  ['HIDALGO', 'MINERAL DE LA REFORMA', 13, 51],\n",
       "  ['HIDALGO', 'MINERAL DEL CHICO', 13, 38],\n",
       "  ['HIDALGO', 'MINERAL DEL MONTE', 13, 39],\n",
       "  ['HIDALGO', 'MIXQUIAHUALA DE JUAREZ', 13, 41],\n",
       "  ['HIDALGO', 'MOLANGO DE ESCAMILLA', 13, 42],\n",
       "  ['HIDALGO', 'NICOLAS FLORES', 13, 43],\n",
       "  ['HIDALGO', 'NOPALA DE VILLAGRAN', 13, 44],\n",
       "  ['HIDALGO', 'OMITLAN DE JUAREZ', 13, 45],\n",
       "  ['HIDALGO', 'PACHUCA DE SOTO', 13, 48],\n",
       "  ['HIDALGO', 'PACULA', 13, 47],\n",
       "  ['HIDALGO', 'PISAFLORES', 13, 49],\n",
       "  ['HIDALGO', 'PROGRESO DE OBREGON', 13, 50],\n",
       "  ['HIDALGO', 'SAN AGUSTIN METZQUITITLAN', 13, 36],\n",
       "  ['HIDALGO', 'SAN AGUSTIN TLAXIACA', 13, 52],\n",
       "  ['HIDALGO', 'SAN BARTOLO TUTOTEPEC', 13, 53],\n",
       "  ['HIDALGO', 'SAN FELIPE ORIZATLAN', 13, 46],\n",
       "  ['HIDALGO', 'SAN SALVADOR', 13, 54],\n",
       "  ['HIDALGO', 'SANTIAGO DE ANAYA', 13, 55],\n",
       "  ['HIDALGO', 'SANTIAGO TULANTEPEC DE LUGO GUERRERO', 13, 56],\n",
       "  ['HIDALGO', 'SINGUILUCAN', 13, 57],\n",
       "  ['HIDALGO', 'TASQUILLO', 13, 58],\n",
       "  ['HIDALGO', 'TECOZAUTLA', 13, 59],\n",
       "  ['HIDALGO', 'TENANGO DE DORIA', 13, 60],\n",
       "  ['HIDALGO', 'TEPEAPULCO', 13, 61],\n",
       "  ['HIDALGO', 'TEPEHUACAN DE GUERRERO', 13, 62],\n",
       "  ['HIDALGO', 'TEPEJI DEL RIO DE OCAMPO', 13, 63],\n",
       "  ['HIDALGO', 'TEPETITLAN', 13, 64],\n",
       "  ['HIDALGO', 'TETEPANGO', 13, 65],\n",
       "  ['HIDALGO', 'TEZONTEPEC DE ALDAMA', 13, 67],\n",
       "  ['HIDALGO', 'TIANGUISTENGO', 13, 68],\n",
       "  ['HIDALGO', 'TIZAYUCA', 13, 69],\n",
       "  ['HIDALGO', 'TLAHUELILPAN', 13, 70],\n",
       "  ['HIDALGO', 'TLAHUILTEPA', 13, 71],\n",
       "  ['HIDALGO', 'TLANALAPA', 13, 72],\n",
       "  ['HIDALGO', 'TLANCHINOL', 13, 73],\n",
       "  ['HIDALGO', 'TLAXCOAPAN', 13, 74],\n",
       "  ['HIDALGO', 'TOLCAYUCA', 13, 75],\n",
       "  ['HIDALGO', 'TULA DE ALLENDE', 13, 76],\n",
       "  ['HIDALGO', 'TULANCINGO DE BRAVO', 13, 77],\n",
       "  ['HIDALGO', 'VILLA DE TEZONTEPEC', 13, 66],\n",
       "  ['HIDALGO', 'XOCHIATIPAN', 13, 78],\n",
       "  ['HIDALGO', 'XOCHICOATLAN', 13, 79],\n",
       "  ['HIDALGO', 'YAHUALICA', 13, 80],\n",
       "  ['HIDALGO', 'ZACUALTIPAN DE ANGELES', 13, 81],\n",
       "  ['HIDALGO', 'ZAPOTLAN DE JUAREZ', 13, 82],\n",
       "  ['HIDALGO', 'ZEMPOALA', 13, 83],\n",
       "  ['HIDALGO', 'ZIMAPAN', 13, 84],\n",
       "  ['JALISCO', 'ACATIC', 14, 1],\n",
       "  ['JALISCO', 'ACATLAN DE JUAREZ', 14, 2],\n",
       "  ['JALISCO', 'AHUALULCO DE MERCADO', 14, 3],\n",
       "  ['JALISCO', 'AMACUECA', 14, 4],\n",
       "  ['JALISCO', 'AMATITAN', 14, 5],\n",
       "  ['JALISCO', 'AMECA', 14, 6],\n",
       "  ['JALISCO', 'ARANDAS', 14, 8],\n",
       "  ['JALISCO', 'ATEMAJAC DE BRIZUELA', 14, 10],\n",
       "  ['JALISCO', 'ATENGO', 14, 11],\n",
       "  ['JALISCO', 'ATENGUILLO', 14, 12],\n",
       "  ['JALISCO', 'ATOTONILCO EL ALTO', 14, 13],\n",
       "  ['JALISCO', 'ATOYAC', 14, 14],\n",
       "  ['JALISCO', 'AUTLAN DE NAVARRO', 14, 15],\n",
       "  ['JALISCO', 'AYOTLAN', 14, 16],\n",
       "  ['JALISCO', 'AYUTLA', 14, 17],\n",
       "  ['JALISCO', 'BOLAÑOS', 14, 19],\n",
       "  ['JALISCO', 'CABO CORRIENTES', 14, 20],\n",
       "  ['JALISCO', 'CASIMIRO CASTILLO', 14, 21],\n",
       "  ['JALISCO', 'CAÑADAS DE OBREGON', 14, 117],\n",
       "  ['JALISCO', 'CHAPALA', 14, 30],\n",
       "  ['JALISCO', 'CHIMALTITAN', 14, 31],\n",
       "  ['JALISCO', 'CHIQUILISTLAN', 14, 32],\n",
       "  ['JALISCO', 'CIHUATLAN', 14, 22],\n",
       "  ['JALISCO', 'COCULA', 14, 24],\n",
       "  ['JALISCO', 'COLOTLAN', 14, 25],\n",
       "  ['JALISCO', 'CONCEPCION DE BUENOS AIRES', 14, 26],\n",
       "  ['JALISCO', 'CUAUTITLAN DE GARCIA BARRAGAN', 14, 27],\n",
       "  ['JALISCO', 'CUAUTLA', 14, 28],\n",
       "  ['JALISCO', 'CUQUIO', 14, 29],\n",
       "  ['JALISCO', 'DEGOLLADO', 14, 33],\n",
       "  ['JALISCO', 'EJUTLA', 14, 34],\n",
       "  ['JALISCO', 'EL ARENAL', 14, 9],\n",
       "  ['JALISCO', 'EL GRULLO', 14, 37],\n",
       "  ['JALISCO', 'EL LIMON', 14, 54],\n",
       "  ['JALISCO', 'EL SALTO', 14, 70],\n",
       "  ['JALISCO', 'ENCARNACION DE DIAZ', 14, 35],\n",
       "  ['JALISCO', 'ETZATLAN', 14, 36],\n",
       "  ['JALISCO', 'GOMEZ FARIAS', 14, 79],\n",
       "  ['JALISCO', 'GUACHINANGO', 14, 38],\n",
       "  ['JALISCO', 'GUADALAJARA', 14, 39],\n",
       "  ['JALISCO', 'HOSTOTIPAQUILLO', 14, 40],\n",
       "  ['JALISCO', 'HUEJUCAR', 14, 41],\n",
       "  ['JALISCO', 'HUEJUQUILLA EL ALTO', 14, 42],\n",
       "  ['JALISCO', 'IXTLAHUACAN DE LOS MEMBRILLOS', 14, 44],\n",
       "  ['JALISCO', 'IXTLAHUACAN DEL RIO', 14, 45],\n",
       "  ['JALISCO', 'JALOSTOTITLAN', 14, 46],\n",
       "  ['JALISCO', 'JAMAY', 14, 47],\n",
       "  ['JALISCO', 'JESUS MARIA', 14, 48],\n",
       "  ['JALISCO', 'JILOTLAN DE LOS DOLORES', 14, 49],\n",
       "  ['JALISCO', 'JOCOTEPEC', 14, 50],\n",
       "  ['JALISCO', 'JUANACATLAN', 14, 51],\n",
       "  ['JALISCO', 'JUCHITLAN', 14, 52],\n",
       "  ['JALISCO', 'LA BARCA', 14, 18],\n",
       "  ['JALISCO', 'LA HUERTA', 14, 43],\n",
       "  ['JALISCO', 'LA MANZANILLA DE LA PAZ', 14, 57],\n",
       "  ['JALISCO', 'LAGOS DE MORENO', 14, 53],\n",
       "  ['JALISCO', 'MAGDALENA', 14, 55],\n",
       "  ['JALISCO', 'MASCOTA', 14, 58],\n",
       "  ['JALISCO', 'MAZAMITLA', 14, 59],\n",
       "  ['JALISCO', 'MEXTICACAN', 14, 60],\n",
       "  ['JALISCO', 'MEZQUITIC', 14, 61],\n",
       "  ['JALISCO', 'MIXTLAN', 14, 62],\n",
       "  ['JALISCO', 'OCOTLAN', 14, 63],\n",
       "  ['JALISCO', 'OJUELOS DE JALISCO', 14, 64],\n",
       "  ['JALISCO', 'PIHUAMO', 14, 65],\n",
       "  ['JALISCO', 'PONCITLAN', 14, 66],\n",
       "  ['JALISCO', 'PUERTO VALLARTA', 14, 67],\n",
       "  ['JALISCO', 'QUITUPAN', 14, 69],\n",
       "  ['JALISCO', 'SAN CRISTOBAL DE LA BARRANCA', 14, 71],\n",
       "  ['JALISCO', 'SAN DIEGO DE ALEJANDRIA', 14, 72],\n",
       "  ['JALISCO', 'SAN GABRIEL', 14, 113],\n",
       "  ['JALISCO', 'SAN IGNACIO CERRO GORDO', 14, 125],\n",
       "  ['JALISCO', 'SAN JUAN DE LOS LAGOS', 14, 73],\n",
       "  ['JALISCO', 'SAN JUANITO DE ESCOBEDO', 14, 7],\n",
       "  ['JALISCO', 'SAN JULIAN', 14, 74],\n",
       "  ['JALISCO', 'SAN MARCOS', 14, 75],\n",
       "  ['JALISCO', 'SAN MARTIN DE BOLAÑOS', 14, 76],\n",
       "  ['JALISCO', 'SAN MARTIN HIDALGO', 14, 77],\n",
       "  ['JALISCO', 'SAN MIGUEL EL ALTO', 14, 78],\n",
       "  ['JALISCO', 'SAN PEDRO TLAQUEPAQUE', 14, 98],\n",
       "  ['JALISCO', 'SAN SEBASTIAN DEL OESTE', 14, 80],\n",
       "  ['JALISCO', 'SANTA MARIA DE LOS ANGELES', 14, 81],\n",
       "  ['JALISCO', 'SANTA MARIA DEL ORO', 14, 56],\n",
       "  ['JALISCO', 'SAYULA', 14, 82],\n",
       "  ['JALISCO', 'TALA', 14, 83],\n",
       "  ['JALISCO', 'TALPA DE ALLENDE', 14, 84],\n",
       "  ['JALISCO', 'TAMAZULA DE GORDIANO', 14, 85],\n",
       "  ['JALISCO', 'TAPALPA', 14, 86],\n",
       "  ['JALISCO', 'TECALITLAN', 14, 87],\n",
       "  ['JALISCO', 'TECHALUTA DE MONTENEGRO', 14, 89],\n",
       "  ['JALISCO', 'TECOLOTLAN', 14, 88],\n",
       "  ['JALISCO', 'TENAMAXTLAN', 14, 90],\n",
       "  ['JALISCO', 'TEOCALTICHE', 14, 91],\n",
       "  ['JALISCO', 'TEOCUITATLAN DE CORONA', 14, 92],\n",
       "  ['JALISCO', 'TEPATITLAN DE MORELOS', 14, 93],\n",
       "  ['JALISCO', 'TEQUILA', 14, 94],\n",
       "  ['JALISCO', 'TEUCHITLAN', 14, 95],\n",
       "  ['JALISCO', 'TIZAPAN EL ALTO', 14, 96],\n",
       "  ['JALISCO', 'TLAJOMULCO DE ZUÑIGA', 14, 97],\n",
       "  ['JALISCO', 'TOLIMAN', 14, 99],\n",
       "  ['JALISCO', 'TOMATLAN', 14, 100],\n",
       "  ['JALISCO', 'TONALA', 14, 101],\n",
       "  ['JALISCO', 'TONAYA', 14, 102],\n",
       "  ['JALISCO', 'TONILA', 14, 103],\n",
       "  ['JALISCO', 'TOTATICHE', 14, 104],\n",
       "  ['JALISCO', 'TOTOTLAN', 14, 105],\n",
       "  ['JALISCO', 'TUXCACUESCO', 14, 106],\n",
       "  ['JALISCO', 'TUXCUECA', 14, 107],\n",
       "  ['JALISCO', 'TUXPAN', 14, 108],\n",
       "  ['JALISCO', 'UNION DE SAN ANTONIO', 14, 109],\n",
       "  ['JALISCO', 'UNION DE TULA', 14, 110],\n",
       "  ['JALISCO', 'VALLE DE GUADALUPE', 14, 111],\n",
       "  ['JALISCO', 'VALLE DE JUAREZ', 14, 112],\n",
       "  ['JALISCO', 'VILLA CORONA', 14, 114],\n",
       "  ['JALISCO', 'VILLA GUERRERO', 14, 115],\n",
       "  ['JALISCO', 'VILLA HIDALGO', 14, 116],\n",
       "  ['JALISCO', 'VILLA PURIFICACION', 14, 68],\n",
       "  ['JALISCO', 'YAHUALICA DE GONZALEZ GALLO', 14, 118],\n",
       "  ['JALISCO', 'ZACOALCO DE TORRES', 14, 119],\n",
       "  ['JALISCO', 'ZAPOPAN', 14, 120],\n",
       "  ['JALISCO', 'ZAPOTILTIC', 14, 121],\n",
       "  ['JALISCO', 'ZAPOTITLAN DE VADILLO', 14, 122],\n",
       "  ['JALISCO', 'ZAPOTLAN DEL REY', 14, 123],\n",
       "  ['JALISCO', 'ZAPOTLAN EL GRANDE', 14, 23],\n",
       "  ['JALISCO', 'ZAPOTLANEJO', 14, 124],\n",
       "  ['MEXICO', 'ACAMBAY DE RUIZ CASTAÑEDA', 15, 1],\n",
       "  ['MEXICO', 'ACOLMAN', 15, 2],\n",
       "  ['MEXICO', 'ACULCO', 15, 3],\n",
       "  ['MEXICO', 'ALMOLOYA DE ALQUISIRAS', 15, 4],\n",
       "  ['MEXICO', 'ALMOLOYA DE JUAREZ', 15, 5],\n",
       "  ['MEXICO', 'ALMOLOYA DEL RIO', 15, 6],\n",
       "  ['MEXICO', 'AMANALCO', 15, 7],\n",
       "  ['MEXICO', 'AMATEPEC', 15, 8],\n",
       "  ['MEXICO', 'AMECAMECA', 15, 9],\n",
       "  ['MEXICO', 'APAXCO', 15, 10],\n",
       "  ['MEXICO', 'ATENCO', 15, 11],\n",
       "  ['MEXICO', 'ATIZAPAN', 15, 12],\n",
       "  ['MEXICO', 'ATIZAPAN DE ZARAGOZA', 15, 13],\n",
       "  ['MEXICO', 'ATLACOMULCO', 15, 14],\n",
       "  ['MEXICO', 'ATLAUTLA', 15, 15],\n",
       "  ['MEXICO', 'AXAPUSCO', 15, 16],\n",
       "  ['MEXICO', 'AYAPANGO', 15, 17],\n",
       "  ['MEXICO', 'CALIMAYA', 15, 18],\n",
       "  ['MEXICO', 'CAPULHUAC', 15, 19],\n",
       "  ['MEXICO', 'CHALCO', 15, 25],\n",
       "  ['MEXICO', 'CHAPA DE MOTA', 15, 26],\n",
       "  ['MEXICO', 'CHAPULTEPEC', 15, 27],\n",
       "  ['MEXICO', 'CHIAUTLA', 15, 28],\n",
       "  ['MEXICO', 'CHICOLOAPAN', 15, 29],\n",
       "  ['MEXICO', 'CHICONCUAC', 15, 30],\n",
       "  ['MEXICO', 'CHIMALHUACAN', 15, 31],\n",
       "  ['MEXICO', 'COACALCO DE BERRIOZABAL', 15, 20],\n",
       "  ['MEXICO', 'COATEPEC HARINAS', 15, 21],\n",
       "  ['MEXICO', 'COCOTITLAN', 15, 22],\n",
       "  ['MEXICO', 'COYOTEPEC', 15, 23],\n",
       "  ['MEXICO', 'CUAUTITLAN', 15, 24],\n",
       "  ['MEXICO', 'CUAUTITLAN IZCALLI', 15, 121],\n",
       "  ['MEXICO', 'DONATO GUERRA', 15, 32],\n",
       "  ['MEXICO', 'ECATEPEC DE MORELOS', 15, 33],\n",
       "  ['MEXICO', 'ECATZINGO', 15, 34],\n",
       "  ['MEXICO', 'EL ORO', 15, 64],\n",
       "  ['MEXICO', 'HUEHUETOCA', 15, 35],\n",
       "  ['MEXICO', 'HUEYPOXTLA', 15, 36],\n",
       "  ['MEXICO', 'HUIXQUILUCAN', 15, 37],\n",
       "  ['MEXICO', 'ISIDRO FABELA', 15, 38],\n",
       "  ['MEXICO', 'IXTAPALUCA', 15, 39],\n",
       "  ['MEXICO', 'IXTAPAN DE LA SAL', 15, 40],\n",
       "  ['MEXICO', 'IXTAPAN DEL ORO', 15, 41],\n",
       "  ['MEXICO', 'IXTLAHUACA', 15, 42],\n",
       "  ['MEXICO', 'JALTENCO', 15, 44],\n",
       "  ['MEXICO', 'JILOTEPEC', 15, 45],\n",
       "  ['MEXICO', 'JILOTZINGO', 15, 46],\n",
       "  ['MEXICO', 'JIQUIPILCO', 15, 47],\n",
       "  ['MEXICO', 'JOCOTITLAN', 15, 48],\n",
       "  ['MEXICO', 'JOQUICINGO', 15, 49],\n",
       "  ['MEXICO', 'JUCHITEPEC', 15, 50],\n",
       "  ['MEXICO', 'LA PAZ', 15, 70],\n",
       "  ['MEXICO', 'LERMA', 15, 51],\n",
       "  ['MEXICO', 'LUVIANOS', 15, 123],\n",
       "  ['MEXICO', 'MALINALCO', 15, 52],\n",
       "  ['MEXICO', 'MELCHOR OCAMPO', 15, 53],\n",
       "  ['MEXICO', 'METEPEC', 15, 54],\n",
       "  ['MEXICO', 'MEXICALTZINGO', 15, 55],\n",
       "  ['MEXICO', 'MORELOS', 15, 56],\n",
       "  ['MEXICO', 'NAUCALPAN DE JUAREZ', 15, 57],\n",
       "  ['MEXICO', 'NEXTLALPAN', 15, 59],\n",
       "  ['MEXICO', 'NEZAHUALCOYOTL', 15, 58],\n",
       "  ['MEXICO', 'NICOLAS ROMERO', 15, 60],\n",
       "  ['MEXICO', 'NOPALTEPEC', 15, 61],\n",
       "  ['MEXICO', 'OCOYOACAC', 15, 62],\n",
       "  ['MEXICO', 'OCUILAN', 15, 63],\n",
       "  ['MEXICO', 'OTUMBA', 15, 65],\n",
       "  ['MEXICO', 'OTZOLOAPAN', 15, 66],\n",
       "  ['MEXICO', 'OTZOLOTEPEC', 15, 67],\n",
       "  ['MEXICO', 'OZUMBA', 15, 68],\n",
       "  ['MEXICO', 'PAPALOTLA', 15, 69],\n",
       "  ['MEXICO', 'POLOTITLAN', 15, 71],\n",
       "  ['MEXICO', 'RAYON', 15, 72],\n",
       "  ['MEXICO', 'SAN ANTONIO LA ISLA', 15, 73],\n",
       "  ['MEXICO', 'SAN FELIPE DEL PROGRESO', 15, 74],\n",
       "  ['MEXICO', 'SAN JOSE DEL RINCON', 15, 124],\n",
       "  ['MEXICO', 'SAN MARTIN DE LAS PIRAMIDES', 15, 75],\n",
       "  ['MEXICO', 'SAN MATEO ATENCO', 15, 76],\n",
       "  ['MEXICO', 'SAN SIMON DE GUERRERO', 15, 77],\n",
       "  ['MEXICO', 'SANTO TOMAS', 15, 78],\n",
       "  ['MEXICO', 'SOYANIQUILPAN DE JUAREZ', 15, 79],\n",
       "  ['MEXICO', 'SULTEPEC', 15, 80],\n",
       "  ['MEXICO', 'TECAMAC', 15, 81],\n",
       "  ['MEXICO', 'TEJUPILCO', 15, 82],\n",
       "  ['MEXICO', 'TEMAMATLA', 15, 83],\n",
       "  ['MEXICO', 'TEMASCALAPA', 15, 84],\n",
       "  ['MEXICO', 'TEMASCALCINGO', 15, 85],\n",
       "  ['MEXICO', 'TEMASCALTEPEC', 15, 86],\n",
       "  ['MEXICO', 'TEMOAYA', 15, 87],\n",
       "  ['MEXICO', 'TENANCINGO', 15, 88],\n",
       "  ['MEXICO', 'TENANGO DEL AIRE', 15, 89],\n",
       "  ['MEXICO', 'TENANGO DEL VALLE', 15, 90],\n",
       "  ['MEXICO', 'TEOLOYUCAN', 15, 91],\n",
       "  ['MEXICO', 'TEOTIHUACAN', 15, 92],\n",
       "  ['MEXICO', 'TEPETLAOXTOC', 15, 93],\n",
       "  ['MEXICO', 'TEPETLIXPA', 15, 94],\n",
       "  ['MEXICO', 'TEPOTZOTLAN', 15, 95],\n",
       "  ['MEXICO', 'TEQUIXQUIAC', 15, 96],\n",
       "  ['MEXICO', 'TEXCALTITLAN', 15, 97],\n",
       "  ['MEXICO', 'TEXCALYACAC', 15, 98],\n",
       "  ['MEXICO', 'TEXCOCO', 15, 99],\n",
       "  ['MEXICO', 'TEZOYUCA', 15, 100],\n",
       "  ['MEXICO', 'TIANGUISTENCO', 15, 101],\n",
       "  ['MEXICO', 'TIMILPAN', 15, 102],\n",
       "  ['MEXICO', 'TLALMANALCO', 15, 103],\n",
       "  ['MEXICO', 'TLALNEPANTLA DE BAZ', 15, 104],\n",
       "  ['MEXICO', 'TLATLAYA', 15, 105],\n",
       "  ['MEXICO', 'TOLUCA', 15, 106],\n",
       "  ['MEXICO', 'TONANITLA', 15, 125],\n",
       "  ['MEXICO', 'TONATICO', 15, 107],\n",
       "  ['MEXICO', 'TULTEPEC', 15, 108],\n",
       "  ['MEXICO', 'TULTITLAN', 15, 109],\n",
       "  ['MEXICO', 'VALLE DE BRAVO', 15, 110],\n",
       "  ['MEXICO', 'VALLE DE CHALCO SOLIDARIDAD', 15, 122],\n",
       "  ['MEXICO', 'VILLA DE ALLENDE', 15, 111],\n",
       "  ['MEXICO', 'VILLA DEL CARBON', 15, 112],\n",
       "  ['MEXICO', 'VILLA GUERRERO', 15, 113],\n",
       "  ['MEXICO', 'VILLA VICTORIA', 15, 114],\n",
       "  ['MEXICO', 'XALATLACO', 15, 43],\n",
       "  ['MEXICO', 'XONACATLAN', 15, 115],\n",
       "  ['MEXICO', 'ZACAZONAPAN', 15, 116],\n",
       "  ['MEXICO', 'ZACUALPAN', 15, 117],\n",
       "  ['MEXICO', 'ZINACANTEPEC', 15, 118],\n",
       "  ['MEXICO', 'ZUMPAHUACAN', 15, 119],\n",
       "  ['MEXICO', 'ZUMPANGO', 15, 120],\n",
       "  ['MICHOACAN', 'ACUITZIO', 16, 1],\n",
       "  ['MICHOACAN', 'AGUILILLA', 16, 2],\n",
       "  ['MICHOACAN', 'ALVARO OBREGON', 16, 3],\n",
       "  ['MICHOACAN', 'ANGAMACUTIRO', 16, 4],\n",
       "  ['MICHOACAN', 'ANGANGUEO', 16, 5],\n",
       "  ['MICHOACAN', 'APATZINGAN', 16, 6],\n",
       "  ['MICHOACAN', 'APORO', 16, 7],\n",
       "  ['MICHOACAN', 'AQUILA', 16, 8],\n",
       "  ['MICHOACAN', 'ARIO', 16, 9],\n",
       "  ['MICHOACAN', 'ARTEAGA', 16, 10],\n",
       "  ['MICHOACAN', 'BRISEÑAS', 16, 11],\n",
       "  ['MICHOACAN', 'BUENAVISTA', 16, 12],\n",
       "  ['MICHOACAN', 'CARACUARO', 16, 13],\n",
       "  ['MICHOACAN', 'CHARAPAN', 16, 21],\n",
       "  ['MICHOACAN', 'CHARO', 16, 22],\n",
       "  ['MICHOACAN', 'CHAVINDA', 16, 23],\n",
       "  ['MICHOACAN', 'CHERAN', 16, 24],\n",
       "  ['MICHOACAN', 'CHILCHOTA', 16, 25],\n",
       "  ['MICHOACAN', 'CHINICUILA', 16, 26],\n",
       "  ['MICHOACAN', 'CHUCANDIRO', 16, 27],\n",
       "  ['MICHOACAN', 'CHURINTZIO', 16, 28],\n",
       "  ['MICHOACAN', 'CHURUMUCO', 16, 29],\n",
       "  ['MICHOACAN', 'COAHUAYANA', 16, 14],\n",
       "  ['MICHOACAN', 'COALCOMAN DE VAZQUEZ PALLARES', 16, 15],\n",
       "  ['MICHOACAN', 'COENEO', 16, 16],\n",
       "  ['MICHOACAN', 'COJUMATLAN DE REGULES', 16, 74],\n",
       "  ['MICHOACAN', 'CONTEPEC', 16, 17],\n",
       "  ['MICHOACAN', 'COPANDARO', 16, 18],\n",
       "  ['MICHOACAN', 'COTIJA', 16, 19],\n",
       "  ['MICHOACAN', 'CUITZEO', 16, 20],\n",
       "  ['MICHOACAN', 'ECUANDUREO', 16, 30],\n",
       "  ['MICHOACAN', 'EPITACIO HUERTA', 16, 31],\n",
       "  ['MICHOACAN', 'ERONGARICUARO', 16, 32],\n",
       "  ['MICHOACAN', 'GABRIEL ZAMORA', 16, 33],\n",
       "  ['MICHOACAN', 'HIDALGO', 16, 34],\n",
       "  ['MICHOACAN', 'HUANDACAREO', 16, 36],\n",
       "  ['MICHOACAN', 'HUANIQUEO', 16, 37],\n",
       "  ['MICHOACAN', 'HUETAMO', 16, 38],\n",
       "  ['MICHOACAN', 'HUIRAMBA', 16, 39],\n",
       "  ['MICHOACAN', 'INDAPARAPEO', 16, 40],\n",
       "  ['MICHOACAN', 'IRIMBO', 16, 41],\n",
       "  ['MICHOACAN', 'IXTLAN', 16, 42],\n",
       "  ['MICHOACAN', 'JACONA', 16, 43],\n",
       "  ['MICHOACAN', 'JIMENEZ', 16, 44],\n",
       "  ['MICHOACAN', 'JIQUILPAN', 16, 45],\n",
       "  ['MICHOACAN', 'JOSE SIXTO VERDUZCO', 16, 113],\n",
       "  ['MICHOACAN', 'JUAREZ', 16, 46],\n",
       "  ['MICHOACAN', 'JUNGAPEO', 16, 47],\n",
       "  ['MICHOACAN', 'LA HUACANA', 16, 35],\n",
       "  ['MICHOACAN', 'LA PIEDAD', 16, 69],\n",
       "  ['MICHOACAN', 'LAGUNILLAS', 16, 48],\n",
       "  ['MICHOACAN', 'LAZARO CARDENAS', 16, 52],\n",
       "  ['MICHOACAN', 'LOS REYES', 16, 75],\n",
       "  ['MICHOACAN', 'MADERO', 16, 49],\n",
       "  ['MICHOACAN', 'MARAVATIO', 16, 50],\n",
       "  ['MICHOACAN', 'MARCOS CASTELLANOS', 16, 51],\n",
       "  ['MICHOACAN', 'MORELIA', 16, 53],\n",
       "  ['MICHOACAN', 'MORELOS', 16, 54],\n",
       "  ['MICHOACAN', 'MUGICA', 16, 55],\n",
       "  ['MICHOACAN', 'NAHUATZEN', 16, 56],\n",
       "  ['MICHOACAN', 'NOCUPETARO', 16, 57],\n",
       "  ['MICHOACAN', 'NUEVO PARANGARICUTIRO', 16, 58],\n",
       "  ['MICHOACAN', 'NUEVO URECHO', 16, 59],\n",
       "  ['MICHOACAN', 'NUMARAN', 16, 60],\n",
       "  ['MICHOACAN', 'OCAMPO', 16, 61],\n",
       "  ['MICHOACAN', 'PAJACUARAN', 16, 62],\n",
       "  ['MICHOACAN', 'PANINDICUARO', 16, 63],\n",
       "  ['MICHOACAN', 'PARACHO', 16, 65],\n",
       "  ['MICHOACAN', 'PARACUARO', 16, 64],\n",
       "  ['MICHOACAN', 'PATZCUARO', 16, 66],\n",
       "  ['MICHOACAN', 'PENJAMILLO', 16, 67],\n",
       "  ['MICHOACAN', 'PERIBAN', 16, 68],\n",
       "  ['MICHOACAN', 'PUREPERO', 16, 70],\n",
       "  ['MICHOACAN', 'PURUANDIRO', 16, 71],\n",
       "  ['MICHOACAN', 'QUERENDARO', 16, 72],\n",
       "  ['MICHOACAN', 'QUIROGA', 16, 73],\n",
       "  ['MICHOACAN', 'SAHUAYO', 16, 76],\n",
       "  ['MICHOACAN', 'SALVADOR ESCALANTE', 16, 79],\n",
       "  ['MICHOACAN', 'SAN LUCAS', 16, 77],\n",
       "  ['MICHOACAN', 'SANTA ANA MAYA', 16, 78],\n",
       "  ['MICHOACAN', 'SENGUIO', 16, 80],\n",
       "  ['MICHOACAN', 'SUSUPUATO', 16, 81],\n",
       "  ['MICHOACAN', 'TACAMBARO', 16, 82],\n",
       "  ['MICHOACAN', 'TANCITARO', 16, 83],\n",
       "  ['MICHOACAN', 'TANGAMANDAPIO', 16, 84],\n",
       "  ['MICHOACAN', 'TANGANCICUARO', 16, 85],\n",
       "  ['MICHOACAN', 'TANHUATO', 16, 86],\n",
       "  ['MICHOACAN', 'TARETAN', 16, 87],\n",
       "  ['MICHOACAN', 'TARIMBARO', 16, 88],\n",
       "  ['MICHOACAN', 'TEPALCATEPEC', 16, 89],\n",
       "  ['MICHOACAN', 'TINGAMBATO', 16, 90],\n",
       "  ['MICHOACAN', 'TINGÜINDIN', 16, 91],\n",
       "  ['MICHOACAN', 'TIQUICHEO DE NICOLAS ROMERO', 16, 92],\n",
       "  ['MICHOACAN', 'TLALPUJAHUA', 16, 93],\n",
       "  ['MICHOACAN', 'TLAZAZALCA', 16, 94],\n",
       "  ['MICHOACAN', 'TOCUMBO', 16, 95],\n",
       "  ['MICHOACAN', 'TUMBISCATIO', 16, 96],\n",
       "  ['MICHOACAN', 'TURICATO', 16, 97],\n",
       "  ['MICHOACAN', 'TUXPAN', 16, 98],\n",
       "  ['MICHOACAN', 'TUZANTLA', 16, 99],\n",
       "  ['MICHOACAN', 'TZINTZUNTZAN', 16, 100],\n",
       "  ['MICHOACAN', 'TZITZIO', 16, 101],\n",
       "  ['MICHOACAN', 'URUAPAN', 16, 102],\n",
       "  ['MICHOACAN', 'VENUSTIANO CARRANZA', 16, 103],\n",
       "  ['MICHOACAN', 'VILLAMAR', 16, 104],\n",
       "  ['MICHOACAN', 'VISTA HERMOSA', 16, 105],\n",
       "  ['MICHOACAN', 'YURECUARO', 16, 106],\n",
       "  ['MICHOACAN', 'ZACAPU', 16, 107],\n",
       "  ['MICHOACAN', 'ZAMORA', 16, 108],\n",
       "  ['MICHOACAN', 'ZINAPARO', 16, 109],\n",
       "  ['MICHOACAN', 'ZINAPECUARO', 16, 110],\n",
       "  ['MICHOACAN', 'ZIRACUARETIRO', 16, 111],\n",
       "  ['MICHOACAN', 'ZITACUARO', 16, 112],\n",
       "  ['MORELOS', 'AMACUZAC', 17, 1],\n",
       "  ['MORELOS', 'ATLATLAHUCAN', 17, 2],\n",
       "  ['MORELOS', 'AXOCHIAPAN', 17, 3],\n",
       "  ['MORELOS', 'AYALA', 17, 4],\n",
       "  ['MORELOS', 'COATLAN DEL RIO', 17, 5],\n",
       "  ['MORELOS', 'CUAUTLA', 17, 6],\n",
       "  ['MORELOS', 'CUERNAVACA', 17, 7],\n",
       "  ['MORELOS', 'EMILIANO ZAPATA', 17, 8],\n",
       "  ['MORELOS', 'HUITZILAC', 17, 9],\n",
       "  ['MORELOS', 'JANTETELCO', 17, 10],\n",
       "  ['MORELOS', 'JIUTEPEC', 17, 11],\n",
       "  ['MORELOS', 'JOJUTLA', 17, 12],\n",
       "  ['MORELOS', 'JONACATEPEC DE LEANDRO VALLE', 17, 13],\n",
       "  ['MORELOS', 'MAZATEPEC', 17, 14],\n",
       "  ['MORELOS', 'MIACATLAN', 17, 15],\n",
       "  ['MORELOS', 'OCUITUCO', 17, 16],\n",
       "  ['MORELOS', 'PUENTE DE IXTLA', 17, 17],\n",
       "  ['MORELOS', 'TEMIXCO', 17, 18],\n",
       "  ['MORELOS', 'TEMOAC', 17, 33],\n",
       "  ['MORELOS', 'TEPALCINGO', 17, 19],\n",
       "  ['MORELOS', 'TEPOZTLAN', 17, 20],\n",
       "  ['MORELOS', 'TETECALA', 17, 21],\n",
       "  ['MORELOS', 'TETELA DEL VOLCAN', 17, 22],\n",
       "  ['MORELOS', 'TLALNEPANTLA', 17, 23],\n",
       "  ['MORELOS', 'TLALTIZAPAN DE ZAPATA', 17, 24],\n",
       "  ['MORELOS', 'TLAQUILTENANGO', 17, 25],\n",
       "  ['MORELOS', 'TLAYACAPAN', 17, 26],\n",
       "  ['MORELOS', 'TOTOLAPAN', 17, 27],\n",
       "  ['MORELOS', 'XOCHITEPEC', 17, 28],\n",
       "  ['MORELOS', 'YAUTEPEC', 17, 29],\n",
       "  ['MORELOS', 'YECAPIXTLA', 17, 30],\n",
       "  ['MORELOS', 'ZACATEPEC', 17, 31],\n",
       "  ['MORELOS', 'ZACUALPAN DE AMILPAS', 17, 32],\n",
       "  ['NAYARIT', 'ACAPONETA', 18, 1],\n",
       "  ['NAYARIT', 'AHUACATLAN', 18, 2],\n",
       "  ['NAYARIT', 'AMATLAN DE CAÑAS', 18, 3],\n",
       "  ['NAYARIT', 'BAHIA DE BANDERAS', 18, 20],\n",
       "  ['NAYARIT', 'COMPOSTELA', 18, 4],\n",
       "  ['NAYARIT', 'DEL NAYAR', 18, 9],\n",
       "  ['NAYARIT', 'HUAJICORI', 18, 5],\n",
       "  ['NAYARIT', 'IXTLAN DEL RIO', 18, 6],\n",
       "  ['NAYARIT', 'JALA', 18, 7],\n",
       "  ['NAYARIT', 'LA YESCA', 18, 19],\n",
       "  ['NAYARIT', 'ROSAMORADA', 18, 10],\n",
       "  ['NAYARIT', 'RUIZ', 18, 11],\n",
       "  ['NAYARIT', 'SAN BLAS', 18, 12],\n",
       "  ['NAYARIT', 'SAN PEDRO LAGUNILLAS', 18, 13],\n",
       "  ['NAYARIT', 'SANTA MARIA DEL ORO', 18, 14],\n",
       "  ['NAYARIT', 'SANTIAGO IXCUINTLA', 18, 15],\n",
       "  ['NAYARIT', 'TECUALA', 18, 16],\n",
       "  ['NAYARIT', 'TEPIC', 18, 17],\n",
       "  ['NAYARIT', 'TUXPAN', 18, 18],\n",
       "  ['NAYARIT', 'XALISCO', 18, 8],\n",
       "  ['NUEVO LEON', 'ABASOLO', 19, 1],\n",
       "  ['NUEVO LEON', 'AGUALEGUAS', 19, 2],\n",
       "  ['NUEVO LEON', 'ALLENDE', 19, 4],\n",
       "  ['NUEVO LEON', 'ANAHUAC', 19, 5],\n",
       "  ['NUEVO LEON', 'APODACA', 19, 6],\n",
       "  ['NUEVO LEON', 'ARAMBERRI', 19, 7],\n",
       "  ['NUEVO LEON', 'BUSTAMANTE', 19, 8],\n",
       "  ['NUEVO LEON', 'CADEREYTA JIMENEZ', 19, 9],\n",
       "  ['NUEVO LEON', 'CERRALVO', 19, 11],\n",
       "  ['NUEVO LEON', 'CHINA', 19, 13],\n",
       "  ['NUEVO LEON', 'CIENEGA DE FLORES', 19, 12],\n",
       "  ['NUEVO LEON', 'DOCTOR ARROYO', 19, 14],\n",
       "  ['NUEVO LEON', 'DOCTOR COSS', 19, 15],\n",
       "  ['NUEVO LEON', 'DOCTOR GONZALEZ', 19, 16],\n",
       "  ['NUEVO LEON', 'EL CARMEN', 19, 10],\n",
       "  ['NUEVO LEON', 'GALEANA', 19, 17],\n",
       "  ['NUEVO LEON', 'GARCIA', 19, 18],\n",
       "  ['NUEVO LEON', 'GENERAL BRAVO', 19, 20],\n",
       "  ['NUEVO LEON', 'GENERAL ESCOBEDO', 19, 21],\n",
       "  ['NUEVO LEON', 'GENERAL TERAN', 19, 22],\n",
       "  ['NUEVO LEON', 'GENERAL TREVIÑO', 19, 23],\n",
       "  ['NUEVO LEON', 'GENERAL ZARAGOZA', 19, 24],\n",
       "  ['NUEVO LEON', 'GENERAL ZUAZUA', 19, 25],\n",
       "  ['NUEVO LEON', 'GUADALUPE', 19, 26],\n",
       "  ['NUEVO LEON', 'HIDALGO', 19, 47],\n",
       "  ['NUEVO LEON', 'HIGUERAS', 19, 28],\n",
       "  ['NUEVO LEON', 'HUALAHUISES', 19, 29],\n",
       "  ['NUEVO LEON', 'ITURBIDE', 19, 30],\n",
       "  ['NUEVO LEON', 'JUAREZ', 19, 31],\n",
       "  ['NUEVO LEON', 'LAMPAZOS DE NARANJO', 19, 32],\n",
       "  ['NUEVO LEON', 'LINARES', 19, 33],\n",
       "  ['NUEVO LEON', 'LOS ALDAMAS', 19, 3],\n",
       "  ['NUEVO LEON', 'LOS HERRERAS', 19, 27],\n",
       "  ['NUEVO LEON', 'LOS RAMONES', 19, 42],\n",
       "  ['NUEVO LEON', 'MARIN', 19, 34],\n",
       "  ['NUEVO LEON', 'MELCHOR OCAMPO', 19, 35],\n",
       "  ['NUEVO LEON', 'MIER Y NORIEGA', 19, 36],\n",
       "  ['NUEVO LEON', 'MINA', 19, 37],\n",
       "  ['NUEVO LEON', 'MONTEMORELOS', 19, 38],\n",
       "  ['NUEVO LEON', 'MONTERREY', 19, 39],\n",
       "  ['NUEVO LEON', 'PARAS', 19, 40],\n",
       "  ['NUEVO LEON', 'PESQUERIA', 19, 41],\n",
       "  ['NUEVO LEON', 'RAYONES', 19, 43],\n",
       "  ['NUEVO LEON', 'SABINAS HIDALGO', 19, 44],\n",
       "  ['NUEVO LEON', 'SALINAS VICTORIA', 19, 45],\n",
       "  ['NUEVO LEON', 'SAN NICOLAS DE LOS GARZA', 19, 46],\n",
       "  ['NUEVO LEON', 'SAN PEDRO GARZA GARCIA', 19, 19],\n",
       "  ['NUEVO LEON', 'SANTA CATARINA', 19, 48],\n",
       "  ...]}"
      ]
     },
     "execution_count": 61,
     "metadata": {},
     "output_type": "execute_result"
    }
   ],
   "source": [
    "dict_CCEFML.pop('index')\n",
    "dict_CCEFML.pop('columns')\n",
    "dict_CCEFML"
   ]
  },
  {
   "cell_type": "code",
   "execution_count": 62,
   "metadata": {},
   "outputs": [
    {
     "data": {
      "text/plain": [
       "['AGUASCALIENTES', 'AGUASCALIENTES', 1, 1]"
      ]
     },
     "execution_count": 62,
     "metadata": {},
     "output_type": "execute_result"
    }
   ],
   "source": [
    "dict_CCEFML['data'][0]"
   ]
  },
  {
   "cell_type": "code",
   "execution_count": 63,
   "metadata": {},
   "outputs": [
    {
     "data": {
      "text/plain": [
       "'AGUASCALIENTES'"
      ]
     },
     "execution_count": 63,
     "metadata": {},
     "output_type": "execute_result"
    }
   ],
   "source": [
    "dict_CCEFML['data'][0][0]"
   ]
  },
  {
   "cell_type": "code",
   "execution_count": 64,
   "metadata": {},
   "outputs": [
    {
     "data": {
      "text/plain": [
       "array(['AGUASCALIENTES', 'BAJA CALIFORNIA', 'BAJA CALIFORNIA SUR',\n",
       "       'CAMPECHE', 'COAHUILA', 'COLIMA', 'CHIAPAS', 'CHIHUAHUA',\n",
       "       'CIUDAD DE MEXICO', 'DURANGO', 'GUANAJUATO', 'GUERRERO', 'HIDALGO',\n",
       "       'JALISCO', 'MEXICO', 'MICHOACAN', 'MORELOS', 'NAYARIT',\n",
       "       'NUEVO LEON', 'OAXACA', 'PUEBLA', 'QUERETARO', 'QUINTANA ROO',\n",
       "       'SAN LUIS POTOSI', 'SINALOA', 'SONORA', 'TABASCO', 'TAMAULIPAS',\n",
       "       'TLAXCALA', 'VERACRUZ', 'YUCATAN', 'ZACATECAS'], dtype=object)"
      ]
     },
     "execution_count": 64,
     "metadata": {},
     "output_type": "execute_result"
    }
   ],
   "source": [
    "array_NOM_ENT = df_CCEFML_copy.NOM_ENT.unique()\n",
    "array_NOM_ENT"
   ]
  },
  {
   "cell_type": "code",
   "execution_count": 65,
   "metadata": {},
   "outputs": [
    {
     "data": {
      "text/plain": [
       "'\\ndict_CCEFML_AGUASCALIENTES = {}\\n\\nfor line in dict_CCEFML[\\'data\\']:\\n    if line[0] == \"AGUASCALIENTES\":\\n        #print(line[1], \\':\\', line[3])\\n        dict_CCEFML_AGUASCALIENTES[line[1]] = line[3]\\n\\ndict_CCEFML_AGUASCALIENTES\\n'"
      ]
     },
     "execution_count": 65,
     "metadata": {},
     "output_type": "execute_result"
    }
   ],
   "source": [
    "\"\"\"\n",
    "dict_CCEFML_AGUASCALIENTES = {}\n",
    "\n",
    "for line in dict_CCEFML['data']:\n",
    "    if line[0] == \"AGUASCALIENTES\":\n",
    "        #print(line[1], ':', line[3])\n",
    "        dict_CCEFML_AGUASCALIENTES[line[1]] = line[3]\n",
    "\n",
    "dict_CCEFML_AGUASCALIENTES\n",
    "\"\"\""
   ]
  },
  {
   "cell_type": "code",
   "execution_count": 66,
   "metadata": {},
   "outputs": [],
   "source": [
    "import re\n",
    "list_dict_CCEFML = []\n",
    "\n",
    "for estado in array_NOM_ENT:\n",
    "#    d = '{}_{}'.format('dict_CCEFML', estado)\n",
    "    \n",
    "    estado_short = re.sub('\\s', '_', estado)\n",
    "\n",
    "    list_dict_CCEFML.append(['dict_CCEFML_' + estado_short])\n",
    "    \n",
    "    globals()['dict_CCEFML_' + estado_short] = {}\n",
    "\n",
    "    for line in dict_CCEFML['data']:\n",
    "        if line[0] == estado:\n",
    "            #print(line[1], ':', line[3])\n",
    "            globals()['dict_CCEFML_' + estado_short][line[1]] = line[3]\n"
   ]
  },
  {
   "cell_type": "code",
   "execution_count": 67,
   "metadata": {},
   "outputs": [
    {
     "data": {
      "text/plain": [
       "[['dict_CCEFML_AGUASCALIENTES'],\n",
       " ['dict_CCEFML_BAJA_CALIFORNIA'],\n",
       " ['dict_CCEFML_BAJA_CALIFORNIA_SUR'],\n",
       " ['dict_CCEFML_CAMPECHE'],\n",
       " ['dict_CCEFML_COAHUILA'],\n",
       " ['dict_CCEFML_COLIMA'],\n",
       " ['dict_CCEFML_CHIAPAS'],\n",
       " ['dict_CCEFML_CHIHUAHUA'],\n",
       " ['dict_CCEFML_CIUDAD_DE_MEXICO'],\n",
       " ['dict_CCEFML_DURANGO'],\n",
       " ['dict_CCEFML_GUANAJUATO'],\n",
       " ['dict_CCEFML_GUERRERO'],\n",
       " ['dict_CCEFML_HIDALGO'],\n",
       " ['dict_CCEFML_JALISCO'],\n",
       " ['dict_CCEFML_MEXICO'],\n",
       " ['dict_CCEFML_MICHOACAN'],\n",
       " ['dict_CCEFML_MORELOS'],\n",
       " ['dict_CCEFML_NAYARIT'],\n",
       " ['dict_CCEFML_NUEVO_LEON'],\n",
       " ['dict_CCEFML_OAXACA'],\n",
       " ['dict_CCEFML_PUEBLA'],\n",
       " ['dict_CCEFML_QUERETARO'],\n",
       " ['dict_CCEFML_QUINTANA_ROO'],\n",
       " ['dict_CCEFML_SAN_LUIS_POTOSI'],\n",
       " ['dict_CCEFML_SINALOA'],\n",
       " ['dict_CCEFML_SONORA'],\n",
       " ['dict_CCEFML_TABASCO'],\n",
       " ['dict_CCEFML_TAMAULIPAS'],\n",
       " ['dict_CCEFML_TLAXCALA'],\n",
       " ['dict_CCEFML_VERACRUZ'],\n",
       " ['dict_CCEFML_YUCATAN'],\n",
       " ['dict_CCEFML_ZACATECAS']]"
      ]
     },
     "execution_count": 67,
     "metadata": {},
     "output_type": "execute_result"
    }
   ],
   "source": [
    "list_dict_CCEFML"
   ]
  },
  {
   "cell_type": "markdown",
   "metadata": {},
   "source": [
    "## Diccionario Modalidad `['MODALIDAD']`"
   ]
  },
  {
   "cell_type": "code",
   "execution_count": 68,
   "metadata": {},
   "outputs": [
    {
     "data": {
      "text/html": [
       "<div>\n",
       "<style scoped>\n",
       "    .dataframe tbody tr th:only-of-type {\n",
       "        vertical-align: middle;\n",
       "    }\n",
       "\n",
       "    .dataframe tbody tr th {\n",
       "        vertical-align: top;\n",
       "    }\n",
       "\n",
       "    .dataframe thead th {\n",
       "        text-align: right;\n",
       "    }\n",
       "</style>\n",
       "<table border=\"1\" class=\"dataframe\">\n",
       "  <thead>\n",
       "    <tr style=\"text-align: right;\">\n",
       "      <th></th>\n",
       "      <th>0</th>\n",
       "    </tr>\n",
       "  </thead>\n",
       "  <tbody>\n",
       "    <tr>\n",
       "      <th>0</th>\n",
       "      <td>DELITOS PATRIMONIALES</td>\n",
       "    </tr>\n",
       "    <tr>\n",
       "      <th>1</th>\n",
       "      <td>DELITOS SEXUALES (VIOLACION)</td>\n",
       "    </tr>\n",
       "    <tr>\n",
       "      <th>2</th>\n",
       "      <td>HOMICIDIOS</td>\n",
       "    </tr>\n",
       "    <tr>\n",
       "      <th>3</th>\n",
       "      <td>LESIONES</td>\n",
       "    </tr>\n",
       "    <tr>\n",
       "      <th>4</th>\n",
       "      <td>OTROS DELITOS</td>\n",
       "    </tr>\n",
       "  </tbody>\n",
       "</table>\n",
       "</div>"
      ],
      "text/plain": [
       "                              0\n",
       "0         DELITOS PATRIMONIALES\n",
       "1  DELITOS SEXUALES (VIOLACION)\n",
       "2                    HOMICIDIOS\n",
       "3                      LESIONES\n",
       "4                 OTROS DELITOS"
      ]
     },
     "execution_count": 68,
     "metadata": {},
     "output_type": "execute_result"
    }
   ],
   "source": [
    "#grouped = df.groupby(['', 'MUNICIPIO'])\n",
    "#df_test.to_dict()\n",
    "#df_test\n",
    "grouped = pd.DataFrame(df_copy.MODALIDAD.unique())\n",
    "#grouped.drop([1], axis=1, inplace=True)\n",
    "grouped.head()"
   ]
  },
  {
   "cell_type": "code",
   "execution_count": 69,
   "metadata": {},
   "outputs": [
    {
     "data": {
      "text/plain": [
       "Index(['index', 0], dtype='object')"
      ]
     },
     "execution_count": 69,
     "metadata": {},
     "output_type": "execute_result"
    }
   ],
   "source": [
    "grouped.reset_index(inplace=True)\n",
    "grouped.columns"
   ]
  },
  {
   "cell_type": "code",
   "execution_count": 70,
   "metadata": {},
   "outputs": [],
   "source": [
    "grouped.rename(columns={0: 'MODALIDAD'}, inplace=True)"
   ]
  },
  {
   "cell_type": "code",
   "execution_count": 71,
   "metadata": {},
   "outputs": [
    {
     "data": {
      "text/plain": [
       "Index(['index', 'MODALIDAD'], dtype='object')"
      ]
     },
     "execution_count": 71,
     "metadata": {},
     "output_type": "execute_result"
    }
   ],
   "source": [
    "#grouped.reset_index(inplace=True)\n",
    "grouped.columns"
   ]
  },
  {
   "cell_type": "code",
   "execution_count": 72,
   "metadata": {},
   "outputs": [
    {
     "data": {
      "text/html": [
       "<div>\n",
       "<style scoped>\n",
       "    .dataframe tbody tr th:only-of-type {\n",
       "        vertical-align: middle;\n",
       "    }\n",
       "\n",
       "    .dataframe tbody tr th {\n",
       "        vertical-align: top;\n",
       "    }\n",
       "\n",
       "    .dataframe thead th {\n",
       "        text-align: right;\n",
       "    }\n",
       "</style>\n",
       "<table border=\"1\" class=\"dataframe\">\n",
       "  <thead>\n",
       "    <tr style=\"text-align: right;\">\n",
       "      <th></th>\n",
       "      <th>index</th>\n",
       "      <th>MODALIDAD</th>\n",
       "    </tr>\n",
       "  </thead>\n",
       "  <tbody>\n",
       "    <tr>\n",
       "      <th>0</th>\n",
       "      <td>0</td>\n",
       "      <td>DELITOS PATRIMONIALES</td>\n",
       "    </tr>\n",
       "    <tr>\n",
       "      <th>1</th>\n",
       "      <td>1</td>\n",
       "      <td>DELITOS SEXUALES (VIOLACION)</td>\n",
       "    </tr>\n",
       "    <tr>\n",
       "      <th>2</th>\n",
       "      <td>2</td>\n",
       "      <td>HOMICIDIOS</td>\n",
       "    </tr>\n",
       "    <tr>\n",
       "      <th>3</th>\n",
       "      <td>3</td>\n",
       "      <td>LESIONES</td>\n",
       "    </tr>\n",
       "    <tr>\n",
       "      <th>4</th>\n",
       "      <td>4</td>\n",
       "      <td>OTROS DELITOS</td>\n",
       "    </tr>\n",
       "  </tbody>\n",
       "</table>\n",
       "</div>"
      ],
      "text/plain": [
       "   index                     MODALIDAD\n",
       "0      0         DELITOS PATRIMONIALES\n",
       "1      1  DELITOS SEXUALES (VIOLACION)\n",
       "2      2                    HOMICIDIOS\n",
       "3      3                      LESIONES\n",
       "4      4                 OTROS DELITOS"
      ]
     },
     "execution_count": 72,
     "metadata": {},
     "output_type": "execute_result"
    }
   ],
   "source": [
    "grouped.head()"
   ]
  },
  {
   "cell_type": "code",
   "execution_count": 73,
   "metadata": {},
   "outputs": [
    {
     "data": {
      "text/plain": [
       "(10, 2)"
      ]
     },
     "execution_count": 73,
     "metadata": {},
     "output_type": "execute_result"
    }
   ],
   "source": [
    "grouped.shape"
   ]
  },
  {
   "cell_type": "code",
   "execution_count": 74,
   "metadata": {},
   "outputs": [
    {
     "data": {
      "text/plain": [
       "dict_keys(['index', 'columns', 'data'])"
      ]
     },
     "execution_count": 74,
     "metadata": {},
     "output_type": "execute_result"
    }
   ],
   "source": [
    "dict_M = grouped.to_dict(orient='split')\n",
    "dict_M.keys()"
   ]
  },
  {
   "cell_type": "code",
   "execution_count": 75,
   "metadata": {},
   "outputs": [
    {
     "data": {
      "text/plain": [
       "{'data': [[0, 'DELITOS PATRIMONIALES'],\n",
       "  [1, 'DELITOS SEXUALES (VIOLACION)'],\n",
       "  [2, 'HOMICIDIOS'],\n",
       "  [3, 'LESIONES'],\n",
       "  [4, 'OTROS DELITOS'],\n",
       "  [5, 'PRIV. DE LA LIBERTAD (SECUESTRO)'],\n",
       "  [6, 'ROBO COMUN'],\n",
       "  [7, 'ROBO DE GANADO (ABIGEATO)'],\n",
       "  [8, 'ROBO EN CARRETERAS'],\n",
       "  [9, 'ROBO EN INSTITUCIONES BANCARIAS']]}"
      ]
     },
     "execution_count": 75,
     "metadata": {},
     "output_type": "execute_result"
    }
   ],
   "source": [
    "dict_M.pop('index')\n",
    "dict_M.pop('columns')\n",
    "dict_M"
   ]
  },
  {
   "cell_type": "code",
   "execution_count": 76,
   "metadata": {},
   "outputs": [
    {
     "data": {
      "text/plain": [
       "[0, 'DELITOS PATRIMONIALES']"
      ]
     },
     "execution_count": 76,
     "metadata": {},
     "output_type": "execute_result"
    }
   ],
   "source": [
    "dict_M['data'][0]"
   ]
  },
  {
   "cell_type": "code",
   "execution_count": 77,
   "metadata": {},
   "outputs": [
    {
     "data": {
      "text/plain": [
       "'DELITOS PATRIMONIALES'"
      ]
     },
     "execution_count": 77,
     "metadata": {},
     "output_type": "execute_result"
    }
   ],
   "source": [
    "dict_M['data'][0][1]"
   ]
  },
  {
   "cell_type": "code",
   "execution_count": 78,
   "metadata": {},
   "outputs": [
    {
     "data": {
      "text/plain": [
       "'DELITOS PATRIMONIALES'"
      ]
     },
     "execution_count": 78,
     "metadata": {},
     "output_type": "execute_result"
    }
   ],
   "source": [
    "dict_M['data'][0][1]"
   ]
  },
  {
   "cell_type": "code",
   "execution_count": 79,
   "metadata": {},
   "outputs": [
    {
     "data": {
      "text/plain": [
       "{'DELITOS PATRIMONIALES': 0,\n",
       " 'DELITOS SEXUALES (VIOLACION)': 1,\n",
       " 'HOMICIDIOS': 2,\n",
       " 'LESIONES': 3,\n",
       " 'OTROS DELITOS': 4,\n",
       " 'PRIV. DE LA LIBERTAD (SECUESTRO)': 5,\n",
       " 'ROBO COMUN': 6,\n",
       " 'ROBO DE GANADO (ABIGEATO)': 7,\n",
       " 'ROBO EN CARRETERAS': 8,\n",
       " 'ROBO EN INSTITUCIONES BANCARIAS': 9}"
      ]
     },
     "execution_count": 79,
     "metadata": {},
     "output_type": "execute_result"
    }
   ],
   "source": [
    "dict_MODALIDAD = {}\n",
    "\n",
    "for line in dict_M['data']:\n",
    "    #print(line[1], ' : ', line[0])\n",
    "    dict_MODALIDAD[line[1]] = line[0]\n",
    "\n",
    "dict_MODALIDAD"
   ]
  },
  {
   "cell_type": "markdown",
   "metadata": {},
   "source": [
    "### MODALIDAD"
   ]
  },
  {
   "cell_type": "code",
   "execution_count": 80,
   "metadata": {},
   "outputs": [
    {
     "data": {
      "text/plain": [
       "array(['DELITOS PATRIMONIALES', 'DELITOS SEXUALES (VIOLACION)',\n",
       "       'HOMICIDIOS', 'LESIONES', 'OTROS DELITOS',\n",
       "       'PRIV. DE LA LIBERTAD (SECUESTRO)', 'ROBO COMUN',\n",
       "       'ROBO DE GANADO (ABIGEATO)', 'ROBO EN CARRETERAS',\n",
       "       'ROBO EN INSTITUCIONES BANCARIAS'], dtype=object)"
      ]
     },
     "execution_count": 80,
     "metadata": {},
     "output_type": "execute_result"
    }
   ],
   "source": [
    "df_copy[\"CVE_MOD\"].unique()"
   ]
  },
  {
   "cell_type": "code",
   "execution_count": 81,
   "metadata": {},
   "outputs": [
    {
     "data": {
      "text/plain": [
       "{'DELITOS PATRIMONIALES': 0,\n",
       " 'DELITOS SEXUALES (VIOLACION)': 1,\n",
       " 'HOMICIDIOS': 2,\n",
       " 'LESIONES': 3,\n",
       " 'OTROS DELITOS': 4,\n",
       " 'PRIV. DE LA LIBERTAD (SECUESTRO)': 5,\n",
       " 'ROBO COMUN': 6,\n",
       " 'ROBO DE GANADO (ABIGEATO)': 7,\n",
       " 'ROBO EN CARRETERAS': 8,\n",
       " 'ROBO EN INSTITUCIONES BANCARIAS': 9}"
      ]
     },
     "execution_count": 81,
     "metadata": {},
     "output_type": "execute_result"
    }
   ],
   "source": [
    "dict_MODALIDAD"
   ]
  },
  {
   "cell_type": "code",
   "execution_count": 82,
   "metadata": {},
   "outputs": [
    {
     "data": {
      "text/plain": [
       "array([0, 1, 2, 3, 4, 5, 6, 7, 8, 9])"
      ]
     },
     "execution_count": 82,
     "metadata": {},
     "output_type": "execute_result"
    }
   ],
   "source": [
    "df_copy['CVE_MOD'] = df_copy['CVE_MOD'].replace(dict_MODALIDAD)\n",
    "df_copy['CVE_MOD'] = df_copy['CVE_MOD'].astype('int64')\n",
    "df_copy['CVE_MOD'].unique()"
   ]
  },
  {
   "cell_type": "markdown",
   "metadata": {},
   "source": [
    "## Diccionario TIPO `['TIPO']`"
   ]
  },
  {
   "cell_type": "code",
   "execution_count": 83,
   "metadata": {},
   "outputs": [
    {
     "data": {
      "text/html": [
       "<div>\n",
       "<style scoped>\n",
       "    .dataframe tbody tr th:only-of-type {\n",
       "        vertical-align: middle;\n",
       "    }\n",
       "\n",
       "    .dataframe tbody tr th {\n",
       "        vertical-align: top;\n",
       "    }\n",
       "\n",
       "    .dataframe thead th {\n",
       "        text-align: right;\n",
       "    }\n",
       "</style>\n",
       "<table border=\"1\" class=\"dataframe\">\n",
       "  <thead>\n",
       "    <tr style=\"text-align: right;\">\n",
       "      <th></th>\n",
       "      <th>0</th>\n",
       "    </tr>\n",
       "  </thead>\n",
       "  <tbody>\n",
       "    <tr>\n",
       "      <th>0</th>\n",
       "      <td>ABUSO DE CONFIANZA</td>\n",
       "    </tr>\n",
       "    <tr>\n",
       "      <th>1</th>\n",
       "      <td>DAÑO EN PROPIEDAD AJENA</td>\n",
       "    </tr>\n",
       "    <tr>\n",
       "      <th>2</th>\n",
       "      <td>EXTORSION</td>\n",
       "    </tr>\n",
       "    <tr>\n",
       "      <th>3</th>\n",
       "      <td>FRAUDE</td>\n",
       "    </tr>\n",
       "    <tr>\n",
       "      <th>4</th>\n",
       "      <td>DESPOJO</td>\n",
       "    </tr>\n",
       "  </tbody>\n",
       "</table>\n",
       "</div>"
      ],
      "text/plain": [
       "                         0\n",
       "0       ABUSO DE CONFIANZA\n",
       "1  DAÑO EN PROPIEDAD AJENA\n",
       "2                EXTORSION\n",
       "3                   FRAUDE\n",
       "4                  DESPOJO"
      ]
     },
     "execution_count": 83,
     "metadata": {},
     "output_type": "execute_result"
    }
   ],
   "source": [
    "#grouped = df.groupby(['', 'MUNICIPIO'])\n",
    "#df_test.to_dict()\n",
    "#df_test\n",
    "grouped = pd.DataFrame(df_copy.TIPO.unique())\n",
    "#grouped.drop([1], axis=1, inplace=True)\n",
    "grouped.head()"
   ]
  },
  {
   "cell_type": "code",
   "execution_count": 84,
   "metadata": {},
   "outputs": [
    {
     "data": {
      "text/plain": [
       "Index(['index', 0], dtype='object')"
      ]
     },
     "execution_count": 84,
     "metadata": {},
     "output_type": "execute_result"
    }
   ],
   "source": [
    "grouped.reset_index(inplace=True)\n",
    "grouped.columns"
   ]
  },
  {
   "cell_type": "code",
   "execution_count": 85,
   "metadata": {},
   "outputs": [
    {
     "data": {
      "text/plain": [
       "Index(['index', 'TIPO'], dtype='object')"
      ]
     },
     "execution_count": 85,
     "metadata": {},
     "output_type": "execute_result"
    }
   ],
   "source": [
    "#grouped.reset_index(inplace=True)\n",
    "grouped.rename(columns={0: 'TIPO'}, inplace=True)\n",
    "grouped.columns"
   ]
  },
  {
   "cell_type": "code",
   "execution_count": 86,
   "metadata": {},
   "outputs": [
    {
     "data": {
      "text/html": [
       "<div>\n",
       "<style scoped>\n",
       "    .dataframe tbody tr th:only-of-type {\n",
       "        vertical-align: middle;\n",
       "    }\n",
       "\n",
       "    .dataframe tbody tr th {\n",
       "        vertical-align: top;\n",
       "    }\n",
       "\n",
       "    .dataframe thead th {\n",
       "        text-align: right;\n",
       "    }\n",
       "</style>\n",
       "<table border=\"1\" class=\"dataframe\">\n",
       "  <thead>\n",
       "    <tr style=\"text-align: right;\">\n",
       "      <th></th>\n",
       "      <th>index</th>\n",
       "      <th>TIPO</th>\n",
       "    </tr>\n",
       "  </thead>\n",
       "  <tbody>\n",
       "    <tr>\n",
       "      <th>0</th>\n",
       "      <td>0</td>\n",
       "      <td>ABUSO DE CONFIANZA</td>\n",
       "    </tr>\n",
       "    <tr>\n",
       "      <th>1</th>\n",
       "      <td>1</td>\n",
       "      <td>DAÑO EN PROPIEDAD AJENA</td>\n",
       "    </tr>\n",
       "    <tr>\n",
       "      <th>2</th>\n",
       "      <td>2</td>\n",
       "      <td>EXTORSION</td>\n",
       "    </tr>\n",
       "    <tr>\n",
       "      <th>3</th>\n",
       "      <td>3</td>\n",
       "      <td>FRAUDE</td>\n",
       "    </tr>\n",
       "    <tr>\n",
       "      <th>4</th>\n",
       "      <td>4</td>\n",
       "      <td>DESPOJO</td>\n",
       "    </tr>\n",
       "    <tr>\n",
       "      <th>5</th>\n",
       "      <td>5</td>\n",
       "      <td>VIOLACION</td>\n",
       "    </tr>\n",
       "    <tr>\n",
       "      <th>6</th>\n",
       "      <td>6</td>\n",
       "      <td>DOLOSOS</td>\n",
       "    </tr>\n",
       "    <tr>\n",
       "      <th>7</th>\n",
       "      <td>7</td>\n",
       "      <td>CULPOSOS</td>\n",
       "    </tr>\n",
       "    <tr>\n",
       "      <th>8</th>\n",
       "      <td>8</td>\n",
       "      <td>DOLOSAS</td>\n",
       "    </tr>\n",
       "    <tr>\n",
       "      <th>9</th>\n",
       "      <td>9</td>\n",
       "      <td>CULPOSAS</td>\n",
       "    </tr>\n",
       "    <tr>\n",
       "      <th>10</th>\n",
       "      <td>10</td>\n",
       "      <td>AMENAZAS</td>\n",
       "    </tr>\n",
       "    <tr>\n",
       "      <th>11</th>\n",
       "      <td>11</td>\n",
       "      <td>ESTUPRO</td>\n",
       "    </tr>\n",
       "    <tr>\n",
       "      <th>12</th>\n",
       "      <td>12</td>\n",
       "      <td>OTROS SEXUALES</td>\n",
       "    </tr>\n",
       "    <tr>\n",
       "      <th>13</th>\n",
       "      <td>13</td>\n",
       "      <td>RESTO DE LOS DELITOS (OTROS)</td>\n",
       "    </tr>\n",
       "    <tr>\n",
       "      <th>14</th>\n",
       "      <td>14</td>\n",
       "      <td>SECUESTRO</td>\n",
       "    </tr>\n",
       "    <tr>\n",
       "      <th>15</th>\n",
       "      <td>15</td>\n",
       "      <td>CON VIOLENCIA</td>\n",
       "    </tr>\n",
       "    <tr>\n",
       "      <th>16</th>\n",
       "      <td>16</td>\n",
       "      <td>SIN VIOLENCIA</td>\n",
       "    </tr>\n",
       "    <tr>\n",
       "      <th>17</th>\n",
       "      <td>17</td>\n",
       "      <td>ABIGEATO</td>\n",
       "    </tr>\n",
       "  </tbody>\n",
       "</table>\n",
       "</div>"
      ],
      "text/plain": [
       "    index                          TIPO\n",
       "0       0            ABUSO DE CONFIANZA\n",
       "1       1       DAÑO EN PROPIEDAD AJENA\n",
       "2       2                     EXTORSION\n",
       "3       3                        FRAUDE\n",
       "4       4                       DESPOJO\n",
       "5       5                     VIOLACION\n",
       "6       6                       DOLOSOS\n",
       "7       7                      CULPOSOS\n",
       "8       8                       DOLOSAS\n",
       "9       9                      CULPOSAS\n",
       "10     10                      AMENAZAS\n",
       "11     11                       ESTUPRO\n",
       "12     12                OTROS SEXUALES\n",
       "13     13  RESTO DE LOS DELITOS (OTROS)\n",
       "14     14                     SECUESTRO\n",
       "15     15                 CON VIOLENCIA\n",
       "16     16                 SIN VIOLENCIA\n",
       "17     17                      ABIGEATO"
      ]
     },
     "execution_count": 86,
     "metadata": {},
     "output_type": "execute_result"
    }
   ],
   "source": [
    "grouped"
   ]
  },
  {
   "cell_type": "code",
   "execution_count": 87,
   "metadata": {},
   "outputs": [
    {
     "data": {
      "text/plain": [
       "(18, 2)"
      ]
     },
     "execution_count": 87,
     "metadata": {},
     "output_type": "execute_result"
    }
   ],
   "source": [
    "grouped.shape"
   ]
  },
  {
   "cell_type": "code",
   "execution_count": 88,
   "metadata": {},
   "outputs": [
    {
     "data": {
      "text/plain": [
       "dict_keys(['index', 'columns', 'data'])"
      ]
     },
     "execution_count": 88,
     "metadata": {},
     "output_type": "execute_result"
    }
   ],
   "source": [
    "dict_T = grouped.to_dict(orient='split')\n",
    "dict_T.keys()"
   ]
  },
  {
   "cell_type": "code",
   "execution_count": 89,
   "metadata": {},
   "outputs": [
    {
     "data": {
      "text/plain": [
       "{'data': [[0, 'ABUSO DE CONFIANZA'],\n",
       "  [1, 'DAÑO EN PROPIEDAD AJENA'],\n",
       "  [2, 'EXTORSION'],\n",
       "  [3, 'FRAUDE'],\n",
       "  [4, 'DESPOJO'],\n",
       "  [5, 'VIOLACION'],\n",
       "  [6, 'DOLOSOS'],\n",
       "  [7, 'CULPOSOS'],\n",
       "  [8, 'DOLOSAS'],\n",
       "  [9, 'CULPOSAS'],\n",
       "  [10, 'AMENAZAS'],\n",
       "  [11, 'ESTUPRO'],\n",
       "  [12, 'OTROS SEXUALES'],\n",
       "  [13, 'RESTO DE LOS DELITOS (OTROS)'],\n",
       "  [14, 'SECUESTRO'],\n",
       "  [15, 'CON VIOLENCIA'],\n",
       "  [16, 'SIN VIOLENCIA'],\n",
       "  [17, 'ABIGEATO']]}"
      ]
     },
     "execution_count": 89,
     "metadata": {},
     "output_type": "execute_result"
    }
   ],
   "source": [
    "dict_T.pop('index')\n",
    "dict_T.pop('columns')\n",
    "dict_T"
   ]
  },
  {
   "cell_type": "code",
   "execution_count": 90,
   "metadata": {},
   "outputs": [
    {
     "data": {
      "text/plain": [
       "[0, 'ABUSO DE CONFIANZA']"
      ]
     },
     "execution_count": 90,
     "metadata": {},
     "output_type": "execute_result"
    }
   ],
   "source": [
    "dict_T['data'][0]"
   ]
  },
  {
   "cell_type": "code",
   "execution_count": 91,
   "metadata": {},
   "outputs": [
    {
     "data": {
      "text/plain": [
       "'ABUSO DE CONFIANZA'"
      ]
     },
     "execution_count": 91,
     "metadata": {},
     "output_type": "execute_result"
    }
   ],
   "source": [
    "dict_T['data'][0][1]"
   ]
  },
  {
   "cell_type": "code",
   "execution_count": 92,
   "metadata": {},
   "outputs": [
    {
     "data": {
      "text/plain": [
       "0"
      ]
     },
     "execution_count": 92,
     "metadata": {},
     "output_type": "execute_result"
    }
   ],
   "source": [
    "dict_T['data'][0][0]"
   ]
  },
  {
   "cell_type": "code",
   "execution_count": 93,
   "metadata": {},
   "outputs": [
    {
     "data": {
      "text/plain": [
       "{'ABIGEATO': 17,\n",
       " 'ABUSO DE CONFIANZA': 0,\n",
       " 'AMENAZAS': 10,\n",
       " 'CON VIOLENCIA': 15,\n",
       " 'CULPOSAS': 9,\n",
       " 'CULPOSOS': 7,\n",
       " 'DAÑO EN PROPIEDAD AJENA': 1,\n",
       " 'DESPOJO': 4,\n",
       " 'DOLOSAS': 8,\n",
       " 'DOLOSOS': 6,\n",
       " 'ESTUPRO': 11,\n",
       " 'EXTORSION': 2,\n",
       " 'FRAUDE': 3,\n",
       " 'OTROS SEXUALES': 12,\n",
       " 'RESTO DE LOS DELITOS (OTROS)': 13,\n",
       " 'SECUESTRO': 14,\n",
       " 'SIN VIOLENCIA': 16,\n",
       " 'VIOLACION': 5}"
      ]
     },
     "execution_count": 93,
     "metadata": {},
     "output_type": "execute_result"
    }
   ],
   "source": [
    "dict_TIPO = {}\n",
    "\n",
    "for line in dict_T['data']:\n",
    "    #print(line[1], ' : ', line[0])\n",
    "    dict_TIPO[line[1]] = line[0]\n",
    "\n",
    "dict_TIPO"
   ]
  },
  {
   "cell_type": "markdown",
   "metadata": {},
   "source": [
    "### TIPO"
   ]
  },
  {
   "cell_type": "code",
   "execution_count": 94,
   "metadata": {},
   "outputs": [
    {
     "data": {
      "text/plain": [
       "array(['ABUSO DE CONFIANZA', 'DAÑO EN PROPIEDAD AJENA', 'EXTORSION',\n",
       "       'FRAUDE', 'DESPOJO', 'VIOLACION', 'DOLOSOS', 'CULPOSOS', 'DOLOSAS',\n",
       "       'CULPOSAS', 'AMENAZAS', 'ESTUPRO', 'OTROS SEXUALES',\n",
       "       'RESTO DE LOS DELITOS (OTROS)', 'SECUESTRO', 'CON VIOLENCIA',\n",
       "       'SIN VIOLENCIA', 'ABIGEATO'], dtype=object)"
      ]
     },
     "execution_count": 94,
     "metadata": {},
     "output_type": "execute_result"
    }
   ],
   "source": [
    "df_copy[\"CVE_TIPO\"].unique()"
   ]
  },
  {
   "cell_type": "code",
   "execution_count": 95,
   "metadata": {},
   "outputs": [
    {
     "data": {
      "text/plain": [
       "{'ABIGEATO': 17,\n",
       " 'ABUSO DE CONFIANZA': 0,\n",
       " 'AMENAZAS': 10,\n",
       " 'CON VIOLENCIA': 15,\n",
       " 'CULPOSAS': 9,\n",
       " 'CULPOSOS': 7,\n",
       " 'DAÑO EN PROPIEDAD AJENA': 1,\n",
       " 'DESPOJO': 4,\n",
       " 'DOLOSAS': 8,\n",
       " 'DOLOSOS': 6,\n",
       " 'ESTUPRO': 11,\n",
       " 'EXTORSION': 2,\n",
       " 'FRAUDE': 3,\n",
       " 'OTROS SEXUALES': 12,\n",
       " 'RESTO DE LOS DELITOS (OTROS)': 13,\n",
       " 'SECUESTRO': 14,\n",
       " 'SIN VIOLENCIA': 16,\n",
       " 'VIOLACION': 5}"
      ]
     },
     "execution_count": 95,
     "metadata": {},
     "output_type": "execute_result"
    }
   ],
   "source": [
    "dict_TIPO"
   ]
  },
  {
   "cell_type": "code",
   "execution_count": 96,
   "metadata": {},
   "outputs": [
    {
     "data": {
      "text/plain": [
       "array([ 0,  1,  2,  3,  4,  5,  6,  7,  8,  9, 10, 11, 12, 13, 14, 15, 16,\n",
       "       17])"
      ]
     },
     "execution_count": 96,
     "metadata": {},
     "output_type": "execute_result"
    }
   ],
   "source": [
    "df_copy['CVE_TIPO'] = df_copy['CVE_TIPO'].replace(dict_TIPO)\n",
    "df_copy['CVE_TIPO'] = df_copy['CVE_TIPO'].astype('int64')\n",
    "df_copy['CVE_TIPO'].unique()"
   ]
  },
  {
   "cell_type": "markdown",
   "metadata": {},
   "source": [
    "## Diccionario SUBTIPO `['SUBTIPO']`"
   ]
  },
  {
   "cell_type": "code",
   "execution_count": 97,
   "metadata": {},
   "outputs": [
    {
     "data": {
      "text/html": [
       "<div>\n",
       "<style scoped>\n",
       "    .dataframe tbody tr th:only-of-type {\n",
       "        vertical-align: middle;\n",
       "    }\n",
       "\n",
       "    .dataframe tbody tr th {\n",
       "        vertical-align: top;\n",
       "    }\n",
       "\n",
       "    .dataframe thead th {\n",
       "        text-align: right;\n",
       "    }\n",
       "</style>\n",
       "<table border=\"1\" class=\"dataframe\">\n",
       "  <thead>\n",
       "    <tr style=\"text-align: right;\">\n",
       "      <th></th>\n",
       "      <th>0</th>\n",
       "    </tr>\n",
       "  </thead>\n",
       "  <tbody>\n",
       "    <tr>\n",
       "      <th>0</th>\n",
       "      <td>ABUSO DE CONFIANZA</td>\n",
       "    </tr>\n",
       "    <tr>\n",
       "      <th>1</th>\n",
       "      <td>DAÑO EN PROPIEDAD AJENA</td>\n",
       "    </tr>\n",
       "    <tr>\n",
       "      <th>2</th>\n",
       "      <td>EXTORSION</td>\n",
       "    </tr>\n",
       "    <tr>\n",
       "      <th>3</th>\n",
       "      <td>FRAUDE</td>\n",
       "    </tr>\n",
       "    <tr>\n",
       "      <th>4</th>\n",
       "      <td>CON VIOLENCIA</td>\n",
       "    </tr>\n",
       "    <tr>\n",
       "      <th>5</th>\n",
       "      <td>SIN VIOLENCIA</td>\n",
       "    </tr>\n",
       "    <tr>\n",
       "      <th>6</th>\n",
       "      <td>SIN DATOS</td>\n",
       "    </tr>\n",
       "    <tr>\n",
       "      <th>7</th>\n",
       "      <td>VIOLACION</td>\n",
       "    </tr>\n",
       "    <tr>\n",
       "      <th>8</th>\n",
       "      <td>CON ARMA DE FUEGO</td>\n",
       "    </tr>\n",
       "    <tr>\n",
       "      <th>9</th>\n",
       "      <td>CON ARMA BLANCA</td>\n",
       "    </tr>\n",
       "    <tr>\n",
       "      <th>10</th>\n",
       "      <td>OTROS</td>\n",
       "    </tr>\n",
       "    <tr>\n",
       "      <th>11</th>\n",
       "      <td>AMENAZAS</td>\n",
       "    </tr>\n",
       "    <tr>\n",
       "      <th>12</th>\n",
       "      <td>ESTUPRO</td>\n",
       "    </tr>\n",
       "    <tr>\n",
       "      <th>13</th>\n",
       "      <td>OTROS SEXUALES</td>\n",
       "    </tr>\n",
       "    <tr>\n",
       "      <th>14</th>\n",
       "      <td>RESTO DE LOS DELITOS (OTROS)</td>\n",
       "    </tr>\n",
       "    <tr>\n",
       "      <th>15</th>\n",
       "      <td>SECUESTRO</td>\n",
       "    </tr>\n",
       "    <tr>\n",
       "      <th>16</th>\n",
       "      <td>A CASA HABITACION</td>\n",
       "    </tr>\n",
       "    <tr>\n",
       "      <th>17</th>\n",
       "      <td>A NEGOCIO</td>\n",
       "    </tr>\n",
       "    <tr>\n",
       "      <th>18</th>\n",
       "      <td>DE VEHICULOS</td>\n",
       "    </tr>\n",
       "    <tr>\n",
       "      <th>19</th>\n",
       "      <td>A TRANSPORTISTAS</td>\n",
       "    </tr>\n",
       "    <tr>\n",
       "      <th>20</th>\n",
       "      <td>A TRANSEUNTES</td>\n",
       "    </tr>\n",
       "    <tr>\n",
       "      <th>21</th>\n",
       "      <td>ABIGEATO</td>\n",
       "    </tr>\n",
       "    <tr>\n",
       "      <th>22</th>\n",
       "      <td>A CAMIONES DE CARGA</td>\n",
       "    </tr>\n",
       "    <tr>\n",
       "      <th>23</th>\n",
       "      <td>A AUTOBUSES</td>\n",
       "    </tr>\n",
       "    <tr>\n",
       "      <th>24</th>\n",
       "      <td>A VEHICULOS PARTICULARES</td>\n",
       "    </tr>\n",
       "    <tr>\n",
       "      <th>25</th>\n",
       "      <td>A BANCOS</td>\n",
       "    </tr>\n",
       "    <tr>\n",
       "      <th>26</th>\n",
       "      <td>A CASA DE BOLSA</td>\n",
       "    </tr>\n",
       "    <tr>\n",
       "      <th>27</th>\n",
       "      <td>A CASA DE CAMBIO</td>\n",
       "    </tr>\n",
       "    <tr>\n",
       "      <th>28</th>\n",
       "      <td>A EMPRESA DE TRASLADO DE VALORES</td>\n",
       "    </tr>\n",
       "  </tbody>\n",
       "</table>\n",
       "</div>"
      ],
      "text/plain": [
       "                                   0\n",
       "0                 ABUSO DE CONFIANZA\n",
       "1            DAÑO EN PROPIEDAD AJENA\n",
       "2                          EXTORSION\n",
       "3                             FRAUDE\n",
       "4                      CON VIOLENCIA\n",
       "5                      SIN VIOLENCIA\n",
       "6                          SIN DATOS\n",
       "7                          VIOLACION\n",
       "8                  CON ARMA DE FUEGO\n",
       "9                    CON ARMA BLANCA\n",
       "10                             OTROS\n",
       "11                          AMENAZAS\n",
       "12                           ESTUPRO\n",
       "13                    OTROS SEXUALES\n",
       "14      RESTO DE LOS DELITOS (OTROS)\n",
       "15                         SECUESTRO\n",
       "16                 A CASA HABITACION\n",
       "17                         A NEGOCIO\n",
       "18                      DE VEHICULOS\n",
       "19                  A TRANSPORTISTAS\n",
       "20                     A TRANSEUNTES\n",
       "21                          ABIGEATO\n",
       "22               A CAMIONES DE CARGA\n",
       "23                       A AUTOBUSES\n",
       "24          A VEHICULOS PARTICULARES\n",
       "25                          A BANCOS\n",
       "26                   A CASA DE BOLSA\n",
       "27                  A CASA DE CAMBIO\n",
       "28  A EMPRESA DE TRASLADO DE VALORES"
      ]
     },
     "execution_count": 97,
     "metadata": {},
     "output_type": "execute_result"
    }
   ],
   "source": [
    "#grouped = df.groupby(['', 'MUNICIPIO'])\n",
    "#df_test.to_dict()\n",
    "#df_test\n",
    "grouped = pd.DataFrame(df_copy.SUBTIPO.unique())\n",
    "#grouped.drop([1], axis=1, inplace=True)\n",
    "grouped"
   ]
  },
  {
   "cell_type": "code",
   "execution_count": 98,
   "metadata": {},
   "outputs": [
    {
     "data": {
      "text/plain": [
       "Index(['index', 0], dtype='object')"
      ]
     },
     "execution_count": 98,
     "metadata": {},
     "output_type": "execute_result"
    }
   ],
   "source": [
    "grouped.reset_index(inplace=True)\n",
    "grouped.columns"
   ]
  },
  {
   "cell_type": "code",
   "execution_count": 99,
   "metadata": {},
   "outputs": [
    {
     "data": {
      "text/plain": [
       "Index(['index', 'SUBTIPO'], dtype='object')"
      ]
     },
     "execution_count": 99,
     "metadata": {},
     "output_type": "execute_result"
    }
   ],
   "source": [
    "#grouped.reset_index(inplace=True)\n",
    "grouped.rename(columns={0: 'SUBTIPO'}, inplace=True)\n",
    "grouped.columns"
   ]
  },
  {
   "cell_type": "code",
   "execution_count": 100,
   "metadata": {},
   "outputs": [
    {
     "data": {
      "text/html": [
       "<div>\n",
       "<style scoped>\n",
       "    .dataframe tbody tr th:only-of-type {\n",
       "        vertical-align: middle;\n",
       "    }\n",
       "\n",
       "    .dataframe tbody tr th {\n",
       "        vertical-align: top;\n",
       "    }\n",
       "\n",
       "    .dataframe thead th {\n",
       "        text-align: right;\n",
       "    }\n",
       "</style>\n",
       "<table border=\"1\" class=\"dataframe\">\n",
       "  <thead>\n",
       "    <tr style=\"text-align: right;\">\n",
       "      <th></th>\n",
       "      <th>index</th>\n",
       "      <th>SUBTIPO</th>\n",
       "    </tr>\n",
       "  </thead>\n",
       "  <tbody>\n",
       "    <tr>\n",
       "      <th>0</th>\n",
       "      <td>0</td>\n",
       "      <td>ABUSO DE CONFIANZA</td>\n",
       "    </tr>\n",
       "    <tr>\n",
       "      <th>1</th>\n",
       "      <td>1</td>\n",
       "      <td>DAÑO EN PROPIEDAD AJENA</td>\n",
       "    </tr>\n",
       "    <tr>\n",
       "      <th>2</th>\n",
       "      <td>2</td>\n",
       "      <td>EXTORSION</td>\n",
       "    </tr>\n",
       "    <tr>\n",
       "      <th>3</th>\n",
       "      <td>3</td>\n",
       "      <td>FRAUDE</td>\n",
       "    </tr>\n",
       "    <tr>\n",
       "      <th>4</th>\n",
       "      <td>4</td>\n",
       "      <td>CON VIOLENCIA</td>\n",
       "    </tr>\n",
       "    <tr>\n",
       "      <th>5</th>\n",
       "      <td>5</td>\n",
       "      <td>SIN VIOLENCIA</td>\n",
       "    </tr>\n",
       "    <tr>\n",
       "      <th>6</th>\n",
       "      <td>6</td>\n",
       "      <td>SIN DATOS</td>\n",
       "    </tr>\n",
       "    <tr>\n",
       "      <th>7</th>\n",
       "      <td>7</td>\n",
       "      <td>VIOLACION</td>\n",
       "    </tr>\n",
       "    <tr>\n",
       "      <th>8</th>\n",
       "      <td>8</td>\n",
       "      <td>CON ARMA DE FUEGO</td>\n",
       "    </tr>\n",
       "    <tr>\n",
       "      <th>9</th>\n",
       "      <td>9</td>\n",
       "      <td>CON ARMA BLANCA</td>\n",
       "    </tr>\n",
       "    <tr>\n",
       "      <th>10</th>\n",
       "      <td>10</td>\n",
       "      <td>OTROS</td>\n",
       "    </tr>\n",
       "    <tr>\n",
       "      <th>11</th>\n",
       "      <td>11</td>\n",
       "      <td>AMENAZAS</td>\n",
       "    </tr>\n",
       "    <tr>\n",
       "      <th>12</th>\n",
       "      <td>12</td>\n",
       "      <td>ESTUPRO</td>\n",
       "    </tr>\n",
       "    <tr>\n",
       "      <th>13</th>\n",
       "      <td>13</td>\n",
       "      <td>OTROS SEXUALES</td>\n",
       "    </tr>\n",
       "    <tr>\n",
       "      <th>14</th>\n",
       "      <td>14</td>\n",
       "      <td>RESTO DE LOS DELITOS (OTROS)</td>\n",
       "    </tr>\n",
       "    <tr>\n",
       "      <th>15</th>\n",
       "      <td>15</td>\n",
       "      <td>SECUESTRO</td>\n",
       "    </tr>\n",
       "    <tr>\n",
       "      <th>16</th>\n",
       "      <td>16</td>\n",
       "      <td>A CASA HABITACION</td>\n",
       "    </tr>\n",
       "    <tr>\n",
       "      <th>17</th>\n",
       "      <td>17</td>\n",
       "      <td>A NEGOCIO</td>\n",
       "    </tr>\n",
       "    <tr>\n",
       "      <th>18</th>\n",
       "      <td>18</td>\n",
       "      <td>DE VEHICULOS</td>\n",
       "    </tr>\n",
       "    <tr>\n",
       "      <th>19</th>\n",
       "      <td>19</td>\n",
       "      <td>A TRANSPORTISTAS</td>\n",
       "    </tr>\n",
       "    <tr>\n",
       "      <th>20</th>\n",
       "      <td>20</td>\n",
       "      <td>A TRANSEUNTES</td>\n",
       "    </tr>\n",
       "    <tr>\n",
       "      <th>21</th>\n",
       "      <td>21</td>\n",
       "      <td>ABIGEATO</td>\n",
       "    </tr>\n",
       "    <tr>\n",
       "      <th>22</th>\n",
       "      <td>22</td>\n",
       "      <td>A CAMIONES DE CARGA</td>\n",
       "    </tr>\n",
       "    <tr>\n",
       "      <th>23</th>\n",
       "      <td>23</td>\n",
       "      <td>A AUTOBUSES</td>\n",
       "    </tr>\n",
       "    <tr>\n",
       "      <th>24</th>\n",
       "      <td>24</td>\n",
       "      <td>A VEHICULOS PARTICULARES</td>\n",
       "    </tr>\n",
       "    <tr>\n",
       "      <th>25</th>\n",
       "      <td>25</td>\n",
       "      <td>A BANCOS</td>\n",
       "    </tr>\n",
       "    <tr>\n",
       "      <th>26</th>\n",
       "      <td>26</td>\n",
       "      <td>A CASA DE BOLSA</td>\n",
       "    </tr>\n",
       "    <tr>\n",
       "      <th>27</th>\n",
       "      <td>27</td>\n",
       "      <td>A CASA DE CAMBIO</td>\n",
       "    </tr>\n",
       "    <tr>\n",
       "      <th>28</th>\n",
       "      <td>28</td>\n",
       "      <td>A EMPRESA DE TRASLADO DE VALORES</td>\n",
       "    </tr>\n",
       "  </tbody>\n",
       "</table>\n",
       "</div>"
      ],
      "text/plain": [
       "    index                           SUBTIPO\n",
       "0       0                ABUSO DE CONFIANZA\n",
       "1       1           DAÑO EN PROPIEDAD AJENA\n",
       "2       2                         EXTORSION\n",
       "3       3                            FRAUDE\n",
       "4       4                     CON VIOLENCIA\n",
       "5       5                     SIN VIOLENCIA\n",
       "6       6                         SIN DATOS\n",
       "7       7                         VIOLACION\n",
       "8       8                 CON ARMA DE FUEGO\n",
       "9       9                   CON ARMA BLANCA\n",
       "10     10                             OTROS\n",
       "11     11                          AMENAZAS\n",
       "12     12                           ESTUPRO\n",
       "13     13                    OTROS SEXUALES\n",
       "14     14      RESTO DE LOS DELITOS (OTROS)\n",
       "15     15                         SECUESTRO\n",
       "16     16                 A CASA HABITACION\n",
       "17     17                         A NEGOCIO\n",
       "18     18                      DE VEHICULOS\n",
       "19     19                  A TRANSPORTISTAS\n",
       "20     20                     A TRANSEUNTES\n",
       "21     21                          ABIGEATO\n",
       "22     22               A CAMIONES DE CARGA\n",
       "23     23                       A AUTOBUSES\n",
       "24     24          A VEHICULOS PARTICULARES\n",
       "25     25                          A BANCOS\n",
       "26     26                   A CASA DE BOLSA\n",
       "27     27                  A CASA DE CAMBIO\n",
       "28     28  A EMPRESA DE TRASLADO DE VALORES"
      ]
     },
     "execution_count": 100,
     "metadata": {},
     "output_type": "execute_result"
    }
   ],
   "source": [
    "grouped"
   ]
  },
  {
   "cell_type": "code",
   "execution_count": 101,
   "metadata": {},
   "outputs": [
    {
     "data": {
      "text/plain": [
       "(29, 2)"
      ]
     },
     "execution_count": 101,
     "metadata": {},
     "output_type": "execute_result"
    }
   ],
   "source": [
    "grouped.shape"
   ]
  },
  {
   "cell_type": "code",
   "execution_count": 102,
   "metadata": {},
   "outputs": [
    {
     "data": {
      "text/plain": [
       "dict_keys(['index', 'columns', 'data'])"
      ]
     },
     "execution_count": 102,
     "metadata": {},
     "output_type": "execute_result"
    }
   ],
   "source": [
    "dict_S = grouped.to_dict(orient='split')\n",
    "dict_S.keys()"
   ]
  },
  {
   "cell_type": "code",
   "execution_count": 103,
   "metadata": {},
   "outputs": [
    {
     "data": {
      "text/plain": [
       "{'data': [[0, 'ABUSO DE CONFIANZA'],\n",
       "  [1, 'DAÑO EN PROPIEDAD AJENA'],\n",
       "  [2, 'EXTORSION'],\n",
       "  [3, 'FRAUDE'],\n",
       "  [4, 'CON VIOLENCIA'],\n",
       "  [5, 'SIN VIOLENCIA'],\n",
       "  [6, 'SIN DATOS'],\n",
       "  [7, 'VIOLACION'],\n",
       "  [8, 'CON ARMA DE FUEGO'],\n",
       "  [9, 'CON ARMA BLANCA'],\n",
       "  [10, 'OTROS'],\n",
       "  [11, 'AMENAZAS'],\n",
       "  [12, 'ESTUPRO'],\n",
       "  [13, 'OTROS SEXUALES'],\n",
       "  [14, 'RESTO DE LOS DELITOS (OTROS)'],\n",
       "  [15, 'SECUESTRO'],\n",
       "  [16, 'A CASA HABITACION'],\n",
       "  [17, 'A NEGOCIO'],\n",
       "  [18, 'DE VEHICULOS'],\n",
       "  [19, 'A TRANSPORTISTAS'],\n",
       "  [20, 'A TRANSEUNTES'],\n",
       "  [21, 'ABIGEATO'],\n",
       "  [22, 'A CAMIONES DE CARGA'],\n",
       "  [23, 'A AUTOBUSES'],\n",
       "  [24, 'A VEHICULOS PARTICULARES'],\n",
       "  [25, 'A BANCOS'],\n",
       "  [26, 'A CASA DE BOLSA'],\n",
       "  [27, 'A CASA DE CAMBIO'],\n",
       "  [28, 'A EMPRESA DE TRASLADO DE VALORES']]}"
      ]
     },
     "execution_count": 103,
     "metadata": {},
     "output_type": "execute_result"
    }
   ],
   "source": [
    "dict_S.pop('index')\n",
    "dict_S.pop('columns')\n",
    "dict_S"
   ]
  },
  {
   "cell_type": "code",
   "execution_count": 104,
   "metadata": {},
   "outputs": [
    {
     "data": {
      "text/plain": [
       "[0, 'ABUSO DE CONFIANZA']"
      ]
     },
     "execution_count": 104,
     "metadata": {},
     "output_type": "execute_result"
    }
   ],
   "source": [
    "dict_S['data'][0]"
   ]
  },
  {
   "cell_type": "code",
   "execution_count": 105,
   "metadata": {},
   "outputs": [
    {
     "data": {
      "text/plain": [
       "'ABUSO DE CONFIANZA'"
      ]
     },
     "execution_count": 105,
     "metadata": {},
     "output_type": "execute_result"
    }
   ],
   "source": [
    "dict_S['data'][0][1]"
   ]
  },
  {
   "cell_type": "code",
   "execution_count": 106,
   "metadata": {},
   "outputs": [
    {
     "data": {
      "text/plain": [
       "0"
      ]
     },
     "execution_count": 106,
     "metadata": {},
     "output_type": "execute_result"
    }
   ],
   "source": [
    "dict_S['data'][0][0]"
   ]
  },
  {
   "cell_type": "code",
   "execution_count": 107,
   "metadata": {},
   "outputs": [
    {
     "data": {
      "text/plain": [
       "{'A AUTOBUSES': 23,\n",
       " 'A BANCOS': 25,\n",
       " 'A CAMIONES DE CARGA': 22,\n",
       " 'A CASA DE BOLSA': 26,\n",
       " 'A CASA DE CAMBIO': 27,\n",
       " 'A CASA HABITACION': 16,\n",
       " 'A EMPRESA DE TRASLADO DE VALORES': 28,\n",
       " 'A NEGOCIO': 17,\n",
       " 'A TRANSEUNTES': 20,\n",
       " 'A TRANSPORTISTAS': 19,\n",
       " 'A VEHICULOS PARTICULARES': 24,\n",
       " 'ABIGEATO': 21,\n",
       " 'ABUSO DE CONFIANZA': 0,\n",
       " 'AMENAZAS': 11,\n",
       " 'CON ARMA BLANCA': 9,\n",
       " 'CON ARMA DE FUEGO': 8,\n",
       " 'CON VIOLENCIA': 4,\n",
       " 'DAÑO EN PROPIEDAD AJENA': 1,\n",
       " 'DE VEHICULOS': 18,\n",
       " 'ESTUPRO': 12,\n",
       " 'EXTORSION': 2,\n",
       " 'FRAUDE': 3,\n",
       " 'OTROS': 10,\n",
       " 'OTROS SEXUALES': 13,\n",
       " 'RESTO DE LOS DELITOS (OTROS)': 14,\n",
       " 'SECUESTRO': 15,\n",
       " 'SIN DATOS': 6,\n",
       " 'SIN VIOLENCIA': 5,\n",
       " 'VIOLACION': 7}"
      ]
     },
     "execution_count": 107,
     "metadata": {},
     "output_type": "execute_result"
    }
   ],
   "source": [
    "dict_SUBTIPO = {}\n",
    "\n",
    "for line in dict_S['data']:\n",
    "    #print(line[1], ' : ', line[0])\n",
    "    dict_SUBTIPO[line[1]] = line[0]\n",
    "\n",
    "dict_SUBTIPO"
   ]
  },
  {
   "cell_type": "markdown",
   "metadata": {},
   "source": [
    "### SUBTIPO"
   ]
  },
  {
   "cell_type": "code",
   "execution_count": 108,
   "metadata": {},
   "outputs": [
    {
     "data": {
      "text/plain": [
       "array(['ABUSO DE CONFIANZA', 'DAÑO EN PROPIEDAD AJENA', 'EXTORSION',\n",
       "       'FRAUDE', 'CON VIOLENCIA', 'SIN VIOLENCIA', 'SIN DATOS',\n",
       "       'VIOLACION', 'CON ARMA DE FUEGO', 'CON ARMA BLANCA', 'OTROS',\n",
       "       'AMENAZAS', 'ESTUPRO', 'OTROS SEXUALES',\n",
       "       'RESTO DE LOS DELITOS (OTROS)', 'SECUESTRO', 'A CASA HABITACION',\n",
       "       'A NEGOCIO', 'DE VEHICULOS', 'A TRANSPORTISTAS', 'A TRANSEUNTES',\n",
       "       'ABIGEATO', 'A CAMIONES DE CARGA', 'A AUTOBUSES',\n",
       "       'A VEHICULOS PARTICULARES', 'A BANCOS', 'A CASA DE BOLSA',\n",
       "       'A CASA DE CAMBIO', 'A EMPRESA DE TRASLADO DE VALORES'], dtype=object)"
      ]
     },
     "execution_count": 108,
     "metadata": {},
     "output_type": "execute_result"
    }
   ],
   "source": [
    "df_copy[\"CVE_SUBTIPO\"].unique()"
   ]
  },
  {
   "cell_type": "code",
   "execution_count": 109,
   "metadata": {},
   "outputs": [
    {
     "data": {
      "text/plain": [
       "{'A AUTOBUSES': 23,\n",
       " 'A BANCOS': 25,\n",
       " 'A CAMIONES DE CARGA': 22,\n",
       " 'A CASA DE BOLSA': 26,\n",
       " 'A CASA DE CAMBIO': 27,\n",
       " 'A CASA HABITACION': 16,\n",
       " 'A EMPRESA DE TRASLADO DE VALORES': 28,\n",
       " 'A NEGOCIO': 17,\n",
       " 'A TRANSEUNTES': 20,\n",
       " 'A TRANSPORTISTAS': 19,\n",
       " 'A VEHICULOS PARTICULARES': 24,\n",
       " 'ABIGEATO': 21,\n",
       " 'ABUSO DE CONFIANZA': 0,\n",
       " 'AMENAZAS': 11,\n",
       " 'CON ARMA BLANCA': 9,\n",
       " 'CON ARMA DE FUEGO': 8,\n",
       " 'CON VIOLENCIA': 4,\n",
       " 'DAÑO EN PROPIEDAD AJENA': 1,\n",
       " 'DE VEHICULOS': 18,\n",
       " 'ESTUPRO': 12,\n",
       " 'EXTORSION': 2,\n",
       " 'FRAUDE': 3,\n",
       " 'OTROS': 10,\n",
       " 'OTROS SEXUALES': 13,\n",
       " 'RESTO DE LOS DELITOS (OTROS)': 14,\n",
       " 'SECUESTRO': 15,\n",
       " 'SIN DATOS': 6,\n",
       " 'SIN VIOLENCIA': 5,\n",
       " 'VIOLACION': 7}"
      ]
     },
     "execution_count": 109,
     "metadata": {},
     "output_type": "execute_result"
    }
   ],
   "source": [
    "dict_SUBTIPO"
   ]
  },
  {
   "cell_type": "code",
   "execution_count": 110,
   "metadata": {},
   "outputs": [
    {
     "data": {
      "text/plain": [
       "array([ 0,  1,  2,  3,  4,  5,  6,  7,  8,  9, 10, 11, 12, 13, 14, 15, 16,\n",
       "       17, 18, 19, 20, 21, 22, 23, 24, 25, 26, 27, 28])"
      ]
     },
     "execution_count": 110,
     "metadata": {},
     "output_type": "execute_result"
    }
   ],
   "source": [
    "df_copy['CVE_SUBTIPO'] = df_copy['CVE_SUBTIPO'].replace(dict_SUBTIPO)\n",
    "df_copy['CVE_SUBTIPO'] = df_copy['CVE_SUBTIPO'].astype('int64')\n",
    "df_copy['CVE_SUBTIPO'].unique()"
   ]
  },
  {
   "cell_type": "markdown",
   "metadata": {},
   "source": [
    "### AGUASCALIENTES"
   ]
  },
  {
   "cell_type": "code",
   "execution_count": 111,
   "metadata": {},
   "outputs": [],
   "source": [
    "estado = \"AGUASCALIENTES\""
   ]
  },
  {
   "cell_type": "code",
   "execution_count": 112,
   "metadata": {},
   "outputs": [
    {
     "data": {
      "text/plain": [
       "array(['AGUASCALIENTES', 'ASIENTOS', 'CALVILLO', 'COSIO', 'JESUS MARIA',\n",
       "       'PABELLON DE ARTEAGA', 'RINCON DE ROMOS', 'SAN JOSE DE GRACIA',\n",
       "       'TEPEZALA', 'EL LLANO', 'SAN FRANCISCO DE LOS ROMO'], dtype=object)"
      ]
     },
     "execution_count": 112,
     "metadata": {},
     "output_type": "execute_result"
    }
   ],
   "source": [
    "df_copy[\"MUNICIPIO\"][(df_copy.ENTIDAD == estado)].unique()"
   ]
  },
  {
   "cell_type": "code",
   "execution_count": 113,
   "metadata": {},
   "outputs": [
    {
     "data": {
      "text/plain": [
       "array(['AGUASCALIENTES', 'ASIENTOS', 'CALVILLO', 'COSIO', 'JESUS MARIA',\n",
       "       'PABELLON DE ARTEAGA', 'RINCON DE ROMOS', 'SAN JOSE DE GRACIA',\n",
       "       'TEPEZALA', 'EL LLANO', 'SAN FRANCISCO DE LOS ROMO'], dtype=object)"
      ]
     },
     "execution_count": 113,
     "metadata": {},
     "output_type": "execute_result"
    }
   ],
   "source": [
    "df_CCEFML_copy[\"NOM_MUN\"][(df_CCEFML_copy[\"NOM_ENT\"] == estado)].unique()"
   ]
  },
  {
   "cell_type": "code",
   "execution_count": 114,
   "metadata": {},
   "outputs": [
    {
     "data": {
      "text/plain": [
       "{'AGUASCALIENTES': 1,\n",
       " 'ASIENTOS': 2,\n",
       " 'CALVILLO': 3,\n",
       " 'COSIO': 4,\n",
       " 'EL LLANO': 10,\n",
       " 'JESUS MARIA': 5,\n",
       " 'PABELLON DE ARTEAGA': 6,\n",
       " 'RINCON DE ROMOS': 7,\n",
       " 'SAN FRANCISCO DE LOS ROMO': 11,\n",
       " 'SAN JOSE DE GRACIA': 8,\n",
       " 'TEPEZALA': 9}"
      ]
     },
     "execution_count": 114,
     "metadata": {},
     "output_type": "execute_result"
    }
   ],
   "source": [
    "dict_CCEFML_AGUASCALIENTES"
   ]
  },
  {
   "cell_type": "code",
   "execution_count": 115,
   "metadata": {},
   "outputs": [
    {
     "data": {
      "text/plain": [
       "array([1.0, 2.0, 3.0, 4.0, 5.0, 6.0, 7.0, 8.0, 9.0, 10.0, 11.0], dtype=object)"
      ]
     },
     "execution_count": 115,
     "metadata": {},
     "output_type": "execute_result"
    }
   ],
   "source": [
    "df_copy['CVE_MUN'][(df_copy['ENTIDAD'] == estado)] = df_copy['CVE_MUN'][(df_copy['ENTIDAD'] == estado)].replace(dict_CCEFML_AGUASCALIENTES)\n",
    "df_copy['CVE_MUN'][(df_copy['ENTIDAD'] == estado)] = df_copy['CVE_MUN'][(df_copy['ENTIDAD'] == estado)].astype('int64')\n",
    "df_copy['CVE_MUN'][(df_copy['ENTIDAD'] == estado)].unique()"
   ]
  },
  {
   "cell_type": "markdown",
   "metadata": {},
   "source": [
    "### BAJA CALIFORNIA"
   ]
  },
  {
   "cell_type": "code",
   "execution_count": 116,
   "metadata": {},
   "outputs": [],
   "source": [
    "estado = \"BAJA CALIFORNIA\""
   ]
  },
  {
   "cell_type": "code",
   "execution_count": 117,
   "metadata": {},
   "outputs": [
    {
     "data": {
      "text/plain": [
       "PLAYAS DE ROSARITO    462\n",
       "TIJUANA               462\n",
       "ENSENADA              462\n",
       "TECATE                462\n",
       "MEXICALI              462\n",
       "Name: MUNICIPIO, dtype: int64"
      ]
     },
     "execution_count": 117,
     "metadata": {},
     "output_type": "execute_result"
    }
   ],
   "source": [
    "df_copy[\"MUNICIPIO\"][(df_copy.ENTIDAD == estado)].value_counts()"
   ]
  },
  {
   "cell_type": "code",
   "execution_count": 118,
   "metadata": {},
   "outputs": [
    {
     "data": {
      "text/plain": [
       "ENSENADA              3123\n",
       "MEXICALI              2096\n",
       "TECATE                 773\n",
       "TIJUANA                730\n",
       "PLAYAS DE ROSARITO     334\n",
       "Name: NOM_MUN, dtype: int64"
      ]
     },
     "execution_count": 118,
     "metadata": {},
     "output_type": "execute_result"
    }
   ],
   "source": [
    "df_CCEFML_copy[\"NOM_MUN\"][(df_CCEFML_copy[\"NOM_ENT\"] == estado)].value_counts()"
   ]
  },
  {
   "cell_type": "code",
   "execution_count": 119,
   "metadata": {},
   "outputs": [
    {
     "data": {
      "text/plain": [
       "{'ENSENADA': 1,\n",
       " 'MEXICALI': 2,\n",
       " 'PLAYAS DE ROSARITO': 5,\n",
       " 'TECATE': 3,\n",
       " 'TIJUANA': 4}"
      ]
     },
     "execution_count": 119,
     "metadata": {},
     "output_type": "execute_result"
    }
   ],
   "source": [
    "dict_CCEFML_BAJA_CALIFORNIA"
   ]
  },
  {
   "cell_type": "code",
   "execution_count": 120,
   "metadata": {},
   "outputs": [
    {
     "data": {
      "text/plain": [
       "array([1.0, 2.0, 3.0, 4.0, 5.0], dtype=object)"
      ]
     },
     "execution_count": 120,
     "metadata": {},
     "output_type": "execute_result"
    }
   ],
   "source": [
    "df_copy['CVE_MUN'][(df_copy['ENTIDAD'] == estado)] = df_copy['CVE_MUN'][(df_copy['ENTIDAD'] == estado)].replace(dict_CCEFML_BAJA_CALIFORNIA)\n",
    "df_copy['CVE_MUN'][(df_copy['ENTIDAD'] == estado)] = df_copy['CVE_MUN'][(df_copy['ENTIDAD'] == estado)].astype('int64')\n",
    "df_copy['CVE_MUN'][(df_copy['ENTIDAD'] == estado)].unique()"
   ]
  },
  {
   "cell_type": "markdown",
   "metadata": {},
   "source": [
    "### BAJA CALIFORNIA SUR"
   ]
  },
  {
   "cell_type": "code",
   "execution_count": 121,
   "metadata": {},
   "outputs": [],
   "source": [
    "estado = \"BAJA CALIFORNIA SUR\""
   ]
  },
  {
   "cell_type": "code",
   "execution_count": 122,
   "metadata": {},
   "outputs": [
    {
     "data": {
      "text/plain": [
       "LA PAZ       462\n",
       "MULEGE       462\n",
       "LOS CABOS    462\n",
       "LORETO       462\n",
       "COMONDU      462\n",
       "Name: MUNICIPIO, dtype: int64"
      ]
     },
     "execution_count": 122,
     "metadata": {},
     "output_type": "execute_result"
    }
   ],
   "source": [
    "df_copy[\"MUNICIPIO\"][(df_copy.ENTIDAD == estado)].value_counts()"
   ]
  },
  {
   "cell_type": "code",
   "execution_count": 123,
   "metadata": {},
   "outputs": [
    {
     "data": {
      "text/plain": [
       "LA PAZ       1655\n",
       "COMONDU      1369\n",
       "LOS CABOS    1069\n",
       "MULEGE        820\n",
       "LORETO        248\n",
       "Name: NOM_MUN, dtype: int64"
      ]
     },
     "execution_count": 123,
     "metadata": {},
     "output_type": "execute_result"
    }
   ],
   "source": [
    "df_CCEFML_copy[\"NOM_MUN\"][(df_CCEFML_copy[\"NOM_ENT\"] == estado)].value_counts()"
   ]
  },
  {
   "cell_type": "code",
   "execution_count": 124,
   "metadata": {},
   "outputs": [
    {
     "data": {
      "text/plain": [
       "{'COMONDU': 1, 'LA PAZ': 3, 'LORETO': 9, 'LOS CABOS': 8, 'MULEGE': 2}"
      ]
     },
     "execution_count": 124,
     "metadata": {},
     "output_type": "execute_result"
    }
   ],
   "source": [
    "dict_CCEFML_BAJA_CALIFORNIA_SUR"
   ]
  },
  {
   "cell_type": "code",
   "execution_count": 125,
   "metadata": {},
   "outputs": [
    {
     "data": {
      "text/plain": [
       "array([1.0, 2.0, 3.0, 8.0, 9.0], dtype=object)"
      ]
     },
     "execution_count": 125,
     "metadata": {},
     "output_type": "execute_result"
    }
   ],
   "source": [
    "df_copy['CVE_MUN'][(df_copy['ENTIDAD'] == estado)] = df_copy['CVE_MUN'][(df_copy['ENTIDAD'] == estado)].replace(dict_CCEFML_BAJA_CALIFORNIA_SUR)\n",
    "df_copy['CVE_MUN'][(df_copy['ENTIDAD'] == estado)] = df_copy['CVE_MUN'][(df_copy['ENTIDAD'] == estado)].astype('int64')\n",
    "df_copy['CVE_MUN'][(df_copy['ENTIDAD'] == estado)].unique()"
   ]
  },
  {
   "cell_type": "markdown",
   "metadata": {},
   "source": [
    "### CAMPECHE"
   ]
  },
  {
   "cell_type": "code",
   "execution_count": 126,
   "metadata": {},
   "outputs": [],
   "source": [
    "estado = \"CAMPECHE\""
   ]
  },
  {
   "cell_type": "code",
   "execution_count": 127,
   "metadata": {},
   "outputs": [
    {
     "data": {
      "text/plain": [
       "CALAKMUL       462\n",
       "PALIZADA       462\n",
       "TENABO         462\n",
       "HOPELCHEN      462\n",
       "CAMPECHE       462\n",
       "ESCARCEGA      462\n",
       "HECELCHAKAN    462\n",
       "CHAMPOTON      462\n",
       "CALKINI        462\n",
       "CANDELARIA     462\n",
       "CARMEN         462\n",
       "Name: MUNICIPIO, dtype: int64"
      ]
     },
     "execution_count": 127,
     "metadata": {},
     "output_type": "execute_result"
    }
   ],
   "source": [
    "df_copy[\"MUNICIPIO\"][(df_copy.ENTIDAD == estado)].value_counts()"
   ]
  },
  {
   "cell_type": "code",
   "execution_count": 128,
   "metadata": {},
   "outputs": [
    {
     "data": {
      "text/plain": [
       "CARMEN         1579\n",
       "CANDELARIA     1117\n",
       "CHAMPOTON       686\n",
       "CAMPECHE        478\n",
       "ESCARCEGA       474\n",
       "CALAKMUL        265\n",
       "HOPELCHEN       247\n",
       "PALIZADA        233\n",
       "CALKINI         189\n",
       "HECELCHAKAN      78\n",
       "TENABO           76\n",
       "Name: NOM_MUN, dtype: int64"
      ]
     },
     "execution_count": 128,
     "metadata": {},
     "output_type": "execute_result"
    }
   ],
   "source": [
    "df_CCEFML_copy[\"NOM_MUN\"][(df_CCEFML_copy[\"NOM_ENT\"] == estado)].value_counts()"
   ]
  },
  {
   "cell_type": "code",
   "execution_count": 129,
   "metadata": {},
   "outputs": [
    {
     "data": {
      "text/plain": [
       "{'CALAKMUL': 10,\n",
       " 'CALKINI': 1,\n",
       " 'CAMPECHE': 2,\n",
       " 'CANDELARIA': 11,\n",
       " 'CARMEN': 3,\n",
       " 'CHAMPOTON': 4,\n",
       " 'ESCARCEGA': 9,\n",
       " 'HECELCHAKAN': 5,\n",
       " 'HOPELCHEN': 6,\n",
       " 'PALIZADA': 7,\n",
       " 'TENABO': 8}"
      ]
     },
     "execution_count": 129,
     "metadata": {},
     "output_type": "execute_result"
    }
   ],
   "source": [
    "dict_CCEFML_CAMPECHE"
   ]
  },
  {
   "cell_type": "code",
   "execution_count": 130,
   "metadata": {},
   "outputs": [
    {
     "data": {
      "text/plain": [
       "array([1.0, 2.0, 3.0, 4.0, 5.0, 6.0, 7.0, 8.0, 9.0, 10.0, 11.0], dtype=object)"
      ]
     },
     "execution_count": 130,
     "metadata": {},
     "output_type": "execute_result"
    }
   ],
   "source": [
    "df_copy['CVE_MUN'][(df_copy['ENTIDAD'] == estado)] = df_copy['CVE_MUN'][(df_copy['ENTIDAD'] == estado)].replace(dict_CCEFML_CAMPECHE)\n",
    "df_copy['CVE_MUN'][(df_copy['ENTIDAD'] == estado)] = df_copy['CVE_MUN'][(df_copy['ENTIDAD'] == estado)].astype('int64')\n",
    "df_copy['CVE_MUN'][(df_copy['ENTIDAD'] == estado)].unique()"
   ]
  },
  {
   "cell_type": "markdown",
   "metadata": {},
   "source": [
    "### CHIAPAS"
   ]
  },
  {
   "cell_type": "code",
   "execution_count": 131,
   "metadata": {},
   "outputs": [],
   "source": [
    "estado = \"CHIAPAS\""
   ]
  },
  {
   "cell_type": "code",
   "execution_count": 132,
   "metadata": {},
   "outputs": [
    {
     "data": {
      "text/plain": [
       "TAPACHULA                    462\n",
       "CHIAPILLA                    462\n",
       "FRANCISCO LEON               462\n",
       "VILLA CORZO                  462\n",
       "SALTO DE AGUA                462\n",
       "MARAVILLA TENEJAPA           462\n",
       "MAZAPA DE MADERO             462\n",
       "OSUMACINTA                   462\n",
       "OSTUACAN                     462\n",
       "LA CONCORDIA                 462\n",
       "IXHUATAN                     462\n",
       "EL PORVENIR                  462\n",
       "JITOTOL                      462\n",
       "ALDAMA                       462\n",
       "LA LIBERTAD                  462\n",
       "CHICOMUSELO                  462\n",
       "PANTELHO                     462\n",
       "OCOSINGO                     462\n",
       "OCOTEPEC                     462\n",
       "LARRAINZAR                   462\n",
       "TUZANTAN                     462\n",
       "SUCHIAPA                     462\n",
       "VENUSTIANO CARRANZA          462\n",
       "SOYALO                       462\n",
       "PALENQUE                     462\n",
       "COMITAN DE DOMINGUEZ         462\n",
       "AMATAN                       462\n",
       "UNION JUAREZ                 462\n",
       "FRONTERA COMALAPA            462\n",
       "SUNUAPA                      462\n",
       "                            ... \n",
       "AMATENANGO DEL VALLE         462\n",
       "AMATENANGO DE LA FRONTERA    462\n",
       "SITALA                       462\n",
       "EL BOSQUE                    462\n",
       "ZINACANTAN                   462\n",
       "TILA                         462\n",
       "SOCOLTENANGO                 462\n",
       "SANTIAGO EL PINAR            462\n",
       "ALTAMIRANO                   462\n",
       "NICOLAS RUIZ                 462\n",
       "TUXTLA GUTIERREZ             462\n",
       "CACAHOATAN                   462\n",
       "SAN FERNANDO                 462\n",
       "MARQUES DE COMILLAS          462\n",
       "SABANILLA                    462\n",
       "OXCHUC                       462\n",
       "SOLOSUCHIAPA                 462\n",
       "ACACOYAGUA                   462\n",
       "METAPA                       462\n",
       "TUMBALA                      462\n",
       "REFORMA                      462\n",
       "BELLA VISTA                  462\n",
       "TENEJAPA                     462\n",
       "TOTOLAPA                     462\n",
       "MAZATAN                      462\n",
       "LA GRANDEZA                  462\n",
       "ARRIAGA                      462\n",
       "COAPILLA                     462\n",
       "OCOZOCOAUTLA DE ESPINOSA     462\n",
       "SAN LUCAS                    462\n",
       "Name: MUNICIPIO, Length: 118, dtype: int64"
      ]
     },
     "execution_count": 132,
     "metadata": {},
     "output_type": "execute_result"
    }
   ],
   "source": [
    "df_copy[\"MUNICIPIO\"][(df_copy.ENTIDAD == estado)].value_counts()"
   ]
  },
  {
   "cell_type": "code",
   "execution_count": 133,
   "metadata": {},
   "outputs": [
    {
     "data": {
      "text/plain": [
       "VILLA CORZO                 1794\n",
       "VILLAFLORES                 1527\n",
       "OCOSINGO                    1251\n",
       "PIJIJIAPAN                  1238\n",
       "OCOZOCOAUTLA DE ESPINOSA     995\n",
       "TONALA                       931\n",
       "PALENQUE                     876\n",
       "CINTALAPA                    863\n",
       "LA CONCORDIA                 776\n",
       "MAPASTEPEC                   753\n",
       "CHILON                       676\n",
       "TAPACHULA                    551\n",
       "JIQUIPILAS                   549\n",
       "LA TRINITARIA                512\n",
       "LAS MARGARITAS               467\n",
       "ARRIAGA                      457\n",
       "BERRIOZABAL                  452\n",
       "VENUSTIANO CARRANZA          443\n",
       "CHIAPA DE CORZO              410\n",
       "MOTOZINTLA                   409\n",
       "SALTO DE AGUA                361\n",
       "COMITAN DE DOMINGUEZ         341\n",
       "FRONTERA COMALAPA            285\n",
       "TECPATAN                     283\n",
       "CHICOMUSELO                  272\n",
       "ACAPETAHUA                   256\n",
       "HUIXTLA                      236\n",
       "ESCUINTLA                    230\n",
       "CATAZAJA                     230\n",
       "YAJALON                      221\n",
       "                            ... \n",
       "COAPILLA                      47\n",
       "LA GRANDEZA                   45\n",
       "SAN JUAN CANCUC               41\n",
       "OCOTEPEC                      41\n",
       "RAYON                         40\n",
       "UNION JUAREZ                  40\n",
       "BEJUCAL DE OCAMPO             38\n",
       "CAPITAN LUIS ANGEL VIDAL      37\n",
       "REFORMA                       35\n",
       "MARAVILLA TENEJAPA            35\n",
       "CHAPULTENANGO                 35\n",
       "TOTOLAPA                      32\n",
       "MARQUES DE COMILLAS           28\n",
       "IXTAPANGAJOYA                 24\n",
       "CHICOASEN                     23\n",
       "ALDAMA                        21\n",
       "SOYALO                        21\n",
       "TAPALAPA                      21\n",
       "CHANAL                        20\n",
       "CHIAPILLA                     19\n",
       "MITONTIC                      18\n",
       "SANTIAGO EL PINAR             15\n",
       "OSUMACINTA                    15\n",
       "FRONTERA HIDALGO              15\n",
       "SUNUAPA                       14\n",
       "SAN ANDRES DURAZNAL           13\n",
       "SAN LUCAS                     13\n",
       "RINCON CHAMULA SAN PEDRO       9\n",
       "METAPA                         7\n",
       "NICOLAS RUIZ                   3\n",
       "Name: NOM_MUN, Length: 123, dtype: int64"
      ]
     },
     "execution_count": 133,
     "metadata": {},
     "output_type": "execute_result"
    }
   ],
   "source": [
    "df_CCEFML_copy[\"NOM_MUN\"][(df_CCEFML_copy[\"NOM_ENT\"] == estado)].value_counts()"
   ]
  },
  {
   "cell_type": "code",
   "execution_count": 134,
   "metadata": {},
   "outputs": [
    {
     "data": {
      "text/plain": [
       "{'ACACOYAGUA': 1,\n",
       " 'ACALA': 2,\n",
       " 'ACAPETAHUA': 3,\n",
       " 'ALDAMA': 113,\n",
       " 'ALTAMIRANO': 4,\n",
       " 'AMATAN': 5,\n",
       " 'AMATENANGO DE LA FRONTERA': 6,\n",
       " 'AMATENANGO DEL VALLE': 7,\n",
       " 'ANGEL ALBINO CORZO': 8,\n",
       " 'ARRIAGA': 9,\n",
       " 'BEJUCAL DE OCAMPO': 10,\n",
       " 'BELLA VISTA': 11,\n",
       " 'BENEMERITO DE LAS AMERICAS': 114,\n",
       " 'BERRIOZABAL': 12,\n",
       " 'BOCHIL': 13,\n",
       " 'CACAHOATAN': 15,\n",
       " 'CAPITAN LUIS ANGEL VIDAL': 120,\n",
       " 'CATAZAJA': 16,\n",
       " 'CHALCHIHUITAN': 22,\n",
       " 'CHAMULA': 23,\n",
       " 'CHANAL': 24,\n",
       " 'CHAPULTENANGO': 25,\n",
       " 'CHENALHO': 26,\n",
       " 'CHIAPA DE CORZO': 27,\n",
       " 'CHIAPILLA': 28,\n",
       " 'CHICOASEN': 29,\n",
       " 'CHICOMUSELO': 30,\n",
       " 'CHILON': 31,\n",
       " 'CINTALAPA': 17,\n",
       " 'COAPILLA': 18,\n",
       " 'COMITAN DE DOMINGUEZ': 19,\n",
       " 'COPAINALA': 21,\n",
       " 'EL BOSQUE': 14,\n",
       " 'EL PARRAL': 122,\n",
       " 'EL PORVENIR': 70,\n",
       " 'EMILIANO ZAPATA': 123,\n",
       " 'ESCUINTLA': 32,\n",
       " 'FRANCISCO LEON': 33,\n",
       " 'FRONTERA COMALAPA': 34,\n",
       " 'FRONTERA HIDALGO': 35,\n",
       " 'HUEHUETAN': 37,\n",
       " 'HUITIUPAN': 39,\n",
       " 'HUIXTAN': 38,\n",
       " 'HUIXTLA': 40,\n",
       " 'IXHUATAN': 42,\n",
       " 'IXTACOMITAN': 43,\n",
       " 'IXTAPA': 44,\n",
       " 'IXTAPANGAJOYA': 45,\n",
       " 'JIQUIPILAS': 46,\n",
       " 'JITOTOL': 47,\n",
       " 'JUAREZ': 48,\n",
       " 'LA CONCORDIA': 20,\n",
       " 'LA GRANDEZA': 36,\n",
       " 'LA INDEPENDENCIA': 41,\n",
       " 'LA LIBERTAD': 50,\n",
       " 'LA TRINITARIA': 99,\n",
       " 'LARRAINZAR': 49,\n",
       " 'LAS MARGARITAS': 52,\n",
       " 'LAS ROSAS': 75,\n",
       " 'MAPASTEPEC': 51,\n",
       " 'MARAVILLA TENEJAPA': 115,\n",
       " 'MARQUES DE COMILLAS': 116,\n",
       " 'MAZAPA DE MADERO': 53,\n",
       " 'MAZATAN': 54,\n",
       " 'METAPA': 55,\n",
       " 'MEZCALAPA': 124,\n",
       " 'MITONTIC': 56,\n",
       " 'MONTECRISTO DE GUERRERO': 117,\n",
       " 'MOTOZINTLA': 57,\n",
       " 'NICOLAS RUIZ': 58,\n",
       " 'OCOSINGO': 59,\n",
       " 'OCOTEPEC': 60,\n",
       " 'OCOZOCOAUTLA DE ESPINOSA': 61,\n",
       " 'OSTUACAN': 62,\n",
       " 'OSUMACINTA': 63,\n",
       " 'OXCHUC': 64,\n",
       " 'PALENQUE': 65,\n",
       " 'PANTELHO': 66,\n",
       " 'PANTEPEC': 67,\n",
       " 'PICHUCALCO': 68,\n",
       " 'PIJIJIAPAN': 69,\n",
       " 'PUEBLO NUEVO SOLISTAHUACAN': 72,\n",
       " 'RAYON': 73,\n",
       " 'REFORMA': 74,\n",
       " 'RINCON CHAMULA SAN PEDRO': 121,\n",
       " 'SABANILLA': 76,\n",
       " 'SALTO DE AGUA': 77,\n",
       " 'SAN ANDRES DURAZNAL': 118,\n",
       " 'SAN CRISTOBAL DE LAS CASAS': 78,\n",
       " 'SAN FERNANDO': 79,\n",
       " 'SAN JUAN CANCUC': 112,\n",
       " 'SAN LUCAS': 110,\n",
       " 'SANTIAGO EL PINAR': 119,\n",
       " 'SILTEPEC': 80,\n",
       " 'SIMOJOVEL': 81,\n",
       " 'SITALA': 82,\n",
       " 'SOCOLTENANGO': 83,\n",
       " 'SOLOSUCHIAPA': 84,\n",
       " 'SOYALO': 85,\n",
       " 'SUCHIAPA': 86,\n",
       " 'SUCHIATE': 87,\n",
       " 'SUNUAPA': 88,\n",
       " 'TAPACHULA': 89,\n",
       " 'TAPALAPA': 90,\n",
       " 'TAPILULA': 91,\n",
       " 'TECPATAN': 92,\n",
       " 'TENEJAPA': 93,\n",
       " 'TEOPISCA': 94,\n",
       " 'TILA': 96,\n",
       " 'TONALA': 97,\n",
       " 'TOTOLAPA': 98,\n",
       " 'TUMBALA': 100,\n",
       " 'TUXTLA CHICO': 102,\n",
       " 'TUXTLA GUTIERREZ': 101,\n",
       " 'TUZANTAN': 103,\n",
       " 'TZIMOL': 104,\n",
       " 'UNION JUAREZ': 105,\n",
       " 'VENUSTIANO CARRANZA': 106,\n",
       " 'VILLA COMALTITLAN': 71,\n",
       " 'VILLA CORZO': 107,\n",
       " 'VILLAFLORES': 108,\n",
       " 'YAJALON': 109,\n",
       " 'ZINACANTAN': 111}"
      ]
     },
     "execution_count": 134,
     "metadata": {},
     "output_type": "execute_result"
    }
   ],
   "source": [
    "dict_CCEFML_CHIAPAS"
   ]
  },
  {
   "cell_type": "code",
   "execution_count": 135,
   "metadata": {},
   "outputs": [
    {
     "data": {
      "text/plain": [
       "array([1.0, 2.0, 3.0, 4.0, 5.0, 6.0, 7.0, 8.0, 9.0, 10.0, 11.0, 12.0, 13.0,\n",
       "       14.0, 15.0, 16.0, 17.0, 18.0, 19.0, 20.0, 21.0, 22.0, 23.0, 24.0,\n",
       "       25.0, 26.0, 27.0, 28.0, 29.0, 30.0, 31.0, 32.0, 33.0, 34.0, 35.0,\n",
       "       36.0, 37.0, 38.0, 39.0, 40.0, 41.0, 42.0, 43.0, 44.0, 45.0, 46.0,\n",
       "       47.0, 48.0, 49.0, 50.0, 51.0, 52.0, 53.0, 54.0, 55.0, 56.0, 57.0,\n",
       "       58.0, 59.0, 60.0, 61.0, 62.0, 63.0, 64.0, 65.0, 66.0, 67.0, 68.0,\n",
       "       69.0, 70.0, 71.0, 72.0, 73.0, 74.0, 75.0, 76.0, 77.0, 78.0, 79.0,\n",
       "       80.0, 81.0, 82.0, 83.0, 84.0, 85.0, 86.0, 87.0, 88.0, 89.0, 90.0,\n",
       "       91.0, 92.0, 93.0, 94.0, 96.0, 97.0, 98.0, 99.0, 100.0, 101.0, 102.0,\n",
       "       103.0, 104.0, 105.0, 106.0, 107.0, 108.0, 109.0, 110.0, 111.0,\n",
       "       112.0, 113.0, 114.0, 115.0, 116.0, 117.0, 118.0, 119.0], dtype=object)"
      ]
     },
     "execution_count": 135,
     "metadata": {},
     "output_type": "execute_result"
    }
   ],
   "source": [
    "df_copy['CVE_MUN'][(df_copy['ENTIDAD'] == estado)] = df_copy['CVE_MUN'][(df_copy['ENTIDAD'] == estado)].replace(dict_CCEFML_CHIAPAS)\n",
    "df_copy['CVE_MUN'][(df_copy['ENTIDAD'] == estado)] = df_copy['CVE_MUN'][(df_copy['ENTIDAD'] == estado)].astype('int64')\n",
    "df_copy['CVE_MUN'][(df_copy['ENTIDAD'] == estado)].unique()"
   ]
  },
  {
   "cell_type": "markdown",
   "metadata": {},
   "source": [
    "### CHIHUAHUA"
   ]
  },
  {
   "cell_type": "code",
   "execution_count": 136,
   "metadata": {},
   "outputs": [],
   "source": [
    "estado = \"CHIHUAHUA\""
   ]
  },
  {
   "cell_type": "code",
   "execution_count": 137,
   "metadata": {},
   "outputs": [
    {
     "data": {
      "text/plain": [
       "array(['AHUMADA', 'ALDAMA', 'ALLENDE', 'AQUILES SERDAN', 'ASCENSION',\n",
       "       'BACHINIVA', 'BALLEZA', 'BATOPILAS', 'BOCOYNA', 'BUENAVENTURA',\n",
       "       'CAMARGO', 'CARICHI', 'CASAS GRANDES', 'CORONADO',\n",
       "       'COYAME DEL SOTOL', 'LA CRUZ', 'CUAUHTEMOC', 'CUSIHUIRIACHI',\n",
       "       'CHIHUAHUA', 'CHINIPAS', 'DELICIAS', 'DR. BELISARIO DOMINGUEZ',\n",
       "       'GALEANA', 'SANTA ISABEL', 'GOMEZ FARIAS', 'GRAN MORELOS',\n",
       "       'GUACHOCHI', 'GUADALUPE', 'GUADALUPE Y CALVO', 'GUAZAPARES',\n",
       "       'GUERRERO', 'HIDALGO DEL PARRAL', 'HUEJOTITAN', 'IGNACIO ZARAGOZA',\n",
       "       'JANOS', 'JIMENEZ', 'JUAREZ', 'JULIMES', 'LOPEZ', 'MADERA',\n",
       "       'MAGUARICHI', 'MANUEL BENAVIDES', 'MATACHI', 'MATAMOROS', 'MEOQUI',\n",
       "       'MORELOS', 'MORIS', 'NAMIQUIPA', 'NONOAVA', 'NUEVO CASAS GRANDES',\n",
       "       'OCAMPO', 'OJINAGA', 'PRAXEDIS G. GUERRERO', 'RIVA PALACIO',\n",
       "       'ROSALES', 'ROSARIO', 'SAN FRANCISCO DE BORJA',\n",
       "       'SAN FRANCISCO DE CONCHOS', 'SAN FRANCISCO DEL ORO',\n",
       "       'SANTA BARBARA', 'SATEVO', 'SAUCILLO', 'TEMOSACHIC', 'EL TULE',\n",
       "       'URIQUE', 'URUACHI', 'VALLE DE ZARAGOZA'], dtype=object)"
      ]
     },
     "execution_count": 137,
     "metadata": {},
     "output_type": "execute_result"
    }
   ],
   "source": [
    "df_copy[\"MUNICIPIO\"][(df_copy.ENTIDAD == estado)].unique()"
   ]
  },
  {
   "cell_type": "code",
   "execution_count": 138,
   "metadata": {},
   "outputs": [
    {
     "data": {
      "text/plain": [
       "array(['AHUMADA', 'ALDAMA', 'ALLENDE', 'AQUILES SERDAN', 'ASCENSION',\n",
       "       'BACHINIVA', 'BALLEZA', 'BATOPILAS DE MANUEL GOMEZ MORIN',\n",
       "       'BOCOYNA', 'BUENAVENTURA', 'CAMARGO', 'CARICHI', 'CASAS GRANDES',\n",
       "       'CORONADO', 'COYAME DEL SOTOL', 'LA CRUZ', 'CUAUHTEMOC',\n",
       "       'CUSIHUIRIACHI', 'CHIHUAHUA', 'CHINIPAS', 'DELICIAS',\n",
       "       'DR. BELISARIO DOMINGUEZ', 'GALEANA', 'SANTA ISABEL',\n",
       "       'GOMEZ FARIAS', 'GRAN MORELOS', 'GUACHOCHI', 'GUADALUPE',\n",
       "       'GUADALUPE Y CALVO', 'GUAZAPARES', 'GUERRERO', 'HIDALGO DEL PARRAL',\n",
       "       'HUEJOTITAN', 'IGNACIO ZARAGOZA', 'JANOS', 'JIMENEZ', 'JUAREZ',\n",
       "       'JULIMES', 'LOPEZ', 'MADERA', 'MAGUARICHI', 'MANUEL BENAVIDES',\n",
       "       'MATACHI', 'MATAMOROS', 'MEOQUI', 'MORELOS', 'MORIS', 'NAMIQUIPA',\n",
       "       'NONOAVA', 'NUEVO CASAS GRANDES', 'OCAMPO', 'OJINAGA',\n",
       "       'PRAXEDIS G. GUERRERO', 'RIVA PALACIO', 'ROSALES', 'ROSARIO',\n",
       "       'SAN FRANCISCO DE BORJA', 'SAN FRANCISCO DE CONCHOS',\n",
       "       'SAN FRANCISCO DEL ORO', 'SANTA BARBARA', 'SATEVO', 'SAUCILLO',\n",
       "       'TEMOSACHIC', 'EL TULE', 'URIQUE', 'URUACHI', 'VALLE DE ZARAGOZA'], dtype=object)"
      ]
     },
     "execution_count": 138,
     "metadata": {},
     "output_type": "execute_result"
    }
   ],
   "source": [
    "df_CCEFML_copy[\"NOM_MUN\"][(df_CCEFML_copy[\"NOM_ENT\"] == estado)].unique()"
   ]
  },
  {
   "cell_type": "code",
   "execution_count": 139,
   "metadata": {},
   "outputs": [
    {
     "data": {
      "text/plain": [
       "{'AHUMADA': 1,\n",
       " 'ALDAMA': 2,\n",
       " 'ALLENDE': 3,\n",
       " 'AQUILES SERDAN': 4,\n",
       " 'ASCENSION': 5,\n",
       " 'BACHINIVA': 6,\n",
       " 'BALLEZA': 7,\n",
       " 'BATOPILAS DE MANUEL GOMEZ MORIN': 8,\n",
       " 'BOCOYNA': 9,\n",
       " 'BUENAVENTURA': 10,\n",
       " 'CAMARGO': 11,\n",
       " 'CARICHI': 12,\n",
       " 'CASAS GRANDES': 13,\n",
       " 'CHIHUAHUA': 19,\n",
       " 'CHINIPAS': 20,\n",
       " 'CORONADO': 14,\n",
       " 'COYAME DEL SOTOL': 15,\n",
       " 'CUAUHTEMOC': 17,\n",
       " 'CUSIHUIRIACHI': 18,\n",
       " 'DELICIAS': 21,\n",
       " 'DR. BELISARIO DOMINGUEZ': 22,\n",
       " 'EL TULE': 64,\n",
       " 'GALEANA': 23,\n",
       " 'GOMEZ FARIAS': 25,\n",
       " 'GRAN MORELOS': 26,\n",
       " 'GUACHOCHI': 27,\n",
       " 'GUADALUPE': 28,\n",
       " 'GUADALUPE Y CALVO': 29,\n",
       " 'GUAZAPARES': 30,\n",
       " 'GUERRERO': 31,\n",
       " 'HIDALGO DEL PARRAL': 32,\n",
       " 'HUEJOTITAN': 33,\n",
       " 'IGNACIO ZARAGOZA': 34,\n",
       " 'JANOS': 35,\n",
       " 'JIMENEZ': 36,\n",
       " 'JUAREZ': 37,\n",
       " 'JULIMES': 38,\n",
       " 'LA CRUZ': 16,\n",
       " 'LOPEZ': 39,\n",
       " 'MADERA': 40,\n",
       " 'MAGUARICHI': 41,\n",
       " 'MANUEL BENAVIDES': 42,\n",
       " 'MATACHI': 43,\n",
       " 'MATAMOROS': 44,\n",
       " 'MEOQUI': 45,\n",
       " 'MORELOS': 46,\n",
       " 'MORIS': 47,\n",
       " 'NAMIQUIPA': 48,\n",
       " 'NONOAVA': 49,\n",
       " 'NUEVO CASAS GRANDES': 50,\n",
       " 'OCAMPO': 51,\n",
       " 'OJINAGA': 52,\n",
       " 'PRAXEDIS G. GUERRERO': 53,\n",
       " 'RIVA PALACIO': 54,\n",
       " 'ROSALES': 55,\n",
       " 'ROSARIO': 56,\n",
       " 'SAN FRANCISCO DE BORJA': 57,\n",
       " 'SAN FRANCISCO DE CONCHOS': 58,\n",
       " 'SAN FRANCISCO DEL ORO': 59,\n",
       " 'SANTA BARBARA': 60,\n",
       " 'SANTA ISABEL': 24,\n",
       " 'SATEVO': 61,\n",
       " 'SAUCILLO': 62,\n",
       " 'TEMOSACHIC': 63,\n",
       " 'URIQUE': 65,\n",
       " 'URUACHI': 66,\n",
       " 'VALLE DE ZARAGOZA': 67}"
      ]
     },
     "execution_count": 139,
     "metadata": {},
     "output_type": "execute_result"
    }
   ],
   "source": [
    "dict_CCEFML_CHIHUAHUA"
   ]
  },
  {
   "cell_type": "code",
   "execution_count": 140,
   "metadata": {},
   "outputs": [
    {
     "data": {
      "text/plain": [
       "array(['AHUMADA', 'ALDAMA', 'ALLENDE', 'AQUILES SERDAN', 'ASCENSION',\n",
       "       'BACHINIVA', 'BALLEZA', 'BATOPILAS DE MANUEL GOMEZ MORIN',\n",
       "       'BOCOYNA', 'BUENAVENTURA', 'CAMARGO', 'CARICHI', 'CASAS GRANDES',\n",
       "       'CORONADO', 'COYAME DEL SOTOL', 'LA CRUZ', 'CUAUHTEMOC',\n",
       "       'CUSIHUIRIACHI', 'CHIHUAHUA', 'CHINIPAS', 'DELICIAS',\n",
       "       'DR. BELISARIO DOMINGUEZ', 'GALEANA', 'SANTA ISABEL',\n",
       "       'GOMEZ FARIAS', 'GRAN MORELOS', 'GUACHOCHI', 'GUADALUPE',\n",
       "       'GUADALUPE Y CALVO', 'GUAZAPARES', 'GUERRERO', 'HIDALGO DEL PARRAL',\n",
       "       'HUEJOTITAN', 'IGNACIO ZARAGOZA', 'JANOS', 'JIMENEZ', 'JUAREZ',\n",
       "       'JULIMES', 'LOPEZ', 'MADERA', 'MAGUARICHI', 'MANUEL BENAVIDES',\n",
       "       'MATACHI', 'MATAMOROS', 'MEOQUI', 'MORELOS', 'MORIS', 'NAMIQUIPA',\n",
       "       'NONOAVA', 'NUEVO CASAS GRANDES', 'OCAMPO', 'OJINAGA',\n",
       "       'PRAXEDIS G. GUERRERO', 'RIVA PALACIO', 'ROSALES', 'ROSARIO',\n",
       "       'SAN FRANCISCO DE BORJA', 'SAN FRANCISCO DE CONCHOS',\n",
       "       'SAN FRANCISCO DEL ORO', 'SANTA BARBARA', 'SATEVO', 'SAUCILLO',\n",
       "       'TEMOSACHIC', 'EL TULE', 'URIQUE', 'URUACHI', 'VALLE DE ZARAGOZA'], dtype=object)"
      ]
     },
     "execution_count": 140,
     "metadata": {},
     "output_type": "execute_result"
    }
   ],
   "source": [
    "df_copy['MUNICIPIO'][(df_copy['ENTIDAD'] == estado)] = df_copy['MUNICIPIO'][(df_copy['ENTIDAD'] == estado)].replace({'BATOPILAS':'BATOPILAS DE MANUEL GOMEZ MORIN'})\n",
    "df_copy['CVE_MUN'][(df_copy['ENTIDAD'] == estado)] = df_copy['CVE_MUN'][(df_copy['ENTIDAD'] == estado)].replace({'BATOPILAS':'BATOPILAS DE MANUEL GOMEZ MORIN'})\n",
    "\n",
    "df_copy['MUNICIPIO'][(df_copy['ENTIDAD'] == estado)].unique()"
   ]
  },
  {
   "cell_type": "code",
   "execution_count": 141,
   "metadata": {},
   "outputs": [
    {
     "data": {
      "text/plain": [
       "array([1.0, 2.0, 3.0, 4.0, 5.0, 6.0, 7.0, 8.0, 9.0, 10.0, 11.0, 12.0, 13.0,\n",
       "       14.0, 15.0, 16.0, 17.0, 18.0, 19.0, 20.0, 21.0, 22.0, 23.0, 24.0,\n",
       "       25.0, 26.0, 27.0, 28.0, 29.0, 30.0, 31.0, 32.0, 33.0, 34.0, 35.0,\n",
       "       36.0, 37.0, 38.0, 39.0, 40.0, 41.0, 42.0, 43.0, 44.0, 45.0, 46.0,\n",
       "       47.0, 48.0, 49.0, 50.0, 51.0, 52.0, 53.0, 54.0, 55.0, 56.0, 57.0,\n",
       "       58.0, 59.0, 60.0, 61.0, 62.0, 63.0, 64.0, 65.0, 66.0, 67.0], dtype=object)"
      ]
     },
     "execution_count": 141,
     "metadata": {},
     "output_type": "execute_result"
    }
   ],
   "source": [
    "df_copy['CVE_MUN'][(df_copy['ENTIDAD'] == estado)] = df_copy['CVE_MUN'][(df_copy['ENTIDAD'] == estado)].replace(dict_CCEFML_CHIHUAHUA)\n",
    "df_copy['CVE_MUN'][(df_copy['ENTIDAD'] == estado)] = df_copy['CVE_MUN'][(df_copy['ENTIDAD'] == estado)].astype('int64')\n",
    "df_copy['CVE_MUN'][(df_copy['ENTIDAD'] == estado)].unique()"
   ]
  },
  {
   "cell_type": "markdown",
   "metadata": {},
   "source": [
    "### CIUDAD DE MÉXICO"
   ]
  },
  {
   "cell_type": "code",
   "execution_count": 142,
   "metadata": {},
   "outputs": [],
   "source": [
    "estado = \"CIUDAD DE MEXICO\""
   ]
  },
  {
   "cell_type": "code",
   "execution_count": 143,
   "metadata": {},
   "outputs": [
    {
     "data": {
      "text/plain": [
       "array(['AZCAPOTZALCO', 'COYOACAN', 'CUAJIMALPA DE MORELOS',\n",
       "       'GUSTAVO A. MADERO', 'IZTACALCO', 'IZTAPALAPA',\n",
       "       'LA MAGDALENA CONTRERAS', 'MILPA ALTA', 'ALVARO OBREGON', 'TLAHUAC',\n",
       "       'TLALPAN', 'XOCHIMILCO', 'BENITO JUAREZ', 'CUAUHTEMOC',\n",
       "       'MIGUEL HIDALGO', 'VENUSTIANO CARRANZA'], dtype=object)"
      ]
     },
     "execution_count": 143,
     "metadata": {},
     "output_type": "execute_result"
    }
   ],
   "source": [
    "df_copy[\"MUNICIPIO\"][(df_copy.ENTIDAD == estado)].unique()"
   ]
  },
  {
   "cell_type": "code",
   "execution_count": 144,
   "metadata": {},
   "outputs": [
    {
     "data": {
      "text/plain": [
       "array(['AZCAPOTZALCO', 'COYOACAN', 'CUAJIMALPA DE MORELOS',\n",
       "       'GUSTAVO A. MADERO', 'IZTACALCO', 'IZTAPALAPA',\n",
       "       'LA MAGDALENA CONTRERAS', 'MILPA ALTA', 'ALVARO OBREGON', 'TLAHUAC',\n",
       "       'TLALPAN', 'XOCHIMILCO', 'BENITO JUAREZ', 'CUAUHTEMOC',\n",
       "       'MIGUEL HIDALGO', 'VENUSTIANO CARRANZA'], dtype=object)"
      ]
     },
     "execution_count": 144,
     "metadata": {},
     "output_type": "execute_result"
    }
   ],
   "source": [
    "df_CCEFML_copy[\"NOM_MUN\"][(df_CCEFML_copy[\"NOM_ENT\"] == estado)].unique()"
   ]
  },
  {
   "cell_type": "code",
   "execution_count": 145,
   "metadata": {},
   "outputs": [
    {
     "data": {
      "text/plain": [
       "{'ALVARO OBREGON': 10,\n",
       " 'AZCAPOTZALCO': 2,\n",
       " 'BENITO JUAREZ': 14,\n",
       " 'COYOACAN': 3,\n",
       " 'CUAJIMALPA DE MORELOS': 4,\n",
       " 'CUAUHTEMOC': 15,\n",
       " 'GUSTAVO A. MADERO': 5,\n",
       " 'IZTACALCO': 6,\n",
       " 'IZTAPALAPA': 7,\n",
       " 'LA MAGDALENA CONTRERAS': 8,\n",
       " 'MIGUEL HIDALGO': 16,\n",
       " 'MILPA ALTA': 9,\n",
       " 'TLAHUAC': 11,\n",
       " 'TLALPAN': 12,\n",
       " 'VENUSTIANO CARRANZA': 17,\n",
       " 'XOCHIMILCO': 13}"
      ]
     },
     "execution_count": 145,
     "metadata": {},
     "output_type": "execute_result"
    }
   ],
   "source": [
    "dict_CCEFML_CIUDAD_DE_MEXICO"
   ]
  },
  {
   "cell_type": "code",
   "execution_count": 146,
   "metadata": {},
   "outputs": [
    {
     "data": {
      "text/plain": [
       "array([2.0, 3.0, 4.0, 5.0, 6.0, 7.0, 8.0, 9.0, 10.0, 11.0, 12.0, 13.0,\n",
       "       14.0, 15.0, 16.0, 17.0], dtype=object)"
      ]
     },
     "execution_count": 146,
     "metadata": {},
     "output_type": "execute_result"
    }
   ],
   "source": [
    "df_copy['CVE_MUN'][(df_copy['ENTIDAD'] == estado)] = df_copy['CVE_MUN'][(df_copy['ENTIDAD'] == estado)].replace(dict_CCEFML_CIUDAD_DE_MEXICO)\n",
    "df_copy['CVE_MUN'][(df_copy['ENTIDAD'] == estado)] = df_copy['CVE_MUN'][(df_copy['ENTIDAD'] == estado)].astype('int64')\n",
    "df_copy['CVE_MUN'][(df_copy['ENTIDAD'] == estado)].unique()"
   ]
  },
  {
   "cell_type": "markdown",
   "metadata": {},
   "source": [
    "### COAHUILA"
   ]
  },
  {
   "cell_type": "code",
   "execution_count": 147,
   "metadata": {},
   "outputs": [],
   "source": [
    "estado = \"COAHUILA\""
   ]
  },
  {
   "cell_type": "code",
   "execution_count": 148,
   "metadata": {},
   "outputs": [
    {
     "data": {
      "text/plain": [
       "RAMOS ARIZPE           462\n",
       "FRANCISCO I. MADERO    462\n",
       "ALLENDE                462\n",
       "ARTEAGA                462\n",
       "ACUÑA                  462\n",
       "SAN JUAN DE SABINAS    462\n",
       "PARRAS                 462\n",
       "SAN BUENAVENTURA       462\n",
       "FRONTERA               462\n",
       "SAN PEDRO              462\n",
       "GENERAL CEPEDA         462\n",
       "MUZQUIZ                462\n",
       "MONCLOVA               462\n",
       "SALTILLO               462\n",
       "OCAMPO                 462\n",
       "TORREON                462\n",
       "SABINAS                462\n",
       "CASTAÑOS               462\n",
       "CUATRO CIENEGAS        462\n",
       "MATAMOROS              462\n",
       "PIEDRAS NEGRAS         462\n",
       "ZARAGOZA               462\n",
       "NADADORES              396\n",
       "JUAREZ                 396\n",
       "MORELOS                396\n",
       "GUERRERO               396\n",
       "JIMENEZ                396\n",
       "SACRAMENTO             396\n",
       "ESCOBEDO               396\n",
       "HIDALGO                396\n",
       "LAMADRID               396\n",
       "VILLA UNION            396\n",
       "SIERRA MOJADA          396\n",
       "NAVA                   396\n",
       "PROGRESO               396\n",
       "ABASOLO                396\n",
       "CANDELA                396\n",
       "VIESCA                 396\n",
       "Name: MUNICIPIO, dtype: int64"
      ]
     },
     "execution_count": 148,
     "metadata": {},
     "output_type": "execute_result"
    }
   ],
   "source": [
    "df_copy[\"MUNICIPIO\"][(df_copy.ENTIDAD == estado)].value_counts()"
   ]
  },
  {
   "cell_type": "code",
   "execution_count": 149,
   "metadata": {},
   "outputs": [
    {
     "data": {
      "text/plain": [
       "SALTILLO               720\n",
       "ARTEAGA                718\n",
       "MUZQUIZ                651\n",
       "SAN PEDRO              508\n",
       "ZARAGOZA               507\n",
       "RAMOS ARIZPE           476\n",
       "OCAMPO                 407\n",
       "MONCLOVA               392\n",
       "PARRAS                 387\n",
       "SABINAS                380\n",
       "ACUÑA                  326\n",
       "NAVA                   325\n",
       "MATAMOROS              289\n",
       "GENERAL CEPEDA         279\n",
       "CASTAÑOS               275\n",
       "SAN BUENAVENTURA       249\n",
       "CUATRO CIENEGAS        244\n",
       "VILLA UNION            236\n",
       "FRANCISCO I. MADERO    207\n",
       "GUERRERO               206\n",
       "FRONTERA               191\n",
       "JIMENEZ                174\n",
       "JUAREZ                 170\n",
       "MORELOS                162\n",
       "PROGRESO               158\n",
       "SAN JUAN DE SABINAS    157\n",
       "PIEDRAS NEGRAS         157\n",
       "ALLENDE                150\n",
       "SIERRA MOJADA          144\n",
       "VIESCA                 125\n",
       "CANDELA                123\n",
       "TORREON                112\n",
       "NADADORES              109\n",
       "HIDALGO                 93\n",
       "ESCOBEDO                65\n",
       "ABASOLO                 42\n",
       "LAMADRID                37\n",
       "SACRAMENTO              33\n",
       "Name: NOM_MUN, dtype: int64"
      ]
     },
     "execution_count": 149,
     "metadata": {},
     "output_type": "execute_result"
    }
   ],
   "source": [
    "df_CCEFML_copy[\"NOM_MUN\"][(df_CCEFML_copy[\"NOM_ENT\"] == estado)].value_counts()"
   ]
  },
  {
   "cell_type": "code",
   "execution_count": 150,
   "metadata": {},
   "outputs": [
    {
     "data": {
      "text/plain": [
       "{'ABASOLO': 1,\n",
       " 'ACUÑA': 2,\n",
       " 'ALLENDE': 3,\n",
       " 'ARTEAGA': 4,\n",
       " 'CANDELA': 5,\n",
       " 'CASTAÑOS': 6,\n",
       " 'CUATRO CIENEGAS': 7,\n",
       " 'ESCOBEDO': 8,\n",
       " 'FRANCISCO I. MADERO': 9,\n",
       " 'FRONTERA': 10,\n",
       " 'GENERAL CEPEDA': 11,\n",
       " 'GUERRERO': 12,\n",
       " 'HIDALGO': 13,\n",
       " 'JIMENEZ': 14,\n",
       " 'JUAREZ': 15,\n",
       " 'LAMADRID': 16,\n",
       " 'MATAMOROS': 17,\n",
       " 'MONCLOVA': 18,\n",
       " 'MORELOS': 19,\n",
       " 'MUZQUIZ': 20,\n",
       " 'NADADORES': 21,\n",
       " 'NAVA': 22,\n",
       " 'OCAMPO': 23,\n",
       " 'PARRAS': 24,\n",
       " 'PIEDRAS NEGRAS': 25,\n",
       " 'PROGRESO': 26,\n",
       " 'RAMOS ARIZPE': 27,\n",
       " 'SABINAS': 28,\n",
       " 'SACRAMENTO': 29,\n",
       " 'SALTILLO': 30,\n",
       " 'SAN BUENAVENTURA': 31,\n",
       " 'SAN JUAN DE SABINAS': 32,\n",
       " 'SAN PEDRO': 33,\n",
       " 'SIERRA MOJADA': 34,\n",
       " 'TORREON': 35,\n",
       " 'VIESCA': 36,\n",
       " 'VILLA UNION': 37,\n",
       " 'ZARAGOZA': 38}"
      ]
     },
     "execution_count": 150,
     "metadata": {},
     "output_type": "execute_result"
    }
   ],
   "source": [
    "dict_CCEFML_COAHUILA"
   ]
  },
  {
   "cell_type": "code",
   "execution_count": 151,
   "metadata": {},
   "outputs": [
    {
     "data": {
      "text/plain": [
       "array([2.0, 3.0, 4.0, 6.0, 7.0, 9.0, 10.0, 11.0, 17.0, 18.0, 20.0, 23.0,\n",
       "       24.0, 25.0, 27.0, 28.0, 30.0, 31.0, 32.0, 33.0, 35.0, 38.0, 1.0,\n",
       "       5.0, 8.0, 12.0, 13.0, 14.0, 15.0, 16.0, 19.0, 21.0, 22.0, 26.0,\n",
       "       29.0, 34.0, 36.0, 37.0], dtype=object)"
      ]
     },
     "execution_count": 151,
     "metadata": {},
     "output_type": "execute_result"
    }
   ],
   "source": [
    "df_copy['CVE_MUN'][(df_copy['ENTIDAD'] == estado)] = df_copy['CVE_MUN'][(df_copy['ENTIDAD'] == estado)].replace(dict_CCEFML_COAHUILA)\n",
    "df_copy['CVE_MUN'][(df_copy['ENTIDAD'] == estado)] = df_copy['CVE_MUN'][(df_copy['ENTIDAD'] == estado)].astype('int64')\n",
    "df_copy['CVE_MUN'][(df_copy['ENTIDAD'] == estado)].unique()"
   ]
  },
  {
   "cell_type": "markdown",
   "metadata": {},
   "source": [
    "### COLIMA"
   ]
  },
  {
   "cell_type": "code",
   "execution_count": 152,
   "metadata": {},
   "outputs": [],
   "source": [
    "estado = \"COLIMA\""
   ]
  },
  {
   "cell_type": "code",
   "execution_count": 153,
   "metadata": {},
   "outputs": [
    {
     "data": {
      "text/plain": [
       "array(['ARMERIA', 'COLIMA', 'COMALA', 'COQUIMATLAN', 'CUAUHTEMOC',\n",
       "       'IXTLAHUACAN', 'MANZANILLO', 'MINATITLAN', 'TECOMAN',\n",
       "       'VILLA DE ALVAREZ'], dtype=object)"
      ]
     },
     "execution_count": 153,
     "metadata": {},
     "output_type": "execute_result"
    }
   ],
   "source": [
    "df_copy[\"MUNICIPIO\"][(df_copy.ENTIDAD == estado)].unique()"
   ]
  },
  {
   "cell_type": "code",
   "execution_count": 154,
   "metadata": {},
   "outputs": [
    {
     "data": {
      "text/plain": [
       "array(['ARMERIA', 'COLIMA', 'COMALA', 'COQUIMATLAN', 'CUAUHTEMOC',\n",
       "       'IXTLAHUACAN', 'MANZANILLO', 'MINATITLAN', 'TECOMAN',\n",
       "       'VILLA DE ALVAREZ'], dtype=object)"
      ]
     },
     "execution_count": 154,
     "metadata": {},
     "output_type": "execute_result"
    }
   ],
   "source": [
    "df_CCEFML_copy[\"NOM_MUN\"][(df_CCEFML_copy[\"NOM_ENT\"] == estado)].unique()"
   ]
  },
  {
   "cell_type": "code",
   "execution_count": 155,
   "metadata": {},
   "outputs": [
    {
     "data": {
      "text/plain": [
       "{'ARMERIA': 1,\n",
       " 'COLIMA': 2,\n",
       " 'COMALA': 3,\n",
       " 'COQUIMATLAN': 4,\n",
       " 'CUAUHTEMOC': 5,\n",
       " 'IXTLAHUACAN': 6,\n",
       " 'MANZANILLO': 7,\n",
       " 'MINATITLAN': 8,\n",
       " 'TECOMAN': 9,\n",
       " 'VILLA DE ALVAREZ': 10}"
      ]
     },
     "execution_count": 155,
     "metadata": {},
     "output_type": "execute_result"
    }
   ],
   "source": [
    "dict_CCEFML_COLIMA"
   ]
  },
  {
   "cell_type": "code",
   "execution_count": 156,
   "metadata": {},
   "outputs": [
    {
     "data": {
      "text/plain": [
       "array([1.0, 2.0, 3.0, 4.0, 5.0, 6.0, 7.0, 8.0, 9.0, 10.0], dtype=object)"
      ]
     },
     "execution_count": 156,
     "metadata": {},
     "output_type": "execute_result"
    }
   ],
   "source": [
    "df_copy['CVE_MUN'][(df_copy['ENTIDAD'] == estado)] = df_copy['CVE_MUN'][(df_copy['ENTIDAD'] == estado)].replace(dict_CCEFML_COLIMA)\n",
    "df_copy['CVE_MUN'][(df_copy['ENTIDAD'] == estado)] = df_copy['CVE_MUN'][(df_copy['ENTIDAD'] == estado)].astype('int64')\n",
    "df_copy['CVE_MUN'][(df_copy['ENTIDAD'] == estado)].unique()"
   ]
  },
  {
   "cell_type": "markdown",
   "metadata": {},
   "source": [
    "### DURANGO"
   ]
  },
  {
   "cell_type": "code",
   "execution_count": 157,
   "metadata": {},
   "outputs": [],
   "source": [
    "estado = \"DURANGO\""
   ]
  },
  {
   "cell_type": "code",
   "execution_count": 158,
   "metadata": {},
   "outputs": [
    {
     "data": {
      "text/plain": [
       "array(['CANATLAN', 'CUENCAME', 'DURANGO', 'GUADALUPE VICTORIA',\n",
       "       'GUANACEVI', 'LERDO', 'MAPIMI', 'MEZQUITAL', 'NAZAS',\n",
       "       'NOMBRE DE DIOS', 'EL ORO', 'OTAEZ', 'PANUCO DE CORONADO',\n",
       "       'PEÑON BLANCO', 'POANAS', 'PUEBLO NUEVO', 'RODEO', 'SAN DIMAS',\n",
       "       'SAN JUAN DEL RIO', 'SANTIAGO PAPASQUIARO', 'SUCHIL', 'TAMAZULA',\n",
       "       'TEPEHUANES', 'TLAHUALILO', 'TOPIA', 'VICENTE GUERRERO',\n",
       "       'NUEVO IDEAL', 'CANELAS', 'CONETO DE COMONFORT',\n",
       "       'GENERAL SIMON BOLIVAR', 'GOMEZ PALACIO', 'HIDALGO', 'INDE',\n",
       "       'OCAMPO', 'SAN BERNARDO', 'SAN JUAN DE GUADALUPE',\n",
       "       'SAN LUIS DEL CORDERO', 'SAN PEDRO DEL GALLO', 'SANTA CLARA'], dtype=object)"
      ]
     },
     "execution_count": 158,
     "metadata": {},
     "output_type": "execute_result"
    }
   ],
   "source": [
    "df_copy[\"MUNICIPIO\"][(df_copy.ENTIDAD == estado)].unique()"
   ]
  },
  {
   "cell_type": "code",
   "execution_count": 159,
   "metadata": {},
   "outputs": [
    {
     "data": {
      "text/plain": [
       "array(['CANATLAN', 'CANELAS', 'CONETO DE COMONFORT', 'CUENCAME', 'DURANGO',\n",
       "       'GENERAL SIMON BOLIVAR', 'GOMEZ PALACIO', 'GUADALUPE VICTORIA',\n",
       "       'GUANACEVI', 'HIDALGO', 'INDE', 'LERDO', 'MAPIMI', 'MEZQUITAL',\n",
       "       'NAZAS', 'NOMBRE DE DIOS', 'OCAMPO', 'EL ORO', 'OTAEZ',\n",
       "       'PANUCO DE CORONADO', 'PEÑON BLANCO', 'POANAS', 'PUEBLO NUEVO',\n",
       "       'RODEO', 'SAN BERNARDO', 'SAN DIMAS', 'SAN JUAN DE GUADALUPE',\n",
       "       'SAN JUAN DEL RIO', 'SAN LUIS DEL CORDERO', 'SAN PEDRO DEL GALLO',\n",
       "       'SANTA CLARA', 'SANTIAGO PAPASQUIARO', 'SUCHIL', 'TAMAZULA',\n",
       "       'TEPEHUANES', 'TLAHUALILO', 'TOPIA', 'VICENTE GUERRERO',\n",
       "       'NUEVO IDEAL'], dtype=object)"
      ]
     },
     "execution_count": 159,
     "metadata": {},
     "output_type": "execute_result"
    }
   ],
   "source": [
    "df_CCEFML_copy[\"NOM_MUN\"][(df_CCEFML_copy[\"NOM_ENT\"] == estado)].unique()"
   ]
  },
  {
   "cell_type": "code",
   "execution_count": 160,
   "metadata": {},
   "outputs": [
    {
     "data": {
      "text/plain": [
       "{'CANATLAN': 1,\n",
       " 'CANELAS': 2,\n",
       " 'CONETO DE COMONFORT': 3,\n",
       " 'CUENCAME': 4,\n",
       " 'DURANGO': 5,\n",
       " 'EL ORO': 18,\n",
       " 'GENERAL SIMON BOLIVAR': 6,\n",
       " 'GOMEZ PALACIO': 7,\n",
       " 'GUADALUPE VICTORIA': 8,\n",
       " 'GUANACEVI': 9,\n",
       " 'HIDALGO': 10,\n",
       " 'INDE': 11,\n",
       " 'LERDO': 12,\n",
       " 'MAPIMI': 13,\n",
       " 'MEZQUITAL': 14,\n",
       " 'NAZAS': 15,\n",
       " 'NOMBRE DE DIOS': 16,\n",
       " 'NUEVO IDEAL': 39,\n",
       " 'OCAMPO': 17,\n",
       " 'OTAEZ': 19,\n",
       " 'PANUCO DE CORONADO': 20,\n",
       " 'PEÑON BLANCO': 21,\n",
       " 'POANAS': 22,\n",
       " 'PUEBLO NUEVO': 23,\n",
       " 'RODEO': 24,\n",
       " 'SAN BERNARDO': 25,\n",
       " 'SAN DIMAS': 26,\n",
       " 'SAN JUAN DE GUADALUPE': 27,\n",
       " 'SAN JUAN DEL RIO': 28,\n",
       " 'SAN LUIS DEL CORDERO': 29,\n",
       " 'SAN PEDRO DEL GALLO': 30,\n",
       " 'SANTA CLARA': 31,\n",
       " 'SANTIAGO PAPASQUIARO': 32,\n",
       " 'SUCHIL': 33,\n",
       " 'TAMAZULA': 34,\n",
       " 'TEPEHUANES': 35,\n",
       " 'TLAHUALILO': 36,\n",
       " 'TOPIA': 37,\n",
       " 'VICENTE GUERRERO': 38}"
      ]
     },
     "execution_count": 160,
     "metadata": {},
     "output_type": "execute_result"
    }
   ],
   "source": [
    "dict_CCEFML_DURANGO"
   ]
  },
  {
   "cell_type": "code",
   "execution_count": 161,
   "metadata": {},
   "outputs": [
    {
     "data": {
      "text/plain": [
       "array([1.0, 4.0, 5.0, 8.0, 9.0, 12.0, 13.0, 14.0, 15.0, 16.0, 18.0, 19.0,\n",
       "       20.0, 21.0, 22.0, 23.0, 24.0, 26.0, 28.0, 32.0, 33.0, 34.0, 35.0,\n",
       "       36.0, 37.0, 38.0, 39.0, 2.0, 3.0, 6.0, 7.0, 10.0, 11.0, 17.0, 25.0,\n",
       "       27.0, 29.0, 30.0, 31.0], dtype=object)"
      ]
     },
     "execution_count": 161,
     "metadata": {},
     "output_type": "execute_result"
    }
   ],
   "source": [
    "df_copy['CVE_MUN'][(df_copy['ENTIDAD'] == estado)] = df_copy['CVE_MUN'][(df_copy['ENTIDAD'] == estado)].replace(dict_CCEFML_DURANGO)\n",
    "df_copy['CVE_MUN'][(df_copy['ENTIDAD'] == estado)] = df_copy['CVE_MUN'][(df_copy['ENTIDAD'] == estado)].astype('int64')\n",
    "df_copy['CVE_MUN'][(df_copy['ENTIDAD'] == estado)].unique()"
   ]
  },
  {
   "cell_type": "markdown",
   "metadata": {},
   "source": [
    "### GUANAJUATO"
   ]
  },
  {
   "cell_type": "code",
   "execution_count": 162,
   "metadata": {},
   "outputs": [],
   "source": [
    "estado = \"GUANAJUATO\""
   ]
  },
  {
   "cell_type": "code",
   "execution_count": 163,
   "metadata": {},
   "outputs": [
    {
     "data": {
      "text/plain": [
       "array(['ABASOLO', 'ACAMBARO', 'SAN MIGUEL DE ALLENDE', 'APASEO EL ALTO',\n",
       "       'APASEO EL GRANDE', 'ATARJEA', 'CELAYA', 'MANUEL DOBLADO',\n",
       "       'COMONFORT', 'CORONEO', 'CORTAZAR', 'CUERAMARO', 'DOCTOR MORA',\n",
       "       'DOLORES HIDALGO CUNA DE LA INDEPENDENCIA NACIONAL', 'GUANAJUATO',\n",
       "       'HUANIMARO', 'IRAPUATO', 'JARAL DEL PROGRESO', 'JERECUARO', 'LEON',\n",
       "       'MOROLEON', 'OCAMPO', 'PENJAMO', 'PUEBLO NUEVO',\n",
       "       'PURISIMA DEL RINCON', 'ROMITA', 'SALAMANCA', 'SALVATIERRA',\n",
       "       'SAN DIEGO DE LA UNION', 'SAN FELIPE', 'SAN FRANCISCO DEL RINCON',\n",
       "       'SAN JOSE ITURBIDE', 'SAN LUIS DE LA PAZ', 'SANTA CATARINA',\n",
       "       'SANTA CRUZ DE JUVENTINO ROSAS', 'SANTIAGO MARAVATIO', 'SILAO',\n",
       "       'TARANDACUAO', 'TARIMORO', 'TIERRA BLANCA', 'URIANGATO',\n",
       "       'VALLE DE SANTIAGO', 'VICTORIA', 'VILLAGRAN', 'XICHU', 'YURIRIA'], dtype=object)"
      ]
     },
     "execution_count": 163,
     "metadata": {},
     "output_type": "execute_result"
    }
   ],
   "source": [
    "df_copy[\"MUNICIPIO\"][(df_copy.ENTIDAD == estado)].unique()"
   ]
  },
  {
   "cell_type": "code",
   "execution_count": 164,
   "metadata": {},
   "outputs": [
    {
     "data": {
      "text/plain": [
       "array(['ABASOLO', 'ACAMBARO', 'SAN MIGUEL DE ALLENDE', 'APASEO EL ALTO',\n",
       "       'APASEO EL GRANDE', 'ATARJEA', 'CELAYA', 'MANUEL DOBLADO',\n",
       "       'COMONFORT', 'CORONEO', 'CORTAZAR', 'CUERAMARO', 'DOCTOR MORA',\n",
       "       'DOLORES HIDALGO CUNA DE LA INDEPENDENCIA NACIONAL', 'GUANAJUATO',\n",
       "       'HUANIMARO', 'IRAPUATO', 'JARAL DEL PROGRESO', 'JERECUARO', 'LEON',\n",
       "       'MOROLEON', 'OCAMPO', 'PENJAMO', 'PUEBLO NUEVO',\n",
       "       'PURISIMA DEL RINCON', 'ROMITA', 'SALAMANCA', 'SALVATIERRA',\n",
       "       'SAN DIEGO DE LA UNION', 'SAN FELIPE', 'SAN FRANCISCO DEL RINCON',\n",
       "       'SAN JOSE ITURBIDE', 'SAN LUIS DE LA PAZ', 'SANTA CATARINA',\n",
       "       'SANTA CRUZ DE JUVENTINO ROSAS', 'SANTIAGO MARAVATIO',\n",
       "       'SILAO DE LA VICTORIA', 'TARANDACUAO', 'TARIMORO', 'TIERRA BLANCA',\n",
       "       'URIANGATO', 'VALLE DE SANTIAGO', 'VICTORIA', 'VILLAGRAN', 'XICHU',\n",
       "       'YURIRIA'], dtype=object)"
      ]
     },
     "execution_count": 164,
     "metadata": {},
     "output_type": "execute_result"
    }
   ],
   "source": [
    "df_CCEFML_copy[\"NOM_MUN\"][(df_CCEFML_copy[\"NOM_ENT\"] == estado)].unique()"
   ]
  },
  {
   "cell_type": "code",
   "execution_count": 165,
   "metadata": {},
   "outputs": [
    {
     "data": {
      "text/plain": [
       "{'ABASOLO': 1,\n",
       " 'ACAMBARO': 2,\n",
       " 'APASEO EL ALTO': 4,\n",
       " 'APASEO EL GRANDE': 5,\n",
       " 'ATARJEA': 6,\n",
       " 'CELAYA': 7,\n",
       " 'COMONFORT': 9,\n",
       " 'CORONEO': 10,\n",
       " 'CORTAZAR': 11,\n",
       " 'CUERAMARO': 12,\n",
       " 'DOCTOR MORA': 13,\n",
       " 'DOLORES HIDALGO CUNA DE LA INDEPENDENCIA NACIONAL': 14,\n",
       " 'GUANAJUATO': 15,\n",
       " 'HUANIMARO': 16,\n",
       " 'IRAPUATO': 17,\n",
       " 'JARAL DEL PROGRESO': 18,\n",
       " 'JERECUARO': 19,\n",
       " 'LEON': 20,\n",
       " 'MANUEL DOBLADO': 8,\n",
       " 'MOROLEON': 21,\n",
       " 'OCAMPO': 22,\n",
       " 'PENJAMO': 23,\n",
       " 'PUEBLO NUEVO': 24,\n",
       " 'PURISIMA DEL RINCON': 25,\n",
       " 'ROMITA': 26,\n",
       " 'SALAMANCA': 27,\n",
       " 'SALVATIERRA': 28,\n",
       " 'SAN DIEGO DE LA UNION': 29,\n",
       " 'SAN FELIPE': 30,\n",
       " 'SAN FRANCISCO DEL RINCON': 31,\n",
       " 'SAN JOSE ITURBIDE': 32,\n",
       " 'SAN LUIS DE LA PAZ': 33,\n",
       " 'SAN MIGUEL DE ALLENDE': 3,\n",
       " 'SANTA CATARINA': 34,\n",
       " 'SANTA CRUZ DE JUVENTINO ROSAS': 35,\n",
       " 'SANTIAGO MARAVATIO': 36,\n",
       " 'SILAO DE LA VICTORIA': 37,\n",
       " 'TARANDACUAO': 38,\n",
       " 'TARIMORO': 39,\n",
       " 'TIERRA BLANCA': 40,\n",
       " 'URIANGATO': 41,\n",
       " 'VALLE DE SANTIAGO': 42,\n",
       " 'VICTORIA': 43,\n",
       " 'VILLAGRAN': 44,\n",
       " 'XICHU': 45,\n",
       " 'YURIRIA': 46}"
      ]
     },
     "execution_count": 165,
     "metadata": {},
     "output_type": "execute_result"
    }
   ],
   "source": [
    "dict_CCEFML_GUANAJUATO"
   ]
  },
  {
   "cell_type": "code",
   "execution_count": 166,
   "metadata": {},
   "outputs": [
    {
     "data": {
      "text/plain": [
       "array(['ABASOLO', 'ACAMBARO', 'SAN MIGUEL DE ALLENDE', 'APASEO EL ALTO',\n",
       "       'APASEO EL GRANDE', 'ATARJEA', 'CELAYA', 'MANUEL DOBLADO',\n",
       "       'COMONFORT', 'CORONEO', 'CORTAZAR', 'CUERAMARO', 'DOCTOR MORA',\n",
       "       'DOLORES HIDALGO CUNA DE LA INDEPENDENCIA NACIONAL', 'GUANAJUATO',\n",
       "       'HUANIMARO', 'IRAPUATO', 'JARAL DEL PROGRESO', 'JERECUARO', 'LEON',\n",
       "       'MOROLEON', 'OCAMPO', 'PENJAMO', 'PUEBLO NUEVO',\n",
       "       'PURISIMA DEL RINCON', 'ROMITA', 'SALAMANCA', 'SALVATIERRA',\n",
       "       'SAN DIEGO DE LA UNION', 'SAN FELIPE', 'SAN FRANCISCO DEL RINCON',\n",
       "       'SAN JOSE ITURBIDE', 'SAN LUIS DE LA PAZ', 'SANTA CATARINA',\n",
       "       'SANTA CRUZ DE JUVENTINO ROSAS', 'SANTIAGO MARAVATIO',\n",
       "       'SILAO DE LA VICTORIA', 'TARANDACUAO', 'TARIMORO', 'TIERRA BLANCA',\n",
       "       'URIANGATO', 'VALLE DE SANTIAGO', 'VICTORIA', 'VILLAGRAN', 'XICHU',\n",
       "       'YURIRIA'], dtype=object)"
      ]
     },
     "execution_count": 166,
     "metadata": {},
     "output_type": "execute_result"
    }
   ],
   "source": [
    "df_copy['MUNICIPIO'][(df_copy['ENTIDAD'] == estado)] = df_copy['MUNICIPIO'][(df_copy['ENTIDAD'] == estado)].replace({'SILAO' : 'SILAO DE LA VICTORIA'})\n",
    "df_copy['CVE_MUN'][(df_copy['ENTIDAD'] == estado)] = df_copy['CVE_MUN'][(df_copy['ENTIDAD'] == estado)].replace({'SILAO' : 'SILAO DE LA VICTORIA'})\n",
    "\n",
    "df_copy['MUNICIPIO'][(df_copy['ENTIDAD'] == estado)].unique()"
   ]
  },
  {
   "cell_type": "code",
   "execution_count": 167,
   "metadata": {},
   "outputs": [
    {
     "data": {
      "text/plain": [
       "array([1.0, 2.0, 3.0, 4.0, 5.0, 6.0, 7.0, 8.0, 9.0, 10.0, 11.0, 12.0, 13.0,\n",
       "       14.0, 15.0, 16.0, 17.0, 18.0, 19.0, 20.0, 21.0, 22.0, 23.0, 24.0,\n",
       "       25.0, 26.0, 27.0, 28.0, 29.0, 30.0, 31.0, 32.0, 33.0, 34.0, 35.0,\n",
       "       36.0, 37.0, 38.0, 39.0, 40.0, 41.0, 42.0, 43.0, 44.0, 45.0, 46.0], dtype=object)"
      ]
     },
     "execution_count": 167,
     "metadata": {},
     "output_type": "execute_result"
    }
   ],
   "source": [
    "df_copy['CVE_MUN'][(df_copy['ENTIDAD'] == estado)] = df_copy['CVE_MUN'][(df_copy['ENTIDAD'] == estado)].replace(dict_CCEFML_GUANAJUATO)\n",
    "df_copy['CVE_MUN'][(df_copy['ENTIDAD'] == estado)] = df_copy['CVE_MUN'][(df_copy['ENTIDAD'] == estado)].astype('int64')\n",
    "df_copy['CVE_MUN'][(df_copy['ENTIDAD'] == estado)].unique()"
   ]
  },
  {
   "cell_type": "markdown",
   "metadata": {},
   "source": [
    "### GUERRERO"
   ]
  },
  {
   "cell_type": "code",
   "execution_count": 168,
   "metadata": {},
   "outputs": [],
   "source": [
    "estado = \"GUERRERO\""
   ]
  },
  {
   "cell_type": "code",
   "execution_count": 169,
   "metadata": {},
   "outputs": [
    {
     "data": {
      "text/plain": [
       "ILIATENCO                            462\n",
       "AJUCHITLAN DEL PROGRESO              462\n",
       "HUAMUXTITLAN                         462\n",
       "XALPATLAHUAC                         462\n",
       "MOCHITLAN                            462\n",
       "IXCATEOPAN DE CUAUHTEMOC             462\n",
       "CUETZALA DEL PROGRESO                462\n",
       "COPALA                               462\n",
       "TLACOACHISTLAHUACA                   462\n",
       "OLINALA                              462\n",
       "PUNGARABATO                          462\n",
       "JOSE JOAQUIN DE HERRERA              462\n",
       "MARQUELIA                            462\n",
       "XOCHIHUEHUETLAN                      462\n",
       "TLAPA DE COMONFORT                   462\n",
       "IGUALA DE LA INDEPENDENCIA           462\n",
       "CUTZAMALA DE PINZON                  462\n",
       "GENERAL HELIODORO CASTILLO           462\n",
       "BUENAVISTA DE CUELLAR                462\n",
       "TLAPEHUALA                           462\n",
       "CHILPANCINGO DE LOS BRAVO            462\n",
       "TLALCHAPA                            462\n",
       "ARCELIA                              462\n",
       "CHILAPA DE ALVAREZ                   462\n",
       "MARTIR DE CUILAPAN                   462\n",
       "ATENANGO DEL RIO                     462\n",
       "TLACOAPA                             462\n",
       "CUAUTEPEC                            462\n",
       "TLALIXTAQUILLA DE MALDONADO          462\n",
       "TAXCO DE ALARCON                     462\n",
       "                                    ... \n",
       "COAHUAYUTLA DE JOSE MARIA IZAZAGA    462\n",
       "ZAPOTITLAN TABLAS                    462\n",
       "TIXTLA DE GUERRERO                   462\n",
       "ACATEPEC                             462\n",
       "METLATONOC                           462\n",
       "BENITO JUAREZ                        462\n",
       "MALINALTEPEC                         462\n",
       "OMETEPEC                             462\n",
       "COCHOAPA EL GRANDE                   462\n",
       "ATOYAC DE ALVAREZ                    462\n",
       "ZIHUATANEJO DE AZUETA                462\n",
       "PETATLAN                             462\n",
       "TEPECOACUILCO DE TRUJANO             462\n",
       "JUAN R. ESCUDERO                     462\n",
       "HUITZUCO DE LOS FIGUEROA             462\n",
       "CUAJINICUILAPA                       462\n",
       "LA UNION DE ISIDORO MONTES DE OCA    462\n",
       "COCULA                               462\n",
       "AHUACUOTZINGO                        462\n",
       "QUECHULTENANGO                       462\n",
       "XOCHISTLAHUACA                       462\n",
       "COPALILLO                            462\n",
       "FLORENCIO VILLARREAL                 462\n",
       "COPANATOYAC                          462\n",
       "GENERAL CANUTO A. NERI               462\n",
       "SAN LUIS ACATLAN                     462\n",
       "ALCOZAUCA DE GUERRERO                462\n",
       "ZITLALA                              462\n",
       "ACAPULCO DE JUAREZ                   462\n",
       "PEDRO ASCENCIO ALQUISIRAS            462\n",
       "Name: MUNICIPIO, Length: 81, dtype: int64"
      ]
     },
     "execution_count": 169,
     "metadata": {},
     "output_type": "execute_result"
    }
   ],
   "source": [
    "df_copy[\"MUNICIPIO\"][(df_copy.ENTIDAD == estado)].value_counts()"
   ]
  },
  {
   "cell_type": "code",
   "execution_count": 170,
   "metadata": {},
   "outputs": [
    {
     "data": {
      "text/plain": [
       "TECPAN DE GALEANA                    537\n",
       "COYUCA DE CATALAN                    509\n",
       "ZIRANDARO                            439\n",
       "PETATLAN                             399\n",
       "GENERAL HELIODORO CASTILLO           311\n",
       "ACAPULCO DE JUAREZ                   289\n",
       "ZIHUATANEJO DE AZUETA                281\n",
       "COAHUAYUTLA DE JOSE MARIA IZAZAGA    279\n",
       "TELOLOAPAN                           242\n",
       "OLINALA                              240\n",
       "ATOYAC DE ALVAREZ                    239\n",
       "SAN MIGUEL TOTOLAPAN                 238\n",
       "LA UNION DE ISIDORO MONTES DE OCA    220\n",
       "CHILAPA DE ALVAREZ                   214\n",
       "CUTZAMALA DE PINZON                  203\n",
       "AJUCHITLAN DEL PROGRESO              201\n",
       "CUAJINICUILAPA                       199\n",
       "COYUCA DE BENITEZ                    188\n",
       "CHILPANCINGO DE LOS BRAVO            181\n",
       "OMETEPEC                             168\n",
       "SAN MARCOS                           165\n",
       "COCHOAPA EL GRANDE                   161\n",
       "ARCELIA                              160\n",
       "AHUACUOTZINGO                        157\n",
       "AYUTLA DE LOS LIBRES                 157\n",
       "TLAPA DE COMONFORT                   148\n",
       "TAXCO DE ALARCON                     139\n",
       "MALINALTEPEC                         133\n",
       "ACATEPEC                             133\n",
       "XOCHISTLAHUACA                       125\n",
       "                                    ... \n",
       "APAXTLA                               59\n",
       "COPANATOYAC                           56\n",
       "FLORENCIO VILLARREAL                  55\n",
       "TETIPAC                               54\n",
       "COPALA                                52\n",
       "ZAPOTITLAN TABLAS                     47\n",
       "ILIATENCO                             46\n",
       "JUAN R. ESCUDERO                      45\n",
       "MOCHITLAN                             45\n",
       "PILCAYA                               44\n",
       "TLAPEHUALA                            42\n",
       "COCULA                                42\n",
       "TLALCHAPA                             41\n",
       "JUCHITAN                              41\n",
       "MARQUELIA                             41\n",
       "ALCOZAUCA DE GUERRERO                 38\n",
       "CUAUTEPEC                             37\n",
       "ZITLALA                               36\n",
       "ATENANGO DEL RIO                      35\n",
       "IXCATEOPAN DE CUAUHTEMOC              35\n",
       "XALPATLAHUAC                          29\n",
       "PUNGARABATO                           28\n",
       "CUETZALA DEL PROGRESO                 26\n",
       "HUAMUXTITLAN                          26\n",
       "XOCHIHUEHUETLAN                       24\n",
       "MARTIR DE CUILAPAN                    23\n",
       "ATLAMAJALCINGO DEL MONTE              21\n",
       "TLALIXTAQUILLA DE MALDONADO           19\n",
       "IGUALAPA                              18\n",
       "ALPOYECA                              12\n",
       "Name: NOM_MUN, Length: 81, dtype: int64"
      ]
     },
     "execution_count": 170,
     "metadata": {},
     "output_type": "execute_result"
    }
   ],
   "source": [
    "df_CCEFML_copy[\"NOM_MUN\"][(df_CCEFML_copy[\"NOM_ENT\"] == estado)].value_counts()"
   ]
  },
  {
   "cell_type": "code",
   "execution_count": 171,
   "metadata": {},
   "outputs": [
    {
     "data": {
      "text/plain": [
       "{'ACAPULCO DE JUAREZ': 1,\n",
       " 'ACATEPEC': 76,\n",
       " 'AHUACUOTZINGO': 2,\n",
       " 'AJUCHITLAN DEL PROGRESO': 3,\n",
       " 'ALCOZAUCA DE GUERRERO': 4,\n",
       " 'ALPOYECA': 5,\n",
       " 'APAXTLA': 6,\n",
       " 'ARCELIA': 7,\n",
       " 'ATENANGO DEL RIO': 8,\n",
       " 'ATLAMAJALCINGO DEL MONTE': 9,\n",
       " 'ATLIXTAC': 10,\n",
       " 'ATOYAC DE ALVAREZ': 11,\n",
       " 'AYUTLA DE LOS LIBRES': 12,\n",
       " 'AZOYU': 13,\n",
       " 'BENITO JUAREZ': 14,\n",
       " 'BUENAVISTA DE CUELLAR': 15,\n",
       " 'CHILAPA DE ALVAREZ': 28,\n",
       " 'CHILPANCINGO DE LOS BRAVO': 29,\n",
       " 'COAHUAYUTLA DE JOSE MARIA IZAZAGA': 16,\n",
       " 'COCHOAPA EL GRANDE': 78,\n",
       " 'COCULA': 17,\n",
       " 'COPALA': 18,\n",
       " 'COPALILLO': 19,\n",
       " 'COPANATOYAC': 20,\n",
       " 'COYUCA DE BENITEZ': 21,\n",
       " 'COYUCA DE CATALAN': 22,\n",
       " 'CUAJINICUILAPA': 23,\n",
       " 'CUALAC': 24,\n",
       " 'CUAUTEPEC': 25,\n",
       " 'CUETZALA DEL PROGRESO': 26,\n",
       " 'CUTZAMALA DE PINZON': 27,\n",
       " 'EDUARDO NERI': 75,\n",
       " 'FLORENCIO VILLARREAL': 30,\n",
       " 'GENERAL CANUTO A. NERI': 31,\n",
       " 'GENERAL HELIODORO CASTILLO': 32,\n",
       " 'HUAMUXTITLAN': 33,\n",
       " 'HUITZUCO DE LOS FIGUEROA': 34,\n",
       " 'IGUALA DE LA INDEPENDENCIA': 35,\n",
       " 'IGUALAPA': 36,\n",
       " 'ILIATENCO': 81,\n",
       " 'IXCATEOPAN DE CUAUHTEMOC': 37,\n",
       " 'JOSE JOAQUIN DE HERRERA': 79,\n",
       " 'JUAN R. ESCUDERO': 39,\n",
       " 'JUCHITAN': 80,\n",
       " 'LA UNION DE ISIDORO MONTES DE OCA': 68,\n",
       " 'LEONARDO BRAVO': 40,\n",
       " 'MALINALTEPEC': 41,\n",
       " 'MARQUELIA': 77,\n",
       " 'MARTIR DE CUILAPAN': 42,\n",
       " 'METLATONOC': 43,\n",
       " 'MOCHITLAN': 44,\n",
       " 'OLINALA': 45,\n",
       " 'OMETEPEC': 46,\n",
       " 'PEDRO ASCENCIO ALQUISIRAS': 47,\n",
       " 'PETATLAN': 48,\n",
       " 'PILCAYA': 49,\n",
       " 'PUNGARABATO': 50,\n",
       " 'QUECHULTENANGO': 51,\n",
       " 'SAN LUIS ACATLAN': 52,\n",
       " 'SAN MARCOS': 53,\n",
       " 'SAN MIGUEL TOTOLAPAN': 54,\n",
       " 'TAXCO DE ALARCON': 55,\n",
       " 'TECOANAPA': 56,\n",
       " 'TECPAN DE GALEANA': 57,\n",
       " 'TELOLOAPAN': 58,\n",
       " 'TEPECOACUILCO DE TRUJANO': 59,\n",
       " 'TETIPAC': 60,\n",
       " 'TIXTLA DE GUERRERO': 61,\n",
       " 'TLACOACHISTLAHUACA': 62,\n",
       " 'TLACOAPA': 63,\n",
       " 'TLALCHAPA': 64,\n",
       " 'TLALIXTAQUILLA DE MALDONADO': 65,\n",
       " 'TLAPA DE COMONFORT': 66,\n",
       " 'TLAPEHUALA': 67,\n",
       " 'XALPATLAHUAC': 69,\n",
       " 'XOCHIHUEHUETLAN': 70,\n",
       " 'XOCHISTLAHUACA': 71,\n",
       " 'ZAPOTITLAN TABLAS': 72,\n",
       " 'ZIHUATANEJO DE AZUETA': 38,\n",
       " 'ZIRANDARO': 73,\n",
       " 'ZITLALA': 74}"
      ]
     },
     "execution_count": 171,
     "metadata": {},
     "output_type": "execute_result"
    }
   ],
   "source": [
    "dict_CCEFML_GUERRERO"
   ]
  },
  {
   "cell_type": "code",
   "execution_count": 172,
   "metadata": {},
   "outputs": [
    {
     "data": {
      "text/plain": [
       "array([1.0, 2.0, 3.0, 4.0, 5.0, 6.0, 7.0, 8.0, 9.0, 10.0, 11.0, 12.0, 13.0,\n",
       "       14.0, 15.0, 16.0, 17.0, 18.0, 19.0, 20.0, 21.0, 22.0, 23.0, 24.0,\n",
       "       25.0, 26.0, 27.0, 28.0, 29.0, 30.0, 31.0, 32.0, 33.0, 34.0, 35.0,\n",
       "       36.0, 37.0, 38.0, 39.0, 40.0, 41.0, 42.0, 43.0, 44.0, 45.0, 46.0,\n",
       "       47.0, 48.0, 49.0, 50.0, 51.0, 52.0, 53.0, 54.0, 55.0, 56.0, 57.0,\n",
       "       58.0, 59.0, 60.0, 61.0, 62.0, 63.0, 64.0, 65.0, 66.0, 67.0, 68.0,\n",
       "       69.0, 70.0, 71.0, 72.0, 73.0, 74.0, 75.0, 76.0, 77.0, 78.0, 79.0,\n",
       "       80.0, 81.0], dtype=object)"
      ]
     },
     "execution_count": 172,
     "metadata": {},
     "output_type": "execute_result"
    }
   ],
   "source": [
    "df_copy['CVE_MUN'][(df_copy['ENTIDAD'] == estado)] = df_copy['CVE_MUN'][(df_copy['ENTIDAD'] == estado)].replace(dict_CCEFML_GUERRERO)\n",
    "df_copy['CVE_MUN'][(df_copy['ENTIDAD'] == estado)] = df_copy['CVE_MUN'][(df_copy['ENTIDAD'] == estado)].astype('int64')\n",
    "df_copy['CVE_MUN'][(df_copy['ENTIDAD'] == estado)].unique()"
   ]
  },
  {
   "cell_type": "markdown",
   "metadata": {},
   "source": [
    "### HIDALGO"
   ]
  },
  {
   "cell_type": "code",
   "execution_count": 173,
   "metadata": {},
   "outputs": [],
   "source": [
    "estado = \"HIDALGO\""
   ]
  },
  {
   "cell_type": "code",
   "execution_count": 174,
   "metadata": {},
   "outputs": [
    {
     "data": {
      "text/plain": [
       "SAN SALVADOR                 462\n",
       "XOCHIATIPAN                  462\n",
       "TEPEHUACAN DE GUERRERO       462\n",
       "CARDONAL                     462\n",
       "ZIMAPAN                      462\n",
       "FRANCISCO I. MADERO          462\n",
       "PACULA                       462\n",
       "METZTITLAN                   462\n",
       "TECOZAUTLA                   462\n",
       "ATLAPEXCO                    462\n",
       "HUAUTLA                      462\n",
       "IXMIQUILPAN                  462\n",
       "ZACUALTIPAN DE ANGELES       462\n",
       "TIZAYUCA                     462\n",
       "TOLCAYUCA                    462\n",
       "JALTOCAN                     462\n",
       "TLANALAPA                    462\n",
       "TULANCINGO DE BRAVO          462\n",
       "JUAREZ HIDALGO               462\n",
       "ACTOPAN                      462\n",
       "MINERAL DE LA REFORMA        462\n",
       "SINGUILUCAN                  462\n",
       "PISAFLORES                   462\n",
       "SAN AGUSTIN METZQUITITLAN    462\n",
       "SAN AGUSTIN TLAXIACA         462\n",
       "MINERAL DEL CHICO            462\n",
       "EL ARENAL                    462\n",
       "APAN                         462\n",
       "TULA DE ALLENDE              462\n",
       "NICOLAS FLORES               462\n",
       "                            ... \n",
       "AJACUBA                      462\n",
       "MOLANGO DE ESCAMILLA         462\n",
       "OMITLAN DE JUAREZ            462\n",
       "MIXQUIAHUALA DE JUAREZ       462\n",
       "TEZONTEPEC DE ALDAMA         462\n",
       "TLANCHINOL                   462\n",
       "YAHUALICA                    462\n",
       "HUEJUTLA DE REYES            462\n",
       "TEPEJI DEL RIO DE OCAMPO     462\n",
       "HUAZALINGO                   462\n",
       "PACHUCA DE SOTO              462\n",
       "TLAHUELILPAN                 462\n",
       "TETEPANGO                    462\n",
       "TLAHUILTEPA                  462\n",
       "ACAXOCHITLAN                 462\n",
       "METEPEC                      462\n",
       "TLAXCOAPAN                   462\n",
       "CHILCUAUTLA                  462\n",
       "EMILIANO ZAPATA              462\n",
       "TEPETITLAN                   462\n",
       "ELOXOCHITLAN                 462\n",
       "HUASCA DE OCAMPO             462\n",
       "SANTIAGO DE ANAYA            462\n",
       "TENANGO DE DORIA             462\n",
       "TEPEAPULCO                   462\n",
       "ACATLAN                      462\n",
       "MINERAL DEL MONTE            462\n",
       "CHAPULHUACAN                 462\n",
       "CHAPANTONGO                  462\n",
       "HUEHUETLA                    462\n",
       "Name: MUNICIPIO, Length: 84, dtype: int64"
      ]
     },
     "execution_count": 174,
     "metadata": {},
     "output_type": "execute_result"
    }
   ],
   "source": [
    "df_copy[\"MUNICIPIO\"][(df_copy.ENTIDAD == estado)].value_counts()"
   ]
  },
  {
   "cell_type": "code",
   "execution_count": 175,
   "metadata": {},
   "outputs": [
    {
     "data": {
      "text/plain": [
       "HUEJUTLA DE REYES                       216\n",
       "ZIMAPAN                                 172\n",
       "SAN FELIPE ORIZATLAN                    144\n",
       "TLAHUILTEPA                             135\n",
       "SAN BARTOLO TUTOTEPEC                   134\n",
       "SINGUILUCAN                             132\n",
       "METZTITLAN                              128\n",
       "MINERAL DE LA REFORMA                   121\n",
       "IXMIQUILPAN                             118\n",
       "CHAPULHUACAN                            116\n",
       "NOPALA DE VILLAGRAN                     111\n",
       "ALMOLOYA                                111\n",
       "HUICHAPAN                               109\n",
       "ZEMPOALA                                108\n",
       "APAN                                    105\n",
       "CUAUTEPEC DE HINOJOSA                   103\n",
       "TEPEHUACAN DE GUERRERO                  102\n",
       "HUEHUETLA                                97\n",
       "TLANCHINOL                               94\n",
       "CALNALI                                  93\n",
       "LA MISION                                92\n",
       "CARDONAL                                 87\n",
       "TULANCINGO DE BRAVO                      82\n",
       "PISAFLORES                               82\n",
       "TECOZAUTLA                               80\n",
       "TULA DE ALLENDE                          78\n",
       "EPAZOYUCAN                               77\n",
       "TEPEJI DEL RIO DE OCAMPO                 76\n",
       "HUAUTLA                                  76\n",
       "TEPEAPULCO                               75\n",
       "                                       ... \n",
       "PACULA                                   39\n",
       "MIXQUIAHUALA DE JUAREZ                   38\n",
       "FRANCISCO I. MADERO                      38\n",
       "YAHUALICA                                37\n",
       "XOCHICOATLAN                             35\n",
       "CHILCUAUTLA                              34\n",
       "MINERAL DEL CHICO                        34\n",
       "OMITLAN DE JUAREZ                        33\n",
       "TASQUILLO                                33\n",
       "TLANALAPA                                31\n",
       "SANTIAGO DE ANAYA                        31\n",
       "PACHUCA DE SOTO                          31\n",
       "JALTOCAN                                 30\n",
       "ATOTONILCO DE TULA                       28\n",
       "ZAPOTLAN DE JUAREZ                       28\n",
       "AGUA BLANCA DE ITURBIDE                  28\n",
       "SANTIAGO TULANTEPEC DE LUGO GUERRERO     28\n",
       "EL ARENAL                                26\n",
       "ELOXOCHITLAN                             26\n",
       "MINERAL DEL MONTE                        25\n",
       "VILLA DE TEZONTEPEC                      25\n",
       "PROGRESO DE OBREGON                      23\n",
       "TEPETITLAN                               22\n",
       "EMILIANO ZAPATA                          21\n",
       "ATITALAQUIA                              20\n",
       "AJACUBA                                  19\n",
       "TLAHUELILPAN                             18\n",
       "JUAREZ HIDALGO                           16\n",
       "TLAXCOAPAN                               11\n",
       "TETEPANGO                                 9\n",
       "Name: NOM_MUN, Length: 84, dtype: int64"
      ]
     },
     "execution_count": 175,
     "metadata": {},
     "output_type": "execute_result"
    }
   ],
   "source": [
    "df_CCEFML_copy[\"NOM_MUN\"][(df_CCEFML_copy[\"NOM_ENT\"] == estado)].value_counts()"
   ]
  },
  {
   "cell_type": "code",
   "execution_count": 176,
   "metadata": {},
   "outputs": [
    {
     "data": {
      "text/plain": [
       "{'ACATLAN': 1,\n",
       " 'ACAXOCHITLAN': 2,\n",
       " 'ACTOPAN': 3,\n",
       " 'AGUA BLANCA DE ITURBIDE': 4,\n",
       " 'AJACUBA': 5,\n",
       " 'ALFAJAYUCAN': 6,\n",
       " 'ALMOLOYA': 7,\n",
       " 'APAN': 8,\n",
       " 'ATITALAQUIA': 10,\n",
       " 'ATLAPEXCO': 11,\n",
       " 'ATOTONILCO DE TULA': 13,\n",
       " 'ATOTONILCO EL GRANDE': 12,\n",
       " 'CALNALI': 14,\n",
       " 'CARDONAL': 15,\n",
       " 'CHAPANTONGO': 17,\n",
       " 'CHAPULHUACAN': 18,\n",
       " 'CHILCUAUTLA': 19,\n",
       " 'CUAUTEPEC DE HINOJOSA': 16,\n",
       " 'EL ARENAL': 9,\n",
       " 'ELOXOCHITLAN': 20,\n",
       " 'EMILIANO ZAPATA': 21,\n",
       " 'EPAZOYUCAN': 22,\n",
       " 'FRANCISCO I. MADERO': 23,\n",
       " 'HUASCA DE OCAMPO': 24,\n",
       " 'HUAUTLA': 25,\n",
       " 'HUAZALINGO': 26,\n",
       " 'HUEHUETLA': 27,\n",
       " 'HUEJUTLA DE REYES': 28,\n",
       " 'HUICHAPAN': 29,\n",
       " 'IXMIQUILPAN': 30,\n",
       " 'JACALA DE LEDEZMA': 31,\n",
       " 'JALTOCAN': 32,\n",
       " 'JUAREZ HIDALGO': 33,\n",
       " 'LA MISION': 40,\n",
       " 'LOLOTLA': 34,\n",
       " 'METEPEC': 35,\n",
       " 'METZTITLAN': 37,\n",
       " 'MINERAL DE LA REFORMA': 51,\n",
       " 'MINERAL DEL CHICO': 38,\n",
       " 'MINERAL DEL MONTE': 39,\n",
       " 'MIXQUIAHUALA DE JUAREZ': 41,\n",
       " 'MOLANGO DE ESCAMILLA': 42,\n",
       " 'NICOLAS FLORES': 43,\n",
       " 'NOPALA DE VILLAGRAN': 44,\n",
       " 'OMITLAN DE JUAREZ': 45,\n",
       " 'PACHUCA DE SOTO': 48,\n",
       " 'PACULA': 47,\n",
       " 'PISAFLORES': 49,\n",
       " 'PROGRESO DE OBREGON': 50,\n",
       " 'SAN AGUSTIN METZQUITITLAN': 36,\n",
       " 'SAN AGUSTIN TLAXIACA': 52,\n",
       " 'SAN BARTOLO TUTOTEPEC': 53,\n",
       " 'SAN FELIPE ORIZATLAN': 46,\n",
       " 'SAN SALVADOR': 54,\n",
       " 'SANTIAGO DE ANAYA': 55,\n",
       " 'SANTIAGO TULANTEPEC DE LUGO GUERRERO': 56,\n",
       " 'SINGUILUCAN': 57,\n",
       " 'TASQUILLO': 58,\n",
       " 'TECOZAUTLA': 59,\n",
       " 'TENANGO DE DORIA': 60,\n",
       " 'TEPEAPULCO': 61,\n",
       " 'TEPEHUACAN DE GUERRERO': 62,\n",
       " 'TEPEJI DEL RIO DE OCAMPO': 63,\n",
       " 'TEPETITLAN': 64,\n",
       " 'TETEPANGO': 65,\n",
       " 'TEZONTEPEC DE ALDAMA': 67,\n",
       " 'TIANGUISTENGO': 68,\n",
       " 'TIZAYUCA': 69,\n",
       " 'TLAHUELILPAN': 70,\n",
       " 'TLAHUILTEPA': 71,\n",
       " 'TLANALAPA': 72,\n",
       " 'TLANCHINOL': 73,\n",
       " 'TLAXCOAPAN': 74,\n",
       " 'TOLCAYUCA': 75,\n",
       " 'TULA DE ALLENDE': 76,\n",
       " 'TULANCINGO DE BRAVO': 77,\n",
       " 'VILLA DE TEZONTEPEC': 66,\n",
       " 'XOCHIATIPAN': 78,\n",
       " 'XOCHICOATLAN': 79,\n",
       " 'YAHUALICA': 80,\n",
       " 'ZACUALTIPAN DE ANGELES': 81,\n",
       " 'ZAPOTLAN DE JUAREZ': 82,\n",
       " 'ZEMPOALA': 83,\n",
       " 'ZIMAPAN': 84}"
      ]
     },
     "execution_count": 176,
     "metadata": {},
     "output_type": "execute_result"
    }
   ],
   "source": [
    "dict_CCEFML_HIDALGO"
   ]
  },
  {
   "cell_type": "code",
   "execution_count": 177,
   "metadata": {},
   "outputs": [
    {
     "data": {
      "text/plain": [
       "array([1.0, 2.0, 3.0, 4.0, 5.0, 6.0, 7.0, 8.0, 9.0, 10.0, 11.0, 12.0, 13.0,\n",
       "       14.0, 15.0, 16.0, 17.0, 18.0, 19.0, 20.0, 21.0, 22.0, 23.0, 24.0,\n",
       "       25.0, 26.0, 27.0, 28.0, 29.0, 30.0, 31.0, 32.0, 33.0, 34.0, 35.0,\n",
       "       36.0, 37.0, 38.0, 39.0, 40.0, 41.0, 42.0, 43.0, 44.0, 45.0, 46.0,\n",
       "       47.0, 48.0, 49.0, 50.0, 51.0, 52.0, 53.0, 54.0, 55.0, 56.0, 57.0,\n",
       "       58.0, 59.0, 60.0, 61.0, 62.0, 63.0, 64.0, 65.0, 66.0, 67.0, 68.0,\n",
       "       69.0, 70.0, 71.0, 72.0, 73.0, 74.0, 75.0, 76.0, 77.0, 78.0, 79.0,\n",
       "       80.0, 81.0, 82.0, 83.0, 84.0], dtype=object)"
      ]
     },
     "execution_count": 177,
     "metadata": {},
     "output_type": "execute_result"
    }
   ],
   "source": [
    "df_copy['CVE_MUN'][(df_copy['ENTIDAD'] == estado)] = df_copy['CVE_MUN'][(df_copy['ENTIDAD'] == estado)].replace(dict_CCEFML_HIDALGO)\n",
    "df_copy['CVE_MUN'][(df_copy['ENTIDAD'] == estado)] = df_copy['CVE_MUN'][(df_copy['ENTIDAD'] == estado)].astype('int64')\n",
    "df_copy['CVE_MUN'][(df_copy['ENTIDAD'] == estado)].unique()"
   ]
  },
  {
   "cell_type": "markdown",
   "metadata": {},
   "source": [
    "### JALISCO"
   ]
  },
  {
   "cell_type": "code",
   "execution_count": 178,
   "metadata": {},
   "outputs": [],
   "source": [
    "estado = \"JALISCO\""
   ]
  },
  {
   "cell_type": "code",
   "execution_count": 179,
   "metadata": {},
   "outputs": [
    {
     "data": {
      "text/plain": [
       "array(['ZAPOTLAN EL GRANDE', 'GUADALAJARA', 'LAGOS DE MORENO', 'OCOTLAN',\n",
       "       'PUERTO VALLARTA', 'EL SALTO', 'TEPATITLAN DE MORELOS',\n",
       "       'TLAJOMULCO DE ZUÑIGA', 'TLAQUEPAQUE', 'TONALA', 'ZAPOPAN',\n",
       "       'ACATIC', 'ACATLAN DE JUAREZ', 'AHUALULCO DE MERCADO', 'AMACUECA',\n",
       "       'AMATITAN', 'AMECA', 'ARANDAS', 'ATEMAJAC DE BRIZUELA', 'ATENGO',\n",
       "       'ATENGUILLO', 'ATOTONILCO EL ALTO', 'ATOYAC', 'AUTLAN DE NAVARRO',\n",
       "       'AYOTLAN', 'AYUTLA', 'BOLAÑOS', 'CABO CORRIENTES',\n",
       "       'CAÑADAS DE OBREGON', 'CASIMIRO CASTILLO', 'CHAPALA', 'CHIMALTITAN',\n",
       "       'CHIQUILISTLAN', 'CIHUATLAN', 'COCULA', 'COLOTLAN',\n",
       "       'CONCEPCION DE BUENOS AIRES', 'CUAUTITLAN DE GARCIA BARRAGAN',\n",
       "       'CUAUTLA', 'CUQUIO', 'DEGOLLADO', 'EJUTLA', 'EL ARENAL',\n",
       "       'EL GRULLO', 'EL LIMON', 'ENCARNACION DE DIAZ', 'ETZATLAN',\n",
       "       'GOMEZ FARIAS', 'GUACHINANGO', 'HOSTOTIPAQUILLO', 'HUEJUCAR',\n",
       "       'HUEJUQUILLA EL ALTO', 'IXTLAHUACAN DE LOS MEMBRILLOS',\n",
       "       'IXTLAHUACAN DEL RIO', 'JALOSTOTITLAN', 'JAMAY', 'JESUS MARIA',\n",
       "       'JILOTLAN DE LOS DOLORES', 'JOCOTEPEC', 'JUANACATLAN', 'JUCHITLAN',\n",
       "       'LA BARCA', 'LA HUERTA', 'LA MANZANILLA DE LA PAZ', 'MAGDALENA',\n",
       "       'MASCOTA', 'MAZAMITLA', 'MEXTICACAN', 'MEZQUITIC', 'MIXTLAN',\n",
       "       'OJUELOS DE JALISCO', 'PIHUAMO', 'PONCITLAN', 'QUITUPAN',\n",
       "       'SAN CRISTOBAL DE LA BARRANCA', 'SAN DIEGO DE ALEJANDRIA',\n",
       "       'SAN GABRIEL', 'SAN IGNACIO CERRO GORDO', 'SAN JUAN DE LOS LAGOS',\n",
       "       'SAN JUANITO DE ESCOBEDO', 'SAN JULIAN', 'SAN MARCOS',\n",
       "       'SAN MARTIN DE BOLAÑOS', 'SAN MARTIN HIDALGO', 'SAN MIGUEL EL ALTO',\n",
       "       'SAN SEBASTIAN DEL OESTE', 'SANTA MARIA DE LOS ANGELES',\n",
       "       'SANTA MARIA DEL ORO', 'SAYULA', 'TALA', 'TALPA DE ALLENDE',\n",
       "       'TAMAZULA DE GORDIANO', 'TAPALPA', 'TECALITLAN',\n",
       "       'TECHALUTA DE MONTENEGRO', 'TECOLOTLAN', 'TENAMAXTLAN',\n",
       "       'TEOCALTICHE', 'TEOCUITATLAN DE CORONA', 'TEQUILA', 'TEUCHITLAN',\n",
       "       'TIZAPAN EL ALTO', 'TOLIMAN', 'TOMATLAN', 'TONAYA', 'TONILA',\n",
       "       'TOTATICHE', 'TOTOTLAN', 'TUXCACUESCO', 'TUXCUECA', 'TUXPAN',\n",
       "       'UNION DE SAN ANTONIO', 'UNION DE TULA', 'VALLE DE GUADALUPE',\n",
       "       'VALLE DE JUAREZ', 'VILLA CORONA', 'VILLA GUERRERO',\n",
       "       'VILLA HIDALGO', 'VILLA PURIFICACION',\n",
       "       'YAHUALICA DE GONZALEZ GALLO', 'ZACOALCO DE TORRES', 'ZAPOTILTIC',\n",
       "       'ZAPOTITLAN DE VADILLO', 'ZAPOTLAN DEL REY', 'ZAPOTLANEJO'], dtype=object)"
      ]
     },
     "execution_count": 179,
     "metadata": {},
     "output_type": "execute_result"
    }
   ],
   "source": [
    "df_copy[\"MUNICIPIO\"][(df_copy.ENTIDAD == estado)].unique()"
   ]
  },
  {
   "cell_type": "code",
   "execution_count": 180,
   "metadata": {},
   "outputs": [
    {
     "data": {
      "text/plain": [
       "array(['ACATIC', 'ACATLAN DE JUAREZ', 'AHUALULCO DE MERCADO', 'AMACUECA',\n",
       "       'AMATITAN', 'AMECA', 'SAN JUANITO DE ESCOBEDO', 'ARANDAS',\n",
       "       'EL ARENAL', 'ATEMAJAC DE BRIZUELA', 'ATENGO', 'ATENGUILLO',\n",
       "       'ATOTONILCO EL ALTO', 'ATOYAC', 'AUTLAN DE NAVARRO', 'AYOTLAN',\n",
       "       'AYUTLA', 'LA BARCA', 'BOLAÑOS', 'CABO CORRIENTES',\n",
       "       'CASIMIRO CASTILLO', 'CIHUATLAN', 'ZAPOTLAN EL GRANDE', 'COCULA',\n",
       "       'COLOTLAN', 'CONCEPCION DE BUENOS AIRES',\n",
       "       'CUAUTITLAN DE GARCIA BARRAGAN', 'CUAUTLA', 'CUQUIO', 'CHAPALA',\n",
       "       'CHIMALTITAN', 'CHIQUILISTLAN', 'DEGOLLADO', 'EJUTLA',\n",
       "       'ENCARNACION DE DIAZ', 'ETZATLAN', 'EL GRULLO', 'GUACHINANGO',\n",
       "       'GUADALAJARA', 'HOSTOTIPAQUILLO', 'HUEJUCAR', 'HUEJUQUILLA EL ALTO',\n",
       "       'LA HUERTA', 'IXTLAHUACAN DE LOS MEMBRILLOS', 'IXTLAHUACAN DEL RIO',\n",
       "       'JALOSTOTITLAN', 'JAMAY', 'JESUS MARIA', 'JILOTLAN DE LOS DOLORES',\n",
       "       'JOCOTEPEC', 'JUANACATLAN', 'JUCHITLAN', 'LAGOS DE MORENO',\n",
       "       'EL LIMON', 'MAGDALENA', 'SANTA MARIA DEL ORO',\n",
       "       'LA MANZANILLA DE LA PAZ', 'MASCOTA', 'MAZAMITLA', 'MEXTICACAN',\n",
       "       'MEZQUITIC', 'MIXTLAN', 'OCOTLAN', 'OJUELOS DE JALISCO', 'PIHUAMO',\n",
       "       'PONCITLAN', 'PUERTO VALLARTA', 'VILLA PURIFICACION', 'QUITUPAN',\n",
       "       'EL SALTO', 'SAN CRISTOBAL DE LA BARRANCA',\n",
       "       'SAN DIEGO DE ALEJANDRIA', 'SAN JUAN DE LOS LAGOS', 'SAN JULIAN',\n",
       "       'SAN MARCOS', 'SAN MARTIN DE BOLAÑOS', 'SAN MARTIN HIDALGO',\n",
       "       'SAN MIGUEL EL ALTO', 'GOMEZ FARIAS', 'SAN SEBASTIAN DEL OESTE',\n",
       "       'SANTA MARIA DE LOS ANGELES', 'SAYULA', 'TALA', 'TALPA DE ALLENDE',\n",
       "       'TAMAZULA DE GORDIANO', 'TAPALPA', 'TECALITLAN', 'TECOLOTLAN',\n",
       "       'TECHALUTA DE MONTENEGRO', 'TENAMAXTLAN', 'TEOCALTICHE',\n",
       "       'TEOCUITATLAN DE CORONA', 'TEPATITLAN DE MORELOS', 'TEQUILA',\n",
       "       'TEUCHITLAN', 'TIZAPAN EL ALTO', 'TLAJOMULCO DE ZUÑIGA',\n",
       "       'SAN PEDRO TLAQUEPAQUE', 'TOLIMAN', 'TOMATLAN', 'TONALA', 'TONAYA',\n",
       "       'TONILA', 'TOTATICHE', 'TOTOTLAN', 'TUXCACUESCO', 'TUXCUECA',\n",
       "       'TUXPAN', 'UNION DE SAN ANTONIO', 'UNION DE TULA',\n",
       "       'VALLE DE GUADALUPE', 'VALLE DE JUAREZ', 'SAN GABRIEL',\n",
       "       'VILLA CORONA', 'VILLA GUERRERO', 'VILLA HIDALGO',\n",
       "       'CAÑADAS DE OBREGON', 'YAHUALICA DE GONZALEZ GALLO',\n",
       "       'ZACOALCO DE TORRES', 'ZAPOPAN', 'ZAPOTILTIC',\n",
       "       'ZAPOTITLAN DE VADILLO', 'ZAPOTLAN DEL REY', 'ZAPOTLANEJO',\n",
       "       'SAN IGNACIO CERRO GORDO'], dtype=object)"
      ]
     },
     "execution_count": 180,
     "metadata": {},
     "output_type": "execute_result"
    }
   ],
   "source": [
    "df_CCEFML_copy[\"NOM_MUN\"][(df_CCEFML_copy[\"NOM_ENT\"] == estado)].unique()"
   ]
  },
  {
   "cell_type": "code",
   "execution_count": 181,
   "metadata": {},
   "outputs": [
    {
     "data": {
      "text/plain": [
       "{'ACATIC': 1,\n",
       " 'ACATLAN DE JUAREZ': 2,\n",
       " 'AHUALULCO DE MERCADO': 3,\n",
       " 'AMACUECA': 4,\n",
       " 'AMATITAN': 5,\n",
       " 'AMECA': 6,\n",
       " 'ARANDAS': 8,\n",
       " 'ATEMAJAC DE BRIZUELA': 10,\n",
       " 'ATENGO': 11,\n",
       " 'ATENGUILLO': 12,\n",
       " 'ATOTONILCO EL ALTO': 13,\n",
       " 'ATOYAC': 14,\n",
       " 'AUTLAN DE NAVARRO': 15,\n",
       " 'AYOTLAN': 16,\n",
       " 'AYUTLA': 17,\n",
       " 'BOLAÑOS': 19,\n",
       " 'CABO CORRIENTES': 20,\n",
       " 'CASIMIRO CASTILLO': 21,\n",
       " 'CAÑADAS DE OBREGON': 117,\n",
       " 'CHAPALA': 30,\n",
       " 'CHIMALTITAN': 31,\n",
       " 'CHIQUILISTLAN': 32,\n",
       " 'CIHUATLAN': 22,\n",
       " 'COCULA': 24,\n",
       " 'COLOTLAN': 25,\n",
       " 'CONCEPCION DE BUENOS AIRES': 26,\n",
       " 'CUAUTITLAN DE GARCIA BARRAGAN': 27,\n",
       " 'CUAUTLA': 28,\n",
       " 'CUQUIO': 29,\n",
       " 'DEGOLLADO': 33,\n",
       " 'EJUTLA': 34,\n",
       " 'EL ARENAL': 9,\n",
       " 'EL GRULLO': 37,\n",
       " 'EL LIMON': 54,\n",
       " 'EL SALTO': 70,\n",
       " 'ENCARNACION DE DIAZ': 35,\n",
       " 'ETZATLAN': 36,\n",
       " 'GOMEZ FARIAS': 79,\n",
       " 'GUACHINANGO': 38,\n",
       " 'GUADALAJARA': 39,\n",
       " 'HOSTOTIPAQUILLO': 40,\n",
       " 'HUEJUCAR': 41,\n",
       " 'HUEJUQUILLA EL ALTO': 42,\n",
       " 'IXTLAHUACAN DE LOS MEMBRILLOS': 44,\n",
       " 'IXTLAHUACAN DEL RIO': 45,\n",
       " 'JALOSTOTITLAN': 46,\n",
       " 'JAMAY': 47,\n",
       " 'JESUS MARIA': 48,\n",
       " 'JILOTLAN DE LOS DOLORES': 49,\n",
       " 'JOCOTEPEC': 50,\n",
       " 'JUANACATLAN': 51,\n",
       " 'JUCHITLAN': 52,\n",
       " 'LA BARCA': 18,\n",
       " 'LA HUERTA': 43,\n",
       " 'LA MANZANILLA DE LA PAZ': 57,\n",
       " 'LAGOS DE MORENO': 53,\n",
       " 'MAGDALENA': 55,\n",
       " 'MASCOTA': 58,\n",
       " 'MAZAMITLA': 59,\n",
       " 'MEXTICACAN': 60,\n",
       " 'MEZQUITIC': 61,\n",
       " 'MIXTLAN': 62,\n",
       " 'OCOTLAN': 63,\n",
       " 'OJUELOS DE JALISCO': 64,\n",
       " 'PIHUAMO': 65,\n",
       " 'PONCITLAN': 66,\n",
       " 'PUERTO VALLARTA': 67,\n",
       " 'QUITUPAN': 69,\n",
       " 'SAN CRISTOBAL DE LA BARRANCA': 71,\n",
       " 'SAN DIEGO DE ALEJANDRIA': 72,\n",
       " 'SAN GABRIEL': 113,\n",
       " 'SAN IGNACIO CERRO GORDO': 125,\n",
       " 'SAN JUAN DE LOS LAGOS': 73,\n",
       " 'SAN JUANITO DE ESCOBEDO': 7,\n",
       " 'SAN JULIAN': 74,\n",
       " 'SAN MARCOS': 75,\n",
       " 'SAN MARTIN DE BOLAÑOS': 76,\n",
       " 'SAN MARTIN HIDALGO': 77,\n",
       " 'SAN MIGUEL EL ALTO': 78,\n",
       " 'SAN PEDRO TLAQUEPAQUE': 98,\n",
       " 'SAN SEBASTIAN DEL OESTE': 80,\n",
       " 'SANTA MARIA DE LOS ANGELES': 81,\n",
       " 'SANTA MARIA DEL ORO': 56,\n",
       " 'SAYULA': 82,\n",
       " 'TALA': 83,\n",
       " 'TALPA DE ALLENDE': 84,\n",
       " 'TAMAZULA DE GORDIANO': 85,\n",
       " 'TAPALPA': 86,\n",
       " 'TECALITLAN': 87,\n",
       " 'TECHALUTA DE MONTENEGRO': 89,\n",
       " 'TECOLOTLAN': 88,\n",
       " 'TENAMAXTLAN': 90,\n",
       " 'TEOCALTICHE': 91,\n",
       " 'TEOCUITATLAN DE CORONA': 92,\n",
       " 'TEPATITLAN DE MORELOS': 93,\n",
       " 'TEQUILA': 94,\n",
       " 'TEUCHITLAN': 95,\n",
       " 'TIZAPAN EL ALTO': 96,\n",
       " 'TLAJOMULCO DE ZUÑIGA': 97,\n",
       " 'TOLIMAN': 99,\n",
       " 'TOMATLAN': 100,\n",
       " 'TONALA': 101,\n",
       " 'TONAYA': 102,\n",
       " 'TONILA': 103,\n",
       " 'TOTATICHE': 104,\n",
       " 'TOTOTLAN': 105,\n",
       " 'TUXCACUESCO': 106,\n",
       " 'TUXCUECA': 107,\n",
       " 'TUXPAN': 108,\n",
       " 'UNION DE SAN ANTONIO': 109,\n",
       " 'UNION DE TULA': 110,\n",
       " 'VALLE DE GUADALUPE': 111,\n",
       " 'VALLE DE JUAREZ': 112,\n",
       " 'VILLA CORONA': 114,\n",
       " 'VILLA GUERRERO': 115,\n",
       " 'VILLA HIDALGO': 116,\n",
       " 'VILLA PURIFICACION': 68,\n",
       " 'YAHUALICA DE GONZALEZ GALLO': 118,\n",
       " 'ZACOALCO DE TORRES': 119,\n",
       " 'ZAPOPAN': 120,\n",
       " 'ZAPOTILTIC': 121,\n",
       " 'ZAPOTITLAN DE VADILLO': 122,\n",
       " 'ZAPOTLAN DEL REY': 123,\n",
       " 'ZAPOTLAN EL GRANDE': 23,\n",
       " 'ZAPOTLANEJO': 124}"
      ]
     },
     "execution_count": 181,
     "metadata": {},
     "output_type": "execute_result"
    }
   ],
   "source": [
    "dict_CCEFML_JALISCO"
   ]
  },
  {
   "cell_type": "code",
   "execution_count": 182,
   "metadata": {},
   "outputs": [
    {
     "data": {
      "text/plain": [
       "array(['ZAPOTLAN EL GRANDE', 'GUADALAJARA', 'LAGOS DE MORENO', 'OCOTLAN',\n",
       "       'PUERTO VALLARTA', 'EL SALTO', 'TEPATITLAN DE MORELOS',\n",
       "       'TLAJOMULCO DE ZUÑIGA', 'SAN PEDRO TLAQUEPAQUE', 'TONALA',\n",
       "       'ZAPOPAN', 'ACATIC', 'ACATLAN DE JUAREZ', 'AHUALULCO DE MERCADO',\n",
       "       'AMACUECA', 'AMATITAN', 'AMECA', 'ARANDAS', 'ATEMAJAC DE BRIZUELA',\n",
       "       'ATENGO', 'ATENGUILLO', 'ATOTONILCO EL ALTO', 'ATOYAC',\n",
       "       'AUTLAN DE NAVARRO', 'AYOTLAN', 'AYUTLA', 'BOLAÑOS',\n",
       "       'CABO CORRIENTES', 'CAÑADAS DE OBREGON', 'CASIMIRO CASTILLO',\n",
       "       'CHAPALA', 'CHIMALTITAN', 'CHIQUILISTLAN', 'CIHUATLAN', 'COCULA',\n",
       "       'COLOTLAN', 'CONCEPCION DE BUENOS AIRES',\n",
       "       'CUAUTITLAN DE GARCIA BARRAGAN', 'CUAUTLA', 'CUQUIO', 'DEGOLLADO',\n",
       "       'EJUTLA', 'EL ARENAL', 'EL GRULLO', 'EL LIMON',\n",
       "       'ENCARNACION DE DIAZ', 'ETZATLAN', 'GOMEZ FARIAS', 'GUACHINANGO',\n",
       "       'HOSTOTIPAQUILLO', 'HUEJUCAR', 'HUEJUQUILLA EL ALTO',\n",
       "       'IXTLAHUACAN DE LOS MEMBRILLOS', 'IXTLAHUACAN DEL RIO',\n",
       "       'JALOSTOTITLAN', 'JAMAY', 'JESUS MARIA', 'JILOTLAN DE LOS DOLORES',\n",
       "       'JOCOTEPEC', 'JUANACATLAN', 'JUCHITLAN', 'LA BARCA', 'LA HUERTA',\n",
       "       'LA MANZANILLA DE LA PAZ', 'MAGDALENA', 'MASCOTA', 'MAZAMITLA',\n",
       "       'MEXTICACAN', 'MEZQUITIC', 'MIXTLAN', 'OJUELOS DE JALISCO',\n",
       "       'PIHUAMO', 'PONCITLAN', 'QUITUPAN', 'SAN CRISTOBAL DE LA BARRANCA',\n",
       "       'SAN DIEGO DE ALEJANDRIA', 'SAN GABRIEL', 'SAN IGNACIO CERRO GORDO',\n",
       "       'SAN JUAN DE LOS LAGOS', 'SAN JUANITO DE ESCOBEDO', 'SAN JULIAN',\n",
       "       'SAN MARCOS', 'SAN MARTIN DE BOLAÑOS', 'SAN MARTIN HIDALGO',\n",
       "       'SAN MIGUEL EL ALTO', 'SAN SEBASTIAN DEL OESTE',\n",
       "       'SANTA MARIA DE LOS ANGELES', 'SANTA MARIA DEL ORO', 'SAYULA',\n",
       "       'TALA', 'TALPA DE ALLENDE', 'TAMAZULA DE GORDIANO', 'TAPALPA',\n",
       "       'TECALITLAN', 'TECHALUTA DE MONTENEGRO', 'TECOLOTLAN',\n",
       "       'TENAMAXTLAN', 'TEOCALTICHE', 'TEOCUITATLAN DE CORONA', 'TEQUILA',\n",
       "       'TEUCHITLAN', 'TIZAPAN EL ALTO', 'TOLIMAN', 'TOMATLAN', 'TONAYA',\n",
       "       'TONILA', 'TOTATICHE', 'TOTOTLAN', 'TUXCACUESCO', 'TUXCUECA',\n",
       "       'TUXPAN', 'UNION DE SAN ANTONIO', 'UNION DE TULA',\n",
       "       'VALLE DE GUADALUPE', 'VALLE DE JUAREZ', 'VILLA CORONA',\n",
       "       'VILLA GUERRERO', 'VILLA HIDALGO', 'VILLA PURIFICACION',\n",
       "       'YAHUALICA DE GONZALEZ GALLO', 'ZACOALCO DE TORRES', 'ZAPOTILTIC',\n",
       "       'ZAPOTITLAN DE VADILLO', 'ZAPOTLAN DEL REY', 'ZAPOTLANEJO'], dtype=object)"
      ]
     },
     "execution_count": 182,
     "metadata": {},
     "output_type": "execute_result"
    }
   ],
   "source": [
    "df_copy['MUNICIPIO'][(df_copy['ENTIDAD'] == estado)] = df_copy['MUNICIPIO'][(df_copy['ENTIDAD'] == estado)].replace({'TLAQUEPAQUE' : 'SAN PEDRO TLAQUEPAQUE'})\n",
    "df_copy['CVE_MUN'][(df_copy['ENTIDAD'] == estado)] = df_copy['CVE_MUN'][(df_copy['ENTIDAD'] == estado)].replace({'TLAQUEPAQUE' : 'SAN PEDRO TLAQUEPAQUE'})\n",
    "\n",
    "df_copy['MUNICIPIO'][(df_copy['ENTIDAD'] == estado)].unique()"
   ]
  },
  {
   "cell_type": "code",
   "execution_count": 183,
   "metadata": {},
   "outputs": [
    {
     "data": {
      "text/plain": [
       "array([23.0, 39.0, 53.0, 63.0, 67.0, 70.0, 93.0, 97.0, 98.0, 101.0, 120.0,\n",
       "       1.0, 2.0, 3.0, 4.0, 5.0, 6.0, 8.0, 10.0, 11.0, 12.0, 13.0, 14.0,\n",
       "       15.0, 16.0, 17.0, 19.0, 20.0, 117.0, 21.0, 30.0, 31.0, 32.0, 22.0,\n",
       "       24.0, 25.0, 26.0, 27.0, 28.0, 29.0, 33.0, 34.0, 9.0, 37.0, 54.0,\n",
       "       35.0, 36.0, 79.0, 38.0, 40.0, 41.0, 42.0, 44.0, 45.0, 46.0, 47.0,\n",
       "       48.0, 49.0, 50.0, 51.0, 52.0, 18.0, 43.0, 57.0, 55.0, 58.0, 59.0,\n",
       "       60.0, 61.0, 62.0, 64.0, 65.0, 66.0, 69.0, 71.0, 72.0, 113.0, 125.0,\n",
       "       73.0, 7.0, 74.0, 75.0, 76.0, 77.0, 78.0, 80.0, 81.0, 56.0, 82.0,\n",
       "       83.0, 84.0, 85.0, 86.0, 87.0, 89.0, 88.0, 90.0, 91.0, 92.0, 94.0,\n",
       "       95.0, 96.0, 99.0, 100.0, 102.0, 103.0, 104.0, 105.0, 106.0, 107.0,\n",
       "       108.0, 109.0, 110.0, 111.0, 112.0, 114.0, 115.0, 116.0, 68.0, 118.0,\n",
       "       119.0, 121.0, 122.0, 123.0, 124.0], dtype=object)"
      ]
     },
     "execution_count": 183,
     "metadata": {},
     "output_type": "execute_result"
    }
   ],
   "source": [
    "df_copy['CVE_MUN'][(df_copy['ENTIDAD'] == estado)] = df_copy['CVE_MUN'][(df_copy['ENTIDAD'] == estado)].replace(dict_CCEFML_JALISCO)\n",
    "df_copy['CVE_MUN'][(df_copy['ENTIDAD'] == estado)] = df_copy['CVE_MUN'][(df_copy['ENTIDAD'] == estado)].astype('int64')\n",
    "\n",
    "df_copy['CVE_MUN'][(df_copy['ENTIDAD'] == estado)].unique()"
   ]
  },
  {
   "cell_type": "markdown",
   "metadata": {},
   "source": [
    "### MEXICO"
   ]
  },
  {
   "cell_type": "code",
   "execution_count": 184,
   "metadata": {},
   "outputs": [],
   "source": [
    "estado = \"MEXICO\""
   ]
  },
  {
   "cell_type": "code",
   "execution_count": 185,
   "metadata": {},
   "outputs": [
    {
     "data": {
      "text/plain": [
       "array(['ACAMBAY', 'ACOLMAN', 'ACULCO', 'ALMOLOYA DE ALQUISIRAS',\n",
       "       'ALMOLOYA DE JUAREZ', 'ALMOLOYA DEL RIO', 'AMANALCO', 'AMATEPEC',\n",
       "       'AMECAMECA', 'APAXCO', 'ATENCO', 'ATIZAPAN', 'ATIZAPAN DE ZARAGOZA',\n",
       "       'ATLACOMULCO', 'ATLAUTLA', 'AXAPUSCO', 'AYAPANGO', 'CALIMAYA',\n",
       "       'CAPULHUAC', 'COACALCO DE BERRIOZABAL', 'COATEPEC HARINAS',\n",
       "       'COCOTITLAN', 'COYOTEPEC', 'CUAUTITLAN', 'CHALCO', 'CHAPA DE MOTA',\n",
       "       'CHAPULTEPEC', 'CHIAUTLA', 'CHICOLOAPAN', 'CHICONCUAC',\n",
       "       'CHIMALHUACAN', 'DONATO GUERRA', 'ECATEPEC DE MORELOS', 'ECATZINGO',\n",
       "       'HUEHUETOCA', 'HUEYPOXTLA', 'HUIXQUILUCAN', 'ISIDRO FABELA',\n",
       "       'IXTAPALUCA', 'IXTAPAN DE LA SAL', 'IXTAPAN DEL ORO', 'IXTLAHUACA',\n",
       "       'XALATLACO', 'JALTENCO', 'JILOTEPEC', 'JILOTZINGO', 'JIQUIPILCO',\n",
       "       'JOCOTITLAN', 'JOQUICINGO', 'JUCHITEPEC', 'LERMA', 'MALINALCO',\n",
       "       'MELCHOR OCAMPO', 'METEPEC', 'MEXICALTZINGO', 'MORELOS',\n",
       "       'NAUCALPAN DE JUAREZ', 'NEZAHUALCOYOTL', 'NEXTLALPAN',\n",
       "       'NICOLAS ROMERO', 'NOPALTEPEC', 'OCOYOACAC', 'OCUILAN', 'EL ORO',\n",
       "       'OTUMBA', 'OTZOLOAPAN', 'OTZOLOTEPEC', 'OZUMBA', 'PAPALOTLA',\n",
       "       'LA PAZ', 'POLOTITLAN', 'RAYON', 'SAN ANTONIO LA ISLA',\n",
       "       'SAN FELIPE DEL PROGRESO', 'SAN MARTIN DE LAS PIRAMIDES',\n",
       "       'SAN MATEO ATENCO', 'SAN SIMON DE GUERRERO', 'SANTO TOMAS',\n",
       "       'SOYANIQUILPAN DE JUAREZ', 'SULTEPEC', 'TECAMAC', 'TEJUPILCO',\n",
       "       'TEMAMATLA', 'TEMASCALAPA', 'TEMASCALCINGO', 'TEMASCALTEPEC',\n",
       "       'TEMOAYA', 'TENANCINGO', 'TENANGO DEL AIRE', 'TENANGO DEL VALLE',\n",
       "       'TEOLOYUCAN', 'TEOTIHUACAN', 'TEPETLAOXTOC', 'TEPETLIXPA',\n",
       "       'TEPOTZOTLAN', 'TEQUIXQUIAC', 'TEXCALTITLAN', 'TEXCALYACAC',\n",
       "       'TEXCOCO', 'TEZOYUCA', 'TIANGUISTENCO', 'TIMILPAN', 'TLALMANALCO',\n",
       "       'TLALNEPANTLA DE BAZ', 'TLATLAYA', 'TOLUCA', 'TONATICO', 'TULTEPEC',\n",
       "       'TULTITLAN', 'VALLE DE BRAVO', 'VILLA DE ALLENDE',\n",
       "       'VILLA DEL CARBON', 'VILLA GUERRERO', 'VILLA VICTORIA',\n",
       "       'XONACATLAN', 'ZACAZONAPAN', 'ZACUALPAN', 'ZINACANTEPEC',\n",
       "       'ZUMPAHUACAN', 'ZUMPANGO', 'CUAUTITLAN IZCALLI',\n",
       "       'VALLE DE CHALCO SOLIDARIDAD', 'LUVIANOS', 'SAN JOSE DEL RINCON',\n",
       "       'TONANITLA'], dtype=object)"
      ]
     },
     "execution_count": 185,
     "metadata": {},
     "output_type": "execute_result"
    }
   ],
   "source": [
    "df_copy[\"MUNICIPIO\"][(df_copy.ENTIDAD == estado)].unique()"
   ]
  },
  {
   "cell_type": "code",
   "execution_count": 186,
   "metadata": {},
   "outputs": [
    {
     "data": {
      "text/plain": [
       "array(['ACAMBAY DE RUIZ CASTAÑEDA', 'ACOLMAN', 'ACULCO',\n",
       "       'ALMOLOYA DE ALQUISIRAS', 'ALMOLOYA DE JUAREZ', 'ALMOLOYA DEL RIO',\n",
       "       'AMANALCO', 'AMATEPEC', 'AMECAMECA', 'APAXCO', 'ATENCO', 'ATIZAPAN',\n",
       "       'ATIZAPAN DE ZARAGOZA', 'ATLACOMULCO', 'ATLAUTLA', 'AXAPUSCO',\n",
       "       'AYAPANGO', 'CALIMAYA', 'CAPULHUAC', 'COACALCO DE BERRIOZABAL',\n",
       "       'COATEPEC HARINAS', 'COCOTITLAN', 'COYOTEPEC', 'CUAUTITLAN',\n",
       "       'CHALCO', 'CHAPA DE MOTA', 'CHAPULTEPEC', 'CHIAUTLA', 'CHICOLOAPAN',\n",
       "       'CHICONCUAC', 'CHIMALHUACAN', 'DONATO GUERRA',\n",
       "       'ECATEPEC DE MORELOS', 'ECATZINGO', 'HUEHUETOCA', 'HUEYPOXTLA',\n",
       "       'HUIXQUILUCAN', 'ISIDRO FABELA', 'IXTAPALUCA', 'IXTAPAN DE LA SAL',\n",
       "       'IXTAPAN DEL ORO', 'IXTLAHUACA', 'XALATLACO', 'JALTENCO',\n",
       "       'JILOTEPEC', 'JILOTZINGO', 'JIQUIPILCO', 'JOCOTITLAN', 'JOQUICINGO',\n",
       "       'JUCHITEPEC', 'LERMA', 'MALINALCO', 'MELCHOR OCAMPO', 'METEPEC',\n",
       "       'MEXICALTZINGO', 'MORELOS', 'NAUCALPAN DE JUAREZ', 'NEZAHUALCOYOTL',\n",
       "       'NEXTLALPAN', 'NICOLAS ROMERO', 'NOPALTEPEC', 'OCOYOACAC',\n",
       "       'OCUILAN', 'EL ORO', 'OTUMBA', 'OTZOLOAPAN', 'OTZOLOTEPEC',\n",
       "       'OZUMBA', 'PAPALOTLA', 'LA PAZ', 'POLOTITLAN', 'RAYON',\n",
       "       'SAN ANTONIO LA ISLA', 'SAN FELIPE DEL PROGRESO',\n",
       "       'SAN MARTIN DE LAS PIRAMIDES', 'SAN MATEO ATENCO',\n",
       "       'SAN SIMON DE GUERRERO', 'SANTO TOMAS', 'SOYANIQUILPAN DE JUAREZ',\n",
       "       'SULTEPEC', 'TECAMAC', 'TEJUPILCO', 'TEMAMATLA', 'TEMASCALAPA',\n",
       "       'TEMASCALCINGO', 'TEMASCALTEPEC', 'TEMOAYA', 'TENANCINGO',\n",
       "       'TENANGO DEL AIRE', 'TENANGO DEL VALLE', 'TEOLOYUCAN',\n",
       "       'TEOTIHUACAN', 'TEPETLAOXTOC', 'TEPETLIXPA', 'TEPOTZOTLAN',\n",
       "       'TEQUIXQUIAC', 'TEXCALTITLAN', 'TEXCALYACAC', 'TEXCOCO', 'TEZOYUCA',\n",
       "       'TIANGUISTENCO', 'TIMILPAN', 'TLALMANALCO', 'TLALNEPANTLA DE BAZ',\n",
       "       'TLATLAYA', 'TOLUCA', 'TONATICO', 'TULTEPEC', 'TULTITLAN',\n",
       "       'VALLE DE BRAVO', 'VILLA DE ALLENDE', 'VILLA DEL CARBON',\n",
       "       'VILLA GUERRERO', 'VILLA VICTORIA', 'XONACATLAN', 'ZACAZONAPAN',\n",
       "       'ZACUALPAN', 'ZINACANTEPEC', 'ZUMPAHUACAN', 'ZUMPANGO',\n",
       "       'CUAUTITLAN IZCALLI', 'VALLE DE CHALCO SOLIDARIDAD', 'LUVIANOS',\n",
       "       'SAN JOSE DEL RINCON', 'TONANITLA'], dtype=object)"
      ]
     },
     "execution_count": 186,
     "metadata": {},
     "output_type": "execute_result"
    }
   ],
   "source": [
    "df_CCEFML_copy[\"NOM_MUN\"][(df_CCEFML_copy[\"NOM_ENT\"] == estado)].unique()"
   ]
  },
  {
   "cell_type": "code",
   "execution_count": 187,
   "metadata": {},
   "outputs": [
    {
     "data": {
      "text/plain": [
       "{'ACAMBAY DE RUIZ CASTAÑEDA': 1,\n",
       " 'ACOLMAN': 2,\n",
       " 'ACULCO': 3,\n",
       " 'ALMOLOYA DE ALQUISIRAS': 4,\n",
       " 'ALMOLOYA DE JUAREZ': 5,\n",
       " 'ALMOLOYA DEL RIO': 6,\n",
       " 'AMANALCO': 7,\n",
       " 'AMATEPEC': 8,\n",
       " 'AMECAMECA': 9,\n",
       " 'APAXCO': 10,\n",
       " 'ATENCO': 11,\n",
       " 'ATIZAPAN': 12,\n",
       " 'ATIZAPAN DE ZARAGOZA': 13,\n",
       " 'ATLACOMULCO': 14,\n",
       " 'ATLAUTLA': 15,\n",
       " 'AXAPUSCO': 16,\n",
       " 'AYAPANGO': 17,\n",
       " 'CALIMAYA': 18,\n",
       " 'CAPULHUAC': 19,\n",
       " 'CHALCO': 25,\n",
       " 'CHAPA DE MOTA': 26,\n",
       " 'CHAPULTEPEC': 27,\n",
       " 'CHIAUTLA': 28,\n",
       " 'CHICOLOAPAN': 29,\n",
       " 'CHICONCUAC': 30,\n",
       " 'CHIMALHUACAN': 31,\n",
       " 'COACALCO DE BERRIOZABAL': 20,\n",
       " 'COATEPEC HARINAS': 21,\n",
       " 'COCOTITLAN': 22,\n",
       " 'COYOTEPEC': 23,\n",
       " 'CUAUTITLAN': 24,\n",
       " 'CUAUTITLAN IZCALLI': 121,\n",
       " 'DONATO GUERRA': 32,\n",
       " 'ECATEPEC DE MORELOS': 33,\n",
       " 'ECATZINGO': 34,\n",
       " 'EL ORO': 64,\n",
       " 'HUEHUETOCA': 35,\n",
       " 'HUEYPOXTLA': 36,\n",
       " 'HUIXQUILUCAN': 37,\n",
       " 'ISIDRO FABELA': 38,\n",
       " 'IXTAPALUCA': 39,\n",
       " 'IXTAPAN DE LA SAL': 40,\n",
       " 'IXTAPAN DEL ORO': 41,\n",
       " 'IXTLAHUACA': 42,\n",
       " 'JALTENCO': 44,\n",
       " 'JILOTEPEC': 45,\n",
       " 'JILOTZINGO': 46,\n",
       " 'JIQUIPILCO': 47,\n",
       " 'JOCOTITLAN': 48,\n",
       " 'JOQUICINGO': 49,\n",
       " 'JUCHITEPEC': 50,\n",
       " 'LA PAZ': 70,\n",
       " 'LERMA': 51,\n",
       " 'LUVIANOS': 123,\n",
       " 'MALINALCO': 52,\n",
       " 'MELCHOR OCAMPO': 53,\n",
       " 'METEPEC': 54,\n",
       " 'MEXICALTZINGO': 55,\n",
       " 'MORELOS': 56,\n",
       " 'NAUCALPAN DE JUAREZ': 57,\n",
       " 'NEXTLALPAN': 59,\n",
       " 'NEZAHUALCOYOTL': 58,\n",
       " 'NICOLAS ROMERO': 60,\n",
       " 'NOPALTEPEC': 61,\n",
       " 'OCOYOACAC': 62,\n",
       " 'OCUILAN': 63,\n",
       " 'OTUMBA': 65,\n",
       " 'OTZOLOAPAN': 66,\n",
       " 'OTZOLOTEPEC': 67,\n",
       " 'OZUMBA': 68,\n",
       " 'PAPALOTLA': 69,\n",
       " 'POLOTITLAN': 71,\n",
       " 'RAYON': 72,\n",
       " 'SAN ANTONIO LA ISLA': 73,\n",
       " 'SAN FELIPE DEL PROGRESO': 74,\n",
       " 'SAN JOSE DEL RINCON': 124,\n",
       " 'SAN MARTIN DE LAS PIRAMIDES': 75,\n",
       " 'SAN MATEO ATENCO': 76,\n",
       " 'SAN SIMON DE GUERRERO': 77,\n",
       " 'SANTO TOMAS': 78,\n",
       " 'SOYANIQUILPAN DE JUAREZ': 79,\n",
       " 'SULTEPEC': 80,\n",
       " 'TECAMAC': 81,\n",
       " 'TEJUPILCO': 82,\n",
       " 'TEMAMATLA': 83,\n",
       " 'TEMASCALAPA': 84,\n",
       " 'TEMASCALCINGO': 85,\n",
       " 'TEMASCALTEPEC': 86,\n",
       " 'TEMOAYA': 87,\n",
       " 'TENANCINGO': 88,\n",
       " 'TENANGO DEL AIRE': 89,\n",
       " 'TENANGO DEL VALLE': 90,\n",
       " 'TEOLOYUCAN': 91,\n",
       " 'TEOTIHUACAN': 92,\n",
       " 'TEPETLAOXTOC': 93,\n",
       " 'TEPETLIXPA': 94,\n",
       " 'TEPOTZOTLAN': 95,\n",
       " 'TEQUIXQUIAC': 96,\n",
       " 'TEXCALTITLAN': 97,\n",
       " 'TEXCALYACAC': 98,\n",
       " 'TEXCOCO': 99,\n",
       " 'TEZOYUCA': 100,\n",
       " 'TIANGUISTENCO': 101,\n",
       " 'TIMILPAN': 102,\n",
       " 'TLALMANALCO': 103,\n",
       " 'TLALNEPANTLA DE BAZ': 104,\n",
       " 'TLATLAYA': 105,\n",
       " 'TOLUCA': 106,\n",
       " 'TONANITLA': 125,\n",
       " 'TONATICO': 107,\n",
       " 'TULTEPEC': 108,\n",
       " 'TULTITLAN': 109,\n",
       " 'VALLE DE BRAVO': 110,\n",
       " 'VALLE DE CHALCO SOLIDARIDAD': 122,\n",
       " 'VILLA DE ALLENDE': 111,\n",
       " 'VILLA DEL CARBON': 112,\n",
       " 'VILLA GUERRERO': 113,\n",
       " 'VILLA VICTORIA': 114,\n",
       " 'XALATLACO': 43,\n",
       " 'XONACATLAN': 115,\n",
       " 'ZACAZONAPAN': 116,\n",
       " 'ZACUALPAN': 117,\n",
       " 'ZINACANTEPEC': 118,\n",
       " 'ZUMPAHUACAN': 119,\n",
       " 'ZUMPANGO': 120}"
      ]
     },
     "execution_count": 187,
     "metadata": {},
     "output_type": "execute_result"
    }
   ],
   "source": [
    "dict_CCEFML_MEXICO"
   ]
  },
  {
   "cell_type": "code",
   "execution_count": 188,
   "metadata": {},
   "outputs": [
    {
     "data": {
      "text/plain": [
       "array(['ACAMBAY DE RUIZ CASTAÑEDA', 'ACOLMAN', 'ACULCO',\n",
       "       'ALMOLOYA DE ALQUISIRAS', 'ALMOLOYA DE JUAREZ', 'ALMOLOYA DEL RIO',\n",
       "       'AMANALCO', 'AMATEPEC', 'AMECAMECA', 'APAXCO', 'ATENCO', 'ATIZAPAN',\n",
       "       'ATIZAPAN DE ZARAGOZA', 'ATLACOMULCO', 'ATLAUTLA', 'AXAPUSCO',\n",
       "       'AYAPANGO', 'CALIMAYA', 'CAPULHUAC', 'COACALCO DE BERRIOZABAL',\n",
       "       'COATEPEC HARINAS', 'COCOTITLAN', 'COYOTEPEC', 'CUAUTITLAN',\n",
       "       'CHALCO', 'CHAPA DE MOTA', 'CHAPULTEPEC', 'CHIAUTLA', 'CHICOLOAPAN',\n",
       "       'CHICONCUAC', 'CHIMALHUACAN', 'DONATO GUERRA',\n",
       "       'ECATEPEC DE MORELOS', 'ECATZINGO', 'HUEHUETOCA', 'HUEYPOXTLA',\n",
       "       'HUIXQUILUCAN', 'ISIDRO FABELA', 'IXTAPALUCA', 'IXTAPAN DE LA SAL',\n",
       "       'IXTAPAN DEL ORO', 'IXTLAHUACA', 'XALATLACO', 'JALTENCO',\n",
       "       'JILOTEPEC', 'JILOTZINGO', 'JIQUIPILCO', 'JOCOTITLAN', 'JOQUICINGO',\n",
       "       'JUCHITEPEC', 'LERMA', 'MALINALCO', 'MELCHOR OCAMPO', 'METEPEC',\n",
       "       'MEXICALTZINGO', 'MORELOS', 'NAUCALPAN DE JUAREZ', 'NEZAHUALCOYOTL',\n",
       "       'NEXTLALPAN', 'NICOLAS ROMERO', 'NOPALTEPEC', 'OCOYOACAC',\n",
       "       'OCUILAN', 'EL ORO', 'OTUMBA', 'OTZOLOAPAN', 'OTZOLOTEPEC',\n",
       "       'OZUMBA', 'PAPALOTLA', 'LA PAZ', 'POLOTITLAN', 'RAYON',\n",
       "       'SAN ANTONIO LA ISLA', 'SAN FELIPE DEL PROGRESO',\n",
       "       'SAN MARTIN DE LAS PIRAMIDES', 'SAN MATEO ATENCO',\n",
       "       'SAN SIMON DE GUERRERO', 'SANTO TOMAS', 'SOYANIQUILPAN DE JUAREZ',\n",
       "       'SULTEPEC', 'TECAMAC', 'TEJUPILCO', 'TEMAMATLA', 'TEMASCALAPA',\n",
       "       'TEMASCALCINGO', 'TEMASCALTEPEC', 'TEMOAYA', 'TENANCINGO',\n",
       "       'TENANGO DEL AIRE', 'TENANGO DEL VALLE', 'TEOLOYUCAN',\n",
       "       'TEOTIHUACAN', 'TEPETLAOXTOC', 'TEPETLIXPA', 'TEPOTZOTLAN',\n",
       "       'TEQUIXQUIAC', 'TEXCALTITLAN', 'TEXCALYACAC', 'TEXCOCO', 'TEZOYUCA',\n",
       "       'TIANGUISTENCO', 'TIMILPAN', 'TLALMANALCO', 'TLALNEPANTLA DE BAZ',\n",
       "       'TLATLAYA', 'TOLUCA', 'TONATICO', 'TULTEPEC', 'TULTITLAN',\n",
       "       'VALLE DE BRAVO', 'VILLA DE ALLENDE', 'VILLA DEL CARBON',\n",
       "       'VILLA GUERRERO', 'VILLA VICTORIA', 'XONACATLAN', 'ZACAZONAPAN',\n",
       "       'ZACUALPAN', 'ZINACANTEPEC', 'ZUMPAHUACAN', 'ZUMPANGO',\n",
       "       'CUAUTITLAN IZCALLI', 'VALLE DE CHALCO SOLIDARIDAD', 'LUVIANOS',\n",
       "       'SAN JOSE DEL RINCON', 'TONANITLA'], dtype=object)"
      ]
     },
     "execution_count": 188,
     "metadata": {},
     "output_type": "execute_result"
    }
   ],
   "source": [
    "df_copy['MUNICIPIO'][(df_copy['ENTIDAD'] == estado)] = df_copy['MUNICIPIO'][(df_copy['ENTIDAD'] == estado)].replace({'ACAMBAY' : 'ACAMBAY DE RUIZ CASTAÑEDA'})\n",
    "df_copy['CVE_MUN'][(df_copy['ENTIDAD'] == estado)] = df_copy['CVE_MUN'][(df_copy['ENTIDAD'] == estado)].replace({'ACAMBAY' : 'ACAMBAY DE RUIZ CASTAÑEDA'})\n",
    "\n",
    "df_copy['MUNICIPIO'][(df_copy['ENTIDAD'] == estado)].unique()"
   ]
  },
  {
   "cell_type": "code",
   "execution_count": 189,
   "metadata": {},
   "outputs": [
    {
     "data": {
      "text/plain": [
       "array([1.0, 2.0, 3.0, 4.0, 5.0, 6.0, 7.0, 8.0, 9.0, 10.0, 11.0, 12.0, 13.0,\n",
       "       14.0, 15.0, 16.0, 17.0, 18.0, 19.0, 20.0, 21.0, 22.0, 23.0, 24.0,\n",
       "       25.0, 26.0, 27.0, 28.0, 29.0, 30.0, 31.0, 32.0, 33.0, 34.0, 35.0,\n",
       "       36.0, 37.0, 38.0, 39.0, 40.0, 41.0, 42.0, 43.0, 44.0, 45.0, 46.0,\n",
       "       47.0, 48.0, 49.0, 50.0, 51.0, 52.0, 53.0, 54.0, 55.0, 56.0, 57.0,\n",
       "       58.0, 59.0, 60.0, 61.0, 62.0, 63.0, 64.0, 65.0, 66.0, 67.0, 68.0,\n",
       "       69.0, 70.0, 71.0, 72.0, 73.0, 74.0, 75.0, 76.0, 77.0, 78.0, 79.0,\n",
       "       80.0, 81.0, 82.0, 83.0, 84.0, 85.0, 86.0, 87.0, 88.0, 89.0, 90.0,\n",
       "       91.0, 92.0, 93.0, 94.0, 95.0, 96.0, 97.0, 98.0, 99.0, 100.0, 101.0,\n",
       "       102.0, 103.0, 104.0, 105.0, 106.0, 107.0, 108.0, 109.0, 110.0,\n",
       "       111.0, 112.0, 113.0, 114.0, 115.0, 116.0, 117.0, 118.0, 119.0,\n",
       "       120.0, 121.0, 122.0, 123.0, 124.0, 125.0], dtype=object)"
      ]
     },
     "execution_count": 189,
     "metadata": {},
     "output_type": "execute_result"
    }
   ],
   "source": [
    "df_copy['CVE_MUN'][(df_copy['ENTIDAD'] == estado)] = df_copy['CVE_MUN'][(df_copy['ENTIDAD'] == estado)].replace(dict_CCEFML_MEXICO)\n",
    "df_copy['CVE_MUN'][(df_copy['ENTIDAD'] == estado)] = df_copy['CVE_MUN'][(df_copy['ENTIDAD'] == estado)].astype('int64')\n",
    "\n",
    "df_copy['CVE_MUN'][(df_copy['ENTIDAD'] == estado)].unique()"
   ]
  },
  {
   "cell_type": "markdown",
   "metadata": {},
   "source": [
    "### MICHOACAN"
   ]
  },
  {
   "cell_type": "code",
   "execution_count": 190,
   "metadata": {},
   "outputs": [],
   "source": [
    "estado = \"MICHOACAN\""
   ]
  },
  {
   "cell_type": "code",
   "execution_count": 191,
   "metadata": {},
   "outputs": [
    {
     "data": {
      "text/plain": [
       "SALVADOR ESCALANTE             462\n",
       "TEPALCATEPEC                   462\n",
       "LA PIEDAD                      462\n",
       "COPANDARO                      462\n",
       "PANINDICUARO                   462\n",
       "TINGÜINDIN                     462\n",
       "CARACUARO                      462\n",
       "QUIROGA                        462\n",
       "AQUILA                         462\n",
       "APORO                          462\n",
       "TIQUICHEO DE NICOLAS ROMERO    462\n",
       "COJUMATLAN DE REGULES          462\n",
       "NUEVO URECHO                   462\n",
       "TARIMBARO                      462\n",
       "TANGAMANDAPIO                  462\n",
       "MADERO                         462\n",
       "JUNGAPEO                       462\n",
       "TOCUMBO                        462\n",
       "EPITACIO HUERTA                462\n",
       "LOS REYES                      462\n",
       "TLAZAZALCA                     462\n",
       "VENUSTIANO CARRANZA            462\n",
       "CHARAPAN                       462\n",
       "SENGUIO                        462\n",
       "CHAVINDA                       462\n",
       "CHARO                          462\n",
       "NOCUPETARO                     462\n",
       "APATZINGAN                     462\n",
       "MARAVATIO                      462\n",
       "GABRIEL ZAMORA                 462\n",
       "                              ... \n",
       "LAGUNILLAS                     462\n",
       "CUITZEO                        462\n",
       "AGUILILLA                      462\n",
       "TUXPAN                         462\n",
       "JIMENEZ                        462\n",
       "INDAPARAPEO                    462\n",
       "TZITZIO                        462\n",
       "COENEO                         462\n",
       "ACUITZIO                       462\n",
       "NUMARAN                        462\n",
       "PARACHO                        462\n",
       "HUANDACAREO                    462\n",
       "PUREPERO                       462\n",
       "LA HUACANA                     462\n",
       "ZINAPECUARO                    462\n",
       "TANGANCICUARO                  462\n",
       "BUENAVISTA                     462\n",
       "TANCITARO                      462\n",
       "HUETAMO                        462\n",
       "CHUCANDIRO                     462\n",
       "MARCOS CASTELLANOS             462\n",
       "ECUANDUREO                     462\n",
       "TINGAMBATO                     462\n",
       "SAN LUCAS                      462\n",
       "CHERAN                         462\n",
       "ZAMORA                         462\n",
       "BRISEÑAS                       462\n",
       "VILLAMAR                       462\n",
       "SAHUAYO                        462\n",
       "PERIBAN                        462\n",
       "Name: MUNICIPIO, Length: 113, dtype: int64"
      ]
     },
     "execution_count": 191,
     "metadata": {},
     "output_type": "execute_result"
    }
   ],
   "source": [
    "df_copy[\"MUNICIPIO\"][(df_copy.ENTIDAD == estado)].value_counts()"
   ]
  },
  {
   "cell_type": "code",
   "execution_count": 192,
   "metadata": {},
   "outputs": [
    {
     "data": {
      "text/plain": [
       "COALCOMAN DE VAZQUEZ PALLARES    677\n",
       "AQUILA                           582\n",
       "ARTEAGA                          569\n",
       "HUETAMO                          408\n",
       "MADERO                           393\n",
       "TZITZIO                          389\n",
       "HIDALGO                          386\n",
       "TURICATO                         376\n",
       "MORELIA                          362\n",
       "TUMBISCATIO                      361\n",
       "APATZINGAN                       336\n",
       "TIQUICHEO DE NICOLAS ROMERO      334\n",
       "URUAPAN                          326\n",
       "AGUILILLA                        315\n",
       "LAZARO CARDENAS                  285\n",
       "CARACUARO                        257\n",
       "TUZANTLA                         244\n",
       "CHINICUILA                       240\n",
       "TACAMBARO                        212\n",
       "NOCUPETARO                       186\n",
       "LA HUACANA                       176\n",
       "ZITACUARO                        175\n",
       "ZAMORA                           157\n",
       "LA PIEDAD                        154\n",
       "MARAVATIO                        154\n",
       "ARIO                             145\n",
       "BUENAVISTA                       139\n",
       "TARIMBARO                        134\n",
       "TANCITARO                        134\n",
       "COAHUAYANA                       112\n",
       "                                ... \n",
       "TANGAMANDAPIO                     30\n",
       "JIMENEZ                           29\n",
       "CUITZEO                           29\n",
       "YURECUARO                         29\n",
       "ERONGARICUARO                     28\n",
       "TLAZAZALCA                        28\n",
       "TINGÜINDIN                        28\n",
       "TARETAN                           27\n",
       "CHILCHOTA                         27\n",
       "SANTA ANA MAYA                    26\n",
       "NAHUATZEN                         25\n",
       "CHURINTZIO                        25\n",
       "TANHUATO                          24\n",
       "HUANDACAREO                       24\n",
       "QUIROGA                           23\n",
       "ANGANGUEO                         23\n",
       "CHAVINDA                          22\n",
       "ZINAPARO                          21\n",
       "PAJACUARAN                        21\n",
       "CHUCANDIRO                        21\n",
       "VISTA HERMOSA                     20\n",
       "HUIRAMBA                          20\n",
       "COPANDARO                         19\n",
       "TINGAMBATO                        18\n",
       "CHERAN                            17\n",
       "COJUMATLAN DE REGULES             16\n",
       "LAGUNILLAS                        15\n",
       "CHARAPAN                          14\n",
       "APORO                             14\n",
       "BRISEÑAS                          11\n",
       "Name: NOM_MUN, Length: 113, dtype: int64"
      ]
     },
     "execution_count": 192,
     "metadata": {},
     "output_type": "execute_result"
    }
   ],
   "source": [
    "df_CCEFML_copy[\"NOM_MUN\"][(df_CCEFML_copy[\"NOM_ENT\"] == estado)].value_counts()"
   ]
  },
  {
   "cell_type": "code",
   "execution_count": 193,
   "metadata": {},
   "outputs": [
    {
     "data": {
      "text/plain": [
       "{'ACUITZIO': 1,\n",
       " 'AGUILILLA': 2,\n",
       " 'ALVARO OBREGON': 3,\n",
       " 'ANGAMACUTIRO': 4,\n",
       " 'ANGANGUEO': 5,\n",
       " 'APATZINGAN': 6,\n",
       " 'APORO': 7,\n",
       " 'AQUILA': 8,\n",
       " 'ARIO': 9,\n",
       " 'ARTEAGA': 10,\n",
       " 'BRISEÑAS': 11,\n",
       " 'BUENAVISTA': 12,\n",
       " 'CARACUARO': 13,\n",
       " 'CHARAPAN': 21,\n",
       " 'CHARO': 22,\n",
       " 'CHAVINDA': 23,\n",
       " 'CHERAN': 24,\n",
       " 'CHILCHOTA': 25,\n",
       " 'CHINICUILA': 26,\n",
       " 'CHUCANDIRO': 27,\n",
       " 'CHURINTZIO': 28,\n",
       " 'CHURUMUCO': 29,\n",
       " 'COAHUAYANA': 14,\n",
       " 'COALCOMAN DE VAZQUEZ PALLARES': 15,\n",
       " 'COENEO': 16,\n",
       " 'COJUMATLAN DE REGULES': 74,\n",
       " 'CONTEPEC': 17,\n",
       " 'COPANDARO': 18,\n",
       " 'COTIJA': 19,\n",
       " 'CUITZEO': 20,\n",
       " 'ECUANDUREO': 30,\n",
       " 'EPITACIO HUERTA': 31,\n",
       " 'ERONGARICUARO': 32,\n",
       " 'GABRIEL ZAMORA': 33,\n",
       " 'HIDALGO': 34,\n",
       " 'HUANDACAREO': 36,\n",
       " 'HUANIQUEO': 37,\n",
       " 'HUETAMO': 38,\n",
       " 'HUIRAMBA': 39,\n",
       " 'INDAPARAPEO': 40,\n",
       " 'IRIMBO': 41,\n",
       " 'IXTLAN': 42,\n",
       " 'JACONA': 43,\n",
       " 'JIMENEZ': 44,\n",
       " 'JIQUILPAN': 45,\n",
       " 'JOSE SIXTO VERDUZCO': 113,\n",
       " 'JUAREZ': 46,\n",
       " 'JUNGAPEO': 47,\n",
       " 'LA HUACANA': 35,\n",
       " 'LA PIEDAD': 69,\n",
       " 'LAGUNILLAS': 48,\n",
       " 'LAZARO CARDENAS': 52,\n",
       " 'LOS REYES': 75,\n",
       " 'MADERO': 49,\n",
       " 'MARAVATIO': 50,\n",
       " 'MARCOS CASTELLANOS': 51,\n",
       " 'MORELIA': 53,\n",
       " 'MORELOS': 54,\n",
       " 'MUGICA': 55,\n",
       " 'NAHUATZEN': 56,\n",
       " 'NOCUPETARO': 57,\n",
       " 'NUEVO PARANGARICUTIRO': 58,\n",
       " 'NUEVO URECHO': 59,\n",
       " 'NUMARAN': 60,\n",
       " 'OCAMPO': 61,\n",
       " 'PAJACUARAN': 62,\n",
       " 'PANINDICUARO': 63,\n",
       " 'PARACHO': 65,\n",
       " 'PARACUARO': 64,\n",
       " 'PATZCUARO': 66,\n",
       " 'PENJAMILLO': 67,\n",
       " 'PERIBAN': 68,\n",
       " 'PUREPERO': 70,\n",
       " 'PURUANDIRO': 71,\n",
       " 'QUERENDARO': 72,\n",
       " 'QUIROGA': 73,\n",
       " 'SAHUAYO': 76,\n",
       " 'SALVADOR ESCALANTE': 79,\n",
       " 'SAN LUCAS': 77,\n",
       " 'SANTA ANA MAYA': 78,\n",
       " 'SENGUIO': 80,\n",
       " 'SUSUPUATO': 81,\n",
       " 'TACAMBARO': 82,\n",
       " 'TANCITARO': 83,\n",
       " 'TANGAMANDAPIO': 84,\n",
       " 'TANGANCICUARO': 85,\n",
       " 'TANHUATO': 86,\n",
       " 'TARETAN': 87,\n",
       " 'TARIMBARO': 88,\n",
       " 'TEPALCATEPEC': 89,\n",
       " 'TINGAMBATO': 90,\n",
       " 'TINGÜINDIN': 91,\n",
       " 'TIQUICHEO DE NICOLAS ROMERO': 92,\n",
       " 'TLALPUJAHUA': 93,\n",
       " 'TLAZAZALCA': 94,\n",
       " 'TOCUMBO': 95,\n",
       " 'TUMBISCATIO': 96,\n",
       " 'TURICATO': 97,\n",
       " 'TUXPAN': 98,\n",
       " 'TUZANTLA': 99,\n",
       " 'TZINTZUNTZAN': 100,\n",
       " 'TZITZIO': 101,\n",
       " 'URUAPAN': 102,\n",
       " 'VENUSTIANO CARRANZA': 103,\n",
       " 'VILLAMAR': 104,\n",
       " 'VISTA HERMOSA': 105,\n",
       " 'YURECUARO': 106,\n",
       " 'ZACAPU': 107,\n",
       " 'ZAMORA': 108,\n",
       " 'ZINAPARO': 109,\n",
       " 'ZINAPECUARO': 110,\n",
       " 'ZIRACUARETIRO': 111,\n",
       " 'ZITACUARO': 112}"
      ]
     },
     "execution_count": 193,
     "metadata": {},
     "output_type": "execute_result"
    }
   ],
   "source": [
    "dict_CCEFML_MICHOACAN"
   ]
  },
  {
   "cell_type": "code",
   "execution_count": 194,
   "metadata": {},
   "outputs": [
    {
     "data": {
      "text/plain": [
       "array([1.0, 2.0, 3.0, 4.0, 5.0, 6.0, 7.0, 8.0, 9.0, 10.0, 11.0, 12.0, 13.0,\n",
       "       14.0, 15.0, 16.0, 17.0, 18.0, 19.0, 20.0, 21.0, 22.0, 23.0, 24.0,\n",
       "       25.0, 26.0, 27.0, 28.0, 29.0, 30.0, 31.0, 32.0, 33.0, 34.0, 35.0,\n",
       "       36.0, 37.0, 38.0, 39.0, 40.0, 41.0, 42.0, 43.0, 44.0, 45.0, 46.0,\n",
       "       47.0, 48.0, 49.0, 50.0, 51.0, 52.0, 53.0, 54.0, 55.0, 56.0, 57.0,\n",
       "       58.0, 59.0, 60.0, 61.0, 62.0, 63.0, 64.0, 65.0, 66.0, 67.0, 68.0,\n",
       "       69.0, 70.0, 71.0, 72.0, 73.0, 74.0, 75.0, 76.0, 77.0, 78.0, 79.0,\n",
       "       80.0, 81.0, 82.0, 83.0, 84.0, 85.0, 86.0, 87.0, 88.0, 89.0, 90.0,\n",
       "       91.0, 92.0, 93.0, 94.0, 95.0, 96.0, 97.0, 98.0, 99.0, 100.0, 101.0,\n",
       "       102.0, 103.0, 104.0, 105.0, 106.0, 107.0, 108.0, 109.0, 110.0,\n",
       "       111.0, 112.0, 113.0], dtype=object)"
      ]
     },
     "execution_count": 194,
     "metadata": {},
     "output_type": "execute_result"
    }
   ],
   "source": [
    "df_copy['CVE_MUN'][(df_copy['ENTIDAD'] == estado)] = df_copy['CVE_MUN'][(df_copy['ENTIDAD'] == estado)].replace(dict_CCEFML_MICHOACAN)\n",
    "df_copy['CVE_MUN'][(df_copy['ENTIDAD'] == estado)] = df_copy['CVE_MUN'][(df_copy['ENTIDAD'] == estado)].astype('int64')\n",
    "\n",
    "df_copy['CVE_MUN'][(df_copy['ENTIDAD'] == estado)].unique()"
   ]
  },
  {
   "cell_type": "markdown",
   "metadata": {},
   "source": [
    "### MORELOS"
   ]
  },
  {
   "cell_type": "code",
   "execution_count": 195,
   "metadata": {},
   "outputs": [],
   "source": [
    "estado = \"MORELOS\""
   ]
  },
  {
   "cell_type": "code",
   "execution_count": 196,
   "metadata": {},
   "outputs": [
    {
     "data": {
      "text/plain": [
       "JOJUTLA              462\n",
       "TOTOLAPAN            462\n",
       "ATLATLAHUCAN         462\n",
       "TEPALCINGO           462\n",
       "TLALNEPANTLA         462\n",
       "TLAYACAPAN           462\n",
       "HUITZILAC            462\n",
       "TETECALA             462\n",
       "CUAUTLA              462\n",
       "EMILIANO ZAPATA      462\n",
       "COATLAN DEL RIO      462\n",
       "TLAQUILTENANGO       462\n",
       "CUERNAVACA           462\n",
       "MAZATEPEC            462\n",
       "YECAPIXTLA           462\n",
       "AMACUZAC             462\n",
       "AYALA                462\n",
       "TEMOAC               462\n",
       "XOCHITEPEC           462\n",
       "OCUITUCO             462\n",
       "TLALTIZAPAN          462\n",
       "ZACUALPAN            462\n",
       "TEPOZTLAN            462\n",
       "MIACATLAN            462\n",
       "TETELA DEL VOLCAN    462\n",
       "JANTETELCO           462\n",
       "JONACATEPEC          462\n",
       "ZACATEPEC            462\n",
       "YAUTEPEC             462\n",
       "TEMIXCO              462\n",
       "JIUTEPEC             462\n",
       "PUENTE DE IXTLA      462\n",
       "AXOCHIAPAN           462\n",
       "Name: MUNICIPIO, dtype: int64"
      ]
     },
     "execution_count": 196,
     "metadata": {},
     "output_type": "execute_result"
    }
   ],
   "source": [
    "df_copy[\"MUNICIPIO\"][(df_copy.ENTIDAD == estado)].value_counts()"
   ]
  },
  {
   "cell_type": "code",
   "execution_count": 197,
   "metadata": {},
   "outputs": [
    {
     "data": {
      "text/plain": [
       "AYALA                           174\n",
       "PUENTE DE IXTLA                 115\n",
       "YAUTEPEC                        115\n",
       "TLALTIZAPAN DE ZAPATA            94\n",
       "YECAPIXTLA                       92\n",
       "JOJUTLA                          90\n",
       "XOCHITEPEC                       87\n",
       "TEPOZTLAN                        79\n",
       "HUITZILAC                        75\n",
       "CUERNAVACA                       71\n",
       "AXOCHIAPAN                       71\n",
       "CUAUTLA                          66\n",
       "TLAQUILTENANGO                   61\n",
       "MIACATLAN                        53\n",
       "OCUITUCO                         52\n",
       "ATLATLAHUCAN                     51\n",
       "TEPALCINGO                       50\n",
       "TETELA DEL VOLCAN                50\n",
       "TLAYACAPAN                       49\n",
       "AMACUZAC                         46\n",
       "TEMIXCO                          45\n",
       "JANTETELCO                       43\n",
       "EMILIANO ZAPATA                  41\n",
       "JONACATEPEC DE LEANDRO VALLE     41\n",
       "TOTOLAPAN                        33\n",
       "JIUTEPEC                         29\n",
       "MAZATEPEC                        26\n",
       "ZACATEPEC                        24\n",
       "COATLAN DEL RIO                  23\n",
       "ZACUALPAN DE AMILPAS             23\n",
       "TETECALA                         21\n",
       "TEMOAC                           18\n",
       "TLALNEPANTLA                     17\n",
       "Name: NOM_MUN, dtype: int64"
      ]
     },
     "execution_count": 197,
     "metadata": {},
     "output_type": "execute_result"
    }
   ],
   "source": [
    "df_CCEFML_copy[\"NOM_MUN\"][(df_CCEFML_copy[\"NOM_ENT\"] == estado)].value_counts()"
   ]
  },
  {
   "cell_type": "code",
   "execution_count": 198,
   "metadata": {},
   "outputs": [
    {
     "data": {
      "text/plain": [
       "{'AMACUZAC': 1,\n",
       " 'ATLATLAHUCAN': 2,\n",
       " 'AXOCHIAPAN': 3,\n",
       " 'AYALA': 4,\n",
       " 'COATLAN DEL RIO': 5,\n",
       " 'CUAUTLA': 6,\n",
       " 'CUERNAVACA': 7,\n",
       " 'EMILIANO ZAPATA': 8,\n",
       " 'HUITZILAC': 9,\n",
       " 'JANTETELCO': 10,\n",
       " 'JIUTEPEC': 11,\n",
       " 'JOJUTLA': 12,\n",
       " 'JONACATEPEC DE LEANDRO VALLE': 13,\n",
       " 'MAZATEPEC': 14,\n",
       " 'MIACATLAN': 15,\n",
       " 'OCUITUCO': 16,\n",
       " 'PUENTE DE IXTLA': 17,\n",
       " 'TEMIXCO': 18,\n",
       " 'TEMOAC': 33,\n",
       " 'TEPALCINGO': 19,\n",
       " 'TEPOZTLAN': 20,\n",
       " 'TETECALA': 21,\n",
       " 'TETELA DEL VOLCAN': 22,\n",
       " 'TLALNEPANTLA': 23,\n",
       " 'TLALTIZAPAN DE ZAPATA': 24,\n",
       " 'TLAQUILTENANGO': 25,\n",
       " 'TLAYACAPAN': 26,\n",
       " 'TOTOLAPAN': 27,\n",
       " 'XOCHITEPEC': 28,\n",
       " 'YAUTEPEC': 29,\n",
       " 'YECAPIXTLA': 30,\n",
       " 'ZACATEPEC': 31,\n",
       " 'ZACUALPAN DE AMILPAS': 32}"
      ]
     },
     "execution_count": 198,
     "metadata": {},
     "output_type": "execute_result"
    }
   ],
   "source": [
    "dict_CCEFML_MORELOS"
   ]
  },
  {
   "cell_type": "code",
   "execution_count": 199,
   "metadata": {},
   "outputs": [
    {
     "data": {
      "text/plain": [
       "array(['AMACUZAC', 'ATLATLAHUCAN', 'AXOCHIAPAN', 'AYALA',\n",
       "       'COATLAN DEL RIO', 'CUAUTLA', 'CUERNAVACA', 'EMILIANO ZAPATA',\n",
       "       'HUITZILAC', 'JANTETELCO', 'JIUTEPEC', 'JOJUTLA',\n",
       "       'JONACATEPEC DE LEANDRO VALLE', 'MAZATEPEC', 'MIACATLAN',\n",
       "       'OCUITUCO', 'PUENTE DE IXTLA', 'TEMIXCO', 'TEPALCINGO', 'TEPOZTLAN',\n",
       "       'TETECALA', 'TETELA DEL VOLCAN', 'TLALNEPANTLA',\n",
       "       'TLALTIZAPAN DE ZAPATA', 'TLAQUILTENANGO', 'TLAYACAPAN',\n",
       "       'TOTOLAPAN', 'XOCHITEPEC', 'YAUTEPEC', 'YECAPIXTLA', 'ZACATEPEC',\n",
       "       'ZACUALPAN DE AMILPAS', 'TEMOAC'], dtype=object)"
      ]
     },
     "execution_count": 199,
     "metadata": {},
     "output_type": "execute_result"
    }
   ],
   "source": [
    "df_copy['MUNICIPIO'][(df_copy['ENTIDAD'] == estado)] = df_copy['MUNICIPIO'][(df_copy['ENTIDAD'] == estado)].replace({'JONACATEPEC' : 'JONACATEPEC DE LEANDRO VALLE'})\n",
    "df_copy['CVE_MUN'][(df_copy['ENTIDAD'] == estado)] = df_copy['CVE_MUN'][(df_copy['ENTIDAD'] == estado)].replace({'JONACATEPEC' : 'JONACATEPEC DE LEANDRO VALLE'})\n",
    "\n",
    "df_copy['MUNICIPIO'][(df_copy['ENTIDAD'] == estado)] = df_copy['MUNICIPIO'][(df_copy['ENTIDAD'] == estado)].replace({'TLALTIZAPAN' : 'TLALTIZAPAN DE ZAPATA'})\n",
    "df_copy['CVE_MUN'][(df_copy['ENTIDAD'] == estado)] = df_copy['CVE_MUN'][(df_copy['ENTIDAD'] == estado)].replace({'TLALTIZAPAN' : 'TLALTIZAPAN DE ZAPATA'})\n",
    "\n",
    "df_copy['MUNICIPIO'][(df_copy['ENTIDAD'] == estado)] = df_copy['MUNICIPIO'][(df_copy['ENTIDAD'] == estado)].replace({'ZACUALPAN' : 'ZACUALPAN DE AMILPAS'})\n",
    "df_copy['CVE_MUN'][(df_copy['ENTIDAD'] == estado)] = df_copy['CVE_MUN'][(df_copy['ENTIDAD'] == estado)].replace({'ZACUALPAN' : 'ZACUALPAN DE AMILPAS'})\n",
    "\n",
    "df_copy['MUNICIPIO'][(df_copy['ENTIDAD'] == estado)].unique()"
   ]
  },
  {
   "cell_type": "code",
   "execution_count": 200,
   "metadata": {},
   "outputs": [
    {
     "data": {
      "text/plain": [
       "array([1.0, 2.0, 3.0, 4.0, 5.0, 6.0, 7.0, 8.0, 9.0, 10.0, 11.0, 12.0, 13.0,\n",
       "       14.0, 15.0, 16.0, 17.0, 18.0, 19.0, 20.0, 21.0, 22.0, 23.0, 24.0,\n",
       "       25.0, 26.0, 27.0, 28.0, 29.0, 30.0, 31.0, 32.0, 33.0], dtype=object)"
      ]
     },
     "execution_count": 200,
     "metadata": {},
     "output_type": "execute_result"
    }
   ],
   "source": [
    "df_copy['CVE_MUN'][(df_copy['ENTIDAD'] == estado)] = df_copy['CVE_MUN'][(df_copy['ENTIDAD'] == estado)].replace(dict_CCEFML_MORELOS)\n",
    "df_copy['CVE_MUN'][(df_copy['ENTIDAD'] == estado)] = df_copy['CVE_MUN'][(df_copy['ENTIDAD'] == estado)].astype('int64')\n",
    "\n",
    "df_copy['CVE_MUN'][(df_copy['ENTIDAD'] == estado)].unique()"
   ]
  },
  {
   "cell_type": "markdown",
   "metadata": {},
   "source": [
    "### NAYARIT"
   ]
  },
  {
   "cell_type": "code",
   "execution_count": 201,
   "metadata": {},
   "outputs": [],
   "source": [
    "estado = \"NAYARIT\""
   ]
  },
  {
   "cell_type": "code",
   "execution_count": 202,
   "metadata": {},
   "outputs": [
    {
     "data": {
      "text/plain": [
       "array(['ACAPONETA', 'AHUACATLAN', 'AMATLAN DE CAÑAS', 'COMPOSTELA',\n",
       "       'HUAJICORI', 'IXTLAN DEL RIO', 'JALA', 'XALISCO', 'DEL NAYAR',\n",
       "       'ROSAMORADA', 'RUIZ', 'SAN BLAS', 'SAN PEDRO LAGUNILLAS',\n",
       "       'SANTA MARIA DEL ORO', 'SANTIAGO IXCUINTLA', 'TECUALA', 'TEPIC',\n",
       "       'TUXPAN', 'LA YESCA', 'BAHIA DE BANDERAS'], dtype=object)"
      ]
     },
     "execution_count": 202,
     "metadata": {},
     "output_type": "execute_result"
    }
   ],
   "source": [
    "df_copy[\"MUNICIPIO\"][(df_copy.ENTIDAD == estado)].unique()"
   ]
  },
  {
   "cell_type": "code",
   "execution_count": 203,
   "metadata": {},
   "outputs": [
    {
     "data": {
      "text/plain": [
       "array(['ACAPONETA', 'AHUACATLAN', 'AMATLAN DE CAÑAS', 'COMPOSTELA',\n",
       "       'HUAJICORI', 'IXTLAN DEL RIO', 'JALA', 'XALISCO', 'DEL NAYAR',\n",
       "       'ROSAMORADA', 'RUIZ', 'SAN BLAS', 'SAN PEDRO LAGUNILLAS',\n",
       "       'SANTA MARIA DEL ORO', 'SANTIAGO IXCUINTLA', 'TECUALA', 'TEPIC',\n",
       "       'TUXPAN', 'LA YESCA', 'BAHIA DE BANDERAS'], dtype=object)"
      ]
     },
     "execution_count": 203,
     "metadata": {},
     "output_type": "execute_result"
    }
   ],
   "source": [
    "df_CCEFML_copy[\"NOM_MUN\"][(df_CCEFML_copy[\"NOM_ENT\"] == estado)].unique()"
   ]
  },
  {
   "cell_type": "code",
   "execution_count": 204,
   "metadata": {},
   "outputs": [
    {
     "data": {
      "text/plain": [
       "{'ACAPONETA': 1,\n",
       " 'AHUACATLAN': 2,\n",
       " 'AMATLAN DE CAÑAS': 3,\n",
       " 'BAHIA DE BANDERAS': 20,\n",
       " 'COMPOSTELA': 4,\n",
       " 'DEL NAYAR': 9,\n",
       " 'HUAJICORI': 5,\n",
       " 'IXTLAN DEL RIO': 6,\n",
       " 'JALA': 7,\n",
       " 'LA YESCA': 19,\n",
       " 'ROSAMORADA': 10,\n",
       " 'RUIZ': 11,\n",
       " 'SAN BLAS': 12,\n",
       " 'SAN PEDRO LAGUNILLAS': 13,\n",
       " 'SANTA MARIA DEL ORO': 14,\n",
       " 'SANTIAGO IXCUINTLA': 15,\n",
       " 'TECUALA': 16,\n",
       " 'TEPIC': 17,\n",
       " 'TUXPAN': 18,\n",
       " 'XALISCO': 8}"
      ]
     },
     "execution_count": 204,
     "metadata": {},
     "output_type": "execute_result"
    }
   ],
   "source": [
    "dict_CCEFML_NAYARIT"
   ]
  },
  {
   "cell_type": "code",
   "execution_count": 205,
   "metadata": {},
   "outputs": [
    {
     "data": {
      "text/plain": [
       "array([1.0, 2.0, 3.0, 4.0, 5.0, 6.0, 7.0, 8.0, 9.0, 10.0, 11.0, 12.0, 13.0,\n",
       "       14.0, 15.0, 16.0, 17.0, 18.0, 19.0, 20.0], dtype=object)"
      ]
     },
     "execution_count": 205,
     "metadata": {},
     "output_type": "execute_result"
    }
   ],
   "source": [
    "df_copy['CVE_MUN'][(df_copy['ENTIDAD'] == estado)] = df_copy['CVE_MUN'][(df_copy['ENTIDAD'] == estado)].replace(dict_CCEFML_NAYARIT)\n",
    "df_copy['CVE_MUN'][(df_copy['ENTIDAD'] == estado)] = df_copy['CVE_MUN'][(df_copy['ENTIDAD'] == estado)].astype('int64')\n",
    "\n",
    "df_copy['CVE_MUN'][(df_copy['ENTIDAD'] == estado)].unique()"
   ]
  },
  {
   "cell_type": "markdown",
   "metadata": {},
   "source": [
    "### NUEVO LEON"
   ]
  },
  {
   "cell_type": "code",
   "execution_count": 206,
   "metadata": {},
   "outputs": [],
   "source": [
    "estado = \"NUEVO LEON\""
   ]
  },
  {
   "cell_type": "code",
   "execution_count": 207,
   "metadata": {},
   "outputs": [
    {
     "data": {
      "text/plain": [
       "array(['ABASOLO', 'AGUALEGUAS', 'LOS ALDAMAS', 'ALLENDE', 'ANAHUAC',\n",
       "       'APODACA', 'ARAMBERRI', 'GRAL. BRAVO', 'BUSTAMANTE',\n",
       "       'CADEREYTA JIMENEZ', 'CERRALVO', 'CHINA', 'CIENEGA DE FLORES',\n",
       "       'DR. ARROYO', 'DR. COSS', 'DR. GONZALEZ', 'CARMEN',\n",
       "       'GRAL. ESCOBEDO', 'GALEANA', 'GARCIA', 'GUADALUPE', 'LOS HERRERAS',\n",
       "       'HIDALGO', 'HIGUERAS', 'HUALAHUISES', 'ITURBIDE', 'JUAREZ',\n",
       "       'LAMPAZOS DE NARANJO', 'LINARES', 'MARIN', 'MELCHOR OCAMPO',\n",
       "       'MIER Y NORIEGA', 'MINA', 'MONTEMORELOS', 'MONTERREY', 'PARAS',\n",
       "       'PESQUERIA', 'LOS RAMONES', 'RAYONES', 'SABINAS HIDALGO',\n",
       "       'SALINAS VICTORIA', 'SAN NICOLAS DE LOS GARZA',\n",
       "       'SAN PEDRO GARZA GARCIA', 'SANTA CATARINA', 'SANTIAGO',\n",
       "       'GRAL. TERAN', 'GRAL. TREVIÑO', 'VALLECILLO', 'VILLALDAMA',\n",
       "       'GRAL. ZARAGOZA', 'GRAL. ZUAZUA'], dtype=object)"
      ]
     },
     "execution_count": 207,
     "metadata": {},
     "output_type": "execute_result"
    }
   ],
   "source": [
    "df_copy[\"MUNICIPIO\"][(df_copy.ENTIDAD == estado)].unique()"
   ]
  },
  {
   "cell_type": "code",
   "execution_count": 208,
   "metadata": {},
   "outputs": [
    {
     "data": {
      "text/plain": [
       "array(['ABASOLO', 'AGUALEGUAS', 'LOS ALDAMAS', 'ALLENDE', 'ANAHUAC',\n",
       "       'APODACA', 'ARAMBERRI', 'BUSTAMANTE', 'CADEREYTA JIMENEZ',\n",
       "       'EL CARMEN', 'CERRALVO', 'CIENEGA DE FLORES', 'CHINA',\n",
       "       'DOCTOR ARROYO', 'DOCTOR COSS', 'DOCTOR GONZALEZ', 'GALEANA',\n",
       "       'GARCIA', 'SAN PEDRO GARZA GARCIA', 'GENERAL BRAVO',\n",
       "       'GENERAL ESCOBEDO', 'GENERAL TERAN', 'GENERAL TREVIÑO',\n",
       "       'GENERAL ZARAGOZA', 'GENERAL ZUAZUA', 'GUADALUPE', 'LOS HERRERAS',\n",
       "       'HIGUERAS', 'HUALAHUISES', 'ITURBIDE', 'JUAREZ',\n",
       "       'LAMPAZOS DE NARANJO', 'LINARES', 'MARIN', 'MELCHOR OCAMPO',\n",
       "       'MIER Y NORIEGA', 'MINA', 'MONTEMORELOS', 'MONTERREY', 'PARAS',\n",
       "       'PESQUERIA', 'LOS RAMONES', 'RAYONES', 'SABINAS HIDALGO',\n",
       "       'SALINAS VICTORIA', 'SAN NICOLAS DE LOS GARZA', 'HIDALGO',\n",
       "       'SANTA CATARINA', 'SANTIAGO', 'VALLECILLO', 'VILLALDAMA'], dtype=object)"
      ]
     },
     "execution_count": 208,
     "metadata": {},
     "output_type": "execute_result"
    }
   ],
   "source": [
    "df_CCEFML_copy[\"NOM_MUN\"][(df_CCEFML_copy[\"NOM_ENT\"] == estado)].unique()"
   ]
  },
  {
   "cell_type": "code",
   "execution_count": 209,
   "metadata": {},
   "outputs": [
    {
     "data": {
      "text/plain": [
       "{'ABASOLO': 1,\n",
       " 'AGUALEGUAS': 2,\n",
       " 'ALLENDE': 4,\n",
       " 'ANAHUAC': 5,\n",
       " 'APODACA': 6,\n",
       " 'ARAMBERRI': 7,\n",
       " 'BUSTAMANTE': 8,\n",
       " 'CADEREYTA JIMENEZ': 9,\n",
       " 'CERRALVO': 11,\n",
       " 'CHINA': 13,\n",
       " 'CIENEGA DE FLORES': 12,\n",
       " 'DOCTOR ARROYO': 14,\n",
       " 'DOCTOR COSS': 15,\n",
       " 'DOCTOR GONZALEZ': 16,\n",
       " 'EL CARMEN': 10,\n",
       " 'GALEANA': 17,\n",
       " 'GARCIA': 18,\n",
       " 'GENERAL BRAVO': 20,\n",
       " 'GENERAL ESCOBEDO': 21,\n",
       " 'GENERAL TERAN': 22,\n",
       " 'GENERAL TREVIÑO': 23,\n",
       " 'GENERAL ZARAGOZA': 24,\n",
       " 'GENERAL ZUAZUA': 25,\n",
       " 'GUADALUPE': 26,\n",
       " 'HIDALGO': 47,\n",
       " 'HIGUERAS': 28,\n",
       " 'HUALAHUISES': 29,\n",
       " 'ITURBIDE': 30,\n",
       " 'JUAREZ': 31,\n",
       " 'LAMPAZOS DE NARANJO': 32,\n",
       " 'LINARES': 33,\n",
       " 'LOS ALDAMAS': 3,\n",
       " 'LOS HERRERAS': 27,\n",
       " 'LOS RAMONES': 42,\n",
       " 'MARIN': 34,\n",
       " 'MELCHOR OCAMPO': 35,\n",
       " 'MIER Y NORIEGA': 36,\n",
       " 'MINA': 37,\n",
       " 'MONTEMORELOS': 38,\n",
       " 'MONTERREY': 39,\n",
       " 'PARAS': 40,\n",
       " 'PESQUERIA': 41,\n",
       " 'RAYONES': 43,\n",
       " 'SABINAS HIDALGO': 44,\n",
       " 'SALINAS VICTORIA': 45,\n",
       " 'SAN NICOLAS DE LOS GARZA': 46,\n",
       " 'SAN PEDRO GARZA GARCIA': 19,\n",
       " 'SANTA CATARINA': 48,\n",
       " 'SANTIAGO': 49,\n",
       " 'VALLECILLO': 50,\n",
       " 'VILLALDAMA': 51}"
      ]
     },
     "execution_count": 209,
     "metadata": {},
     "output_type": "execute_result"
    }
   ],
   "source": [
    "dict_CCEFML_NUEVO_LEON"
   ]
  },
  {
   "cell_type": "code",
   "execution_count": 210,
   "metadata": {},
   "outputs": [
    {
     "data": {
      "text/plain": [
       "array(['ABASOLO', 'AGUALEGUAS', 'LOS ALDAMAS', 'ALLENDE', 'ANAHUAC',\n",
       "       'APODACA', 'ARAMBERRI', 'GENERAL BRAVO', 'BUSTAMANTE',\n",
       "       'CADEREYTA JIMENEZ', 'CERRALVO', 'CHINA', 'CIENEGA DE FLORES',\n",
       "       'DOCTOR ARROYO', 'DOCTOR COSS', 'DOCTOR GONZALEZ', 'EL CARMEN',\n",
       "       'GENERAL ESCOBEDO', 'GALEANA', 'GARCIA', 'GUADALUPE',\n",
       "       'LOS HERRERAS', 'HIDALGO', 'HIGUERAS', 'HUALAHUISES', 'ITURBIDE',\n",
       "       'JUAREZ', 'LAMPAZOS DE NARANJO', 'LINARES', 'MARIN',\n",
       "       'MELCHOR OCAMPO', 'MIER Y NORIEGA', 'MINA', 'MONTEMORELOS',\n",
       "       'MONTERREY', 'PARAS', 'PESQUERIA', 'LOS RAMONES', 'RAYONES',\n",
       "       'SABINAS HIDALGO', 'SALINAS VICTORIA', 'SAN NICOLAS DE LOS GARZA',\n",
       "       'SAN PEDRO GARZA GARCIA', 'SANTA CATARINA', 'SANTIAGO',\n",
       "       'GENERAL TERAN', 'GENERAL TREVIÑO', 'VALLECILLO', 'VILLALDAMA',\n",
       "       'GENERAL ZARAGOZA', 'GENERAL ZUAZUA'], dtype=object)"
      ]
     },
     "execution_count": 210,
     "metadata": {},
     "output_type": "execute_result"
    }
   ],
   "source": [
    "df_copy['MUNICIPIO'][(df_copy['ENTIDAD'] == estado)] = df_copy['MUNICIPIO'][(df_copy['ENTIDAD'] == estado)].replace({'GRAL. BRAVO' : 'GENERAL BRAVO'})\n",
    "df_copy['CVE_MUN'][(df_copy['ENTIDAD'] == estado)] = df_copy['CVE_MUN'][(df_copy['ENTIDAD'] == estado)].replace({'GRAL. BRAVO' : 'GENERAL BRAVO'})\n",
    "\n",
    "df_copy['MUNICIPIO'][(df_copy['ENTIDAD'] == estado)] = df_copy['MUNICIPIO'][(df_copy['ENTIDAD'] == estado)].replace({'GRAL. ESCOBEDO' : 'GENERAL ESCOBEDO'})\n",
    "df_copy['CVE_MUN'][(df_copy['ENTIDAD'] == estado)] = df_copy['CVE_MUN'][(df_copy['ENTIDAD'] == estado)].replace({'GRAL. ESCOBEDO' : 'GENERAL ESCOBEDO'})\n",
    "\n",
    "df_copy['MUNICIPIO'][(df_copy['ENTIDAD'] == estado)] = df_copy['MUNICIPIO'][(df_copy['ENTIDAD'] == estado)].replace({'GRAL. TERAN' : 'GENERAL TERAN'})\n",
    "df_copy['CVE_MUN'][(df_copy['ENTIDAD'] == estado)] = df_copy['CVE_MUN'][(df_copy['ENTIDAD'] == estado)].replace({'GRAL. TERAN' : 'GENERAL TERAN'})\n",
    "\n",
    "df_copy['MUNICIPIO'][(df_copy['ENTIDAD'] == estado)] = df_copy['MUNICIPIO'][(df_copy['ENTIDAD'] == estado)].replace({'GRAL. TREVIÑO' : 'GENERAL TREVIÑO'})\n",
    "df_copy['CVE_MUN'][(df_copy['ENTIDAD'] == estado)] = df_copy['CVE_MUN'][(df_copy['ENTIDAD'] == estado)].replace({'GRAL. TREVIÑO' : 'GENERAL TREVIÑO'})\n",
    "\n",
    "df_copy['MUNICIPIO'][(df_copy['ENTIDAD'] == estado)] = df_copy['MUNICIPIO'][(df_copy['ENTIDAD'] == estado)].replace({'GRAL. ZARAGOZA' : 'GENERAL ZARAGOZA'})\n",
    "df_copy['CVE_MUN'][(df_copy['ENTIDAD'] == estado)] = df_copy['CVE_MUN'][(df_copy['ENTIDAD'] == estado)].replace({'GRAL. ZARAGOZA' : 'GENERAL ZARAGOZA'})\n",
    "\n",
    "df_copy['MUNICIPIO'][(df_copy['ENTIDAD'] == estado)] = df_copy['MUNICIPIO'][(df_copy['ENTIDAD'] == estado)].replace({'GRAL. ZUAZUA' : 'GENERAL ZUAZUA'})\n",
    "df_copy['CVE_MUN'][(df_copy['ENTIDAD'] == estado)] = df_copy['CVE_MUN'][(df_copy['ENTIDAD'] == estado)].replace({'GRAL. ZUAZUA' : 'GENERAL ZUAZUA'})\n",
    "\n",
    "df_copy['MUNICIPIO'][(df_copy['ENTIDAD'] == estado)] = df_copy['MUNICIPIO'][(df_copy['ENTIDAD'] == estado)].replace({'DR. ARROYO' : 'DOCTOR ARROYO'})\n",
    "df_copy['CVE_MUN'][(df_copy['ENTIDAD'] == estado)] = df_copy['CVE_MUN'][(df_copy['ENTIDAD'] == estado)].replace({'DR. ARROYO' : 'DOCTOR ARROYO'})\n",
    "\n",
    "df_copy['MUNICIPIO'][(df_copy['ENTIDAD'] == estado)] = df_copy['MUNICIPIO'][(df_copy['ENTIDAD'] == estado)].replace({'DR. COSS' : 'DOCTOR COSS'})\n",
    "df_copy['CVE_MUN'][(df_copy['ENTIDAD'] == estado)] = df_copy['CVE_MUN'][(df_copy['ENTIDAD'] == estado)].replace({'DR. COSS' : 'DOCTOR COSS'})\n",
    "\n",
    "df_copy['MUNICIPIO'][(df_copy['ENTIDAD'] == estado)] = df_copy['MUNICIPIO'][(df_copy['ENTIDAD'] == estado)].replace({'DR. GONZALEZ' : 'DOCTOR GONZALEZ'})\n",
    "df_copy['CVE_MUN'][(df_copy['ENTIDAD'] == estado)] = df_copy['CVE_MUN'][(df_copy['ENTIDAD'] == estado)].replace({'DR. GONZALEZ' : 'DOCTOR GONZALEZ'})\n",
    "\n",
    "df_copy['MUNICIPIO'][(df_copy['ENTIDAD'] == estado)] = df_copy['MUNICIPIO'][(df_copy['ENTIDAD'] == estado)].replace({'CARMEN' : 'EL CARMEN'})\n",
    "df_copy['CVE_MUN'][(df_copy['ENTIDAD'] == estado)] = df_copy['CVE_MUN'][(df_copy['ENTIDAD'] == estado)].replace({'CARMEN' : 'EL CARMEN'})\n",
    "\n",
    "df_copy['MUNICIPIO'][(df_copy['ENTIDAD'] == estado)].unique()"
   ]
  },
  {
   "cell_type": "code",
   "execution_count": 211,
   "metadata": {},
   "outputs": [
    {
     "data": {
      "text/plain": [
       "array([1.0, 2.0, 3.0, 4.0, 5.0, 6.0, 7.0, 20.0, 8.0, 9.0, 11.0, 13.0, 12.0,\n",
       "       14.0, 15.0, 16.0, 10.0, 21.0, 17.0, 18.0, 26.0, 27.0, 47.0, 28.0,\n",
       "       29.0, 30.0, 31.0, 32.0, 33.0, 34.0, 35.0, 36.0, 37.0, 38.0, 39.0,\n",
       "       40.0, 41.0, 42.0, 43.0, 44.0, 45.0, 46.0, 19.0, 48.0, 49.0, 22.0,\n",
       "       23.0, 50.0, 51.0, 24.0, 25.0], dtype=object)"
      ]
     },
     "execution_count": 211,
     "metadata": {},
     "output_type": "execute_result"
    }
   ],
   "source": [
    "df_copy['CVE_MUN'][(df_copy['ENTIDAD'] == estado)] = df_copy['CVE_MUN'][(df_copy['ENTIDAD'] == estado)].replace(dict_CCEFML_NUEVO_LEON)\n",
    "df_copy['CVE_MUN'][(df_copy['ENTIDAD'] == estado)] = df_copy['CVE_MUN'][(df_copy['ENTIDAD'] == estado)].astype('int64')\n",
    "\n",
    "df_copy['CVE_MUN'][(df_copy['ENTIDAD'] == estado)].unique()"
   ]
  },
  {
   "cell_type": "markdown",
   "metadata": {},
   "source": [
    "### OAXACA"
   ]
  },
  {
   "cell_type": "code",
   "execution_count": 212,
   "metadata": {},
   "outputs": [],
   "source": [
    "estado = \"OAXACA\""
   ]
  },
  {
   "cell_type": "code",
   "execution_count": 213,
   "metadata": {},
   "outputs": [
    {
     "data": {
      "text/plain": [
       "570"
      ]
     },
     "execution_count": 213,
     "metadata": {},
     "output_type": "execute_result"
    }
   ],
   "source": [
    "df_copy[\"MUNICIPIO\"][(df_copy.ENTIDAD == estado)].nunique()"
   ]
  },
  {
   "cell_type": "code",
   "execution_count": 214,
   "metadata": {},
   "outputs": [
    {
     "data": {
      "text/plain": [
       "568"
      ]
     },
     "execution_count": 214,
     "metadata": {},
     "output_type": "execute_result"
    }
   ],
   "source": [
    "df_CCEFML_copy[\"NOM_MUN\"][(df_CCEFML_copy[\"NOM_ENT\"] == estado)].nunique()"
   ]
  },
  {
   "cell_type": "code",
   "execution_count": 215,
   "metadata": {},
   "outputs": [
    {
     "data": {
      "text/plain": [
       "568"
      ]
     },
     "execution_count": 215,
     "metadata": {},
     "output_type": "execute_result"
    }
   ],
   "source": [
    "len(dict_CCEFML_OAXACA)"
   ]
  },
  {
   "cell_type": "code",
   "execution_count": 216,
   "metadata": {},
   "outputs": [
    {
     "data": {
      "text/plain": [
       "array(['OAXACA DE JUAREZ', 'SALINA CRUZ', 'SAN JUAN BAUTISTA TUXTEPEC',\n",
       "       'SAN PEDRO POCHUTLA', 'VILLA DE ETLA', 'SANTA CRUZ XOXOCOTLAN',\n",
       "       'SANTA LUCIA DEL CAMINO', 'TLACOLULA DE MATAMOROS',\n",
       "       'SAN PEDRO MIXTEPEC -DTO. 22 -',\n",
       "       'HEROICA CIUDAD DE HUAJUAPAN DE LEON',\n",
       "       'HEROICA CIUDAD DE JUCHITAN DE ZARAGOZA',\n",
       "       'ACATLAN DE PEREZ FIGUEROA', 'ANIMAS TRUJANO',\n",
       "       'ASUNCION CACALOTEPEC', 'ASUNCION CUYOTEPEJI',\n",
       "       'ASUNCION IXTALTEPEC', 'ASUNCION NOCHIXTLAN', 'ASUNCION OCOTLAN',\n",
       "       'ASUNCION TLACOLULITA', 'AYOQUEZCO DE ALDAMA', 'AYOTZINTEPEC',\n",
       "       'CALIHUALA', 'CANDELARIA LOXICHA', 'CHAHUITES',\n",
       "       'CHALCATONGO DE HIDALGO', 'CHIQUIHUITLAN DE BENITO JUAREZ',\n",
       "       'CIENEGA DE ZIMATLAN', 'CIUDAD IXTEPEC', 'COATECAS ALTAS',\n",
       "       'COICOYAN DE LAS FLORES', 'CONCEPCION BUENAVISTA',\n",
       "       'CONCEPCION PAPALO', 'CONSTANCIA DEL ROSARIO', 'COSOLAPA',\n",
       "       'COSOLTEPEC', 'CUILAPAM DE GUERRERO',\n",
       "       'CUYAMECALCO VILLA DE ZARAGOZA',\n",
       "       'HEROICA CIUDAD DE EJUTLA DE CRESPO', 'EL BARRIO DE LA SOLEDAD',\n",
       "       'EL ESPINAL', 'FRESNILLO DE TRUJANO', 'GUADALUPE ETLA',\n",
       "       'GUADALUPE DE RAMIREZ', 'GUELATAO DE JUAREZ', 'GUEVEA DE HUMBOLDT',\n",
       "       'HEROICA CIUDAD DE TLAXIACO', 'IXPANTEPEC NIEVES',\n",
       "       'HUAUTLA DE JIMENEZ', 'IXTLAN DE JUAREZ', 'LA COMPAÑIA',\n",
       "       'LA TRINIDAD VISTA HERMOSA', 'LA PE', 'LOMA BONITA',\n",
       "       'MAGDALENA APASCO', 'MAGDALENA JALTEPEC', 'MAGDALENA MIXTEPEC',\n",
       "       'MAGDALENA OCOTLAN', 'MAGDALENA PEÑASCO', 'MAGDALENA TEITIPAC',\n",
       "       'MAGDALENA TEQUISISTLAN', 'MAGDALENA TLACOTEPEC',\n",
       "       'MAGDALENA YODOCONO DE PORFIRIO DIAZ', 'MAGDALENA ZAHUATLAN',\n",
       "       'MARISCALA DE JUAREZ', 'MARTIRES DE TACUBAYA',\n",
       "       'MATIAS ROMERO AVENDAÑO', 'MAZATLAN VILLA DE FLORES',\n",
       "       'MESONES HIDALGO', 'MIAHUATLAN DE PORFIRIO DIAZ',\n",
       "       'MIXISTLAN DE LA REFORMA', 'MONJAS', 'NAZARENO ETLA',\n",
       "       'NEJAPA DE MADERO', 'NUEVO ZOQUIAPAM', 'OCOTLAN DE MORELOS',\n",
       "       'PINOTEPA DE DON LUIS', 'PLUMA HIDALGO', 'PUTLA VILLA DE GUERRERO',\n",
       "       'REFORMA DE PINEDA', 'REYES ETLA', 'ROJAS DE CUAUHTEMOC',\n",
       "       'SAN AGUSTIN AMATENGO', 'SAN AGUSTIN ATENANGO',\n",
       "       'SAN AGUSTIN CHAYUCO', 'SAN AGUSTIN DE LAS JUNTAS',\n",
       "       'SAN AGUSTIN ETLA', 'SAN AGUSTIN LOXICHA', 'SAN AGUSTIN TLACOTEPEC',\n",
       "       'SAN AGUSTIN YATARENI', 'SAN ANDRES CABECERA NUEVA',\n",
       "       'SAN ANDRES DINICUITI', 'SAN ANDRES HUAXPALTEPEC',\n",
       "       'SAN ANDRES HUAYAPAM', 'SAN ANDRES IXTLAHUACA', 'SAN ANDRES NUXIÑO',\n",
       "       'SAN ANDRES PAXTLAN', 'SAN ANDRES SINAXTLA',\n",
       "       'SAN ANDRES TEOTILALPAM', 'SAN ANDRES ZABACHE', 'SAN ANDRES ZAUTLA',\n",
       "       'SAN ANTONINO CASTILLO VELASCO', 'SAN ANTONINO MONTE VERDE',\n",
       "       'SAN ANTONIO ACUTLA', 'SAN ANTONIO DE LA CAL',\n",
       "       'SAN ANTONINO EL ALTO', 'ELOXOCHITLAN DE FLORES MAGON',\n",
       "       'SAN ANTONIO HUITEPEC', 'SAN ANTONIO NANAHUATIPAM',\n",
       "       'SAN ANTONIO SINICAHUA', 'SAN ANTONIO TEPETLAPA',\n",
       "       'SAN BALTAZAR CHICHICAPAM', 'SAN BALTAZAR LOXICHA',\n",
       "       'SAN BALTAZAR YATZACHI EL BAJO', 'SAN BARTOLOME AYAUTLA',\n",
       "       'SAN BARTOLO COYOTEPEC', 'SAN BARTOLO SOYALTEPEC',\n",
       "       'SAN BARTOLO YAUTEPEC', 'SAN BARTOLOME LOXICHA',\n",
       "       'SAN BARTOLOME QUIALANA', 'SAN BARTOLOME YUCUAÑE',\n",
       "       'SAN BARTOLOME ZOOGOCHO', 'SAN BERNARDO MIXTEPEC',\n",
       "       'SAN BLAS ATEMPA', 'SAN CARLOS YAUTEPEC', 'SAN CRISTOBAL AMATLAN',\n",
       "       'SAN CRISTOBAL AMOLTEPEC', 'SAN CRISTOBAL LACHIRIOAG',\n",
       "       'SAN CRISTOBAL SUCHIXTLAHUACA', 'SAN DIONISIO DEL MAR',\n",
       "       'SAN DIONISIO OCOTEPEC', 'SAN DIONISIO OCOTLAN',\n",
       "       'SAN ESTEBAN ATATLAHUCA', 'SAN FELIPE JALAPA DE DIAZ',\n",
       "       'SAN FELIPE TEJALAPAM', 'SAN FELIPE USILA',\n",
       "       'SAN FRANCISCO CAHUACUA', 'SAN FRANCISCO CHINDUA',\n",
       "       'SAN FRANCISCO DEL MAR', 'SAN FRANCISCO HUEHUETLAN',\n",
       "       'SAN FRANCISCO IXHUATAN', 'SAN FRANCISCO JALTEPETONGO',\n",
       "       'SAN FRANCISCO LACHIGOLO', 'SAN FRANCISCO NUXAÑO',\n",
       "       'SAN FRANCISCO OZOLOTEPEC', 'SAN FRANCISCO SOLA',\n",
       "       'SAN FRANCISCO TELIXTLAHUACA', 'SAN FRANCISCO TLAPANCINGO',\n",
       "       'SAN GABRIEL MIXTEPEC', 'SAN ILDEFONSO AMATLAN',\n",
       "       'SAN ILDEFONSO SOLA', 'SAN ILDEFONSO VILLA ALTA',\n",
       "       'SAN JACINTO AMILPAS', 'SAN JACINTO TLACOTEPEC',\n",
       "       'SAN JERONIMO COATLAN', 'SAN JERONIMO SILACAYOAPILLA',\n",
       "       'SAN JERONIMO SOSOLA', 'SAN JERONIMO TAVICHE',\n",
       "       'SAN JERONIMO TECOATL', 'SAN JERONIMO TLACOCHAHUAYA',\n",
       "       'SAN JORGE NUCHITA', 'SAN JOSE AYUQUILA', 'SAN JOSE CHILTEPEC',\n",
       "       'SAN JOSE DEL PEÑASCO', 'SAN JOSE DEL PROGRESO',\n",
       "       'SAN JOSE ESTANCIA GRANDE', 'SAN JOSE INDEPENDENCIA',\n",
       "       'SAN JOSE LACHIGUIRI', 'SAN JOSE TENANGO', 'SAN JUAN ACHIUTLA',\n",
       "       'SAN JUAN BAUTISTA ATATLAHUCA', 'SAN JUAN ATEPEC',\n",
       "       'SAN JUAN BAUTISTA COIXTLAHUACA', 'SAN JUAN BAUTISTA CUICATLAN',\n",
       "       'SAN JUAN BAUTISTA GUELACHE', 'SAN JUAN BAUTISTA JAYACATLAN',\n",
       "       'SAN JUAN BAUTISTA LO DE SOTO', 'SAN JUAN BAUTISTA SUCHITEPEC',\n",
       "       'SAN JUAN BAUTISTA TLACOATZINTEPEC',\n",
       "       'SAN JUAN BAUTISTA VALLE NACIONAL', 'SAN JUAN CACAHUATEPEC',\n",
       "       'SAN JUAN CHICOMEZUCHIL', 'SAN JUAN CHILATECA',\n",
       "       'SAN JUAN COATZOSPAM', 'SAN JUAN COLORADO', 'SAN JUAN COMALTEPEC',\n",
       "       'SAN JUAN COTZOCON', 'SAN JUAN DE LOS CUES', 'SAN JUAN DEL ESTADO',\n",
       "       'SAN JUAN DEL RIO', 'SAN JUAN DIUXI', 'SAN JUAN EVANGELISTA ANALCO',\n",
       "       'SAN JUAN GUELAVIA', 'SAN JUAN GUICHICOVI', 'SAN JUAN IHUALTEPEC',\n",
       "       'SAN JUAN JUQUILA MIXES', 'SAN JUAN JUQUILA VIJANOS',\n",
       "       'SAN JUAN LACHAO', 'SAN JUAN LACHIGALLA', 'SAN JUAN LALANA',\n",
       "       'SAN JUAN MAZATLAN', 'SAN JUAN MIXTEPEC -DTO. 26 -',\n",
       "       'SAN JUAN ÑUMI', 'SAN JUAN OZOLOTEPEC', 'SAN JUAN PETLAPA',\n",
       "       'SAN JUAN QUIAHIJE', 'SAN JUAN QUIOTEPEC', 'SAN JUAN SAYULTEPEC',\n",
       "       'SAN JUAN TABAA', 'SAN JUAN TAMAZOLA', 'SAN JUAN TEITA',\n",
       "       'SAN JUAN TEITIPAC', 'SAN JUAN TEPEUXILA', 'SAN JUAN TEPOSCOLULA',\n",
       "       'SAN JUAN YAEE', 'SAN JUAN YUCUITA', 'SAN LORENZO',\n",
       "       'SAN LORENZO ALBARRADAS', 'SAN LORENZO CACAOTEPEC',\n",
       "       'SAN LORENZO TEXMELUCAN', 'SAN LORENZO VICTORIA',\n",
       "       'SAN LUCAS CAMOTLAN', 'SAN LUCAS OJITLAN', 'SAN LUCAS QUIAVINI',\n",
       "       'SAN LUCAS ZOQUIAPAM', 'SAN LUIS AMATLAN', 'SAN MARCOS ARTEAGA',\n",
       "       'SAN MARCIAL OZOLOTEPEC', 'SAN MARTIN DE LOS CANSECOS',\n",
       "       'SAN MARTIN HUAMELULPAM', 'SAN MARTIN ITUNYOSO',\n",
       "       'SAN MARTIN LACHILA', 'SAN MARTIN PERAS', 'SAN MARTIN TILCAJETE',\n",
       "       'SAN MARTIN TOXPALAN', 'SAN MARTIN ZACATEPEC', 'SAN MATEO DEL MAR',\n",
       "       'SAN MATEO ETLATONGO', 'SAN MATEO NEJAPAM', 'SAN MATEO PEÑASCO',\n",
       "       'SAN MATEO PIÑAS', 'SAN MATEO RIO HONDO', 'SAN MATEO TLAPILTEPEC',\n",
       "       'SAN MATEO SINDIHUI', 'SAN MATEO YOLOXOCHITLAN',\n",
       "       'ZAPOTITLAN DEL RIO', 'SAN MIGUEL ACHIUTLA',\n",
       "       'SAN MIGUEL AHUEHUETITLAN', 'SAN MIGUEL ALOAPAM',\n",
       "       'SAN MIGUEL AMATITLAN', 'SAN MIGUEL AMATLAN', 'SAN MIGUEL CHICAHUA',\n",
       "       'SAN MIGUEL CHIMALAPA', 'SAN MIGUEL COATLAN',\n",
       "       'SAN MIGUEL DEL PUERTO', 'SAN MIGUEL EJUTLA',\n",
       "       'SAN MIGUEL EL GRANDE', 'HUAUTEPEC', 'SAN MIGUEL HUAUTLA',\n",
       "       'SAN MIGUEL MIXTEPEC', 'SAN MIGUEL PANIXTLAHUACA',\n",
       "       'SAN MIGUEL PERAS', 'SAN MIGUEL QUETZALTEPEC',\n",
       "       'SAN MIGUEL SANTA FLOR', 'SAN MIGUEL SOYALTEPEC',\n",
       "       'SAN MIGUEL SUCHIXTEPEC', 'SAN MIGUEL TECOMATLAN',\n",
       "       'SAN MIGUEL TENANGO', 'SAN MIGUEL TEQUIXTEPEC',\n",
       "       'SAN MIGUEL TILQUIAPAM', 'SAN MIGUEL TLACAMAMA',\n",
       "       'SAN MIGUEL TLACOTEPEC', 'SAN NICOLAS', 'SAN NICOLAS HIDALGO',\n",
       "       'SAN PABLO COATLAN', 'SAN PABLO ETLA', 'SAN PABLO HUITZO',\n",
       "       'SAN PABLO HUIXTEPEC', 'SAN PABLO MACUILTIANGUIS',\n",
       "       'SAN PABLO VILLA DE MITLA', 'SAN PABLO YAGANIZA',\n",
       "       'SAN PEDRO AMUZGOS', 'SAN PEDRO APOSTOL', 'SAN PEDRO ATOYAC',\n",
       "       'SAN PEDRO CAJONOS', 'SAN PEDRO COMITANCILLO', 'SAN PEDRO EL ALTO',\n",
       "       'SAN PEDRO HUAMELULA', 'SAN PEDRO HUILOTEPEC', 'SAN PEDRO IXCATLAN',\n",
       "       'SAN PEDRO IXTLAHUACA', 'SAN PEDRO JALTEPETONGO',\n",
       "       'SAN PEDRO JICAYAN', 'SAN PEDRO JUCHATENGO', 'SAN PEDRO MARTIR',\n",
       "       'SAN PEDRO MOLINOS', 'SAN PEDRO MARTIR QUIECHAPA',\n",
       "       'SAN PEDRO MARTIR YUCUXACO', 'SAN PEDRO NOPALA',\n",
       "       'SAN PEDRO OCOPETATILLO', 'SAN PEDRO OCOTEPEC',\n",
       "       'SAN PEDRO QUIATONI', 'SAN PEDRO SOCHIAPAM',\n",
       "       'SAN PEDRO TAPANATEPEC', 'SAN PEDRO TAVICHE', 'SAN PEDRO TEUTILA',\n",
       "       'SAN PEDRO TEOZACOALCO', 'SAN PEDRO TIDAA', 'SAN PEDRO TOTOLAPAM',\n",
       "       'SAN PEDRO Y SAN PABLO AYUTLA', 'SAN PEDRO Y SAN PABLO TEPOSCOLULA',\n",
       "       'SAN PEDRO Y SAN PABLO TEQUIXTEPEC', 'SAN PEDRO YANERI',\n",
       "       'SAN PEDRO YOLOX', 'SAN PEDRO YUCUNAMA', 'SAN RAYMUNDO JALPAN',\n",
       "       'SAN SEBASTIAN ABASOLO', 'SAN SEBASTIAN COATLAN',\n",
       "       'SAN SEBASTIAN IXCAPA', 'SAN SEBASTIAN NICANANDUTA',\n",
       "       'SAN SEBASTIAN RIO HONDO', 'SAN SEBASTIAN TECOMAXTLAHUACA',\n",
       "       'SAN SEBASTIAN TEITIPAC', 'SAN SEBASTIAN TUTLA',\n",
       "       'SAN SIMON ALMOLONGAS', 'SAN SIMON ZAHUATLAN',\n",
       "       'SAN VICENTE COATLAN', 'SAN VICENTE LACHIXIO', 'SANTA ANA',\n",
       "       'SANTA ANA CUAUHTEMOC', 'SANTA ANA ATEIXTLAHUACA',\n",
       "       'SANTA ANA DEL VALLE', 'SANTA ANA TLAPACOYAN', 'SANTA ANA ZEGACHE',\n",
       "       'SANTA CATARINA CUIXTLA', 'SANTA CATARINA IXTEPEJI',\n",
       "       'SANTA CATARINA JUQUILA', 'SANTA CATARINA LACHATAO',\n",
       "       'SANTA CATARINA LOXICHA', 'SANTA CATARINA MECHOACAN',\n",
       "       'SANTA CATARINA MINAS', 'SANTA CATARINA QUIANE',\n",
       "       'SANTA CATALINA QUIERI', 'SANTA CATARINA QUIOQUITANI',\n",
       "       'SANTA CATARINA TAYATA', 'SANTA CATARINA TICUA',\n",
       "       'SANTA CATARINA YOSONOTU', 'SANTA CATARINA ZAPOQUILA',\n",
       "       'SANTA CRUZ ACATEPEC', 'SANTA CRUZ AMILPAS', 'SANTA CRUZ ITUNDUJIA',\n",
       "       'SANTA CRUZ MIXTEPEC', 'SANTA CRUZ NUNDACO', 'SANTA CRUZ PAPALUTLA',\n",
       "       'SANTA CRUZ TACACHE DE MINA', 'SANTA CRUZ TACAHUA',\n",
       "       'SANTA CRUZ TAYATA', 'SANTA CRUZ XITLA', 'SANTA CRUZ ZENZONTEPEC',\n",
       "       'SANTA GERTRUDIS', 'SANTA INES DE ZARAGOZA', 'SANTA INES DEL MONTE',\n",
       "       'SANTA INES YATZECHE', 'SANTA LUCIA MIAHUATLAN',\n",
       "       'SANTA LUCIA MONTEVERDE', 'SANTA LUCIA OCOTLAN',\n",
       "       'SANTA MARIA ALOTEPEC', 'SANTA MARIA APAZCO', 'SANTA MARIA ATZOMPA',\n",
       "       'SANTA MARIA CAMOTLAN', 'SANTA MARIA CHACHOAPAM',\n",
       "       'SANTA MARIA CHILCHOTLA', 'SANTA MARIA CHIMALAPA',\n",
       "       'SANTA MARIA COLOTEPEC', 'SANTA MARIA CORTIJO',\n",
       "       'SANTA MARIA COYOTEPEC', 'SANTA MARIA DEL ROSARIO',\n",
       "       'SANTA MARIA DEL TULE', 'SANTA MARIA ECATEPEC',\n",
       "       'SANTA MARIA GUIENAGATI', 'SANTA MARIA GUELACE',\n",
       "       'SANTA MARIA HUATULCO', 'SANTA MARIA HUAZOLOTITLAN',\n",
       "       'SANTA MARIA IPALAPA', 'SANTA MARIA JACATEPEC',\n",
       "       'SANTA MARIA NATIVITAS', 'SANTA MARIA JALAPA DEL MARQUES',\n",
       "       'SANTA MARIA LA ASUNCION', 'SANTA MARIA LACHIXIO',\n",
       "       'SANTA MARIA MIXTEQUILLA', 'SANTA MARIA NDUAYACO',\n",
       "       'SANTA MARIA OZOLOTEPEC', 'SANTA MARIA PAPALO',\n",
       "       'SANTA MARIA PEÑOLES', 'SANTA MARIA PETAPA', 'SANTA MARIA SOLA',\n",
       "       'SANTA MARIA TECOMAVACA', 'SANTA MARIA TEMAXCALAPA',\n",
       "       'SANTA MARIA TEMAXCALTEPEC', 'SANTA MARIA TEOPOXCO',\n",
       "       'SANTA MARIA TEPANTLALI', 'SANTA MARIA TLAHUITOLTEPEC',\n",
       "       'SANTA MARIA TLALIXTAC', 'SANTA MARIA TONAMECA',\n",
       "       'SANTA MARIA TOTOLAPILLA', 'SANTA MARIA XADANI',\n",
       "       'SANTA MARIA YALINA', 'SANTA MARIA YOLOTEPEC',\n",
       "       'SANTA MARIA YUCUHITI', 'SANTA MARIA ZACATEPEC',\n",
       "       'SANTA MARIA ZOQUITLAN', 'SANTIAGO AMOLTEPEC', 'SANTIAGO APOALA',\n",
       "       'SANTIAGO APOSTOL', 'SANTIAGO ASTATA', 'SANTIAGO AYUQUILILLA',\n",
       "       'SANTIAGO CACALOXTEPEC', 'SANTIAGO CAMOTLAN', 'SANTIAGO CHAZUMBA',\n",
       "       'SANTIAGO CHOAPAM', 'SANTIAGO COMALTEPEC', 'SANTIAGO DEL RIO',\n",
       "       'SANTIAGO HUAUCLILLA', 'SANTIAGO HUAJOLOTITLAN',\n",
       "       'SANTIAGO IHUITLAN PLUMAS', 'SANTIAGO IXCUINTEPEC',\n",
       "       'SANTIAGO IXTAYUTLA', 'SANTIAGO JAMILTEPEC', 'SANTIAGO JOCOTEPEC',\n",
       "       'SANTIAGO JUXTLAHUACA', 'SANTIAGO LACHIGUIRI', 'SANTIAGO LAOLLAGA',\n",
       "       'SANTIAGO LALOPA', 'SANTIAGO LAXOPA', 'SANTIAGO LLANO GRANDE',\n",
       "       'SANTIAGO MATATLAN', 'SANTIAGO MILTEPEC', 'SANTIAGO MINAS',\n",
       "       'SANTIAGO NACALTEPEC', 'SANTIAGO NILTEPEC', 'SANTIAGO NUNDICHE',\n",
       "       'SANTIAGO PINOTEPA NACIONAL', 'SANTIAGO SUCHILQUITONGO',\n",
       "       'SANTIAGO TAMAZOLA', 'SANTIAGO TAPEXTLA', 'SANTIAGO TENANGO',\n",
       "       'TEOTONGO', 'SANTIAGO TETEPEC', 'SANTIAGO TEXCALCINGO',\n",
       "       'SANTIAGO TEXTITLAN', 'SANTIAGO TILANTONGO', 'SANTIAGO TILLO',\n",
       "       'SANTIAGO TLAZOYALTEPEC', 'SANTIAGO XANICA', 'SANTIAGO XIACUI',\n",
       "       'SANTIAGO YAITEPEC', 'SANTIAGO YAVEO', 'SANTIAGO YOLOMECATL',\n",
       "       'SANTIAGO YOSONDUA', 'SANTIAGO YUCUYACHI', 'SANTIAGO ZACATEPEC',\n",
       "       'SANTIAGO ZOOCHILA', 'SANTO DOMINGO ALBARRADAS',\n",
       "       'SANTO DOMINGO ARMENTA', 'SANTO DOMINGO CHIHUITAN',\n",
       "       'SANTO DOMINGO DE MORELOS', 'SANTO DOMINGO INGENIO',\n",
       "       'SANTO DOMINGO IXCATLAN', 'SANTO DOMINGO NUXAA',\n",
       "       'SANTO DOMINGO PETAPA', 'SANTO DOMINGO TEHUANTEPEC',\n",
       "       'SANTO DOMINGO TEOJOMULCO', 'SANTO DOMINGO TEPUXTEPEC',\n",
       "       'SANTO DOMINGO TOMALTEPEC', 'SANTO DOMINGO TONALA',\n",
       "       'SANTO DOMINGO TONALTEPEC', 'SANTO DOMINGO YANHUITLAN',\n",
       "       'SANTO DOMINGO ZANATEPEC', 'SANTO TOMAS JALIEZA',\n",
       "       'SANTO TOMAS MAZALTEPEC', 'SANTO TOMAS OCOTEPEC',\n",
       "       'SANTO TOMAS TAMAZULAPAN', 'SANTOS REYES NOPALA',\n",
       "       'SANTOS REYES TEPEJILLO', 'SANTOS REYES YUCUNA', 'SILACAYOAPAM',\n",
       "       'SITIO DE XITLAPEHUA', 'SOLEDAD ETLA',\n",
       "       'TAMAZULAPAM DEL ESPIRITU SANTO', 'TANETZE DE ZARAGOZA', 'TANICHE',\n",
       "       'TATALTEPEC DE VALDES', 'TEOCOCUILCO DE MARCOS PEREZ',\n",
       "       'TEOTITLAN DE FLORES MAGON', 'TEOTITLAN DEL VALLE',\n",
       "       'TEPELMEME VILLA DE MORELOS', 'TEZOATLAN DE SEGURA Y LUNA',\n",
       "       'TLACOTEPEC PLUMAS', 'TLALIXTAC DE CABRERA',\n",
       "       'TOTONTEPEC VILLA DE MORELOS', 'TRINIDAD ZAACHILA', 'UNION HIDALGO',\n",
       "       'VALERIO TRUJANO', 'VILLA DE CHILAPA DE DIAZ',\n",
       "       'VILLA DE TAMAZULAPAM DEL PROGRESO',\n",
       "       'VILLA DE TUTUTEPEC DE MELCHOR OCAMPO', 'VILLA DE ZAACHILA',\n",
       "       'VILLA DIAZ ORDAZ', 'VILLA SOLA DE VEGA', 'VILLA TALEA DE CASTRO',\n",
       "       'VILLA TEJUPAM DE LA UNION', 'YAXE', 'YOGANA',\n",
       "       'YUTANDUCHI DE GUERRERO', 'ZAPOTITLAN LAGUNAS', 'ZAPOTITLAN PALMAS',\n",
       "       'ZIMATLAN DE ALVAREZ', 'ABEJONES', 'CAPULALPAM DE MENDEZ',\n",
       "       'LA REFORMA', 'SAN ANDRES LAGUNAS', 'SAN ANDRES SOLAGA',\n",
       "       'NATIVIDAD', 'SAN ANDRES TEPETLAPA', 'SAN ANDRES YAA',\n",
       "       'SAN FRANCISCO CAJONOS', 'SAN FRANCISCO CHAPULAPA',\n",
       "       'SAN FRANCISCO LOGUECHE', 'SAN FRANCISCO TEOPAN',\n",
       "       'SAN JUAN BAUTISTA TLACHICHILCO', 'SAN JUAN CIENEGUILLA',\n",
       "       'SAN JUAN LAJARCIA', 'SAN JUAN MIXTEPEC -DTO. 08 -',\n",
       "       'SAN JUAN YATZONA', 'SAN LORENZO CUAUNECUILTITLA',\n",
       "       'SAN MATEO CAJONOS', 'SAN MELCHOR BETAZA', 'SAN MIGUEL DEL RIO',\n",
       "       'SAN MIGUEL PIEDRAS', 'SAN MIGUEL TULANCINGO', 'SAN MIGUEL YOTAO',\n",
       "       'SAN PABLO CUATRO VENADOS', 'SAN PABLO TIJALTEPEC',\n",
       "       'SAN PEDRO COXCALTEPEC CANTAROS', 'SAN PEDRO JOCOTIPAC',\n",
       "       'SAN PEDRO TOPILTEPEC', 'SAN VICENTE NUÑU', 'SANTA ANA TAVELA',\n",
       "       'SANTA ANA YARENI', 'SANTA CRUZ DE BRAVO',\n",
       "       'SANTA MAGDALENA JICOTLAN', 'SANTA MARIA IXCATLAN',\n",
       "       'SANTA MARIA JALTIANGUIS', 'SANTA MARIA QUIEGOLANI',\n",
       "       'SANTA MARIA TATALTEPEC', 'SANTA MARIA TEXCATITLAN',\n",
       "       'SANTA MARIA YAVESIA', 'SANTA MARIA YOSOYUA', 'SANTA MARIA ZANIZA',\n",
       "       'SANTIAGO ATITLAN', 'SANTIAGO NEJAPILLA', 'SANTIAGO NUYOO',\n",
       "       'SANTIAGO TEPETLAPA', 'SANTO DOMINGO OZOLOTEPEC',\n",
       "       'SANTO DOMINGO ROAYAGA', 'SANTO DOMINGO TLATAYAPAM',\n",
       "       'SANTO DOMINGO XAGACIA', 'SANTO DOMINGO YODOHINO',\n",
       "       'SANTOS REYES PAPALO', 'VILLA HIDALGO',\n",
       "       'SAN PEDRO MIXTEPEC -DTO. 26 -'], dtype=object)"
      ]
     },
     "execution_count": 216,
     "metadata": {},
     "output_type": "execute_result"
    }
   ],
   "source": [
    "df_copy[\"MUNICIPIO\"][(df_copy.ENTIDAD == estado)].unique()"
   ]
  },
  {
   "cell_type": "code",
   "execution_count": 217,
   "metadata": {},
   "outputs": [
    {
     "data": {
      "text/plain": [
       "array(['ABEJONES', 'ACATLAN DE PEREZ FIGUEROA', 'ASUNCION CACALOTEPEC',\n",
       "       'ASUNCION CUYOTEPEJI', 'ASUNCION IXTALTEPEC', 'ASUNCION NOCHIXTLAN',\n",
       "       'ASUNCION OCOTLAN', 'ASUNCION TLACOLULITA', 'AYOTZINTEPEC',\n",
       "       'EL BARRIO DE LA SOLEDAD', 'CALIHUALA', 'CANDELARIA LOXICHA',\n",
       "       'CIENEGA DE ZIMATLAN', 'CIUDAD IXTEPEC', 'COATECAS ALTAS',\n",
       "       'COICOYAN DE LAS FLORES', 'LA COMPAÑIA', 'CONCEPCION BUENAVISTA',\n",
       "       'CONCEPCION PAPALO', 'CONSTANCIA DEL ROSARIO', 'COSOLAPA',\n",
       "       'COSOLTEPEC', 'CUILAPAM DE GUERRERO',\n",
       "       'CUYAMECALCO VILLA DE ZARAGOZA', 'CHAHUITES',\n",
       "       'CHALCATONGO DE HIDALGO', 'CHIQUIHUITLAN DE BENITO JUAREZ',\n",
       "       'HEROICA CIUDAD DE EJUTLA DE CRESPO',\n",
       "       'ELOXOCHITLAN DE FLORES MAGON', 'EL ESPINAL',\n",
       "       'TAMAZULAPAM DEL ESPIRITU SANTO', 'FRESNILLO DE TRUJANO',\n",
       "       'GUADALUPE ETLA', 'GUADALUPE DE RAMIREZ', 'GUELATAO DE JUAREZ',\n",
       "       'GUEVEA DE HUMBOLDT', 'MESONES HIDALGO', 'VILLA HIDALGO',\n",
       "       'HEROICA CIUDAD DE HUAJUAPAN DE LEON', 'HUAUTEPEC',\n",
       "       'HUAUTLA DE JIMENEZ', 'IXTLAN DE JUAREZ',\n",
       "       'HEROICA CIUDAD DE JUCHITAN DE ZARAGOZA', 'LOMA BONITA',\n",
       "       'MAGDALENA APASCO', 'MAGDALENA JALTEPEC',\n",
       "       'SANTA MAGDALENA JICOTLAN', 'MAGDALENA MIXTEPEC',\n",
       "       'MAGDALENA OCOTLAN', 'MAGDALENA PEÑASCO', 'MAGDALENA TEITIPAC',\n",
       "       'MAGDALENA TEQUISISTLAN', 'MAGDALENA TLACOTEPEC',\n",
       "       'MAGDALENA ZAHUATLAN', 'MARISCALA DE JUAREZ',\n",
       "       'MARTIRES DE TACUBAYA', 'MATIAS ROMERO AVENDAÑO',\n",
       "       'MAZATLAN VILLA DE FLORES', 'MIAHUATLAN DE PORFIRIO DIAZ',\n",
       "       'MIXISTLAN DE LA REFORMA', 'MONJAS', 'NATIVIDAD', 'NAZARENO ETLA',\n",
       "       'NEJAPA DE MADERO', 'IXPANTEPEC NIEVES', 'SANTIAGO NILTEPEC',\n",
       "       'OAXACA DE JUAREZ', 'OCOTLAN DE MORELOS', 'LA PE',\n",
       "       'PINOTEPA DE DON LUIS', 'PLUMA HIDALGO', 'SAN JOSE DEL PROGRESO',\n",
       "       'PUTLA VILLA DE GUERRERO', 'SANTA CATARINA QUIOQUITANI',\n",
       "       'REFORMA DE PINEDA', 'LA REFORMA', 'REYES ETLA',\n",
       "       'ROJAS DE CUAUHTEMOC', 'SALINA CRUZ', 'SAN AGUSTIN AMATENGO',\n",
       "       'SAN AGUSTIN ATENANGO', 'SAN AGUSTIN CHAYUCO',\n",
       "       'SAN AGUSTIN DE LAS JUNTAS', 'SAN AGUSTIN ETLA',\n",
       "       'SAN AGUSTIN LOXICHA', 'SAN AGUSTIN TLACOTEPEC',\n",
       "       'SAN AGUSTIN YATARENI', 'SAN ANDRES CABECERA NUEVA',\n",
       "       'SAN ANDRES DINICUITI', 'SAN ANDRES HUAXPALTEPEC',\n",
       "       'SAN ANDRES HUAYAPAM', 'SAN ANDRES IXTLAHUACA',\n",
       "       'SAN ANDRES LAGUNAS', 'SAN ANDRES NUXIÑO', 'SAN ANDRES PAXTLAN',\n",
       "       'SAN ANDRES SINAXTLA', 'SAN ANDRES SOLAGA',\n",
       "       'SAN ANDRES TEOTILALPAM', 'SAN ANDRES TEPETLAPA', 'SAN ANDRES YAA',\n",
       "       'SAN ANDRES ZABACHE', 'SAN ANDRES ZAUTLA',\n",
       "       'SAN ANTONINO CASTILLO VELASCO', 'SAN ANTONINO EL ALTO',\n",
       "       'SAN ANTONINO MONTE VERDE', 'SAN ANTONIO ACUTLA',\n",
       "       'SAN ANTONIO DE LA CAL', 'SAN ANTONIO HUITEPEC',\n",
       "       'SAN ANTONIO NANAHUATIPAM', 'SAN ANTONIO SINICAHUA',\n",
       "       'SAN ANTONIO TEPETLAPA', 'SAN BALTAZAR CHICHICAPAM',\n",
       "       'SAN BALTAZAR LOXICHA', 'SAN BALTAZAR YATZACHI EL BAJO',\n",
       "       'SAN BARTOLO COYOTEPEC', 'SAN BARTOLOME AYAUTLA',\n",
       "       'SAN BARTOLOME LOXICHA', 'SAN BARTOLOME QUIALANA',\n",
       "       'SAN BARTOLOME YUCUAÑE', 'SAN BARTOLOME ZOOGOCHO',\n",
       "       'SAN BARTOLO SOYALTEPEC', 'SAN BARTOLO YAUTEPEC',\n",
       "       'SAN BERNARDO MIXTEPEC', 'SAN BLAS ATEMPA', 'SAN CARLOS YAUTEPEC',\n",
       "       'SAN CRISTOBAL AMATLAN', 'SAN CRISTOBAL AMOLTEPEC',\n",
       "       'SAN CRISTOBAL LACHIRIOAG', 'SAN CRISTOBAL SUCHIXTLAHUACA',\n",
       "       'SAN DIONISIO DEL MAR', 'SAN DIONISIO OCOTEPEC',\n",
       "       'SAN DIONISIO OCOTLAN', 'SAN ESTEBAN ATATLAHUCA',\n",
       "       'SAN FELIPE JALAPA DE DIAZ', 'SAN FELIPE TEJALAPAM',\n",
       "       'SAN FELIPE USILA', 'SAN FRANCISCO CAHUACUA',\n",
       "       'SAN FRANCISCO CAJONOS', 'SAN FRANCISCO CHAPULAPA',\n",
       "       'SAN FRANCISCO CHINDUA', 'SAN FRANCISCO DEL MAR',\n",
       "       'SAN FRANCISCO HUEHUETLAN', 'SAN FRANCISCO IXHUATAN',\n",
       "       'SAN FRANCISCO JALTEPETONGO', 'SAN FRANCISCO LACHIGOLO',\n",
       "       'SAN FRANCISCO LOGUECHE', 'SAN FRANCISCO NUXAÑO',\n",
       "       'SAN FRANCISCO OZOLOTEPEC', 'SAN FRANCISCO SOLA',\n",
       "       'SAN FRANCISCO TELIXTLAHUACA', 'SAN FRANCISCO TEOPAN',\n",
       "       'SAN FRANCISCO TLAPANCINGO', 'SAN GABRIEL MIXTEPEC',\n",
       "       'SAN ILDEFONSO AMATLAN', 'SAN ILDEFONSO SOLA',\n",
       "       'SAN ILDEFONSO VILLA ALTA', 'SAN JACINTO AMILPAS',\n",
       "       'SAN JACINTO TLACOTEPEC', 'SAN JERONIMO COATLAN',\n",
       "       'SAN JERONIMO SILACAYOAPILLA', 'SAN JERONIMO SOSOLA',\n",
       "       'SAN JERONIMO TAVICHE', 'SAN JERONIMO TECOATL', 'SAN JORGE NUCHITA',\n",
       "       'SAN JOSE AYUQUILA', 'SAN JOSE CHILTEPEC', 'SAN JOSE DEL PEÑASCO',\n",
       "       'SAN JOSE ESTANCIA GRANDE', 'SAN JOSE INDEPENDENCIA',\n",
       "       'SAN JOSE LACHIGUIRI', 'SAN JOSE TENANGO', 'SAN JUAN ACHIUTLA',\n",
       "       'SAN JUAN ATEPEC', 'ANIMAS TRUJANO', 'SAN JUAN BAUTISTA ATATLAHUCA',\n",
       "       'SAN JUAN BAUTISTA COIXTLAHUACA', 'SAN JUAN BAUTISTA CUICATLAN',\n",
       "       'SAN JUAN BAUTISTA GUELACHE', 'SAN JUAN BAUTISTA JAYACATLAN',\n",
       "       'SAN JUAN BAUTISTA LO DE SOTO', 'SAN JUAN BAUTISTA SUCHITEPEC',\n",
       "       'SAN JUAN BAUTISTA TLACOATZINTEPEC',\n",
       "       'SAN JUAN BAUTISTA TLACHICHILCO', 'SAN JUAN BAUTISTA TUXTEPEC',\n",
       "       'SAN JUAN CACAHUATEPEC', 'SAN JUAN CIENEGUILLA',\n",
       "       'SAN JUAN COATZOSPAM', 'SAN JUAN COLORADO', 'SAN JUAN COMALTEPEC',\n",
       "       'SAN JUAN COTZOCON', 'SAN JUAN CHICOMEZUCHIL', 'SAN JUAN CHILATECA',\n",
       "       'SAN JUAN DEL ESTADO', 'SAN JUAN DEL RIO', 'SAN JUAN DIUXI',\n",
       "       'SAN JUAN EVANGELISTA ANALCO', 'SAN JUAN GUELAVIA',\n",
       "       'SAN JUAN GUICHICOVI', 'SAN JUAN IHUALTEPEC',\n",
       "       'SAN JUAN JUQUILA MIXES', 'SAN JUAN JUQUILA VIJANOS',\n",
       "       'SAN JUAN LACHAO', 'SAN JUAN LACHIGALLA', 'SAN JUAN LAJARCIA',\n",
       "       'SAN JUAN LALANA', 'SAN JUAN DE LOS CUES', 'SAN JUAN MAZATLAN',\n",
       "       'SAN JUAN MIXTEPEC', 'SAN JUAN ÑUMI', 'SAN JUAN OZOLOTEPEC',\n",
       "       'SAN JUAN PETLAPA', 'SAN JUAN QUIAHIJE', 'SAN JUAN QUIOTEPEC',\n",
       "       'SAN JUAN SAYULTEPEC', 'SAN JUAN TABAA', 'SAN JUAN TAMAZOLA',\n",
       "       'SAN JUAN TEITA', 'SAN JUAN TEITIPAC', 'SAN JUAN TEPEUXILA',\n",
       "       'SAN JUAN TEPOSCOLULA', 'SAN JUAN YAEE', 'SAN JUAN YATZONA',\n",
       "       'SAN JUAN YUCUITA', 'SAN LORENZO', 'SAN LORENZO ALBARRADAS',\n",
       "       'SAN LORENZO CACAOTEPEC', 'SAN LORENZO CUAUNECUILTITLA',\n",
       "       'SAN LORENZO TEXMELUCAN', 'SAN LORENZO VICTORIA',\n",
       "       'SAN LUCAS CAMOTLAN', 'SAN LUCAS OJITLAN', 'SAN LUCAS QUIAVINI',\n",
       "       'SAN LUCAS ZOQUIAPAM', 'SAN LUIS AMATLAN', 'SAN MARCIAL OZOLOTEPEC',\n",
       "       'SAN MARCOS ARTEAGA', 'SAN MARTIN DE LOS CANSECOS',\n",
       "       'SAN MARTIN HUAMELULPAM', 'SAN MARTIN ITUNYOSO',\n",
       "       'SAN MARTIN LACHILA', 'SAN MARTIN PERAS', 'SAN MARTIN TILCAJETE',\n",
       "       'SAN MARTIN TOXPALAN', 'SAN MARTIN ZACATEPEC', 'SAN MATEO CAJONOS',\n",
       "       'CAPULALPAM DE MENDEZ', 'SAN MATEO DEL MAR',\n",
       "       'SAN MATEO YOLOXOCHITLAN', 'SAN MATEO ETLATONGO',\n",
       "       'SAN MATEO NEJAPAM', 'SAN MATEO PEÑASCO', 'SAN MATEO PIÑAS',\n",
       "       'SAN MATEO RIO HONDO', 'SAN MATEO SINDIHUI',\n",
       "       'SAN MATEO TLAPILTEPEC', 'SAN MELCHOR BETAZA',\n",
       "       'SAN MIGUEL ACHIUTLA', 'SAN MIGUEL AHUEHUETITLAN',\n",
       "       'SAN MIGUEL ALOAPAM', 'SAN MIGUEL AMATITLAN', 'SAN MIGUEL AMATLAN',\n",
       "       'SAN MIGUEL COATLAN', 'SAN MIGUEL CHICAHUA', 'SAN MIGUEL CHIMALAPA',\n",
       "       'SAN MIGUEL DEL PUERTO', 'SAN MIGUEL DEL RIO', 'SAN MIGUEL EJUTLA',\n",
       "       'SAN MIGUEL EL GRANDE', 'SAN MIGUEL HUAUTLA', 'SAN MIGUEL MIXTEPEC',\n",
       "       'SAN MIGUEL PANIXTLAHUACA', 'SAN MIGUEL PERAS',\n",
       "       'SAN MIGUEL PIEDRAS', 'SAN MIGUEL QUETZALTEPEC',\n",
       "       'SAN MIGUEL SANTA FLOR', 'VILLA SOLA DE VEGA',\n",
       "       'SAN MIGUEL SOYALTEPEC', 'SAN MIGUEL SUCHIXTEPEC',\n",
       "       'VILLA TALEA DE CASTRO', 'SAN MIGUEL TECOMATLAN',\n",
       "       'SAN MIGUEL TENANGO', 'SAN MIGUEL TEQUIXTEPEC',\n",
       "       'SAN MIGUEL TILQUIAPAM', 'SAN MIGUEL TLACAMAMA',\n",
       "       'SAN MIGUEL TLACOTEPEC', 'SAN MIGUEL TULANCINGO',\n",
       "       'SAN MIGUEL YOTAO', 'SAN NICOLAS', 'SAN NICOLAS HIDALGO',\n",
       "       'SAN PABLO COATLAN', 'SAN PABLO CUATRO VENADOS', 'SAN PABLO ETLA',\n",
       "       'SAN PABLO HUITZO', 'SAN PABLO HUIXTEPEC',\n",
       "       'SAN PABLO MACUILTIANGUIS', 'SAN PABLO TIJALTEPEC',\n",
       "       'SAN PABLO VILLA DE MITLA', 'SAN PABLO YAGANIZA',\n",
       "       'SAN PEDRO AMUZGOS', 'SAN PEDRO APOSTOL', 'SAN PEDRO ATOYAC',\n",
       "       'SAN PEDRO CAJONOS', 'SAN PEDRO COXCALTEPEC CANTAROS',\n",
       "       'SAN PEDRO COMITANCILLO', 'SAN PEDRO EL ALTO',\n",
       "       'SAN PEDRO HUAMELULA', 'SAN PEDRO HUILOTEPEC', 'SAN PEDRO IXCATLAN',\n",
       "       'SAN PEDRO IXTLAHUACA', 'SAN PEDRO JALTEPETONGO',\n",
       "       'SAN PEDRO JICAYAN', 'SAN PEDRO JOCOTIPAC', 'SAN PEDRO JUCHATENGO',\n",
       "       'SAN PEDRO MARTIR', 'SAN PEDRO MARTIR QUIECHAPA',\n",
       "       'SAN PEDRO MARTIR YUCUXACO', 'SAN PEDRO MIXTEPEC',\n",
       "       'SAN PEDRO MOLINOS', 'SAN PEDRO NOPALA', 'SAN PEDRO OCOPETATILLO',\n",
       "       'SAN PEDRO OCOTEPEC', 'SAN PEDRO POCHUTLA', 'SAN PEDRO QUIATONI',\n",
       "       'SAN PEDRO SOCHIAPAM', 'SAN PEDRO TAPANATEPEC', 'SAN PEDRO TAVICHE',\n",
       "       'SAN PEDRO TEOZACOALCO', 'SAN PEDRO TEUTILA', 'SAN PEDRO TIDAA',\n",
       "       'SAN PEDRO TOPILTEPEC', 'SAN PEDRO TOTOLAPAM', 'VILLA DE TUTUTEPEC',\n",
       "       'SAN PEDRO YANERI', 'SAN PEDRO YOLOX',\n",
       "       'SAN PEDRO Y SAN PABLO AYUTLA', 'VILLA DE ETLA',\n",
       "       'SAN PEDRO Y SAN PABLO TEPOSCOLULA',\n",
       "       'SAN PEDRO Y SAN PABLO TEQUIXTEPEC', 'SAN PEDRO YUCUNAMA',\n",
       "       'SAN RAYMUNDO JALPAN', 'SAN SEBASTIAN ABASOLO',\n",
       "       'SAN SEBASTIAN COATLAN', 'SAN SEBASTIAN IXCAPA',\n",
       "       'SAN SEBASTIAN NICANANDUTA', 'SAN SEBASTIAN RIO HONDO',\n",
       "       'SAN SEBASTIAN TECOMAXTLAHUACA', 'SAN SEBASTIAN TEITIPAC',\n",
       "       'SAN SEBASTIAN TUTLA', 'SAN SIMON ALMOLONGAS',\n",
       "       'SAN SIMON ZAHUATLAN', 'SANTA ANA', 'SANTA ANA ATEIXTLAHUACA',\n",
       "       'SANTA ANA CUAUHTEMOC', 'SANTA ANA DEL VALLE', 'SANTA ANA TAVELA',\n",
       "       'SANTA ANA TLAPACOYAN', 'SANTA ANA YARENI', 'SANTA ANA ZEGACHE',\n",
       "       'SANTA CATALINA QUIERI', 'SANTA CATARINA CUIXTLA',\n",
       "       'SANTA CATARINA IXTEPEJI', 'SANTA CATARINA JUQUILA',\n",
       "       'SANTA CATARINA LACHATAO', 'SANTA CATARINA LOXICHA',\n",
       "       'SANTA CATARINA MECHOACAN', 'SANTA CATARINA MINAS',\n",
       "       'SANTA CATARINA QUIANE', 'SANTA CATARINA TAYATA',\n",
       "       'SANTA CATARINA TICUA', 'SANTA CATARINA YOSONOTU',\n",
       "       'SANTA CATARINA ZAPOQUILA', 'SANTA CRUZ ACATEPEC',\n",
       "       'SANTA CRUZ AMILPAS', 'SANTA CRUZ DE BRAVO', 'SANTA CRUZ ITUNDUJIA',\n",
       "       'SANTA CRUZ MIXTEPEC', 'SANTA CRUZ NUNDACO', 'SANTA CRUZ PAPALUTLA',\n",
       "       'SANTA CRUZ TACACHE DE MINA', 'SANTA CRUZ TACAHUA',\n",
       "       'SANTA CRUZ TAYATA', 'SANTA CRUZ XITLA', 'SANTA CRUZ XOXOCOTLAN',\n",
       "       'SANTA CRUZ ZENZONTEPEC', 'SANTA GERTRUDIS', 'SANTA INES DEL MONTE',\n",
       "       'SANTA INES YATZECHE', 'SANTA LUCIA DEL CAMINO',\n",
       "       'SANTA LUCIA MIAHUATLAN', 'SANTA LUCIA MONTEVERDE',\n",
       "       'SANTA LUCIA OCOTLAN', 'SANTA MARIA ALOTEPEC', 'SANTA MARIA APAZCO',\n",
       "       'SANTA MARIA LA ASUNCION', 'HEROICA CIUDAD DE TLAXIACO',\n",
       "       'AYOQUEZCO DE ALDAMA', 'SANTA MARIA ATZOMPA',\n",
       "       'SANTA MARIA CAMOTLAN', 'SANTA MARIA COLOTEPEC',\n",
       "       'SANTA MARIA CORTIJO', 'SANTA MARIA COYOTEPEC',\n",
       "       'SANTA MARIA CHACHOAPAM', 'VILLA DE CHILAPA DE DIAZ',\n",
       "       'SANTA MARIA CHILCHOTLA', 'SANTA MARIA CHIMALAPA',\n",
       "       'SANTA MARIA DEL ROSARIO', 'SANTA MARIA DEL TULE',\n",
       "       'SANTA MARIA ECATEPEC', 'SANTA MARIA GUELACE',\n",
       "       'SANTA MARIA GUIENAGATI', 'SANTA MARIA HUATULCO',\n",
       "       'SANTA MARIA HUAZOLOTITLAN', 'SANTA MARIA IPALAPA',\n",
       "       'SANTA MARIA IXCATLAN', 'SANTA MARIA JACATEPEC',\n",
       "       'SANTA MARIA JALAPA DEL MARQUES', 'SANTA MARIA JALTIANGUIS',\n",
       "       'SANTA MARIA LACHIXIO', 'SANTA MARIA MIXTEQUILLA',\n",
       "       'SANTA MARIA NATIVITAS', 'SANTA MARIA NDUAYACO',\n",
       "       'SANTA MARIA OZOLOTEPEC', 'SANTA MARIA PAPALO',\n",
       "       'SANTA MARIA PEÑOLES', 'SANTA MARIA PETAPA',\n",
       "       'SANTA MARIA QUIEGOLANI', 'SANTA MARIA SOLA',\n",
       "       'SANTA MARIA TATALTEPEC', 'SANTA MARIA TECOMAVACA',\n",
       "       'SANTA MARIA TEMAXCALAPA', 'SANTA MARIA TEMAXCALTEPEC',\n",
       "       'SANTA MARIA TEOPOXCO', 'SANTA MARIA TEPANTLALI',\n",
       "       'SANTA MARIA TEXCATITLAN', 'SANTA MARIA TLAHUITOLTEPEC',\n",
       "       'SANTA MARIA TLALIXTAC', 'SANTA MARIA TONAMECA',\n",
       "       'SANTA MARIA TOTOLAPILLA', 'SANTA MARIA XADANI',\n",
       "       'SANTA MARIA YALINA', 'SANTA MARIA YAVESIA',\n",
       "       'SANTA MARIA YOLOTEPEC', 'SANTA MARIA YOSOYUA',\n",
       "       'SANTA MARIA YUCUHITI', 'SANTA MARIA ZACATEPEC',\n",
       "       'SANTA MARIA ZANIZA', 'SANTA MARIA ZOQUITLAN', 'SANTIAGO AMOLTEPEC',\n",
       "       'SANTIAGO APOALA', 'SANTIAGO APOSTOL', 'SANTIAGO ASTATA',\n",
       "       'SANTIAGO ATITLAN', 'SANTIAGO AYUQUILILLA', 'SANTIAGO CACALOXTEPEC',\n",
       "       'SANTIAGO CAMOTLAN', 'SANTIAGO COMALTEPEC', 'SANTIAGO CHAZUMBA',\n",
       "       'SANTIAGO CHOAPAM', 'SANTIAGO DEL RIO', 'SANTIAGO HUAJOLOTITLAN',\n",
       "       'SANTIAGO HUAUCLILLA', 'SANTIAGO IHUITLAN PLUMAS',\n",
       "       'SANTIAGO IXCUINTEPEC', 'SANTIAGO IXTAYUTLA', 'SANTIAGO JAMILTEPEC',\n",
       "       'SANTIAGO JOCOTEPEC', 'SANTIAGO JUXTLAHUACA', 'SANTIAGO LACHIGUIRI',\n",
       "       'SANTIAGO LALOPA', 'SANTIAGO LAOLLAGA', 'SANTIAGO LAXOPA',\n",
       "       'SANTIAGO LLANO GRANDE', 'SANTIAGO MATATLAN', 'SANTIAGO MILTEPEC',\n",
       "       'SANTIAGO MINAS', 'SANTIAGO NACALTEPEC', 'SANTIAGO NEJAPILLA',\n",
       "       'SANTIAGO NUNDICHE', 'SANTIAGO NUYOO', 'SANTIAGO PINOTEPA NACIONAL',\n",
       "       'SANTIAGO SUCHILQUITONGO', 'SANTIAGO TAMAZOLA', 'SANTIAGO TAPEXTLA',\n",
       "       'VILLA TEJUPAM DE LA UNION', 'SANTIAGO TENANGO',\n",
       "       'SANTIAGO TEPETLAPA', 'SANTIAGO TETEPEC', 'SANTIAGO TEXCALCINGO',\n",
       "       'SANTIAGO TEXTITLAN', 'SANTIAGO TILANTONGO', 'SANTIAGO TILLO',\n",
       "       'SANTIAGO TLAZOYALTEPEC', 'SANTIAGO XANICA', 'SANTIAGO XIACUI',\n",
       "       'SANTIAGO YAITEPEC', 'SANTIAGO YAVEO', 'SANTIAGO YOLOMECATL',\n",
       "       'SANTIAGO YOSONDUA', 'SANTIAGO YUCUYACHI', 'SANTIAGO ZACATEPEC',\n",
       "       'SANTIAGO ZOOCHILA', 'NUEVO ZOQUIAPAM', 'SANTO DOMINGO INGENIO',\n",
       "       'SANTO DOMINGO ALBARRADAS', 'SANTO DOMINGO ARMENTA',\n",
       "       'SANTO DOMINGO CHIHUITAN', 'SANTO DOMINGO DE MORELOS',\n",
       "       'SANTO DOMINGO IXCATLAN', 'SANTO DOMINGO NUXAA',\n",
       "       'SANTO DOMINGO OZOLOTEPEC', 'SANTO DOMINGO PETAPA',\n",
       "       'SANTO DOMINGO ROAYAGA', 'SANTO DOMINGO TEHUANTEPEC',\n",
       "       'SANTO DOMINGO TEOJOMULCO', 'SANTO DOMINGO TEPUXTEPEC',\n",
       "       'SANTO DOMINGO TLATAYAPAM', 'SANTO DOMINGO TOMALTEPEC',\n",
       "       'SANTO DOMINGO TONALA', 'SANTO DOMINGO TONALTEPEC',\n",
       "       'SANTO DOMINGO XAGACIA', 'SANTO DOMINGO YANHUITLAN',\n",
       "       'SANTO DOMINGO YODOHINO', 'SANTO DOMINGO ZANATEPEC',\n",
       "       'SANTOS REYES NOPALA', 'SANTOS REYES PAPALO',\n",
       "       'SANTOS REYES TEPEJILLO', 'SANTOS REYES YUCUNA',\n",
       "       'SANTO TOMAS JALIEZA', 'SANTO TOMAS MAZALTEPEC',\n",
       "       'SANTO TOMAS OCOTEPEC', 'SANTO TOMAS TAMAZULAPAN',\n",
       "       'SAN VICENTE COATLAN', 'SAN VICENTE LACHIXIO', 'SAN VICENTE NUÑU',\n",
       "       'SILACAYOAPAM', 'SITIO DE XITLAPEHUA', 'SOLEDAD ETLA',\n",
       "       'VILLA DE TAMAZULAPAM DEL PROGRESO', 'TANETZE DE ZARAGOZA',\n",
       "       'TANICHE', 'TATALTEPEC DE VALDES', 'TEOCOCUILCO DE MARCOS PEREZ',\n",
       "       'TEOTITLAN DE FLORES MAGON', 'TEOTITLAN DEL VALLE', 'TEOTONGO',\n",
       "       'TEPELMEME VILLA DE MORELOS',\n",
       "       'HEROICA VILLA TEZOATLAN DE SEGURA Y LUNA, CUNA DE LA INDEPENDENCIA DE OAXACA',\n",
       "       'SAN JERONIMO TLACOCHAHUAYA', 'TLACOLULA DE MATAMOROS',\n",
       "       'TLACOTEPEC PLUMAS', 'TLALIXTAC DE CABRERA',\n",
       "       'TOTONTEPEC VILLA DE MORELOS', 'TRINIDAD ZAACHILA',\n",
       "       'LA TRINIDAD VISTA HERMOSA', 'UNION HIDALGO', 'VALERIO TRUJANO',\n",
       "       'SAN JUAN BAUTISTA VALLE NACIONAL', 'VILLA DIAZ ORDAZ', 'YAXE',\n",
       "       'MAGDALENA YODOCONO DE PORFIRIO DIAZ', 'YOGANA',\n",
       "       'YUTANDUCHI DE GUERRERO', 'VILLA DE ZAACHILA',\n",
       "       'SAN MATEO YUCUTINDOO', 'ZAPOTITLAN LAGUNAS', 'ZAPOTITLAN PALMAS',\n",
       "       'SANTA INES DE ZARAGOZA', 'ZIMATLAN DE ALVAREZ'], dtype=object)"
      ]
     },
     "execution_count": 217,
     "metadata": {},
     "output_type": "execute_result"
    }
   ],
   "source": [
    "df_CCEFML_copy[\"NOM_MUN\"][(df_CCEFML_copy[\"NOM_ENT\"] == estado)].unique()"
   ]
  },
  {
   "cell_type": "code",
   "execution_count": 218,
   "metadata": {},
   "outputs": [
    {
     "data": {
      "text/plain": [
       "{'ABEJONES': 1,\n",
       " 'ACATLAN DE PEREZ FIGUEROA': 2,\n",
       " 'ANIMAS TRUJANO': 174,\n",
       " 'ASUNCION CACALOTEPEC': 3,\n",
       " 'ASUNCION CUYOTEPEJI': 4,\n",
       " 'ASUNCION IXTALTEPEC': 5,\n",
       " 'ASUNCION NOCHIXTLAN': 6,\n",
       " 'ASUNCION OCOTLAN': 7,\n",
       " 'ASUNCION TLACOLULITA': 8,\n",
       " 'AYOQUEZCO DE ALDAMA': 398,\n",
       " 'AYOTZINTEPEC': 9,\n",
       " 'CALIHUALA': 11,\n",
       " 'CANDELARIA LOXICHA': 12,\n",
       " 'CAPULALPAM DE MENDEZ': 247,\n",
       " 'CHAHUITES': 25,\n",
       " 'CHALCATONGO DE HIDALGO': 26,\n",
       " 'CHIQUIHUITLAN DE BENITO JUAREZ': 27,\n",
       " 'CIENEGA DE ZIMATLAN': 13,\n",
       " 'CIUDAD IXTEPEC': 14,\n",
       " 'COATECAS ALTAS': 15,\n",
       " 'COICOYAN DE LAS FLORES': 16,\n",
       " 'CONCEPCION BUENAVISTA': 18,\n",
       " 'CONCEPCION PAPALO': 19,\n",
       " 'CONSTANCIA DEL ROSARIO': 20,\n",
       " 'COSOLAPA': 21,\n",
       " 'COSOLTEPEC': 22,\n",
       " 'CUILAPAM DE GUERRERO': 23,\n",
       " 'CUYAMECALCO VILLA DE ZARAGOZA': 24,\n",
       " 'EL BARRIO DE LA SOLEDAD': 10,\n",
       " 'EL ESPINAL': 30,\n",
       " 'ELOXOCHITLAN DE FLORES MAGON': 29,\n",
       " 'FRESNILLO DE TRUJANO': 32,\n",
       " 'GUADALUPE DE RAMIREZ': 34,\n",
       " 'GUADALUPE ETLA': 33,\n",
       " 'GUELATAO DE JUAREZ': 35,\n",
       " 'GUEVEA DE HUMBOLDT': 36,\n",
       " 'HEROICA CIUDAD DE EJUTLA DE CRESPO': 28,\n",
       " 'HEROICA CIUDAD DE HUAJUAPAN DE LEON': 39,\n",
       " 'HEROICA CIUDAD DE JUCHITAN DE ZARAGOZA': 43,\n",
       " 'HEROICA CIUDAD DE TLAXIACO': 397,\n",
       " 'HEROICA VILLA TEZOATLAN DE SEGURA Y LUNA, CUNA DE LA INDEPENDENCIA DE OAXACA': 549,\n",
       " 'HUAUTEPEC': 40,\n",
       " 'HUAUTLA DE JIMENEZ': 41,\n",
       " 'IXPANTEPEC NIEVES': 65,\n",
       " 'IXTLAN DE JUAREZ': 42,\n",
       " 'LA COMPAÑIA': 17,\n",
       " 'LA PE': 69,\n",
       " 'LA REFORMA': 76,\n",
       " 'LA TRINIDAD VISTA HERMOSA': 556,\n",
       " 'LOMA BONITA': 44,\n",
       " 'MAGDALENA APASCO': 45,\n",
       " 'MAGDALENA JALTEPEC': 46,\n",
       " 'MAGDALENA MIXTEPEC': 48,\n",
       " 'MAGDALENA OCOTLAN': 49,\n",
       " 'MAGDALENA PEÑASCO': 50,\n",
       " 'MAGDALENA TEITIPAC': 51,\n",
       " 'MAGDALENA TEQUISISTLAN': 52,\n",
       " 'MAGDALENA TLACOTEPEC': 53,\n",
       " 'MAGDALENA YODOCONO DE PORFIRIO DIAZ': 562,\n",
       " 'MAGDALENA ZAHUATLAN': 54,\n",
       " 'MARISCALA DE JUAREZ': 55,\n",
       " 'MARTIRES DE TACUBAYA': 56,\n",
       " 'MATIAS ROMERO AVENDAÑO': 57,\n",
       " 'MAZATLAN VILLA DE FLORES': 58,\n",
       " 'MESONES HIDALGO': 37,\n",
       " 'MIAHUATLAN DE PORFIRIO DIAZ': 59,\n",
       " 'MIXISTLAN DE LA REFORMA': 60,\n",
       " 'MONJAS': 61,\n",
       " 'NATIVIDAD': 62,\n",
       " 'NAZARENO ETLA': 63,\n",
       " 'NEJAPA DE MADERO': 64,\n",
       " 'NUEVO ZOQUIAPAM': 504,\n",
       " 'OAXACA DE JUAREZ': 67,\n",
       " 'OCOTLAN DE MORELOS': 68,\n",
       " 'PINOTEPA DE DON LUIS': 70,\n",
       " 'PLUMA HIDALGO': 71,\n",
       " 'PUTLA VILLA DE GUERRERO': 73,\n",
       " 'REFORMA DE PINEDA': 75,\n",
       " 'REYES ETLA': 77,\n",
       " 'ROJAS DE CUAUHTEMOC': 78,\n",
       " 'SALINA CRUZ': 79,\n",
       " 'SAN AGUSTIN AMATENGO': 80,\n",
       " 'SAN AGUSTIN ATENANGO': 81,\n",
       " 'SAN AGUSTIN CHAYUCO': 82,\n",
       " 'SAN AGUSTIN DE LAS JUNTAS': 83,\n",
       " 'SAN AGUSTIN ETLA': 84,\n",
       " 'SAN AGUSTIN LOXICHA': 85,\n",
       " 'SAN AGUSTIN TLACOTEPEC': 86,\n",
       " 'SAN AGUSTIN YATARENI': 87,\n",
       " 'SAN ANDRES CABECERA NUEVA': 88,\n",
       " 'SAN ANDRES DINICUITI': 89,\n",
       " 'SAN ANDRES HUAXPALTEPEC': 90,\n",
       " 'SAN ANDRES HUAYAPAM': 91,\n",
       " 'SAN ANDRES IXTLAHUACA': 92,\n",
       " 'SAN ANDRES LAGUNAS': 93,\n",
       " 'SAN ANDRES NUXIÑO': 94,\n",
       " 'SAN ANDRES PAXTLAN': 95,\n",
       " 'SAN ANDRES SINAXTLA': 96,\n",
       " 'SAN ANDRES SOLAGA': 97,\n",
       " 'SAN ANDRES TEOTILALPAM': 98,\n",
       " 'SAN ANDRES TEPETLAPA': 99,\n",
       " 'SAN ANDRES YAA': 100,\n",
       " 'SAN ANDRES ZABACHE': 101,\n",
       " 'SAN ANDRES ZAUTLA': 102,\n",
       " 'SAN ANTONINO CASTILLO VELASCO': 103,\n",
       " 'SAN ANTONINO EL ALTO': 104,\n",
       " 'SAN ANTONINO MONTE VERDE': 105,\n",
       " 'SAN ANTONIO ACUTLA': 106,\n",
       " 'SAN ANTONIO DE LA CAL': 107,\n",
       " 'SAN ANTONIO HUITEPEC': 108,\n",
       " 'SAN ANTONIO NANAHUATIPAM': 109,\n",
       " 'SAN ANTONIO SINICAHUA': 110,\n",
       " 'SAN ANTONIO TEPETLAPA': 111,\n",
       " 'SAN BALTAZAR CHICHICAPAM': 112,\n",
       " 'SAN BALTAZAR LOXICHA': 113,\n",
       " 'SAN BALTAZAR YATZACHI EL BAJO': 114,\n",
       " 'SAN BARTOLO COYOTEPEC': 115,\n",
       " 'SAN BARTOLO SOYALTEPEC': 121,\n",
       " 'SAN BARTOLO YAUTEPEC': 122,\n",
       " 'SAN BARTOLOME AYAUTLA': 116,\n",
       " 'SAN BARTOLOME LOXICHA': 117,\n",
       " 'SAN BARTOLOME QUIALANA': 118,\n",
       " 'SAN BARTOLOME YUCUAÑE': 119,\n",
       " 'SAN BARTOLOME ZOOGOCHO': 120,\n",
       " 'SAN BERNARDO MIXTEPEC': 123,\n",
       " 'SAN BLAS ATEMPA': 124,\n",
       " 'SAN CARLOS YAUTEPEC': 125,\n",
       " 'SAN CRISTOBAL AMATLAN': 126,\n",
       " 'SAN CRISTOBAL AMOLTEPEC': 127,\n",
       " 'SAN CRISTOBAL LACHIRIOAG': 128,\n",
       " 'SAN CRISTOBAL SUCHIXTLAHUACA': 129,\n",
       " 'SAN DIONISIO DEL MAR': 130,\n",
       " 'SAN DIONISIO OCOTEPEC': 131,\n",
       " 'SAN DIONISIO OCOTLAN': 132,\n",
       " 'SAN ESTEBAN ATATLAHUCA': 133,\n",
       " 'SAN FELIPE JALAPA DE DIAZ': 134,\n",
       " 'SAN FELIPE TEJALAPAM': 135,\n",
       " 'SAN FELIPE USILA': 136,\n",
       " 'SAN FRANCISCO CAHUACUA': 137,\n",
       " 'SAN FRANCISCO CAJONOS': 138,\n",
       " 'SAN FRANCISCO CHAPULAPA': 139,\n",
       " 'SAN FRANCISCO CHINDUA': 140,\n",
       " 'SAN FRANCISCO DEL MAR': 141,\n",
       " 'SAN FRANCISCO HUEHUETLAN': 142,\n",
       " 'SAN FRANCISCO IXHUATAN': 143,\n",
       " 'SAN FRANCISCO JALTEPETONGO': 144,\n",
       " 'SAN FRANCISCO LACHIGOLO': 145,\n",
       " 'SAN FRANCISCO LOGUECHE': 146,\n",
       " 'SAN FRANCISCO NUXAÑO': 147,\n",
       " 'SAN FRANCISCO OZOLOTEPEC': 148,\n",
       " 'SAN FRANCISCO SOLA': 149,\n",
       " 'SAN FRANCISCO TELIXTLAHUACA': 150,\n",
       " 'SAN FRANCISCO TEOPAN': 151,\n",
       " 'SAN FRANCISCO TLAPANCINGO': 152,\n",
       " 'SAN GABRIEL MIXTEPEC': 153,\n",
       " 'SAN ILDEFONSO AMATLAN': 154,\n",
       " 'SAN ILDEFONSO SOLA': 155,\n",
       " 'SAN ILDEFONSO VILLA ALTA': 156,\n",
       " 'SAN JACINTO AMILPAS': 157,\n",
       " 'SAN JACINTO TLACOTEPEC': 158,\n",
       " 'SAN JERONIMO COATLAN': 159,\n",
       " 'SAN JERONIMO SILACAYOAPILLA': 160,\n",
       " 'SAN JERONIMO SOSOLA': 161,\n",
       " 'SAN JERONIMO TAVICHE': 162,\n",
       " 'SAN JERONIMO TECOATL': 163,\n",
       " 'SAN JERONIMO TLACOCHAHUAYA': 550,\n",
       " 'SAN JORGE NUCHITA': 164,\n",
       " 'SAN JOSE AYUQUILA': 165,\n",
       " 'SAN JOSE CHILTEPEC': 166,\n",
       " 'SAN JOSE DEL PEÑASCO': 167,\n",
       " 'SAN JOSE DEL PROGRESO': 72,\n",
       " 'SAN JOSE ESTANCIA GRANDE': 168,\n",
       " 'SAN JOSE INDEPENDENCIA': 169,\n",
       " 'SAN JOSE LACHIGUIRI': 170,\n",
       " 'SAN JOSE TENANGO': 171,\n",
       " 'SAN JUAN ACHIUTLA': 172,\n",
       " 'SAN JUAN ATEPEC': 173,\n",
       " 'SAN JUAN BAUTISTA ATATLAHUCA': 175,\n",
       " 'SAN JUAN BAUTISTA COIXTLAHUACA': 176,\n",
       " 'SAN JUAN BAUTISTA CUICATLAN': 177,\n",
       " 'SAN JUAN BAUTISTA GUELACHE': 178,\n",
       " 'SAN JUAN BAUTISTA JAYACATLAN': 179,\n",
       " 'SAN JUAN BAUTISTA LO DE SOTO': 180,\n",
       " 'SAN JUAN BAUTISTA SUCHITEPEC': 181,\n",
       " 'SAN JUAN BAUTISTA TLACHICHILCO': 183,\n",
       " 'SAN JUAN BAUTISTA TLACOATZINTEPEC': 182,\n",
       " 'SAN JUAN BAUTISTA TUXTEPEC': 184,\n",
       " 'SAN JUAN BAUTISTA VALLE NACIONAL': 559,\n",
       " 'SAN JUAN CACAHUATEPEC': 185,\n",
       " 'SAN JUAN CHICOMEZUCHIL': 191,\n",
       " 'SAN JUAN CHILATECA': 192,\n",
       " 'SAN JUAN CIENEGUILLA': 186,\n",
       " 'SAN JUAN COATZOSPAM': 187,\n",
       " 'SAN JUAN COLORADO': 188,\n",
       " 'SAN JUAN COMALTEPEC': 189,\n",
       " 'SAN JUAN COTZOCON': 190,\n",
       " 'SAN JUAN DE LOS CUES': 206,\n",
       " 'SAN JUAN DEL ESTADO': 193,\n",
       " 'SAN JUAN DEL RIO': 194,\n",
       " 'SAN JUAN DIUXI': 195,\n",
       " 'SAN JUAN EVANGELISTA ANALCO': 196,\n",
       " 'SAN JUAN GUELAVIA': 197,\n",
       " 'SAN JUAN GUICHICOVI': 198,\n",
       " 'SAN JUAN IHUALTEPEC': 199,\n",
       " 'SAN JUAN JUQUILA MIXES': 200,\n",
       " 'SAN JUAN JUQUILA VIJANOS': 201,\n",
       " 'SAN JUAN LACHAO': 202,\n",
       " 'SAN JUAN LACHIGALLA': 203,\n",
       " 'SAN JUAN LAJARCIA': 204,\n",
       " 'SAN JUAN LALANA': 205,\n",
       " 'SAN JUAN MAZATLAN': 207,\n",
       " 'SAN JUAN MIXTEPEC': 209,\n",
       " 'SAN JUAN OZOLOTEPEC': 211,\n",
       " 'SAN JUAN PETLAPA': 212,\n",
       " 'SAN JUAN QUIAHIJE': 213,\n",
       " 'SAN JUAN QUIOTEPEC': 214,\n",
       " 'SAN JUAN SAYULTEPEC': 215,\n",
       " 'SAN JUAN TABAA': 216,\n",
       " 'SAN JUAN TAMAZOLA': 217,\n",
       " 'SAN JUAN TEITA': 218,\n",
       " 'SAN JUAN TEITIPAC': 219,\n",
       " 'SAN JUAN TEPEUXILA': 220,\n",
       " 'SAN JUAN TEPOSCOLULA': 221,\n",
       " 'SAN JUAN YAEE': 222,\n",
       " 'SAN JUAN YATZONA': 223,\n",
       " 'SAN JUAN YUCUITA': 224,\n",
       " 'SAN JUAN ÑUMI': 210,\n",
       " 'SAN LORENZO': 225,\n",
       " 'SAN LORENZO ALBARRADAS': 226,\n",
       " 'SAN LORENZO CACAOTEPEC': 227,\n",
       " 'SAN LORENZO CUAUNECUILTITLA': 228,\n",
       " 'SAN LORENZO TEXMELUCAN': 229,\n",
       " 'SAN LORENZO VICTORIA': 230,\n",
       " 'SAN LUCAS CAMOTLAN': 231,\n",
       " 'SAN LUCAS OJITLAN': 232,\n",
       " 'SAN LUCAS QUIAVINI': 233,\n",
       " 'SAN LUCAS ZOQUIAPAM': 234,\n",
       " 'SAN LUIS AMATLAN': 235,\n",
       " 'SAN MARCIAL OZOLOTEPEC': 236,\n",
       " 'SAN MARCOS ARTEAGA': 237,\n",
       " 'SAN MARTIN DE LOS CANSECOS': 238,\n",
       " 'SAN MARTIN HUAMELULPAM': 239,\n",
       " 'SAN MARTIN ITUNYOSO': 240,\n",
       " 'SAN MARTIN LACHILA': 241,\n",
       " 'SAN MARTIN PERAS': 242,\n",
       " 'SAN MARTIN TILCAJETE': 243,\n",
       " 'SAN MARTIN TOXPALAN': 244,\n",
       " 'SAN MARTIN ZACATEPEC': 245,\n",
       " 'SAN MATEO CAJONOS': 246,\n",
       " 'SAN MATEO DEL MAR': 248,\n",
       " 'SAN MATEO ETLATONGO': 250,\n",
       " 'SAN MATEO NEJAPAM': 251,\n",
       " 'SAN MATEO PEÑASCO': 252,\n",
       " 'SAN MATEO PIÑAS': 253,\n",
       " 'SAN MATEO RIO HONDO': 254,\n",
       " 'SAN MATEO SINDIHUI': 255,\n",
       " 'SAN MATEO TLAPILTEPEC': 256,\n",
       " 'SAN MATEO YOLOXOCHITLAN': 249,\n",
       " 'SAN MATEO YUCUTINDOO': 566,\n",
       " 'SAN MELCHOR BETAZA': 257,\n",
       " 'SAN MIGUEL ACHIUTLA': 258,\n",
       " 'SAN MIGUEL AHUEHUETITLAN': 259,\n",
       " 'SAN MIGUEL ALOAPAM': 260,\n",
       " 'SAN MIGUEL AMATITLAN': 261,\n",
       " 'SAN MIGUEL AMATLAN': 262,\n",
       " 'SAN MIGUEL CHICAHUA': 264,\n",
       " 'SAN MIGUEL CHIMALAPA': 265,\n",
       " 'SAN MIGUEL COATLAN': 263,\n",
       " 'SAN MIGUEL DEL PUERTO': 266,\n",
       " 'SAN MIGUEL DEL RIO': 267,\n",
       " 'SAN MIGUEL EJUTLA': 268,\n",
       " 'SAN MIGUEL EL GRANDE': 269,\n",
       " 'SAN MIGUEL HUAUTLA': 270,\n",
       " 'SAN MIGUEL MIXTEPEC': 271,\n",
       " 'SAN MIGUEL PANIXTLAHUACA': 272,\n",
       " 'SAN MIGUEL PERAS': 273,\n",
       " 'SAN MIGUEL PIEDRAS': 274,\n",
       " 'SAN MIGUEL QUETZALTEPEC': 275,\n",
       " 'SAN MIGUEL SANTA FLOR': 276,\n",
       " 'SAN MIGUEL SOYALTEPEC': 278,\n",
       " 'SAN MIGUEL SUCHIXTEPEC': 279,\n",
       " 'SAN MIGUEL TECOMATLAN': 281,\n",
       " 'SAN MIGUEL TENANGO': 282,\n",
       " 'SAN MIGUEL TEQUIXTEPEC': 283,\n",
       " 'SAN MIGUEL TILQUIAPAM': 284,\n",
       " 'SAN MIGUEL TLACAMAMA': 285,\n",
       " 'SAN MIGUEL TLACOTEPEC': 286,\n",
       " 'SAN MIGUEL TULANCINGO': 287,\n",
       " 'SAN MIGUEL YOTAO': 288,\n",
       " 'SAN NICOLAS': 289,\n",
       " 'SAN NICOLAS HIDALGO': 290,\n",
       " 'SAN PABLO COATLAN': 291,\n",
       " 'SAN PABLO CUATRO VENADOS': 292,\n",
       " 'SAN PABLO ETLA': 293,\n",
       " 'SAN PABLO HUITZO': 294,\n",
       " 'SAN PABLO HUIXTEPEC': 295,\n",
       " 'SAN PABLO MACUILTIANGUIS': 296,\n",
       " 'SAN PABLO TIJALTEPEC': 297,\n",
       " 'SAN PABLO VILLA DE MITLA': 298,\n",
       " 'SAN PABLO YAGANIZA': 299,\n",
       " 'SAN PEDRO AMUZGOS': 300,\n",
       " 'SAN PEDRO APOSTOL': 301,\n",
       " 'SAN PEDRO ATOYAC': 302,\n",
       " 'SAN PEDRO CAJONOS': 303,\n",
       " 'SAN PEDRO COMITANCILLO': 305,\n",
       " 'SAN PEDRO COXCALTEPEC CANTAROS': 304,\n",
       " 'SAN PEDRO EL ALTO': 306,\n",
       " 'SAN PEDRO HUAMELULA': 307,\n",
       " 'SAN PEDRO HUILOTEPEC': 308,\n",
       " 'SAN PEDRO IXCATLAN': 309,\n",
       " 'SAN PEDRO IXTLAHUACA': 310,\n",
       " 'SAN PEDRO JALTEPETONGO': 311,\n",
       " 'SAN PEDRO JICAYAN': 312,\n",
       " 'SAN PEDRO JOCOTIPAC': 313,\n",
       " 'SAN PEDRO JUCHATENGO': 314,\n",
       " 'SAN PEDRO MARTIR': 315,\n",
       " 'SAN PEDRO MARTIR QUIECHAPA': 316,\n",
       " 'SAN PEDRO MARTIR YUCUXACO': 317,\n",
       " 'SAN PEDRO MIXTEPEC': 319,\n",
       " 'SAN PEDRO MOLINOS': 320,\n",
       " 'SAN PEDRO NOPALA': 321,\n",
       " 'SAN PEDRO OCOPETATILLO': 322,\n",
       " 'SAN PEDRO OCOTEPEC': 323,\n",
       " 'SAN PEDRO POCHUTLA': 324,\n",
       " 'SAN PEDRO QUIATONI': 325,\n",
       " 'SAN PEDRO SOCHIAPAM': 326,\n",
       " 'SAN PEDRO TAPANATEPEC': 327,\n",
       " 'SAN PEDRO TAVICHE': 328,\n",
       " 'SAN PEDRO TEOZACOALCO': 329,\n",
       " 'SAN PEDRO TEUTILA': 330,\n",
       " 'SAN PEDRO TIDAA': 331,\n",
       " 'SAN PEDRO TOPILTEPEC': 332,\n",
       " 'SAN PEDRO TOTOLAPAM': 333,\n",
       " 'SAN PEDRO Y SAN PABLO AYUTLA': 337,\n",
       " 'SAN PEDRO Y SAN PABLO TEPOSCOLULA': 339,\n",
       " 'SAN PEDRO Y SAN PABLO TEQUIXTEPEC': 340,\n",
       " 'SAN PEDRO YANERI': 335,\n",
       " 'SAN PEDRO YOLOX': 336,\n",
       " 'SAN PEDRO YUCUNAMA': 341,\n",
       " 'SAN RAYMUNDO JALPAN': 342,\n",
       " 'SAN SEBASTIAN ABASOLO': 343,\n",
       " 'SAN SEBASTIAN COATLAN': 344,\n",
       " 'SAN SEBASTIAN IXCAPA': 345,\n",
       " 'SAN SEBASTIAN NICANANDUTA': 346,\n",
       " 'SAN SEBASTIAN RIO HONDO': 347,\n",
       " 'SAN SEBASTIAN TECOMAXTLAHUACA': 348,\n",
       " 'SAN SEBASTIAN TEITIPAC': 349,\n",
       " 'SAN SEBASTIAN TUTLA': 350,\n",
       " 'SAN SIMON ALMOLONGAS': 351,\n",
       " 'SAN SIMON ZAHUATLAN': 352,\n",
       " 'SAN VICENTE COATLAN': 534,\n",
       " 'SAN VICENTE LACHIXIO': 535,\n",
       " 'SAN VICENTE NUÑU': 536,\n",
       " 'SANTA ANA': 353,\n",
       " 'SANTA ANA ATEIXTLAHUACA': 354,\n",
       " 'SANTA ANA CUAUHTEMOC': 355,\n",
       " 'SANTA ANA DEL VALLE': 356,\n",
       " 'SANTA ANA TAVELA': 357,\n",
       " 'SANTA ANA TLAPACOYAN': 358,\n",
       " 'SANTA ANA YARENI': 359,\n",
       " 'SANTA ANA ZEGACHE': 360,\n",
       " 'SANTA CATALINA QUIERI': 361,\n",
       " 'SANTA CATARINA CUIXTLA': 362,\n",
       " 'SANTA CATARINA IXTEPEJI': 363,\n",
       " 'SANTA CATARINA JUQUILA': 364,\n",
       " 'SANTA CATARINA LACHATAO': 365,\n",
       " 'SANTA CATARINA LOXICHA': 366,\n",
       " 'SANTA CATARINA MECHOACAN': 367,\n",
       " 'SANTA CATARINA MINAS': 368,\n",
       " 'SANTA CATARINA QUIANE': 369,\n",
       " 'SANTA CATARINA QUIOQUITANI': 74,\n",
       " 'SANTA CATARINA TAYATA': 370,\n",
       " 'SANTA CATARINA TICUA': 371,\n",
       " 'SANTA CATARINA YOSONOTU': 372,\n",
       " 'SANTA CATARINA ZAPOQUILA': 373,\n",
       " 'SANTA CRUZ ACATEPEC': 374,\n",
       " 'SANTA CRUZ AMILPAS': 375,\n",
       " 'SANTA CRUZ DE BRAVO': 376,\n",
       " 'SANTA CRUZ ITUNDUJIA': 377,\n",
       " 'SANTA CRUZ MIXTEPEC': 378,\n",
       " 'SANTA CRUZ NUNDACO': 379,\n",
       " 'SANTA CRUZ PAPALUTLA': 380,\n",
       " 'SANTA CRUZ TACACHE DE MINA': 381,\n",
       " 'SANTA CRUZ TACAHUA': 382,\n",
       " 'SANTA CRUZ TAYATA': 383,\n",
       " 'SANTA CRUZ XITLA': 384,\n",
       " 'SANTA CRUZ XOXOCOTLAN': 385,\n",
       " 'SANTA CRUZ ZENZONTEPEC': 386,\n",
       " 'SANTA GERTRUDIS': 387,\n",
       " 'SANTA INES DE ZARAGOZA': 569,\n",
       " 'SANTA INES DEL MONTE': 388,\n",
       " 'SANTA INES YATZECHE': 389,\n",
       " 'SANTA LUCIA DEL CAMINO': 390,\n",
       " 'SANTA LUCIA MIAHUATLAN': 391,\n",
       " 'SANTA LUCIA MONTEVERDE': 392,\n",
       " 'SANTA LUCIA OCOTLAN': 393,\n",
       " 'SANTA MAGDALENA JICOTLAN': 47,\n",
       " 'SANTA MARIA ALOTEPEC': 394,\n",
       " 'SANTA MARIA APAZCO': 395,\n",
       " 'SANTA MARIA ATZOMPA': 399,\n",
       " 'SANTA MARIA CAMOTLAN': 400,\n",
       " 'SANTA MARIA CHACHOAPAM': 404,\n",
       " 'SANTA MARIA CHILCHOTLA': 406,\n",
       " 'SANTA MARIA CHIMALAPA': 407,\n",
       " 'SANTA MARIA COLOTEPEC': 401,\n",
       " 'SANTA MARIA CORTIJO': 402,\n",
       " 'SANTA MARIA COYOTEPEC': 403,\n",
       " 'SANTA MARIA DEL ROSARIO': 408,\n",
       " 'SANTA MARIA DEL TULE': 409,\n",
       " 'SANTA MARIA ECATEPEC': 410,\n",
       " 'SANTA MARIA GUELACE': 411,\n",
       " 'SANTA MARIA GUIENAGATI': 412,\n",
       " 'SANTA MARIA HUATULCO': 413,\n",
       " 'SANTA MARIA HUAZOLOTITLAN': 414,\n",
       " 'SANTA MARIA IPALAPA': 415,\n",
       " 'SANTA MARIA IXCATLAN': 416,\n",
       " 'SANTA MARIA JACATEPEC': 417,\n",
       " 'SANTA MARIA JALAPA DEL MARQUES': 418,\n",
       " 'SANTA MARIA JALTIANGUIS': 419,\n",
       " 'SANTA MARIA LA ASUNCION': 396,\n",
       " 'SANTA MARIA LACHIXIO': 420,\n",
       " 'SANTA MARIA MIXTEQUILLA': 421,\n",
       " 'SANTA MARIA NATIVITAS': 422,\n",
       " 'SANTA MARIA NDUAYACO': 423,\n",
       " 'SANTA MARIA OZOLOTEPEC': 424,\n",
       " 'SANTA MARIA PAPALO': 425,\n",
       " 'SANTA MARIA PETAPA': 427,\n",
       " 'SANTA MARIA PEÑOLES': 426,\n",
       " 'SANTA MARIA QUIEGOLANI': 428,\n",
       " 'SANTA MARIA SOLA': 429,\n",
       " 'SANTA MARIA TATALTEPEC': 430,\n",
       " 'SANTA MARIA TECOMAVACA': 431,\n",
       " 'SANTA MARIA TEMAXCALAPA': 432,\n",
       " 'SANTA MARIA TEMAXCALTEPEC': 433,\n",
       " 'SANTA MARIA TEOPOXCO': 434,\n",
       " 'SANTA MARIA TEPANTLALI': 435,\n",
       " 'SANTA MARIA TEXCATITLAN': 436,\n",
       " 'SANTA MARIA TLAHUITOLTEPEC': 437,\n",
       " 'SANTA MARIA TLALIXTAC': 438,\n",
       " 'SANTA MARIA TONAMECA': 439,\n",
       " 'SANTA MARIA TOTOLAPILLA': 440,\n",
       " 'SANTA MARIA XADANI': 441,\n",
       " 'SANTA MARIA YALINA': 442,\n",
       " 'SANTA MARIA YAVESIA': 443,\n",
       " 'SANTA MARIA YOLOTEPEC': 444,\n",
       " 'SANTA MARIA YOSOYUA': 445,\n",
       " 'SANTA MARIA YUCUHITI': 446,\n",
       " 'SANTA MARIA ZACATEPEC': 447,\n",
       " 'SANTA MARIA ZANIZA': 448,\n",
       " 'SANTA MARIA ZOQUITLAN': 449,\n",
       " 'SANTIAGO AMOLTEPEC': 450,\n",
       " 'SANTIAGO APOALA': 451,\n",
       " 'SANTIAGO APOSTOL': 452,\n",
       " 'SANTIAGO ASTATA': 453,\n",
       " 'SANTIAGO ATITLAN': 454,\n",
       " 'SANTIAGO AYUQUILILLA': 455,\n",
       " 'SANTIAGO CACALOXTEPEC': 456,\n",
       " 'SANTIAGO CAMOTLAN': 457,\n",
       " 'SANTIAGO CHAZUMBA': 459,\n",
       " 'SANTIAGO CHOAPAM': 460,\n",
       " 'SANTIAGO COMALTEPEC': 458,\n",
       " 'SANTIAGO DEL RIO': 461,\n",
       " 'SANTIAGO HUAJOLOTITLAN': 462,\n",
       " 'SANTIAGO HUAUCLILLA': 463,\n",
       " 'SANTIAGO IHUITLAN PLUMAS': 464,\n",
       " 'SANTIAGO IXCUINTEPEC': 465,\n",
       " 'SANTIAGO IXTAYUTLA': 466,\n",
       " 'SANTIAGO JAMILTEPEC': 467,\n",
       " 'SANTIAGO JOCOTEPEC': 468,\n",
       " 'SANTIAGO JUXTLAHUACA': 469,\n",
       " 'SANTIAGO LACHIGUIRI': 470,\n",
       " 'SANTIAGO LALOPA': 471,\n",
       " 'SANTIAGO LAOLLAGA': 472,\n",
       " 'SANTIAGO LAXOPA': 473,\n",
       " 'SANTIAGO LLANO GRANDE': 474,\n",
       " 'SANTIAGO MATATLAN': 475,\n",
       " 'SANTIAGO MILTEPEC': 476,\n",
       " 'SANTIAGO MINAS': 477,\n",
       " 'SANTIAGO NACALTEPEC': 478,\n",
       " 'SANTIAGO NEJAPILLA': 479,\n",
       " 'SANTIAGO NILTEPEC': 66,\n",
       " 'SANTIAGO NUNDICHE': 480,\n",
       " 'SANTIAGO NUYOO': 481,\n",
       " 'SANTIAGO PINOTEPA NACIONAL': 482,\n",
       " 'SANTIAGO SUCHILQUITONGO': 483,\n",
       " 'SANTIAGO TAMAZOLA': 484,\n",
       " 'SANTIAGO TAPEXTLA': 485,\n",
       " 'SANTIAGO TENANGO': 487,\n",
       " 'SANTIAGO TEPETLAPA': 488,\n",
       " 'SANTIAGO TETEPEC': 489,\n",
       " 'SANTIAGO TEXCALCINGO': 490,\n",
       " 'SANTIAGO TEXTITLAN': 491,\n",
       " 'SANTIAGO TILANTONGO': 492,\n",
       " 'SANTIAGO TILLO': 493,\n",
       " 'SANTIAGO TLAZOYALTEPEC': 494,\n",
       " 'SANTIAGO XANICA': 495,\n",
       " 'SANTIAGO XIACUI': 496,\n",
       " 'SANTIAGO YAITEPEC': 497,\n",
       " 'SANTIAGO YAVEO': 498,\n",
       " 'SANTIAGO YOLOMECATL': 499,\n",
       " 'SANTIAGO YOSONDUA': 500,\n",
       " 'SANTIAGO YUCUYACHI': 501,\n",
       " 'SANTIAGO ZACATEPEC': 502,\n",
       " 'SANTIAGO ZOOCHILA': 503,\n",
       " 'SANTO DOMINGO ALBARRADAS': 506,\n",
       " 'SANTO DOMINGO ARMENTA': 507,\n",
       " 'SANTO DOMINGO CHIHUITAN': 508,\n",
       " 'SANTO DOMINGO DE MORELOS': 509,\n",
       " 'SANTO DOMINGO INGENIO': 505,\n",
       " 'SANTO DOMINGO IXCATLAN': 510,\n",
       " 'SANTO DOMINGO NUXAA': 511,\n",
       " 'SANTO DOMINGO OZOLOTEPEC': 512,\n",
       " 'SANTO DOMINGO PETAPA': 513,\n",
       " 'SANTO DOMINGO ROAYAGA': 514,\n",
       " 'SANTO DOMINGO TEHUANTEPEC': 515,\n",
       " 'SANTO DOMINGO TEOJOMULCO': 516,\n",
       " 'SANTO DOMINGO TEPUXTEPEC': 517,\n",
       " 'SANTO DOMINGO TLATAYAPAM': 518,\n",
       " 'SANTO DOMINGO TOMALTEPEC': 519,\n",
       " 'SANTO DOMINGO TONALA': 520,\n",
       " 'SANTO DOMINGO TONALTEPEC': 521,\n",
       " 'SANTO DOMINGO XAGACIA': 522,\n",
       " 'SANTO DOMINGO YANHUITLAN': 523,\n",
       " 'SANTO DOMINGO YODOHINO': 524,\n",
       " 'SANTO DOMINGO ZANATEPEC': 525,\n",
       " 'SANTO TOMAS JALIEZA': 530,\n",
       " 'SANTO TOMAS MAZALTEPEC': 531,\n",
       " 'SANTO TOMAS OCOTEPEC': 532,\n",
       " 'SANTO TOMAS TAMAZULAPAN': 533,\n",
       " 'SANTOS REYES NOPALA': 526,\n",
       " 'SANTOS REYES PAPALO': 527,\n",
       " 'SANTOS REYES TEPEJILLO': 528,\n",
       " 'SANTOS REYES YUCUNA': 529,\n",
       " 'SILACAYOAPAM': 537,\n",
       " 'SITIO DE XITLAPEHUA': 538,\n",
       " 'SOLEDAD ETLA': 539,\n",
       " 'TAMAZULAPAM DEL ESPIRITU SANTO': 31,\n",
       " 'TANETZE DE ZARAGOZA': 541,\n",
       " 'TANICHE': 542,\n",
       " 'TATALTEPEC DE VALDES': 543,\n",
       " 'TEOCOCUILCO DE MARCOS PEREZ': 544,\n",
       " 'TEOTITLAN DE FLORES MAGON': 545,\n",
       " 'TEOTITLAN DEL VALLE': 546,\n",
       " 'TEOTONGO': 547,\n",
       " 'TEPELMEME VILLA DE MORELOS': 548,\n",
       " 'TLACOLULA DE MATAMOROS': 551,\n",
       " 'TLACOTEPEC PLUMAS': 552,\n",
       " 'TLALIXTAC DE CABRERA': 553,\n",
       " 'TOTONTEPEC VILLA DE MORELOS': 554,\n",
       " 'TRINIDAD ZAACHILA': 555,\n",
       " 'UNION HIDALGO': 557,\n",
       " 'VALERIO TRUJANO': 558,\n",
       " 'VILLA DE CHILAPA DE DIAZ': 405,\n",
       " 'VILLA DE ETLA': 338,\n",
       " 'VILLA DE TAMAZULAPAM DEL PROGRESO': 540,\n",
       " 'VILLA DE TUTUTEPEC': 334,\n",
       " 'VILLA DE ZAACHILA': 565,\n",
       " 'VILLA DIAZ ORDAZ': 560,\n",
       " 'VILLA HIDALGO': 38,\n",
       " 'VILLA SOLA DE VEGA': 277,\n",
       " 'VILLA TALEA DE CASTRO': 280,\n",
       " 'VILLA TEJUPAM DE LA UNION': 486,\n",
       " 'YAXE': 561,\n",
       " 'YOGANA': 563,\n",
       " 'YUTANDUCHI DE GUERRERO': 564,\n",
       " 'ZAPOTITLAN LAGUNAS': 567,\n",
       " 'ZAPOTITLAN PALMAS': 568,\n",
       " 'ZIMATLAN DE ALVAREZ': 570}"
      ]
     },
     "execution_count": 218,
     "metadata": {},
     "output_type": "execute_result"
    }
   ],
   "source": [
    "dict_CCEFML_OAXACA"
   ]
  },
  {
   "cell_type": "code",
   "execution_count": 219,
   "metadata": {},
   "outputs": [
    {
     "data": {
      "text/plain": [
       "['SAN PEDRO MIXTEPEC -DTO. 26 -',\n",
       " 'SAN PEDRO MIXTEPEC -DTO. 22 -',\n",
       " 'ZAPOTITLAN DEL RIO',\n",
       " 'SAN JUAN MIXTEPEC -DTO. 08 -',\n",
       " 'VILLA DE TUTUTEPEC DE MELCHOR OCAMPO',\n",
       " 'TEZOATLAN DE SEGURA Y LUNA',\n",
       " 'SAN JUAN MIXTEPEC -DTO. 26 -']"
      ]
     },
     "execution_count": 219,
     "metadata": {},
     "output_type": "execute_result"
    }
   ],
   "source": [
    "# https://www.geeksforgeeks.org/python-difference-two-lists/\n",
    "# Python code t get difference of two lists using set()\n",
    "\n",
    "def Diff(li1, li2):\n",
    "    return (list(set(li1) - set(li2)))\n",
    " \n",
    "# Driver Code\n",
    "li1 = list(df_copy[\"MUNICIPIO\"][(df_copy.ENTIDAD == estado)])\n",
    "li2 = list(df_CCEFML_copy[\"NOM_MUN\"][(df_CCEFML_copy[\"NOM_ENT\"] == estado)])\n",
    "\n",
    "Diff(li1, li2)"
   ]
  },
  {
   "cell_type": "markdown",
   "metadata": {},
   "source": [
    "Están por `NOMBRE DE CABECERA` según el [Catálogo Único de Claves de Áreas Geoestadísticas Estatales, Municipales y Localidades](http://www.inegi.org.mx/geo/contenidos/geoestadistica/catalogoclaves.aspx)\n",
    "\n",
    "|INCIDENCIAS|CLAVE DE AGEM|NOMBRE DE AGEM|NOMBRE DE CABECERA|\n",
    "| --- | --- | --- | --- |\n",
    "|SAN PEDRO MIXTEPEC -DTO. 22 -|318|SAN PEDRO MIXTEPEC|SAN PEDRO MIXTEPEC DISTRITO 22|\n",
    "|SAN PEDRO MIXTEPEC -DTO. 26 -|319|SAN PEDRO MIXTEPEC|SAN PEDRO MIXTEPEC DISTRITO 26|\n",
    "|SAN JUAN MIXTEPEC -DTO. 26 -|209|SAN JUAN MIXTEPEC|SAN JUAN MIXTEPEC DISTRITO 26|\n",
    "|SAN JUAN MIXTEPEC -DTO. 08 -|208|SAN JUAN MIXTEPEC|SAN JUAN MIXTEPEC DISTRITO 08|\n",
    "|TEZOATLAN DE SEGURA Y LUNA|549|HEROICA VILLA TEZOATLAN DE SEGURA Y LUNA, CUNA DE LA INDEPENDENCIA DE OAXACA |HEROICA VILLA TEZOATLAN DE SEGURA Y LUNA, CUNA DE LA INDEPENDENCIA DE OAXACA|\n",
    "|ZAPOTITLAN DEL RIO|566|SAN MATEO YUCUTINDOO|SAN MATEO YUCUTINDOO|\n",
    "|VILLA DE TUTUTEPEC DE MELCHOR OCAMPO|334|VILLA DE TUTUTEPEC|VILLA DE TUTUTEPEC DE MELCHOR OCAMPO|"
   ]
  },
  {
   "cell_type": "code",
   "execution_count": 220,
   "metadata": {},
   "outputs": [
    {
     "data": {
      "text/plain": [
       "array(['OAXACA DE JUAREZ', 'SALINA CRUZ', 'SAN JUAN BAUTISTA TUXTEPEC',\n",
       "       'SAN PEDRO POCHUTLA', 'VILLA DE ETLA', 'SANTA CRUZ XOXOCOTLAN',\n",
       "       'SANTA LUCIA DEL CAMINO', 'TLACOLULA DE MATAMOROS',\n",
       "       'SAN PEDRO MIXTEPEC DISTRITO 22',\n",
       "       'HEROICA CIUDAD DE HUAJUAPAN DE LEON',\n",
       "       'HEROICA CIUDAD DE JUCHITAN DE ZARAGOZA',\n",
       "       'ACATLAN DE PEREZ FIGUEROA', 'ANIMAS TRUJANO',\n",
       "       'ASUNCION CACALOTEPEC', 'ASUNCION CUYOTEPEJI',\n",
       "       'ASUNCION IXTALTEPEC', 'ASUNCION NOCHIXTLAN', 'ASUNCION OCOTLAN',\n",
       "       'ASUNCION TLACOLULITA', 'AYOQUEZCO DE ALDAMA', 'AYOTZINTEPEC',\n",
       "       'CALIHUALA', 'CANDELARIA LOXICHA', 'CHAHUITES',\n",
       "       'CHALCATONGO DE HIDALGO', 'CHIQUIHUITLAN DE BENITO JUAREZ',\n",
       "       'CIENEGA DE ZIMATLAN', 'CIUDAD IXTEPEC', 'COATECAS ALTAS',\n",
       "       'COICOYAN DE LAS FLORES', 'CONCEPCION BUENAVISTA',\n",
       "       'CONCEPCION PAPALO', 'CONSTANCIA DEL ROSARIO', 'COSOLAPA',\n",
       "       'COSOLTEPEC', 'CUILAPAM DE GUERRERO',\n",
       "       'CUYAMECALCO VILLA DE ZARAGOZA',\n",
       "       'HEROICA CIUDAD DE EJUTLA DE CRESPO', 'EL BARRIO DE LA SOLEDAD',\n",
       "       'EL ESPINAL', 'FRESNILLO DE TRUJANO', 'GUADALUPE ETLA',\n",
       "       'GUADALUPE DE RAMIREZ', 'GUELATAO DE JUAREZ', 'GUEVEA DE HUMBOLDT',\n",
       "       'HEROICA CIUDAD DE TLAXIACO', 'IXPANTEPEC NIEVES',\n",
       "       'HUAUTLA DE JIMENEZ', 'IXTLAN DE JUAREZ', 'LA COMPAÑIA',\n",
       "       'LA TRINIDAD VISTA HERMOSA', 'LA PE', 'LOMA BONITA',\n",
       "       'MAGDALENA APASCO', 'MAGDALENA JALTEPEC', 'MAGDALENA MIXTEPEC',\n",
       "       'MAGDALENA OCOTLAN', 'MAGDALENA PEÑASCO', 'MAGDALENA TEITIPAC',\n",
       "       'MAGDALENA TEQUISISTLAN', 'MAGDALENA TLACOTEPEC',\n",
       "       'MAGDALENA YODOCONO DE PORFIRIO DIAZ', 'MAGDALENA ZAHUATLAN',\n",
       "       'MARISCALA DE JUAREZ', 'MARTIRES DE TACUBAYA',\n",
       "       'MATIAS ROMERO AVENDAÑO', 'MAZATLAN VILLA DE FLORES',\n",
       "       'MESONES HIDALGO', 'MIAHUATLAN DE PORFIRIO DIAZ',\n",
       "       'MIXISTLAN DE LA REFORMA', 'MONJAS', 'NAZARENO ETLA',\n",
       "       'NEJAPA DE MADERO', 'NUEVO ZOQUIAPAM', 'OCOTLAN DE MORELOS',\n",
       "       'PINOTEPA DE DON LUIS', 'PLUMA HIDALGO', 'PUTLA VILLA DE GUERRERO',\n",
       "       'REFORMA DE PINEDA', 'REYES ETLA', 'ROJAS DE CUAUHTEMOC',\n",
       "       'SAN AGUSTIN AMATENGO', 'SAN AGUSTIN ATENANGO',\n",
       "       'SAN AGUSTIN CHAYUCO', 'SAN AGUSTIN DE LAS JUNTAS',\n",
       "       'SAN AGUSTIN ETLA', 'SAN AGUSTIN LOXICHA', 'SAN AGUSTIN TLACOTEPEC',\n",
       "       'SAN AGUSTIN YATARENI', 'SAN ANDRES CABECERA NUEVA',\n",
       "       'SAN ANDRES DINICUITI', 'SAN ANDRES HUAXPALTEPEC',\n",
       "       'SAN ANDRES HUAYAPAM', 'SAN ANDRES IXTLAHUACA', 'SAN ANDRES NUXIÑO',\n",
       "       'SAN ANDRES PAXTLAN', 'SAN ANDRES SINAXTLA',\n",
       "       'SAN ANDRES TEOTILALPAM', 'SAN ANDRES ZABACHE', 'SAN ANDRES ZAUTLA',\n",
       "       'SAN ANTONINO CASTILLO VELASCO', 'SAN ANTONINO MONTE VERDE',\n",
       "       'SAN ANTONIO ACUTLA', 'SAN ANTONIO DE LA CAL',\n",
       "       'SAN ANTONINO EL ALTO', 'ELOXOCHITLAN DE FLORES MAGON',\n",
       "       'SAN ANTONIO HUITEPEC', 'SAN ANTONIO NANAHUATIPAM',\n",
       "       'SAN ANTONIO SINICAHUA', 'SAN ANTONIO TEPETLAPA',\n",
       "       'SAN BALTAZAR CHICHICAPAM', 'SAN BALTAZAR LOXICHA',\n",
       "       'SAN BALTAZAR YATZACHI EL BAJO', 'SAN BARTOLOME AYAUTLA',\n",
       "       'SAN BARTOLO COYOTEPEC', 'SAN BARTOLO SOYALTEPEC',\n",
       "       'SAN BARTOLO YAUTEPEC', 'SAN BARTOLOME LOXICHA',\n",
       "       'SAN BARTOLOME QUIALANA', 'SAN BARTOLOME YUCUAÑE',\n",
       "       'SAN BARTOLOME ZOOGOCHO', 'SAN BERNARDO MIXTEPEC',\n",
       "       'SAN BLAS ATEMPA', 'SAN CARLOS YAUTEPEC', 'SAN CRISTOBAL AMATLAN',\n",
       "       'SAN CRISTOBAL AMOLTEPEC', 'SAN CRISTOBAL LACHIRIOAG',\n",
       "       'SAN CRISTOBAL SUCHIXTLAHUACA', 'SAN DIONISIO DEL MAR',\n",
       "       'SAN DIONISIO OCOTEPEC', 'SAN DIONISIO OCOTLAN',\n",
       "       'SAN ESTEBAN ATATLAHUCA', 'SAN FELIPE JALAPA DE DIAZ',\n",
       "       'SAN FELIPE TEJALAPAM', 'SAN FELIPE USILA',\n",
       "       'SAN FRANCISCO CAHUACUA', 'SAN FRANCISCO CHINDUA',\n",
       "       'SAN FRANCISCO DEL MAR', 'SAN FRANCISCO HUEHUETLAN',\n",
       "       'SAN FRANCISCO IXHUATAN', 'SAN FRANCISCO JALTEPETONGO',\n",
       "       'SAN FRANCISCO LACHIGOLO', 'SAN FRANCISCO NUXAÑO',\n",
       "       'SAN FRANCISCO OZOLOTEPEC', 'SAN FRANCISCO SOLA',\n",
       "       'SAN FRANCISCO TELIXTLAHUACA', 'SAN FRANCISCO TLAPANCINGO',\n",
       "       'SAN GABRIEL MIXTEPEC', 'SAN ILDEFONSO AMATLAN',\n",
       "       'SAN ILDEFONSO SOLA', 'SAN ILDEFONSO VILLA ALTA',\n",
       "       'SAN JACINTO AMILPAS', 'SAN JACINTO TLACOTEPEC',\n",
       "       'SAN JERONIMO COATLAN', 'SAN JERONIMO SILACAYOAPILLA',\n",
       "       'SAN JERONIMO SOSOLA', 'SAN JERONIMO TAVICHE',\n",
       "       'SAN JERONIMO TECOATL', 'SAN JERONIMO TLACOCHAHUAYA',\n",
       "       'SAN JORGE NUCHITA', 'SAN JOSE AYUQUILA', 'SAN JOSE CHILTEPEC',\n",
       "       'SAN JOSE DEL PEÑASCO', 'SAN JOSE DEL PROGRESO',\n",
       "       'SAN JOSE ESTANCIA GRANDE', 'SAN JOSE INDEPENDENCIA',\n",
       "       'SAN JOSE LACHIGUIRI', 'SAN JOSE TENANGO', 'SAN JUAN ACHIUTLA',\n",
       "       'SAN JUAN BAUTISTA ATATLAHUCA', 'SAN JUAN ATEPEC',\n",
       "       'SAN JUAN BAUTISTA COIXTLAHUACA', 'SAN JUAN BAUTISTA CUICATLAN',\n",
       "       'SAN JUAN BAUTISTA GUELACHE', 'SAN JUAN BAUTISTA JAYACATLAN',\n",
       "       'SAN JUAN BAUTISTA LO DE SOTO', 'SAN JUAN BAUTISTA SUCHITEPEC',\n",
       "       'SAN JUAN BAUTISTA TLACOATZINTEPEC',\n",
       "       'SAN JUAN BAUTISTA VALLE NACIONAL', 'SAN JUAN CACAHUATEPEC',\n",
       "       'SAN JUAN CHICOMEZUCHIL', 'SAN JUAN CHILATECA',\n",
       "       'SAN JUAN COATZOSPAM', 'SAN JUAN COLORADO', 'SAN JUAN COMALTEPEC',\n",
       "       'SAN JUAN COTZOCON', 'SAN JUAN DE LOS CUES', 'SAN JUAN DEL ESTADO',\n",
       "       'SAN JUAN DEL RIO', 'SAN JUAN DIUXI', 'SAN JUAN EVANGELISTA ANALCO',\n",
       "       'SAN JUAN GUELAVIA', 'SAN JUAN GUICHICOVI', 'SAN JUAN IHUALTEPEC',\n",
       "       'SAN JUAN JUQUILA MIXES', 'SAN JUAN JUQUILA VIJANOS',\n",
       "       'SAN JUAN LACHAO', 'SAN JUAN LACHIGALLA', 'SAN JUAN LALANA',\n",
       "       'SAN JUAN MAZATLAN', 'SAN JUAN MIXTEPEC DISTRITO 26',\n",
       "       'SAN JUAN ÑUMI', 'SAN JUAN OZOLOTEPEC', 'SAN JUAN PETLAPA',\n",
       "       'SAN JUAN QUIAHIJE', 'SAN JUAN QUIOTEPEC', 'SAN JUAN SAYULTEPEC',\n",
       "       'SAN JUAN TABAA', 'SAN JUAN TAMAZOLA', 'SAN JUAN TEITA',\n",
       "       'SAN JUAN TEITIPAC', 'SAN JUAN TEPEUXILA', 'SAN JUAN TEPOSCOLULA',\n",
       "       'SAN JUAN YAEE', 'SAN JUAN YUCUITA', 'SAN LORENZO',\n",
       "       'SAN LORENZO ALBARRADAS', 'SAN LORENZO CACAOTEPEC',\n",
       "       'SAN LORENZO TEXMELUCAN', 'SAN LORENZO VICTORIA',\n",
       "       'SAN LUCAS CAMOTLAN', 'SAN LUCAS OJITLAN', 'SAN LUCAS QUIAVINI',\n",
       "       'SAN LUCAS ZOQUIAPAM', 'SAN LUIS AMATLAN', 'SAN MARCOS ARTEAGA',\n",
       "       'SAN MARCIAL OZOLOTEPEC', 'SAN MARTIN DE LOS CANSECOS',\n",
       "       'SAN MARTIN HUAMELULPAM', 'SAN MARTIN ITUNYOSO',\n",
       "       'SAN MARTIN LACHILA', 'SAN MARTIN PERAS', 'SAN MARTIN TILCAJETE',\n",
       "       'SAN MARTIN TOXPALAN', 'SAN MARTIN ZACATEPEC', 'SAN MATEO DEL MAR',\n",
       "       'SAN MATEO ETLATONGO', 'SAN MATEO NEJAPAM', 'SAN MATEO PEÑASCO',\n",
       "       'SAN MATEO PIÑAS', 'SAN MATEO RIO HONDO', 'SAN MATEO TLAPILTEPEC',\n",
       "       'SAN MATEO SINDIHUI', 'SAN MATEO YOLOXOCHITLAN',\n",
       "       'SAN MATEO YUCUTINDOO', 'SAN MIGUEL ACHIUTLA',\n",
       "       'SAN MIGUEL AHUEHUETITLAN', 'SAN MIGUEL ALOAPAM',\n",
       "       'SAN MIGUEL AMATITLAN', 'SAN MIGUEL AMATLAN', 'SAN MIGUEL CHICAHUA',\n",
       "       'SAN MIGUEL CHIMALAPA', 'SAN MIGUEL COATLAN',\n",
       "       'SAN MIGUEL DEL PUERTO', 'SAN MIGUEL EJUTLA',\n",
       "       'SAN MIGUEL EL GRANDE', 'HUAUTEPEC', 'SAN MIGUEL HUAUTLA',\n",
       "       'SAN MIGUEL MIXTEPEC', 'SAN MIGUEL PANIXTLAHUACA',\n",
       "       'SAN MIGUEL PERAS', 'SAN MIGUEL QUETZALTEPEC',\n",
       "       'SAN MIGUEL SANTA FLOR', 'SAN MIGUEL SOYALTEPEC',\n",
       "       'SAN MIGUEL SUCHIXTEPEC', 'SAN MIGUEL TECOMATLAN',\n",
       "       'SAN MIGUEL TENANGO', 'SAN MIGUEL TEQUIXTEPEC',\n",
       "       'SAN MIGUEL TILQUIAPAM', 'SAN MIGUEL TLACAMAMA',\n",
       "       'SAN MIGUEL TLACOTEPEC', 'SAN NICOLAS', 'SAN NICOLAS HIDALGO',\n",
       "       'SAN PABLO COATLAN', 'SAN PABLO ETLA', 'SAN PABLO HUITZO',\n",
       "       'SAN PABLO HUIXTEPEC', 'SAN PABLO MACUILTIANGUIS',\n",
       "       'SAN PABLO VILLA DE MITLA', 'SAN PABLO YAGANIZA',\n",
       "       'SAN PEDRO AMUZGOS', 'SAN PEDRO APOSTOL', 'SAN PEDRO ATOYAC',\n",
       "       'SAN PEDRO CAJONOS', 'SAN PEDRO COMITANCILLO', 'SAN PEDRO EL ALTO',\n",
       "       'SAN PEDRO HUAMELULA', 'SAN PEDRO HUILOTEPEC', 'SAN PEDRO IXCATLAN',\n",
       "       'SAN PEDRO IXTLAHUACA', 'SAN PEDRO JALTEPETONGO',\n",
       "       'SAN PEDRO JICAYAN', 'SAN PEDRO JUCHATENGO', 'SAN PEDRO MARTIR',\n",
       "       'SAN PEDRO MOLINOS', 'SAN PEDRO MARTIR QUIECHAPA',\n",
       "       'SAN PEDRO MARTIR YUCUXACO', 'SAN PEDRO NOPALA',\n",
       "       'SAN PEDRO OCOPETATILLO', 'SAN PEDRO OCOTEPEC',\n",
       "       'SAN PEDRO QUIATONI', 'SAN PEDRO SOCHIAPAM',\n",
       "       'SAN PEDRO TAPANATEPEC', 'SAN PEDRO TAVICHE', 'SAN PEDRO TEUTILA',\n",
       "       'SAN PEDRO TEOZACOALCO', 'SAN PEDRO TIDAA', 'SAN PEDRO TOTOLAPAM',\n",
       "       'SAN PEDRO Y SAN PABLO AYUTLA', 'SAN PEDRO Y SAN PABLO TEPOSCOLULA',\n",
       "       'SAN PEDRO Y SAN PABLO TEQUIXTEPEC', 'SAN PEDRO YANERI',\n",
       "       'SAN PEDRO YOLOX', 'SAN PEDRO YUCUNAMA', 'SAN RAYMUNDO JALPAN',\n",
       "       'SAN SEBASTIAN ABASOLO', 'SAN SEBASTIAN COATLAN',\n",
       "       'SAN SEBASTIAN IXCAPA', 'SAN SEBASTIAN NICANANDUTA',\n",
       "       'SAN SEBASTIAN RIO HONDO', 'SAN SEBASTIAN TECOMAXTLAHUACA',\n",
       "       'SAN SEBASTIAN TEITIPAC', 'SAN SEBASTIAN TUTLA',\n",
       "       'SAN SIMON ALMOLONGAS', 'SAN SIMON ZAHUATLAN',\n",
       "       'SAN VICENTE COATLAN', 'SAN VICENTE LACHIXIO', 'SANTA ANA',\n",
       "       'SANTA ANA CUAUHTEMOC', 'SANTA ANA ATEIXTLAHUACA',\n",
       "       'SANTA ANA DEL VALLE', 'SANTA ANA TLAPACOYAN', 'SANTA ANA ZEGACHE',\n",
       "       'SANTA CATARINA CUIXTLA', 'SANTA CATARINA IXTEPEJI',\n",
       "       'SANTA CATARINA JUQUILA', 'SANTA CATARINA LACHATAO',\n",
       "       'SANTA CATARINA LOXICHA', 'SANTA CATARINA MECHOACAN',\n",
       "       'SANTA CATARINA MINAS', 'SANTA CATARINA QUIANE',\n",
       "       'SANTA CATALINA QUIERI', 'SANTA CATARINA QUIOQUITANI',\n",
       "       'SANTA CATARINA TAYATA', 'SANTA CATARINA TICUA',\n",
       "       'SANTA CATARINA YOSONOTU', 'SANTA CATARINA ZAPOQUILA',\n",
       "       'SANTA CRUZ ACATEPEC', 'SANTA CRUZ AMILPAS', 'SANTA CRUZ ITUNDUJIA',\n",
       "       'SANTA CRUZ MIXTEPEC', 'SANTA CRUZ NUNDACO', 'SANTA CRUZ PAPALUTLA',\n",
       "       'SANTA CRUZ TACACHE DE MINA', 'SANTA CRUZ TACAHUA',\n",
       "       'SANTA CRUZ TAYATA', 'SANTA CRUZ XITLA', 'SANTA CRUZ ZENZONTEPEC',\n",
       "       'SANTA GERTRUDIS', 'SANTA INES DE ZARAGOZA', 'SANTA INES DEL MONTE',\n",
       "       'SANTA INES YATZECHE', 'SANTA LUCIA MIAHUATLAN',\n",
       "       'SANTA LUCIA MONTEVERDE', 'SANTA LUCIA OCOTLAN',\n",
       "       'SANTA MARIA ALOTEPEC', 'SANTA MARIA APAZCO', 'SANTA MARIA ATZOMPA',\n",
       "       'SANTA MARIA CAMOTLAN', 'SANTA MARIA CHACHOAPAM',\n",
       "       'SANTA MARIA CHILCHOTLA', 'SANTA MARIA CHIMALAPA',\n",
       "       'SANTA MARIA COLOTEPEC', 'SANTA MARIA CORTIJO',\n",
       "       'SANTA MARIA COYOTEPEC', 'SANTA MARIA DEL ROSARIO',\n",
       "       'SANTA MARIA DEL TULE', 'SANTA MARIA ECATEPEC',\n",
       "       'SANTA MARIA GUIENAGATI', 'SANTA MARIA GUELACE',\n",
       "       'SANTA MARIA HUATULCO', 'SANTA MARIA HUAZOLOTITLAN',\n",
       "       'SANTA MARIA IPALAPA', 'SANTA MARIA JACATEPEC',\n",
       "       'SANTA MARIA NATIVITAS', 'SANTA MARIA JALAPA DEL MARQUES',\n",
       "       'SANTA MARIA LA ASUNCION', 'SANTA MARIA LACHIXIO',\n",
       "       'SANTA MARIA MIXTEQUILLA', 'SANTA MARIA NDUAYACO',\n",
       "       'SANTA MARIA OZOLOTEPEC', 'SANTA MARIA PAPALO',\n",
       "       'SANTA MARIA PEÑOLES', 'SANTA MARIA PETAPA', 'SANTA MARIA SOLA',\n",
       "       'SANTA MARIA TECOMAVACA', 'SANTA MARIA TEMAXCALAPA',\n",
       "       'SANTA MARIA TEMAXCALTEPEC', 'SANTA MARIA TEOPOXCO',\n",
       "       'SANTA MARIA TEPANTLALI', 'SANTA MARIA TLAHUITOLTEPEC',\n",
       "       'SANTA MARIA TLALIXTAC', 'SANTA MARIA TONAMECA',\n",
       "       'SANTA MARIA TOTOLAPILLA', 'SANTA MARIA XADANI',\n",
       "       'SANTA MARIA YALINA', 'SANTA MARIA YOLOTEPEC',\n",
       "       'SANTA MARIA YUCUHITI', 'SANTA MARIA ZACATEPEC',\n",
       "       'SANTA MARIA ZOQUITLAN', 'SANTIAGO AMOLTEPEC', 'SANTIAGO APOALA',\n",
       "       'SANTIAGO APOSTOL', 'SANTIAGO ASTATA', 'SANTIAGO AYUQUILILLA',\n",
       "       'SANTIAGO CACALOXTEPEC', 'SANTIAGO CAMOTLAN', 'SANTIAGO CHAZUMBA',\n",
       "       'SANTIAGO CHOAPAM', 'SANTIAGO COMALTEPEC', 'SANTIAGO DEL RIO',\n",
       "       'SANTIAGO HUAUCLILLA', 'SANTIAGO HUAJOLOTITLAN',\n",
       "       'SANTIAGO IHUITLAN PLUMAS', 'SANTIAGO IXCUINTEPEC',\n",
       "       'SANTIAGO IXTAYUTLA', 'SANTIAGO JAMILTEPEC', 'SANTIAGO JOCOTEPEC',\n",
       "       'SANTIAGO JUXTLAHUACA', 'SANTIAGO LACHIGUIRI', 'SANTIAGO LAOLLAGA',\n",
       "       'SANTIAGO LALOPA', 'SANTIAGO LAXOPA', 'SANTIAGO LLANO GRANDE',\n",
       "       'SANTIAGO MATATLAN', 'SANTIAGO MILTEPEC', 'SANTIAGO MINAS',\n",
       "       'SANTIAGO NACALTEPEC', 'SANTIAGO NILTEPEC', 'SANTIAGO NUNDICHE',\n",
       "       'SANTIAGO PINOTEPA NACIONAL', 'SANTIAGO SUCHILQUITONGO',\n",
       "       'SANTIAGO TAMAZOLA', 'SANTIAGO TAPEXTLA', 'SANTIAGO TENANGO',\n",
       "       'TEOTONGO', 'SANTIAGO TETEPEC', 'SANTIAGO TEXCALCINGO',\n",
       "       'SANTIAGO TEXTITLAN', 'SANTIAGO TILANTONGO', 'SANTIAGO TILLO',\n",
       "       'SANTIAGO TLAZOYALTEPEC', 'SANTIAGO XANICA', 'SANTIAGO XIACUI',\n",
       "       'SANTIAGO YAITEPEC', 'SANTIAGO YAVEO', 'SANTIAGO YOLOMECATL',\n",
       "       'SANTIAGO YOSONDUA', 'SANTIAGO YUCUYACHI', 'SANTIAGO ZACATEPEC',\n",
       "       'SANTIAGO ZOOCHILA', 'SANTO DOMINGO ALBARRADAS',\n",
       "       'SANTO DOMINGO ARMENTA', 'SANTO DOMINGO CHIHUITAN',\n",
       "       'SANTO DOMINGO DE MORELOS', 'SANTO DOMINGO INGENIO',\n",
       "       'SANTO DOMINGO IXCATLAN', 'SANTO DOMINGO NUXAA',\n",
       "       'SANTO DOMINGO PETAPA', 'SANTO DOMINGO TEHUANTEPEC',\n",
       "       'SANTO DOMINGO TEOJOMULCO', 'SANTO DOMINGO TEPUXTEPEC',\n",
       "       'SANTO DOMINGO TOMALTEPEC', 'SANTO DOMINGO TONALA',\n",
       "       'SANTO DOMINGO TONALTEPEC', 'SANTO DOMINGO YANHUITLAN',\n",
       "       'SANTO DOMINGO ZANATEPEC', 'SANTO TOMAS JALIEZA',\n",
       "       'SANTO TOMAS MAZALTEPEC', 'SANTO TOMAS OCOTEPEC',\n",
       "       'SANTO TOMAS TAMAZULAPAN', 'SANTOS REYES NOPALA',\n",
       "       'SANTOS REYES TEPEJILLO', 'SANTOS REYES YUCUNA', 'SILACAYOAPAM',\n",
       "       'SITIO DE XITLAPEHUA', 'SOLEDAD ETLA',\n",
       "       'TAMAZULAPAM DEL ESPIRITU SANTO', 'TANETZE DE ZARAGOZA', 'TANICHE',\n",
       "       'TATALTEPEC DE VALDES', 'TEOCOCUILCO DE MARCOS PEREZ',\n",
       "       'TEOTITLAN DE FLORES MAGON', 'TEOTITLAN DEL VALLE',\n",
       "       'TEPELMEME VILLA DE MORELOS',\n",
       "       'HEROICA VILLA TEZOATLAN DE SEGURA Y LUNA, CUNA DE LA INDEPENDENCIA DE OAXACA',\n",
       "       'TLACOTEPEC PLUMAS', 'TLALIXTAC DE CABRERA',\n",
       "       'TOTONTEPEC VILLA DE MORELOS', 'TRINIDAD ZAACHILA', 'UNION HIDALGO',\n",
       "       'VALERIO TRUJANO', 'VILLA DE CHILAPA DE DIAZ',\n",
       "       'VILLA DE TAMAZULAPAM DEL PROGRESO',\n",
       "       'VILLA DE TUTUTEPEC DE MELCHOR OCAMPO', 'VILLA DE ZAACHILA',\n",
       "       'VILLA DIAZ ORDAZ', 'VILLA SOLA DE VEGA', 'VILLA TALEA DE CASTRO',\n",
       "       'VILLA TEJUPAM DE LA UNION', 'YAXE', 'YOGANA',\n",
       "       'YUTANDUCHI DE GUERRERO', 'ZAPOTITLAN LAGUNAS', 'ZAPOTITLAN PALMAS',\n",
       "       'ZIMATLAN DE ALVAREZ', 'ABEJONES', 'CAPULALPAM DE MENDEZ',\n",
       "       'LA REFORMA', 'SAN ANDRES LAGUNAS', 'SAN ANDRES SOLAGA',\n",
       "       'NATIVIDAD', 'SAN ANDRES TEPETLAPA', 'SAN ANDRES YAA',\n",
       "       'SAN FRANCISCO CAJONOS', 'SAN FRANCISCO CHAPULAPA',\n",
       "       'SAN FRANCISCO LOGUECHE', 'SAN FRANCISCO TEOPAN',\n",
       "       'SAN JUAN BAUTISTA TLACHICHILCO', 'SAN JUAN CIENEGUILLA',\n",
       "       'SAN JUAN LAJARCIA', 'SAN JUAN MIXTEPEC DISTRITO 08',\n",
       "       'SAN JUAN YATZONA', 'SAN LORENZO CUAUNECUILTITLA',\n",
       "       'SAN MATEO CAJONOS', 'SAN MELCHOR BETAZA', 'SAN MIGUEL DEL RIO',\n",
       "       'SAN MIGUEL PIEDRAS', 'SAN MIGUEL TULANCINGO', 'SAN MIGUEL YOTAO',\n",
       "       'SAN PABLO CUATRO VENADOS', 'SAN PABLO TIJALTEPEC',\n",
       "       'SAN PEDRO COXCALTEPEC CANTAROS', 'SAN PEDRO JOCOTIPAC',\n",
       "       'SAN PEDRO TOPILTEPEC', 'SAN VICENTE NUÑU', 'SANTA ANA TAVELA',\n",
       "       'SANTA ANA YARENI', 'SANTA CRUZ DE BRAVO',\n",
       "       'SANTA MAGDALENA JICOTLAN', 'SANTA MARIA IXCATLAN',\n",
       "       'SANTA MARIA JALTIANGUIS', 'SANTA MARIA QUIEGOLANI',\n",
       "       'SANTA MARIA TATALTEPEC', 'SANTA MARIA TEXCATITLAN',\n",
       "       'SANTA MARIA YAVESIA', 'SANTA MARIA YOSOYUA', 'SANTA MARIA ZANIZA',\n",
       "       'SANTIAGO ATITLAN', 'SANTIAGO NEJAPILLA', 'SANTIAGO NUYOO',\n",
       "       'SANTIAGO TEPETLAPA', 'SANTO DOMINGO OZOLOTEPEC',\n",
       "       'SANTO DOMINGO ROAYAGA', 'SANTO DOMINGO TLATAYAPAM',\n",
       "       'SANTO DOMINGO XAGACIA', 'SANTO DOMINGO YODOHINO',\n",
       "       'SANTOS REYES PAPALO', 'VILLA HIDALGO',\n",
       "       'SSAN PEDRO MIXTEPEC DISTRITO 26'], dtype=object)"
      ]
     },
     "execution_count": 220,
     "metadata": {},
     "output_type": "execute_result"
    }
   ],
   "source": [
    "df_copy['MUNICIPIO'][(df_copy['ENTIDAD'] == estado)] = df_copy['MUNICIPIO'][(df_copy['ENTIDAD'] == estado)].replace({'SAN PEDRO MIXTEPEC -DTO. 22 -' : 'SAN PEDRO MIXTEPEC DISTRITO 22'})\n",
    "df_copy['CVE_MUN'][(df_copy['ENTIDAD'] == estado)] = df_copy['CVE_MUN'][(df_copy['ENTIDAD'] == estado)].replace({'SAN PEDRO MIXTEPEC -DTO. 22 -' : 'SAN PEDRO MIXTEPEC DISTRITO 22'})\n",
    "\n",
    "df_copy['MUNICIPIO'][(df_copy['ENTIDAD'] == estado)] = df_copy['MUNICIPIO'][(df_copy['ENTIDAD'] == estado)].replace({'SAN PEDRO MIXTEPEC -DTO. 26 -' : 'SSAN PEDRO MIXTEPEC DISTRITO 26'})\n",
    "df_copy['CVE_MUN'][(df_copy['ENTIDAD'] == estado)] = df_copy['CVE_MUN'][(df_copy['ENTIDAD'] == estado)].replace({'SAN PEDRO MIXTEPEC -DTO. 26 -' : 'SAN PEDRO MIXTEPEC DISTRITO 26'})\n",
    "\n",
    "df_copy['MUNICIPIO'][(df_copy['ENTIDAD'] == estado)] = df_copy['MUNICIPIO'][(df_copy['ENTIDAD'] == estado)].replace({'SAN JUAN MIXTEPEC -DTO. 26 -' : 'SAN JUAN MIXTEPEC DISTRITO 26'})\n",
    "df_copy['CVE_MUN'][(df_copy['ENTIDAD'] == estado)] = df_copy['CVE_MUN'][(df_copy['ENTIDAD'] == estado)].replace({'SAN JUAN MIXTEPEC -DTO. 26 -' : 'SAN JUAN MIXTEPEC DISTRITO 26'})\n",
    "\n",
    "df_copy['MUNICIPIO'][(df_copy['ENTIDAD'] == estado)] = df_copy['MUNICIPIO'][(df_copy['ENTIDAD'] == estado)].replace({'SAN JUAN MIXTEPEC -DTO. 08 -' : 'SAN JUAN MIXTEPEC DISTRITO 08'})\n",
    "df_copy['CVE_MUN'][(df_copy['ENTIDAD'] == estado)] = df_copy['CVE_MUN'][(df_copy['ENTIDAD'] == estado)].replace({'SAN JUAN MIXTEPEC -DTO. 08 -' : 'SAN JUAN MIXTEPEC DISTRITO 08'})\n",
    "\n",
    "df_copy['MUNICIPIO'][(df_copy['ENTIDAD'] == estado)] = df_copy['MUNICIPIO'][(df_copy['ENTIDAD'] == estado)].replace({'TEZOATLAN DE SEGURA Y LUNA' : 'HEROICA VILLA TEZOATLAN DE SEGURA Y LUNA, CUNA DE LA INDEPENDENCIA DE OAXACA'})\n",
    "df_copy['CVE_MUN'][(df_copy['ENTIDAD'] == estado)] = df_copy['CVE_MUN'][(df_copy['ENTIDAD'] == estado)].replace({'TEZOATLAN DE SEGURA Y LUNA' : 'HEROICA VILLA TEZOATLAN DE SEGURA Y LUNA, CUNA DE LA INDEPENDENCIA DE OAXACA'})\n",
    "\n",
    "df_copy['MUNICIPIO'][(df_copy['ENTIDAD'] == estado)] = df_copy['MUNICIPIO'][(df_copy['ENTIDAD'] == estado)].replace({'ZAPOTITLAN DEL RIO' : 'SAN MATEO YUCUTINDOO'})\n",
    "df_copy['CVE_MUN'][(df_copy['ENTIDAD'] == estado)] = df_copy['CVE_MUN'][(df_copy['ENTIDAD'] == estado)].replace({'ZAPOTITLAN DEL RIO' : 'SAN MATEO YUCUTINDOO'})\n",
    "\n",
    "df_copy['MUNICIPIO'][(df_copy['ENTIDAD'] == estado)] = df_copy['MUNICIPIO'][(df_copy['ENTIDAD'] == estado)].replace({'VILLA DE TUTUTEPEC DE MELCHOR OCAMPO' : 'VILLA DE TUTUTEPEC DE MELCHOR OCAMPO'})\n",
    "df_copy['CVE_MUN'][(df_copy['ENTIDAD'] == estado)] = df_copy['CVE_MUN'][(df_copy['ENTIDAD'] == estado)].replace({'VILLA DE TUTUTEPEC DE MELCHOR OCAMPO' : 'VILLA DE TUTUTEPEC DE MELCHOR OCAMPO'})\n",
    "\n",
    "df_copy['MUNICIPIO'][(df_copy['ENTIDAD'] == estado)].unique()"
   ]
  },
  {
   "cell_type": "code",
   "execution_count": 221,
   "metadata": {},
   "outputs": [],
   "source": [
    "dict_CCEFML_OAXACA['SAN PEDRO MIXTEPEC DISTRITO 22'] = 318\n",
    "dict_CCEFML_OAXACA['SAN JUAN MIXTEPEC DISTRITO 08'] = 208\n",
    "\n",
    "dict_CCEFML_OAXACA['SAN PEDRO MIXTEPEC DISTRITO 26'] = dict_CCEFML_OAXACA.pop('SAN PEDRO MIXTEPEC')\n",
    "dict_CCEFML_OAXACA['SAN JUAN MIXTEPEC DISTRITO 26'] = dict_CCEFML_OAXACA.pop('SAN JUAN MIXTEPEC')\n",
    "dict_CCEFML_OAXACA['VILLA DE TUTUTEPEC DE MELCHOR OCAMPO'] = dict_CCEFML_OAXACA.pop('VILLA DE TUTUTEPEC')"
   ]
  },
  {
   "cell_type": "code",
   "execution_count": 222,
   "metadata": {},
   "outputs": [
    {
     "data": {
      "text/plain": [
       "array([67.0, 79.0, 184.0, 324.0, 338.0, 385.0, 390.0, 551.0, 318.0, 39.0,\n",
       "       43.0, 2.0, 174.0, 3.0, 4.0, 5.0, 6.0, 7.0, 8.0, 398.0, 9.0, 11.0,\n",
       "       12.0, 25.0, 26.0, 27.0, 13.0, 14.0, 15.0, 16.0, 18.0, 19.0, 20.0,\n",
       "       21.0, 22.0, 23.0, 24.0, 28.0, 10.0, 30.0, 32.0, 33.0, 34.0, 35.0,\n",
       "       36.0, 397.0, 65.0, 41.0, 42.0, 17.0, 556.0, 69.0, 44.0, 45.0, 46.0,\n",
       "       48.0, 49.0, 50.0, 51.0, 52.0, 53.0, 562.0, 54.0, 55.0, 56.0, 57.0,\n",
       "       58.0, 37.0, 59.0, 60.0, 61.0, 63.0, 64.0, 504.0, 68.0, 70.0, 71.0,\n",
       "       73.0, 75.0, 77.0, 78.0, 80.0, 81.0, 82.0, 83.0, 84.0, 85.0, 86.0,\n",
       "       87.0, 88.0, 89.0, 90.0, 91.0, 92.0, 94.0, 95.0, 96.0, 98.0, 101.0,\n",
       "       102.0, 103.0, 105.0, 106.0, 107.0, 104.0, 29.0, 108.0, 109.0, 110.0,\n",
       "       111.0, 112.0, 113.0, 114.0, 116.0, 115.0, 121.0, 122.0, 117.0,\n",
       "       118.0, 119.0, 120.0, 123.0, 124.0, 125.0, 126.0, 127.0, 128.0,\n",
       "       129.0, 130.0, 131.0, 132.0, 133.0, 134.0, 135.0, 136.0, 137.0,\n",
       "       140.0, 141.0, 142.0, 143.0, 144.0, 145.0, 147.0, 148.0, 149.0,\n",
       "       150.0, 152.0, 153.0, 154.0, 155.0, 156.0, 157.0, 158.0, 159.0,\n",
       "       160.0, 161.0, 162.0, 163.0, 550.0, 164.0, 165.0, 166.0, 167.0, 72.0,\n",
       "       168.0, 169.0, 170.0, 171.0, 172.0, 175.0, 173.0, 176.0, 177.0,\n",
       "       178.0, 179.0, 180.0, 181.0, 182.0, 559.0, 185.0, 191.0, 192.0,\n",
       "       187.0, 188.0, 189.0, 190.0, 206.0, 193.0, 194.0, 195.0, 196.0,\n",
       "       197.0, 198.0, 199.0, 200.0, 201.0, 202.0, 203.0, 205.0, 207.0,\n",
       "       209.0, 210.0, 211.0, 212.0, 213.0, 214.0, 215.0, 216.0, 217.0,\n",
       "       218.0, 219.0, 220.0, 221.0, 222.0, 224.0, 225.0, 226.0, 227.0,\n",
       "       229.0, 230.0, 231.0, 232.0, 233.0, 234.0, 235.0, 237.0, 236.0,\n",
       "       238.0, 239.0, 240.0, 241.0, 242.0, 243.0, 244.0, 245.0, 248.0,\n",
       "       250.0, 251.0, 252.0, 253.0, 254.0, 256.0, 255.0, 249.0, 566.0,\n",
       "       258.0, 259.0, 260.0, 261.0, 262.0, 264.0, 265.0, 263.0, 266.0,\n",
       "       268.0, 269.0, 40.0, 270.0, 271.0, 272.0, 273.0, 275.0, 276.0, 278.0,\n",
       "       279.0, 281.0, 282.0, 283.0, 284.0, 285.0, 286.0, 289.0, 290.0,\n",
       "       291.0, 293.0, 294.0, 295.0, 296.0, 298.0, 299.0, 300.0, 301.0,\n",
       "       302.0, 303.0, 305.0, 306.0, 307.0, 308.0, 309.0, 310.0, 311.0,\n",
       "       312.0, 314.0, 315.0, 320.0, 316.0, 317.0, 321.0, 322.0, 323.0,\n",
       "       325.0, 326.0, 327.0, 328.0, 330.0, 329.0, 331.0, 333.0, 337.0,\n",
       "       339.0, 340.0, 335.0, 336.0, 341.0, 342.0, 343.0, 344.0, 345.0,\n",
       "       346.0, 347.0, 348.0, 349.0, 350.0, 351.0, 352.0, 534.0, 535.0,\n",
       "       353.0, 355.0, 354.0, 356.0, 358.0, 360.0, 362.0, 363.0, 364.0,\n",
       "       365.0, 366.0, 367.0, 368.0, 369.0, 361.0, 74.0, 370.0, 371.0, 372.0,\n",
       "       373.0, 374.0, 375.0, 377.0, 378.0, 379.0, 380.0, 381.0, 382.0,\n",
       "       383.0, 384.0, 386.0, 387.0, 569.0, 388.0, 389.0, 391.0, 392.0,\n",
       "       393.0, 394.0, 395.0, 399.0, 400.0, 404.0, 406.0, 407.0, 401.0,\n",
       "       402.0, 403.0, 408.0, 409.0, 410.0, 412.0, 411.0, 413.0, 414.0,\n",
       "       415.0, 417.0, 422.0, 418.0, 396.0, 420.0, 421.0, 423.0, 424.0,\n",
       "       425.0, 426.0, 427.0, 429.0, 431.0, 432.0, 433.0, 434.0, 435.0,\n",
       "       437.0, 438.0, 439.0, 440.0, 441.0, 442.0, 444.0, 446.0, 447.0,\n",
       "       449.0, 450.0, 451.0, 452.0, 453.0, 455.0, 456.0, 457.0, 459.0,\n",
       "       460.0, 458.0, 461.0, 463.0, 462.0, 464.0, 465.0, 466.0, 467.0,\n",
       "       468.0, 469.0, 470.0, 472.0, 471.0, 473.0, 474.0, 475.0, 476.0,\n",
       "       477.0, 478.0, 66.0, 480.0, 482.0, 483.0, 484.0, 485.0, 487.0, 547.0,\n",
       "       489.0, 490.0, 491.0, 492.0, 493.0, 494.0, 495.0, 496.0, 497.0,\n",
       "       498.0, 499.0, 500.0, 501.0, 502.0, 503.0, 506.0, 507.0, 508.0,\n",
       "       509.0, 505.0, 510.0, 511.0, 513.0, 515.0, 516.0, 517.0, 519.0,\n",
       "       520.0, 521.0, 523.0, 525.0, 530.0, 531.0, 532.0, 533.0, 526.0,\n",
       "       528.0, 529.0, 537.0, 538.0, 539.0, 31.0, 541.0, 542.0, 543.0, 544.0,\n",
       "       545.0, 546.0, 548.0, 549.0, 552.0, 553.0, 554.0, 555.0, 557.0,\n",
       "       558.0, 405.0, 540.0, 334.0, 565.0, 560.0, 277.0, 280.0, 486.0,\n",
       "       561.0, 563.0, 564.0, 567.0, 568.0, 570.0, 1.0, 247.0, 76.0, 93.0,\n",
       "       97.0, 62.0, 99.0, 100.0, 138.0, 139.0, 146.0, 151.0, 183.0, 186.0,\n",
       "       204.0, 208.0, 223.0, 228.0, 246.0, 257.0, 267.0, 274.0, 287.0,\n",
       "       288.0, 292.0, 297.0, 304.0, 313.0, 332.0, 536.0, 357.0, 359.0,\n",
       "       376.0, 47.0, 416.0, 419.0, 428.0, 430.0, 436.0, 443.0, 445.0, 448.0,\n",
       "       454.0, 479.0, 481.0, 488.0, 512.0, 514.0, 518.0, 522.0, 524.0,\n",
       "       527.0, 38.0, 319.0], dtype=object)"
      ]
     },
     "execution_count": 222,
     "metadata": {},
     "output_type": "execute_result"
    }
   ],
   "source": [
    "df_copy['CVE_MUN'][(df_copy['ENTIDAD'] == estado)] = df_copy['CVE_MUN'][(df_copy['ENTIDAD'] == estado)].replace(dict_CCEFML_OAXACA)\n",
    "df_copy['CVE_MUN'][(df_copy['ENTIDAD'] == estado)] = df_copy['CVE_MUN'][(df_copy['ENTIDAD'] == estado)].astype('int64')\n",
    "\n",
    "df_copy['CVE_MUN'][(df_copy['ENTIDAD'] == estado)].unique()"
   ]
  },
  {
   "cell_type": "markdown",
   "metadata": {},
   "source": [
    "### PUEBLA"
   ]
  },
  {
   "cell_type": "code",
   "execution_count": 223,
   "metadata": {},
   "outputs": [],
   "source": [
    "estado = \"PUEBLA\""
   ]
  },
  {
   "cell_type": "code",
   "execution_count": 224,
   "metadata": {},
   "outputs": [
    {
     "data": {
      "text/plain": [
       "array(['ACAJETE', 'ACATENO', 'ACATLAN', 'ACATZINGO', 'ACTEOPAN',\n",
       "       'AHUACATLAN', 'AHUATLAN', 'AHUAZOTEPEC', 'AHUEHUETITLA', 'AJALPAN',\n",
       "       'ALBINO ZERTUCHE', 'ALJOJUCA', 'ALTEPEXI', 'AMIXTLAN', 'AMOZOC',\n",
       "       'AQUIXTLA', 'ATEMPAN', 'ATEXCAL', 'ATLIXCO', 'ATOYATEMPAN',\n",
       "       'ATZALA', 'ATZITZIHUACAN', 'ATZITZINTLA', 'AXUTLA',\n",
       "       'AYOTOXCO DE GUERRERO', 'CALPAN', 'CALTEPEC', 'CAMOCUAUTLA',\n",
       "       'CAXHUACAN', 'COATEPEC', 'COATZINGO', 'COHETZALA', 'COHUECAN',\n",
       "       'CORONANGO', 'COXCATLAN', 'COYOMEAPAN', 'COYOTEPEC',\n",
       "       'CUAPIAXTLA DE MADERO', 'CUAUTEMPAN', 'CUAUTINCHAN',\n",
       "       'CUAUTLANCINGO', 'CUAYUCA DE ANDRADE', 'CUETZALAN DEL PROGRESO',\n",
       "       'CUYOACO', 'CHALCHICOMULA DE SESMA', 'CHAPULCO', 'CHIAUTLA',\n",
       "       'CHIAUTZINGO', 'CHICONCUAUTLA', 'CHICHIQUILA', 'CHIETLA',\n",
       "       'CHIGMECATITLAN', 'CHIGNAHUAPAN', 'CHIGNAUTLA', 'CHILA',\n",
       "       'CHILA DE LA SAL', 'HONEY', 'CHILCHOTLA', 'CHINANTLA',\n",
       "       'DOMINGO ARENAS', 'ELOXOCHITLAN', 'EPATLAN', 'ESPERANZA',\n",
       "       'FRANCISCO Z. MENA', 'GENERAL FELIPE ANGELES', 'GUADALUPE',\n",
       "       'GUADALUPE VICTORIA', 'HERMENEGILDO GALEANA', 'HUAQUECHULA',\n",
       "       'HUATLATLAUCA', 'HUAUCHINANGO', 'HUEHUETLA', 'HUEHUETLAN EL CHICO',\n",
       "       'HUEJOTZINGO', 'HUEYAPAN', 'HUEYTAMALCO', 'HUEYTLALPAN',\n",
       "       'HUITZILAN DE SERDAN', 'HUITZILTEPEC', 'ATLEQUIZAYAN',\n",
       "       'IXCAMILPA DE GUERRERO', 'IXCAQUIXTLA', 'IXTACAMAXTITLAN',\n",
       "       'IXTEPEC', 'IZUCAR DE MATAMOROS', 'JALPAN', 'JOLALPAN', 'JONOTLA',\n",
       "       'JOPALA', 'JUAN C. BONILLA', 'JUAN GALINDO', 'JUAN N. MENDEZ',\n",
       "       'LAFRAGUA', 'LIBRES', 'LA MAGDALENA TLATLAUQUITEPEC',\n",
       "       'MAZAPILTEPEC DE JUAREZ', 'MIXTLA', 'MOLCAXAC', 'CAÑADA MORELOS',\n",
       "       'NAUPAN', 'NAUZONTLA', 'NEALTICAN', 'NICOLAS BRAVO', 'NOPALUCAN',\n",
       "       'OCOTEPEC', 'OCOYUCAN', 'OLINTLA', 'ORIENTAL', 'PAHUATLAN',\n",
       "       'PALMAR DE BRAVO', 'PANTEPEC', 'PETLALCINGO', 'PIAXTLA', 'PUEBLA',\n",
       "       'QUECHOLAC', 'QUIMIXTLAN', 'RAFAEL LARA GRAJALES',\n",
       "       'LOS REYES DE JUAREZ', 'SAN ANDRES CHOLULA', 'SAN ANTONIO CAÑADA',\n",
       "       'SAN DIEGO LA MESA TOCHIMILTZINGO', 'SAN FELIPE TEOTLALCINGO',\n",
       "       'SAN FELIPE TEPATLAN', 'SAN GABRIEL CHILAC', 'SAN GREGORIO ATZOMPA',\n",
       "       'SAN JERONIMO TECUANIPAN', 'SAN JERONIMO XAYACATLAN',\n",
       "       'SAN JOSE CHIAPA', 'SAN JOSE MIAHUATLAN', 'SAN JUAN ATENCO',\n",
       "       'SAN JUAN ATZOMPA', 'SAN MARTIN TEXMELUCAN',\n",
       "       'SAN MARTIN TOTOLTEPEC', 'SAN MATIAS TLALANCALECA',\n",
       "       'SAN MIGUEL IXITLAN', 'SAN MIGUEL XOXTLA',\n",
       "       'SAN NICOLAS BUENOS AIRES', 'SAN NICOLAS DE LOS RANCHOS',\n",
       "       'SAN PABLO ANICANO', 'SAN PEDRO CHOLULA',\n",
       "       'SAN PEDRO YELOIXTLAHUACA', 'SAN SALVADOR EL SECO',\n",
       "       'SAN SALVADOR EL VERDE', 'SAN SALVADOR HUIXCOLOTLA',\n",
       "       'SAN SEBASTIAN TLACOTEPEC', 'SANTA CATARINA TLALTEMPAN',\n",
       "       'SANTA INES AHUATEMPAN', 'SANTA ISABEL CHOLULA',\n",
       "       'SANTIAGO MIAHUATLAN', 'HUEHUETLAN EL GRANDE',\n",
       "       'SANTO TOMAS HUEYOTLIPAN', 'SOLTEPEC', 'TECALI DE HERRERA',\n",
       "       'TECAMACHALCO', 'TECOMATLAN', 'TEHUACAN', 'TEHUITZINGO',\n",
       "       'TENAMPULCO', 'TEOPANTLAN', 'TEOTLALCO', 'TEPANCO DE LOPEZ',\n",
       "       'TEPANGO DE RODRIGUEZ', 'TEPATLAXCO DE HIDALGO', 'TEPEACA',\n",
       "       'TEPEMAXALCO', 'TEPEOJUMA', 'TEPETZINTLA', 'TEPEXCO',\n",
       "       'TEPEXI DE RODRIGUEZ', 'TEPEYAHUALCO', 'TEPEYAHUALCO DE CUAUHTEMOC',\n",
       "       'TETELA DE OCAMPO', 'TETELES DE AVILA CASTILLO', 'TEZIUTLAN',\n",
       "       'TIANGUISMANALCO', 'TILAPA', 'TLACOTEPEC DE BENITO JUAREZ',\n",
       "       'TLACUILOTEPEC', 'TLACHICHUCA', 'TLAHUAPAN', 'TLALTENANGO',\n",
       "       'TLANEPANTLA', 'TLAOLA', 'TLAPACOYA', 'TLAPANALA',\n",
       "       'TLATLAUQUITEPEC', 'TLAXCO', 'TOCHIMILCO', 'TOCHTEPEC',\n",
       "       'TOTOLTEPEC DE GUERRERO', 'TULCINGO', 'TUZAMAPAN DE GALEANA',\n",
       "       'TZICATLACOYAN', 'VENUSTIANO CARRANZA', 'VICENTE GUERRERO',\n",
       "       'XAYACATLAN DE BRAVO', 'XICOTEPEC', 'XICOTLAN', 'XIUTETELCO',\n",
       "       'XOCHIAPULCO', 'XOCHILTEPEC', 'XOCHITLAN DE VICENTE SUAREZ',\n",
       "       'XOCHITLAN TODOS SANTOS', 'YAONAHUAC', 'YEHUALTEPEC', 'ZACAPALA',\n",
       "       'ZACAPOAXTLA', 'ZACATLAN', 'ZAPOTITLAN', 'ZAPOTITLAN DE MENDEZ',\n",
       "       'ZARAGOZA', 'ZAUTLA', 'ZIHUATEUTLA', 'ZINACATEPEC', 'ZONGOZOTLA',\n",
       "       'ZOQUIAPAN', 'ZOQUITLAN'], dtype=object)"
      ]
     },
     "execution_count": 224,
     "metadata": {},
     "output_type": "execute_result"
    }
   ],
   "source": [
    "df_copy[\"MUNICIPIO\"][(df_copy.ENTIDAD == estado)].unique()"
   ]
  },
  {
   "cell_type": "code",
   "execution_count": 225,
   "metadata": {},
   "outputs": [
    {
     "data": {
      "text/plain": [
       "array(['ACAJETE', 'ACATENO', 'ACATLAN', 'ACATZINGO', 'ACTEOPAN',\n",
       "       'AHUACATLAN', 'AHUATLAN', 'AHUAZOTEPEC', 'AHUEHUETITLA', 'AJALPAN',\n",
       "       'ALBINO ZERTUCHE', 'ALJOJUCA', 'ALTEPEXI', 'AMIXTLAN', 'AMOZOC',\n",
       "       'AQUIXTLA', 'ATEMPAN', 'ATEXCAL', 'ATLIXCO', 'ATOYATEMPAN',\n",
       "       'ATZALA', 'ATZITZIHUACAN', 'ATZITZINTLA', 'AXUTLA',\n",
       "       'AYOTOXCO DE GUERRERO', 'CALPAN', 'CALTEPEC', 'CAMOCUAUTLA',\n",
       "       'CAXHUACAN', 'COATEPEC', 'COATZINGO', 'COHETZALA', 'COHUECAN',\n",
       "       'CORONANGO', 'COXCATLAN', 'COYOMEAPAN', 'COYOTEPEC',\n",
       "       'CUAPIAXTLA DE MADERO', 'CUAUTEMPAN', 'CUAUTINCHAN',\n",
       "       'CUAUTLANCINGO', 'CUAYUCA DE ANDRADE', 'CUETZALAN DEL PROGRESO',\n",
       "       'CUYOACO', 'CHALCHICOMULA DE SESMA', 'CHAPULCO', 'CHIAUTLA',\n",
       "       'CHIAUTZINGO', 'CHICONCUAUTLA', 'CHICHIQUILA', 'CHIETLA',\n",
       "       'CHIGMECATITLAN', 'CHIGNAHUAPAN', 'CHIGNAUTLA', 'CHILA',\n",
       "       'CHILA DE LA SAL', 'HONEY', 'CHILCHOTLA', 'CHINANTLA',\n",
       "       'DOMINGO ARENAS', 'ELOXOCHITLAN', 'EPATLAN', 'ESPERANZA',\n",
       "       'FRANCISCO Z. MENA', 'GENERAL FELIPE ANGELES', 'GUADALUPE',\n",
       "       'GUADALUPE VICTORIA', 'HERMENEGILDO GALEANA', 'HUAQUECHULA',\n",
       "       'HUATLATLAUCA', 'HUAUCHINANGO', 'HUEHUETLA', 'HUEHUETLAN EL CHICO',\n",
       "       'HUEJOTZINGO', 'HUEYAPAN', 'HUEYTAMALCO', 'HUEYTLALPAN',\n",
       "       'HUITZILAN DE SERDAN', 'HUITZILTEPEC', 'ATLEQUIZAYAN',\n",
       "       'IXCAMILPA DE GUERRERO', 'IXCAQUIXTLA', 'IXTACAMAXTITLAN',\n",
       "       'IXTEPEC', 'IZUCAR DE MATAMOROS', 'JALPAN', 'JOLALPAN', 'JONOTLA',\n",
       "       'JOPALA', 'JUAN C. BONILLA', 'JUAN GALINDO', 'JUAN N. MENDEZ',\n",
       "       'LAFRAGUA', 'LIBRES', 'LA MAGDALENA TLATLAUQUITEPEC',\n",
       "       'MAZAPILTEPEC DE JUAREZ', 'MIXTLA', 'MOLCAXAC', 'CAÑADA MORELOS',\n",
       "       'NAUPAN', 'NAUZONTLA', 'NEALTICAN', 'NICOLAS BRAVO', 'NOPALUCAN',\n",
       "       'OCOTEPEC', 'OCOYUCAN', 'OLINTLA', 'ORIENTAL', 'PAHUATLAN',\n",
       "       'PALMAR DE BRAVO', 'PANTEPEC', 'PETLALCINGO', 'PIAXTLA', 'PUEBLA',\n",
       "       'QUECHOLAC', 'QUIMIXTLAN', 'RAFAEL LARA GRAJALES',\n",
       "       'LOS REYES DE JUAREZ', 'SAN ANDRES CHOLULA', 'SAN ANTONIO CAÑADA',\n",
       "       'SAN DIEGO LA MESA TOCHIMILTZINGO', 'SAN FELIPE TEOTLALCINGO',\n",
       "       'SAN FELIPE TEPATLAN', 'SAN GABRIEL CHILAC', 'SAN GREGORIO ATZOMPA',\n",
       "       'SAN JERONIMO TECUANIPAN', 'SAN JERONIMO XAYACATLAN',\n",
       "       'SAN JOSE CHIAPA', 'SAN JOSE MIAHUATLAN', 'SAN JUAN ATENCO',\n",
       "       'SAN JUAN ATZOMPA', 'SAN MARTIN TEXMELUCAN',\n",
       "       'SAN MARTIN TOTOLTEPEC', 'SAN MATIAS TLALANCALECA',\n",
       "       'SAN MIGUEL IXITLAN', 'SAN MIGUEL XOXTLA',\n",
       "       'SAN NICOLAS BUENOS AIRES', 'SAN NICOLAS DE LOS RANCHOS',\n",
       "       'SAN PABLO ANICANO', 'SAN PEDRO CHOLULA',\n",
       "       'SAN PEDRO YELOIXTLAHUACA', 'SAN SALVADOR EL SECO',\n",
       "       'SAN SALVADOR EL VERDE', 'SAN SALVADOR HUIXCOLOTLA',\n",
       "       'SAN SEBASTIAN TLACOTEPEC', 'SANTA CATARINA TLALTEMPAN',\n",
       "       'SANTA INES AHUATEMPAN', 'SANTA ISABEL CHOLULA',\n",
       "       'SANTIAGO MIAHUATLAN', 'HUEHUETLAN EL GRANDE',\n",
       "       'SANTO TOMAS HUEYOTLIPAN', 'SOLTEPEC', 'TECALI DE HERRERA',\n",
       "       'TECAMACHALCO', 'TECOMATLAN', 'TEHUACAN', 'TEHUITZINGO',\n",
       "       'TENAMPULCO', 'TEOPANTLAN', 'TEOTLALCO', 'TEPANCO DE LOPEZ',\n",
       "       'TEPANGO DE RODRIGUEZ', 'TEPATLAXCO DE HIDALGO', 'TEPEACA',\n",
       "       'TEPEMAXALCO', 'TEPEOJUMA', 'TEPETZINTLA', 'TEPEXCO',\n",
       "       'TEPEXI DE RODRIGUEZ', 'TEPEYAHUALCO', 'TEPEYAHUALCO DE CUAUHTEMOC',\n",
       "       'TETELA DE OCAMPO', 'TETELES DE AVILA CASTILLO', 'TEZIUTLAN',\n",
       "       'TIANGUISMANALCO', 'TILAPA', 'TLACOTEPEC DE BENITO JUAREZ',\n",
       "       'TLACUILOTEPEC', 'TLACHICHUCA', 'TLAHUAPAN', 'TLALTENANGO',\n",
       "       'TLANEPANTLA', 'TLAOLA', 'TLAPACOYA', 'TLAPANALA',\n",
       "       'TLATLAUQUITEPEC', 'TLAXCO', 'TOCHIMILCO', 'TOCHTEPEC',\n",
       "       'TOTOLTEPEC DE GUERRERO', 'TULCINGO', 'TUZAMAPAN DE GALEANA',\n",
       "       'TZICATLACOYAN', 'VENUSTIANO CARRANZA', 'VICENTE GUERRERO',\n",
       "       'XAYACATLAN DE BRAVO', 'XICOTEPEC', 'XICOTLAN', 'XIUTETELCO',\n",
       "       'XOCHIAPULCO', 'XOCHILTEPEC', 'XOCHITLAN DE VICENTE SUAREZ',\n",
       "       'XOCHITLAN TODOS SANTOS', 'YAONAHUAC', 'YEHUALTEPEC', 'ZACAPALA',\n",
       "       'ZACAPOAXTLA', 'ZACATLAN', 'ZAPOTITLAN', 'ZAPOTITLAN DE MENDEZ',\n",
       "       'ZARAGOZA', 'ZAUTLA', 'ZIHUATEUTLA', 'ZINACATEPEC', 'ZONGOZOTLA',\n",
       "       'ZOQUIAPAN', 'ZOQUITLAN'], dtype=object)"
      ]
     },
     "execution_count": 225,
     "metadata": {},
     "output_type": "execute_result"
    }
   ],
   "source": [
    "df_CCEFML_copy[\"NOM_MUN\"][(df_CCEFML_copy[\"NOM_ENT\"] == estado)].unique()"
   ]
  },
  {
   "cell_type": "code",
   "execution_count": 226,
   "metadata": {},
   "outputs": [
    {
     "data": {
      "text/plain": [
       "{'ACAJETE': 1,\n",
       " 'ACATENO': 2,\n",
       " 'ACATLAN': 3,\n",
       " 'ACATZINGO': 4,\n",
       " 'ACTEOPAN': 5,\n",
       " 'AHUACATLAN': 6,\n",
       " 'AHUATLAN': 7,\n",
       " 'AHUAZOTEPEC': 8,\n",
       " 'AHUEHUETITLA': 9,\n",
       " 'AJALPAN': 10,\n",
       " 'ALBINO ZERTUCHE': 11,\n",
       " 'ALJOJUCA': 12,\n",
       " 'ALTEPEXI': 13,\n",
       " 'AMIXTLAN': 14,\n",
       " 'AMOZOC': 15,\n",
       " 'AQUIXTLA': 16,\n",
       " 'ATEMPAN': 17,\n",
       " 'ATEXCAL': 18,\n",
       " 'ATLEQUIZAYAN': 80,\n",
       " 'ATLIXCO': 19,\n",
       " 'ATOYATEMPAN': 20,\n",
       " 'ATZALA': 21,\n",
       " 'ATZITZIHUACAN': 22,\n",
       " 'ATZITZINTLA': 23,\n",
       " 'AXUTLA': 24,\n",
       " 'AYOTOXCO DE GUERRERO': 25,\n",
       " 'CALPAN': 26,\n",
       " 'CALTEPEC': 27,\n",
       " 'CAMOCUAUTLA': 28,\n",
       " 'CAXHUACAN': 29,\n",
       " 'CAÑADA MORELOS': 99,\n",
       " 'CHALCHICOMULA DE SESMA': 45,\n",
       " 'CHAPULCO': 46,\n",
       " 'CHIAUTLA': 47,\n",
       " 'CHIAUTZINGO': 48,\n",
       " 'CHICHIQUILA': 50,\n",
       " 'CHICONCUAUTLA': 49,\n",
       " 'CHIETLA': 51,\n",
       " 'CHIGMECATITLAN': 52,\n",
       " 'CHIGNAHUAPAN': 53,\n",
       " 'CHIGNAUTLA': 54,\n",
       " 'CHILA': 55,\n",
       " 'CHILA DE LA SAL': 56,\n",
       " 'CHILCHOTLA': 58,\n",
       " 'CHINANTLA': 59,\n",
       " 'COATEPEC': 30,\n",
       " 'COATZINGO': 31,\n",
       " 'COHETZALA': 32,\n",
       " 'COHUECAN': 33,\n",
       " 'CORONANGO': 34,\n",
       " 'COXCATLAN': 35,\n",
       " 'COYOMEAPAN': 36,\n",
       " 'COYOTEPEC': 37,\n",
       " 'CUAPIAXTLA DE MADERO': 38,\n",
       " 'CUAUTEMPAN': 39,\n",
       " 'CUAUTINCHAN': 40,\n",
       " 'CUAUTLANCINGO': 41,\n",
       " 'CUAYUCA DE ANDRADE': 42,\n",
       " 'CUETZALAN DEL PROGRESO': 43,\n",
       " 'CUYOACO': 44,\n",
       " 'DOMINGO ARENAS': 60,\n",
       " 'ELOXOCHITLAN': 61,\n",
       " 'EPATLAN': 62,\n",
       " 'ESPERANZA': 63,\n",
       " 'FRANCISCO Z. MENA': 64,\n",
       " 'GENERAL FELIPE ANGELES': 65,\n",
       " 'GUADALUPE': 66,\n",
       " 'GUADALUPE VICTORIA': 67,\n",
       " 'HERMENEGILDO GALEANA': 68,\n",
       " 'HONEY': 57,\n",
       " 'HUAQUECHULA': 69,\n",
       " 'HUATLATLAUCA': 70,\n",
       " 'HUAUCHINANGO': 71,\n",
       " 'HUEHUETLA': 72,\n",
       " 'HUEHUETLAN EL CHICO': 73,\n",
       " 'HUEHUETLAN EL GRANDE': 150,\n",
       " 'HUEJOTZINGO': 74,\n",
       " 'HUEYAPAN': 75,\n",
       " 'HUEYTAMALCO': 76,\n",
       " 'HUEYTLALPAN': 77,\n",
       " 'HUITZILAN DE SERDAN': 78,\n",
       " 'HUITZILTEPEC': 79,\n",
       " 'IXCAMILPA DE GUERRERO': 81,\n",
       " 'IXCAQUIXTLA': 82,\n",
       " 'IXTACAMAXTITLAN': 83,\n",
       " 'IXTEPEC': 84,\n",
       " 'IZUCAR DE MATAMOROS': 85,\n",
       " 'JALPAN': 86,\n",
       " 'JOLALPAN': 87,\n",
       " 'JONOTLA': 88,\n",
       " 'JOPALA': 89,\n",
       " 'JUAN C. BONILLA': 90,\n",
       " 'JUAN GALINDO': 91,\n",
       " 'JUAN N. MENDEZ': 92,\n",
       " 'LA MAGDALENA TLATLAUQUITEPEC': 95,\n",
       " 'LAFRAGUA': 93,\n",
       " 'LIBRES': 94,\n",
       " 'LOS REYES DE JUAREZ': 118,\n",
       " 'MAZAPILTEPEC DE JUAREZ': 96,\n",
       " 'MIXTLA': 97,\n",
       " 'MOLCAXAC': 98,\n",
       " 'NAUPAN': 100,\n",
       " 'NAUZONTLA': 101,\n",
       " 'NEALTICAN': 102,\n",
       " 'NICOLAS BRAVO': 103,\n",
       " 'NOPALUCAN': 104,\n",
       " 'OCOTEPEC': 105,\n",
       " 'OCOYUCAN': 106,\n",
       " 'OLINTLA': 107,\n",
       " 'ORIENTAL': 108,\n",
       " 'PAHUATLAN': 109,\n",
       " 'PALMAR DE BRAVO': 110,\n",
       " 'PANTEPEC': 111,\n",
       " 'PETLALCINGO': 112,\n",
       " 'PIAXTLA': 113,\n",
       " 'PUEBLA': 114,\n",
       " 'QUECHOLAC': 115,\n",
       " 'QUIMIXTLAN': 116,\n",
       " 'RAFAEL LARA GRAJALES': 117,\n",
       " 'SAN ANDRES CHOLULA': 119,\n",
       " 'SAN ANTONIO CAÑADA': 120,\n",
       " 'SAN DIEGO LA MESA TOCHIMILTZINGO': 121,\n",
       " 'SAN FELIPE TEOTLALCINGO': 122,\n",
       " 'SAN FELIPE TEPATLAN': 123,\n",
       " 'SAN GABRIEL CHILAC': 124,\n",
       " 'SAN GREGORIO ATZOMPA': 125,\n",
       " 'SAN JERONIMO TECUANIPAN': 126,\n",
       " 'SAN JERONIMO XAYACATLAN': 127,\n",
       " 'SAN JOSE CHIAPA': 128,\n",
       " 'SAN JOSE MIAHUATLAN': 129,\n",
       " 'SAN JUAN ATENCO': 130,\n",
       " 'SAN JUAN ATZOMPA': 131,\n",
       " 'SAN MARTIN TEXMELUCAN': 132,\n",
       " 'SAN MARTIN TOTOLTEPEC': 133,\n",
       " 'SAN MATIAS TLALANCALECA': 134,\n",
       " 'SAN MIGUEL IXITLAN': 135,\n",
       " 'SAN MIGUEL XOXTLA': 136,\n",
       " 'SAN NICOLAS BUENOS AIRES': 137,\n",
       " 'SAN NICOLAS DE LOS RANCHOS': 138,\n",
       " 'SAN PABLO ANICANO': 139,\n",
       " 'SAN PEDRO CHOLULA': 140,\n",
       " 'SAN PEDRO YELOIXTLAHUACA': 141,\n",
       " 'SAN SALVADOR EL SECO': 142,\n",
       " 'SAN SALVADOR EL VERDE': 143,\n",
       " 'SAN SALVADOR HUIXCOLOTLA': 144,\n",
       " 'SAN SEBASTIAN TLACOTEPEC': 145,\n",
       " 'SANTA CATARINA TLALTEMPAN': 146,\n",
       " 'SANTA INES AHUATEMPAN': 147,\n",
       " 'SANTA ISABEL CHOLULA': 148,\n",
       " 'SANTIAGO MIAHUATLAN': 149,\n",
       " 'SANTO TOMAS HUEYOTLIPAN': 151,\n",
       " 'SOLTEPEC': 152,\n",
       " 'TECALI DE HERRERA': 153,\n",
       " 'TECAMACHALCO': 154,\n",
       " 'TECOMATLAN': 155,\n",
       " 'TEHUACAN': 156,\n",
       " 'TEHUITZINGO': 157,\n",
       " 'TENAMPULCO': 158,\n",
       " 'TEOPANTLAN': 159,\n",
       " 'TEOTLALCO': 160,\n",
       " 'TEPANCO DE LOPEZ': 161,\n",
       " 'TEPANGO DE RODRIGUEZ': 162,\n",
       " 'TEPATLAXCO DE HIDALGO': 163,\n",
       " 'TEPEACA': 164,\n",
       " 'TEPEMAXALCO': 165,\n",
       " 'TEPEOJUMA': 166,\n",
       " 'TEPETZINTLA': 167,\n",
       " 'TEPEXCO': 168,\n",
       " 'TEPEXI DE RODRIGUEZ': 169,\n",
       " 'TEPEYAHUALCO': 170,\n",
       " 'TEPEYAHUALCO DE CUAUHTEMOC': 171,\n",
       " 'TETELA DE OCAMPO': 172,\n",
       " 'TETELES DE AVILA CASTILLO': 173,\n",
       " 'TEZIUTLAN': 174,\n",
       " 'TIANGUISMANALCO': 175,\n",
       " 'TILAPA': 176,\n",
       " 'TLACHICHUCA': 179,\n",
       " 'TLACOTEPEC DE BENITO JUAREZ': 177,\n",
       " 'TLACUILOTEPEC': 178,\n",
       " 'TLAHUAPAN': 180,\n",
       " 'TLALTENANGO': 181,\n",
       " 'TLANEPANTLA': 182,\n",
       " 'TLAOLA': 183,\n",
       " 'TLAPACOYA': 184,\n",
       " 'TLAPANALA': 185,\n",
       " 'TLATLAUQUITEPEC': 186,\n",
       " 'TLAXCO': 187,\n",
       " 'TOCHIMILCO': 188,\n",
       " 'TOCHTEPEC': 189,\n",
       " 'TOTOLTEPEC DE GUERRERO': 190,\n",
       " 'TULCINGO': 191,\n",
       " 'TUZAMAPAN DE GALEANA': 192,\n",
       " 'TZICATLACOYAN': 193,\n",
       " 'VENUSTIANO CARRANZA': 194,\n",
       " 'VICENTE GUERRERO': 195,\n",
       " 'XAYACATLAN DE BRAVO': 196,\n",
       " 'XICOTEPEC': 197,\n",
       " 'XICOTLAN': 198,\n",
       " 'XIUTETELCO': 199,\n",
       " 'XOCHIAPULCO': 200,\n",
       " 'XOCHILTEPEC': 201,\n",
       " 'XOCHITLAN DE VICENTE SUAREZ': 202,\n",
       " 'XOCHITLAN TODOS SANTOS': 203,\n",
       " 'YAONAHUAC': 204,\n",
       " 'YEHUALTEPEC': 205,\n",
       " 'ZACAPALA': 206,\n",
       " 'ZACAPOAXTLA': 207,\n",
       " 'ZACATLAN': 208,\n",
       " 'ZAPOTITLAN': 209,\n",
       " 'ZAPOTITLAN DE MENDEZ': 210,\n",
       " 'ZARAGOZA': 211,\n",
       " 'ZAUTLA': 212,\n",
       " 'ZIHUATEUTLA': 213,\n",
       " 'ZINACATEPEC': 214,\n",
       " 'ZONGOZOTLA': 215,\n",
       " 'ZOQUIAPAN': 216,\n",
       " 'ZOQUITLAN': 217}"
      ]
     },
     "execution_count": 226,
     "metadata": {},
     "output_type": "execute_result"
    }
   ],
   "source": [
    "dict_CCEFML_PUEBLA"
   ]
  },
  {
   "cell_type": "code",
   "execution_count": 227,
   "metadata": {},
   "outputs": [
    {
     "data": {
      "text/plain": [
       "array([1.0, 2.0, 3.0, 4.0, 5.0, 6.0, 7.0, 8.0, 9.0, 10.0, 11.0, 12.0, 13.0,\n",
       "       14.0, 15.0, 16.0, 17.0, 18.0, 19.0, 20.0, 21.0, 22.0, 23.0, 24.0,\n",
       "       25.0, 26.0, 27.0, 28.0, 29.0, 30.0, 31.0, 32.0, 33.0, 34.0, 35.0,\n",
       "       36.0, 37.0, 38.0, 39.0, 40.0, 41.0, 42.0, 43.0, 44.0, 45.0, 46.0,\n",
       "       47.0, 48.0, 49.0, 50.0, 51.0, 52.0, 53.0, 54.0, 55.0, 56.0, 57.0,\n",
       "       58.0, 59.0, 60.0, 61.0, 62.0, 63.0, 64.0, 65.0, 66.0, 67.0, 68.0,\n",
       "       69.0, 70.0, 71.0, 72.0, 73.0, 74.0, 75.0, 76.0, 77.0, 78.0, 79.0,\n",
       "       80.0, 81.0, 82.0, 83.0, 84.0, 85.0, 86.0, 87.0, 88.0, 89.0, 90.0,\n",
       "       91.0, 92.0, 93.0, 94.0, 95.0, 96.0, 97.0, 98.0, 99.0, 100.0, 101.0,\n",
       "       102.0, 103.0, 104.0, 105.0, 106.0, 107.0, 108.0, 109.0, 110.0,\n",
       "       111.0, 112.0, 113.0, 114.0, 115.0, 116.0, 117.0, 118.0, 119.0,\n",
       "       120.0, 121.0, 122.0, 123.0, 124.0, 125.0, 126.0, 127.0, 128.0,\n",
       "       129.0, 130.0, 131.0, 132.0, 133.0, 134.0, 135.0, 136.0, 137.0,\n",
       "       138.0, 139.0, 140.0, 141.0, 142.0, 143.0, 144.0, 145.0, 146.0,\n",
       "       147.0, 148.0, 149.0, 150.0, 151.0, 152.0, 153.0, 154.0, 155.0,\n",
       "       156.0, 157.0, 158.0, 159.0, 160.0, 161.0, 162.0, 163.0, 164.0,\n",
       "       165.0, 166.0, 167.0, 168.0, 169.0, 170.0, 171.0, 172.0, 173.0,\n",
       "       174.0, 175.0, 176.0, 177.0, 178.0, 179.0, 180.0, 181.0, 182.0,\n",
       "       183.0, 184.0, 185.0, 186.0, 187.0, 188.0, 189.0, 190.0, 191.0,\n",
       "       192.0, 193.0, 194.0, 195.0, 196.0, 197.0, 198.0, 199.0, 200.0,\n",
       "       201.0, 202.0, 203.0, 204.0, 205.0, 206.0, 207.0, 208.0, 209.0,\n",
       "       210.0, 211.0, 212.0, 213.0, 214.0, 215.0, 216.0, 217.0], dtype=object)"
      ]
     },
     "execution_count": 227,
     "metadata": {},
     "output_type": "execute_result"
    }
   ],
   "source": [
    "df_copy['CVE_MUN'][(df_copy['ENTIDAD'] == estado)] = df_copy['CVE_MUN'][(df_copy['ENTIDAD'] == estado)].replace(dict_CCEFML_PUEBLA)\n",
    "df_copy['CVE_MUN'][(df_copy['ENTIDAD'] == estado)] = df_copy['CVE_MUN'][(df_copy['ENTIDAD'] == estado)].astype('int64')\n",
    "\n",
    "df_copy['CVE_MUN'][(df_copy['ENTIDAD'] == estado)].unique()"
   ]
  },
  {
   "cell_type": "markdown",
   "metadata": {},
   "source": [
    "### PUEBLA"
   ]
  },
  {
   "cell_type": "code",
   "execution_count": 228,
   "metadata": {},
   "outputs": [],
   "source": [
    "estado = \"PUEBLA\""
   ]
  },
  {
   "cell_type": "code",
   "execution_count": 229,
   "metadata": {},
   "outputs": [
    {
     "data": {
      "text/plain": [
       "array(['ACAJETE', 'ACATENO', 'ACATLAN', 'ACATZINGO', 'ACTEOPAN',\n",
       "       'AHUACATLAN', 'AHUATLAN', 'AHUAZOTEPEC', 'AHUEHUETITLA', 'AJALPAN',\n",
       "       'ALBINO ZERTUCHE', 'ALJOJUCA', 'ALTEPEXI', 'AMIXTLAN', 'AMOZOC',\n",
       "       'AQUIXTLA', 'ATEMPAN', 'ATEXCAL', 'ATLIXCO', 'ATOYATEMPAN',\n",
       "       'ATZALA', 'ATZITZIHUACAN', 'ATZITZINTLA', 'AXUTLA',\n",
       "       'AYOTOXCO DE GUERRERO', 'CALPAN', 'CALTEPEC', 'CAMOCUAUTLA',\n",
       "       'CAXHUACAN', 'COATEPEC', 'COATZINGO', 'COHETZALA', 'COHUECAN',\n",
       "       'CORONANGO', 'COXCATLAN', 'COYOMEAPAN', 'COYOTEPEC',\n",
       "       'CUAPIAXTLA DE MADERO', 'CUAUTEMPAN', 'CUAUTINCHAN',\n",
       "       'CUAUTLANCINGO', 'CUAYUCA DE ANDRADE', 'CUETZALAN DEL PROGRESO',\n",
       "       'CUYOACO', 'CHALCHICOMULA DE SESMA', 'CHAPULCO', 'CHIAUTLA',\n",
       "       'CHIAUTZINGO', 'CHICONCUAUTLA', 'CHICHIQUILA', 'CHIETLA',\n",
       "       'CHIGMECATITLAN', 'CHIGNAHUAPAN', 'CHIGNAUTLA', 'CHILA',\n",
       "       'CHILA DE LA SAL', 'HONEY', 'CHILCHOTLA', 'CHINANTLA',\n",
       "       'DOMINGO ARENAS', 'ELOXOCHITLAN', 'EPATLAN', 'ESPERANZA',\n",
       "       'FRANCISCO Z. MENA', 'GENERAL FELIPE ANGELES', 'GUADALUPE',\n",
       "       'GUADALUPE VICTORIA', 'HERMENEGILDO GALEANA', 'HUAQUECHULA',\n",
       "       'HUATLATLAUCA', 'HUAUCHINANGO', 'HUEHUETLA', 'HUEHUETLAN EL CHICO',\n",
       "       'HUEJOTZINGO', 'HUEYAPAN', 'HUEYTAMALCO', 'HUEYTLALPAN',\n",
       "       'HUITZILAN DE SERDAN', 'HUITZILTEPEC', 'ATLEQUIZAYAN',\n",
       "       'IXCAMILPA DE GUERRERO', 'IXCAQUIXTLA', 'IXTACAMAXTITLAN',\n",
       "       'IXTEPEC', 'IZUCAR DE MATAMOROS', 'JALPAN', 'JOLALPAN', 'JONOTLA',\n",
       "       'JOPALA', 'JUAN C. BONILLA', 'JUAN GALINDO', 'JUAN N. MENDEZ',\n",
       "       'LAFRAGUA', 'LIBRES', 'LA MAGDALENA TLATLAUQUITEPEC',\n",
       "       'MAZAPILTEPEC DE JUAREZ', 'MIXTLA', 'MOLCAXAC', 'CAÑADA MORELOS',\n",
       "       'NAUPAN', 'NAUZONTLA', 'NEALTICAN', 'NICOLAS BRAVO', 'NOPALUCAN',\n",
       "       'OCOTEPEC', 'OCOYUCAN', 'OLINTLA', 'ORIENTAL', 'PAHUATLAN',\n",
       "       'PALMAR DE BRAVO', 'PANTEPEC', 'PETLALCINGO', 'PIAXTLA', 'PUEBLA',\n",
       "       'QUECHOLAC', 'QUIMIXTLAN', 'RAFAEL LARA GRAJALES',\n",
       "       'LOS REYES DE JUAREZ', 'SAN ANDRES CHOLULA', 'SAN ANTONIO CAÑADA',\n",
       "       'SAN DIEGO LA MESA TOCHIMILTZINGO', 'SAN FELIPE TEOTLALCINGO',\n",
       "       'SAN FELIPE TEPATLAN', 'SAN GABRIEL CHILAC', 'SAN GREGORIO ATZOMPA',\n",
       "       'SAN JERONIMO TECUANIPAN', 'SAN JERONIMO XAYACATLAN',\n",
       "       'SAN JOSE CHIAPA', 'SAN JOSE MIAHUATLAN', 'SAN JUAN ATENCO',\n",
       "       'SAN JUAN ATZOMPA', 'SAN MARTIN TEXMELUCAN',\n",
       "       'SAN MARTIN TOTOLTEPEC', 'SAN MATIAS TLALANCALECA',\n",
       "       'SAN MIGUEL IXITLAN', 'SAN MIGUEL XOXTLA',\n",
       "       'SAN NICOLAS BUENOS AIRES', 'SAN NICOLAS DE LOS RANCHOS',\n",
       "       'SAN PABLO ANICANO', 'SAN PEDRO CHOLULA',\n",
       "       'SAN PEDRO YELOIXTLAHUACA', 'SAN SALVADOR EL SECO',\n",
       "       'SAN SALVADOR EL VERDE', 'SAN SALVADOR HUIXCOLOTLA',\n",
       "       'SAN SEBASTIAN TLACOTEPEC', 'SANTA CATARINA TLALTEMPAN',\n",
       "       'SANTA INES AHUATEMPAN', 'SANTA ISABEL CHOLULA',\n",
       "       'SANTIAGO MIAHUATLAN', 'HUEHUETLAN EL GRANDE',\n",
       "       'SANTO TOMAS HUEYOTLIPAN', 'SOLTEPEC', 'TECALI DE HERRERA',\n",
       "       'TECAMACHALCO', 'TECOMATLAN', 'TEHUACAN', 'TEHUITZINGO',\n",
       "       'TENAMPULCO', 'TEOPANTLAN', 'TEOTLALCO', 'TEPANCO DE LOPEZ',\n",
       "       'TEPANGO DE RODRIGUEZ', 'TEPATLAXCO DE HIDALGO', 'TEPEACA',\n",
       "       'TEPEMAXALCO', 'TEPEOJUMA', 'TEPETZINTLA', 'TEPEXCO',\n",
       "       'TEPEXI DE RODRIGUEZ', 'TEPEYAHUALCO', 'TEPEYAHUALCO DE CUAUHTEMOC',\n",
       "       'TETELA DE OCAMPO', 'TETELES DE AVILA CASTILLO', 'TEZIUTLAN',\n",
       "       'TIANGUISMANALCO', 'TILAPA', 'TLACOTEPEC DE BENITO JUAREZ',\n",
       "       'TLACUILOTEPEC', 'TLACHICHUCA', 'TLAHUAPAN', 'TLALTENANGO',\n",
       "       'TLANEPANTLA', 'TLAOLA', 'TLAPACOYA', 'TLAPANALA',\n",
       "       'TLATLAUQUITEPEC', 'TLAXCO', 'TOCHIMILCO', 'TOCHTEPEC',\n",
       "       'TOTOLTEPEC DE GUERRERO', 'TULCINGO', 'TUZAMAPAN DE GALEANA',\n",
       "       'TZICATLACOYAN', 'VENUSTIANO CARRANZA', 'VICENTE GUERRERO',\n",
       "       'XAYACATLAN DE BRAVO', 'XICOTEPEC', 'XICOTLAN', 'XIUTETELCO',\n",
       "       'XOCHIAPULCO', 'XOCHILTEPEC', 'XOCHITLAN DE VICENTE SUAREZ',\n",
       "       'XOCHITLAN TODOS SANTOS', 'YAONAHUAC', 'YEHUALTEPEC', 'ZACAPALA',\n",
       "       'ZACAPOAXTLA', 'ZACATLAN', 'ZAPOTITLAN', 'ZAPOTITLAN DE MENDEZ',\n",
       "       'ZARAGOZA', 'ZAUTLA', 'ZIHUATEUTLA', 'ZINACATEPEC', 'ZONGOZOTLA',\n",
       "       'ZOQUIAPAN', 'ZOQUITLAN'], dtype=object)"
      ]
     },
     "execution_count": 229,
     "metadata": {},
     "output_type": "execute_result"
    }
   ],
   "source": [
    "df_copy[\"MUNICIPIO\"][(df_copy.ENTIDAD == estado)].unique()"
   ]
  },
  {
   "cell_type": "code",
   "execution_count": 230,
   "metadata": {},
   "outputs": [
    {
     "data": {
      "text/plain": [
       "array(['ACAJETE', 'ACATENO', 'ACATLAN', 'ACATZINGO', 'ACTEOPAN',\n",
       "       'AHUACATLAN', 'AHUATLAN', 'AHUAZOTEPEC', 'AHUEHUETITLA', 'AJALPAN',\n",
       "       'ALBINO ZERTUCHE', 'ALJOJUCA', 'ALTEPEXI', 'AMIXTLAN', 'AMOZOC',\n",
       "       'AQUIXTLA', 'ATEMPAN', 'ATEXCAL', 'ATLIXCO', 'ATOYATEMPAN',\n",
       "       'ATZALA', 'ATZITZIHUACAN', 'ATZITZINTLA', 'AXUTLA',\n",
       "       'AYOTOXCO DE GUERRERO', 'CALPAN', 'CALTEPEC', 'CAMOCUAUTLA',\n",
       "       'CAXHUACAN', 'COATEPEC', 'COATZINGO', 'COHETZALA', 'COHUECAN',\n",
       "       'CORONANGO', 'COXCATLAN', 'COYOMEAPAN', 'COYOTEPEC',\n",
       "       'CUAPIAXTLA DE MADERO', 'CUAUTEMPAN', 'CUAUTINCHAN',\n",
       "       'CUAUTLANCINGO', 'CUAYUCA DE ANDRADE', 'CUETZALAN DEL PROGRESO',\n",
       "       'CUYOACO', 'CHALCHICOMULA DE SESMA', 'CHAPULCO', 'CHIAUTLA',\n",
       "       'CHIAUTZINGO', 'CHICONCUAUTLA', 'CHICHIQUILA', 'CHIETLA',\n",
       "       'CHIGMECATITLAN', 'CHIGNAHUAPAN', 'CHIGNAUTLA', 'CHILA',\n",
       "       'CHILA DE LA SAL', 'HONEY', 'CHILCHOTLA', 'CHINANTLA',\n",
       "       'DOMINGO ARENAS', 'ELOXOCHITLAN', 'EPATLAN', 'ESPERANZA',\n",
       "       'FRANCISCO Z. MENA', 'GENERAL FELIPE ANGELES', 'GUADALUPE',\n",
       "       'GUADALUPE VICTORIA', 'HERMENEGILDO GALEANA', 'HUAQUECHULA',\n",
       "       'HUATLATLAUCA', 'HUAUCHINANGO', 'HUEHUETLA', 'HUEHUETLAN EL CHICO',\n",
       "       'HUEJOTZINGO', 'HUEYAPAN', 'HUEYTAMALCO', 'HUEYTLALPAN',\n",
       "       'HUITZILAN DE SERDAN', 'HUITZILTEPEC', 'ATLEQUIZAYAN',\n",
       "       'IXCAMILPA DE GUERRERO', 'IXCAQUIXTLA', 'IXTACAMAXTITLAN',\n",
       "       'IXTEPEC', 'IZUCAR DE MATAMOROS', 'JALPAN', 'JOLALPAN', 'JONOTLA',\n",
       "       'JOPALA', 'JUAN C. BONILLA', 'JUAN GALINDO', 'JUAN N. MENDEZ',\n",
       "       'LAFRAGUA', 'LIBRES', 'LA MAGDALENA TLATLAUQUITEPEC',\n",
       "       'MAZAPILTEPEC DE JUAREZ', 'MIXTLA', 'MOLCAXAC', 'CAÑADA MORELOS',\n",
       "       'NAUPAN', 'NAUZONTLA', 'NEALTICAN', 'NICOLAS BRAVO', 'NOPALUCAN',\n",
       "       'OCOTEPEC', 'OCOYUCAN', 'OLINTLA', 'ORIENTAL', 'PAHUATLAN',\n",
       "       'PALMAR DE BRAVO', 'PANTEPEC', 'PETLALCINGO', 'PIAXTLA', 'PUEBLA',\n",
       "       'QUECHOLAC', 'QUIMIXTLAN', 'RAFAEL LARA GRAJALES',\n",
       "       'LOS REYES DE JUAREZ', 'SAN ANDRES CHOLULA', 'SAN ANTONIO CAÑADA',\n",
       "       'SAN DIEGO LA MESA TOCHIMILTZINGO', 'SAN FELIPE TEOTLALCINGO',\n",
       "       'SAN FELIPE TEPATLAN', 'SAN GABRIEL CHILAC', 'SAN GREGORIO ATZOMPA',\n",
       "       'SAN JERONIMO TECUANIPAN', 'SAN JERONIMO XAYACATLAN',\n",
       "       'SAN JOSE CHIAPA', 'SAN JOSE MIAHUATLAN', 'SAN JUAN ATENCO',\n",
       "       'SAN JUAN ATZOMPA', 'SAN MARTIN TEXMELUCAN',\n",
       "       'SAN MARTIN TOTOLTEPEC', 'SAN MATIAS TLALANCALECA',\n",
       "       'SAN MIGUEL IXITLAN', 'SAN MIGUEL XOXTLA',\n",
       "       'SAN NICOLAS BUENOS AIRES', 'SAN NICOLAS DE LOS RANCHOS',\n",
       "       'SAN PABLO ANICANO', 'SAN PEDRO CHOLULA',\n",
       "       'SAN PEDRO YELOIXTLAHUACA', 'SAN SALVADOR EL SECO',\n",
       "       'SAN SALVADOR EL VERDE', 'SAN SALVADOR HUIXCOLOTLA',\n",
       "       'SAN SEBASTIAN TLACOTEPEC', 'SANTA CATARINA TLALTEMPAN',\n",
       "       'SANTA INES AHUATEMPAN', 'SANTA ISABEL CHOLULA',\n",
       "       'SANTIAGO MIAHUATLAN', 'HUEHUETLAN EL GRANDE',\n",
       "       'SANTO TOMAS HUEYOTLIPAN', 'SOLTEPEC', 'TECALI DE HERRERA',\n",
       "       'TECAMACHALCO', 'TECOMATLAN', 'TEHUACAN', 'TEHUITZINGO',\n",
       "       'TENAMPULCO', 'TEOPANTLAN', 'TEOTLALCO', 'TEPANCO DE LOPEZ',\n",
       "       'TEPANGO DE RODRIGUEZ', 'TEPATLAXCO DE HIDALGO', 'TEPEACA',\n",
       "       'TEPEMAXALCO', 'TEPEOJUMA', 'TEPETZINTLA', 'TEPEXCO',\n",
       "       'TEPEXI DE RODRIGUEZ', 'TEPEYAHUALCO', 'TEPEYAHUALCO DE CUAUHTEMOC',\n",
       "       'TETELA DE OCAMPO', 'TETELES DE AVILA CASTILLO', 'TEZIUTLAN',\n",
       "       'TIANGUISMANALCO', 'TILAPA', 'TLACOTEPEC DE BENITO JUAREZ',\n",
       "       'TLACUILOTEPEC', 'TLACHICHUCA', 'TLAHUAPAN', 'TLALTENANGO',\n",
       "       'TLANEPANTLA', 'TLAOLA', 'TLAPACOYA', 'TLAPANALA',\n",
       "       'TLATLAUQUITEPEC', 'TLAXCO', 'TOCHIMILCO', 'TOCHTEPEC',\n",
       "       'TOTOLTEPEC DE GUERRERO', 'TULCINGO', 'TUZAMAPAN DE GALEANA',\n",
       "       'TZICATLACOYAN', 'VENUSTIANO CARRANZA', 'VICENTE GUERRERO',\n",
       "       'XAYACATLAN DE BRAVO', 'XICOTEPEC', 'XICOTLAN', 'XIUTETELCO',\n",
       "       'XOCHIAPULCO', 'XOCHILTEPEC', 'XOCHITLAN DE VICENTE SUAREZ',\n",
       "       'XOCHITLAN TODOS SANTOS', 'YAONAHUAC', 'YEHUALTEPEC', 'ZACAPALA',\n",
       "       'ZACAPOAXTLA', 'ZACATLAN', 'ZAPOTITLAN', 'ZAPOTITLAN DE MENDEZ',\n",
       "       'ZARAGOZA', 'ZAUTLA', 'ZIHUATEUTLA', 'ZINACATEPEC', 'ZONGOZOTLA',\n",
       "       'ZOQUIAPAN', 'ZOQUITLAN'], dtype=object)"
      ]
     },
     "execution_count": 230,
     "metadata": {},
     "output_type": "execute_result"
    }
   ],
   "source": [
    "df_CCEFML_copy[\"NOM_MUN\"][(df_CCEFML_copy[\"NOM_ENT\"] == estado)].unique()"
   ]
  },
  {
   "cell_type": "code",
   "execution_count": 231,
   "metadata": {},
   "outputs": [
    {
     "data": {
      "text/plain": [
       "{'ACAJETE': 1,\n",
       " 'ACATENO': 2,\n",
       " 'ACATLAN': 3,\n",
       " 'ACATZINGO': 4,\n",
       " 'ACTEOPAN': 5,\n",
       " 'AHUACATLAN': 6,\n",
       " 'AHUATLAN': 7,\n",
       " 'AHUAZOTEPEC': 8,\n",
       " 'AHUEHUETITLA': 9,\n",
       " 'AJALPAN': 10,\n",
       " 'ALBINO ZERTUCHE': 11,\n",
       " 'ALJOJUCA': 12,\n",
       " 'ALTEPEXI': 13,\n",
       " 'AMIXTLAN': 14,\n",
       " 'AMOZOC': 15,\n",
       " 'AQUIXTLA': 16,\n",
       " 'ATEMPAN': 17,\n",
       " 'ATEXCAL': 18,\n",
       " 'ATLEQUIZAYAN': 80,\n",
       " 'ATLIXCO': 19,\n",
       " 'ATOYATEMPAN': 20,\n",
       " 'ATZALA': 21,\n",
       " 'ATZITZIHUACAN': 22,\n",
       " 'ATZITZINTLA': 23,\n",
       " 'AXUTLA': 24,\n",
       " 'AYOTOXCO DE GUERRERO': 25,\n",
       " 'CALPAN': 26,\n",
       " 'CALTEPEC': 27,\n",
       " 'CAMOCUAUTLA': 28,\n",
       " 'CAXHUACAN': 29,\n",
       " 'CAÑADA MORELOS': 99,\n",
       " 'CHALCHICOMULA DE SESMA': 45,\n",
       " 'CHAPULCO': 46,\n",
       " 'CHIAUTLA': 47,\n",
       " 'CHIAUTZINGO': 48,\n",
       " 'CHICHIQUILA': 50,\n",
       " 'CHICONCUAUTLA': 49,\n",
       " 'CHIETLA': 51,\n",
       " 'CHIGMECATITLAN': 52,\n",
       " 'CHIGNAHUAPAN': 53,\n",
       " 'CHIGNAUTLA': 54,\n",
       " 'CHILA': 55,\n",
       " 'CHILA DE LA SAL': 56,\n",
       " 'CHILCHOTLA': 58,\n",
       " 'CHINANTLA': 59,\n",
       " 'COATEPEC': 30,\n",
       " 'COATZINGO': 31,\n",
       " 'COHETZALA': 32,\n",
       " 'COHUECAN': 33,\n",
       " 'CORONANGO': 34,\n",
       " 'COXCATLAN': 35,\n",
       " 'COYOMEAPAN': 36,\n",
       " 'COYOTEPEC': 37,\n",
       " 'CUAPIAXTLA DE MADERO': 38,\n",
       " 'CUAUTEMPAN': 39,\n",
       " 'CUAUTINCHAN': 40,\n",
       " 'CUAUTLANCINGO': 41,\n",
       " 'CUAYUCA DE ANDRADE': 42,\n",
       " 'CUETZALAN DEL PROGRESO': 43,\n",
       " 'CUYOACO': 44,\n",
       " 'DOMINGO ARENAS': 60,\n",
       " 'ELOXOCHITLAN': 61,\n",
       " 'EPATLAN': 62,\n",
       " 'ESPERANZA': 63,\n",
       " 'FRANCISCO Z. MENA': 64,\n",
       " 'GENERAL FELIPE ANGELES': 65,\n",
       " 'GUADALUPE': 66,\n",
       " 'GUADALUPE VICTORIA': 67,\n",
       " 'HERMENEGILDO GALEANA': 68,\n",
       " 'HONEY': 57,\n",
       " 'HUAQUECHULA': 69,\n",
       " 'HUATLATLAUCA': 70,\n",
       " 'HUAUCHINANGO': 71,\n",
       " 'HUEHUETLA': 72,\n",
       " 'HUEHUETLAN EL CHICO': 73,\n",
       " 'HUEHUETLAN EL GRANDE': 150,\n",
       " 'HUEJOTZINGO': 74,\n",
       " 'HUEYAPAN': 75,\n",
       " 'HUEYTAMALCO': 76,\n",
       " 'HUEYTLALPAN': 77,\n",
       " 'HUITZILAN DE SERDAN': 78,\n",
       " 'HUITZILTEPEC': 79,\n",
       " 'IXCAMILPA DE GUERRERO': 81,\n",
       " 'IXCAQUIXTLA': 82,\n",
       " 'IXTACAMAXTITLAN': 83,\n",
       " 'IXTEPEC': 84,\n",
       " 'IZUCAR DE MATAMOROS': 85,\n",
       " 'JALPAN': 86,\n",
       " 'JOLALPAN': 87,\n",
       " 'JONOTLA': 88,\n",
       " 'JOPALA': 89,\n",
       " 'JUAN C. BONILLA': 90,\n",
       " 'JUAN GALINDO': 91,\n",
       " 'JUAN N. MENDEZ': 92,\n",
       " 'LA MAGDALENA TLATLAUQUITEPEC': 95,\n",
       " 'LAFRAGUA': 93,\n",
       " 'LIBRES': 94,\n",
       " 'LOS REYES DE JUAREZ': 118,\n",
       " 'MAZAPILTEPEC DE JUAREZ': 96,\n",
       " 'MIXTLA': 97,\n",
       " 'MOLCAXAC': 98,\n",
       " 'NAUPAN': 100,\n",
       " 'NAUZONTLA': 101,\n",
       " 'NEALTICAN': 102,\n",
       " 'NICOLAS BRAVO': 103,\n",
       " 'NOPALUCAN': 104,\n",
       " 'OCOTEPEC': 105,\n",
       " 'OCOYUCAN': 106,\n",
       " 'OLINTLA': 107,\n",
       " 'ORIENTAL': 108,\n",
       " 'PAHUATLAN': 109,\n",
       " 'PALMAR DE BRAVO': 110,\n",
       " 'PANTEPEC': 111,\n",
       " 'PETLALCINGO': 112,\n",
       " 'PIAXTLA': 113,\n",
       " 'PUEBLA': 114,\n",
       " 'QUECHOLAC': 115,\n",
       " 'QUIMIXTLAN': 116,\n",
       " 'RAFAEL LARA GRAJALES': 117,\n",
       " 'SAN ANDRES CHOLULA': 119,\n",
       " 'SAN ANTONIO CAÑADA': 120,\n",
       " 'SAN DIEGO LA MESA TOCHIMILTZINGO': 121,\n",
       " 'SAN FELIPE TEOTLALCINGO': 122,\n",
       " 'SAN FELIPE TEPATLAN': 123,\n",
       " 'SAN GABRIEL CHILAC': 124,\n",
       " 'SAN GREGORIO ATZOMPA': 125,\n",
       " 'SAN JERONIMO TECUANIPAN': 126,\n",
       " 'SAN JERONIMO XAYACATLAN': 127,\n",
       " 'SAN JOSE CHIAPA': 128,\n",
       " 'SAN JOSE MIAHUATLAN': 129,\n",
       " 'SAN JUAN ATENCO': 130,\n",
       " 'SAN JUAN ATZOMPA': 131,\n",
       " 'SAN MARTIN TEXMELUCAN': 132,\n",
       " 'SAN MARTIN TOTOLTEPEC': 133,\n",
       " 'SAN MATIAS TLALANCALECA': 134,\n",
       " 'SAN MIGUEL IXITLAN': 135,\n",
       " 'SAN MIGUEL XOXTLA': 136,\n",
       " 'SAN NICOLAS BUENOS AIRES': 137,\n",
       " 'SAN NICOLAS DE LOS RANCHOS': 138,\n",
       " 'SAN PABLO ANICANO': 139,\n",
       " 'SAN PEDRO CHOLULA': 140,\n",
       " 'SAN PEDRO YELOIXTLAHUACA': 141,\n",
       " 'SAN SALVADOR EL SECO': 142,\n",
       " 'SAN SALVADOR EL VERDE': 143,\n",
       " 'SAN SALVADOR HUIXCOLOTLA': 144,\n",
       " 'SAN SEBASTIAN TLACOTEPEC': 145,\n",
       " 'SANTA CATARINA TLALTEMPAN': 146,\n",
       " 'SANTA INES AHUATEMPAN': 147,\n",
       " 'SANTA ISABEL CHOLULA': 148,\n",
       " 'SANTIAGO MIAHUATLAN': 149,\n",
       " 'SANTO TOMAS HUEYOTLIPAN': 151,\n",
       " 'SOLTEPEC': 152,\n",
       " 'TECALI DE HERRERA': 153,\n",
       " 'TECAMACHALCO': 154,\n",
       " 'TECOMATLAN': 155,\n",
       " 'TEHUACAN': 156,\n",
       " 'TEHUITZINGO': 157,\n",
       " 'TENAMPULCO': 158,\n",
       " 'TEOPANTLAN': 159,\n",
       " 'TEOTLALCO': 160,\n",
       " 'TEPANCO DE LOPEZ': 161,\n",
       " 'TEPANGO DE RODRIGUEZ': 162,\n",
       " 'TEPATLAXCO DE HIDALGO': 163,\n",
       " 'TEPEACA': 164,\n",
       " 'TEPEMAXALCO': 165,\n",
       " 'TEPEOJUMA': 166,\n",
       " 'TEPETZINTLA': 167,\n",
       " 'TEPEXCO': 168,\n",
       " 'TEPEXI DE RODRIGUEZ': 169,\n",
       " 'TEPEYAHUALCO': 170,\n",
       " 'TEPEYAHUALCO DE CUAUHTEMOC': 171,\n",
       " 'TETELA DE OCAMPO': 172,\n",
       " 'TETELES DE AVILA CASTILLO': 173,\n",
       " 'TEZIUTLAN': 174,\n",
       " 'TIANGUISMANALCO': 175,\n",
       " 'TILAPA': 176,\n",
       " 'TLACHICHUCA': 179,\n",
       " 'TLACOTEPEC DE BENITO JUAREZ': 177,\n",
       " 'TLACUILOTEPEC': 178,\n",
       " 'TLAHUAPAN': 180,\n",
       " 'TLALTENANGO': 181,\n",
       " 'TLANEPANTLA': 182,\n",
       " 'TLAOLA': 183,\n",
       " 'TLAPACOYA': 184,\n",
       " 'TLAPANALA': 185,\n",
       " 'TLATLAUQUITEPEC': 186,\n",
       " 'TLAXCO': 187,\n",
       " 'TOCHIMILCO': 188,\n",
       " 'TOCHTEPEC': 189,\n",
       " 'TOTOLTEPEC DE GUERRERO': 190,\n",
       " 'TULCINGO': 191,\n",
       " 'TUZAMAPAN DE GALEANA': 192,\n",
       " 'TZICATLACOYAN': 193,\n",
       " 'VENUSTIANO CARRANZA': 194,\n",
       " 'VICENTE GUERRERO': 195,\n",
       " 'XAYACATLAN DE BRAVO': 196,\n",
       " 'XICOTEPEC': 197,\n",
       " 'XICOTLAN': 198,\n",
       " 'XIUTETELCO': 199,\n",
       " 'XOCHIAPULCO': 200,\n",
       " 'XOCHILTEPEC': 201,\n",
       " 'XOCHITLAN DE VICENTE SUAREZ': 202,\n",
       " 'XOCHITLAN TODOS SANTOS': 203,\n",
       " 'YAONAHUAC': 204,\n",
       " 'YEHUALTEPEC': 205,\n",
       " 'ZACAPALA': 206,\n",
       " 'ZACAPOAXTLA': 207,\n",
       " 'ZACATLAN': 208,\n",
       " 'ZAPOTITLAN': 209,\n",
       " 'ZAPOTITLAN DE MENDEZ': 210,\n",
       " 'ZARAGOZA': 211,\n",
       " 'ZAUTLA': 212,\n",
       " 'ZIHUATEUTLA': 213,\n",
       " 'ZINACATEPEC': 214,\n",
       " 'ZONGOZOTLA': 215,\n",
       " 'ZOQUIAPAN': 216,\n",
       " 'ZOQUITLAN': 217}"
      ]
     },
     "execution_count": 231,
     "metadata": {},
     "output_type": "execute_result"
    }
   ],
   "source": [
    "dict_CCEFML_PUEBLA"
   ]
  },
  {
   "cell_type": "code",
   "execution_count": 232,
   "metadata": {},
   "outputs": [
    {
     "data": {
      "text/plain": [
       "array([1.0, 2.0, 3.0, 4.0, 5.0, 6.0, 7.0, 8.0, 9.0, 10.0, 11.0, 12.0, 13.0,\n",
       "       14.0, 15.0, 16.0, 17.0, 18.0, 19.0, 20.0, 21.0, 22.0, 23.0, 24.0,\n",
       "       25.0, 26.0, 27.0, 28.0, 29.0, 30.0, 31.0, 32.0, 33.0, 34.0, 35.0,\n",
       "       36.0, 37.0, 38.0, 39.0, 40.0, 41.0, 42.0, 43.0, 44.0, 45.0, 46.0,\n",
       "       47.0, 48.0, 49.0, 50.0, 51.0, 52.0, 53.0, 54.0, 55.0, 56.0, 57.0,\n",
       "       58.0, 59.0, 60.0, 61.0, 62.0, 63.0, 64.0, 65.0, 66.0, 67.0, 68.0,\n",
       "       69.0, 70.0, 71.0, 72.0, 73.0, 74.0, 75.0, 76.0, 77.0, 78.0, 79.0,\n",
       "       80.0, 81.0, 82.0, 83.0, 84.0, 85.0, 86.0, 87.0, 88.0, 89.0, 90.0,\n",
       "       91.0, 92.0, 93.0, 94.0, 95.0, 96.0, 97.0, 98.0, 99.0, 100.0, 101.0,\n",
       "       102.0, 103.0, 104.0, 105.0, 106.0, 107.0, 108.0, 109.0, 110.0,\n",
       "       111.0, 112.0, 113.0, 114.0, 115.0, 116.0, 117.0, 118.0, 119.0,\n",
       "       120.0, 121.0, 122.0, 123.0, 124.0, 125.0, 126.0, 127.0, 128.0,\n",
       "       129.0, 130.0, 131.0, 132.0, 133.0, 134.0, 135.0, 136.0, 137.0,\n",
       "       138.0, 139.0, 140.0, 141.0, 142.0, 143.0, 144.0, 145.0, 146.0,\n",
       "       147.0, 148.0, 149.0, 150.0, 151.0, 152.0, 153.0, 154.0, 155.0,\n",
       "       156.0, 157.0, 158.0, 159.0, 160.0, 161.0, 162.0, 163.0, 164.0,\n",
       "       165.0, 166.0, 167.0, 168.0, 169.0, 170.0, 171.0, 172.0, 173.0,\n",
       "       174.0, 175.0, 176.0, 177.0, 178.0, 179.0, 180.0, 181.0, 182.0,\n",
       "       183.0, 184.0, 185.0, 186.0, 187.0, 188.0, 189.0, 190.0, 191.0,\n",
       "       192.0, 193.0, 194.0, 195.0, 196.0, 197.0, 198.0, 199.0, 200.0,\n",
       "       201.0, 202.0, 203.0, 204.0, 205.0, 206.0, 207.0, 208.0, 209.0,\n",
       "       210.0, 211.0, 212.0, 213.0, 214.0, 215.0, 216.0, 217.0], dtype=object)"
      ]
     },
     "execution_count": 232,
     "metadata": {},
     "output_type": "execute_result"
    }
   ],
   "source": [
    "df_copy['CVE_MUN'][(df_copy['ENTIDAD'] == estado)] = df_copy['CVE_MUN'][(df_copy['ENTIDAD'] == estado)].replace(dict_CCEFML_PUEBLA)\n",
    "df_copy['CVE_MUN'][(df_copy['ENTIDAD'] == estado)] = df_copy['CVE_MUN'][(df_copy['ENTIDAD'] == estado)].astype('int64')\n",
    "\n",
    "df_copy['CVE_MUN'][(df_copy['ENTIDAD'] == estado)].unique()"
   ]
  },
  {
   "cell_type": "markdown",
   "metadata": {},
   "source": [
    "### QUERETARO"
   ]
  },
  {
   "cell_type": "code",
   "execution_count": 233,
   "metadata": {},
   "outputs": [],
   "source": [
    "estado = \"QUERETARO\""
   ]
  },
  {
   "cell_type": "code",
   "execution_count": 234,
   "metadata": {},
   "outputs": [
    {
     "data": {
      "text/plain": [
       "array(['AMEALCO DE BONFIL', 'PINAL DE AMOLES', 'ARROYO SECO',\n",
       "       'CADEREYTA DE MONTES', 'COLON', 'CORREGIDORA', 'EZEQUIEL MONTES',\n",
       "       'HUIMILPAN', 'JALPAN DE SERRA', 'LANDA DE MATAMOROS', 'EL MARQUES',\n",
       "       'PEDRO ESCOBEDO', 'PEÑAMILLER', 'QUERETARO', 'SAN JOAQUIN',\n",
       "       'SAN JUAN DEL RIO', 'TEQUISQUIAPAN', 'TOLIMAN'], dtype=object)"
      ]
     },
     "execution_count": 234,
     "metadata": {},
     "output_type": "execute_result"
    }
   ],
   "source": [
    "df_copy[\"MUNICIPIO\"][(df_copy.ENTIDAD == estado)].unique()"
   ]
  },
  {
   "cell_type": "code",
   "execution_count": 235,
   "metadata": {},
   "outputs": [
    {
     "data": {
      "text/plain": [
       "array(['AMEALCO DE BONFIL', 'PINAL DE AMOLES', 'ARROYO SECO',\n",
       "       'CADEREYTA DE MONTES', 'COLON', 'CORREGIDORA', 'EZEQUIEL MONTES',\n",
       "       'HUIMILPAN', 'JALPAN DE SERRA', 'LANDA DE MATAMOROS', 'EL MARQUES',\n",
       "       'PEDRO ESCOBEDO', 'PEÑAMILLER', 'QUERETARO', 'SAN JOAQUIN',\n",
       "       'SAN JUAN DEL RIO', 'TEQUISQUIAPAN', 'TOLIMAN'], dtype=object)"
      ]
     },
     "execution_count": 235,
     "metadata": {},
     "output_type": "execute_result"
    }
   ],
   "source": [
    "df_CCEFML_copy[\"NOM_MUN\"][(df_CCEFML_copy[\"NOM_ENT\"] == estado)].unique()"
   ]
  },
  {
   "cell_type": "code",
   "execution_count": 236,
   "metadata": {},
   "outputs": [
    {
     "data": {
      "text/plain": [
       "{'AMEALCO DE BONFIL': 1,\n",
       " 'ARROYO SECO': 3,\n",
       " 'CADEREYTA DE MONTES': 4,\n",
       " 'COLON': 5,\n",
       " 'CORREGIDORA': 6,\n",
       " 'EL MARQUES': 11,\n",
       " 'EZEQUIEL MONTES': 7,\n",
       " 'HUIMILPAN': 8,\n",
       " 'JALPAN DE SERRA': 9,\n",
       " 'LANDA DE MATAMOROS': 10,\n",
       " 'PEDRO ESCOBEDO': 12,\n",
       " 'PEÑAMILLER': 13,\n",
       " 'PINAL DE AMOLES': 2,\n",
       " 'QUERETARO': 14,\n",
       " 'SAN JOAQUIN': 15,\n",
       " 'SAN JUAN DEL RIO': 16,\n",
       " 'TEQUISQUIAPAN': 17,\n",
       " 'TOLIMAN': 18}"
      ]
     },
     "execution_count": 236,
     "metadata": {},
     "output_type": "execute_result"
    }
   ],
   "source": [
    "dict_CCEFML_QUERETARO"
   ]
  },
  {
   "cell_type": "code",
   "execution_count": 237,
   "metadata": {},
   "outputs": [
    {
     "data": {
      "text/plain": [
       "array([1.0, 2.0, 3.0, 4.0, 5.0, 6.0, 7.0, 8.0, 9.0, 10.0, 11.0, 12.0, 13.0,\n",
       "       14.0, 15.0, 16.0, 17.0, 18.0], dtype=object)"
      ]
     },
     "execution_count": 237,
     "metadata": {},
     "output_type": "execute_result"
    }
   ],
   "source": [
    "df_copy['CVE_MUN'][(df_copy['ENTIDAD'] == estado)] = df_copy['CVE_MUN'][(df_copy['ENTIDAD'] == estado)].replace(dict_CCEFML_QUERETARO)\n",
    "df_copy['CVE_MUN'][(df_copy['ENTIDAD'] == estado)] = df_copy['CVE_MUN'][(df_copy['ENTIDAD'] == estado)].astype('int64')\n",
    "\n",
    "df_copy['CVE_MUN'][(df_copy['ENTIDAD'] == estado)].unique()"
   ]
  },
  {
   "cell_type": "markdown",
   "metadata": {},
   "source": [
    "### QUINTANA_ROO"
   ]
  },
  {
   "cell_type": "code",
   "execution_count": 238,
   "metadata": {},
   "outputs": [],
   "source": [
    "estado = \"QUINTANA ROO\""
   ]
  },
  {
   "cell_type": "code",
   "execution_count": 239,
   "metadata": {},
   "outputs": [
    {
     "data": {
      "text/plain": [
       "array(['COZUMEL', 'FELIPE CARRILLO PUERTO', 'ISLA MUJERES',\n",
       "       'OTHON P. BLANCO', 'BENITO JUAREZ', 'JOSE MARIA MORELOS',\n",
       "       'LAZARO CARDENAS', 'SOLIDARIDAD', 'TULUM', 'BACALAR',\n",
       "       'PUERTO MORELOS'], dtype=object)"
      ]
     },
     "execution_count": 239,
     "metadata": {},
     "output_type": "execute_result"
    }
   ],
   "source": [
    "df_copy[\"MUNICIPIO\"][(df_copy.ENTIDAD == estado)].unique()"
   ]
  },
  {
   "cell_type": "code",
   "execution_count": 240,
   "metadata": {},
   "outputs": [
    {
     "data": {
      "text/plain": [
       "array(['COZUMEL', 'FELIPE CARRILLO PUERTO', 'ISLA MUJERES',\n",
       "       'OTHON P. BLANCO', 'BENITO JUAREZ', 'JOSE MARIA MORELOS',\n",
       "       'LAZARO CARDENAS', 'SOLIDARIDAD', 'TULUM', 'BACALAR',\n",
       "       'PUERTO MORELOS'], dtype=object)"
      ]
     },
     "execution_count": 240,
     "metadata": {},
     "output_type": "execute_result"
    }
   ],
   "source": [
    "df_CCEFML_copy[\"NOM_MUN\"][(df_CCEFML_copy[\"NOM_ENT\"] == estado)].unique()"
   ]
  },
  {
   "cell_type": "code",
   "execution_count": 241,
   "metadata": {},
   "outputs": [
    {
     "data": {
      "text/plain": [
       "{'BACALAR': 10,\n",
       " 'BENITO JUAREZ': 5,\n",
       " 'COZUMEL': 1,\n",
       " 'FELIPE CARRILLO PUERTO': 2,\n",
       " 'ISLA MUJERES': 3,\n",
       " 'JOSE MARIA MORELOS': 6,\n",
       " 'LAZARO CARDENAS': 7,\n",
       " 'OTHON P. BLANCO': 4,\n",
       " 'PUERTO MORELOS': 11,\n",
       " 'SOLIDARIDAD': 8,\n",
       " 'TULUM': 9}"
      ]
     },
     "execution_count": 241,
     "metadata": {},
     "output_type": "execute_result"
    }
   ],
   "source": [
    "dict_CCEFML_QUINTANA_ROO"
   ]
  },
  {
   "cell_type": "code",
   "execution_count": 242,
   "metadata": {},
   "outputs": [
    {
     "data": {
      "text/plain": [
       "array([1.0, 2.0, 3.0, 4.0, 5.0, 6.0, 7.0, 8.0, 9.0, 10.0, 11.0], dtype=object)"
      ]
     },
     "execution_count": 242,
     "metadata": {},
     "output_type": "execute_result"
    }
   ],
   "source": [
    "df_copy['CVE_MUN'][(df_copy['ENTIDAD'] == estado)] = df_copy['CVE_MUN'][(df_copy['ENTIDAD'] == estado)].replace(dict_CCEFML_QUINTANA_ROO)\n",
    "df_copy['CVE_MUN'][(df_copy['ENTIDAD'] == estado)] = df_copy['CVE_MUN'][(df_copy['ENTIDAD'] == estado)].astype('int64')\n",
    "\n",
    "df_copy['CVE_MUN'][(df_copy['ENTIDAD'] == estado)].unique()"
   ]
  },
  {
   "cell_type": "markdown",
   "metadata": {},
   "source": [
    "### SAN LUIS POTOSI"
   ]
  },
  {
   "cell_type": "code",
   "execution_count": 243,
   "metadata": {},
   "outputs": [],
   "source": [
    "estado = \"SAN LUIS POTOSI\""
   ]
  },
  {
   "cell_type": "code",
   "execution_count": 244,
   "metadata": {},
   "outputs": [
    {
     "data": {
      "text/plain": [
       "array(['AHUALULCO', 'ALAQUINES', 'AQUISMON', 'ARMADILLO DE LOS INFANTE',\n",
       "       'CARDENAS', 'CATORCE', 'CEDRAL', 'CERRITOS', 'CERRO DE SAN PEDRO',\n",
       "       'CIUDAD DEL MAIZ', 'CIUDAD FERNANDEZ', 'TANCANHUITZ',\n",
       "       'CIUDAD VALLES', 'COXCATLAN', 'CHARCAS', 'EBANO', 'GUADALCAZAR',\n",
       "       'HUEHUETLAN', 'LAGUNILLAS', 'MATEHUALA', 'MEXQUITIC DE CARMONA',\n",
       "       'MOCTEZUMA', 'RAYON', 'RIOVERDE', 'SALINAS', 'SAN ANTONIO',\n",
       "       'SAN CIRO DE ACOSTA', 'SAN LUIS POTOSI',\n",
       "       'SAN MARTIN CHALCHICUAUTLA', 'SAN NICOLAS TOLENTINO',\n",
       "       'SANTA CATARINA', 'SANTA MARIA DEL RIO', 'SANTO DOMINGO',\n",
       "       'SAN VICENTE TANCUAYALAB', 'SOLEDAD DE GRACIANO SANCHEZ',\n",
       "       'TAMASOPO', 'TAMAZUNCHALE', 'TAMPACAN', 'TAMPAMOLON CORONA',\n",
       "       'TAMUIN', 'TANLAJAS', 'TANQUIAN DE ESCOBEDO', 'TIERRA NUEVA',\n",
       "       'VANEGAS', 'VENADO', 'VILLA DE ARRIAGA', 'VILLA DE GUADALUPE',\n",
       "       'VILLA DE LA PAZ', 'VILLA DE RAMOS', 'VILLA DE REYES',\n",
       "       'VILLA HIDALGO', 'VILLA JUAREZ', 'AXTLA DE TERRAZAS', 'XILITLA',\n",
       "       'ZARAGOZA', 'VILLA DE ARISTA', 'MATLAPA', 'EL NARANJO'], dtype=object)"
      ]
     },
     "execution_count": 244,
     "metadata": {},
     "output_type": "execute_result"
    }
   ],
   "source": [
    "df_copy[\"MUNICIPIO\"][(df_copy.ENTIDAD == estado)].unique()"
   ]
  },
  {
   "cell_type": "code",
   "execution_count": 245,
   "metadata": {},
   "outputs": [
    {
     "data": {
      "text/plain": [
       "array(['AHUALULCO', 'ALAQUINES', 'AQUISMON', 'ARMADILLO DE LOS INFANTE',\n",
       "       'CARDENAS', 'CATORCE', 'CEDRAL', 'CERRITOS', 'CERRO DE SAN PEDRO',\n",
       "       'CIUDAD DEL MAIZ', 'CIUDAD FERNANDEZ', 'TANCANHUITZ',\n",
       "       'CIUDAD VALLES', 'COXCATLAN', 'CHARCAS', 'EBANO', 'GUADALCAZAR',\n",
       "       'HUEHUETLAN', 'LAGUNILLAS', 'MATEHUALA', 'MEXQUITIC DE CARMONA',\n",
       "       'MOCTEZUMA', 'RAYON', 'RIOVERDE', 'SALINAS', 'SAN ANTONIO',\n",
       "       'SAN CIRO DE ACOSTA', 'SAN LUIS POTOSI',\n",
       "       'SAN MARTIN CHALCHICUAUTLA', 'SAN NICOLAS TOLENTINO',\n",
       "       'SANTA CATARINA', 'SANTA MARIA DEL RIO', 'SANTO DOMINGO',\n",
       "       'SAN VICENTE TANCUAYALAB', 'SOLEDAD DE GRACIANO SANCHEZ',\n",
       "       'TAMASOPO', 'TAMAZUNCHALE', 'TAMPACAN', 'TAMPAMOLON CORONA',\n",
       "       'TAMUIN', 'TANLAJAS', 'TANQUIAN DE ESCOBEDO', 'TIERRA NUEVA',\n",
       "       'VANEGAS', 'VENADO', 'VILLA DE ARRIAGA', 'VILLA DE GUADALUPE',\n",
       "       'VILLA DE LA PAZ', 'VILLA DE RAMOS', 'VILLA DE REYES',\n",
       "       'VILLA HIDALGO', 'VILLA JUAREZ', 'AXTLA DE TERRAZAS', 'XILITLA',\n",
       "       'ZARAGOZA', 'VILLA DE ARISTA', 'MATLAPA', 'EL NARANJO'], dtype=object)"
      ]
     },
     "execution_count": 245,
     "metadata": {},
     "output_type": "execute_result"
    }
   ],
   "source": [
    "df_CCEFML_copy[\"NOM_MUN\"][(df_CCEFML_copy[\"NOM_ENT\"] == estado)].unique()"
   ]
  },
  {
   "cell_type": "code",
   "execution_count": 246,
   "metadata": {},
   "outputs": [
    {
     "data": {
      "text/plain": [
       "{'AHUALULCO': 1,\n",
       " 'ALAQUINES': 2,\n",
       " 'AQUISMON': 3,\n",
       " 'ARMADILLO DE LOS INFANTE': 4,\n",
       " 'AXTLA DE TERRAZAS': 53,\n",
       " 'CARDENAS': 5,\n",
       " 'CATORCE': 6,\n",
       " 'CEDRAL': 7,\n",
       " 'CERRITOS': 8,\n",
       " 'CERRO DE SAN PEDRO': 9,\n",
       " 'CHARCAS': 15,\n",
       " 'CIUDAD DEL MAIZ': 10,\n",
       " 'CIUDAD FERNANDEZ': 11,\n",
       " 'CIUDAD VALLES': 13,\n",
       " 'COXCATLAN': 14,\n",
       " 'EBANO': 16,\n",
       " 'EL NARANJO': 58,\n",
       " 'GUADALCAZAR': 17,\n",
       " 'HUEHUETLAN': 18,\n",
       " 'LAGUNILLAS': 19,\n",
       " 'MATEHUALA': 20,\n",
       " 'MATLAPA': 57,\n",
       " 'MEXQUITIC DE CARMONA': 21,\n",
       " 'MOCTEZUMA': 22,\n",
       " 'RAYON': 23,\n",
       " 'RIOVERDE': 24,\n",
       " 'SALINAS': 25,\n",
       " 'SAN ANTONIO': 26,\n",
       " 'SAN CIRO DE ACOSTA': 27,\n",
       " 'SAN LUIS POTOSI': 28,\n",
       " 'SAN MARTIN CHALCHICUAUTLA': 29,\n",
       " 'SAN NICOLAS TOLENTINO': 30,\n",
       " 'SAN VICENTE TANCUAYALAB': 34,\n",
       " 'SANTA CATARINA': 31,\n",
       " 'SANTA MARIA DEL RIO': 32,\n",
       " 'SANTO DOMINGO': 33,\n",
       " 'SOLEDAD DE GRACIANO SANCHEZ': 35,\n",
       " 'TAMASOPO': 36,\n",
       " 'TAMAZUNCHALE': 37,\n",
       " 'TAMPACAN': 38,\n",
       " 'TAMPAMOLON CORONA': 39,\n",
       " 'TAMUIN': 40,\n",
       " 'TANCANHUITZ': 12,\n",
       " 'TANLAJAS': 41,\n",
       " 'TANQUIAN DE ESCOBEDO': 42,\n",
       " 'TIERRA NUEVA': 43,\n",
       " 'VANEGAS': 44,\n",
       " 'VENADO': 45,\n",
       " 'VILLA DE ARISTA': 56,\n",
       " 'VILLA DE ARRIAGA': 46,\n",
       " 'VILLA DE GUADALUPE': 47,\n",
       " 'VILLA DE LA PAZ': 48,\n",
       " 'VILLA DE RAMOS': 49,\n",
       " 'VILLA DE REYES': 50,\n",
       " 'VILLA HIDALGO': 51,\n",
       " 'VILLA JUAREZ': 52,\n",
       " 'XILITLA': 54,\n",
       " 'ZARAGOZA': 55}"
      ]
     },
     "execution_count": 246,
     "metadata": {},
     "output_type": "execute_result"
    }
   ],
   "source": [
    "dict_CCEFML_SAN_LUIS_POTOSI"
   ]
  },
  {
   "cell_type": "code",
   "execution_count": 247,
   "metadata": {},
   "outputs": [
    {
     "data": {
      "text/plain": [
       "array([1.0, 2.0, 3.0, 4.0, 5.0, 6.0, 7.0, 8.0, 9.0, 10.0, 11.0, 12.0, 13.0,\n",
       "       14.0, 15.0, 16.0, 17.0, 18.0, 19.0, 20.0, 21.0, 22.0, 23.0, 24.0,\n",
       "       25.0, 26.0, 27.0, 28.0, 29.0, 30.0, 31.0, 32.0, 33.0, 34.0, 35.0,\n",
       "       36.0, 37.0, 38.0, 39.0, 40.0, 41.0, 42.0, 43.0, 44.0, 45.0, 46.0,\n",
       "       47.0, 48.0, 49.0, 50.0, 51.0, 52.0, 53.0, 54.0, 55.0, 56.0, 57.0,\n",
       "       58.0], dtype=object)"
      ]
     },
     "execution_count": 247,
     "metadata": {},
     "output_type": "execute_result"
    }
   ],
   "source": [
    "df_copy['CVE_MUN'][(df_copy['ENTIDAD'] == estado)] = df_copy['CVE_MUN'][(df_copy['ENTIDAD'] == estado)].replace(dict_CCEFML_SAN_LUIS_POTOSI)\n",
    "df_copy['CVE_MUN'][(df_copy['ENTIDAD'] == estado)] = df_copy['CVE_MUN'][(df_copy['ENTIDAD'] == estado)].astype('int64')\n",
    "\n",
    "df_copy['CVE_MUN'][(df_copy['ENTIDAD'] == estado)].unique()"
   ]
  },
  {
   "cell_type": "markdown",
   "metadata": {},
   "source": [
    "### SINALOA"
   ]
  },
  {
   "cell_type": "code",
   "execution_count": 248,
   "metadata": {},
   "outputs": [],
   "source": [
    "estado = \"SINALOA\""
   ]
  },
  {
   "cell_type": "code",
   "execution_count": 249,
   "metadata": {},
   "outputs": [
    {
     "data": {
      "text/plain": [
       "array(['AHOME', 'ANGOSTURA', 'BADIRAGUATO', 'CHOIX', 'CONCORDIA', 'COSALA',\n",
       "       'CULIACAN', 'EL FUERTE', 'ELOTA', 'ESCUINAPA', 'GUASAVE',\n",
       "       'MAZATLAN', 'MOCORITO', 'NAVOLATO', 'ROSARIO', 'SALVADOR ALVARADO',\n",
       "       'SAN IGNACIO', 'SINALOA'], dtype=object)"
      ]
     },
     "execution_count": 249,
     "metadata": {},
     "output_type": "execute_result"
    }
   ],
   "source": [
    "df_copy[\"MUNICIPIO\"][(df_copy.ENTIDAD == estado)].unique()"
   ]
  },
  {
   "cell_type": "code",
   "execution_count": 250,
   "metadata": {},
   "outputs": [
    {
     "data": {
      "text/plain": [
       "array(['AHOME', 'ANGOSTURA', 'BADIRAGUATO', 'CONCORDIA', 'COSALA',\n",
       "       'CULIACAN', 'CHOIX', 'ELOTA', 'ESCUINAPA', 'EL FUERTE', 'GUASAVE',\n",
       "       'MAZATLAN', 'MOCORITO', 'ROSARIO', 'SALVADOR ALVARADO',\n",
       "       'SAN IGNACIO', 'SINALOA', 'NAVOLATO'], dtype=object)"
      ]
     },
     "execution_count": 250,
     "metadata": {},
     "output_type": "execute_result"
    }
   ],
   "source": [
    "df_CCEFML_copy[\"NOM_MUN\"][(df_CCEFML_copy[\"NOM_ENT\"] == estado)].unique()"
   ]
  },
  {
   "cell_type": "code",
   "execution_count": 251,
   "metadata": {},
   "outputs": [
    {
     "data": {
      "text/plain": [
       "{'AHOME': 1,\n",
       " 'ANGOSTURA': 2,\n",
       " 'BADIRAGUATO': 3,\n",
       " 'CHOIX': 7,\n",
       " 'CONCORDIA': 4,\n",
       " 'COSALA': 5,\n",
       " 'CULIACAN': 6,\n",
       " 'EL FUERTE': 10,\n",
       " 'ELOTA': 8,\n",
       " 'ESCUINAPA': 9,\n",
       " 'GUASAVE': 11,\n",
       " 'MAZATLAN': 12,\n",
       " 'MOCORITO': 13,\n",
       " 'NAVOLATO': 18,\n",
       " 'ROSARIO': 14,\n",
       " 'SALVADOR ALVARADO': 15,\n",
       " 'SAN IGNACIO': 16,\n",
       " 'SINALOA': 17}"
      ]
     },
     "execution_count": 251,
     "metadata": {},
     "output_type": "execute_result"
    }
   ],
   "source": [
    "dict_CCEFML_SINALOA"
   ]
  },
  {
   "cell_type": "code",
   "execution_count": 252,
   "metadata": {},
   "outputs": [
    {
     "data": {
      "text/plain": [
       "array([1.0, 2.0, 3.0, 7.0, 4.0, 5.0, 6.0, 10.0, 8.0, 9.0, 11.0, 12.0, 13.0,\n",
       "       18.0, 14.0, 15.0, 16.0, 17.0], dtype=object)"
      ]
     },
     "execution_count": 252,
     "metadata": {},
     "output_type": "execute_result"
    }
   ],
   "source": [
    "df_copy['CVE_MUN'][(df_copy['ENTIDAD'] == estado)] = df_copy['CVE_MUN'][(df_copy['ENTIDAD'] == estado)].replace(dict_CCEFML_SINALOA)\n",
    "df_copy['CVE_MUN'][(df_copy['ENTIDAD'] == estado)] = df_copy['CVE_MUN'][(df_copy['ENTIDAD'] == estado)].astype('int64')\n",
    "\n",
    "df_copy['CVE_MUN'][(df_copy['ENTIDAD'] == estado)].unique()"
   ]
  },
  {
   "cell_type": "markdown",
   "metadata": {},
   "source": [
    "### SONORA"
   ]
  },
  {
   "cell_type": "code",
   "execution_count": 253,
   "metadata": {},
   "outputs": [],
   "source": [
    "estado = \"SONORA\""
   ]
  },
  {
   "cell_type": "code",
   "execution_count": 254,
   "metadata": {},
   "outputs": [
    {
     "data": {
      "text/plain": [
       "array(['AGUA PRIETA', 'CABORCA', 'CAJEME', 'EMPALME', 'ETCHOJOA',\n",
       "       'GUAYMAS', 'HERMOSILLO', 'HUATABAMPO', 'NAVOJOA', 'NOGALES',\n",
       "       'PUERTO PEÑASCO', 'SAN LUIS RIO COLORADO', 'ACONCHI', 'ALAMOS',\n",
       "       'ALTAR', 'ARIVECHI', 'ARIZPE', 'ATIL', 'BACADEHUACHI', 'BACANORA',\n",
       "       'BACERAC', 'BACOACHI', 'BACUM', 'BANAMICHI', 'BAVIACORA', 'BAVISPE',\n",
       "       'BENJAMIN HILL', 'CANANEA', 'CARBO', 'LA COLORADA', 'CUCURPE',\n",
       "       'CUMPAS', 'DIVISADEROS', 'FRONTERAS', 'GRANADOS', 'HUACHINERA',\n",
       "       'HUASABAS', 'HUEPAC', 'IMURIS', 'MAGDALENA', 'MAZATAN', 'MOCTEZUMA',\n",
       "       'NACO', 'NACORI CHICO', 'NACOZARI DE GARCIA', 'ONAVAS', 'OPODEPE',\n",
       "       'OQUITOA', 'PITIQUITO', 'QUIRIEGO', 'RAYON', 'ROSARIO', 'SAHUARIPA',\n",
       "       'SAN FELIPE DE JESUS', 'SAN JAVIER', 'SAN MIGUEL DE HORCASITAS',\n",
       "       'SAN PEDRO DE LA CUEVA', 'SANTA ANA', 'SANTA CRUZ', 'SARIC',\n",
       "       'SOYOPA', 'SUAQUI GRANDE', 'TEPACHE', 'TRINCHERAS', 'TUBUTAMA',\n",
       "       'URES', 'VILLA HIDALGO', 'VILLA PESQUEIRA', 'YECORA',\n",
       "       'GENERAL PLUTARCO ELIAS CALLES', 'BENITO JUAREZ',\n",
       "       'SAN IGNACIO RIO MUERTO'], dtype=object)"
      ]
     },
     "execution_count": 254,
     "metadata": {},
     "output_type": "execute_result"
    }
   ],
   "source": [
    "df_copy[\"MUNICIPIO\"][(df_copy.ENTIDAD == estado)].unique()"
   ]
  },
  {
   "cell_type": "code",
   "execution_count": 255,
   "metadata": {},
   "outputs": [
    {
     "data": {
      "text/plain": [
       "array(['ACONCHI', 'AGUA PRIETA', 'ALAMOS', 'ALTAR', 'ARIVECHI', 'ARIZPE',\n",
       "       'ATIL', 'BACADEHUACHI', 'BACANORA', 'BACERAC', 'BACOACHI', 'BACUM',\n",
       "       'BANAMICHI', 'BAVIACORA', 'BAVISPE', 'BENJAMIN HILL', 'CABORCA',\n",
       "       'CAJEME', 'CANANEA', 'CARBO', 'LA COLORADA', 'CUCURPE', 'CUMPAS',\n",
       "       'DIVISADEROS', 'EMPALME', 'ETCHOJOA', 'FRONTERAS', 'GRANADOS',\n",
       "       'GUAYMAS', 'HERMOSILLO', 'HUACHINERA', 'HUASABAS', 'HUATABAMPO',\n",
       "       'HUEPAC', 'IMURIS', 'MAGDALENA', 'MAZATAN', 'MOCTEZUMA', 'NACO',\n",
       "       'NACORI CHICO', 'NACOZARI DE GARCIA', 'NAVOJOA', 'NOGALES',\n",
       "       'ONAVAS', 'OPODEPE', 'OQUITOA', 'PITIQUITO', 'PUERTO PEÑASCO',\n",
       "       'QUIRIEGO', 'RAYON', 'ROSARIO', 'SAHUARIPA', 'SAN FELIPE DE JESUS',\n",
       "       'SAN JAVIER', 'SAN LUIS RIO COLORADO', 'SAN MIGUEL DE HORCASITAS',\n",
       "       'SAN PEDRO DE LA CUEVA', 'SANTA ANA', 'SANTA CRUZ', 'SARIC',\n",
       "       'SOYOPA', 'SUAQUI GRANDE', 'TEPACHE', 'TRINCHERAS', 'TUBUTAMA',\n",
       "       'URES', 'VILLA HIDALGO', 'VILLA PESQUEIRA', 'YECORA',\n",
       "       'GENERAL PLUTARCO ELIAS CALLES', 'BENITO JUAREZ',\n",
       "       'SAN IGNACIO RIO MUERTO'], dtype=object)"
      ]
     },
     "execution_count": 255,
     "metadata": {},
     "output_type": "execute_result"
    }
   ],
   "source": [
    "df_CCEFML_copy[\"NOM_MUN\"][(df_CCEFML_copy[\"NOM_ENT\"] == estado)].unique()"
   ]
  },
  {
   "cell_type": "code",
   "execution_count": 256,
   "metadata": {},
   "outputs": [
    {
     "data": {
      "text/plain": [
       "{'ACONCHI': 1,\n",
       " 'AGUA PRIETA': 2,\n",
       " 'ALAMOS': 3,\n",
       " 'ALTAR': 4,\n",
       " 'ARIVECHI': 5,\n",
       " 'ARIZPE': 6,\n",
       " 'ATIL': 7,\n",
       " 'BACADEHUACHI': 8,\n",
       " 'BACANORA': 9,\n",
       " 'BACERAC': 10,\n",
       " 'BACOACHI': 11,\n",
       " 'BACUM': 12,\n",
       " 'BANAMICHI': 13,\n",
       " 'BAVIACORA': 14,\n",
       " 'BAVISPE': 15,\n",
       " 'BENITO JUAREZ': 71,\n",
       " 'BENJAMIN HILL': 16,\n",
       " 'CABORCA': 17,\n",
       " 'CAJEME': 18,\n",
       " 'CANANEA': 19,\n",
       " 'CARBO': 20,\n",
       " 'CUCURPE': 22,\n",
       " 'CUMPAS': 23,\n",
       " 'DIVISADEROS': 24,\n",
       " 'EMPALME': 25,\n",
       " 'ETCHOJOA': 26,\n",
       " 'FRONTERAS': 27,\n",
       " 'GENERAL PLUTARCO ELIAS CALLES': 70,\n",
       " 'GRANADOS': 28,\n",
       " 'GUAYMAS': 29,\n",
       " 'HERMOSILLO': 30,\n",
       " 'HUACHINERA': 31,\n",
       " 'HUASABAS': 32,\n",
       " 'HUATABAMPO': 33,\n",
       " 'HUEPAC': 34,\n",
       " 'IMURIS': 35,\n",
       " 'LA COLORADA': 21,\n",
       " 'MAGDALENA': 36,\n",
       " 'MAZATAN': 37,\n",
       " 'MOCTEZUMA': 38,\n",
       " 'NACO': 39,\n",
       " 'NACORI CHICO': 40,\n",
       " 'NACOZARI DE GARCIA': 41,\n",
       " 'NAVOJOA': 42,\n",
       " 'NOGALES': 43,\n",
       " 'ONAVAS': 44,\n",
       " 'OPODEPE': 45,\n",
       " 'OQUITOA': 46,\n",
       " 'PITIQUITO': 47,\n",
       " 'PUERTO PEÑASCO': 48,\n",
       " 'QUIRIEGO': 49,\n",
       " 'RAYON': 50,\n",
       " 'ROSARIO': 51,\n",
       " 'SAHUARIPA': 52,\n",
       " 'SAN FELIPE DE JESUS': 53,\n",
       " 'SAN IGNACIO RIO MUERTO': 72,\n",
       " 'SAN JAVIER': 54,\n",
       " 'SAN LUIS RIO COLORADO': 55,\n",
       " 'SAN MIGUEL DE HORCASITAS': 56,\n",
       " 'SAN PEDRO DE LA CUEVA': 57,\n",
       " 'SANTA ANA': 58,\n",
       " 'SANTA CRUZ': 59,\n",
       " 'SARIC': 60,\n",
       " 'SOYOPA': 61,\n",
       " 'SUAQUI GRANDE': 62,\n",
       " 'TEPACHE': 63,\n",
       " 'TRINCHERAS': 64,\n",
       " 'TUBUTAMA': 65,\n",
       " 'URES': 66,\n",
       " 'VILLA HIDALGO': 67,\n",
       " 'VILLA PESQUEIRA': 68,\n",
       " 'YECORA': 69}"
      ]
     },
     "execution_count": 256,
     "metadata": {},
     "output_type": "execute_result"
    }
   ],
   "source": [
    "dict_CCEFML_SONORA"
   ]
  },
  {
   "cell_type": "code",
   "execution_count": 257,
   "metadata": {},
   "outputs": [
    {
     "data": {
      "text/plain": [
       "array([2.0, 17.0, 18.0, 25.0, 26.0, 29.0, 30.0, 33.0, 42.0, 43.0, 48.0,\n",
       "       55.0, 1.0, 3.0, 4.0, 5.0, 6.0, 7.0, 8.0, 9.0, 10.0, 11.0, 12.0,\n",
       "       13.0, 14.0, 15.0, 16.0, 19.0, 20.0, 21.0, 22.0, 23.0, 24.0, 27.0,\n",
       "       28.0, 31.0, 32.0, 34.0, 35.0, 36.0, 37.0, 38.0, 39.0, 40.0, 41.0,\n",
       "       44.0, 45.0, 46.0, 47.0, 49.0, 50.0, 51.0, 52.0, 53.0, 54.0, 56.0,\n",
       "       57.0, 58.0, 59.0, 60.0, 61.0, 62.0, 63.0, 64.0, 65.0, 66.0, 67.0,\n",
       "       68.0, 69.0, 70.0, 71.0, 72.0], dtype=object)"
      ]
     },
     "execution_count": 257,
     "metadata": {},
     "output_type": "execute_result"
    }
   ],
   "source": [
    "df_copy['CVE_MUN'][(df_copy['ENTIDAD'] == estado)] = df_copy['CVE_MUN'][(df_copy['ENTIDAD'] == estado)].replace(dict_CCEFML_SONORA)\n",
    "df_copy['CVE_MUN'][(df_copy['ENTIDAD'] == estado)] = df_copy['CVE_MUN'][(df_copy['ENTIDAD'] == estado)].astype('int64')\n",
    "\n",
    "df_copy['CVE_MUN'][(df_copy['ENTIDAD'] == estado)].unique()"
   ]
  },
  {
   "cell_type": "markdown",
   "metadata": {},
   "source": [
    "### TABASCO"
   ]
  },
  {
   "cell_type": "code",
   "execution_count": 258,
   "metadata": {},
   "outputs": [],
   "source": [
    "estado = \"TABASCO\""
   ]
  },
  {
   "cell_type": "code",
   "execution_count": 259,
   "metadata": {},
   "outputs": [
    {
     "data": {
      "text/plain": [
       "array(['BALANCAN', 'CARDENAS', 'CENTLA', 'CENTRO', 'COMALCALCO',\n",
       "       'CUNDUACAN', 'EMILIANO ZAPATA', 'HUIMANGUILLO', 'JALAPA',\n",
       "       'JALPA DE MENDEZ', 'JONUTA', 'MACUSPANA', 'NACAJUCA', 'PARAISO',\n",
       "       'TACOTALPA', 'TEAPA', 'TENOSIQUE'], dtype=object)"
      ]
     },
     "execution_count": 259,
     "metadata": {},
     "output_type": "execute_result"
    }
   ],
   "source": [
    "df_copy[\"MUNICIPIO\"][(df_copy.ENTIDAD == estado)].unique()"
   ]
  },
  {
   "cell_type": "code",
   "execution_count": 260,
   "metadata": {},
   "outputs": [
    {
     "data": {
      "text/plain": [
       "array(['BALANCAN', 'CARDENAS', 'CENTLA', 'CENTRO', 'COMALCALCO',\n",
       "       'CUNDUACAN', 'EMILIANO ZAPATA', 'HUIMANGUILLO', 'JALAPA',\n",
       "       'JALPA DE MENDEZ', 'JONUTA', 'MACUSPANA', 'NACAJUCA', 'PARAISO',\n",
       "       'TACOTALPA', 'TEAPA', 'TENOSIQUE'], dtype=object)"
      ]
     },
     "execution_count": 260,
     "metadata": {},
     "output_type": "execute_result"
    }
   ],
   "source": [
    "df_CCEFML_copy[\"NOM_MUN\"][(df_CCEFML_copy[\"NOM_ENT\"] == estado)].unique()"
   ]
  },
  {
   "cell_type": "code",
   "execution_count": 261,
   "metadata": {},
   "outputs": [
    {
     "data": {
      "text/plain": [
       "{'BALANCAN': 1,\n",
       " 'CARDENAS': 2,\n",
       " 'CENTLA': 3,\n",
       " 'CENTRO': 4,\n",
       " 'COMALCALCO': 5,\n",
       " 'CUNDUACAN': 6,\n",
       " 'EMILIANO ZAPATA': 7,\n",
       " 'HUIMANGUILLO': 8,\n",
       " 'JALAPA': 9,\n",
       " 'JALPA DE MENDEZ': 10,\n",
       " 'JONUTA': 11,\n",
       " 'MACUSPANA': 12,\n",
       " 'NACAJUCA': 13,\n",
       " 'PARAISO': 14,\n",
       " 'TACOTALPA': 15,\n",
       " 'TEAPA': 16,\n",
       " 'TENOSIQUE': 17}"
      ]
     },
     "execution_count": 261,
     "metadata": {},
     "output_type": "execute_result"
    }
   ],
   "source": [
    "dict_CCEFML_TABASCO"
   ]
  },
  {
   "cell_type": "code",
   "execution_count": 262,
   "metadata": {},
   "outputs": [
    {
     "data": {
      "text/plain": [
       "array([1.0, 2.0, 3.0, 4.0, 5.0, 6.0, 7.0, 8.0, 9.0, 10.0, 11.0, 12.0, 13.0,\n",
       "       14.0, 15.0, 16.0, 17.0], dtype=object)"
      ]
     },
     "execution_count": 262,
     "metadata": {},
     "output_type": "execute_result"
    }
   ],
   "source": [
    "df_copy['CVE_MUN'][(df_copy['ENTIDAD'] == estado)] = df_copy['CVE_MUN'][(df_copy['ENTIDAD'] == estado)].replace(dict_CCEFML_TABASCO)\n",
    "df_copy['CVE_MUN'][(df_copy['ENTIDAD'] == estado)] = df_copy['CVE_MUN'][(df_copy['ENTIDAD'] == estado)].astype('int64')\n",
    "\n",
    "df_copy['CVE_MUN'][(df_copy['ENTIDAD'] == estado)].unique()"
   ]
  },
  {
   "cell_type": "markdown",
   "metadata": {},
   "source": [
    "### TAMAULIPAS"
   ]
  },
  {
   "cell_type": "code",
   "execution_count": 263,
   "metadata": {},
   "outputs": [],
   "source": [
    "estado = \"TAMAULIPAS\""
   ]
  },
  {
   "cell_type": "code",
   "execution_count": 264,
   "metadata": {},
   "outputs": [
    {
     "data": {
      "text/plain": [
       "array(['ABASOLO', 'ALDAMA', 'ALTAMIRA', 'BURGOS', 'CAMARGO',\n",
       "       'CIUDAD MADERO', 'GONZALEZ', 'GÜEMEZ', 'GUSTAVO DIAZ ORDAZ',\n",
       "       'HIDALGO', 'JAUMAVE', 'JIMENEZ', 'LLERA', 'EL MANTE', 'MATAMOROS',\n",
       "       'MIER', 'MIGUEL ALEMAN', 'NUEVO LAREDO', 'OCAMPO', 'PADILLA',\n",
       "       'REYNOSA', 'RIO BRAVO', 'SAN CARLOS', 'SAN FERNANDO',\n",
       "       'SOTO LA MARINA', 'TAMPICO', 'TULA', 'VALLE HERMOSO', 'VICTORIA',\n",
       "       'XICOTENCATL', 'ANTIGUO MORELOS', 'BUSTAMANTE', 'CASAS', 'CRUILLAS',\n",
       "       'GOMEZ FARIAS', 'GUERRERO', 'MAINERO', 'MENDEZ', 'MIQUIHUANA',\n",
       "       'NUEVO MORELOS', 'PALMILLAS', 'SAN NICOLAS', 'VILLAGRAN'], dtype=object)"
      ]
     },
     "execution_count": 264,
     "metadata": {},
     "output_type": "execute_result"
    }
   ],
   "source": [
    "df_copy[\"MUNICIPIO\"][(df_copy.ENTIDAD == estado)].unique()"
   ]
  },
  {
   "cell_type": "code",
   "execution_count": 265,
   "metadata": {},
   "outputs": [
    {
     "data": {
      "text/plain": [
       "array(['ABASOLO', 'ALDAMA', 'ALTAMIRA', 'ANTIGUO MORELOS', 'BURGOS',\n",
       "       'BUSTAMANTE', 'CAMARGO', 'CASAS', 'CIUDAD MADERO', 'CRUILLAS',\n",
       "       'GOMEZ FARIAS', 'GONZALEZ', 'GÜEMEZ', 'GUERRERO',\n",
       "       'GUSTAVO DIAZ ORDAZ', 'HIDALGO', 'JAUMAVE', 'JIMENEZ', 'LLERA',\n",
       "       'MAINERO', 'EL MANTE', 'MATAMOROS', 'MENDEZ', 'MIER',\n",
       "       'MIGUEL ALEMAN', 'MIQUIHUANA', 'NUEVO LAREDO', 'NUEVO MORELOS',\n",
       "       'OCAMPO', 'PADILLA', 'PALMILLAS', 'REYNOSA', 'RIO BRAVO',\n",
       "       'SAN CARLOS', 'SAN FERNANDO', 'SAN NICOLAS', 'SOTO LA MARINA',\n",
       "       'TAMPICO', 'TULA', 'VALLE HERMOSO', 'VICTORIA', 'VILLAGRAN',\n",
       "       'XICOTENCATL'], dtype=object)"
      ]
     },
     "execution_count": 265,
     "metadata": {},
     "output_type": "execute_result"
    }
   ],
   "source": [
    "df_CCEFML_copy[\"NOM_MUN\"][(df_CCEFML_copy[\"NOM_ENT\"] == estado)].unique()"
   ]
  },
  {
   "cell_type": "code",
   "execution_count": 266,
   "metadata": {},
   "outputs": [
    {
     "data": {
      "text/plain": [
       "{'ABASOLO': 1,\n",
       " 'ALDAMA': 2,\n",
       " 'ALTAMIRA': 3,\n",
       " 'ANTIGUO MORELOS': 4,\n",
       " 'BURGOS': 5,\n",
       " 'BUSTAMANTE': 6,\n",
       " 'CAMARGO': 7,\n",
       " 'CASAS': 8,\n",
       " 'CIUDAD MADERO': 9,\n",
       " 'CRUILLAS': 10,\n",
       " 'EL MANTE': 21,\n",
       " 'GOMEZ FARIAS': 11,\n",
       " 'GONZALEZ': 12,\n",
       " 'GUERRERO': 14,\n",
       " 'GUSTAVO DIAZ ORDAZ': 15,\n",
       " 'GÜEMEZ': 13,\n",
       " 'HIDALGO': 16,\n",
       " 'JAUMAVE': 17,\n",
       " 'JIMENEZ': 18,\n",
       " 'LLERA': 19,\n",
       " 'MAINERO': 20,\n",
       " 'MATAMOROS': 22,\n",
       " 'MENDEZ': 23,\n",
       " 'MIER': 24,\n",
       " 'MIGUEL ALEMAN': 25,\n",
       " 'MIQUIHUANA': 26,\n",
       " 'NUEVO LAREDO': 27,\n",
       " 'NUEVO MORELOS': 28,\n",
       " 'OCAMPO': 29,\n",
       " 'PADILLA': 30,\n",
       " 'PALMILLAS': 31,\n",
       " 'REYNOSA': 32,\n",
       " 'RIO BRAVO': 33,\n",
       " 'SAN CARLOS': 34,\n",
       " 'SAN FERNANDO': 35,\n",
       " 'SAN NICOLAS': 36,\n",
       " 'SOTO LA MARINA': 37,\n",
       " 'TAMPICO': 38,\n",
       " 'TULA': 39,\n",
       " 'VALLE HERMOSO': 40,\n",
       " 'VICTORIA': 41,\n",
       " 'VILLAGRAN': 42,\n",
       " 'XICOTENCATL': 43}"
      ]
     },
     "execution_count": 266,
     "metadata": {},
     "output_type": "execute_result"
    }
   ],
   "source": [
    "dict_CCEFML_TAMAULIPAS"
   ]
  },
  {
   "cell_type": "code",
   "execution_count": 267,
   "metadata": {},
   "outputs": [
    {
     "data": {
      "text/plain": [
       "array([1.0, 2.0, 3.0, 5.0, 7.0, 9.0, 12.0, 13.0, 15.0, 16.0, 17.0, 18.0,\n",
       "       19.0, 21.0, 22.0, 24.0, 25.0, 27.0, 29.0, 30.0, 32.0, 33.0, 34.0,\n",
       "       35.0, 37.0, 38.0, 39.0, 40.0, 41.0, 43.0, 4.0, 6.0, 8.0, 10.0, 11.0,\n",
       "       14.0, 20.0, 23.0, 26.0, 28.0, 31.0, 36.0, 42.0], dtype=object)"
      ]
     },
     "execution_count": 267,
     "metadata": {},
     "output_type": "execute_result"
    }
   ],
   "source": [
    "df_copy['CVE_MUN'][(df_copy['ENTIDAD'] == estado)] = df_copy['CVE_MUN'][(df_copy['ENTIDAD'] == estado)].replace(dict_CCEFML_TAMAULIPAS)\n",
    "df_copy['CVE_MUN'][(df_copy['ENTIDAD'] == estado)] = df_copy['CVE_MUN'][(df_copy['ENTIDAD'] == estado)].astype('int64')\n",
    "\n",
    "df_copy['CVE_MUN'][(df_copy['ENTIDAD'] == estado)].unique()"
   ]
  },
  {
   "cell_type": "markdown",
   "metadata": {},
   "source": [
    "### TLAXCALA"
   ]
  },
  {
   "cell_type": "code",
   "execution_count": 268,
   "metadata": {},
   "outputs": [],
   "source": [
    "estado = \"TLAXCALA\""
   ]
  },
  {
   "cell_type": "code",
   "execution_count": 269,
   "metadata": {},
   "outputs": [
    {
     "data": {
      "text/plain": [
       "array(['AMAXAC DE GUERRERO', 'APETATITLAN DE ANTONIO CARVAJAL',\n",
       "       'ATLANGATEPEC', 'ATLTZAYANCA', 'APIZACO', 'CALPULALPAN',\n",
       "       'EL CARMEN TEQUEXQUITLA', 'CUAPIAXTLA', 'CUAXOMULCO', 'CHIAUTEMPAN',\n",
       "       'MUÑOZ DE DOMINGO ARENAS', 'ESPAÑITA', 'HUAMANTLA', 'HUEYOTLIPAN',\n",
       "       'IXTACUIXTLA DE MARIANO MATAMOROS', 'IXTENCO',\n",
       "       'MAZATECOCHCO DE JOSE MARIA MORELOS', 'CONTLA DE JUAN CUAMATZI',\n",
       "       'TEPETITLA DE LARDIZABAL', 'SANCTORUM DE LAZARO CARDENAS',\n",
       "       'NANACAMILPA DE MARIANO ARISTA', 'ACUAMANALA DE MIGUEL HIDALGO',\n",
       "       'NATIVITAS', 'PANOTLA', 'SAN PABLO DEL MONTE',\n",
       "       'SANTA CRUZ TLAXCALA', 'TENANCINGO', 'TEOLOCHOLCO', 'TEPEYANCO',\n",
       "       'TERRENATE', 'TETLA DE LA SOLIDARIDAD', 'TETLATLAHUCA', 'TLAXCALA',\n",
       "       'TLAXCO', 'TOCATLAN', 'TOTOLAC',\n",
       "       'ZILTLALTEPEC DE TRINIDAD SANCHEZ SANTOS', 'TZOMPANTEPEC',\n",
       "       'XALOZTOC', 'XALTOCAN', 'PAPALOTLA DE XICOHTENCATL', 'XICOHTZINCO',\n",
       "       'YAUHQUEMEHCAN', 'ZACATELCO', 'BENITO JUAREZ', 'EMILIANO ZAPATA',\n",
       "       'LAZARO CARDENAS', 'LA MAGDALENA TLALTELULCO', 'SAN DAMIAN TEXOLOC',\n",
       "       'SAN FRANCISCO TETLANOHCAN', 'SAN JERONIMO ZACUALPAN',\n",
       "       'SAN JOSE TEACALCO', 'SAN JUAN HUACTZINCO',\n",
       "       'SAN LORENZO AXOCOMANITLA', 'SAN LUCAS TECOPILCO',\n",
       "       'SANTA ANA NOPALUCAN', 'SANTA APOLONIA TEACALCO',\n",
       "       'SANTA CATARINA AYOMETLA', 'SANTA CRUZ QUILEHTLA',\n",
       "       'SANTA ISABEL XILOXOXTLA'], dtype=object)"
      ]
     },
     "execution_count": 269,
     "metadata": {},
     "output_type": "execute_result"
    }
   ],
   "source": [
    "df_copy[\"MUNICIPIO\"][(df_copy.ENTIDAD == estado)].unique()"
   ]
  },
  {
   "cell_type": "code",
   "execution_count": 270,
   "metadata": {},
   "outputs": [
    {
     "data": {
      "text/plain": [
       "array(['AMAXAC DE GUERRERO', 'APETATITLAN DE ANTONIO CARVAJAL',\n",
       "       'ATLANGATEPEC', 'ATLTZAYANCA', 'APIZACO', 'CALPULALPAN',\n",
       "       'EL CARMEN TEQUEXQUITLA', 'CUAPIAXTLA', 'CUAXOMULCO', 'CHIAUTEMPAN',\n",
       "       'MUÑOZ DE DOMINGO ARENAS', 'ESPAÑITA', 'HUAMANTLA', 'HUEYOTLIPAN',\n",
       "       'IXTACUIXTLA DE MARIANO MATAMOROS', 'IXTENCO',\n",
       "       'MAZATECOCHCO DE JOSE MARIA MORELOS', 'CONTLA DE JUAN CUAMATZI',\n",
       "       'TEPETITLA DE LARDIZABAL', 'SANCTORUM DE LAZARO CARDENAS',\n",
       "       'NANACAMILPA DE MARIANO ARISTA', 'ACUAMANALA DE MIGUEL HIDALGO',\n",
       "       'NATIVITAS', 'PANOTLA', 'SAN PABLO DEL MONTE',\n",
       "       'SANTA CRUZ TLAXCALA', 'TENANCINGO', 'TEOLOCHOLCO', 'TEPEYANCO',\n",
       "       'TERRENATE', 'TETLA DE LA SOLIDARIDAD', 'TETLATLAHUCA', 'TLAXCALA',\n",
       "       'TLAXCO', 'TOCATLAN', 'TOTOLAC',\n",
       "       'ZILTLALTEPEC DE TRINIDAD SANCHEZ SANTOS', 'TZOMPANTEPEC',\n",
       "       'XALOZTOC', 'XALTOCAN', 'PAPALOTLA DE XICOHTENCATL', 'XICOHTZINCO',\n",
       "       'YAUHQUEMEHCAN', 'ZACATELCO', 'BENITO JUAREZ', 'EMILIANO ZAPATA',\n",
       "       'LAZARO CARDENAS', 'LA MAGDALENA TLALTELULCO', 'SAN DAMIAN TEXOLOC',\n",
       "       'SAN FRANCISCO TETLANOHCAN', 'SAN JERONIMO ZACUALPAN',\n",
       "       'SAN JOSE TEACALCO', 'SAN JUAN HUACTZINCO',\n",
       "       'SAN LORENZO AXOCOMANITLA', 'SAN LUCAS TECOPILCO',\n",
       "       'SANTA ANA NOPALUCAN', 'SANTA APOLONIA TEACALCO',\n",
       "       'SANTA CATARINA AYOMETLA', 'SANTA CRUZ QUILEHTLA',\n",
       "       'SANTA ISABEL XILOXOXTLA'], dtype=object)"
      ]
     },
     "execution_count": 270,
     "metadata": {},
     "output_type": "execute_result"
    }
   ],
   "source": [
    "df_CCEFML_copy[\"NOM_MUN\"][(df_CCEFML_copy[\"NOM_ENT\"] == estado)].unique()"
   ]
  },
  {
   "cell_type": "code",
   "execution_count": 271,
   "metadata": {},
   "outputs": [
    {
     "data": {
      "text/plain": [
       "{'ACUAMANALA DE MIGUEL HIDALGO': 22,\n",
       " 'AMAXAC DE GUERRERO': 1,\n",
       " 'APETATITLAN DE ANTONIO CARVAJAL': 2,\n",
       " 'APIZACO': 5,\n",
       " 'ATLANGATEPEC': 3,\n",
       " 'ATLTZAYANCA': 4,\n",
       " 'BENITO JUAREZ': 45,\n",
       " 'CALPULALPAN': 6,\n",
       " 'CHIAUTEMPAN': 10,\n",
       " 'CONTLA DE JUAN CUAMATZI': 18,\n",
       " 'CUAPIAXTLA': 8,\n",
       " 'CUAXOMULCO': 9,\n",
       " 'EL CARMEN TEQUEXQUITLA': 7,\n",
       " 'EMILIANO ZAPATA': 46,\n",
       " 'ESPAÑITA': 12,\n",
       " 'HUAMANTLA': 13,\n",
       " 'HUEYOTLIPAN': 14,\n",
       " 'IXTACUIXTLA DE MARIANO MATAMOROS': 15,\n",
       " 'IXTENCO': 16,\n",
       " 'LA MAGDALENA TLALTELULCO': 48,\n",
       " 'LAZARO CARDENAS': 47,\n",
       " 'MAZATECOCHCO DE JOSE MARIA MORELOS': 17,\n",
       " 'MUÑOZ DE DOMINGO ARENAS': 11,\n",
       " 'NANACAMILPA DE MARIANO ARISTA': 21,\n",
       " 'NATIVITAS': 23,\n",
       " 'PANOTLA': 24,\n",
       " 'PAPALOTLA DE XICOHTENCATL': 41,\n",
       " 'SAN DAMIAN TEXOLOC': 49,\n",
       " 'SAN FRANCISCO TETLANOHCAN': 50,\n",
       " 'SAN JERONIMO ZACUALPAN': 51,\n",
       " 'SAN JOSE TEACALCO': 52,\n",
       " 'SAN JUAN HUACTZINCO': 53,\n",
       " 'SAN LORENZO AXOCOMANITLA': 54,\n",
       " 'SAN LUCAS TECOPILCO': 55,\n",
       " 'SAN PABLO DEL MONTE': 25,\n",
       " 'SANCTORUM DE LAZARO CARDENAS': 20,\n",
       " 'SANTA ANA NOPALUCAN': 56,\n",
       " 'SANTA APOLONIA TEACALCO': 57,\n",
       " 'SANTA CATARINA AYOMETLA': 58,\n",
       " 'SANTA CRUZ QUILEHTLA': 59,\n",
       " 'SANTA CRUZ TLAXCALA': 26,\n",
       " 'SANTA ISABEL XILOXOXTLA': 60,\n",
       " 'TENANCINGO': 27,\n",
       " 'TEOLOCHOLCO': 28,\n",
       " 'TEPETITLA DE LARDIZABAL': 19,\n",
       " 'TEPEYANCO': 29,\n",
       " 'TERRENATE': 30,\n",
       " 'TETLA DE LA SOLIDARIDAD': 31,\n",
       " 'TETLATLAHUCA': 32,\n",
       " 'TLAXCALA': 33,\n",
       " 'TLAXCO': 34,\n",
       " 'TOCATLAN': 35,\n",
       " 'TOTOLAC': 36,\n",
       " 'TZOMPANTEPEC': 38,\n",
       " 'XALOZTOC': 39,\n",
       " 'XALTOCAN': 40,\n",
       " 'XICOHTZINCO': 42,\n",
       " 'YAUHQUEMEHCAN': 43,\n",
       " 'ZACATELCO': 44,\n",
       " 'ZILTLALTEPEC DE TRINIDAD SANCHEZ SANTOS': 37}"
      ]
     },
     "execution_count": 271,
     "metadata": {},
     "output_type": "execute_result"
    }
   ],
   "source": [
    "dict_CCEFML_TLAXCALA"
   ]
  },
  {
   "cell_type": "code",
   "execution_count": 272,
   "metadata": {},
   "outputs": [
    {
     "data": {
      "text/plain": [
       "array([1.0, 2.0, 3.0, 4.0, 5.0, 6.0, 7.0, 8.0, 9.0, 10.0, 11.0, 12.0, 13.0,\n",
       "       14.0, 15.0, 16.0, 17.0, 18.0, 19.0, 20.0, 21.0, 22.0, 23.0, 24.0,\n",
       "       25.0, 26.0, 27.0, 28.0, 29.0, 30.0, 31.0, 32.0, 33.0, 34.0, 35.0,\n",
       "       36.0, 37.0, 38.0, 39.0, 40.0, 41.0, 42.0, 43.0, 44.0, 45.0, 46.0,\n",
       "       47.0, 48.0, 49.0, 50.0, 51.0, 52.0, 53.0, 54.0, 55.0, 56.0, 57.0,\n",
       "       58.0, 59.0, 60.0], dtype=object)"
      ]
     },
     "execution_count": 272,
     "metadata": {},
     "output_type": "execute_result"
    }
   ],
   "source": [
    "df_copy['CVE_MUN'][(df_copy['ENTIDAD'] == estado)] = df_copy['CVE_MUN'][(df_copy['ENTIDAD'] == estado)].replace(dict_CCEFML_TLAXCALA)\n",
    "df_copy['CVE_MUN'][(df_copy['ENTIDAD'] == estado)] = df_copy['CVE_MUN'][(df_copy['ENTIDAD'] == estado)].astype('int64')\n",
    "\n",
    "df_copy['CVE_MUN'][(df_copy['ENTIDAD'] == estado)].unique()"
   ]
  },
  {
   "cell_type": "markdown",
   "metadata": {},
   "source": [
    "### VERACRUZ"
   ]
  },
  {
   "cell_type": "code",
   "execution_count": 273,
   "metadata": {},
   "outputs": [],
   "source": [
    "estado = \"VERACRUZ\""
   ]
  },
  {
   "cell_type": "code",
   "execution_count": 274,
   "metadata": {},
   "outputs": [
    {
     "data": {
      "text/plain": [
       "array(['ACAYUCAN', 'ACTOPAN', 'ALTOTONGA', 'ALVARADO',\n",
       "       'AMATLAN DE LOS REYES', 'ATZALAN', 'BOCA DEL RIO',\n",
       "       'CAMERINO Z. MENDOZA', 'CATEMACO', 'COATEPEC', 'COATZACOALCOS',\n",
       "       'COATZINTLA', 'CORDOBA', 'COSAMALOAPAN DE CARPIO', 'COSCOMATEPEC',\n",
       "       'COSOLEACAQUE', 'CHICONTEPEC', 'LAS CHOAPAS', 'EMILIANO ZAPATA',\n",
       "       'FORTIN', 'HUATUSCO', 'HUEYAPAN DE OCAMPO', 'ISLA',\n",
       "       'IXHUATLAN DE MADERO', 'IXTACZOQUITLAN', 'JALACINGO', 'XALAPA',\n",
       "       'MARTINEZ DE LA TORRE', 'MEDELLIN', 'MINATITLAN', 'MISANTLA',\n",
       "       'ORIZABA', 'PANUCO', 'PAPANTLA', 'PEROTE', 'PLAYA VICENTE',\n",
       "       'POZA RICA DE HIDALGO', 'PUEBLO VIEJO', 'RIO BLANCO',\n",
       "       'SAN ANDRES TUXTLA', 'SANTIAGO TUXTLA', 'TANTOYUCA',\n",
       "       'ALAMO TEMAPACHE', 'TEZONAPA', 'TIERRA BLANCA', 'TIHUATLAN',\n",
       "       'TLAPACOYAN', 'TUXPAN', 'VERACRUZ', 'ZONGOLICA', 'AGUA DULCE',\n",
       "       'TRES VALLES', 'ACAJETE', 'ACATLAN', 'ACULA', 'ACULTZINGO',\n",
       "       'ALPATLAHUAC', 'ALTO LUCERO DE GUTIERREZ BARRIOS', 'AMATITLAN',\n",
       "       'ANGEL R. CABADA', 'APAZAPAN', 'AQUILA', 'ASTACINGA', 'ATLAHUILCO',\n",
       "       'ATOYAC', 'ATZACAN', 'AYAHUALULCO', 'BANDERILLA', 'BENITO JUAREZ',\n",
       "       'CALCAHUALCO', 'CAMARON DE TEJEDA', 'CARLOS A. CARRILLO',\n",
       "       'CARRILLO PUERTO', 'CASTILLO DE TEAYO', 'CAZONES DE HERRERA',\n",
       "       'CERRO AZUL', 'CHACALTIANGUIS', 'CHALMA', 'CHICONAMEL',\n",
       "       'CHICONQUIACO', 'CHINAMECA', 'CHINAMPA DE GOROSTIZA', 'CHOCAMAN',\n",
       "       'CHONTLA', 'CHUMATLAN', 'CITLALTEPETL', 'COACOATZINTLA',\n",
       "       'COAHUITLAN', 'COETZALA', 'COLIPA', 'COMAPA',\n",
       "       'COSAUTLAN DE CARVAJAL', 'COTAXTLA', 'COXQUIHUI', 'COYUTLA',\n",
       "       'CUICHAPA', 'CUITLAHUAC', 'EL HIGO', 'ESPINAL', 'FILOMENO MATA',\n",
       "       'GUTIERREZ ZAMORA', 'HIDALGOTITLAN', 'HUAYACOCOTLA',\n",
       "       'HUILOAPAN DE CUAUHTEMOC', 'IGNACIO DE LA LLAVE', 'ILAMATLAN',\n",
       "       'IXCATEPEC', 'IXHUACAN DE LOS REYES', 'IXHUATLANCILLO',\n",
       "       'IXHUATLAN DEL CAFE', 'IXHUATLAN DEL SURESTE', 'IXMATLAHUACAN',\n",
       "       'JALCOMULCO', 'JAMAPA', 'JESUS CARRANZA', 'JILOTEPEC',\n",
       "       'JOSE AZUETA', 'JUAN RODRIGUEZ CLARA', 'JUCHIQUE DE FERRER',\n",
       "       'JALTIPAN', 'LA ANTIGUA', 'LA PERLA', 'LANDERO Y COSS', 'LAS MINAS',\n",
       "       'LAS VIGAS DE RAMIREZ', 'LERDO DE TEJADA', 'LOS REYES', 'MAGDALENA',\n",
       "       'MALTRATA', 'MANLIO FABIO ALTAMIRANO', 'MARIANO ESCOBEDO',\n",
       "       'MECATLAN', 'MECAYAPAN', 'MIAHUATLAN', 'MIXTLA DE ALTAMIRANO',\n",
       "       'MOLOACAN', 'NANCHITAL DE LAZARO CARDENAS DEL RIO', 'NAOLINCO',\n",
       "       'NARANJAL', 'NARANJOS AMATLAN', 'NAUTLA', 'NOGALES', 'OLUTA',\n",
       "       'OMEALCA', 'OTATITLAN', 'OTEAPAN', 'OZULUAMA DE MASCAREÑAS',\n",
       "       'PAJAPAN', 'PASO DE OVEJAS', 'PASO DEL MACHO', 'PLATON SANCHEZ',\n",
       "       'PUENTE NACIONAL', 'RAFAEL DELGADO', 'RAFAEL LUCIO',\n",
       "       'SALTABARRANCA', 'SAN ANDRES TENEJAPAN', 'SAN JUAN EVANGELISTA',\n",
       "       'SAN RAFAEL', 'SANTIAGO SOCHIAPAN', 'SAYULA DE ALEMAN', 'SOCHIAPA',\n",
       "       'SOCONUSCO', 'SOLEDAD ATZOMPA', 'SOLEDAD DE DOBLADO', 'SOTEAPAN',\n",
       "       'TAMALIN', 'TAMIAHUA', 'TAMPICO ALTO', 'TANCOCO', 'TANTIMA',\n",
       "       'TATAHUICAPAN DE JUAREZ', 'TATATILA', 'TECOLUTLA', 'TEHUIPANGO',\n",
       "       'TEMPOAL', 'TENAMPA', 'TENOCHTITLAN', 'TEOCELO', 'TEPATLAXCO',\n",
       "       'TEPETLAN', 'TEPETZINTLA', 'TEQUILA', 'TEXCATEPEC', 'TEXHUACAN',\n",
       "       'TEXISTEPEC', 'TLACHICHILCO', 'TLACOJALPAN', 'TLACOLULAN',\n",
       "       'TLACOTALPAN', 'TLACOTEPEC DE MEJIA', 'TLALIXCOYAN',\n",
       "       'TLALNELHUAYOCAN', 'TLALTETELA', 'TLAQUILPA', 'TLILAPAN',\n",
       "       'TOMATLAN', 'TONAYAN', 'TOTUTLA', 'TUXTILLA', 'URSULO GALVAN',\n",
       "       'UXPANAPA', 'VEGA DE ALATORRE', 'VILLA ALDAMA', 'XICO', 'XOXOCOTLA',\n",
       "       'YANGA', 'YECUATLA', 'ZACUALPAN', 'ZARAGOZA', 'ZENTLA',\n",
       "       'ZONTECOMATLAN DE LOPEZ Y FUENTES', 'ZOZOCOLCO DE HIDALGO'], dtype=object)"
      ]
     },
     "execution_count": 274,
     "metadata": {},
     "output_type": "execute_result"
    }
   ],
   "source": [
    "df_copy[\"MUNICIPIO\"][(df_copy.ENTIDAD == estado)].unique()"
   ]
  },
  {
   "cell_type": "code",
   "execution_count": 275,
   "metadata": {},
   "outputs": [
    {
     "data": {
      "text/plain": [
       "array(['ACAJETE', 'ACATLAN', 'ACAYUCAN', 'ACTOPAN', 'ACULA', 'ACULTZINGO',\n",
       "       'CAMARON DE TEJEDA', 'ALPATLAHUAC',\n",
       "       'ALTO LUCERO DE GUTIERREZ BARRIOS', 'ALTOTONGA', 'ALVARADO',\n",
       "       'AMATITLAN', 'NARANJOS AMATLAN', 'AMATLAN DE LOS REYES',\n",
       "       'ANGEL R. CABADA', 'LA ANTIGUA', 'APAZAPAN', 'AQUILA', 'ASTACINGA',\n",
       "       'ATLAHUILCO', 'ATOYAC', 'ATZACAN', 'ATZALAN', 'TLALTETELA',\n",
       "       'AYAHUALULCO', 'BANDERILLA', 'BENITO JUAREZ', 'BOCA DEL RIO',\n",
       "       'CALCAHUALCO', 'CAMERINO Z. MENDOZA', 'CARRILLO PUERTO', 'CATEMACO',\n",
       "       'CAZONES DE HERRERA', 'CERRO AZUL', 'CITLALTEPETL', 'COACOATZINTLA',\n",
       "       'COAHUITLAN', 'COATEPEC', 'COATZACOALCOS', 'COATZINTLA', 'COETZALA',\n",
       "       'COLIPA', 'COMAPA', 'CORDOBA', 'COSAMALOAPAN DE CARPIO',\n",
       "       'COSAUTLAN DE CARVAJAL', 'COSCOMATEPEC', 'COSOLEACAQUE', 'COTAXTLA',\n",
       "       'COXQUIHUI', 'COYUTLA', 'CUICHAPA', 'CUITLAHUAC', 'CHACALTIANGUIS',\n",
       "       'CHALMA', 'CHICONAMEL', 'CHICONQUIACO', 'CHICONTEPEC', 'CHINAMECA',\n",
       "       'CHINAMPA DE GOROSTIZA', 'LAS CHOAPAS', 'CHOCAMAN', 'CHONTLA',\n",
       "       'CHUMATLAN', 'EMILIANO ZAPATA', 'ESPINAL', 'FILOMENO MATA',\n",
       "       'FORTIN', 'GUTIERREZ ZAMORA', 'HIDALGOTITLAN', 'HUATUSCO',\n",
       "       'HUAYACOCOTLA', 'HUEYAPAN DE OCAMPO', 'HUILOAPAN DE CUAUHTEMOC',\n",
       "       'IGNACIO DE LA LLAVE', 'ILAMATLAN', 'ISLA', 'IXCATEPEC',\n",
       "       'IXHUACAN DE LOS REYES', 'IXHUATLAN DEL CAFE', 'IXHUATLANCILLO',\n",
       "       'IXHUATLAN DEL SURESTE', 'IXHUATLAN DE MADERO', 'IXMATLAHUACAN',\n",
       "       'IXTACZOQUITLAN', 'JALACINGO', 'XALAPA', 'JALCOMULCO', 'JALTIPAN',\n",
       "       'JAMAPA', 'JESUS CARRANZA', 'XICO', 'JILOTEPEC',\n",
       "       'JUAN RODRIGUEZ CLARA', 'JUCHIQUE DE FERRER', 'LANDERO Y COSS',\n",
       "       'LERDO DE TEJADA', 'MAGDALENA', 'MALTRATA',\n",
       "       'MANLIO FABIO ALTAMIRANO', 'MARIANO ESCOBEDO',\n",
       "       'MARTINEZ DE LA TORRE', 'MECATLAN', 'MECAYAPAN',\n",
       "       'MEDELLIN DE BRAVO', 'MIAHUATLAN', 'LAS MINAS', 'MINATITLAN',\n",
       "       'MISANTLA', 'MIXTLA DE ALTAMIRANO', 'MOLOACAN', 'NAOLINCO',\n",
       "       'NARANJAL', 'NAUTLA', 'NOGALES', 'OLUTA', 'OMEALCA', 'ORIZABA',\n",
       "       'OTATITLAN', 'OTEAPAN', 'OZULUAMA DE MASCAREÑAS', 'PAJAPAN',\n",
       "       'PANUCO', 'PAPANTLA', 'PASO DEL MACHO', 'PASO DE OVEJAS',\n",
       "       'LA PERLA', 'PEROTE', 'PLATON SANCHEZ', 'PLAYA VICENTE',\n",
       "       'POZA RICA DE HIDALGO', 'LAS VIGAS DE RAMIREZ', 'PUEBLO VIEJO',\n",
       "       'PUENTE NACIONAL', 'RAFAEL DELGADO', 'RAFAEL LUCIO', 'LOS REYES',\n",
       "       'RIO BLANCO', 'SALTABARRANCA', 'SAN ANDRES TENEJAPAN',\n",
       "       'SAN ANDRES TUXTLA', 'SAN JUAN EVANGELISTA', 'SANTIAGO TUXTLA',\n",
       "       'SAYULA DE ALEMAN', 'SOCONUSCO', 'SOCHIAPA', 'SOLEDAD ATZOMPA',\n",
       "       'SOLEDAD DE DOBLADO', 'SOTEAPAN', 'TAMALIN', 'TAMIAHUA',\n",
       "       'TAMPICO ALTO', 'TANCOCO', 'TANTIMA', 'TANTOYUCA', 'TATATILA',\n",
       "       'CASTILLO DE TEAYO', 'TECOLUTLA', 'TEHUIPANGO', 'ALAMO TEMAPACHE',\n",
       "       'TEMPOAL', 'TENAMPA', 'TENOCHTITLAN', 'TEOCELO', 'TEPATLAXCO',\n",
       "       'TEPETLAN', 'TEPETZINTLA', 'TEQUILA', 'JOSE AZUETA', 'TEXCATEPEC',\n",
       "       'TEXHUACAN', 'TEXISTEPEC', 'TEZONAPA', 'TIERRA BLANCA', 'TIHUATLAN',\n",
       "       'TLACOJALPAN', 'TLACOLULAN', 'TLACOTALPAN', 'TLACOTEPEC DE MEJIA',\n",
       "       'TLACHICHILCO', 'TLALIXCOYAN', 'TLALNELHUAYOCAN', 'TLAPACOYAN',\n",
       "       'TLAQUILPA', 'TLILAPAN', 'TOMATLAN', 'TONAYAN', 'TOTUTLA', 'TUXPAN',\n",
       "       'TUXTILLA', 'URSULO GALVAN', 'VEGA DE ALATORRE', 'VERACRUZ',\n",
       "       'VILLA ALDAMA', 'XOXOCOTLA', 'YANGA', 'YECUATLA', 'ZACUALPAN',\n",
       "       'ZARAGOZA', 'ZENTLA', 'ZONGOLICA',\n",
       "       'ZONTECOMATLAN DE LOPEZ Y FUENTES', 'ZOZOCOLCO DE HIDALGO',\n",
       "       'AGUA DULCE', 'EL HIGO', 'NANCHITAL DE LAZARO CARDENAS DEL RIO',\n",
       "       'TRES VALLES', 'CARLOS A. CARRILLO', 'TATAHUICAPAN DE JUAREZ',\n",
       "       'UXPANAPA', 'SAN RAFAEL', 'SANTIAGO SOCHIAPAN'], dtype=object)"
      ]
     },
     "execution_count": 275,
     "metadata": {},
     "output_type": "execute_result"
    }
   ],
   "source": [
    "df_CCEFML_copy[\"NOM_MUN\"][(df_CCEFML_copy[\"NOM_ENT\"] == estado)].unique()"
   ]
  },
  {
   "cell_type": "code",
   "execution_count": 276,
   "metadata": {},
   "outputs": [
    {
     "data": {
      "text/plain": [
       "{'ACAJETE': 1,\n",
       " 'ACATLAN': 2,\n",
       " 'ACAYUCAN': 3,\n",
       " 'ACTOPAN': 4,\n",
       " 'ACULA': 5,\n",
       " 'ACULTZINGO': 6,\n",
       " 'AGUA DULCE': 204,\n",
       " 'ALAMO TEMAPACHE': 160,\n",
       " 'ALPATLAHUAC': 8,\n",
       " 'ALTO LUCERO DE GUTIERREZ BARRIOS': 9,\n",
       " 'ALTOTONGA': 10,\n",
       " 'ALVARADO': 11,\n",
       " 'AMATITLAN': 12,\n",
       " 'AMATLAN DE LOS REYES': 14,\n",
       " 'ANGEL R. CABADA': 15,\n",
       " 'APAZAPAN': 17,\n",
       " 'AQUILA': 18,\n",
       " 'ASTACINGA': 19,\n",
       " 'ATLAHUILCO': 20,\n",
       " 'ATOYAC': 21,\n",
       " 'ATZACAN': 22,\n",
       " 'ATZALAN': 23,\n",
       " 'AYAHUALULCO': 25,\n",
       " 'BANDERILLA': 26,\n",
       " 'BENITO JUAREZ': 27,\n",
       " 'BOCA DEL RIO': 28,\n",
       " 'CALCAHUALCO': 29,\n",
       " 'CAMARON DE TEJEDA': 7,\n",
       " 'CAMERINO Z. MENDOZA': 30,\n",
       " 'CARLOS A. CARRILLO': 208,\n",
       " 'CARRILLO PUERTO': 31,\n",
       " 'CASTILLO DE TEAYO': 157,\n",
       " 'CATEMACO': 32,\n",
       " 'CAZONES DE HERRERA': 33,\n",
       " 'CERRO AZUL': 34,\n",
       " 'CHACALTIANGUIS': 54,\n",
       " 'CHALMA': 55,\n",
       " 'CHICONAMEL': 56,\n",
       " 'CHICONQUIACO': 57,\n",
       " 'CHICONTEPEC': 58,\n",
       " 'CHINAMECA': 59,\n",
       " 'CHINAMPA DE GOROSTIZA': 60,\n",
       " 'CHOCAMAN': 62,\n",
       " 'CHONTLA': 63,\n",
       " 'CHUMATLAN': 64,\n",
       " 'CITLALTEPETL': 35,\n",
       " 'COACOATZINTLA': 36,\n",
       " 'COAHUITLAN': 37,\n",
       " 'COATEPEC': 38,\n",
       " 'COATZACOALCOS': 39,\n",
       " 'COATZINTLA': 40,\n",
       " 'COETZALA': 41,\n",
       " 'COLIPA': 42,\n",
       " 'COMAPA': 43,\n",
       " 'CORDOBA': 44,\n",
       " 'COSAMALOAPAN DE CARPIO': 45,\n",
       " 'COSAUTLAN DE CARVAJAL': 46,\n",
       " 'COSCOMATEPEC': 47,\n",
       " 'COSOLEACAQUE': 48,\n",
       " 'COTAXTLA': 49,\n",
       " 'COXQUIHUI': 50,\n",
       " 'COYUTLA': 51,\n",
       " 'CUICHAPA': 52,\n",
       " 'CUITLAHUAC': 53,\n",
       " 'EL HIGO': 205,\n",
       " 'EMILIANO ZAPATA': 65,\n",
       " 'ESPINAL': 66,\n",
       " 'FILOMENO MATA': 67,\n",
       " 'FORTIN': 68,\n",
       " 'GUTIERREZ ZAMORA': 69,\n",
       " 'HIDALGOTITLAN': 70,\n",
       " 'HUATUSCO': 71,\n",
       " 'HUAYACOCOTLA': 72,\n",
       " 'HUEYAPAN DE OCAMPO': 73,\n",
       " 'HUILOAPAN DE CUAUHTEMOC': 74,\n",
       " 'IGNACIO DE LA LLAVE': 75,\n",
       " 'ILAMATLAN': 76,\n",
       " 'ISLA': 77,\n",
       " 'IXCATEPEC': 78,\n",
       " 'IXHUACAN DE LOS REYES': 79,\n",
       " 'IXHUATLAN DE MADERO': 83,\n",
       " 'IXHUATLAN DEL CAFE': 80,\n",
       " 'IXHUATLAN DEL SURESTE': 82,\n",
       " 'IXHUATLANCILLO': 81,\n",
       " 'IXMATLAHUACAN': 84,\n",
       " 'IXTACZOQUITLAN': 85,\n",
       " 'JALACINGO': 86,\n",
       " 'JALCOMULCO': 88,\n",
       " 'JALTIPAN': 89,\n",
       " 'JAMAPA': 90,\n",
       " 'JESUS CARRANZA': 91,\n",
       " 'JILOTEPEC': 93,\n",
       " 'JOSE AZUETA': 169,\n",
       " 'JUAN RODRIGUEZ CLARA': 94,\n",
       " 'JUCHIQUE DE FERRER': 95,\n",
       " 'LA ANTIGUA': 16,\n",
       " 'LA PERLA': 127,\n",
       " 'LANDERO Y COSS': 96,\n",
       " 'LAS CHOAPAS': 61,\n",
       " 'LAS MINAS': 107,\n",
       " 'LAS VIGAS DE RAMIREZ': 132,\n",
       " 'LERDO DE TEJADA': 97,\n",
       " 'LOS REYES': 137,\n",
       " 'MAGDALENA': 98,\n",
       " 'MALTRATA': 99,\n",
       " 'MANLIO FABIO ALTAMIRANO': 100,\n",
       " 'MARIANO ESCOBEDO': 101,\n",
       " 'MARTINEZ DE LA TORRE': 102,\n",
       " 'MECATLAN': 103,\n",
       " 'MECAYAPAN': 104,\n",
       " 'MEDELLIN DE BRAVO': 105,\n",
       " 'MIAHUATLAN': 106,\n",
       " 'MINATITLAN': 108,\n",
       " 'MISANTLA': 109,\n",
       " 'MIXTLA DE ALTAMIRANO': 110,\n",
       " 'MOLOACAN': 111,\n",
       " 'NANCHITAL DE LAZARO CARDENAS DEL RIO': 206,\n",
       " 'NAOLINCO': 112,\n",
       " 'NARANJAL': 113,\n",
       " 'NARANJOS AMATLAN': 13,\n",
       " 'NAUTLA': 114,\n",
       " 'NOGALES': 115,\n",
       " 'OLUTA': 116,\n",
       " 'OMEALCA': 117,\n",
       " 'ORIZABA': 118,\n",
       " 'OTATITLAN': 119,\n",
       " 'OTEAPAN': 120,\n",
       " 'OZULUAMA DE MASCAREÑAS': 121,\n",
       " 'PAJAPAN': 122,\n",
       " 'PANUCO': 123,\n",
       " 'PAPANTLA': 124,\n",
       " 'PASO DE OVEJAS': 126,\n",
       " 'PASO DEL MACHO': 125,\n",
       " 'PEROTE': 128,\n",
       " 'PLATON SANCHEZ': 129,\n",
       " 'PLAYA VICENTE': 130,\n",
       " 'POZA RICA DE HIDALGO': 131,\n",
       " 'PUEBLO VIEJO': 133,\n",
       " 'PUENTE NACIONAL': 134,\n",
       " 'RAFAEL DELGADO': 135,\n",
       " 'RAFAEL LUCIO': 136,\n",
       " 'RIO BLANCO': 138,\n",
       " 'SALTABARRANCA': 139,\n",
       " 'SAN ANDRES TENEJAPAN': 140,\n",
       " 'SAN ANDRES TUXTLA': 141,\n",
       " 'SAN JUAN EVANGELISTA': 142,\n",
       " 'SAN RAFAEL': 211,\n",
       " 'SANTIAGO SOCHIAPAN': 212,\n",
       " 'SANTIAGO TUXTLA': 143,\n",
       " 'SAYULA DE ALEMAN': 144,\n",
       " 'SOCHIAPA': 146,\n",
       " 'SOCONUSCO': 145,\n",
       " 'SOLEDAD ATZOMPA': 147,\n",
       " 'SOLEDAD DE DOBLADO': 148,\n",
       " 'SOTEAPAN': 149,\n",
       " 'TAMALIN': 150,\n",
       " 'TAMIAHUA': 151,\n",
       " 'TAMPICO ALTO': 152,\n",
       " 'TANCOCO': 153,\n",
       " 'TANTIMA': 154,\n",
       " 'TANTOYUCA': 155,\n",
       " 'TATAHUICAPAN DE JUAREZ': 209,\n",
       " 'TATATILA': 156,\n",
       " 'TECOLUTLA': 158,\n",
       " 'TEHUIPANGO': 159,\n",
       " 'TEMPOAL': 161,\n",
       " 'TENAMPA': 162,\n",
       " 'TENOCHTITLAN': 163,\n",
       " 'TEOCELO': 164,\n",
       " 'TEPATLAXCO': 165,\n",
       " 'TEPETLAN': 166,\n",
       " 'TEPETZINTLA': 167,\n",
       " 'TEQUILA': 168,\n",
       " 'TEXCATEPEC': 170,\n",
       " 'TEXHUACAN': 171,\n",
       " 'TEXISTEPEC': 172,\n",
       " 'TEZONAPA': 173,\n",
       " 'TIERRA BLANCA': 174,\n",
       " 'TIHUATLAN': 175,\n",
       " 'TLACHICHILCO': 180,\n",
       " 'TLACOJALPAN': 176,\n",
       " 'TLACOLULAN': 177,\n",
       " 'TLACOTALPAN': 178,\n",
       " 'TLACOTEPEC DE MEJIA': 179,\n",
       " 'TLALIXCOYAN': 181,\n",
       " 'TLALNELHUAYOCAN': 182,\n",
       " 'TLALTETELA': 24,\n",
       " 'TLAPACOYAN': 183,\n",
       " 'TLAQUILPA': 184,\n",
       " 'TLILAPAN': 185,\n",
       " 'TOMATLAN': 186,\n",
       " 'TONAYAN': 187,\n",
       " 'TOTUTLA': 188,\n",
       " 'TRES VALLES': 207,\n",
       " 'TUXPAN': 189,\n",
       " 'TUXTILLA': 190,\n",
       " 'URSULO GALVAN': 191,\n",
       " 'UXPANAPA': 210,\n",
       " 'VEGA DE ALATORRE': 192,\n",
       " 'VERACRUZ': 193,\n",
       " 'VILLA ALDAMA': 194,\n",
       " 'XALAPA': 87,\n",
       " 'XICO': 92,\n",
       " 'XOXOCOTLA': 195,\n",
       " 'YANGA': 196,\n",
       " 'YECUATLA': 197,\n",
       " 'ZACUALPAN': 198,\n",
       " 'ZARAGOZA': 199,\n",
       " 'ZENTLA': 200,\n",
       " 'ZONGOLICA': 201,\n",
       " 'ZONTECOMATLAN DE LOPEZ Y FUENTES': 202,\n",
       " 'ZOZOCOLCO DE HIDALGO': 203}"
      ]
     },
     "execution_count": 276,
     "metadata": {},
     "output_type": "execute_result"
    }
   ],
   "source": [
    "dict_CCEFML_VERACRUZ"
   ]
  },
  {
   "cell_type": "code",
   "execution_count": 277,
   "metadata": {},
   "outputs": [
    {
     "data": {
      "text/plain": [
       "array(['ACAYUCAN', 'ACTOPAN', 'ALTOTONGA', 'ALVARADO',\n",
       "       'AMATLAN DE LOS REYES', 'ATZALAN', 'BOCA DEL RIO',\n",
       "       'CAMERINO Z. MENDOZA', 'CATEMACO', 'COATEPEC', 'COATZACOALCOS',\n",
       "       'COATZINTLA', 'CORDOBA', 'COSAMALOAPAN DE CARPIO', 'COSCOMATEPEC',\n",
       "       'COSOLEACAQUE', 'CHICONTEPEC', 'LAS CHOAPAS', 'EMILIANO ZAPATA',\n",
       "       'FORTIN', 'HUATUSCO', 'HUEYAPAN DE OCAMPO', 'ISLA',\n",
       "       'IXHUATLAN DE MADERO', 'IXTACZOQUITLAN', 'JALACINGO', 'XALAPA',\n",
       "       'MARTINEZ DE LA TORRE', 'MEDELLIN DE BRAVO', 'MINATITLAN',\n",
       "       'MISANTLA', 'ORIZABA', 'PANUCO', 'PAPANTLA', 'PEROTE',\n",
       "       'PLAYA VICENTE', 'POZA RICA DE HIDALGO', 'PUEBLO VIEJO',\n",
       "       'RIO BLANCO', 'SAN ANDRES TUXTLA', 'SANTIAGO TUXTLA', 'TANTOYUCA',\n",
       "       'ALAMO TEMAPACHE', 'TEZONAPA', 'TIERRA BLANCA', 'TIHUATLAN',\n",
       "       'TLAPACOYAN', 'TUXPAN', 'VERACRUZ', 'ZONGOLICA', 'AGUA DULCE',\n",
       "       'TRES VALLES', 'ACAJETE', 'ACATLAN', 'ACULA', 'ACULTZINGO',\n",
       "       'ALPATLAHUAC', 'ALTO LUCERO DE GUTIERREZ BARRIOS', 'AMATITLAN',\n",
       "       'ANGEL R. CABADA', 'APAZAPAN', 'AQUILA', 'ASTACINGA', 'ATLAHUILCO',\n",
       "       'ATOYAC', 'ATZACAN', 'AYAHUALULCO', 'BANDERILLA', 'BENITO JUAREZ',\n",
       "       'CALCAHUALCO', 'CAMARON DE TEJEDA', 'CARLOS A. CARRILLO',\n",
       "       'CARRILLO PUERTO', 'CASTILLO DE TEAYO', 'CAZONES DE HERRERA',\n",
       "       'CERRO AZUL', 'CHACALTIANGUIS', 'CHALMA', 'CHICONAMEL',\n",
       "       'CHICONQUIACO', 'CHINAMECA', 'CHINAMPA DE GOROSTIZA', 'CHOCAMAN',\n",
       "       'CHONTLA', 'CHUMATLAN', 'CITLALTEPETL', 'COACOATZINTLA',\n",
       "       'COAHUITLAN', 'COETZALA', 'COLIPA', 'COMAPA',\n",
       "       'COSAUTLAN DE CARVAJAL', 'COTAXTLA', 'COXQUIHUI', 'COYUTLA',\n",
       "       'CUICHAPA', 'CUITLAHUAC', 'EL HIGO', 'ESPINAL', 'FILOMENO MATA',\n",
       "       'GUTIERREZ ZAMORA', 'HIDALGOTITLAN', 'HUAYACOCOTLA',\n",
       "       'HUILOAPAN DE CUAUHTEMOC', 'IGNACIO DE LA LLAVE', 'ILAMATLAN',\n",
       "       'IXCATEPEC', 'IXHUACAN DE LOS REYES', 'IXHUATLANCILLO',\n",
       "       'IXHUATLAN DEL CAFE', 'IXHUATLAN DEL SURESTE', 'IXMATLAHUACAN',\n",
       "       'JALCOMULCO', 'JAMAPA', 'JESUS CARRANZA', 'JILOTEPEC',\n",
       "       'JOSE AZUETA', 'JUAN RODRIGUEZ CLARA', 'JUCHIQUE DE FERRER',\n",
       "       'JALTIPAN', 'LA ANTIGUA', 'LA PERLA', 'LANDERO Y COSS', 'LAS MINAS',\n",
       "       'LAS VIGAS DE RAMIREZ', 'LERDO DE TEJADA', 'LOS REYES', 'MAGDALENA',\n",
       "       'MALTRATA', 'MANLIO FABIO ALTAMIRANO', 'MARIANO ESCOBEDO',\n",
       "       'MECATLAN', 'MECAYAPAN', 'MIAHUATLAN', 'MIXTLA DE ALTAMIRANO',\n",
       "       'MOLOACAN', 'NANCHITAL DE LAZARO CARDENAS DEL RIO', 'NAOLINCO',\n",
       "       'NARANJAL', 'NARANJOS AMATLAN', 'NAUTLA', 'NOGALES', 'OLUTA',\n",
       "       'OMEALCA', 'OTATITLAN', 'OTEAPAN', 'OZULUAMA DE MASCAREÑAS',\n",
       "       'PAJAPAN', 'PASO DE OVEJAS', 'PASO DEL MACHO', 'PLATON SANCHEZ',\n",
       "       'PUENTE NACIONAL', 'RAFAEL DELGADO', 'RAFAEL LUCIO',\n",
       "       'SALTABARRANCA', 'SAN ANDRES TENEJAPAN', 'SAN JUAN EVANGELISTA',\n",
       "       'SAN RAFAEL', 'SANTIAGO SOCHIAPAN', 'SAYULA DE ALEMAN', 'SOCHIAPA',\n",
       "       'SOCONUSCO', 'SOLEDAD ATZOMPA', 'SOLEDAD DE DOBLADO', 'SOTEAPAN',\n",
       "       'TAMALIN', 'TAMIAHUA', 'TAMPICO ALTO', 'TANCOCO', 'TANTIMA',\n",
       "       'TATAHUICAPAN DE JUAREZ', 'TATATILA', 'TECOLUTLA', 'TEHUIPANGO',\n",
       "       'TEMPOAL', 'TENAMPA', 'TENOCHTITLAN', 'TEOCELO', 'TEPATLAXCO',\n",
       "       'TEPETLAN', 'TEPETZINTLA', 'TEQUILA', 'TEXCATEPEC', 'TEXHUACAN',\n",
       "       'TEXISTEPEC', 'TLACHICHILCO', 'TLACOJALPAN', 'TLACOLULAN',\n",
       "       'TLACOTALPAN', 'TLACOTEPEC DE MEJIA', 'TLALIXCOYAN',\n",
       "       'TLALNELHUAYOCAN', 'TLALTETELA', 'TLAQUILPA', 'TLILAPAN',\n",
       "       'TOMATLAN', 'TONAYAN', 'TOTUTLA', 'TUXTILLA', 'URSULO GALVAN',\n",
       "       'UXPANAPA', 'VEGA DE ALATORRE', 'VILLA ALDAMA', 'XICO', 'XOXOCOTLA',\n",
       "       'YANGA', 'YECUATLA', 'ZACUALPAN', 'ZARAGOZA', 'ZENTLA',\n",
       "       'ZONTECOMATLAN DE LOPEZ Y FUENTES', 'ZOZOCOLCO DE HIDALGO'], dtype=object)"
      ]
     },
     "execution_count": 277,
     "metadata": {},
     "output_type": "execute_result"
    }
   ],
   "source": [
    "df_copy['MUNICIPIO'][(df_copy['ENTIDAD'] == estado)] = df_copy['MUNICIPIO'][(df_copy['ENTIDAD'] == estado)].replace({'MEDELLIN' : 'MEDELLIN DE BRAVO'})\n",
    "df_copy['CVE_MUN'][(df_copy['ENTIDAD'] == estado)] = df_copy['CVE_MUN'][(df_copy['ENTIDAD'] == estado)].replace({'MEDELLIN' : 'MEDELLIN DE BRAVO'})\n",
    "\n",
    "df_copy['MUNICIPIO'][(df_copy['ENTIDAD'] == estado)].unique()"
   ]
  },
  {
   "cell_type": "code",
   "execution_count": 278,
   "metadata": {},
   "outputs": [
    {
     "data": {
      "text/plain": [
       "array([3.0, 4.0, 10.0, 11.0, 14.0, 23.0, 28.0, 30.0, 32.0, 38.0, 39.0,\n",
       "       40.0, 44.0, 45.0, 47.0, 48.0, 58.0, 61.0, 65.0, 68.0, 71.0, 73.0,\n",
       "       77.0, 83.0, 85.0, 86.0, 87.0, 102.0, 105.0, 108.0, 109.0, 118.0,\n",
       "       123.0, 124.0, 128.0, 130.0, 131.0, 133.0, 138.0, 141.0, 143.0,\n",
       "       155.0, 160.0, 173.0, 174.0, 175.0, 183.0, 189.0, 193.0, 201.0,\n",
       "       204.0, 207.0, 1.0, 2.0, 5.0, 6.0, 8.0, 9.0, 12.0, 15.0, 17.0, 18.0,\n",
       "       19.0, 20.0, 21.0, 22.0, 25.0, 26.0, 27.0, 29.0, 7.0, 208.0, 31.0,\n",
       "       157.0, 33.0, 34.0, 54.0, 55.0, 56.0, 57.0, 59.0, 60.0, 62.0, 63.0,\n",
       "       64.0, 35.0, 36.0, 37.0, 41.0, 42.0, 43.0, 46.0, 49.0, 50.0, 51.0,\n",
       "       52.0, 53.0, 205.0, 66.0, 67.0, 69.0, 70.0, 72.0, 74.0, 75.0, 76.0,\n",
       "       78.0, 79.0, 81.0, 80.0, 82.0, 84.0, 88.0, 90.0, 91.0, 93.0, 169.0,\n",
       "       94.0, 95.0, 89.0, 16.0, 127.0, 96.0, 107.0, 132.0, 97.0, 137.0,\n",
       "       98.0, 99.0, 100.0, 101.0, 103.0, 104.0, 106.0, 110.0, 111.0, 206.0,\n",
       "       112.0, 113.0, 13.0, 114.0, 115.0, 116.0, 117.0, 119.0, 120.0, 121.0,\n",
       "       122.0, 126.0, 125.0, 129.0, 134.0, 135.0, 136.0, 139.0, 140.0,\n",
       "       142.0, 211.0, 212.0, 144.0, 146.0, 145.0, 147.0, 148.0, 149.0,\n",
       "       150.0, 151.0, 152.0, 153.0, 154.0, 209.0, 156.0, 158.0, 159.0,\n",
       "       161.0, 162.0, 163.0, 164.0, 165.0, 166.0, 167.0, 168.0, 170.0,\n",
       "       171.0, 172.0, 180.0, 176.0, 177.0, 178.0, 179.0, 181.0, 182.0, 24.0,\n",
       "       184.0, 185.0, 186.0, 187.0, 188.0, 190.0, 191.0, 210.0, 192.0,\n",
       "       194.0, 92.0, 195.0, 196.0, 197.0, 198.0, 199.0, 200.0, 202.0, 203.0], dtype=object)"
      ]
     },
     "execution_count": 278,
     "metadata": {},
     "output_type": "execute_result"
    }
   ],
   "source": [
    "df_copy['CVE_MUN'][(df_copy['ENTIDAD'] == estado)] = df_copy['CVE_MUN'][(df_copy['ENTIDAD'] == estado)].replace(dict_CCEFML_VERACRUZ)\n",
    "df_copy['CVE_MUN'][(df_copy['ENTIDAD'] == estado)] = df_copy['CVE_MUN'][(df_copy['ENTIDAD'] == estado)].astype('int64')\n",
    "\n",
    "df_copy['CVE_MUN'][(df_copy['ENTIDAD'] == estado)].unique()"
   ]
  },
  {
   "cell_type": "markdown",
   "metadata": {},
   "source": [
    "### YUCATAN"
   ]
  },
  {
   "cell_type": "code",
   "execution_count": 279,
   "metadata": {},
   "outputs": [],
   "source": [
    "estado = \"YUCATAN\""
   ]
  },
  {
   "cell_type": "code",
   "execution_count": 280,
   "metadata": {},
   "outputs": [
    {
     "data": {
      "text/plain": [
       "array(['HUNUCMA', 'IZAMAL', 'MAXCANU', 'MERIDA', 'MOTUL', 'PROGRESO',\n",
       "       'TEKAX', 'TICUL', 'TIZIMIN', 'UMAN', 'VALLADOLID', 'KANASIN',\n",
       "       'ABALA', 'ACANCEH', 'AKIL', 'BACA', 'BOKOBA', 'BUCTZOTZ',\n",
       "       'CACALCHEN', 'CALOTMUL', 'CANSAHCAB', 'CANTAMAYEC', 'CELESTUN',\n",
       "       'CENOTILLO', 'CONKAL', 'CUNCUNUL', 'CUZAMA', 'CHACSINKIN',\n",
       "       'CHANKOM', 'CHAPAB', 'CHEMAX', 'CHICXULUB PUEBLO', 'CHICHIMILA',\n",
       "       'CHIKINDZONOT', 'CHOCHOLA', 'CHUMAYEL', 'DZAN', 'DZEMUL',\n",
       "       'DZIDZANTUN', 'DZILAM DE BRAVO', 'DZILAM GONZALEZ', 'DZITAS',\n",
       "       'DZONCAUICH', 'ESPITA', 'HALACHO', 'HOCABA', 'HOCTUN', 'HOMUN',\n",
       "       'HUHI', 'IXIL', 'KANTUNIL', 'KAUA', 'KINCHIL', 'KOPOMA', 'MAMA',\n",
       "       'MANI', 'MAYAPAN', 'MOCOCHA', 'MUNA', 'MUXUPIP', 'OPICHEN',\n",
       "       'OXKUTZCAB', 'PANABA', 'PETO', 'QUINTANA ROO', 'RIO LAGARTOS',\n",
       "       'SACALUM', 'SAMAHIL', 'SANAHCAT', 'SAN FELIPE', 'SANTA ELENA',\n",
       "       'SEYE', 'SINANCHE', 'SOTUTA', 'SUCILA', 'SUDZAL', 'SUMA', 'TAHDZIU',\n",
       "       'TAHMEK', 'TEABO', 'TECOH', 'TEKAL DE VENEGAS', 'TEKANTO', 'TEKIT',\n",
       "       'TEKOM', 'TELCHAC PUEBLO', 'TELCHAC PUERTO', 'TEMAX', 'TEMOZON',\n",
       "       'TEPAKAN', 'TETIZ', 'TEYA', 'TIMUCUY', 'TINUM', 'TIXCACALCUPUL',\n",
       "       'TIXKOKOB', 'TIXMEHUAC', 'TIXPEHUAL', 'TUNKAS', 'TZUCACAB', 'UAYMA',\n",
       "       'UCU', 'XOCCHEL', 'YAXCABA', 'YAXKUKUL', 'YOBAIN'], dtype=object)"
      ]
     },
     "execution_count": 280,
     "metadata": {},
     "output_type": "execute_result"
    }
   ],
   "source": [
    "df_copy[\"MUNICIPIO\"][(df_copy.ENTIDAD == estado)].unique()"
   ]
  },
  {
   "cell_type": "code",
   "execution_count": 281,
   "metadata": {},
   "outputs": [
    {
     "data": {
      "text/plain": [
       "array(['ABALA', 'ACANCEH', 'AKIL', 'BACA', 'BOKOBA', 'BUCTZOTZ',\n",
       "       'CACALCHEN', 'CALOTMUL', 'CANSAHCAB', 'CANTAMAYEC', 'CELESTUN',\n",
       "       'CENOTILLO', 'CONKAL', 'CUNCUNUL', 'CUZAMA', 'CHACSINKIN',\n",
       "       'CHANKOM', 'CHAPAB', 'CHEMAX', 'CHICXULUB PUEBLO', 'CHICHIMILA',\n",
       "       'CHIKINDZONOT', 'CHOCHOLA', 'CHUMAYEL', 'DZAN', 'DZEMUL',\n",
       "       'DZIDZANTUN', 'DZILAM DE BRAVO', 'DZILAM GONZALEZ', 'DZITAS',\n",
       "       'DZONCAUICH', 'ESPITA', 'HALACHO', 'HOCABA', 'HOCTUN', 'HOMUN',\n",
       "       'HUHI', 'HUNUCMA', 'IXIL', 'IZAMAL', 'KANASIN', 'KANTUNIL', 'KAUA',\n",
       "       'KINCHIL', 'KOPOMA', 'MAMA', 'MANI', 'MAXCANU', 'MAYAPAN', 'MERIDA',\n",
       "       'MOCOCHA', 'MOTUL', 'MUNA', 'MUXUPIP', 'OPICHEN', 'OXKUTZCAB',\n",
       "       'PANABA', 'PETO', 'PROGRESO', 'QUINTANA ROO', 'RIO LAGARTOS',\n",
       "       'SACALUM', 'SAMAHIL', 'SANAHCAT', 'SAN FELIPE', 'SANTA ELENA',\n",
       "       'SEYE', 'SINANCHE', 'SOTUTA', 'SUCILA', 'SUDZAL', 'SUMA', 'TAHDZIU',\n",
       "       'TAHMEK', 'TEABO', 'TECOH', 'TEKAL DE VENEGAS', 'TEKANTO', 'TEKAX',\n",
       "       'TEKIT', 'TEKOM', 'TELCHAC PUEBLO', 'TELCHAC PUERTO', 'TEMAX',\n",
       "       'TEMOZON', 'TEPAKAN', 'TETIZ', 'TEYA', 'TICUL', 'TIMUCUY', 'TINUM',\n",
       "       'TIXCACALCUPUL', 'TIXKOKOB', 'TIXMEHUAC', 'TIXPEHUAL', 'TIZIMIN',\n",
       "       'TUNKAS', 'TZUCACAB', 'UAYMA', 'UCU', 'UMAN', 'VALLADOLID',\n",
       "       'XOCCHEL', 'YAXCABA', 'YAXKUKUL', 'YOBAIN'], dtype=object)"
      ]
     },
     "execution_count": 281,
     "metadata": {},
     "output_type": "execute_result"
    }
   ],
   "source": [
    "df_CCEFML_copy[\"NOM_MUN\"][(df_CCEFML_copy[\"NOM_ENT\"] == estado)].unique()"
   ]
  },
  {
   "cell_type": "code",
   "execution_count": 282,
   "metadata": {},
   "outputs": [
    {
     "data": {
      "text/plain": [
       "{'ABALA': 1,\n",
       " 'ACANCEH': 2,\n",
       " 'AKIL': 3,\n",
       " 'BACA': 4,\n",
       " 'BOKOBA': 5,\n",
       " 'BUCTZOTZ': 6,\n",
       " 'CACALCHEN': 7,\n",
       " 'CALOTMUL': 8,\n",
       " 'CANSAHCAB': 9,\n",
       " 'CANTAMAYEC': 10,\n",
       " 'CELESTUN': 11,\n",
       " 'CENOTILLO': 12,\n",
       " 'CHACSINKIN': 16,\n",
       " 'CHANKOM': 17,\n",
       " 'CHAPAB': 18,\n",
       " 'CHEMAX': 19,\n",
       " 'CHICHIMILA': 21,\n",
       " 'CHICXULUB PUEBLO': 20,\n",
       " 'CHIKINDZONOT': 22,\n",
       " 'CHOCHOLA': 23,\n",
       " 'CHUMAYEL': 24,\n",
       " 'CONKAL': 13,\n",
       " 'CUNCUNUL': 14,\n",
       " 'CUZAMA': 15,\n",
       " 'DZAN': 25,\n",
       " 'DZEMUL': 26,\n",
       " 'DZIDZANTUN': 27,\n",
       " 'DZILAM DE BRAVO': 28,\n",
       " 'DZILAM GONZALEZ': 29,\n",
       " 'DZITAS': 30,\n",
       " 'DZONCAUICH': 31,\n",
       " 'ESPITA': 32,\n",
       " 'HALACHO': 33,\n",
       " 'HOCABA': 34,\n",
       " 'HOCTUN': 35,\n",
       " 'HOMUN': 36,\n",
       " 'HUHI': 37,\n",
       " 'HUNUCMA': 38,\n",
       " 'IXIL': 39,\n",
       " 'IZAMAL': 40,\n",
       " 'KANASIN': 41,\n",
       " 'KANTUNIL': 42,\n",
       " 'KAUA': 43,\n",
       " 'KINCHIL': 44,\n",
       " 'KOPOMA': 45,\n",
       " 'MAMA': 46,\n",
       " 'MANI': 47,\n",
       " 'MAXCANU': 48,\n",
       " 'MAYAPAN': 49,\n",
       " 'MERIDA': 50,\n",
       " 'MOCOCHA': 51,\n",
       " 'MOTUL': 52,\n",
       " 'MUNA': 53,\n",
       " 'MUXUPIP': 54,\n",
       " 'OPICHEN': 55,\n",
       " 'OXKUTZCAB': 56,\n",
       " 'PANABA': 57,\n",
       " 'PETO': 58,\n",
       " 'PROGRESO': 59,\n",
       " 'QUINTANA ROO': 60,\n",
       " 'RIO LAGARTOS': 61,\n",
       " 'SACALUM': 62,\n",
       " 'SAMAHIL': 63,\n",
       " 'SAN FELIPE': 65,\n",
       " 'SANAHCAT': 64,\n",
       " 'SANTA ELENA': 66,\n",
       " 'SEYE': 67,\n",
       " 'SINANCHE': 68,\n",
       " 'SOTUTA': 69,\n",
       " 'SUCILA': 70,\n",
       " 'SUDZAL': 71,\n",
       " 'SUMA': 72,\n",
       " 'TAHDZIU': 73,\n",
       " 'TAHMEK': 74,\n",
       " 'TEABO': 75,\n",
       " 'TECOH': 76,\n",
       " 'TEKAL DE VENEGAS': 77,\n",
       " 'TEKANTO': 78,\n",
       " 'TEKAX': 79,\n",
       " 'TEKIT': 80,\n",
       " 'TEKOM': 81,\n",
       " 'TELCHAC PUEBLO': 82,\n",
       " 'TELCHAC PUERTO': 83,\n",
       " 'TEMAX': 84,\n",
       " 'TEMOZON': 85,\n",
       " 'TEPAKAN': 86,\n",
       " 'TETIZ': 87,\n",
       " 'TEYA': 88,\n",
       " 'TICUL': 89,\n",
       " 'TIMUCUY': 90,\n",
       " 'TINUM': 91,\n",
       " 'TIXCACALCUPUL': 92,\n",
       " 'TIXKOKOB': 93,\n",
       " 'TIXMEHUAC': 94,\n",
       " 'TIXPEHUAL': 95,\n",
       " 'TIZIMIN': 96,\n",
       " 'TUNKAS': 97,\n",
       " 'TZUCACAB': 98,\n",
       " 'UAYMA': 99,\n",
       " 'UCU': 100,\n",
       " 'UMAN': 101,\n",
       " 'VALLADOLID': 102,\n",
       " 'XOCCHEL': 103,\n",
       " 'YAXCABA': 104,\n",
       " 'YAXKUKUL': 105,\n",
       " 'YOBAIN': 106}"
      ]
     },
     "execution_count": 282,
     "metadata": {},
     "output_type": "execute_result"
    }
   ],
   "source": [
    "dict_CCEFML_YUCATAN"
   ]
  },
  {
   "cell_type": "code",
   "execution_count": 283,
   "metadata": {},
   "outputs": [
    {
     "data": {
      "text/plain": [
       "array([38.0, 40.0, 48.0, 50.0, 52.0, 59.0, 79.0, 89.0, 96.0, 101.0, 102.0,\n",
       "       41.0, 1.0, 2.0, 3.0, 4.0, 5.0, 6.0, 7.0, 8.0, 9.0, 10.0, 11.0, 12.0,\n",
       "       13.0, 14.0, 15.0, 16.0, 17.0, 18.0, 19.0, 20.0, 21.0, 22.0, 23.0,\n",
       "       24.0, 25.0, 26.0, 27.0, 28.0, 29.0, 30.0, 31.0, 32.0, 33.0, 34.0,\n",
       "       35.0, 36.0, 37.0, 39.0, 42.0, 43.0, 44.0, 45.0, 46.0, 47.0, 49.0,\n",
       "       51.0, 53.0, 54.0, 55.0, 56.0, 57.0, 58.0, 60.0, 61.0, 62.0, 63.0,\n",
       "       64.0, 65.0, 66.0, 67.0, 68.0, 69.0, 70.0, 71.0, 72.0, 73.0, 74.0,\n",
       "       75.0, 76.0, 77.0, 78.0, 80.0, 81.0, 82.0, 83.0, 84.0, 85.0, 86.0,\n",
       "       87.0, 88.0, 90.0, 91.0, 92.0, 93.0, 94.0, 95.0, 97.0, 98.0, 99.0,\n",
       "       100.0, 103.0, 104.0, 105.0, 106.0], dtype=object)"
      ]
     },
     "execution_count": 283,
     "metadata": {},
     "output_type": "execute_result"
    }
   ],
   "source": [
    "df_copy['CVE_MUN'][(df_copy['ENTIDAD'] == estado)] = df_copy['CVE_MUN'][(df_copy['ENTIDAD'] == estado)].replace(dict_CCEFML_YUCATAN)\n",
    "df_copy['CVE_MUN'][(df_copy['ENTIDAD'] == estado)] = df_copy['CVE_MUN'][(df_copy['ENTIDAD'] == estado)].astype('int64')\n",
    "\n",
    "df_copy['CVE_MUN'][(df_copy['ENTIDAD'] == estado)].unique()"
   ]
  },
  {
   "cell_type": "markdown",
   "metadata": {},
   "source": [
    "### ZACATECAS"
   ]
  },
  {
   "cell_type": "code",
   "execution_count": 284,
   "metadata": {},
   "outputs": [],
   "source": [
    "estado = \"ZACATECAS\""
   ]
  },
  {
   "cell_type": "code",
   "execution_count": 285,
   "metadata": {},
   "outputs": [
    {
     "data": {
      "text/plain": [
       "array(['CALERA', 'CONCEPCION DEL ORO', 'FRESNILLO', 'JALPA', 'JEREZ',\n",
       "       'JUCHIPILA', 'LORETO', 'MIGUEL AUZA', 'NOCHISTLAN DE MEJIA',\n",
       "       'OJOCALIENTE', 'PINOS', 'RIO GRANDE', 'SOMBRERETE',\n",
       "       'TEUL DE GONZALEZ ORTEGA', 'TLALTENANGO DE SANCHEZ ROMAN',\n",
       "       'VALPARAISO', 'VILLANUEVA', 'ZACATECAS', 'APULCO', 'APOZOL',\n",
       "       'ATOLINGA', 'BENITO JUAREZ', 'CAÑITAS DE FELIPE PESCADOR',\n",
       "       'CUAUHTEMOC', 'CHALCHIHUITES', 'TRINIDAD GARCIA DE LA CADENA',\n",
       "       'GENARO CODINA', 'GENERAL ENRIQUE ESTRADA',\n",
       "       'GENERAL FRANCISCO R. MURGUIA', 'EL PLATEADO DE JOAQUIN AMARO',\n",
       "       'GENERAL PANFILO NATERA', 'GUADALUPE', 'HUANUSCO',\n",
       "       'JIMENEZ DEL TEUL', 'JUAN ALDAMA', 'LUIS MOYA', 'MAZAPIL',\n",
       "       'MELCHOR OCAMPO', 'MEZQUITAL DEL ORO', 'MOMAX', 'MONTE ESCOBEDO',\n",
       "       'MORELOS', 'MOYAHUA DE ESTRADA', 'NORIA DE ANGELES', 'PANUCO',\n",
       "       'SAIN ALTO', 'EL SALVADOR', 'SUSTICACAN', 'TABASCO', 'TEPECHITLAN',\n",
       "       'TEPETONGO', 'VETAGRANDE', 'VILLA DE COS', 'VILLA GARCIA',\n",
       "       'VILLA GONZALEZ ORTEGA', 'VILLA HIDALGO', 'TRANCOSO',\n",
       "       'SANTA MARIA DE LA PAZ'], dtype=object)"
      ]
     },
     "execution_count": 285,
     "metadata": {},
     "output_type": "execute_result"
    }
   ],
   "source": [
    "df_copy[\"MUNICIPIO\"][(df_copy.ENTIDAD == estado)].unique()"
   ]
  },
  {
   "cell_type": "code",
   "execution_count": 286,
   "metadata": {},
   "outputs": [
    {
     "data": {
      "text/plain": [
       "array(['APOZOL', 'APULCO', 'ATOLINGA', 'BENITO JUAREZ', 'CALERA',\n",
       "       'CAÑITAS DE FELIPE PESCADOR', 'CONCEPCION DEL ORO', 'CUAUHTEMOC',\n",
       "       'CHALCHIHUITES', 'FRESNILLO', 'TRINIDAD GARCIA DE LA CADENA',\n",
       "       'GENARO CODINA', 'GENERAL ENRIQUE ESTRADA',\n",
       "       'GENERAL FRANCISCO R. MURGUIA', 'EL PLATEADO DE JOAQUIN AMARO',\n",
       "       'GENERAL PANFILO NATERA', 'GUADALUPE', 'HUANUSCO', 'JALPA', 'JEREZ',\n",
       "       'JIMENEZ DEL TEUL', 'JUAN ALDAMA', 'JUCHIPILA', 'LORETO',\n",
       "       'LUIS MOYA', 'MAZAPIL', 'MELCHOR OCAMPO', 'MEZQUITAL DEL ORO',\n",
       "       'MIGUEL AUZA', 'MOMAX', 'MONTE ESCOBEDO', 'MORELOS',\n",
       "       'MOYAHUA DE ESTRADA', 'NOCHISTLAN DE MEJIA', 'NORIA DE ANGELES',\n",
       "       'OJOCALIENTE', 'PANUCO', 'PINOS', 'RIO GRANDE', 'SAIN ALTO',\n",
       "       'EL SALVADOR', 'SOMBRERETE', 'SUSTICACAN', 'TABASCO', 'TEPECHITLAN',\n",
       "       'TEPETONGO', 'TEUL DE GONZALEZ ORTEGA',\n",
       "       'TLALTENANGO DE SANCHEZ ROMAN', 'VALPARAISO', 'VETAGRANDE',\n",
       "       'VILLA DE COS', 'VILLA GARCIA', 'VILLA GONZALEZ ORTEGA',\n",
       "       'VILLA HIDALGO', 'VILLANUEVA', 'ZACATECAS', 'TRANCOSO',\n",
       "       'SANTA MARIA DE LA PAZ'], dtype=object)"
      ]
     },
     "execution_count": 286,
     "metadata": {},
     "output_type": "execute_result"
    }
   ],
   "source": [
    "df_CCEFML_copy[\"NOM_MUN\"][(df_CCEFML_copy[\"NOM_ENT\"] == estado)].unique()"
   ]
  },
  {
   "cell_type": "code",
   "execution_count": 287,
   "metadata": {},
   "outputs": [
    {
     "data": {
      "text/plain": [
       "{'APOZOL': 1,\n",
       " 'APULCO': 2,\n",
       " 'ATOLINGA': 3,\n",
       " 'BENITO JUAREZ': 4,\n",
       " 'CALERA': 5,\n",
       " 'CAÑITAS DE FELIPE PESCADOR': 6,\n",
       " 'CHALCHIHUITES': 9,\n",
       " 'CONCEPCION DEL ORO': 7,\n",
       " 'CUAUHTEMOC': 8,\n",
       " 'EL PLATEADO DE JOAQUIN AMARO': 15,\n",
       " 'EL SALVADOR': 41,\n",
       " 'FRESNILLO': 10,\n",
       " 'GENARO CODINA': 12,\n",
       " 'GENERAL ENRIQUE ESTRADA': 13,\n",
       " 'GENERAL FRANCISCO R. MURGUIA': 14,\n",
       " 'GENERAL PANFILO NATERA': 16,\n",
       " 'GUADALUPE': 17,\n",
       " 'HUANUSCO': 18,\n",
       " 'JALPA': 19,\n",
       " 'JEREZ': 20,\n",
       " 'JIMENEZ DEL TEUL': 21,\n",
       " 'JUAN ALDAMA': 22,\n",
       " 'JUCHIPILA': 23,\n",
       " 'LORETO': 24,\n",
       " 'LUIS MOYA': 25,\n",
       " 'MAZAPIL': 26,\n",
       " 'MELCHOR OCAMPO': 27,\n",
       " 'MEZQUITAL DEL ORO': 28,\n",
       " 'MIGUEL AUZA': 29,\n",
       " 'MOMAX': 30,\n",
       " 'MONTE ESCOBEDO': 31,\n",
       " 'MORELOS': 32,\n",
       " 'MOYAHUA DE ESTRADA': 33,\n",
       " 'NOCHISTLAN DE MEJIA': 34,\n",
       " 'NORIA DE ANGELES': 35,\n",
       " 'OJOCALIENTE': 36,\n",
       " 'PANUCO': 37,\n",
       " 'PINOS': 38,\n",
       " 'RIO GRANDE': 39,\n",
       " 'SAIN ALTO': 40,\n",
       " 'SANTA MARIA DE LA PAZ': 58,\n",
       " 'SOMBRERETE': 42,\n",
       " 'SUSTICACAN': 43,\n",
       " 'TABASCO': 44,\n",
       " 'TEPECHITLAN': 45,\n",
       " 'TEPETONGO': 46,\n",
       " 'TEUL DE GONZALEZ ORTEGA': 47,\n",
       " 'TLALTENANGO DE SANCHEZ ROMAN': 48,\n",
       " 'TRANCOSO': 57,\n",
       " 'TRINIDAD GARCIA DE LA CADENA': 11,\n",
       " 'VALPARAISO': 49,\n",
       " 'VETAGRANDE': 50,\n",
       " 'VILLA DE COS': 51,\n",
       " 'VILLA GARCIA': 52,\n",
       " 'VILLA GONZALEZ ORTEGA': 53,\n",
       " 'VILLA HIDALGO': 54,\n",
       " 'VILLANUEVA': 55,\n",
       " 'ZACATECAS': 56}"
      ]
     },
     "execution_count": 287,
     "metadata": {},
     "output_type": "execute_result"
    }
   ],
   "source": [
    "dict_CCEFML_ZACATECAS"
   ]
  },
  {
   "cell_type": "code",
   "execution_count": 288,
   "metadata": {},
   "outputs": [
    {
     "data": {
      "text/plain": [
       "array([5.0, 7.0, 10.0, 19.0, 20.0, 23.0, 24.0, 29.0, 34.0, 36.0, 38.0,\n",
       "       39.0, 42.0, 47.0, 48.0, 49.0, 55.0, 56.0, 2.0, 1.0, 3.0, 4.0, 6.0,\n",
       "       8.0, 9.0, 11.0, 12.0, 13.0, 14.0, 15.0, 16.0, 17.0, 18.0, 21.0,\n",
       "       22.0, 25.0, 26.0, 27.0, 28.0, 30.0, 31.0, 32.0, 33.0, 35.0, 37.0,\n",
       "       40.0, 41.0, 43.0, 44.0, 45.0, 46.0, 50.0, 51.0, 52.0, 53.0, 54.0,\n",
       "       57.0, 58.0], dtype=object)"
      ]
     },
     "execution_count": 288,
     "metadata": {},
     "output_type": "execute_result"
    }
   ],
   "source": [
    "df_copy['CVE_MUN'][(df_copy['ENTIDAD'] == estado)] = df_copy['CVE_MUN'][(df_copy['ENTIDAD'] == estado)].replace(dict_CCEFML_ZACATECAS)\n",
    "df_copy['CVE_MUN'][(df_copy['ENTIDAD'] == estado)] = df_copy['CVE_MUN'][(df_copy['ENTIDAD'] == estado)].astype('int64')\n",
    "\n",
    "df_copy['CVE_MUN'][(df_copy['ENTIDAD'] == estado)].unique()"
   ]
  },
  {
   "cell_type": "code",
   "execution_count": 289,
   "metadata": {},
   "outputs": [
    {
     "data": {
      "text/plain": [
       "array([  1,   2,   3,   4,   5,   6,   7,   8,   9,  10,  11,  17,  18,\n",
       "        20,  23,  24,  25,  27,  28,  30,  31,  32,  33,  35,  38,  12,\n",
       "        13,  14,  15,  16,  19,  21,  22,  26,  29,  34,  36,  37,  39,\n",
       "        40,  41,  42,  43,  44,  45,  46,  47,  48,  49,  50,  51,  52,\n",
       "        53,  54,  55,  56,  57,  58,  59,  60,  61,  62,  63,  64,  65,\n",
       "        66,  67,  68,  69,  70,  71,  72,  73,  74,  75,  76,  77,  78,\n",
       "        79,  80,  81,  82,  83,  84,  85,  86,  87,  88,  89,  90,  91,\n",
       "        92,  93,  94,  96,  97,  98,  99, 100, 101, 102, 103, 104, 105,\n",
       "       106, 107, 108, 109, 110, 111, 112, 113, 114, 115, 116, 117, 118,\n",
       "       119, 120,  95, 121, 122, 123, 124, 125, 184, 126, 127, 128, 129,\n",
       "       130, 131, 132, 133, 134, 135, 136, 137, 138, 139, 140, 141, 142,\n",
       "       143, 144, 145, 146, 147, 148, 149, 150, 151, 152, 153, 154, 155,\n",
       "       156, 157, 158, 159, 160, 161, 162, 163, 164, 165, 166, 167, 168,\n",
       "       169, 170, 171, 172, 173, 174, 175, 176, 177, 178, 179, 180, 181,\n",
       "       182, 183, 185, 186, 187, 188, 189, 190, 191, 192, 193, 194, 195,\n",
       "       196, 197, 198, 199, 200, 201, 202, 203, 204, 205, 206, 207, 208,\n",
       "       209, 210, 211, 212, 213, 214, 215, 216, 217, 324, 338, 385, 390,\n",
       "       551, 318, 398, 397, 556, 562, 504, 550, 559, 218, 219, 220, 221,\n",
       "       222, 224, 225, 226, 227, 229, 230, 231, 232, 233, 234, 235, 237,\n",
       "       236, 238, 239, 240, 241, 242, 243, 244, 245, 248, 250, 251, 252,\n",
       "       253, 254, 256, 255, 249, 566, 258, 259, 260, 261, 262, 264, 265,\n",
       "       263, 266, 268, 269, 270, 271, 272, 273, 275, 276, 278, 279, 281,\n",
       "       282, 283, 284, 285, 286, 289, 290, 291, 293, 294, 295, 296, 298,\n",
       "       299, 300, 301, 302, 303, 305, 306, 307, 308, 309, 310, 311, 312,\n",
       "       314, 315, 320, 316, 317, 321, 322, 323, 325, 326, 327, 328, 330,\n",
       "       329, 331, 333, 337, 339, 340, 335, 336, 341, 342, 343, 344, 345,\n",
       "       346, 347, 348, 349, 350, 351, 352, 534, 535, 353, 355, 354, 356,\n",
       "       358, 360, 362, 363, 364, 365, 366, 367, 368, 369, 361, 370, 371,\n",
       "       372, 373, 374, 375, 377, 378, 379, 380, 381, 382, 383, 384, 386,\n",
       "       387, 569, 388, 389, 391, 392, 393, 394, 395, 399, 400, 404, 406,\n",
       "       407, 401, 402, 403, 408, 409, 410, 412, 411, 413, 414, 415, 417,\n",
       "       422, 418, 396, 420, 421, 423, 424, 425, 426, 427, 429, 431, 432,\n",
       "       433, 434, 435, 437, 438, 439, 440, 441, 442, 444, 446, 447, 449,\n",
       "       450, 451, 452, 453, 455, 456, 457, 459, 460, 458, 461, 463, 462,\n",
       "       464, 465, 466, 467, 468, 469, 470, 472, 471, 473, 474, 475, 476,\n",
       "       477, 478, 480, 482, 483, 484, 485, 487, 547, 489, 490, 491, 492,\n",
       "       493, 494, 495, 496, 497, 498, 499, 500, 501, 502, 503, 506, 507,\n",
       "       508, 509, 505, 510, 511, 513, 515, 516, 517, 519, 520, 521, 523,\n",
       "       525, 530, 531, 532, 533, 526, 528, 529, 537, 538, 539, 541, 542,\n",
       "       543, 544, 545, 546, 548, 549, 552, 553, 554, 555, 557, 558, 405,\n",
       "       540, 334, 565, 560, 277, 280, 486, 561, 563, 564, 567, 568, 570,\n",
       "       247, 223, 228, 246, 257, 267, 274, 287, 288, 292, 297, 304, 313,\n",
       "       332, 536, 357, 359, 376, 416, 419, 428, 430, 436, 443, 445, 448,\n",
       "       454, 479, 481, 488, 512, 514, 518, 522, 524, 527, 319])"
      ]
     },
     "execution_count": 289,
     "metadata": {},
     "output_type": "execute_result"
    }
   ],
   "source": [
    "df_copy['CVE_MUN'] = df_copy['CVE_MUN'].astype('int64')\n",
    "df_copy['CVE_MUN'].unique()"
   ]
  },
  {
   "cell_type": "code",
   "execution_count": 290,
   "metadata": {},
   "outputs": [
    {
     "data": {
      "text/html": [
       "<div>\n",
       "<style scoped>\n",
       "    .dataframe tbody tr th:only-of-type {\n",
       "        vertical-align: middle;\n",
       "    }\n",
       "\n",
       "    .dataframe tbody tr th {\n",
       "        vertical-align: top;\n",
       "    }\n",
       "\n",
       "    .dataframe thead th {\n",
       "        text-align: right;\n",
       "    }\n",
       "</style>\n",
       "<table border=\"1\" class=\"dataframe\">\n",
       "  <thead>\n",
       "    <tr style=\"text-align: right;\">\n",
       "      <th></th>\n",
       "      <th>AÑO</th>\n",
       "      <th>INEGI</th>\n",
       "      <th>ENTIDAD</th>\n",
       "      <th>MUNICIPIO</th>\n",
       "      <th>MODALIDAD</th>\n",
       "      <th>TIPO</th>\n",
       "      <th>SUBTIPO</th>\n",
       "      <th>ENERO</th>\n",
       "      <th>FEBRERO</th>\n",
       "      <th>MARZO</th>\n",
       "      <th>...</th>\n",
       "      <th>SEPTIEMBRE</th>\n",
       "      <th>OCTUBRE</th>\n",
       "      <th>NOVIEMBRE</th>\n",
       "      <th>DICIEMBRE</th>\n",
       "      <th>CVE_MUN</th>\n",
       "      <th>CVE_ENT</th>\n",
       "      <th>CVE_MOD</th>\n",
       "      <th>CVE_TIPO</th>\n",
       "      <th>CVE_SUBTIPO</th>\n",
       "      <th>TOTAL_DELITOS</th>\n",
       "    </tr>\n",
       "  </thead>\n",
       "  <tbody>\n",
       "    <tr>\n",
       "      <th>0</th>\n",
       "      <td>2011</td>\n",
       "      <td>1001</td>\n",
       "      <td>AGUASCALIENTES</td>\n",
       "      <td>AGUASCALIENTES</td>\n",
       "      <td>DELITOS PATRIMONIALES</td>\n",
       "      <td>ABUSO DE CONFIANZA</td>\n",
       "      <td>ABUSO DE CONFIANZA</td>\n",
       "      <td>45</td>\n",
       "      <td>43</td>\n",
       "      <td>34</td>\n",
       "      <td>...</td>\n",
       "      <td>37</td>\n",
       "      <td>35</td>\n",
       "      <td>32</td>\n",
       "      <td>28</td>\n",
       "      <td>1</td>\n",
       "      <td>1</td>\n",
       "      <td>0</td>\n",
       "      <td>0</td>\n",
       "      <td>0</td>\n",
       "      <td>385</td>\n",
       "    </tr>\n",
       "    <tr>\n",
       "      <th>1</th>\n",
       "      <td>2011</td>\n",
       "      <td>1001</td>\n",
       "      <td>AGUASCALIENTES</td>\n",
       "      <td>AGUASCALIENTES</td>\n",
       "      <td>DELITOS PATRIMONIALES</td>\n",
       "      <td>DAÑO EN PROPIEDAD AJENA</td>\n",
       "      <td>DAÑO EN PROPIEDAD AJENA</td>\n",
       "      <td>164</td>\n",
       "      <td>177</td>\n",
       "      <td>160</td>\n",
       "      <td>...</td>\n",
       "      <td>171</td>\n",
       "      <td>144</td>\n",
       "      <td>134</td>\n",
       "      <td>173</td>\n",
       "      <td>1</td>\n",
       "      <td>1</td>\n",
       "      <td>0</td>\n",
       "      <td>1</td>\n",
       "      <td>1</td>\n",
       "      <td>1748</td>\n",
       "    </tr>\n",
       "    <tr>\n",
       "      <th>2</th>\n",
       "      <td>2011</td>\n",
       "      <td>1001</td>\n",
       "      <td>AGUASCALIENTES</td>\n",
       "      <td>AGUASCALIENTES</td>\n",
       "      <td>DELITOS PATRIMONIALES</td>\n",
       "      <td>EXTORSION</td>\n",
       "      <td>EXTORSION</td>\n",
       "      <td>10</td>\n",
       "      <td>24</td>\n",
       "      <td>9</td>\n",
       "      <td>...</td>\n",
       "      <td>7</td>\n",
       "      <td>6</td>\n",
       "      <td>4</td>\n",
       "      <td>5</td>\n",
       "      <td>1</td>\n",
       "      <td>1</td>\n",
       "      <td>0</td>\n",
       "      <td>2</td>\n",
       "      <td>2</td>\n",
       "      <td>89</td>\n",
       "    </tr>\n",
       "    <tr>\n",
       "      <th>3</th>\n",
       "      <td>2011</td>\n",
       "      <td>1001</td>\n",
       "      <td>AGUASCALIENTES</td>\n",
       "      <td>AGUASCALIENTES</td>\n",
       "      <td>DELITOS PATRIMONIALES</td>\n",
       "      <td>FRAUDE</td>\n",
       "      <td>FRAUDE</td>\n",
       "      <td>54</td>\n",
       "      <td>29</td>\n",
       "      <td>37</td>\n",
       "      <td>...</td>\n",
       "      <td>27</td>\n",
       "      <td>20</td>\n",
       "      <td>38</td>\n",
       "      <td>32</td>\n",
       "      <td>1</td>\n",
       "      <td>1</td>\n",
       "      <td>0</td>\n",
       "      <td>3</td>\n",
       "      <td>3</td>\n",
       "      <td>390</td>\n",
       "    </tr>\n",
       "    <tr>\n",
       "      <th>4</th>\n",
       "      <td>2011</td>\n",
       "      <td>1001</td>\n",
       "      <td>AGUASCALIENTES</td>\n",
       "      <td>AGUASCALIENTES</td>\n",
       "      <td>DELITOS PATRIMONIALES</td>\n",
       "      <td>DESPOJO</td>\n",
       "      <td>CON VIOLENCIA</td>\n",
       "      <td>0</td>\n",
       "      <td>0</td>\n",
       "      <td>0</td>\n",
       "      <td>...</td>\n",
       "      <td>0</td>\n",
       "      <td>0</td>\n",
       "      <td>0</td>\n",
       "      <td>0</td>\n",
       "      <td>1</td>\n",
       "      <td>1</td>\n",
       "      <td>0</td>\n",
       "      <td>4</td>\n",
       "      <td>4</td>\n",
       "      <td>0</td>\n",
       "    </tr>\n",
       "  </tbody>\n",
       "</table>\n",
       "<p>5 rows × 25 columns</p>\n",
       "</div>"
      ],
      "text/plain": [
       "    AÑO  INEGI         ENTIDAD       MUNICIPIO              MODALIDAD  \\\n",
       "0  2011   1001  AGUASCALIENTES  AGUASCALIENTES  DELITOS PATRIMONIALES   \n",
       "1  2011   1001  AGUASCALIENTES  AGUASCALIENTES  DELITOS PATRIMONIALES   \n",
       "2  2011   1001  AGUASCALIENTES  AGUASCALIENTES  DELITOS PATRIMONIALES   \n",
       "3  2011   1001  AGUASCALIENTES  AGUASCALIENTES  DELITOS PATRIMONIALES   \n",
       "4  2011   1001  AGUASCALIENTES  AGUASCALIENTES  DELITOS PATRIMONIALES   \n",
       "\n",
       "                      TIPO                  SUBTIPO  ENERO  FEBRERO  MARZO  \\\n",
       "0       ABUSO DE CONFIANZA       ABUSO DE CONFIANZA     45       43     34   \n",
       "1  DAÑO EN PROPIEDAD AJENA  DAÑO EN PROPIEDAD AJENA    164      177    160   \n",
       "2                EXTORSION                EXTORSION     10       24      9   \n",
       "3                   FRAUDE                   FRAUDE     54       29     37   \n",
       "4                  DESPOJO            CON VIOLENCIA      0        0      0   \n",
       "\n",
       "       ...        SEPTIEMBRE  OCTUBRE  NOVIEMBRE  DICIEMBRE  CVE_MUN  CVE_ENT  \\\n",
       "0      ...                37       35         32         28        1        1   \n",
       "1      ...               171      144        134        173        1        1   \n",
       "2      ...                 7        6          4          5        1        1   \n",
       "3      ...                27       20         38         32        1        1   \n",
       "4      ...                 0        0          0          0        1        1   \n",
       "\n",
       "   CVE_MOD  CVE_TIPO  CVE_SUBTIPO  TOTAL_DELITOS  \n",
       "0        0         0            0            385  \n",
       "1        0         1            1           1748  \n",
       "2        0         2            2             89  \n",
       "3        0         3            3            390  \n",
       "4        0         4            4              0  \n",
       "\n",
       "[5 rows x 25 columns]"
      ]
     },
     "execution_count": 290,
     "metadata": {},
     "output_type": "execute_result"
    }
   ],
   "source": [
    "df_copy.head()"
   ]
  },
  {
   "cell_type": "code",
   "execution_count": 294,
   "metadata": {},
   "outputs": [],
   "source": [
    "path = 'Incidencia_municipal_2011_-_2017_clean.csv'\n",
    "df_copy.to_csv(path_or_buf=path, encoding='UTF-8', index=False)"
   ]
  },
  {
   "cell_type": "code",
   "execution_count": null,
   "metadata": {},
   "outputs": [],
   "source": []
  }
 ],
 "metadata": {
  "kernelspec": {
   "display_name": "Python 3",
   "language": "python",
   "name": "python3"
  },
  "language_info": {
   "codemirror_mode": {
    "name": "ipython",
    "version": 3
   },
   "file_extension": ".py",
   "mimetype": "text/x-python",
   "name": "python",
   "nbconvert_exporter": "python",
   "pygments_lexer": "ipython3",
   "version": "3.6.4"
  }
 },
 "nbformat": 4,
 "nbformat_minor": 2
}
