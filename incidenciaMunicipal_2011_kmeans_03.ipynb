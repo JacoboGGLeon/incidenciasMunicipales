{
 "cells": [
  {
   "cell_type": "code",
   "execution_count": 31,
   "metadata": {},
   "outputs": [],
   "source": [
    "import pandas as pd\n",
    "import matplotlib.pyplot as plt"
   ]
  },
  {
   "cell_type": "code",
   "execution_count": 2,
   "metadata": {},
   "outputs": [
    {
     "data": {
      "text/html": [
       "<div>\n",
       "<style scoped>\n",
       "    .dataframe tbody tr th:only-of-type {\n",
       "        vertical-align: middle;\n",
       "    }\n",
       "\n",
       "    .dataframe tbody tr th {\n",
       "        vertical-align: top;\n",
       "    }\n",
       "\n",
       "    .dataframe thead th {\n",
       "        text-align: right;\n",
       "    }\n",
       "</style>\n",
       "<table border=\"1\" class=\"dataframe\">\n",
       "  <thead>\n",
       "    <tr style=\"text-align: right;\">\n",
       "      <th></th>\n",
       "      <th>r_def</th>\n",
       "      <th>loc</th>\n",
       "      <th>mun</th>\n",
       "      <th>est</th>\n",
       "      <th>est_d</th>\n",
       "      <th>t_loc</th>\n",
       "      <th>cd_a</th>\n",
       "      <th>ent</th>\n",
       "      <th>d_sem</th>\n",
       "      <th>n_pro_viv</th>\n",
       "      <th>...</th>\n",
       "      <th>ma48me1sm</th>\n",
       "      <th>p14apoyos</th>\n",
       "      <th>scian</th>\n",
       "      <th>t_tra</th>\n",
       "      <th>emp_ppal</th>\n",
       "      <th>tue_ppal</th>\n",
       "      <th>trans_ppal</th>\n",
       "      <th>mh_fil2</th>\n",
       "      <th>mh_col</th>\n",
       "      <th>sec_ins</th>\n",
       "    </tr>\n",
       "  </thead>\n",
       "  <tbody>\n",
       "    <tr>\n",
       "      <th>0</th>\n",
       "      <td>0</td>\n",
       "      <td>1</td>\n",
       "      <td>2</td>\n",
       "      <td>10</td>\n",
       "      <td>103</td>\n",
       "      <td>1</td>\n",
       "      <td>1</td>\n",
       "      <td>9</td>\n",
       "      <td>101</td>\n",
       "      <td>19</td>\n",
       "      <td>...</td>\n",
       "      <td>2</td>\n",
       "      <td>2</td>\n",
       "      <td>7</td>\n",
       "      <td>1</td>\n",
       "      <td>2</td>\n",
       "      <td>2</td>\n",
       "      <td>3</td>\n",
       "      <td>3</td>\n",
       "      <td>2</td>\n",
       "      <td>2</td>\n",
       "    </tr>\n",
       "    <tr>\n",
       "      <th>1</th>\n",
       "      <td>0</td>\n",
       "      <td>1</td>\n",
       "      <td>2</td>\n",
       "      <td>10</td>\n",
       "      <td>103</td>\n",
       "      <td>1</td>\n",
       "      <td>1</td>\n",
       "      <td>9</td>\n",
       "      <td>101</td>\n",
       "      <td>45</td>\n",
       "      <td>...</td>\n",
       "      <td>2</td>\n",
       "      <td>2</td>\n",
       "      <td>5</td>\n",
       "      <td>2</td>\n",
       "      <td>1</td>\n",
       "      <td>1</td>\n",
       "      <td>3</td>\n",
       "      <td>1</td>\n",
       "      <td>7</td>\n",
       "      <td>8</td>\n",
       "    </tr>\n",
       "    <tr>\n",
       "      <th>2</th>\n",
       "      <td>0</td>\n",
       "      <td>1</td>\n",
       "      <td>2</td>\n",
       "      <td>10</td>\n",
       "      <td>103</td>\n",
       "      <td>1</td>\n",
       "      <td>1</td>\n",
       "      <td>9</td>\n",
       "      <td>101</td>\n",
       "      <td>45</td>\n",
       "      <td>...</td>\n",
       "      <td>2</td>\n",
       "      <td>2</td>\n",
       "      <td>18</td>\n",
       "      <td>1</td>\n",
       "      <td>2</td>\n",
       "      <td>2</td>\n",
       "      <td>3</td>\n",
       "      <td>3</td>\n",
       "      <td>8</td>\n",
       "      <td>4</td>\n",
       "    </tr>\n",
       "    <tr>\n",
       "      <th>3</th>\n",
       "      <td>0</td>\n",
       "      <td>1</td>\n",
       "      <td>2</td>\n",
       "      <td>10</td>\n",
       "      <td>103</td>\n",
       "      <td>1</td>\n",
       "      <td>1</td>\n",
       "      <td>9</td>\n",
       "      <td>101</td>\n",
       "      <td>45</td>\n",
       "      <td>...</td>\n",
       "      <td>2</td>\n",
       "      <td>2</td>\n",
       "      <td>21</td>\n",
       "      <td>1</td>\n",
       "      <td>3</td>\n",
       "      <td>3</td>\n",
       "      <td>3</td>\n",
       "      <td>5</td>\n",
       "      <td>11</td>\n",
       "      <td>11</td>\n",
       "    </tr>\n",
       "    <tr>\n",
       "      <th>4</th>\n",
       "      <td>0</td>\n",
       "      <td>1</td>\n",
       "      <td>2</td>\n",
       "      <td>10</td>\n",
       "      <td>103</td>\n",
       "      <td>1</td>\n",
       "      <td>1</td>\n",
       "      <td>9</td>\n",
       "      <td>101</td>\n",
       "      <td>97</td>\n",
       "      <td>...</td>\n",
       "      <td>2</td>\n",
       "      <td>2</td>\n",
       "      <td>19</td>\n",
       "      <td>1</td>\n",
       "      <td>1</td>\n",
       "      <td>1</td>\n",
       "      <td>3</td>\n",
       "      <td>1</td>\n",
       "      <td>5</td>\n",
       "      <td>8</td>\n",
       "    </tr>\n",
       "  </tbody>\n",
       "</table>\n",
       "<p>5 rows × 94 columns</p>\n",
       "</div>"
      ],
      "text/plain": [
       "   r_def  loc  mun  est  est_d  t_loc  cd_a  ent  d_sem  n_pro_viv   ...     \\\n",
       "0      0    1    2   10    103      1     1    9    101         19   ...      \n",
       "1      0    1    2   10    103      1     1    9    101         45   ...      \n",
       "2      0    1    2   10    103      1     1    9    101         45   ...      \n",
       "3      0    1    2   10    103      1     1    9    101         45   ...      \n",
       "4      0    1    2   10    103      1     1    9    101         97   ...      \n",
       "\n",
       "   ma48me1sm  p14apoyos  scian  t_tra  emp_ppal  tue_ppal  trans_ppal  \\\n",
       "0          2          2      7      1         2         2           3   \n",
       "1          2          2      5      2         1         1           3   \n",
       "2          2          2     18      1         2         2           3   \n",
       "3          2          2     21      1         3         3           3   \n",
       "4          2          2     19      1         1         1           3   \n",
       "\n",
       "   mh_fil2  mh_col  sec_ins  \n",
       "0        3       2        2  \n",
       "1        1       7        8  \n",
       "2        3       8        4  \n",
       "3        5      11       11  \n",
       "4        1       5        8  \n",
       "\n",
       "[5 rows x 94 columns]"
      ]
     },
     "execution_count": 2,
     "metadata": {},
     "output_type": "execute_result"
    }
   ],
   "source": [
    "df_path = \"C://Users/Jacobo/Desktop/incidenciasMunicipales-master/2015.csv\"\n",
    "df = pd.read_csv(df_path)\n",
    "df_copy = df.copy()\n",
    "df_copy.head()"
   ]
  },
  {
   "cell_type": "code",
   "execution_count": 3,
   "metadata": {},
   "outputs": [
    {
     "name": "stdout",
     "output_type": "stream",
     "text": [
      "<class 'pandas.core.frame.DataFrame'>\n",
      "RangeIndex: 1579512 entries, 0 to 1579511\n",
      "Data columns (total 94 columns):\n",
      "r_def         1579512 non-null int64\n",
      "loc           1579512 non-null int64\n",
      "mun           1579512 non-null int64\n",
      "est           1579512 non-null int64\n",
      "est_d         1579512 non-null int64\n",
      "t_loc         1579512 non-null int64\n",
      "cd_a          1579512 non-null int64\n",
      "ent           1579512 non-null int64\n",
      "d_sem         1579512 non-null int64\n",
      "n_pro_viv     1579512 non-null int64\n",
      "v_sel         1579512 non-null int64\n",
      "n_hog         1579512 non-null int64\n",
      "h_mud         1579512 non-null int64\n",
      "n_ent         1579512 non-null int64\n",
      "per           1579512 non-null int64\n",
      "n_ren         1579512 non-null int64\n",
      "c_res         1579512 non-null int64\n",
      "par_c         1579512 non-null int64\n",
      "sex           1579512 non-null int64\n",
      "eda           1579512 non-null int64\n",
      "nac_dia       1579512 non-null int64\n",
      "nac_mes       1579512 non-null int64\n",
      "nac_anio      1579512 non-null int64\n",
      "l_nac_c       1579512 non-null int64\n",
      "cs_p12        1579512 non-null int64\n",
      "cs_p13_1      1579512 non-null int64\n",
      "cs_p13_2      1579512 non-null int64\n",
      "cs_p14_c      1579512 non-null int64\n",
      "cs_p15        1579512 non-null int64\n",
      "cs_p16        1579512 non-null int64\n",
      "cs_p17        1579512 non-null int64\n",
      "n_hij         1579512 non-null int64\n",
      "e_con         1579512 non-null int64\n",
      "cs_nr_ori     1579512 non-null int64\n",
      "ur            1579512 non-null int64\n",
      "zona          1579512 non-null int64\n",
      "salario       1579512 non-null int64\n",
      "fac           1579512 non-null int64\n",
      "clase1        1579512 non-null int64\n",
      "clase2        1579512 non-null int64\n",
      "clase3        1579512 non-null int64\n",
      "pos_ocu       1579512 non-null int64\n",
      "seg_soc       1579512 non-null int64\n",
      "rama          1579512 non-null int64\n",
      "c_ocu11c      1579512 non-null int64\n",
      "ing7c         1579512 non-null int64\n",
      "dur9c         1579512 non-null int64\n",
      "emple7c       1579512 non-null int64\n",
      "medica5c      1579512 non-null int64\n",
      "buscar5c      1579512 non-null int64\n",
      "rama_est1     1579512 non-null int64\n",
      "rama_est2     1579512 non-null int64\n",
      "dur_est       1579512 non-null int64\n",
      "ambito1       1579512 non-null int64\n",
      "ambito2       1579512 non-null int64\n",
      "tue1          1579512 non-null int64\n",
      "tue2          1579512 non-null int64\n",
      "tue3          1579512 non-null int64\n",
      "busqueda      1579512 non-null int64\n",
      "d_ant_lab     1579512 non-null int64\n",
      "d_cexp_est    1579512 non-null int64\n",
      "dur_des       1579512 non-null int64\n",
      "sub_o         1579512 non-null int64\n",
      "s_clasifi     1579512 non-null int64\n",
      "remune2c      1579512 non-null int64\n",
      "pre_asa       1579512 non-null int64\n",
      "tip_con       1579512 non-null int64\n",
      "c_inac5c      1579512 non-null int64\n",
      "pnea_est      1579512 non-null int64\n",
      "niv_ins       1579512 non-null int64\n",
      "eda5c         1579512 non-null int64\n",
      "eda7c         1579512 non-null int64\n",
      "eda12c        1579512 non-null int64\n",
      "eda19c        1579512 non-null int64\n",
      "hij5c         1579512 non-null int64\n",
      "domestico     1579512 non-null int64\n",
      "anios_esc     1579512 non-null int64\n",
      "hrsocup       1579512 non-null int64\n",
      "ingocup       1579512 non-null int64\n",
      "ing_x_hrs     1579512 non-null int64\n",
      "tpg_p8a       1579512 non-null int64\n",
      "tcco          1579512 non-null int64\n",
      "cp_anoc       1579512 non-null int64\n",
      "imssissste    1579512 non-null int64\n",
      "ma48me1sm     1579512 non-null int64\n",
      "p14apoyos     1579512 non-null int64\n",
      "scian         1579512 non-null int64\n",
      "t_tra         1579512 non-null int64\n",
      "emp_ppal      1579512 non-null int64\n",
      "tue_ppal      1579512 non-null int64\n",
      "trans_ppal    1579512 non-null int64\n",
      "mh_fil2       1579512 non-null int64\n",
      "mh_col        1579512 non-null int64\n",
      "sec_ins       1579512 non-null int64\n",
      "dtypes: int64(94)\n",
      "memory usage: 1.1 GB\n"
     ]
    }
   ],
   "source": [
    "df_copy.info()"
   ]
  },
  {
   "cell_type": "markdown",
   "metadata": {},
   "source": [
    "## Normalize"
   ]
  },
  {
   "cell_type": "code",
   "execution_count": 4,
   "metadata": {},
   "outputs": [
    {
     "data": {
      "text/plain": [
       "array([0.00000000e+00, 1.64421437e-04, 3.28842874e-04, 1.64421437e-03,\n",
       "       1.69354080e-02, 1.64421437e-04, 1.64421437e-04, 1.47979293e-03,\n",
       "       1.66065651e-02, 3.12400730e-03, 1.64421437e-04, 1.64421437e-04,\n",
       "       0.00000000e+00, 8.22107184e-04, 1.89084652e-02, 1.64421437e-04,\n",
       "       1.64421437e-04, 1.66065651e-02, 3.28842874e-04, 4.43937879e-03,\n",
       "       4.11053592e-03, 1.31537149e-03, 3.26705395e-01, 1.47979293e-03,\n",
       "       1.64421437e-04, 1.15095006e-03, 6.57685747e-04, 8.74886465e-01,\n",
       "       4.93264310e-04, 1.64421437e-04, 3.28842874e-04, 0.00000000e+00,\n",
       "       9.86528621e-04, 1.47979293e-03, 1.64421437e-04, 1.64421437e-04,\n",
       "       3.45778282e-01, 8.33616685e-02, 1.64421437e-04, 1.64421437e-04,\n",
       "       1.64421437e-04, 1.64421437e-04, 1.64421437e-04, 4.93264310e-04,\n",
       "       1.64421437e-04, 6.57685747e-04, 9.86528621e-04, 9.86528621e-04,\n",
       "       4.93264310e-04, 6.57685747e-04, 4.93264310e-04, 8.22107184e-04,\n",
       "       6.57685747e-04, 3.28842874e-04, 8.22107184e-04, 1.64421437e-04,\n",
       "       1.64421437e-04, 4.93264310e-04, 3.28842874e-04, 4.93264310e-04,\n",
       "       8.22107184e-04, 9.86528621e-04, 0.00000000e+00, 1.15095006e-03,\n",
       "       1.64421437e-04, 1.64421437e-04, 4.93264310e-04, 9.86528621e-04,\n",
       "       1.15095006e-03, 6.57685747e-04, 3.28842874e-04, 3.28842874e-04,\n",
       "       4.93264310e-04, 1.31537149e-03, 1.64421437e-04, 4.93264310e-04,\n",
       "       2.63074299e-03, 6.57685747e-03, 0.00000000e+00, 0.00000000e+00,\n",
       "       0.00000000e+00, 6.57685747e-04, 3.28842874e-04, 1.64421437e-04,\n",
       "       3.28842874e-04, 3.28842874e-04, 1.15095006e-03, 1.64421437e-04,\n",
       "       3.28842874e-04, 3.28842874e-04, 4.93264310e-04, 4.93264310e-04,\n",
       "       3.28842874e-04, 3.28842874e-04])"
      ]
     },
     "execution_count": 4,
     "metadata": {},
     "output_type": "execute_result"
    }
   ],
   "source": [
    "from sklearn.preprocessing import normalize\n",
    "array_norm  = normalize(df_copy, norm='l2')\n",
    "array_norm[0]"
   ]
  },
  {
   "cell_type": "code",
   "execution_count": 5,
   "metadata": {},
   "outputs": [
    {
     "data": {
      "text/html": [
       "<div>\n",
       "<style scoped>\n",
       "    .dataframe tbody tr th:only-of-type {\n",
       "        vertical-align: middle;\n",
       "    }\n",
       "\n",
       "    .dataframe tbody tr th {\n",
       "        vertical-align: top;\n",
       "    }\n",
       "\n",
       "    .dataframe thead th {\n",
       "        text-align: right;\n",
       "    }\n",
       "</style>\n",
       "<table border=\"1\" class=\"dataframe\">\n",
       "  <thead>\n",
       "    <tr style=\"text-align: right;\">\n",
       "      <th></th>\n",
       "      <th>0</th>\n",
       "      <th>1</th>\n",
       "      <th>2</th>\n",
       "      <th>3</th>\n",
       "      <th>4</th>\n",
       "      <th>5</th>\n",
       "      <th>6</th>\n",
       "      <th>7</th>\n",
       "      <th>8</th>\n",
       "      <th>9</th>\n",
       "      <th>...</th>\n",
       "      <th>84</th>\n",
       "      <th>85</th>\n",
       "      <th>86</th>\n",
       "      <th>87</th>\n",
       "      <th>88</th>\n",
       "      <th>89</th>\n",
       "      <th>90</th>\n",
       "      <th>91</th>\n",
       "      <th>92</th>\n",
       "      <th>93</th>\n",
       "    </tr>\n",
       "  </thead>\n",
       "  <tbody>\n",
       "    <tr>\n",
       "      <th>0</th>\n",
       "      <td>0.0</td>\n",
       "      <td>0.000164</td>\n",
       "      <td>0.000329</td>\n",
       "      <td>0.001644</td>\n",
       "      <td>0.016935</td>\n",
       "      <td>0.000164</td>\n",
       "      <td>0.000164</td>\n",
       "      <td>0.001480</td>\n",
       "      <td>0.016607</td>\n",
       "      <td>0.003124</td>\n",
       "      <td>...</td>\n",
       "      <td>0.000329</td>\n",
       "      <td>0.000329</td>\n",
       "      <td>0.001151</td>\n",
       "      <td>0.000164</td>\n",
       "      <td>0.000329</td>\n",
       "      <td>0.000329</td>\n",
       "      <td>0.000493</td>\n",
       "      <td>0.000493</td>\n",
       "      <td>0.000329</td>\n",
       "      <td>0.000329</td>\n",
       "    </tr>\n",
       "    <tr>\n",
       "      <th>1</th>\n",
       "      <td>0.0</td>\n",
       "      <td>0.000117</td>\n",
       "      <td>0.000234</td>\n",
       "      <td>0.001172</td>\n",
       "      <td>0.012069</td>\n",
       "      <td>0.000117</td>\n",
       "      <td>0.000117</td>\n",
       "      <td>0.001055</td>\n",
       "      <td>0.011835</td>\n",
       "      <td>0.005273</td>\n",
       "      <td>...</td>\n",
       "      <td>0.000234</td>\n",
       "      <td>0.000234</td>\n",
       "      <td>0.000586</td>\n",
       "      <td>0.000234</td>\n",
       "      <td>0.000117</td>\n",
       "      <td>0.000117</td>\n",
       "      <td>0.000352</td>\n",
       "      <td>0.000117</td>\n",
       "      <td>0.000820</td>\n",
       "      <td>0.000937</td>\n",
       "    </tr>\n",
       "    <tr>\n",
       "      <th>2</th>\n",
       "      <td>0.0</td>\n",
       "      <td>0.000089</td>\n",
       "      <td>0.000177</td>\n",
       "      <td>0.000887</td>\n",
       "      <td>0.009136</td>\n",
       "      <td>0.000089</td>\n",
       "      <td>0.000089</td>\n",
       "      <td>0.000798</td>\n",
       "      <td>0.008959</td>\n",
       "      <td>0.003992</td>\n",
       "      <td>...</td>\n",
       "      <td>0.000177</td>\n",
       "      <td>0.000177</td>\n",
       "      <td>0.001597</td>\n",
       "      <td>0.000089</td>\n",
       "      <td>0.000177</td>\n",
       "      <td>0.000177</td>\n",
       "      <td>0.000266</td>\n",
       "      <td>0.000266</td>\n",
       "      <td>0.000710</td>\n",
       "      <td>0.000355</td>\n",
       "    </tr>\n",
       "    <tr>\n",
       "      <th>3</th>\n",
       "      <td>0.0</td>\n",
       "      <td>0.000166</td>\n",
       "      <td>0.000333</td>\n",
       "      <td>0.001665</td>\n",
       "      <td>0.017148</td>\n",
       "      <td>0.000166</td>\n",
       "      <td>0.000166</td>\n",
       "      <td>0.001498</td>\n",
       "      <td>0.016815</td>\n",
       "      <td>0.007492</td>\n",
       "      <td>...</td>\n",
       "      <td>0.000333</td>\n",
       "      <td>0.000333</td>\n",
       "      <td>0.003496</td>\n",
       "      <td>0.000166</td>\n",
       "      <td>0.000499</td>\n",
       "      <td>0.000499</td>\n",
       "      <td>0.000499</td>\n",
       "      <td>0.000832</td>\n",
       "      <td>0.001831</td>\n",
       "      <td>0.001831</td>\n",
       "    </tr>\n",
       "    <tr>\n",
       "      <th>4</th>\n",
       "      <td>0.0</td>\n",
       "      <td>0.000096</td>\n",
       "      <td>0.000192</td>\n",
       "      <td>0.000960</td>\n",
       "      <td>0.009885</td>\n",
       "      <td>0.000096</td>\n",
       "      <td>0.000096</td>\n",
       "      <td>0.000864</td>\n",
       "      <td>0.009693</td>\n",
       "      <td>0.009310</td>\n",
       "      <td>...</td>\n",
       "      <td>0.000192</td>\n",
       "      <td>0.000192</td>\n",
       "      <td>0.001824</td>\n",
       "      <td>0.000096</td>\n",
       "      <td>0.000096</td>\n",
       "      <td>0.000096</td>\n",
       "      <td>0.000288</td>\n",
       "      <td>0.000096</td>\n",
       "      <td>0.000480</td>\n",
       "      <td>0.000768</td>\n",
       "    </tr>\n",
       "  </tbody>\n",
       "</table>\n",
       "<p>5 rows × 94 columns</p>\n",
       "</div>"
      ],
      "text/plain": [
       "    0         1         2         3         4         5         6         7   \\\n",
       "0  0.0  0.000164  0.000329  0.001644  0.016935  0.000164  0.000164  0.001480   \n",
       "1  0.0  0.000117  0.000234  0.001172  0.012069  0.000117  0.000117  0.001055   \n",
       "2  0.0  0.000089  0.000177  0.000887  0.009136  0.000089  0.000089  0.000798   \n",
       "3  0.0  0.000166  0.000333  0.001665  0.017148  0.000166  0.000166  0.001498   \n",
       "4  0.0  0.000096  0.000192  0.000960  0.009885  0.000096  0.000096  0.000864   \n",
       "\n",
       "         8         9     ...           84        85        86        87  \\\n",
       "0  0.016607  0.003124    ...     0.000329  0.000329  0.001151  0.000164   \n",
       "1  0.011835  0.005273    ...     0.000234  0.000234  0.000586  0.000234   \n",
       "2  0.008959  0.003992    ...     0.000177  0.000177  0.001597  0.000089   \n",
       "3  0.016815  0.007492    ...     0.000333  0.000333  0.003496  0.000166   \n",
       "4  0.009693  0.009310    ...     0.000192  0.000192  0.001824  0.000096   \n",
       "\n",
       "         88        89        90        91        92        93  \n",
       "0  0.000329  0.000329  0.000493  0.000493  0.000329  0.000329  \n",
       "1  0.000117  0.000117  0.000352  0.000117  0.000820  0.000937  \n",
       "2  0.000177  0.000177  0.000266  0.000266  0.000710  0.000355  \n",
       "3  0.000499  0.000499  0.000499  0.000832  0.001831  0.001831  \n",
       "4  0.000096  0.000096  0.000288  0.000096  0.000480  0.000768  \n",
       "\n",
       "[5 rows x 94 columns]"
      ]
     },
     "execution_count": 5,
     "metadata": {},
     "output_type": "execute_result"
    }
   ],
   "source": [
    "df_copy_norm = pd.DataFrame(array_norm)\n",
    "df_copy_norm.head()"
   ]
  },
  {
   "cell_type": "markdown",
   "metadata": {},
   "source": [
    "## PCA"
   ]
  },
  {
   "cell_type": "code",
   "execution_count": 6,
   "metadata": {},
   "outputs": [
    {
     "data": {
      "text/plain": [
       "array([-0.13232874,  0.18578881])"
      ]
     },
     "execution_count": 6,
     "metadata": {},
     "output_type": "execute_result"
    }
   ],
   "source": [
    "from sklearn import decomposition\n",
    "pca = decomposition.PCA(n_components=2)\n",
    "pca.fit(array_norm)\n",
    "array_pca = pca.transform(df_copy_norm)\n",
    "array_pca[0]"
   ]
  },
  {
   "cell_type": "code",
   "execution_count": 7,
   "metadata": {},
   "outputs": [
    {
     "data": {
      "text/plain": [
       "(1579512, 2)"
      ]
     },
     "execution_count": 7,
     "metadata": {},
     "output_type": "execute_result"
    }
   ],
   "source": [
    "array_pca.shape"
   ]
  },
  {
   "cell_type": "code",
   "execution_count": 8,
   "metadata": {},
   "outputs": [
    {
     "data": {
      "text/html": [
       "<div>\n",
       "<style scoped>\n",
       "    .dataframe tbody tr th:only-of-type {\n",
       "        vertical-align: middle;\n",
       "    }\n",
       "\n",
       "    .dataframe tbody tr th {\n",
       "        vertical-align: top;\n",
       "    }\n",
       "\n",
       "    .dataframe thead th {\n",
       "        text-align: right;\n",
       "    }\n",
       "</style>\n",
       "<table border=\"1\" class=\"dataframe\">\n",
       "  <thead>\n",
       "    <tr style=\"text-align: right;\">\n",
       "      <th></th>\n",
       "      <th>0</th>\n",
       "      <th>1</th>\n",
       "    </tr>\n",
       "  </thead>\n",
       "  <tbody>\n",
       "    <tr>\n",
       "      <th>0</th>\n",
       "      <td>-0.132329</td>\n",
       "      <td>0.185789</td>\n",
       "    </tr>\n",
       "    <tr>\n",
       "      <th>1</th>\n",
       "      <td>0.618228</td>\n",
       "      <td>0.068304</td>\n",
       "    </tr>\n",
       "    <tr>\n",
       "      <th>2</th>\n",
       "      <td>0.220055</td>\n",
       "      <td>-0.077631</td>\n",
       "    </tr>\n",
       "    <tr>\n",
       "      <th>3</th>\n",
       "      <td>-0.131283</td>\n",
       "      <td>0.196622</td>\n",
       "    </tr>\n",
       "    <tr>\n",
       "      <th>4</th>\n",
       "      <td>-0.155685</td>\n",
       "      <td>-0.025112</td>\n",
       "    </tr>\n",
       "  </tbody>\n",
       "</table>\n",
       "</div>"
      ],
      "text/plain": [
       "          0         1\n",
       "0 -0.132329  0.185789\n",
       "1  0.618228  0.068304\n",
       "2  0.220055 -0.077631\n",
       "3 -0.131283  0.196622\n",
       "4 -0.155685 -0.025112"
      ]
     },
     "execution_count": 8,
     "metadata": {},
     "output_type": "execute_result"
    }
   ],
   "source": [
    "df_copy_pca = pd.DataFrame(array_pca)\n",
    "df_copy_pca.head()"
   ]
  },
  {
   "cell_type": "code",
   "execution_count": 9,
   "metadata": {},
   "outputs": [
    {
     "data": {
      "text/plain": [
       "0   -0.132329\n",
       "1    0.618228\n",
       "2    0.220055\n",
       "3   -0.131283\n",
       "4   -0.155685\n",
       "Name: 0, dtype: float64"
      ]
     },
     "execution_count": 9,
     "metadata": {},
     "output_type": "execute_result"
    }
   ],
   "source": [
    "df_copy_pca[0].head()"
   ]
  },
  {
   "cell_type": "code",
   "execution_count": 10,
   "metadata": {},
   "outputs": [
    {
     "data": {
      "text/plain": [
       "0    0.185789\n",
       "1    0.068304\n",
       "2   -0.077631\n",
       "3    0.196622\n",
       "4   -0.025112\n",
       "Name: 1, dtype: float64"
      ]
     },
     "execution_count": 10,
     "metadata": {},
     "output_type": "execute_result"
    }
   ],
   "source": [
    "df_copy_pca[1].head()"
   ]
  },
  {
   "cell_type": "markdown",
   "metadata": {},
   "source": [
    "### 5%"
   ]
  },
  {
   "cell_type": "code",
   "execution_count": 11,
   "metadata": {},
   "outputs": [
    {
     "data": {
      "text/html": [
       "<div>\n",
       "<style scoped>\n",
       "    .dataframe tbody tr th:only-of-type {\n",
       "        vertical-align: middle;\n",
       "    }\n",
       "\n",
       "    .dataframe tbody tr th {\n",
       "        vertical-align: top;\n",
       "    }\n",
       "\n",
       "    .dataframe thead th {\n",
       "        text-align: right;\n",
       "    }\n",
       "</style>\n",
       "<table border=\"1\" class=\"dataframe\">\n",
       "  <thead>\n",
       "    <tr style=\"text-align: right;\">\n",
       "      <th></th>\n",
       "      <th>0</th>\n",
       "      <th>1</th>\n",
       "    </tr>\n",
       "  </thead>\n",
       "  <tbody>\n",
       "    <tr>\n",
       "      <th>367372</th>\n",
       "      <td>-0.138256</td>\n",
       "      <td>0.151051</td>\n",
       "    </tr>\n",
       "    <tr>\n",
       "      <th>784626</th>\n",
       "      <td>-0.155697</td>\n",
       "      <td>-0.024928</td>\n",
       "    </tr>\n",
       "    <tr>\n",
       "      <th>637711</th>\n",
       "      <td>-0.155913</td>\n",
       "      <td>-0.021322</td>\n",
       "    </tr>\n",
       "    <tr>\n",
       "      <th>151828</th>\n",
       "      <td>-0.148407</td>\n",
       "      <td>0.061194</td>\n",
       "    </tr>\n",
       "    <tr>\n",
       "      <th>1570310</th>\n",
       "      <td>-0.155468</td>\n",
       "      <td>-0.017788</td>\n",
       "    </tr>\n",
       "  </tbody>\n",
       "</table>\n",
       "</div>"
      ],
      "text/plain": [
       "                0         1\n",
       "367372  -0.138256  0.151051\n",
       "784626  -0.155697 -0.024928\n",
       "637711  -0.155913 -0.021322\n",
       "151828  -0.148407  0.061194\n",
       "1570310 -0.155468 -0.017788"
      ]
     },
     "execution_count": 11,
     "metadata": {},
     "output_type": "execute_result"
    }
   ],
   "source": [
    "df_sample = df_copy_pca.sample(frac=0.05, random_state=1)\n",
    "df_sample.head()"
   ]
  },
  {
   "cell_type": "code",
   "execution_count": 12,
   "metadata": {},
   "outputs": [
    {
     "data": {
      "text/plain": [
       "(78976, 2)"
      ]
     },
     "execution_count": 12,
     "metadata": {},
     "output_type": "execute_result"
    }
   ],
   "source": [
    "df_sample.shape"
   ]
  },
  {
   "cell_type": "code",
   "execution_count": 13,
   "metadata": {},
   "outputs": [],
   "source": [
    "from sklearn.cluster import KMeans\n",
    "\n",
    "distortions = []\n",
    "for i in range(1,50):\n",
    "    km = KMeans(n_clusters=i,\n",
    "                init='k-means++',\n",
    "                n_init=10,\n",
    "                max_iter=300,\n",
    "                random_state=0)\n",
    "    km.fit(df_sample)\n",
    "    distortions.append(km.inertia_)"
   ]
  },
  {
   "cell_type": "code",
   "execution_count": 14,
   "metadata": {},
   "outputs": [
    {
     "data": {
      "image/png": "[encoded data removed]",
      "text/plain": [
       "<Figure size 432x288 with 1 Axes>"
      ]
     },
     "metadata": {},
     "output_type": "display_data"
    }
   ],
   "source": [
    "plt.plot(range(1,50), distortions, marker='o')\n",
    "plt.xlabel('Número de clusters')\n",
    "plt.ylabel('Distorsión')\n",
    "plt.title('PCA > Norm > K-means')\n",
    "plt.show()"
   ]
  },
  {
   "cell_type": "code",
   "execution_count": 15,
   "metadata": {
    "scrolled": true
   },
   "outputs": [
    {
     "data": {
      "text/plain": [
       "[(6855, 1),\n",
       " (2194, 2),\n",
       " (1180, 3),\n",
       " (696, 4),\n",
       " (495, 5),\n",
       " (342, 6),\n",
       " (256, 7),\n",
       " (206, 8),\n",
       " (178, 9),\n",
       " (148, 10),\n",
       " (129, 11),\n",
       " (115, 12),\n",
       " (101, 13),\n",
       " (91, 14),\n",
       " (81, 15),\n",
       " (73, 16),\n",
       " (67, 17),\n",
       " (61, 18),\n",
       " (55, 19),\n",
       " (52, 20),\n",
       " (46, 21),\n",
       " (43, 22),\n",
       " (40, 23),\n",
       " (38, 24),\n",
       " (36, 25),\n",
       " (34, 26),\n",
       " (32, 27),\n",
       " (30, 28),\n",
       " (29, 29),\n",
       " (27, 30),\n",
       " (25, 31),\n",
       " (24, 32),\n",
       " (23, 33),\n",
       " (22, 34),\n",
       " (21, 35),\n",
       " (20, 36),\n",
       " (19, 37),\n",
       " (18, 38),\n",
       " (17, 39),\n",
       " (16, 40),\n",
       " (16, 41),\n",
       " (15, 42),\n",
       " (14, 43),\n",
       " (14, 44),\n",
       " (13, 45),\n",
       " (13, 46),\n",
       " (13, 47),\n",
       " (12, 48)]"
      ]
     },
     "execution_count": 15,
     "metadata": {},
     "output_type": "execute_result"
    }
   ],
   "source": [
    "import numpy as np\n",
    "list(zip((np.round(distortions)).astype('int64'), range(1, len(distortions))))"
   ]
  },
  {
   "cell_type": "code",
   "execution_count": 17,
   "metadata": {},
   "outputs": [],
   "source": [
    "from sklearn.cluster import MeanShift, estimate_bandwidth\n",
    "\n",
    "bandwidth = estimate_bandwidth(df_sample, quantile=0.3)\n",
    "\n",
    "ms = MeanShift(bandwidth=bandwidth, bin_seeding=True)\n",
    "ms.fit(df_sample)\n",
    "labels = ms.labels_\n",
    "cluster_centers = ms.cluster_centers_\n",
    "\n",
    "labels_unique = np.unique(labels)\n",
    "n_clusters_ = len(labels_unique)"
   ]
  },
  {
   "cell_type": "code",
   "execution_count": 21,
   "metadata": {},
   "outputs": [
    {
     "name": "stdout",
     "output_type": "stream",
     "text": [
      "Número de clusters estimado con 5  5\n"
     ]
    }
   ],
   "source": [
    "print(\"Número de clusters estimado con 5% \", n_clusters_)"
   ]
  },
  {
   "cell_type": "code",
   "execution_count": 22,
   "metadata": {},
   "outputs": [],
   "source": [
    "clusters = KMeans(n_clusters=n_clusters_,\n",
    "                    init='k-means++', \n",
    "                    max_iter=300,\n",
    "                    tol=1e-04,\n",
    "                    n_init=10,\n",
    "                    random_state=0)"
   ]
  },
  {
   "cell_type": "code",
   "execution_count": 23,
   "metadata": {},
   "outputs": [
    {
     "data": {
      "text/plain": [
       "array([3, 4, 2, ..., 0, 0, 0])"
      ]
     },
     "execution_count": 23,
     "metadata": {},
     "output_type": "execute_result"
    }
   ],
   "source": [
    "y_km = clusters.fit_predict(df_copy_pca)\n",
    "y_km"
   ]
  },
  {
   "cell_type": "code",
   "execution_count": 24,
   "metadata": {},
   "outputs": [
    {
     "data": {
      "text/plain": [
       "1579512"
      ]
     },
     "execution_count": 24,
     "metadata": {},
     "output_type": "execute_result"
    }
   ],
   "source": [
    "len(y_km)"
   ]
  },
  {
   "cell_type": "code",
   "execution_count": 25,
   "metadata": {},
   "outputs": [
    {
     "data": {
      "text/plain": [
       "(1579512, 2)"
      ]
     },
     "execution_count": 25,
     "metadata": {},
     "output_type": "execute_result"
    }
   ],
   "source": [
    "df_copy_pca.shape"
   ]
  },
  {
   "cell_type": "code",
   "execution_count": 26,
   "metadata": {},
   "outputs": [
    {
     "data": {
      "text/html": [
       "<div>\n",
       "<style scoped>\n",
       "    .dataframe tbody tr th:only-of-type {\n",
       "        vertical-align: middle;\n",
       "    }\n",
       "\n",
       "    .dataframe tbody tr th {\n",
       "        vertical-align: top;\n",
       "    }\n",
       "\n",
       "    .dataframe thead th {\n",
       "        text-align: right;\n",
       "    }\n",
       "</style>\n",
       "<table border=\"1\" class=\"dataframe\">\n",
       "  <thead>\n",
       "    <tr style=\"text-align: right;\">\n",
       "      <th></th>\n",
       "      <th>0</th>\n",
       "      <th>1</th>\n",
       "      <th>CLUSTER_05</th>\n",
       "    </tr>\n",
       "  </thead>\n",
       "  <tbody>\n",
       "    <tr>\n",
       "      <th>0</th>\n",
       "      <td>-0.132329</td>\n",
       "      <td>0.185789</td>\n",
       "      <td>3</td>\n",
       "    </tr>\n",
       "    <tr>\n",
       "      <th>1</th>\n",
       "      <td>0.618228</td>\n",
       "      <td>0.068304</td>\n",
       "      <td>4</td>\n",
       "    </tr>\n",
       "    <tr>\n",
       "      <th>2</th>\n",
       "      <td>0.220055</td>\n",
       "      <td>-0.077631</td>\n",
       "      <td>2</td>\n",
       "    </tr>\n",
       "    <tr>\n",
       "      <th>3</th>\n",
       "      <td>-0.131283</td>\n",
       "      <td>0.196622</td>\n",
       "      <td>3</td>\n",
       "    </tr>\n",
       "    <tr>\n",
       "      <th>4</th>\n",
       "      <td>-0.155685</td>\n",
       "      <td>-0.025112</td>\n",
       "      <td>0</td>\n",
       "    </tr>\n",
       "  </tbody>\n",
       "</table>\n",
       "</div>"
      ],
      "text/plain": [
       "          0         1  CLUSTER_05\n",
       "0 -0.132329  0.185789           3\n",
       "1  0.618228  0.068304           4\n",
       "2  0.220055 -0.077631           2\n",
       "3 -0.131283  0.196622           3\n",
       "4 -0.155685 -0.025112           0"
      ]
     },
     "execution_count": 26,
     "metadata": {},
     "output_type": "execute_result"
    }
   ],
   "source": [
    "df_copy_pca['CLUSTER_05'] = y_km\n",
    "df_copy_pca.head()"
   ]
  },
  {
   "cell_type": "code",
   "execution_count": 27,
   "metadata": {},
   "outputs": [
    {
     "data": {
      "text/plain": [
       "array([3, 4, 2, 0, 1], dtype=int64)"
      ]
     },
     "execution_count": 27,
     "metadata": {},
     "output_type": "execute_result"
    }
   ],
   "source": [
    "df_copy_pca.CLUSTER_05.unique()"
   ]
  },
  {
   "cell_type": "code",
   "execution_count": 28,
   "metadata": {},
   "outputs": [
    {
     "data": {
      "text/plain": [
       "5"
      ]
     },
     "execution_count": 28,
     "metadata": {},
     "output_type": "execute_result"
    }
   ],
   "source": [
    "clusters.n_clusters"
   ]
  },
  {
   "cell_type": "code",
   "execution_count": 29,
   "metadata": {},
   "outputs": [
    {
     "data": {
      "text/plain": [
       "0    996861\n",
       "2    232924\n",
       "3    148261\n",
       "4    117761\n",
       "1     83705\n",
       "Name: CLUSTER_05, dtype: int64"
      ]
     },
     "execution_count": 29,
     "metadata": {},
     "output_type": "execute_result"
    }
   ],
   "source": [
    "df_copy_pca.CLUSTER_05.value_counts()"
   ]
  },
  {
   "cell_type": "code",
   "execution_count": 32,
   "metadata": {},
   "outputs": [
    {
     "data": {
      "image/png": "[encoded data removed]",
      "text/plain": [
       "<Figure size 432x288 with 1 Axes>"
      ]
     },
     "metadata": {},
     "output_type": "display_data"
    }
   ],
   "source": [
    "import matplotlib.cm as cmap\n",
    "for k in range(1, clusters.n_clusters+1):\n",
    "    plt.scatter(df_copy_pca[0][df_copy_pca.CLUSTER_05 == k-1], df_copy_pca[1][df_copy_pca.CLUSTER_05 == k-1],\n",
    "                cmap=cmap,\n",
    "                label=str(k-1),\n",
    "                marker='o')\n",
    "\n",
    "plt.scatter(clusters.cluster_centers_[:,0],\n",
    "          clusters.cluster_centers_[:,1],\n",
    "          c='red',\n",
    "          marker='*',\n",
    "          label='centroides')\n",
    "\n",
    "plt.legend()\n",
    "plt.grid()\n",
    "plt.show()"
   ]
  },
  {
   "cell_type": "code",
   "execution_count": 33,
   "metadata": {},
   "outputs": [
    {
     "data": {
      "image/png": "[encoded data removed]",
      "text/plain": [
       "<Figure size 432x288 with 1 Axes>"
      ]
     },
     "metadata": {},
     "output_type": "display_data"
    }
   ],
   "source": [
    "plt.scatter(df_copy_pca[0][df_copy_pca.CLUSTER_05 == 0], df_copy_pca[1][df_copy_pca.CLUSTER_05 == 0],\n",
    "                cmap=cmap,\n",
    "                label=str(0),\n",
    "                marker='o')\n",
    "\n",
    "plt.scatter(clusters.cluster_centers_[:,0],\n",
    "          clusters.cluster_centers_[:,1],\n",
    "          c='red',\n",
    "          marker='*',\n",
    "          label='centroides')\n",
    "\n",
    "plt.legend()\n",
    "plt.grid()\n",
    "plt.show()"
   ]
  },
  {
   "cell_type": "code",
   "execution_count": 35,
   "metadata": {},
   "outputs": [
    {
     "data": {
      "image/png": "[encoded data removed]",
      "text/plain": [
       "<Figure size 432x288 with 1 Axes>"
      ]
     },
     "metadata": {},
     "output_type": "display_data"
    }
   ],
   "source": [
    "plt.scatter(df_copy_pca[0][df_copy_pca.CLUSTER_05 == 2], df_copy_pca[1][df_copy_pca.CLUSTER_05 == 2],\n",
    "                cmap=cmap,\n",
    "                label=str(0),\n",
    "                marker='o')\n",
    "\n",
    "plt.scatter(clusters.cluster_centers_[:,0],\n",
    "          clusters.cluster_centers_[:,1],\n",
    "          c='red',\n",
    "          marker='*',\n",
    "          label='centroides')\n",
    "\n",
    "plt.legend()\n",
    "plt.grid()\n",
    "plt.show()"
   ]
  },
  {
   "cell_type": "code",
   "execution_count": 36,
   "metadata": {},
   "outputs": [
    {
     "data": {
      "image/png": "[encoded data removed]",
      "text/plain": [
       "<Figure size 432x288 with 1 Axes>"
      ]
     },
     "metadata": {},
     "output_type": "display_data"
    }
   ],
   "source": [
    "plt.scatter(df_copy_pca[0][df_copy_pca.CLUSTER_05 == 3], df_copy_pca[1][df_copy_pca.CLUSTER_05 == 3],\n",
    "                cmap=cmap,\n",
    "                label=str(0),\n",
    "                marker='o')\n",
    "\n",
    "plt.scatter(clusters.cluster_centers_[:,0],\n",
    "          clusters.cluster_centers_[:,1],\n",
    "          c='red',\n",
    "          marker='*',\n",
    "          label='centroides')\n",
    "\n",
    "plt.legend()\n",
    "plt.grid()\n",
    "plt.show()"
   ]
  },
  {
   "cell_type": "code",
   "execution_count": 37,
   "metadata": {
    "scrolled": true
   },
   "outputs": [
    {
     "data": {
      "image/png": "[encoded data removed]",
      "text/plain": [
       "<Figure size 432x288 with 1 Axes>"
      ]
     },
     "metadata": {},
     "output_type": "display_data"
    }
   ],
   "source": [
    "plt.scatter(df_copy_pca[0][df_copy_pca.CLUSTER_05 == 4], df_copy_pca[1][df_copy_pca.CLUSTER_05 == 4],\n",
    "                cmap=cmap,\n",
    "                label=str(0),\n",
    "                marker='o')\n",
    "\n",
    "plt.scatter(clusters.cluster_centers_[:,0],\n",
    "          clusters.cluster_centers_[:,1],\n",
    "          c='red',\n",
    "          marker='*',\n",
    "          label='centroides')\n",
    "\n",
    "plt.legend()\n",
    "plt.grid()\n",
    "plt.show()"
   ]
  },
  {
   "cell_type": "markdown",
   "metadata": {},
   "source": [
    "### 10%"
   ]
  },
  {
   "cell_type": "code",
   "execution_count": 44,
   "metadata": {},
   "outputs": [
    {
     "data": {
      "text/html": [
       "<div>\n",
       "<style scoped>\n",
       "    .dataframe tbody tr th:only-of-type {\n",
       "        vertical-align: middle;\n",
       "    }\n",
       "\n",
       "    .dataframe tbody tr th {\n",
       "        vertical-align: top;\n",
       "    }\n",
       "\n",
       "    .dataframe thead th {\n",
       "        text-align: right;\n",
       "    }\n",
       "</style>\n",
       "<table border=\"1\" class=\"dataframe\">\n",
       "  <thead>\n",
       "    <tr style=\"text-align: right;\">\n",
       "      <th></th>\n",
       "      <th>0</th>\n",
       "      <th>1</th>\n",
       "      <th>CLUSTER_05</th>\n",
       "    </tr>\n",
       "  </thead>\n",
       "  <tbody>\n",
       "    <tr>\n",
       "      <th>367372</th>\n",
       "      <td>-0.138256</td>\n",
       "      <td>0.151051</td>\n",
       "      <td>3</td>\n",
       "    </tr>\n",
       "    <tr>\n",
       "      <th>784626</th>\n",
       "      <td>-0.155697</td>\n",
       "      <td>-0.024928</td>\n",
       "      <td>0</td>\n",
       "    </tr>\n",
       "    <tr>\n",
       "      <th>637711</th>\n",
       "      <td>-0.155913</td>\n",
       "      <td>-0.021322</td>\n",
       "      <td>0</td>\n",
       "    </tr>\n",
       "    <tr>\n",
       "      <th>151828</th>\n",
       "      <td>-0.148407</td>\n",
       "      <td>0.061194</td>\n",
       "      <td>0</td>\n",
       "    </tr>\n",
       "    <tr>\n",
       "      <th>1570310</th>\n",
       "      <td>-0.155468</td>\n",
       "      <td>-0.017788</td>\n",
       "      <td>0</td>\n",
       "    </tr>\n",
       "  </tbody>\n",
       "</table>\n",
       "</div>"
      ],
      "text/plain": [
       "                0         1  CLUSTER_05\n",
       "367372  -0.138256  0.151051           3\n",
       "784626  -0.155697 -0.024928           0\n",
       "637711  -0.155913 -0.021322           0\n",
       "151828  -0.148407  0.061194           0\n",
       "1570310 -0.155468 -0.017788           0"
      ]
     },
     "execution_count": 44,
     "metadata": {},
     "output_type": "execute_result"
    }
   ],
   "source": [
    "df_sample = df_copy_pca.sample(frac=0.1, random_state=1)\n",
    "df_sample.head()"
   ]
  },
  {
   "cell_type": "code",
   "execution_count": 45,
   "metadata": {},
   "outputs": [
    {
     "data": {
      "text/plain": [
       "(157951, 3)"
      ]
     },
     "execution_count": 45,
     "metadata": {},
     "output_type": "execute_result"
    }
   ],
   "source": [
    "df_sample.shape"
   ]
  },
  {
   "cell_type": "code",
   "execution_count": 49,
   "metadata": {},
   "outputs": [
    {
     "data": {
      "text/html": [
       "<div>\n",
       "<style scoped>\n",
       "    .dataframe tbody tr th:only-of-type {\n",
       "        vertical-align: middle;\n",
       "    }\n",
       "\n",
       "    .dataframe tbody tr th {\n",
       "        vertical-align: top;\n",
       "    }\n",
       "\n",
       "    .dataframe thead th {\n",
       "        text-align: right;\n",
       "    }\n",
       "</style>\n",
       "<table border=\"1\" class=\"dataframe\">\n",
       "  <thead>\n",
       "    <tr style=\"text-align: right;\">\n",
       "      <th></th>\n",
       "      <th>0</th>\n",
       "      <th>1</th>\n",
       "    </tr>\n",
       "  </thead>\n",
       "  <tbody>\n",
       "    <tr>\n",
       "      <th>367372</th>\n",
       "      <td>-0.138256</td>\n",
       "      <td>0.151051</td>\n",
       "    </tr>\n",
       "    <tr>\n",
       "      <th>784626</th>\n",
       "      <td>-0.155697</td>\n",
       "      <td>-0.024928</td>\n",
       "    </tr>\n",
       "    <tr>\n",
       "      <th>637711</th>\n",
       "      <td>-0.155913</td>\n",
       "      <td>-0.021322</td>\n",
       "    </tr>\n",
       "    <tr>\n",
       "      <th>151828</th>\n",
       "      <td>-0.148407</td>\n",
       "      <td>0.061194</td>\n",
       "    </tr>\n",
       "    <tr>\n",
       "      <th>1570310</th>\n",
       "      <td>-0.155468</td>\n",
       "      <td>-0.017788</td>\n",
       "    </tr>\n",
       "  </tbody>\n",
       "</table>\n",
       "</div>"
      ],
      "text/plain": [
       "                0         1\n",
       "367372  -0.138256  0.151051\n",
       "784626  -0.155697 -0.024928\n",
       "637711  -0.155913 -0.021322\n",
       "151828  -0.148407  0.061194\n",
       "1570310 -0.155468 -0.017788"
      ]
     },
     "execution_count": 49,
     "metadata": {},
     "output_type": "execute_result"
    }
   ],
   "source": [
    "df_sample[[0, 1]].head()"
   ]
  },
  {
   "cell_type": "code",
   "execution_count": 50,
   "metadata": {},
   "outputs": [],
   "source": [
    "from sklearn.cluster import KMeans\n",
    "\n",
    "distortions = []\n",
    "for i in range(1,50):\n",
    "    km = KMeans(n_clusters=i,\n",
    "                init='k-means++',\n",
    "                n_init=10,\n",
    "                max_iter=300,\n",
    "                random_state=0)\n",
    "    km.fit(df_sample[[0, 1]])\n",
    "    distortions.append(km.inertia_)"
   ]
  },
  {
   "cell_type": "code",
   "execution_count": 51,
   "metadata": {},
   "outputs": [
    {
     "data": {
      "image/png": "[encoded data removed]",
      "text/plain": [
       "<Figure size 432x288 with 1 Axes>"
      ]
     },
     "metadata": {},
     "output_type": "display_data"
    }
   ],
   "source": [
    "plt.plot(range(1,50), distortions, marker='o')\n",
    "plt.xlabel('Número de clusters')\n",
    "plt.ylabel('Distorsión')\n",
    "plt.title('PCA > Norm > K-means')\n",
    "plt.show()"
   ]
  },
  {
   "cell_type": "code",
   "execution_count": 52,
   "metadata": {
    "scrolled": true
   },
   "outputs": [
    {
     "data": {
      "text/plain": [
       "[(13773, 1),\n",
       " (4388, 2),\n",
       " (2363, 3),\n",
       " (1397, 4),\n",
       " (990, 5),\n",
       " (686, 6),\n",
       " (520, 7),\n",
       " (414, 8),\n",
       " (352, 9),\n",
       " (299, 10),\n",
       " (259, 11),\n",
       " (232, 12),\n",
       " (205, 13),\n",
       " (188, 14),\n",
       " (166, 15),\n",
       " (147, 16),\n",
       " (133, 17),\n",
       " (122, 18),\n",
       " (113, 19),\n",
       " (103, 20),\n",
       " (96, 21),\n",
       " (87, 22),\n",
       " (81, 23),\n",
       " (77, 24),\n",
       " (73, 25),\n",
       " (69, 26),\n",
       " (64, 27),\n",
       " (62, 28),\n",
       " (58, 29),\n",
       " (55, 30),\n",
       " (52, 31),\n",
       " (50, 32),\n",
       " (48, 33),\n",
       " (45, 34),\n",
       " (43, 35),\n",
       " (41, 36),\n",
       " (39, 37),\n",
       " (38, 38),\n",
       " (35, 39),\n",
       " (34, 40),\n",
       " (32, 41),\n",
       " (31, 42),\n",
       " (30, 43),\n",
       " (29, 44),\n",
       " (27, 45),\n",
       " (27, 46),\n",
       " (25, 47),\n",
       " (25, 48)]"
      ]
     },
     "execution_count": 52,
     "metadata": {},
     "output_type": "execute_result"
    }
   ],
   "source": [
    "import numpy as np\n",
    "list(zip((np.round(distortions)).astype('int64'), range(1, len(distortions))))"
   ]
  },
  {
   "cell_type": "code",
   "execution_count": 53,
   "metadata": {},
   "outputs": [],
   "source": [
    "from sklearn.cluster import MeanShift, estimate_bandwidth\n",
    "\n",
    "bandwidth = estimate_bandwidth(df_sample[[0, 1]], quantile=0.3)\n",
    "\n",
    "ms = MeanShift(bandwidth=bandwidth, bin_seeding=True)\n",
    "ms.fit(df_sample[[0, 1]])\n",
    "labels = ms.labels_\n",
    "cluster_centers = ms.cluster_centers_\n",
    "\n",
    "labels_unique = np.unique(labels)\n",
    "n_clusters_ = len(labels_unique)"
   ]
  },
  {
   "cell_type": "code",
   "execution_count": 54,
   "metadata": {},
   "outputs": [
    {
     "name": "stdout",
     "output_type": "stream",
     "text": [
      "Número de clusters estimado con 10%  6\n"
     ]
    }
   ],
   "source": [
    "print(\"Número de clusters estimado con 10% \", n_clusters_)"
   ]
  },
  {
   "cell_type": "code",
   "execution_count": 55,
   "metadata": {},
   "outputs": [],
   "source": [
    "clusters = KMeans(n_clusters=n_clusters_,\n",
    "                    init='k-means++', \n",
    "                    max_iter=300,\n",
    "                    tol=1e-04,\n",
    "                    n_init=10,\n",
    "                    random_state=0)"
   ]
  },
  {
   "cell_type": "code",
   "execution_count": 56,
   "metadata": {},
   "outputs": [
    {
     "data": {
      "text/plain": [
       "array([5, 4, 3, ..., 0, 0, 0])"
      ]
     },
     "execution_count": 56,
     "metadata": {},
     "output_type": "execute_result"
    }
   ],
   "source": [
    "y_km = clusters.fit_predict(df_copy_pca)\n",
    "y_km"
   ]
  },
  {
   "cell_type": "code",
   "execution_count": 57,
   "metadata": {},
   "outputs": [
    {
     "data": {
      "text/plain": [
       "1579512"
      ]
     },
     "execution_count": 57,
     "metadata": {},
     "output_type": "execute_result"
    }
   ],
   "source": [
    "len(y_km)"
   ]
  },
  {
   "cell_type": "code",
   "execution_count": 58,
   "metadata": {},
   "outputs": [
    {
     "data": {
      "text/plain": [
       "(1579512, 3)"
      ]
     },
     "execution_count": 58,
     "metadata": {},
     "output_type": "execute_result"
    }
   ],
   "source": [
    "df_copy_pca.shape"
   ]
  },
  {
   "cell_type": "code",
   "execution_count": 59,
   "metadata": {},
   "outputs": [
    {
     "data": {
      "text/html": [
       "<div>\n",
       "<style scoped>\n",
       "    .dataframe tbody tr th:only-of-type {\n",
       "        vertical-align: middle;\n",
       "    }\n",
       "\n",
       "    .dataframe tbody tr th {\n",
       "        vertical-align: top;\n",
       "    }\n",
       "\n",
       "    .dataframe thead th {\n",
       "        text-align: right;\n",
       "    }\n",
       "</style>\n",
       "<table border=\"1\" class=\"dataframe\">\n",
       "  <thead>\n",
       "    <tr style=\"text-align: right;\">\n",
       "      <th></th>\n",
       "      <th>0</th>\n",
       "      <th>1</th>\n",
       "      <th>CLUSTER_05</th>\n",
       "      <th>CLUSTER_10</th>\n",
       "    </tr>\n",
       "  </thead>\n",
       "  <tbody>\n",
       "    <tr>\n",
       "      <th>0</th>\n",
       "      <td>-0.132329</td>\n",
       "      <td>0.185789</td>\n",
       "      <td>3</td>\n",
       "      <td>5</td>\n",
       "    </tr>\n",
       "    <tr>\n",
       "      <th>1</th>\n",
       "      <td>0.618228</td>\n",
       "      <td>0.068304</td>\n",
       "      <td>4</td>\n",
       "      <td>4</td>\n",
       "    </tr>\n",
       "    <tr>\n",
       "      <th>2</th>\n",
       "      <td>0.220055</td>\n",
       "      <td>-0.077631</td>\n",
       "      <td>2</td>\n",
       "      <td>3</td>\n",
       "    </tr>\n",
       "    <tr>\n",
       "      <th>3</th>\n",
       "      <td>-0.131283</td>\n",
       "      <td>0.196622</td>\n",
       "      <td>3</td>\n",
       "      <td>5</td>\n",
       "    </tr>\n",
       "    <tr>\n",
       "      <th>4</th>\n",
       "      <td>-0.155685</td>\n",
       "      <td>-0.025112</td>\n",
       "      <td>0</td>\n",
       "      <td>0</td>\n",
       "    </tr>\n",
       "  </tbody>\n",
       "</table>\n",
       "</div>"
      ],
      "text/plain": [
       "          0         1  CLUSTER_05  CLUSTER_10\n",
       "0 -0.132329  0.185789           3           5\n",
       "1  0.618228  0.068304           4           4\n",
       "2  0.220055 -0.077631           2           3\n",
       "3 -0.131283  0.196622           3           5\n",
       "4 -0.155685 -0.025112           0           0"
      ]
     },
     "execution_count": 59,
     "metadata": {},
     "output_type": "execute_result"
    }
   ],
   "source": [
    "df_copy_pca['CLUSTER_10'] = y_km\n",
    "df_copy_pca.head()"
   ]
  },
  {
   "cell_type": "code",
   "execution_count": 60,
   "metadata": {},
   "outputs": [
    {
     "data": {
      "text/plain": [
       "array([5, 4, 3, 0, 1, 2], dtype=int64)"
      ]
     },
     "execution_count": 60,
     "metadata": {},
     "output_type": "execute_result"
    }
   ],
   "source": [
    "df_copy_pca.CLUSTER_10.unique()"
   ]
  },
  {
   "cell_type": "code",
   "execution_count": 61,
   "metadata": {},
   "outputs": [
    {
     "data": {
      "text/plain": [
       "6"
      ]
     },
     "execution_count": 61,
     "metadata": {},
     "output_type": "execute_result"
    }
   ],
   "source": [
    "clusters.n_clusters"
   ]
  },
  {
   "cell_type": "code",
   "execution_count": 62,
   "metadata": {},
   "outputs": [
    {
     "data": {
      "text/plain": [
       "0    996861\n",
       "3    232924\n",
       "5    120252\n",
       "4    117761\n",
       "2     83705\n",
       "1     28009\n",
       "Name: CLUSTER_10, dtype: int64"
      ]
     },
     "execution_count": 62,
     "metadata": {},
     "output_type": "execute_result"
    }
   ],
   "source": [
    "df_copy_pca.CLUSTER_10.value_counts()"
   ]
  },
  {
   "cell_type": "code",
   "execution_count": 63,
   "metadata": {
    "scrolled": true
   },
   "outputs": [
    {
     "data": {
      "image/png": "[encoded data removed]",
      "text/plain": [
       "<Figure size 432x288 with 1 Axes>"
      ]
     },
     "metadata": {},
     "output_type": "display_data"
    }
   ],
   "source": [
    "import matplotlib.cm as cmap\n",
    "for k in range(1, clusters.n_clusters+1):\n",
    "    plt.scatter(df_copy_pca[0][df_copy_pca.CLUSTER_10 == k-1], df_copy_pca[1][df_copy_pca.CLUSTER_10 == k-1],\n",
    "                cmap=cmap,\n",
    "                label=str(k-1),\n",
    "                marker='o')\n",
    "\n",
    "plt.scatter(clusters.cluster_centers_[:,0],\n",
    "          clusters.cluster_centers_[:,1],\n",
    "          c='red',\n",
    "          marker='*',\n",
    "          label='centroides')\n",
    "\n",
    "plt.legend()\n",
    "plt.grid()\n",
    "plt.show()"
   ]
  },
  {
   "cell_type": "markdown",
   "metadata": {},
   "source": [
    "### 15%"
   ]
  },
  {
   "cell_type": "code",
   "execution_count": 64,
   "metadata": {},
   "outputs": [
    {
     "data": {
      "text/html": [
       "<div>\n",
       "<style scoped>\n",
       "    .dataframe tbody tr th:only-of-type {\n",
       "        vertical-align: middle;\n",
       "    }\n",
       "\n",
       "    .dataframe tbody tr th {\n",
       "        vertical-align: top;\n",
       "    }\n",
       "\n",
       "    .dataframe thead th {\n",
       "        text-align: right;\n",
       "    }\n",
       "</style>\n",
       "<table border=\"1\" class=\"dataframe\">\n",
       "  <thead>\n",
       "    <tr style=\"text-align: right;\">\n",
       "      <th></th>\n",
       "      <th>0</th>\n",
       "      <th>1</th>\n",
       "      <th>CLUSTER_05</th>\n",
       "      <th>CLUSTER_10</th>\n",
       "    </tr>\n",
       "  </thead>\n",
       "  <tbody>\n",
       "    <tr>\n",
       "      <th>367372</th>\n",
       "      <td>-0.138256</td>\n",
       "      <td>0.151051</td>\n",
       "      <td>3</td>\n",
       "      <td>5</td>\n",
       "    </tr>\n",
       "    <tr>\n",
       "      <th>784626</th>\n",
       "      <td>-0.155697</td>\n",
       "      <td>-0.024928</td>\n",
       "      <td>0</td>\n",
       "      <td>0</td>\n",
       "    </tr>\n",
       "    <tr>\n",
       "      <th>637711</th>\n",
       "      <td>-0.155913</td>\n",
       "      <td>-0.021322</td>\n",
       "      <td>0</td>\n",
       "      <td>0</td>\n",
       "    </tr>\n",
       "    <tr>\n",
       "      <th>151828</th>\n",
       "      <td>-0.148407</td>\n",
       "      <td>0.061194</td>\n",
       "      <td>0</td>\n",
       "      <td>0</td>\n",
       "    </tr>\n",
       "    <tr>\n",
       "      <th>1570310</th>\n",
       "      <td>-0.155468</td>\n",
       "      <td>-0.017788</td>\n",
       "      <td>0</td>\n",
       "      <td>0</td>\n",
       "    </tr>\n",
       "  </tbody>\n",
       "</table>\n",
       "</div>"
      ],
      "text/plain": [
       "                0         1  CLUSTER_05  CLUSTER_10\n",
       "367372  -0.138256  0.151051           3           5\n",
       "784626  -0.155697 -0.024928           0           0\n",
       "637711  -0.155913 -0.021322           0           0\n",
       "151828  -0.148407  0.061194           0           0\n",
       "1570310 -0.155468 -0.017788           0           0"
      ]
     },
     "execution_count": 64,
     "metadata": {},
     "output_type": "execute_result"
    }
   ],
   "source": [
    "df_sample = df_copy_pca.sample(frac=0.15, random_state=1)\n",
    "df_sample.head()"
   ]
  },
  {
   "cell_type": "code",
   "execution_count": 65,
   "metadata": {},
   "outputs": [
    {
     "data": {
      "text/plain": [
       "(236927, 4)"
      ]
     },
     "execution_count": 65,
     "metadata": {},
     "output_type": "execute_result"
    }
   ],
   "source": [
    "df_sample.shape"
   ]
  },
  {
   "cell_type": "code",
   "execution_count": 66,
   "metadata": {},
   "outputs": [
    {
     "data": {
      "text/html": [
       "<div>\n",
       "<style scoped>\n",
       "    .dataframe tbody tr th:only-of-type {\n",
       "        vertical-align: middle;\n",
       "    }\n",
       "\n",
       "    .dataframe tbody tr th {\n",
       "        vertical-align: top;\n",
       "    }\n",
       "\n",
       "    .dataframe thead th {\n",
       "        text-align: right;\n",
       "    }\n",
       "</style>\n",
       "<table border=\"1\" class=\"dataframe\">\n",
       "  <thead>\n",
       "    <tr style=\"text-align: right;\">\n",
       "      <th></th>\n",
       "      <th>0</th>\n",
       "      <th>1</th>\n",
       "    </tr>\n",
       "  </thead>\n",
       "  <tbody>\n",
       "    <tr>\n",
       "      <th>367372</th>\n",
       "      <td>-0.138256</td>\n",
       "      <td>0.151051</td>\n",
       "    </tr>\n",
       "    <tr>\n",
       "      <th>784626</th>\n",
       "      <td>-0.155697</td>\n",
       "      <td>-0.024928</td>\n",
       "    </tr>\n",
       "    <tr>\n",
       "      <th>637711</th>\n",
       "      <td>-0.155913</td>\n",
       "      <td>-0.021322</td>\n",
       "    </tr>\n",
       "    <tr>\n",
       "      <th>151828</th>\n",
       "      <td>-0.148407</td>\n",
       "      <td>0.061194</td>\n",
       "    </tr>\n",
       "    <tr>\n",
       "      <th>1570310</th>\n",
       "      <td>-0.155468</td>\n",
       "      <td>-0.017788</td>\n",
       "    </tr>\n",
       "  </tbody>\n",
       "</table>\n",
       "</div>"
      ],
      "text/plain": [
       "                0         1\n",
       "367372  -0.138256  0.151051\n",
       "784626  -0.155697 -0.024928\n",
       "637711  -0.155913 -0.021322\n",
       "151828  -0.148407  0.061194\n",
       "1570310 -0.155468 -0.017788"
      ]
     },
     "execution_count": 66,
     "metadata": {},
     "output_type": "execute_result"
    }
   ],
   "source": [
    "df_sample[[0, 1]].head()"
   ]
  },
  {
   "cell_type": "code",
   "execution_count": 68,
   "metadata": {},
   "outputs": [],
   "source": [
    "from sklearn.cluster import KMeans\n",
    "\n",
    "distortions = []\n",
    "for i in range(1,20):\n",
    "    km = KMeans(n_clusters=i,\n",
    "                init='k-means++',\n",
    "                n_init=10,\n",
    "                max_iter=300,\n",
    "                random_state=0)\n",
    "    km.fit(df_sample[[0, 1]])\n",
    "    distortions.append(km.inertia_)"
   ]
  },
  {
   "cell_type": "code",
   "execution_count": 69,
   "metadata": {},
   "outputs": [
    {
     "data": {
      "image/png": "[encoded data removed]",
      "text/plain": [
       "<Figure size 432x288 with 1 Axes>"
      ]
     },
     "metadata": {},
     "output_type": "display_data"
    }
   ],
   "source": [
    "plt.plot(range(1,20), distortions, marker='o')\n",
    "plt.xlabel('Número de clusters')\n",
    "plt.ylabel('Distorsión')\n",
    "plt.title('PCA > Norm > K-means')\n",
    "plt.show()"
   ]
  },
  {
   "cell_type": "code",
   "execution_count": 70,
   "metadata": {
    "scrolled": true
   },
   "outputs": [
    {
     "data": {
      "text/plain": [
       "[(20646, 1),\n",
       " (6566, 2),\n",
       " (3542, 3),\n",
       " (2097, 4),\n",
       " (1487, 5),\n",
       " (1033, 6),\n",
       " (774, 7),\n",
       " (625, 8),\n",
       " (534, 9),\n",
       " (448, 10),\n",
       " (388, 11),\n",
       " (345, 12),\n",
       " (307, 13),\n",
       " (278, 14),\n",
       " (248, 15),\n",
       " (225, 16),\n",
       " (201, 17),\n",
       " (183, 18)]"
      ]
     },
     "execution_count": 70,
     "metadata": {},
     "output_type": "execute_result"
    }
   ],
   "source": [
    "import numpy as np\n",
    "list(zip((np.round(distortions)).astype('int64'), range(1, len(distortions))))"
   ]
  },
  {
   "cell_type": "code",
   "execution_count": 71,
   "metadata": {},
   "outputs": [],
   "source": [
    "from sklearn.cluster import MeanShift, estimate_bandwidth\n",
    "\n",
    "bandwidth = estimate_bandwidth(df_sample[[0, 1]], quantile=0.3)\n",
    "\n",
    "ms = MeanShift(bandwidth=bandwidth, bin_seeding=True)\n",
    "ms.fit(df_sample[[0, 1]])\n",
    "labels = ms.labels_\n",
    "cluster_centers = ms.cluster_centers_\n",
    "\n",
    "labels_unique = np.unique(labels)\n",
    "n_clusters_ = len(labels_unique)"
   ]
  },
  {
   "cell_type": "code",
   "execution_count": 72,
   "metadata": {},
   "outputs": [
    {
     "name": "stdout",
     "output_type": "stream",
     "text": [
      "Número de clusters estimado con 15%  6\n"
     ]
    }
   ],
   "source": [
    "print(\"Número de clusters estimado con 15% \", n_clusters_)"
   ]
  },
  {
   "cell_type": "code",
   "execution_count": 73,
   "metadata": {},
   "outputs": [],
   "source": [
    "clusters = KMeans(n_clusters=n_clusters_,\n",
    "                    init='k-means++', \n",
    "                    max_iter=300,\n",
    "                    tol=1e-04,\n",
    "                    n_init=10,\n",
    "                    random_state=0)"
   ]
  },
  {
   "cell_type": "code",
   "execution_count": 78,
   "metadata": {},
   "outputs": [
    {
     "data": {
      "text/plain": [
       "array([5, 0, 4, ..., 1, 1, 1])"
      ]
     },
     "execution_count": 78,
     "metadata": {},
     "output_type": "execute_result"
    }
   ],
   "source": [
    "y_km = clusters.fit_predict(df_copy_pca[[0, 1]])\n",
    "y_km"
   ]
  },
  {
   "cell_type": "code",
   "execution_count": 79,
   "metadata": {},
   "outputs": [
    {
     "data": {
      "text/plain": [
       "1579512"
      ]
     },
     "execution_count": 79,
     "metadata": {},
     "output_type": "execute_result"
    }
   ],
   "source": [
    "len(y_km)"
   ]
  },
  {
   "cell_type": "code",
   "execution_count": 80,
   "metadata": {},
   "outputs": [
    {
     "data": {
      "text/plain": [
       "(1579512, 4)"
      ]
     },
     "execution_count": 80,
     "metadata": {},
     "output_type": "execute_result"
    }
   ],
   "source": [
    "df_copy_pca.shape"
   ]
  },
  {
   "cell_type": "code",
   "execution_count": 81,
   "metadata": {},
   "outputs": [
    {
     "data": {
      "text/html": [
       "<div>\n",
       "<style scoped>\n",
       "    .dataframe tbody tr th:only-of-type {\n",
       "        vertical-align: middle;\n",
       "    }\n",
       "\n",
       "    .dataframe tbody tr th {\n",
       "        vertical-align: top;\n",
       "    }\n",
       "\n",
       "    .dataframe thead th {\n",
       "        text-align: right;\n",
       "    }\n",
       "</style>\n",
       "<table border=\"1\" class=\"dataframe\">\n",
       "  <thead>\n",
       "    <tr style=\"text-align: right;\">\n",
       "      <th></th>\n",
       "      <th>0</th>\n",
       "      <th>1</th>\n",
       "      <th>CLUSTER_05</th>\n",
       "      <th>CLUSTER_10</th>\n",
       "      <th>CLUSTER_15</th>\n",
       "    </tr>\n",
       "  </thead>\n",
       "  <tbody>\n",
       "    <tr>\n",
       "      <th>0</th>\n",
       "      <td>-0.132329</td>\n",
       "      <td>0.185789</td>\n",
       "      <td>3</td>\n",
       "      <td>5</td>\n",
       "      <td>5</td>\n",
       "    </tr>\n",
       "    <tr>\n",
       "      <th>1</th>\n",
       "      <td>0.618228</td>\n",
       "      <td>0.068304</td>\n",
       "      <td>4</td>\n",
       "      <td>4</td>\n",
       "      <td>0</td>\n",
       "    </tr>\n",
       "    <tr>\n",
       "      <th>2</th>\n",
       "      <td>0.220055</td>\n",
       "      <td>-0.077631</td>\n",
       "      <td>2</td>\n",
       "      <td>3</td>\n",
       "      <td>4</td>\n",
       "    </tr>\n",
       "    <tr>\n",
       "      <th>3</th>\n",
       "      <td>-0.131283</td>\n",
       "      <td>0.196622</td>\n",
       "      <td>3</td>\n",
       "      <td>5</td>\n",
       "      <td>5</td>\n",
       "    </tr>\n",
       "    <tr>\n",
       "      <th>4</th>\n",
       "      <td>-0.155685</td>\n",
       "      <td>-0.025112</td>\n",
       "      <td>0</td>\n",
       "      <td>0</td>\n",
       "      <td>1</td>\n",
       "    </tr>\n",
       "  </tbody>\n",
       "</table>\n",
       "</div>"
      ],
      "text/plain": [
       "          0         1  CLUSTER_05  CLUSTER_10  CLUSTER_15\n",
       "0 -0.132329  0.185789           3           5           5\n",
       "1  0.618228  0.068304           4           4           0\n",
       "2  0.220055 -0.077631           2           3           4\n",
       "3 -0.131283  0.196622           3           5           5\n",
       "4 -0.155685 -0.025112           0           0           1"
      ]
     },
     "execution_count": 81,
     "metadata": {},
     "output_type": "execute_result"
    }
   ],
   "source": [
    "df_copy_pca['CLUSTER_15'] = y_km\n",
    "df_copy_pca.head()"
   ]
  },
  {
   "cell_type": "code",
   "execution_count": 82,
   "metadata": {},
   "outputs": [
    {
     "data": {
      "text/plain": [
       "array([5, 0, 4, 1, 3, 2], dtype=int64)"
      ]
     },
     "execution_count": 82,
     "metadata": {},
     "output_type": "execute_result"
    }
   ],
   "source": [
    "df_copy_pca.CLUSTER_15.unique()"
   ]
  },
  {
   "cell_type": "code",
   "execution_count": 83,
   "metadata": {},
   "outputs": [
    {
     "data": {
      "text/plain": [
       "6"
      ]
     },
     "execution_count": 83,
     "metadata": {},
     "output_type": "execute_result"
    }
   ],
   "source": [
    "clusters.n_clusters"
   ]
  },
  {
   "cell_type": "code",
   "execution_count": 84,
   "metadata": {},
   "outputs": [
    {
     "data": {
      "text/plain": [
       "1    996332\n",
       "4    223556\n",
       "5    120727\n",
       "2    118221\n",
       "0     92239\n",
       "3     28437\n",
       "Name: CLUSTER_15, dtype: int64"
      ]
     },
     "execution_count": 84,
     "metadata": {},
     "output_type": "execute_result"
    }
   ],
   "source": [
    "df_copy_pca.CLUSTER_15.value_counts()"
   ]
  },
  {
   "cell_type": "code",
   "execution_count": 85,
   "metadata": {
    "scrolled": true
   },
   "outputs": [
    {
     "data": {
      "image/png": "[encoded data removed]",
      "text/plain": [
       "<Figure size 432x288 with 1 Axes>"
      ]
     },
     "metadata": {},
     "output_type": "display_data"
    }
   ],
   "source": [
    "import matplotlib.cm as cmap\n",
    "for k in range(1, clusters.n_clusters+1):\n",
    "    plt.scatter(df_copy_pca[0][df_copy_pca.CLUSTER_15 == k-1], df_copy_pca[1][df_copy_pca.CLUSTER_15 == k-1],\n",
    "                cmap=cmap,\n",
    "                label=str(k-1),\n",
    "                marker='o')\n",
    "\n",
    "plt.scatter(clusters.cluster_centers_[:,0],\n",
    "          clusters.cluster_centers_[:,1],\n",
    "          c='red',\n",
    "          marker='*',\n",
    "          label='centroides')\n",
    "\n",
    "plt.legend()\n",
    "plt.grid()\n",
    "plt.show()"
   ]
  },
  {
   "cell_type": "markdown",
   "metadata": {},
   "source": [
    "### 20%"
   ]
  },
  {
   "cell_type": "code",
   "execution_count": 86,
   "metadata": {},
   "outputs": [
    {
     "data": {
      "text/html": [
       "<div>\n",
       "<style scoped>\n",
       "    .dataframe tbody tr th:only-of-type {\n",
       "        vertical-align: middle;\n",
       "    }\n",
       "\n",
       "    .dataframe tbody tr th {\n",
       "        vertical-align: top;\n",
       "    }\n",
       "\n",
       "    .dataframe thead th {\n",
       "        text-align: right;\n",
       "    }\n",
       "</style>\n",
       "<table border=\"1\" class=\"dataframe\">\n",
       "  <thead>\n",
       "    <tr style=\"text-align: right;\">\n",
       "      <th></th>\n",
       "      <th>0</th>\n",
       "      <th>1</th>\n",
       "      <th>CLUSTER_05</th>\n",
       "      <th>CLUSTER_10</th>\n",
       "      <th>CLUSTER_15</th>\n",
       "    </tr>\n",
       "  </thead>\n",
       "  <tbody>\n",
       "    <tr>\n",
       "      <th>367372</th>\n",
       "      <td>-0.138256</td>\n",
       "      <td>0.151051</td>\n",
       "      <td>3</td>\n",
       "      <td>5</td>\n",
       "      <td>5</td>\n",
       "    </tr>\n",
       "    <tr>\n",
       "      <th>784626</th>\n",
       "      <td>-0.155697</td>\n",
       "      <td>-0.024928</td>\n",
       "      <td>0</td>\n",
       "      <td>0</td>\n",
       "      <td>1</td>\n",
       "    </tr>\n",
       "    <tr>\n",
       "      <th>637711</th>\n",
       "      <td>-0.155913</td>\n",
       "      <td>-0.021322</td>\n",
       "      <td>0</td>\n",
       "      <td>0</td>\n",
       "      <td>1</td>\n",
       "    </tr>\n",
       "    <tr>\n",
       "      <th>151828</th>\n",
       "      <td>-0.148407</td>\n",
       "      <td>0.061194</td>\n",
       "      <td>0</td>\n",
       "      <td>0</td>\n",
       "      <td>1</td>\n",
       "    </tr>\n",
       "    <tr>\n",
       "      <th>1570310</th>\n",
       "      <td>-0.155468</td>\n",
       "      <td>-0.017788</td>\n",
       "      <td>0</td>\n",
       "      <td>0</td>\n",
       "      <td>1</td>\n",
       "    </tr>\n",
       "  </tbody>\n",
       "</table>\n",
       "</div>"
      ],
      "text/plain": [
       "                0         1  CLUSTER_05  CLUSTER_10  CLUSTER_15\n",
       "367372  -0.138256  0.151051           3           5           5\n",
       "784626  -0.155697 -0.024928           0           0           1\n",
       "637711  -0.155913 -0.021322           0           0           1\n",
       "151828  -0.148407  0.061194           0           0           1\n",
       "1570310 -0.155468 -0.017788           0           0           1"
      ]
     },
     "execution_count": 86,
     "metadata": {},
     "output_type": "execute_result"
    }
   ],
   "source": [
    "df_sample = df_copy_pca.sample(frac=0.2, random_state=1)\n",
    "df_sample.head()"
   ]
  },
  {
   "cell_type": "code",
   "execution_count": 87,
   "metadata": {},
   "outputs": [
    {
     "data": {
      "text/plain": [
       "(315902, 5)"
      ]
     },
     "execution_count": 87,
     "metadata": {},
     "output_type": "execute_result"
    }
   ],
   "source": [
    "df_sample.shape"
   ]
  },
  {
   "cell_type": "code",
   "execution_count": 88,
   "metadata": {},
   "outputs": [
    {
     "data": {
      "text/html": [
       "<div>\n",
       "<style scoped>\n",
       "    .dataframe tbody tr th:only-of-type {\n",
       "        vertical-align: middle;\n",
       "    }\n",
       "\n",
       "    .dataframe tbody tr th {\n",
       "        vertical-align: top;\n",
       "    }\n",
       "\n",
       "    .dataframe thead th {\n",
       "        text-align: right;\n",
       "    }\n",
       "</style>\n",
       "<table border=\"1\" class=\"dataframe\">\n",
       "  <thead>\n",
       "    <tr style=\"text-align: right;\">\n",
       "      <th></th>\n",
       "      <th>0</th>\n",
       "      <th>1</th>\n",
       "    </tr>\n",
       "  </thead>\n",
       "  <tbody>\n",
       "    <tr>\n",
       "      <th>367372</th>\n",
       "      <td>-0.138256</td>\n",
       "      <td>0.151051</td>\n",
       "    </tr>\n",
       "    <tr>\n",
       "      <th>784626</th>\n",
       "      <td>-0.155697</td>\n",
       "      <td>-0.024928</td>\n",
       "    </tr>\n",
       "    <tr>\n",
       "      <th>637711</th>\n",
       "      <td>-0.155913</td>\n",
       "      <td>-0.021322</td>\n",
       "    </tr>\n",
       "    <tr>\n",
       "      <th>151828</th>\n",
       "      <td>-0.148407</td>\n",
       "      <td>0.061194</td>\n",
       "    </tr>\n",
       "    <tr>\n",
       "      <th>1570310</th>\n",
       "      <td>-0.155468</td>\n",
       "      <td>-0.017788</td>\n",
       "    </tr>\n",
       "  </tbody>\n",
       "</table>\n",
       "</div>"
      ],
      "text/plain": [
       "                0         1\n",
       "367372  -0.138256  0.151051\n",
       "784626  -0.155697 -0.024928\n",
       "637711  -0.155913 -0.021322\n",
       "151828  -0.148407  0.061194\n",
       "1570310 -0.155468 -0.017788"
      ]
     },
     "execution_count": 88,
     "metadata": {},
     "output_type": "execute_result"
    }
   ],
   "source": [
    "df_sample[[0, 1]].head()"
   ]
  },
  {
   "cell_type": "code",
   "execution_count": 89,
   "metadata": {},
   "outputs": [],
   "source": [
    "from sklearn.cluster import KMeans\n",
    "\n",
    "distortions = []\n",
    "for i in range(1,20):\n",
    "    km = KMeans(n_clusters=i,\n",
    "                init='k-means++',\n",
    "                n_init=10,\n",
    "                max_iter=300,\n",
    "                random_state=0)\n",
    "    km.fit(df_sample[[0, 1]])\n",
    "    distortions.append(km.inertia_)"
   ]
  },
  {
   "cell_type": "code",
   "execution_count": 90,
   "metadata": {},
   "outputs": [
    {
     "data": {
      "image/png": "[encoded data removed]",
      "text/plain": [
       "<Figure size 432x288 with 1 Axes>"
      ]
     },
     "metadata": {},
     "output_type": "display_data"
    }
   ],
   "source": [
    "plt.plot(range(1,20), distortions, marker='o')\n",
    "plt.xlabel('Número de clusters')\n",
    "plt.ylabel('Distorsión')\n",
    "plt.title('PCA > Norm > K-means')\n",
    "plt.show()"
   ]
  },
  {
   "cell_type": "code",
   "execution_count": 91,
   "metadata": {
    "scrolled": true
   },
   "outputs": [
    {
     "data": {
      "text/plain": [
       "[(27473, 1),\n",
       " (8729, 2),\n",
       " (4718, 3),\n",
       " (2797, 4),\n",
       " (1983, 5),\n",
       " (1377, 6),\n",
       " (1044, 7),\n",
       " (836, 8),\n",
       " (706, 9),\n",
       " (598, 10),\n",
       " (536, 11),\n",
       " (463, 12),\n",
       " (410, 13),\n",
       " (365, 14),\n",
       " (330, 15),\n",
       " (296, 16),\n",
       " (262, 17),\n",
       " (243, 18)]"
      ]
     },
     "execution_count": 91,
     "metadata": {},
     "output_type": "execute_result"
    }
   ],
   "source": [
    "import numpy as np\n",
    "list(zip((np.round(distortions)).astype('int64'), range(1, len(distortions))))"
   ]
  },
  {
   "cell_type": "code",
   "execution_count": 92,
   "metadata": {},
   "outputs": [],
   "source": [
    "from sklearn.cluster import MeanShift, estimate_bandwidth\n",
    "\n",
    "bandwidth = estimate_bandwidth(df_sample[[0, 1]], quantile=0.3)\n",
    "\n",
    "ms = MeanShift(bandwidth=bandwidth, bin_seeding=True)\n",
    "ms.fit(df_sample[[0, 1]])\n",
    "labels = ms.labels_\n",
    "cluster_centers = ms.cluster_centers_\n",
    "\n",
    "labels_unique = np.unique(labels)\n",
    "n_clusters_ = len(labels_unique)"
   ]
  },
  {
   "cell_type": "code",
   "execution_count": 93,
   "metadata": {},
   "outputs": [
    {
     "name": "stdout",
     "output_type": "stream",
     "text": [
      "Número de clusters estimado con 20%  6\n"
     ]
    }
   ],
   "source": [
    "print(\"Número de clusters estimado con 20% \", n_clusters_)"
   ]
  },
  {
   "cell_type": "code",
   "execution_count": 94,
   "metadata": {},
   "outputs": [],
   "source": [
    "clusters = KMeans(n_clusters=n_clusters_,\n",
    "                    init='k-means++', \n",
    "                    max_iter=300,\n",
    "                    tol=1e-04,\n",
    "                    n_init=10,\n",
    "                    random_state=0)"
   ]
  },
  {
   "cell_type": "code",
   "execution_count": 95,
   "metadata": {},
   "outputs": [
    {
     "data": {
      "text/plain": [
       "array([5, 0, 4, ..., 1, 1, 1])"
      ]
     },
     "execution_count": 95,
     "metadata": {},
     "output_type": "execute_result"
    }
   ],
   "source": [
    "y_km = clusters.fit_predict(df_copy_pca[[0, 1]])\n",
    "y_km"
   ]
  },
  {
   "cell_type": "code",
   "execution_count": 96,
   "metadata": {},
   "outputs": [
    {
     "data": {
      "text/plain": [
       "1579512"
      ]
     },
     "execution_count": 96,
     "metadata": {},
     "output_type": "execute_result"
    }
   ],
   "source": [
    "len(y_km)"
   ]
  },
  {
   "cell_type": "code",
   "execution_count": 97,
   "metadata": {},
   "outputs": [
    {
     "data": {
      "text/plain": [
       "(1579512, 5)"
      ]
     },
     "execution_count": 97,
     "metadata": {},
     "output_type": "execute_result"
    }
   ],
   "source": [
    "df_copy_pca.shape"
   ]
  },
  {
   "cell_type": "code",
   "execution_count": 98,
   "metadata": {},
   "outputs": [
    {
     "data": {
      "text/html": [
       "<div>\n",
       "<style scoped>\n",
       "    .dataframe tbody tr th:only-of-type {\n",
       "        vertical-align: middle;\n",
       "    }\n",
       "\n",
       "    .dataframe tbody tr th {\n",
       "        vertical-align: top;\n",
       "    }\n",
       "\n",
       "    .dataframe thead th {\n",
       "        text-align: right;\n",
       "    }\n",
       "</style>\n",
       "<table border=\"1\" class=\"dataframe\">\n",
       "  <thead>\n",
       "    <tr style=\"text-align: right;\">\n",
       "      <th></th>\n",
       "      <th>0</th>\n",
       "      <th>1</th>\n",
       "      <th>CLUSTER_05</th>\n",
       "      <th>CLUSTER_10</th>\n",
       "      <th>CLUSTER_15</th>\n",
       "      <th>CLUSTER_20</th>\n",
       "    </tr>\n",
       "  </thead>\n",
       "  <tbody>\n",
       "    <tr>\n",
       "      <th>0</th>\n",
       "      <td>-0.132329</td>\n",
       "      <td>0.185789</td>\n",
       "      <td>3</td>\n",
       "      <td>5</td>\n",
       "      <td>5</td>\n",
       "      <td>5</td>\n",
       "    </tr>\n",
       "    <tr>\n",
       "      <th>1</th>\n",
       "      <td>0.618228</td>\n",
       "      <td>0.068304</td>\n",
       "      <td>4</td>\n",
       "      <td>4</td>\n",
       "      <td>0</td>\n",
       "      <td>0</td>\n",
       "    </tr>\n",
       "    <tr>\n",
       "      <th>2</th>\n",
       "      <td>0.220055</td>\n",
       "      <td>-0.077631</td>\n",
       "      <td>2</td>\n",
       "      <td>3</td>\n",
       "      <td>4</td>\n",
       "      <td>4</td>\n",
       "    </tr>\n",
       "    <tr>\n",
       "      <th>3</th>\n",
       "      <td>-0.131283</td>\n",
       "      <td>0.196622</td>\n",
       "      <td>3</td>\n",
       "      <td>5</td>\n",
       "      <td>5</td>\n",
       "      <td>5</td>\n",
       "    </tr>\n",
       "    <tr>\n",
       "      <th>4</th>\n",
       "      <td>-0.155685</td>\n",
       "      <td>-0.025112</td>\n",
       "      <td>0</td>\n",
       "      <td>0</td>\n",
       "      <td>1</td>\n",
       "      <td>1</td>\n",
       "    </tr>\n",
       "  </tbody>\n",
       "</table>\n",
       "</div>"
      ],
      "text/plain": [
       "          0         1  CLUSTER_05  CLUSTER_10  CLUSTER_15  CLUSTER_20\n",
       "0 -0.132329  0.185789           3           5           5           5\n",
       "1  0.618228  0.068304           4           4           0           0\n",
       "2  0.220055 -0.077631           2           3           4           4\n",
       "3 -0.131283  0.196622           3           5           5           5\n",
       "4 -0.155685 -0.025112           0           0           1           1"
      ]
     },
     "execution_count": 98,
     "metadata": {},
     "output_type": "execute_result"
    }
   ],
   "source": [
    "df_copy_pca['CLUSTER_20'] = y_km\n",
    "df_copy_pca.head()"
   ]
  },
  {
   "cell_type": "code",
   "execution_count": 99,
   "metadata": {},
   "outputs": [
    {
     "data": {
      "text/plain": [
       "array([5, 0, 4, 1, 3, 2], dtype=int64)"
      ]
     },
     "execution_count": 99,
     "metadata": {},
     "output_type": "execute_result"
    }
   ],
   "source": [
    "df_copy_pca.CLUSTER_20.unique()"
   ]
  },
  {
   "cell_type": "code",
   "execution_count": 100,
   "metadata": {},
   "outputs": [
    {
     "data": {
      "text/plain": [
       "6"
      ]
     },
     "execution_count": 100,
     "metadata": {},
     "output_type": "execute_result"
    }
   ],
   "source": [
    "clusters.n_clusters"
   ]
  },
  {
   "cell_type": "code",
   "execution_count": 101,
   "metadata": {},
   "outputs": [
    {
     "data": {
      "text/plain": [
       "1    996332\n",
       "4    223556\n",
       "5    120727\n",
       "2    118221\n",
       "0     92239\n",
       "3     28437\n",
       "Name: CLUSTER_20, dtype: int64"
      ]
     },
     "execution_count": 101,
     "metadata": {},
     "output_type": "execute_result"
    }
   ],
   "source": [
    "df_copy_pca.CLUSTER_20.value_counts()"
   ]
  },
  {
   "cell_type": "code",
   "execution_count": 102,
   "metadata": {
    "scrolled": true
   },
   "outputs": [
    {
     "data": {
      "image/png": "[encoded data removed]",
      "text/plain": [
       "<Figure size 432x288 with 1 Axes>"
      ]
     },
     "metadata": {},
     "output_type": "display_data"
    }
   ],
   "source": [
    "import matplotlib.cm as cmap\n",
    "for k in range(1, clusters.n_clusters+1):\n",
    "    plt.scatter(df_copy_pca[0][df_copy_pca.CLUSTER_20 == k-1], df_copy_pca[1][df_copy_pca.CLUSTER_20 == k-1],\n",
    "                cmap=cmap,\n",
    "                label=str(k-1),\n",
    "                marker='o')\n",
    "\n",
    "plt.scatter(clusters.cluster_centers_[:,0],\n",
    "          clusters.cluster_centers_[:,1],\n",
    "          c='red',\n",
    "          marker='*',\n",
    "          label='centroides')\n",
    "\n",
    "plt.legend()\n",
    "plt.grid()\n",
    "plt.show()"
   ]
  },
  {
   "cell_type": "code",
   "execution_count": null,
   "metadata": {},
   "outputs": [],
   "source": [
    "df"
   ]
  }
 ],
 "metadata": {
  "kernelspec": {
   "display_name": "Python 3",
   "language": "python",
   "name": "python3"
  },
  "language_info": {
   "codemirror_mode": {
    "name": "ipython",
    "version": 3
   },
   "file_extension": ".py",
   "mimetype": "text/x-python",
   "name": "python",
   "nbconvert_exporter": "python",
   "pygments_lexer": "ipython3",
   "version": "3.6.5"
  }
 },
 "nbformat": 4,
 "nbformat_minor": 2
}
